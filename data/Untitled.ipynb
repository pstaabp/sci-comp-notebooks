{
 "cells": [
  {
   "cell_type": "code",
   "execution_count": 1,
   "metadata": {},
   "outputs": [
    {
     "data": {
      "text/plain": [
       "100×2 Array{Int64,2}:\n",
       " 5  6\n",
       " 4  2\n",
       " 3  4\n",
       " 1  4\n",
       " 1  6\n",
       " 3  3\n",
       " 3  4\n",
       " 2  3\n",
       " 5  1\n",
       " 5  6\n",
       " 2  1\n",
       " 2  5\n",
       " 4  4\n",
       " ⋮  \n",
       " 1  4\n",
       " 2  3\n",
       " 1  2\n",
       " 5  2\n",
       " 2  4\n",
       " 5  6\n",
       " 4  2\n",
       " 2  1\n",
       " 6  3\n",
       " 6  1\n",
       " 4  4\n",
       " 5  6"
      ]
     },
     "execution_count": 1,
     "metadata": {},
     "output_type": "execute_result"
    }
   ],
   "source": [
    "dice=rand(1:6,100,2)"
   ]
  },
  {
   "cell_type": "code",
   "execution_count": 4,
   "metadata": {},
   "outputs": [
    {
     "data": {
      "text/plain": [
       "f (generic function with 1 method)"
      ]
     },
     "execution_count": 4,
     "metadata": {},
     "output_type": "execute_result"
    }
   ],
   "source": [
    "function f(x)\n",
    "    @show x\n",
    "    x\n",
    "end"
   ]
  },
  {
   "cell_type": "code",
   "execution_count": 5,
   "metadata": {},
   "outputs": [
    {
     "name": "stdout",
     "output_type": "stream",
     "text": [
      "x = 5\n"
     ]
    },
    {
     "ename": "LoadError",
     "evalue": "TypeError: non-boolean (Int64) used in boolean context",
     "output_type": "error",
     "traceback": [
      "TypeError: non-boolean (Int64) used in boolean context",
      "",
      "Stacktrace:",
      " [1] (::Base.var\"#211#212\"{typeof(f)})(::Int64) at ./reduce.jl:843",
      " [2] macro expansion at ./reducedim.jl:270 [inlined]",
      " [3] macro expansion at ./simdloop.jl:77 [inlined]",
      " [4] _mapreducedim!(::Base.var\"#211#212\"{typeof(f)}, ::typeof(Base.add_sum), ::Array{Int64,2}, ::Array{Int64,2}) at ./reducedim.jl:269",
      " [5] mapreducedim!(::Function, ::Function, ::Array{Int64,2}, ::Array{Int64,2}) at ./reducedim.jl:277",
      " [6] _mapreduce_dim at ./reducedim.jl:321 [inlined]",
      " [7] #mapreduce#620 at ./reducedim.jl:310 [inlined]",
      " [8] _count at ./reducedim.jl:393 [inlined]",
      " [9] #count#624 at ./reducedim.jl:390 [inlined]",
      " [10] top-level scope at In[5]:1",
      " [11] include_string(::Function, ::Module, ::String, ::String) at ./loading.jl:1091",
      " [12] execute_code(::String, ::String) at /Users/pstaab/.julia/packages/IJulia/a1SNk/src/execute_request.jl:27",
      " [13] execute_request(::ZMQ.Socket, ::IJulia.Msg) at /Users/pstaab/.julia/packages/IJulia/a1SNk/src/execute_request.jl:86",
      " [14] #invokelatest#1 at ./essentials.jl:710 [inlined]",
      " [15] invokelatest at ./essentials.jl:709 [inlined]",
      " [16] eventloop(::ZMQ.Socket) at /Users/pstaab/.julia/packages/IJulia/a1SNk/src/eventloop.jl:8",
      " [17] (::IJulia.var\"#15#18\")() at ./task.jl:356"
     ]
    }
   ],
   "source": [
    "count(f,dice,dims=2)"
   ]
  },
  {
   "cell_type": "code",
   "execution_count": 1,
   "metadata": {},
   "outputs": [
    {
     "data": {
      "text/plain": [
       "4-element Vector{Int64}:\n",
       "  1\n",
       " 25\n",
       " 49\n",
       "  9"
      ]
     },
     "execution_count": 1,
     "metadata": {},
     "output_type": "execute_result"
    }
   ],
   "source": [
    "map(i -> i^2, [1,5,7,-3])"
   ]
  },
  {
   "cell_type": "code",
   "execution_count": null,
   "metadata": {},
   "outputs": [],
   "source": []
  },
  {
   "cell_type": "code",
   "execution_count": null,
   "metadata": {},
   "outputs": [],
   "source": [
    "map( pt ->    , pg.points)"
   ]
  },
  {
   "cell_type": "code",
   "execution_count": 3,
   "metadata": {},
   "outputs": [],
   "source": [
    "using Plots"
   ]
  },
  {
   "cell_type": "code",
   "execution_count": null,
   "metadata": {},
   "outputs": [],
   "source": [
    "point = Point2D(1,2)"
   ]
  },
  {
   "cell_type": "code",
   "execution_count": 6,
   "metadata": {},
   "outputs": [
    {
     "data": {
      "image/svg+xml": [
       "<?xml version=\"1.0\" encoding=\"utf-8\"?>\n",
       "<svg xmlns=\"http://www.w3.org/2000/svg\" xmlns:xlink=\"http://www.w3.org/1999/xlink\" width=\"600\" height=\"400\" viewBox=\"0 0 2400 1600\">\n",
       "<defs>\n",
       "  <clipPath id=\"clip020\">\n",
       "    <rect x=\"0\" y=\"0\" width=\"2400\" height=\"1600\"/>\n",
       "  </clipPath>\n",
       "</defs>\n",
       "<path clip-path=\"url(#clip020)\" d=\"\n",
       "M0 1600 L2400 1600 L2400 0 L0 0  Z\n",
       "  \" fill=\"#ffffff\" fill-rule=\"evenodd\" fill-opacity=\"1\"/>\n",
       "<defs>\n",
       "  <clipPath id=\"clip021\">\n",
       "    <rect x=\"480\" y=\"0\" width=\"1681\" height=\"1600\"/>\n",
       "  </clipPath>\n",
       "</defs>\n",
       "<path clip-path=\"url(#clip020)\" d=\"\n",
       "M149.191 1486.45 L2352.76 1486.45 L2352.76 47.2441 L149.191 47.2441  Z\n",
       "  \" fill=\"#ffffff\" fill-rule=\"evenodd\" fill-opacity=\"1\"/>\n",
       "<defs>\n",
       "  <clipPath id=\"clip022\">\n",
       "    <rect x=\"149\" y=\"47\" width=\"2205\" height=\"1440\"/>\n",
       "  </clipPath>\n",
       "</defs>\n",
       "<polyline clip-path=\"url(#clip022)\" style=\"stroke:#000000; stroke-linecap:round; stroke-linejoin:round; stroke-width:2; stroke-opacity:0.1; fill:none\" points=\"\n",
       "  436.262,1486.45 436.262,47.2441 \n",
       "  \"/>\n",
       "<polyline clip-path=\"url(#clip022)\" style=\"stroke:#000000; stroke-linecap:round; stroke-linejoin:round; stroke-width:2; stroke-opacity:0.1; fill:none\" points=\"\n",
       "  843.597,1486.45 843.597,47.2441 \n",
       "  \"/>\n",
       "<polyline clip-path=\"url(#clip022)\" style=\"stroke:#000000; stroke-linecap:round; stroke-linejoin:round; stroke-width:2; stroke-opacity:0.1; fill:none\" points=\"\n",
       "  1250.93,1486.45 1250.93,47.2441 \n",
       "  \"/>\n",
       "<polyline clip-path=\"url(#clip022)\" style=\"stroke:#000000; stroke-linecap:round; stroke-linejoin:round; stroke-width:2; stroke-opacity:0.1; fill:none\" points=\"\n",
       "  1658.27,1486.45 1658.27,47.2441 \n",
       "  \"/>\n",
       "<polyline clip-path=\"url(#clip022)\" style=\"stroke:#000000; stroke-linecap:round; stroke-linejoin:round; stroke-width:2; stroke-opacity:0.1; fill:none\" points=\"\n",
       "  2065.6,1486.45 2065.6,47.2441 \n",
       "  \"/>\n",
       "<polyline clip-path=\"url(#clip020)\" style=\"stroke:#000000; stroke-linecap:round; stroke-linejoin:round; stroke-width:4; stroke-opacity:1; fill:none\" points=\"\n",
       "  149.191,1486.45 2352.76,1486.45 \n",
       "  \"/>\n",
       "<polyline clip-path=\"url(#clip020)\" style=\"stroke:#000000; stroke-linecap:round; stroke-linejoin:round; stroke-width:4; stroke-opacity:1; fill:none\" points=\"\n",
       "  436.262,1486.45 436.262,1467.55 \n",
       "  \"/>\n",
       "<polyline clip-path=\"url(#clip020)\" style=\"stroke:#000000; stroke-linecap:round; stroke-linejoin:round; stroke-width:4; stroke-opacity:1; fill:none\" points=\"\n",
       "  843.597,1486.45 843.597,1467.55 \n",
       "  \"/>\n",
       "<polyline clip-path=\"url(#clip020)\" style=\"stroke:#000000; stroke-linecap:round; stroke-linejoin:round; stroke-width:4; stroke-opacity:1; fill:none\" points=\"\n",
       "  1250.93,1486.45 1250.93,1467.55 \n",
       "  \"/>\n",
       "<polyline clip-path=\"url(#clip020)\" style=\"stroke:#000000; stroke-linecap:round; stroke-linejoin:round; stroke-width:4; stroke-opacity:1; fill:none\" points=\"\n",
       "  1658.27,1486.45 1658.27,1467.55 \n",
       "  \"/>\n",
       "<polyline clip-path=\"url(#clip020)\" style=\"stroke:#000000; stroke-linecap:round; stroke-linejoin:round; stroke-width:4; stroke-opacity:1; fill:none\" points=\"\n",
       "  2065.6,1486.45 2065.6,1467.55 \n",
       "  \"/>\n",
       "<path clip-path=\"url(#clip020)\" d=\"M405.325 1532.02 L435 1532.02 L435 1535.95 L405.325 1535.95 L405.325 1532.02 Z\" fill=\"#000000\" fill-rule=\"evenodd\" fill-opacity=\"1\" /><path clip-path=\"url(#clip020)\" d=\"M455.672 1529.7 Q452.524 1529.7 450.672 1531.86 Q448.843 1534.01 448.843 1537.76 Q448.843 1541.49 450.672 1543.66 Q452.524 1545.82 455.672 1545.82 Q458.82 1545.82 460.649 1543.66 Q462.5 1541.49 462.5 1537.76 Q462.5 1534.01 460.649 1531.86 Q458.82 1529.7 455.672 1529.7 M464.954 1515.05 L464.954 1519.31 Q463.195 1518.48 461.389 1518.04 Q459.607 1517.6 457.848 1517.6 Q453.218 1517.6 450.764 1520.72 Q448.334 1523.85 447.987 1530.17 Q449.352 1528.15 451.412 1527.09 Q453.473 1526 455.949 1526 Q461.158 1526 464.167 1529.17 Q467.199 1532.32 467.199 1537.76 Q467.199 1543.08 464.051 1546.3 Q460.903 1549.52 455.672 1549.52 Q449.676 1549.52 446.505 1544.94 Q443.334 1540.33 443.334 1531.6 Q443.334 1523.41 447.223 1518.55 Q451.112 1513.66 457.662 1513.66 Q459.422 1513.66 461.204 1514.01 Q463.01 1514.36 464.954 1515.05 Z\" fill=\"#000000\" fill-rule=\"evenodd\" fill-opacity=\"1\" /><path clip-path=\"url(#clip020)\" d=\"M813.064 1532.02 L842.74 1532.02 L842.74 1535.95 L813.064 1535.95 L813.064 1532.02 Z\" fill=\"#000000\" fill-rule=\"evenodd\" fill-opacity=\"1\" /><path clip-path=\"url(#clip020)\" d=\"M866.999 1530.21 Q870.356 1530.93 872.231 1533.2 Q874.129 1535.47 874.129 1538.8 Q874.129 1543.92 870.61 1546.72 Q867.092 1549.52 860.61 1549.52 Q858.434 1549.52 856.12 1549.08 Q853.828 1548.66 851.374 1547.81 L851.374 1543.29 Q853.319 1544.43 855.634 1545.01 Q857.948 1545.58 860.471 1545.58 Q864.87 1545.58 867.161 1543.85 Q869.476 1542.11 869.476 1538.8 Q869.476 1535.75 867.323 1534.03 Q865.194 1532.3 861.374 1532.3 L857.346 1532.3 L857.346 1528.45 L861.559 1528.45 Q865.008 1528.45 866.837 1527.09 Q868.666 1525.7 868.666 1523.11 Q868.666 1520.45 866.768 1519.03 Q864.893 1517.6 861.374 1517.6 Q859.453 1517.6 857.254 1518.01 Q855.055 1518.43 852.416 1519.31 L852.416 1515.14 Q855.078 1514.4 857.393 1514.03 Q859.731 1513.66 861.791 1513.66 Q867.115 1513.66 870.217 1516.09 Q873.319 1518.5 873.319 1522.62 Q873.319 1525.49 871.675 1527.48 Q870.032 1529.45 866.999 1530.21 Z\" fill=\"#000000\" fill-rule=\"evenodd\" fill-opacity=\"1\" /><path clip-path=\"url(#clip020)\" d=\"M1250.93 1517.37 Q1247.32 1517.37 1245.49 1520.93 Q1243.69 1524.47 1243.69 1531.6 Q1243.69 1538.71 1245.49 1542.27 Q1247.32 1545.82 1250.93 1545.82 Q1254.57 1545.82 1256.37 1542.27 Q1258.2 1538.71 1258.2 1531.6 Q1258.2 1524.47 1256.37 1520.93 Q1254.57 1517.37 1250.93 1517.37 M1250.93 1513.66 Q1256.74 1513.66 1259.8 1518.27 Q1262.88 1522.85 1262.88 1531.6 Q1262.88 1540.33 1259.8 1544.94 Q1256.74 1549.52 1250.93 1549.52 Q1245.12 1549.52 1242.04 1544.94 Q1238.99 1540.33 1238.99 1531.6 Q1238.99 1522.85 1242.04 1518.27 Q1245.12 1513.66 1250.93 1513.66 Z\" fill=\"#000000\" fill-rule=\"evenodd\" fill-opacity=\"1\" /><path clip-path=\"url(#clip020)\" d=\"M1662.51 1530.21 Q1665.87 1530.93 1667.74 1533.2 Q1669.64 1535.47 1669.64 1538.8 Q1669.64 1543.92 1666.12 1546.72 Q1662.61 1549.52 1656.12 1549.52 Q1653.95 1549.52 1651.63 1549.08 Q1649.34 1548.66 1646.89 1547.81 L1646.89 1543.29 Q1648.83 1544.43 1651.15 1545.01 Q1653.46 1545.58 1655.99 1545.58 Q1660.38 1545.58 1662.68 1543.85 Q1664.99 1542.11 1664.99 1538.8 Q1664.99 1535.75 1662.84 1534.03 Q1660.71 1532.3 1656.89 1532.3 L1652.86 1532.3 L1652.86 1528.45 L1657.07 1528.45 Q1660.52 1528.45 1662.35 1527.09 Q1664.18 1525.7 1664.18 1523.11 Q1664.18 1520.45 1662.28 1519.03 Q1660.41 1517.6 1656.89 1517.6 Q1654.97 1517.6 1652.77 1518.01 Q1650.57 1518.43 1647.93 1519.31 L1647.93 1515.14 Q1650.59 1514.4 1652.91 1514.03 Q1655.24 1513.66 1657.3 1513.66 Q1662.63 1513.66 1665.73 1516.09 Q1668.83 1518.5 1668.83 1522.62 Q1668.83 1525.49 1667.19 1527.48 Q1665.55 1529.45 1662.51 1530.21 Z\" fill=\"#000000\" fill-rule=\"evenodd\" fill-opacity=\"1\" /><path clip-path=\"url(#clip020)\" d=\"M2066.01 1529.7 Q2062.86 1529.7 2061.01 1531.86 Q2059.18 1534.01 2059.18 1537.76 Q2059.18 1541.49 2061.01 1543.66 Q2062.86 1545.82 2066.01 1545.82 Q2069.15 1545.82 2070.98 1543.66 Q2072.83 1541.49 2072.83 1537.76 Q2072.83 1534.01 2070.98 1531.86 Q2069.15 1529.7 2066.01 1529.7 M2075.29 1515.05 L2075.29 1519.31 Q2073.53 1518.48 2071.72 1518.04 Q2069.94 1517.6 2068.18 1517.6 Q2063.55 1517.6 2061.1 1520.72 Q2058.67 1523.85 2058.32 1530.17 Q2059.69 1528.15 2061.75 1527.09 Q2063.81 1526 2066.28 1526 Q2071.49 1526 2074.5 1529.17 Q2077.53 1532.32 2077.53 1537.76 Q2077.53 1543.08 2074.38 1546.3 Q2071.24 1549.52 2066.01 1549.52 Q2060.01 1549.52 2056.84 1544.94 Q2053.67 1540.33 2053.67 1531.6 Q2053.67 1523.41 2057.56 1518.55 Q2061.45 1513.66 2068 1513.66 Q2069.76 1513.66 2071.54 1514.01 Q2073.34 1514.36 2075.29 1515.05 Z\" fill=\"#000000\" fill-rule=\"evenodd\" fill-opacity=\"1\" /><polyline clip-path=\"url(#clip022)\" style=\"stroke:#000000; stroke-linecap:round; stroke-linejoin:round; stroke-width:2; stroke-opacity:0.1; fill:none\" points=\"\n",
       "  149.191,1309.96 2352.76,1309.96 \n",
       "  \"/>\n",
       "<polyline clip-path=\"url(#clip022)\" style=\"stroke:#000000; stroke-linecap:round; stroke-linejoin:round; stroke-width:2; stroke-opacity:0.1; fill:none\" points=\"\n",
       "  149.191,1038.4 2352.76,1038.4 \n",
       "  \"/>\n",
       "<polyline clip-path=\"url(#clip022)\" style=\"stroke:#000000; stroke-linecap:round; stroke-linejoin:round; stroke-width:2; stroke-opacity:0.1; fill:none\" points=\"\n",
       "  149.191,766.846 2352.76,766.846 \n",
       "  \"/>\n",
       "<polyline clip-path=\"url(#clip022)\" style=\"stroke:#000000; stroke-linecap:round; stroke-linejoin:round; stroke-width:2; stroke-opacity:0.1; fill:none\" points=\"\n",
       "  149.191,495.29 2352.76,495.29 \n",
       "  \"/>\n",
       "<polyline clip-path=\"url(#clip022)\" style=\"stroke:#000000; stroke-linecap:round; stroke-linejoin:round; stroke-width:2; stroke-opacity:0.1; fill:none\" points=\"\n",
       "  149.191,223.733 2352.76,223.733 \n",
       "  \"/>\n",
       "<polyline clip-path=\"url(#clip020)\" style=\"stroke:#000000; stroke-linecap:round; stroke-linejoin:round; stroke-width:4; stroke-opacity:1; fill:none\" points=\"\n",
       "  149.191,1486.45 149.191,47.2441 \n",
       "  \"/>\n",
       "<polyline clip-path=\"url(#clip020)\" style=\"stroke:#000000; stroke-linecap:round; stroke-linejoin:round; stroke-width:4; stroke-opacity:1; fill:none\" points=\"\n",
       "  149.191,1309.96 168.089,1309.96 \n",
       "  \"/>\n",
       "<polyline clip-path=\"url(#clip020)\" style=\"stroke:#000000; stroke-linecap:round; stroke-linejoin:round; stroke-width:4; stroke-opacity:1; fill:none\" points=\"\n",
       "  149.191,1038.4 168.089,1038.4 \n",
       "  \"/>\n",
       "<polyline clip-path=\"url(#clip020)\" style=\"stroke:#000000; stroke-linecap:round; stroke-linejoin:round; stroke-width:4; stroke-opacity:1; fill:none\" points=\"\n",
       "  149.191,766.846 168.089,766.846 \n",
       "  \"/>\n",
       "<polyline clip-path=\"url(#clip020)\" style=\"stroke:#000000; stroke-linecap:round; stroke-linejoin:round; stroke-width:4; stroke-opacity:1; fill:none\" points=\"\n",
       "  149.191,495.29 168.089,495.29 \n",
       "  \"/>\n",
       "<polyline clip-path=\"url(#clip020)\" style=\"stroke:#000000; stroke-linecap:round; stroke-linejoin:round; stroke-width:4; stroke-opacity:1; fill:none\" points=\"\n",
       "  149.191,223.733 168.089,223.733 \n",
       "  \"/>\n",
       "<path clip-path=\"url(#clip020)\" d=\"M50.9921 1310.41 L80.6679 1310.41 L80.6679 1314.35 L50.9921 1314.35 L50.9921 1310.41 Z\" fill=\"#000000\" fill-rule=\"evenodd\" fill-opacity=\"1\" /><path clip-path=\"url(#clip020)\" d=\"M103.608 1296.75 L91.8021 1315.2 L103.608 1315.2 L103.608 1296.75 M102.381 1292.68 L108.26 1292.68 L108.26 1315.2 L113.191 1315.2 L113.191 1319.09 L108.26 1319.09 L108.26 1327.24 L103.608 1327.24 L103.608 1319.09 L88.0058 1319.09 L88.0058 1314.58 L102.381 1292.68 Z\" fill=\"#000000\" fill-rule=\"evenodd\" fill-opacity=\"1\" /><path clip-path=\"url(#clip020)\" d=\"M53.0754 1038.85 L82.7512 1038.85 L82.7512 1042.79 L53.0754 1042.79 L53.0754 1038.85 Z\" fill=\"#000000\" fill-rule=\"evenodd\" fill-opacity=\"1\" /><path clip-path=\"url(#clip020)\" d=\"M96.8715 1051.75 L113.191 1051.75 L113.191 1055.68 L91.2465 1055.68 L91.2465 1051.75 Q93.9086 1048.99 98.4919 1044.36 Q103.098 1039.71 104.279 1038.37 Q106.524 1035.84 107.404 1034.11 Q108.307 1032.35 108.307 1030.66 Q108.307 1027.9 106.362 1026.17 Q104.441 1024.43 101.339 1024.43 Q99.14 1024.43 96.6863 1025.2 Q94.2558 1025.96 91.478 1027.51 L91.478 1022.79 Q94.3021 1021.65 96.7558 1021.08 Q99.2095 1020.5 101.246 1020.5 Q106.617 1020.5 109.811 1023.18 Q113.006 1025.87 113.006 1030.36 Q113.006 1032.49 112.196 1034.41 Q111.408 1036.31 109.302 1038.9 Q108.723 1039.57 105.621 1042.79 Q102.52 1045.98 96.8715 1051.75 Z\" fill=\"#000000\" fill-rule=\"evenodd\" fill-opacity=\"1\" /><path clip-path=\"url(#clip020)\" d=\"M101.246 752.645 Q97.6354 752.645 95.8067 756.209 Q94.0012 759.751 94.0012 766.881 Q94.0012 773.987 95.8067 777.552 Q97.6354 781.094 101.246 781.094 Q104.881 781.094 106.686 777.552 Q108.515 773.987 108.515 766.881 Q108.515 759.751 106.686 756.209 Q104.881 752.645 101.246 752.645 M101.246 748.941 Q107.057 748.941 110.112 753.547 Q113.191 758.131 113.191 766.881 Q113.191 775.608 110.112 780.214 Q107.057 784.797 101.246 784.797 Q95.4363 784.797 92.3576 780.214 Q89.3021 775.608 89.3021 766.881 Q89.3021 758.131 92.3576 753.547 Q95.4363 748.941 101.246 748.941 Z\" fill=\"#000000\" fill-rule=\"evenodd\" fill-opacity=\"1\" /><path clip-path=\"url(#clip020)\" d=\"M96.8715 508.634 L113.191 508.634 L113.191 512.57 L91.2465 512.57 L91.2465 508.634 Q93.9086 505.88 98.4919 501.25 Q103.098 496.598 104.279 495.255 Q106.524 492.732 107.404 490.996 Q108.307 489.236 108.307 487.547 Q108.307 484.792 106.362 483.056 Q104.441 481.32 101.339 481.32 Q99.14 481.32 96.6863 482.084 Q94.2558 482.848 91.478 484.398 L91.478 479.676 Q94.3021 478.542 96.7558 477.963 Q99.2095 477.385 101.246 477.385 Q106.617 477.385 109.811 480.07 Q113.006 482.755 113.006 487.246 Q113.006 489.375 112.196 491.297 Q111.408 493.195 109.302 495.787 Q108.723 496.459 105.621 499.676 Q102.52 502.871 96.8715 508.634 Z\" fill=\"#000000\" fill-rule=\"evenodd\" fill-opacity=\"1\" /><path clip-path=\"url(#clip020)\" d=\"M103.608 210.527 L91.8021 228.976 L103.608 228.976 L103.608 210.527 M102.381 206.453 L108.26 206.453 L108.26 228.976 L113.191 228.976 L113.191 232.865 L108.26 232.865 L108.26 241.013 L103.608 241.013 L103.608 232.865 L88.0058 232.865 L88.0058 228.351 L102.381 206.453 Z\" fill=\"#000000\" fill-rule=\"evenodd\" fill-opacity=\"1\" /><polyline clip-path=\"url(#clip022)\" style=\"stroke:#009af9; stroke-linecap:round; stroke-linejoin:round; stroke-width:4; stroke-opacity:1; fill:none\" points=\"\n",
       "  1929.82,766.846 1929.48,745.414 1928.47,724.004 1926.78,702.637 1924.41,681.333 1921.38,660.115 1917.68,639.003 1913.31,618.018 1908.28,597.182 1902.6,576.515 \n",
       "  1896.26,556.038 1889.29,535.771 1881.67,515.734 1873.43,495.948 1864.57,476.431 1855.1,457.204 1845.02,438.286 1834.35,419.695 1823.1,401.451 1811.28,383.57 \n",
       "  1798.9,366.072 1785.98,348.973 1772.52,332.291 1758.54,316.041 1744.06,300.241 1729.08,284.907 1713.63,270.052 1697.71,255.693 1681.36,241.844 1664.57,228.518 \n",
       "  1647.37,215.728 1629.77,203.488 1611.8,191.809 1593.47,180.704 1574.79,170.182 1555.79,160.256 1536.49,150.934 1516.91,142.227 1497.06,134.141 1476.96,126.687 \n",
       "  1456.64,119.871 1436.11,113.699 1415.4,108.179 1394.53,103.315 1373.51,99.1126 1352.37,95.5759 1331.13,92.7082 1309.8,90.5126 1288.42,88.9912 1267.01,88.1455 \n",
       "  1245.57,87.9763 1224.14,88.4838 1202.74,89.6675 1181.39,91.5263 1160.1,94.0582 1138.91,97.2608 1117.83,101.131 1096.88,105.664 1076.08,110.857 1055.46,116.704 \n",
       "  1035.04,123.198 1014.82,130.335 994.848,138.106 975.128,146.503 955.682,155.519 936.53,165.144 917.692,175.369 899.186,186.184 881.031,197.578 863.244,209.538 \n",
       "  845.844,222.055 828.848,235.114 812.272,248.704 796.134,262.81 780.449,277.419 765.233,292.515 750.501,308.084 736.268,324.111 722.548,340.579 709.355,357.471 \n",
       "  696.701,374.772 684.6,392.464 673.064,410.529 662.103,428.949 651.73,447.706 641.954,466.781 632.785,486.155 624.232,505.808 616.303,525.723 609.008,545.877 \n",
       "  602.352,566.252 596.343,586.826 590.986,607.581 586.287,628.493 582.251,649.544 578.881,670.712 576.181,691.976 574.154,713.314 572.801,734.705 572.125,756.129 \n",
       "  572.125,777.563 572.801,798.987 574.154,820.378 576.181,841.716 578.881,862.98 582.251,884.148 586.287,905.199 590.986,926.111 596.343,946.866 602.352,967.44 \n",
       "  609.008,987.815 616.303,1007.97 624.232,1027.88 632.785,1047.54 641.954,1066.91 651.73,1085.99 662.103,1104.74 673.064,1123.16 684.6,1141.23 696.701,1158.92 \n",
       "  709.355,1176.22 722.548,1193.11 736.268,1209.58 750.501,1225.61 765.233,1241.18 780.449,1256.27 796.134,1270.88 812.272,1284.99 828.848,1298.58 845.844,1311.64 \n",
       "  863.244,1324.15 881.031,1336.11 899.186,1347.51 917.692,1358.32 936.53,1368.55 955.682,1378.17 975.128,1387.19 994.848,1395.59 1014.82,1403.36 1035.04,1410.49 \n",
       "  1055.46,1416.99 1076.08,1422.83 1096.88,1428.03 1117.83,1432.56 1138.91,1436.43 1160.1,1439.63 1181.39,1442.17 1202.74,1444.02 1224.14,1445.21 1245.57,1445.72 \n",
       "  1267.01,1445.55 1288.42,1444.7 1309.8,1443.18 1331.13,1440.98 1352.37,1438.12 1373.51,1434.58 1394.53,1430.38 1415.4,1425.51 1436.11,1419.99 1456.64,1413.82 \n",
       "  1476.96,1407.01 1497.06,1399.55 1516.91,1391.47 1536.49,1382.76 1555.79,1373.44 1574.79,1363.51 1593.47,1352.99 1611.8,1341.88 1629.77,1330.2 1647.37,1317.96 \n",
       "  1664.57,1305.17 1681.36,1291.85 1697.71,1278 1713.63,1263.64 1729.08,1248.79 1744.06,1233.45 1758.54,1217.65 1772.52,1201.4 1785.98,1184.72 1798.9,1167.62 \n",
       "  1811.28,1150.12 1823.1,1132.24 1834.35,1114 1845.02,1095.41 1855.1,1076.49 1864.57,1057.26 1873.43,1037.74 1881.67,1017.96 1889.29,997.921 1896.26,977.654 \n",
       "  1902.6,957.177 1908.28,936.51 1913.31,915.674 1917.68,894.689 1921.38,873.577 1924.41,852.359 1926.78,831.055 1928.47,809.688 1929.48,788.278 1929.82,766.846 \n",
       "  \n",
       "  \"/>\n",
       "<path clip-path=\"url(#clip020)\" d=\"\n",
       "M1982.03 198.898 L2279.3 198.898 L2279.3 95.2176 L1982.03 95.2176  Z\n",
       "  \" fill=\"#ffffff\" fill-rule=\"evenodd\" fill-opacity=\"1\"/>\n",
       "<polyline clip-path=\"url(#clip020)\" style=\"stroke:#000000; stroke-linecap:round; stroke-linejoin:round; stroke-width:4; stroke-opacity:1; fill:none\" points=\"\n",
       "  1982.03,198.898 2279.3,198.898 2279.3,95.2176 1982.03,95.2176 1982.03,198.898 \n",
       "  \"/>\n",
       "<polyline clip-path=\"url(#clip020)\" style=\"stroke:#009af9; stroke-linecap:round; stroke-linejoin:round; stroke-width:4; stroke-opacity:1; fill:none\" points=\"\n",
       "  2006.52,147.058 2153.42,147.058 \n",
       "  \"/>\n",
       "<path clip-path=\"url(#clip020)\" d=\"M2191.75 166.745 Q2189.94 171.375 2188.23 172.787 Q2186.52 174.199 2183.65 174.199 L2180.24 174.199 L2180.24 170.634 L2182.74 170.634 Q2184.5 170.634 2185.47 169.8 Q2186.45 168.967 2187.63 165.865 L2188.39 163.921 L2177.91 138.412 L2182.42 138.412 L2190.52 158.689 L2198.62 138.412 L2203.14 138.412 L2191.75 166.745 Z\" fill=\"#000000\" fill-rule=\"evenodd\" fill-opacity=\"1\" /><path clip-path=\"url(#clip020)\" d=\"M2210.43 160.402 L2218.07 160.402 L2218.07 134.037 L2209.76 135.703 L2209.76 131.444 L2218.02 129.778 L2222.7 129.778 L2222.7 160.402 L2230.34 160.402 L2230.34 164.338 L2210.43 164.338 L2210.43 160.402 Z\" fill=\"#000000\" fill-rule=\"evenodd\" fill-opacity=\"1\" /></svg>\n"
      ]
     },
     "execution_count": 6,
     "metadata": {},
     "output_type": "execute_result"
    }
   ],
   "source": [
    "plot(t->5*cos(t),t->5*sin(t),0,2*pi, aspect_ratio = :equal)"
   ]
  },
  {
   "cell_type": "code",
   "execution_count": 13,
   "metadata": {},
   "outputs": [
    {
     "data": {
      "text/plain": [
       "150-element LinRange{Float64, Int64}:\n",
       " 0.0,0.042169,0.0843381,0.126507,0.168676,…,6.15668,6.19885,6.24102,6.28319"
      ]
     },
     "execution_count": 13,
     "metadata": {},
     "output_type": "execute_result"
    }
   ],
   "source": [
    "tpts=LinRange(0,2*pi,150)"
   ]
  },
  {
   "cell_type": "code",
   "execution_count": 14,
   "metadata": {},
   "outputs": [
    {
     "data": {
      "text/plain": [
       "150-element Vector{Float64}:\n",
       " 5.0\n",
       " 4.995555091232515\n",
       " 4.982228267815642\n",
       " 4.960043224355079\n",
       " 4.929039405048502\n",
       " 4.8892719335552135\n",
       " 4.840811514988293\n",
       " 4.78374431020349\n",
       " 4.718171782608355\n",
       " 4.644210517764014\n",
       " 4.561992016100292\n",
       " 4.471662459112746\n",
       " 4.373382449457305\n",
       " ⋮\n",
       " 4.471662459112747\n",
       " 4.561992016100291\n",
       " 4.644210517764014\n",
       " 4.718171782608353\n",
       " 4.783744310203489\n",
       " 4.840811514988293\n",
       " 4.8892719335552135\n",
       " 4.929039405048502\n",
       " 4.960043224355079\n",
       " 4.982228267815642\n",
       " 4.995555091232515\n",
       " 5.0"
      ]
     },
     "execution_count": 14,
     "metadata": {},
     "output_type": "execute_result"
    }
   ],
   "source": [
    "xpts = map(t->5*cos(t), tpts)"
   ]
  },
  {
   "cell_type": "code",
   "execution_count": 15,
   "metadata": {},
   "outputs": [
    {
     "data": {
      "text/plain": [
       "150-element Vector{Float64}:\n",
       " 5.0\n",
       " 4.995555091232515\n",
       " 4.982228267815642\n",
       " 4.960043224355079\n",
       " 4.929039405048502\n",
       " 4.8892719335552135\n",
       " 4.840811514988293\n",
       " 4.78374431020349\n",
       " 4.718171782608355\n",
       " 4.644210517764014\n",
       " 4.561992016100292\n",
       " 4.471662459112746\n",
       " 4.373382449457305\n",
       " ⋮\n",
       " 4.471662459112747\n",
       " 4.561992016100291\n",
       " 4.644210517764014\n",
       " 4.718171782608353\n",
       " 4.783744310203489\n",
       " 4.840811514988293\n",
       " 4.8892719335552135\n",
       " 4.929039405048502\n",
       " 4.960043224355079\n",
       " 4.982228267815642\n",
       " 4.995555091232515\n",
       " 5.0"
      ]
     },
     "execution_count": 15,
     "metadata": {},
     "output_type": "execute_result"
    }
   ],
   "source": [
    "xpts = 5*cos.(tpts)"
   ]
  },
  {
   "cell_type": "code",
   "execution_count": 16,
   "metadata": {},
   "outputs": [
    {
     "data": {
      "text/plain": [
       "4-element Vector{Int64}:\n",
       " 1\n",
       " 3\n",
       " 4\n",
       " 6"
      ]
     },
     "execution_count": 16,
     "metadata": {},
     "output_type": "execute_result"
    }
   ],
   "source": [
    "arr = [1,3,4,6]"
   ]
  },
  {
   "cell_type": "code",
   "execution_count": 17,
   "metadata": {},
   "outputs": [
    {
     "data": {
      "text/plain": [
       "5-element Vector{Int64}:\n",
       " 1\n",
       " 3\n",
       " 4\n",
       " 6\n",
       " 7"
      ]
     },
     "execution_count": 17,
     "metadata": {},
     "output_type": "execute_result"
    }
   ],
   "source": [
    "push!(arr,7)"
   ]
  },
  {
   "cell_type": "code",
   "execution_count": null,
   "metadata": {},
   "outputs": [],
   "source": []
  }
 ],
 "metadata": {
  "kernelspec": {
   "display_name": "Julia 1.8.2",
   "language": "julia",
   "name": "julia-1.8"
  },
  "language_info": {
   "file_extension": ".jl",
   "mimetype": "application/julia",
   "name": "julia",
   "version": "1.8.2"
  }
 },
 "nbformat": 4,
 "nbformat_minor": 4
}
