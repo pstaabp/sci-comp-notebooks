{
 "cells": [
  {
   "cell_type": "markdown",
   "metadata": {},
   "source": [
    "## Chapter 21: Advanced Function Features of Julia"
   ]
  },
  {
   "cell_type": "markdown",
   "metadata": {},
   "source": [
    "This chapter covers a bit more on functions in julia. These feature allow the ability to write code that easier to use, read and debug. We will perform error checking for arguments to ensure that only valid arguments are considered. Additionally, to make functions more robust, we’ll use option arguments and keyword arguments."
   ]
  },
  {
   "cell_type": "markdown",
   "metadata": {},
   "source": [
    "#### 21.1: Testing Arguments"
   ]
  },
  {
   "cell_type": "markdown",
   "metadata": {},
   "source": [
    "Recall the recursive factorial function:"
   ]
  },
  {
   "cell_type": "code",
   "execution_count": 1,
   "metadata": {},
   "outputs": [
    {
     "data": {
      "text/plain": [
       "fact (generic function with 1 method)"
      ]
     },
     "metadata": {},
     "output_type": "display_data"
    }
   ],
   "source": [
    "fact(n::Integer) = n==0 ? 1 : n*fact(n-1)"
   ]
  },
  {
   "cell_type": "markdown",
   "metadata": {},
   "source": [
    "If we put in a negative number, then"
   ]
  },
  {
   "cell_type": "code",
   "execution_count": 2,
   "metadata": {},
   "outputs": [
    {
     "ename": "StackOverflowError",
     "evalue": "StackOverflowError:",
     "output_type": "error",
     "traceback": [
      "StackOverflowError:\n",
      "\n",
      "Stacktrace:\n",
      " [1] fact(n::Int64) (repeats 2 times)\n",
      "   @ Main ~/code/sci-comp-notebooks/notebooks/jl_notebook_cell_df34fa98e69747e1a8f8a730347b8e2f_W4sZmlsZQ==.jl:1"
     ]
    }
   ],
   "source": [
    "fact(-5)"
   ]
  },
  {
   "cell_type": "markdown",
   "metadata": {},
   "source": [
    "This occurs because fact(-5) would return -5 times fact(-6) which would return -5 times -6 times fact(-7), etc.  This will never stop. \n",
    "\n",
    "To prevent this, we will check if the argument n is greater than or equal to 0. The first line of the function, evaluates `n>=0`. If this is true, it skips the rest of the line.  If not, it throws an error. "
   ]
  },
  {
   "cell_type": "code",
   "execution_count": 3,
   "metadata": {},
   "outputs": [
    {
     "data": {
      "text/plain": [
       "fact (generic function with 1 method)"
      ]
     },
     "metadata": {},
     "output_type": "display_data"
    }
   ],
   "source": [
    "function fact(n::Integer)\n",
    "  n>=0 || throw(ArgumentError(\"The argument must be a nonnegative integer.\"))\n",
    "  n==0 ? 1 : n*fact(n-1)\n",
    "end"
   ]
  },
  {
   "cell_type": "code",
   "execution_count": 4,
   "metadata": {},
   "outputs": [
    {
     "ename": "ArgumentError",
     "evalue": "ArgumentError: The argument must be a nonnegative integer.",
     "output_type": "error",
     "traceback": [
      "ArgumentError: The argument must be a nonnegative integer.\n",
      "\n",
      "Stacktrace:\n",
      " [1] fact(n::Int64)\n",
      "   @ Main ~/code/sci-comp-notebooks/notebooks/jl_notebook_cell_df34fa98e69747e1a8f8a730347b8e2f_X11sZmlsZQ==.jl:2\n",
      " [2] top-level scope\n",
      "   @ ~/code/sci-comp-notebooks/notebooks/jl_notebook_cell_df34fa98e69747e1a8f8a730347b8e2f_X12sZmlsZQ==.jl:1"
     ]
    }
   ],
   "source": [
    "fact(-5)"
   ]
  },
  {
   "cell_type": "markdown",
   "metadata": {},
   "source": [
    "### 21.2: Optional arguments"
   ]
  },
  {
   "cell_type": "markdown",
   "metadata": {},
   "source": [
    "Recall Newton's method that we saw earlier:"
   ]
  },
  {
   "cell_type": "code",
   "execution_count": null,
   "metadata": {},
   "outputs": [
    {
     "data": {
      "text/plain": [
       "newton (generic function with 1 method)"
      ]
     },
     "metadata": {},
     "output_type": "display_data"
    }
   ],
   "source": [
    "using ForwardDiff\n",
    "function newton(f::Function, x0::Number)\n",
    "  local dx = f(x0)/ForwardDiff.derivative(f,x0)\n",
    "  local steps = 0\n",
    "  while abs(dx)>1e-6 && steps<10\n",
    "    x0 -= dx\n",
    "    dx = f(x0)/ForwardDiff.derivative(f,x0)\n",
    "    steps += 1\n",
    "  end\n",
    "  x0\n",
    "end"
   ]
  },
  {
   "cell_type": "code",
   "execution_count": 6,
   "metadata": {},
   "outputs": [
    {
     "data": {
      "text/plain": [
       "2.2360688956433634"
      ]
     },
     "metadata": {},
     "output_type": "display_data"
    }
   ],
   "source": [
    "newton(x->x^2-5,1)"
   ]
  },
  {
   "cell_type": "markdown",
   "metadata": {},
   "source": [
    "Note: we haven't used the `Root` datatype developed in Chapter 12 for simplicity.  An exercise would be to combine this.\n",
    "\n",
    "What if we want the root tolerance (1e-6) to be better or to run more steps than 10.  These are hard coded parameters that would have to be updated in the newton function.  A much better way to do this is to add these to the argument list, but with default values.  Julia calls these optional arguments.  Consider this rewrite:"
   ]
  },
  {
   "cell_type": "code",
   "execution_count": null,
   "metadata": {},
   "outputs": [
    {
     "data": {
      "text/plain": [
       "newton (generic function with 3 methods)"
      ]
     },
     "metadata": {},
     "output_type": "display_data"
    }
   ],
   "source": [
    "function newton(f::Function, x0::Number, tol=1e-6, max_steps=10)\n",
    "  local dx = f(x0)/ForwardDiff.derivative(f,x0)\n",
    "  local steps = 0\n",
    "  while abs(dx) > tol && steps < max_steps\n",
    "    x0 -= dx\n",
    "    dx = f(x0)/ForwardDiff.derivative(f,x0)\n",
    "    steps += 1\n",
    "  end\n",
    "  x0\n",
    "end"
   ]
  },
  {
   "cell_type": "code",
   "execution_count": 8,
   "metadata": {},
   "outputs": [
    {
     "data": {
      "text/html": [
       "# 3 methods for generic function <b>newton</b> from \u001b[35mMain\u001b[39m:<ul><li> newton(f::<b>Function</b>, x0::<b>Number</b>, tol, max_steps) in Main at <a href=\"https://github.com/pstaabp/sci-comp-notebooks/tree/bdc12aa9e52319d064a9973ad75281a162d14eef//notebooks/jl_notebook_cell_df34fa98e69747e1a8f8a730347b8e2f_X21sZmlsZQ==.jl#L1\" target=\"_blank\">/Users/pstaab/code/sci-comp-notebooks/notebooks/jl_notebook_cell_df34fa98e69747e1a8f8a730347b8e2f_X21sZmlsZQ==.jl:1</a></li> <li> newton(f::<b>Function</b>, x0::<b>Number</b>, tol) in Main at <a href=\"https://github.com/pstaabp/sci-comp-notebooks/tree/bdc12aa9e52319d064a9973ad75281a162d14eef//notebooks/jl_notebook_cell_df34fa98e69747e1a8f8a730347b8e2f_X21sZmlsZQ==.jl#L1\" target=\"_blank\">/Users/pstaab/code/sci-comp-notebooks/notebooks/jl_notebook_cell_df34fa98e69747e1a8f8a730347b8e2f_X21sZmlsZQ==.jl:1</a></li> <li> newton(f::<b>Function</b>, x0::<b>Number</b>) in Main at <a href=\"https://github.com/pstaabp/sci-comp-notebooks/tree/bdc12aa9e52319d064a9973ad75281a162d14eef//notebooks/jl_notebook_cell_df34fa98e69747e1a8f8a730347b8e2f_X21sZmlsZQ==.jl#L1\" target=\"_blank\">/Users/pstaab/code/sci-comp-notebooks/notebooks/jl_notebook_cell_df34fa98e69747e1a8f8a730347b8e2f_X21sZmlsZQ==.jl:1</a></li> </ul>"
      ],
      "text/plain": [
       "# 3 methods for generic function \"newton\" from \u001b[35mMain\u001b[39m:\n",
       " [1] newton(\u001b[90mf\u001b[39m::\u001b[1mFunction\u001b[22m, \u001b[90mx0\u001b[39m::\u001b[1mNumber\u001b[22m, \u001b[90mtol\u001b[39m, \u001b[90mmax_steps\u001b[39m)\n",
       "\u001b[90m     @\u001b[39m \u001b[90m~/code/sci-comp-notebooks/notebooks/\u001b[39m\u001b[90m\u001b[4mjl_notebook_cell_df34fa98e69747e1a8f8a730347b8e2f_X21sZmlsZQ==.jl:1\u001b[24m\u001b[39m\n",
       " [2] newton(\u001b[90mf\u001b[39m::\u001b[1mFunction\u001b[22m, \u001b[90mx0\u001b[39m::\u001b[1mNumber\u001b[22m, \u001b[90mtol\u001b[39m)\n",
       "\u001b[90m     @\u001b[39m \u001b[90m~/code/sci-comp-notebooks/notebooks/\u001b[39m\u001b[90m\u001b[4mjl_notebook_cell_df34fa98e69747e1a8f8a730347b8e2f_X21sZmlsZQ==.jl:1\u001b[24m\u001b[39m\n",
       " [3] newton(\u001b[90mf\u001b[39m::\u001b[1mFunction\u001b[22m, \u001b[90mx0\u001b[39m::\u001b[1mNumber\u001b[22m)\n",
       "\u001b[90m     @\u001b[39m \u001b[90m~/code/sci-comp-notebooks/notebooks/\u001b[39m\u001b[90m\u001b[4mjl_notebook_cell_df34fa98e69747e1a8f8a730347b8e2f_X21sZmlsZQ==.jl:1\u001b[24m\u001b[39m"
      ]
     },
     "metadata": {},
     "output_type": "display_data"
    }
   ],
   "source": [
    "methods(newton)"
   ]
  },
  {
   "cell_type": "markdown",
   "metadata": {},
   "source": [
    "First, notice that there are 3 methods now. What are the signatures of newton for this?\n",
    "\n",
    "Now, notice that we can change the tolerance with:"
   ]
  },
  {
   "cell_type": "code",
   "execution_count": 9,
   "metadata": {},
   "outputs": [
    {
     "data": {
      "text/plain": [
       "2.236067977499978"
      ]
     },
     "metadata": {},
     "output_type": "display_data"
    }
   ],
   "source": [
    "newton(x->x^2-5,1,1e-12)"
   ]
  },
  {
   "cell_type": "markdown",
   "metadata": {},
   "source": [
    "But a problem is that to change the maximum number of steps, we need to change both:"
   ]
  },
  {
   "cell_type": "code",
   "execution_count": 10,
   "metadata": {},
   "outputs": [
    {
     "data": {
      "text/plain": [
       "2.236067977499978"
      ]
     },
     "metadata": {},
     "output_type": "display_data"
    }
   ],
   "source": [
    "newton(x->x^2-5,1,1e-12,20)"
   ]
  },
  {
   "cell_type": "markdown",
   "metadata": {},
   "source": [
    "We don't need to set the argument types for optional arguments.  Julia will figure out the type by the number that you put in.  The example above, `tol` will be a Float and `max_steps` will be an Integer. \n",
    "\n",
    "We should also check these new arguments have proper types.  Add lines at the top of the following function to handle this argument check:"
   ]
  },
  {
   "cell_type": "code",
   "execution_count": null,
   "metadata": {},
   "outputs": [
    {
     "data": {
      "text/plain": [
       "newton (generic function with 3 methods)"
      ]
     },
     "metadata": {},
     "output_type": "display_data"
    }
   ],
   "source": [
    "function newton(f::Function, x0::Number,tol=1e-6,max_steps=10)\n",
    "  local dx = f(x0)/ForwardDiff.derivative(f,x0)\n",
    "  local steps = 0\n",
    "  while abs(dx)>tol && steps<max_steps\n",
    "    x0 -= dx\n",
    "    dx = f(x0)/ForwardDiff.derivative(f,x0)\n",
    "    steps += 1\n",
    "  end\n",
    "  x0\n",
    "end"
   ]
  },
  {
   "cell_type": "code",
   "execution_count": 12,
   "metadata": {},
   "outputs": [
    {
     "ename": "ArgumentError",
     "evalue": "ArgumentError: The parameter tol must be positive",
     "output_type": "error",
     "traceback": [
      "ArgumentError: The parameter tol must be positive\n",
      "\n",
      "Stacktrace:\n",
      " [1] newton(f::var\"#17#18\", x0::Int64, tol::Float64, max_steps::Int64)\n",
      "   @ Main ~/code/sci-comp-notebooks/notebooks/jl_notebook_cell_df34fa98e69747e1a8f8a730347b8e2f_X31sZmlsZQ==.jl:2\n",
      " [2] top-level scope\n",
      "   @ ~/code/sci-comp-notebooks/notebooks/jl_notebook_cell_df34fa98e69747e1a8f8a730347b8e2f_X32sZmlsZQ==.jl:1"
     ]
    }
   ],
   "source": [
    "newton(x->x^2-5,1,-0.01)"
   ]
  },
  {
   "cell_type": "markdown",
   "metadata": {},
   "source": [
    "### 21.3: Handling Special Cases"
   ]
  },
  {
   "cell_type": "code",
   "execution_count": 13,
   "metadata": {},
   "outputs": [
    {
     "data": {
      "text/plain": [
       "0.5353752385394379"
      ]
     },
     "metadata": {},
     "output_type": "display_data"
    }
   ],
   "source": [
    "newton(x->x^2+2,1)"
   ]
  },
  {
   "cell_type": "markdown",
   "metadata": {},
   "source": [
    "We looked at this earlier, but recall that if we reach too many steps.  In this case, the number of steps is `max_steps`, then we want to throw an error.  We can use the same notation with the || shortcut to do this. "
   ]
  },
  {
   "cell_type": "code",
   "execution_count": 14,
   "metadata": {},
   "outputs": [
    {
     "data": {
      "text/plain": [
       "newton (generic function with 3 methods)"
      ]
     },
     "metadata": {},
     "output_type": "display_data"
    }
   ],
   "source": [
    "using ForwardDiff\n",
    "function newton(f::Function, x0::Number,tol=1e-6,max_steps=10)\n",
    "  tol > 0 || throw(ArgumentError(\"The parameter tol must be positive\"))\n",
    "  max_steps > 0 || throw(ArgumentError(\"The parameter max_steps must be positive\"))\n",
    "  local dx = f(x0)/ForwardDiff.derivative(f,x0)\n",
    "  local steps = 0\n",
    "  while abs(dx)>tol && steps<max_steps\n",
    "    x0 -= dx\n",
    "    dx = f(x0)/ForwardDiff.derivative(f,x0)\n",
    "    steps += 1\n",
    "  end\n",
    "  local error = \"The maximum number of steps: $max_steps was reached without convergence\"\n",
    "  steps < max_steps || throw(ErrorException(error))\n",
    "  x0\n",
    "end"
   ]
  },
  {
   "cell_type": "code",
   "execution_count": 15,
   "metadata": {},
   "outputs": [
    {
     "ename": "ErrorException",
     "evalue": "The maximum number of steps: 10 was reached without convergence",
     "output_type": "error",
     "traceback": [
      "The maximum number of steps: 10 was reached without convergence\n",
      "\n",
      "Stacktrace:\n",
      " [1] newton(f::var\"#21#22\", x0::Int64, tol::Float64, max_steps::Int64)\n",
      "   @ Main ~/code/sci-comp-notebooks/notebooks/jl_notebook_cell_df34fa98e69747e1a8f8a730347b8e2f_X35sZmlsZQ==.jl:13\n",
      " [2] newton(f::Function, x0::Int64)\n",
      "   @ Main ~/code/sci-comp-notebooks/notebooks/jl_notebook_cell_df34fa98e69747e1a8f8a730347b8e2f_X35sZmlsZQ==.jl:3\n",
      " [3] top-level scope\n",
      "   @ ~/code/sci-comp-notebooks/notebooks/jl_notebook_cell_df34fa98e69747e1a8f8a730347b8e2f_X36sZmlsZQ==.jl:1"
     ]
    }
   ],
   "source": [
    "newton(x->x^2+2,1)"
   ]
  },
  {
   "cell_type": "markdown",
   "metadata": {},
   "source": [
    "### 21.4: Keyword Arguments"
   ]
  },
  {
   "cell_type": "markdown",
   "metadata": {},
   "source": [
    "Instead of optional arguments (especially if there are more than one), it often better to use keyword arugments in which you can change any of the arguments in any order. To do this, we need to use the keyword when calling the function.  To change from optional arguments to keyword arguments, separate the regular arguments from the keyword ones with a semicolon (;)"
   ]
  },
  {
   "cell_type": "code",
   "execution_count": 16,
   "metadata": {},
   "outputs": [
    {
     "data": {
      "text/plain": [
       "newton (generic function with 3 methods)"
      ]
     },
     "metadata": {},
     "output_type": "display_data"
    }
   ],
   "source": [
    "function newton(f::Function, x0::Number; tol=1e-6, max_steps=10)\n",
    "  tol > 0 || throw(ArgumentError(\"The parameter tol much be positive\"))\n",
    "  max_steps > 0 || throw(ArgumentError(\"The parameter max_steps much be positive\"))\n",
    "  local x1 = x0\n",
    "  local dx = f(x0)/ForwardDiff.derivative(f,x0)\n",
    "  local steps = 0\n",
    "  while abs(dx)>tol && steps<max_steps\n",
    "    x0 -= dx\n",
    "    dx = f(x0)/ForwardDiff.derivative(f,x0)\n",
    "    steps += 1\n",
    "  end\n",
    "  local error = \"The maximum number of steps: $max_steps was reached without convergence\"\n",
    "  steps < max_steps || throw(ErrorException(error))\n",
    "  x0\n",
    "end"
   ]
  },
  {
   "cell_type": "code",
   "execution_count": 23,
   "metadata": {},
   "outputs": [
    {
     "data": {
      "text/plain": [
       "2.2360688956433634"
      ]
     },
     "execution_count": 23,
     "metadata": {},
     "output_type": "execute_result"
    }
   ],
   "source": [
    "newton(x->x^2-5,1,max_steps=5)"
   ]
  },
  {
   "cell_type": "code",
   "execution_count": 17,
   "metadata": {},
   "outputs": [
    {
     "data": {
      "text/plain": [
       "2.2360688956433634"
      ]
     },
     "metadata": {},
     "output_type": "display_data"
    }
   ],
   "source": [
    "newton(x->x^2-5,1,tol=1e-3)"
   ]
  },
  {
   "cell_type": "markdown",
   "metadata": {},
   "source": [
    "### 21.5: Parametric Methods"
   ]
  },
  {
   "cell_type": "markdown",
   "metadata": {},
   "source": [
    "In Chapter 4, we saw multiple dispatch for julia.  Let's look at another example of this.  This will find the maximum value with different arguments put in. "
   ]
  },
  {
   "cell_type": "markdown",
   "metadata": {},
   "source": [
    "If we have two values we can do:"
   ]
  },
  {
   "cell_type": "code",
   "execution_count": 18,
   "metadata": {},
   "outputs": [
    {
     "data": {
      "text/plain": [
       "findMax (generic function with 1 method)"
      ]
     },
     "metadata": {},
     "output_type": "display_data"
    }
   ],
   "source": [
    "findMax(x::Real,y::Real) = x > y ? x : y"
   ]
  },
  {
   "cell_type": "code",
   "execution_count": 19,
   "metadata": {},
   "outputs": [
    {
     "data": {
      "text/plain": [
       "4"
      ]
     },
     "metadata": {},
     "output_type": "display_data"
    }
   ],
   "source": [
    "findMax(3,4)"
   ]
  },
  {
   "cell_type": "markdown",
   "metadata": {},
   "source": [
    "As as we saw earlier, if we want any number of arguments, we could do:"
   ]
  },
  {
   "cell_type": "code",
   "execution_count": 20,
   "metadata": {},
   "outputs": [
    {
     "data": {
      "text/plain": [
       "findMax (generic function with 2 methods)"
      ]
     },
     "metadata": {},
     "output_type": "display_data"
    }
   ],
   "source": [
    "function findMax(nums::Real...)\n",
    "  local max = -Inf\n",
    "  for num in nums\n",
    "    if num > max\n",
    "      max = num\n",
    "    end\n",
    "  end\n",
    "  max\n",
    "end"
   ]
  },
  {
   "cell_type": "code",
   "execution_count": 21,
   "metadata": {},
   "outputs": [
    {
     "data": {
      "text/plain": [
       "6"
      ]
     },
     "metadata": {},
     "output_type": "display_data"
    }
   ],
   "source": [
    "findMax(1,6,2,3,-9,11//2,5.6)"
   ]
  },
  {
   "cell_type": "markdown",
   "metadata": {},
   "source": [
    "It makes sense to also write a `findMax` function that takes an array of values:"
   ]
  },
  {
   "cell_type": "code",
   "execution_count": 22,
   "metadata": {},
   "outputs": [
    {
     "data": {
      "text/plain": [
       "findMax (generic function with 3 methods)"
      ]
     },
     "metadata": {},
     "output_type": "display_data"
    }
   ],
   "source": [
    "function findMax(arr::Vector{Real})\n",
    "  local max = -Inf\n",
    "  for num in arr\n",
    "    if num > max\n",
    "      max = num\n",
    "    end\n",
    "  end\n",
    "  max\n",
    "end"
   ]
  },
  {
   "cell_type": "markdown",
   "metadata": {},
   "source": [
    "Let's say we want to find the max of `[-3,2,4,7,5]`.  It seems like the following should work:"
   ]
  },
  {
   "cell_type": "code",
   "execution_count": 23,
   "metadata": {},
   "outputs": [
    {
     "ename": "MethodError",
     "evalue": "MethodError: no method matching findMax(::Vector{Int64})\nThe function `findMax` exists, but no method is defined for this combination of argument types.\n\nClosest candidates are:\n  findMax(!Matched::Vector{Real})\n   @ Main ~/code/sci-comp-notebooks/notebooks/jl_notebook_cell_df34fa98e69747e1a8f8a730347b8e2f_X56sZmlsZQ==.jl:1\n  findMax(!Matched::Real, !Matched::Real)\n   @ Main ~/code/sci-comp-notebooks/notebooks/jl_notebook_cell_df34fa98e69747e1a8f8a730347b8e2f_X50sZmlsZQ==.jl:1\n  findMax(!Matched::Real...)\n   @ Main ~/code/sci-comp-notebooks/notebooks/jl_notebook_cell_df34fa98e69747e1a8f8a730347b8e2f_X53sZmlsZQ==.jl:1\n",
     "output_type": "error",
     "traceback": [
      "MethodError: no method matching findMax(::Vector{Int64})\n",
      "The function `findMax` exists, but no method is defined for this combination of argument types.\n",
      "\n",
      "Closest candidates are:\n",
      "  findMax(!Matched::Vector{Real})\n",
      "   @ Main ~/code/sci-comp-notebooks/notebooks/jl_notebook_cell_df34fa98e69747e1a8f8a730347b8e2f_X56sZmlsZQ==.jl:1\n",
      "  findMax(!Matched::Real, !Matched::Real)\n",
      "   @ Main ~/code/sci-comp-notebooks/notebooks/jl_notebook_cell_df34fa98e69747e1a8f8a730347b8e2f_X50sZmlsZQ==.jl:1\n",
      "  findMax(!Matched::Real...)\n",
      "   @ Main ~/code/sci-comp-notebooks/notebooks/jl_notebook_cell_df34fa98e69747e1a8f8a730347b8e2f_X53sZmlsZQ==.jl:1\n",
      "\n",
      "\n",
      "Stacktrace:\n",
      " [1] top-level scope\n",
      "   @ ~/code/sci-comp-notebooks/notebooks/jl_notebook_cell_df34fa98e69747e1a8f8a730347b8e2f_X61sZmlsZQ==.jl:1"
     ]
    }
   ],
   "source": [
    "findMax([-3,2,4,7,5])"
   ]
  },
  {
   "cell_type": "markdown",
   "metadata": {},
   "source": [
    "This happened because an array of type `Vector{Int64}` isn't matched by the argument type `Vector{Real}`.  Instead we do a parametric function, which is similar to the parametric type that we saw with `Polynomial` in Chapter 12. "
   ]
  },
  {
   "cell_type": "code",
   "execution_count": 24,
   "metadata": {},
   "outputs": [
    {
     "data": {
      "text/plain": [
       "false"
      ]
     },
     "metadata": {},
     "output_type": "display_data"
    }
   ],
   "source": [
    "Vector{Int64} <: Vector{Real}"
   ]
  },
  {
   "cell_type": "markdown",
   "metadata": {},
   "source": [
    "However, notice that the error says that it can't find a `findMax` function with argument `Vector{Int64}`.  \n",
    "\n",
    "We could create functions to handle arrays of integers, floats, and other types that we need, but julia has what is called parametric methods that handles all of these together:"
   ]
  },
  {
   "cell_type": "code",
   "execution_count": 25,
   "metadata": {},
   "outputs": [
    {
     "data": {
      "text/plain": [
       "findMax (generic function with 4 methods)"
      ]
     },
     "metadata": {},
     "output_type": "display_data"
    }
   ],
   "source": [
    "function findMax(arr::Vector{T}) where {T <: Real}\n",
    "  local max = -Inf\n",
    "  for num in arr\n",
    "    if num > max\n",
    "      max = num\n",
    "    end\n",
    "  end\n",
    "  max\n",
    "end"
   ]
  },
  {
   "cell_type": "markdown",
   "metadata": {},
   "source": [
    "which can now handle any array with any subtype of `Real`."
   ]
  },
  {
   "cell_type": "code",
   "execution_count": 26,
   "metadata": {},
   "outputs": [
    {
     "data": {
      "text/plain": [
       "7"
      ]
     },
     "metadata": {},
     "output_type": "display_data"
    }
   ],
   "source": [
    "findMax([-3,2,4,7,5])"
   ]
  },
  {
   "cell_type": "code",
   "execution_count": 27,
   "metadata": {},
   "outputs": [
    {
     "data": {
      "text/plain": [
       "Vector{Int64}\u001b[90m (alias for \u001b[39m\u001b[90mArray{Int64, 1}\u001b[39m\u001b[90m)\u001b[39m"
      ]
     },
     "metadata": {},
     "output_type": "display_data"
    }
   ],
   "source": [
    "typeof([-3,2,4,7,5])"
   ]
  },
  {
   "cell_type": "code",
   "execution_count": 28,
   "metadata": {},
   "outputs": [
    {
     "data": {
      "text/plain": [
       "3.141592653589793"
      ]
     },
     "metadata": {},
     "output_type": "display_data"
    }
   ],
   "source": [
    "findMax([pi,1.0,-6.3, 6/8])"
   ]
  },
  {
   "cell_type": "code",
   "execution_count": 29,
   "metadata": {},
   "outputs": [
    {
     "data": {
      "text/plain": [
       "9"
      ]
     },
     "metadata": {},
     "output_type": "display_data"
    }
   ],
   "source": [
    "findMax([big(3),big(9)])"
   ]
  },
  {
   "cell_type": "code",
   "execution_count": 30,
   "metadata": {},
   "outputs": [
    {
     "data": {
      "text/plain": [
       "6//7"
      ]
     },
     "metadata": {},
     "output_type": "display_data"
    }
   ],
   "source": [
    "findMax([6//7, -99//8, 4//5])"
   ]
  },
  {
   "cell_type": "markdown",
   "metadata": {},
   "source": [
    "### 21.6: Function Arguments"
   ]
  },
  {
   "cell_type": "markdown",
   "metadata": {},
   "source": [
    "Function arguments follow what is called \"pass-by-sharing\", which means that values are not copied when they are passed to functions.  Instead, the argument is a local variable that is passed the value when the function is called. "
   ]
  },
  {
   "cell_type": "code",
   "execution_count": null,
   "metadata": {},
   "outputs": [
    {
     "data": {
      "text/plain": [
       "g (generic function with 1 method)"
      ]
     },
     "metadata": {},
     "output_type": "display_data"
    }
   ],
   "source": [
    "g(x::Real) = x^2"
   ]
  },
  {
   "cell_type": "code",
   "execution_count": 33,
   "metadata": {},
   "outputs": [
    {
     "data": {
      "text/plain": [
       "9"
      ]
     },
     "metadata": {},
     "output_type": "display_data"
    }
   ],
   "source": [
    "g(3)"
   ]
  },
  {
   "cell_type": "markdown",
   "metadata": {},
   "source": [
    "When calling `g(3)`, the variable `x` within the function becomes a local variable and the value 3 is assigned to this."
   ]
  },
  {
   "cell_type": "code",
   "execution_count": 37,
   "metadata": {},
   "outputs": [
    {
     "data": {
      "text/plain": [
       "double (generic function with 1 method)"
      ]
     },
     "metadata": {},
     "output_type": "display_data"
    }
   ],
   "source": [
    "function double(x::Real)\n",
    "  @show \"inside double\"\n",
    "  @show x\n",
    "  x *= 2\n",
    "  @show x\n",
    "  x\n",
    "end"
   ]
  },
  {
   "cell_type": "markdown",
   "metadata": {},
   "source": [
    "If we have this function, let's define a global variable `x` and give it a value, then call `double`"
   ]
  },
  {
   "cell_type": "code",
   "execution_count": 39,
   "metadata": {},
   "outputs": [
    {
     "name": "stdout",
     "output_type": "stream",
     "text": [
      "\"inside double\" = \"inside double\"\n",
      "x = 11\n",
      "x = 22\n",
      "double(x) = 22\n"
     ]
    },
    {
     "data": {
      "text/plain": [
       "11"
      ]
     },
     "metadata": {},
     "output_type": "display_data"
    }
   ],
   "source": [
    "x=11\n",
    "@show double(x)\n",
    "x"
   ]
  },
  {
   "cell_type": "markdown",
   "metadata": {},
   "source": [
    "Note that we have updated variables in many functions, like `newton` without consequences and that is fine as long as non objects (strings, numbers) are updated.  However, if we have an array, we can update the value of this.  Consider"
   ]
  },
  {
   "cell_type": "code",
   "execution_count": 40,
   "metadata": {},
   "outputs": [
    {
     "data": {
      "text/plain": [
       "doubleThird! (generic function with 1 method)"
      ]
     },
     "metadata": {},
     "output_type": "display_data"
    }
   ],
   "source": [
    "function doubleThird!(arr::Vector{T}) where T <: Real\n",
    "  arr[3] *= 2\n",
    "  arr\n",
    "end"
   ]
  },
  {
   "cell_type": "code",
   "execution_count": 42,
   "metadata": {},
   "outputs": [
    {
     "data": {
      "text/plain": [
       "5-element Vector{Int64}:\n",
       " 1\n",
       " 2\n",
       " 6\n",
       " 4\n",
       " 5"
      ]
     },
     "metadata": {},
     "output_type": "display_data"
    }
   ],
   "source": [
    "x = collect(1:5)\n",
    "doubleThird!(x)\n",
    "x"
   ]
  },
  {
   "cell_type": "markdown",
   "metadata": {},
   "source": [
    "What's going on here?  "
   ]
  },
  {
   "cell_type": "markdown",
   "metadata": {},
   "source": [
    "And remember that if we are updating a mutable argument inside of a function, then we should add a `!` to the end of the name of the function.  Again, this is a Julia convention only, but good to do. \n",
    "\n",
    "The main type of argument that this works with is an array, but we will see other objects (`Dict`s and `DataFrame`s) later."
   ]
  },
  {
   "cell_type": "markdown",
   "metadata": {},
   "source": [
    "### Summary\n",
    "\n",
    "- all arguments should be checked if it is important that they fall within a range. \n",
    "- one can use optional arugments (that have default values) instead of fixed values within a function.\n",
    "- also, one can use keyword arguments (in the form `opt = value`) that have default values. \n",
    "- Parametric methods are helpful to keep the code from being copied for different data types.\n",
    "- understanding how function arguments are handled within a function."
   ]
  },
  {
   "cell_type": "markdown",
   "metadata": {},
   "source": []
  }
 ],
 "metadata": {
  "kernelspec": {
   "display_name": "Julia 1.11.1",
   "language": "julia",
   "name": "julia-1.11"
  },
  "language_info": {
   "file_extension": ".jl",
   "mimetype": "application/julia",
   "name": "julia",
   "version": "1.11.1"
  }
 },
 "nbformat": 4,
 "nbformat_minor": 4
}
