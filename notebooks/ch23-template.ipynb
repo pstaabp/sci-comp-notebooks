{
 "cells": [
  {
   "cell_type": "markdown",
   "metadata": {},
   "source": [
    "## Chapter 23: Modules and Tests"
   ]
  },
  {
   "cell_type": "markdown",
   "metadata": {},
   "source": [
    "This chapter covers both modules and tests.  Modules are another great way to separate code and put types and common functions together in that they will be used."
   ]
  },
  {
   "cell_type": "markdown",
   "metadata": {},
   "source": [
    "#### 23.1: The Revise package"
   ]
  },
  {
   "cell_type": "markdown",
   "metadata": {},
   "source": [
    "The `Revise` package is a great package to run to build packages.  Recall that since `struct`s are immutable, if you are trying to design a type, then you can't change it once you've made it.  This makes building a type and iterating on it difficult.  The `Revise` package handles this for you.  "
   ]
  },
  {
   "cell_type": "code",
   "execution_count": null,
   "metadata": {},
   "outputs": [],
   "source": [
    "using Revise"
   ]
  },
  {
   "cell_type": "markdown",
   "metadata": {},
   "source": [
    "#### 23.2: Creating a module"
   ]
  },
  {
   "cell_type": "markdown",
   "metadata": {},
   "source": [
    "A `module` is a block of code that often contains:\n",
    "\n",
    "* custom types (structs)\n",
    "* functions\n",
    "* other data needed by the functions and types. "
   ]
  },
  {
   "cell_type": "markdown",
   "metadata": {},
   "source": [
    "A great example is that of the Playing Cards that we've been using in a few chapters in this course.  To creating, here's a template:"
   ]
  },
  {
   "cell_type": "markdown",
   "metadata": {},
   "source": [
    "```\n",
    "module PlayingCards\n",
    "\n",
    "end\n",
    "```"
   ]
  },
  {
   "cell_type": "markdown",
   "metadata": {},
   "source": [
    "We can then put all of the related playing card types and functions inside this module. \n",
    "\n",
    "Note: Julia convention is that a module name is in Pascal case.  \n",
    "\n",
    "Instead of building this module in a jupyter cell, we'll often build it in a separate file.  This has already been done if you go to `../julia-files/PlayingCards.jl`, where `..` means up a directory.  You can open this inside jupyter. "
   ]
  },
  {
   "cell_type": "markdown",
   "metadata": {},
   "source": [
    "Then to load it, we will use the function `includet`, which is part of the `Revise` module.  The `t` stands for tracking in that the function `includet` will track changes to the module and reload as needed."
   ]
  },
  {
   "cell_type": "code",
   "execution_count": null,
   "metadata": {},
   "outputs": [],
   "source": [
    "includet(\"../julia-files/PlayingCards.jl\")"
   ]
  },
  {
   "cell_type": "markdown",
   "metadata": {},
   "source": [
    "And since it is a module, we need to give access to it with the `using` command.  Technically, the `PlayingCards` module is now in `Main` and can be loaded with either `using Main.PlayingCards` or the shortcut: "
   ]
  },
  {
   "cell_type": "code",
   "execution_count": null,
   "metadata": {},
   "outputs": [],
   "source": [
    "using .PlayingCards"
   ]
  },
  {
   "cell_type": "markdown",
   "metadata": {},
   "source": [
    "Now we have access to all of the types and functions."
   ]
  },
  {
   "cell_type": "code",
   "execution_count": null,
   "metadata": {},
   "outputs": [],
   "source": [
    "h = Hand(\"2♡,6♣,2♠,2♢,6♢\")"
   ]
  },
  {
   "cell_type": "code",
   "execution_count": null,
   "metadata": {},
   "outputs": [],
   "source": [
    "isFullHouse(h)"
   ]
  },
  {
   "cell_type": "markdown",
   "metadata": {},
   "source": [
    "If you notice, the module doesn't include the `runTrials` function we wrote in Chapter 15, so let's add that to the module.  (and don't forget to export it)"
   ]
  },
  {
   "cell_type": "code",
   "execution_count": null,
   "metadata": {},
   "outputs": [],
   "source": [
    "\"\"\"\n",
    "    runTrials(f::Function, trials::Integer)\n",
    "\n",
    "For `trials` randomly selected hands, run the function `f` on each hand.  The fraction of hands where `f` is true is returned.\n",
    "\n",
    "### Example\n",
    "```julia-repl\n",
    "runTrials(isFullHouse, 10_000_000)\n",
    "```\n",
    "\"\"\"\n",
    "function runTrials(f::Function, trials::Integer)\n",
    "  local deck=collect(1:52) # creates the array [1,2,3,...,52]\n",
    "  local num_hands=0\n",
    "  for i=1:trials\n",
    "    shuffle!(deck)\n",
    "    h = Hand(map(Card,deck[1:5])) # creates a hand of the first five cards of the shuffled deck\n",
    "    if f(h)\n",
    "      num_hands+=1\n",
    "    end\n",
    "  end\n",
    "  num_hands/trials\n",
    "end"
   ]
  },
  {
   "cell_type": "code",
   "execution_count": null,
   "metadata": {},
   "outputs": [],
   "source": [
    "runTrials(isFullHouse,10_000_000)"
   ]
  },
  {
   "cell_type": "markdown",
   "metadata": {},
   "source": [
    "#### Documenting functions in modules"
   ]
  },
  {
   "cell_type": "markdown",
   "metadata": {},
   "source": [
    "Generally, use `?` before a type or function in Julia will show its documentation.  However, it doesn't appear to work within a notebook (still trying to track this down).  "
   ]
  },
  {
   "cell_type": "code",
   "execution_count": null,
   "metadata": {},
   "outputs": [],
   "source": [
    "?isFullHouse"
   ]
  },
  {
   "cell_type": "markdown",
   "metadata": {},
   "source": [
    "With the `Revise` module loaded and using `includet` on the file containing the module, you will have the ability to edit the julia file (module) and immediately changes are available without restarting the kernel.  This is very useful for creating a module.  \n",
    "\n",
    "First, let's add a `isTwoPair` function to the module. Copy this from when we developed this in Chapter 20. "
   ]
  },
  {
   "cell_type": "code",
   "execution_count": null,
   "metadata": {},
   "outputs": [],
   "source": [
    "two_pair = Hand(\"T♠,T♠,Q♡,A♠,A♢\")"
   ]
  },
  {
   "cell_type": "code",
   "execution_count": null,
   "metadata": {},
   "outputs": [],
   "source": [
    "isTwoPair(two_pair)"
   ]
  },
  {
   "cell_type": "markdown",
   "metadata": {},
   "source": [
    "### Exercise\n",
    "\n",
    "Start a Geometry module by the following steps. \n",
    "1. create a file in VScode called `Geometry.jl`.\n",
    "2. Put the template `module Geometry` then `end` in the file. \n",
    "3. Add your `struct` for `Point2D` from HW #5 inside the module.\n",
    "4. Add the `Base.show` method for `Point2D`\n",
    "4. Save the file\n",
    "5. Load the file with `includet(\"Geometry.jl\")`\n",
    "6. Create a `Point2D` inside the notebook. "
   ]
  },
  {
   "cell_type": "markdown",
   "metadata": {},
   "source": [
    "#### 23.3: Unit Tests"
   ]
  },
  {
   "cell_type": "markdown",
   "metadata": {},
   "source": [
    "A unit test is a way to ensure that code is written in a robust manner.  A test is a piece of code that will determine if something is returned true. In Julia, we will use the `Test` package"
   ]
  },
  {
   "cell_type": "code",
   "execution_count": null,
   "metadata": {},
   "outputs": [],
   "source": [
    "using Test"
   ]
  },
  {
   "cell_type": "markdown",
   "metadata": {},
   "source": [
    "A very simple example is if we define a variable"
   ]
  },
  {
   "cell_type": "code",
   "execution_count": null,
   "metadata": {},
   "outputs": [],
   "source": [
    "n=3"
   ]
  },
  {
   "cell_type": "markdown",
   "metadata": {},
   "source": [
    "and then test if this is 3 using the `@test` macro."
   ]
  },
  {
   "cell_type": "code",
   "execution_count": null,
   "metadata": {},
   "outputs": [],
   "source": [
    "@test n==3"
   ]
  },
  {
   "cell_type": "markdown",
   "metadata": {},
   "source": [
    "We'll start by testing some of the `PlayingCards` types and function.  First, we can test if create a `Card` actually makes a card."
   ]
  },
  {
   "cell_type": "code",
   "execution_count": null,
   "metadata": {},
   "outputs": [],
   "source": [
    "@test isa(Card(1,4),Card)"
   ]
  },
  {
   "cell_type": "markdown",
   "metadata": {},
   "source": [
    "which says yes, running the code `Card(1,4)` creates a Card object.  We can also test the other constructors as well:"
   ]
  },
  {
   "cell_type": "code",
   "execution_count": null,
   "metadata": {},
   "outputs": [],
   "source": [
    "@test isa(Card(35),Card)"
   ]
  },
  {
   "cell_type": "code",
   "execution_count": null,
   "metadata": {},
   "outputs": [],
   "source": [
    "@test isa(Card(\"3♣\"),Card)"
   ]
  },
  {
   "cell_type": "markdown",
   "metadata": {},
   "source": [
    "It's a good idea to also make sure that the checking routines work:"
   ]
  },
  {
   "cell_type": "code",
   "execution_count": null,
   "metadata": {},
   "outputs": [],
   "source": [
    "@test isa(Card(13,5),Card)"
   ]
  },
  {
   "cell_type": "markdown",
   "metadata": {},
   "source": [
    "However, notice that there's an error that the test wasn't passed as well as the error that is throw from the constructor.  A better way to do this is to test if an error is thrown:"
   ]
  },
  {
   "cell_type": "code",
   "execution_count": null,
   "metadata": {},
   "outputs": [],
   "source": [
    "@test_throws ArgumentError Card(13,5)"
   ]
  },
  {
   "cell_type": "markdown",
   "metadata": {},
   "source": [
    "##### Test Sets"
   ]
  },
  {
   "cell_type": "markdown",
   "metadata": {},
   "source": [
    "A nice way to collect tests together in common ways is to make a test set.  The following covers all successfully constructed Cards:"
   ]
  },
  {
   "cell_type": "code",
   "execution_count": null,
   "metadata": {},
   "outputs": [],
   "source": [
    "@testset \"Legal Card Constructor\" begin\n",
    "        @test isa(Card(1,3),Card)\n",
    "        @test isa(Card(45),Card)\n",
    "        @test isa(Card(\"3\\u2660\"),Card)\n",
    "        @test isa(Card(\"T♣\"),Card)\n",
    "end;"
   ]
  },
  {
   "cell_type": "markdown",
   "metadata": {},
   "source": [
    "The idea of a test suite (many test sets that are associated with a module) is to have it on hand so when you update things, you don't break anything (have a regression). So we will put this in a file that we can just load"
   ]
  },
  {
   "cell_type": "markdown",
   "metadata": {},
   "source": [
    "### Exercise\n",
    "- Construct the following hands: full house, four of a kind, 2 pair and royal flush\n",
    "- create a test suite on the  hands on `isFullHouse` and another test suite for `isRoyalFlush`."
   ]
  },
  {
   "cell_type": "code",
   "execution_count": null,
   "metadata": {},
   "outputs": [],
   "source": [
    "royal_flush = Hand(\"T♠,J♠,Q♠,K♠,A♠\")\n",
    "full_house = Hand(\"4♣,4♢,4♠,7♣,7♢\")\n",
    "four_of_a_kind = Hand(\"2♠,5♠,5♢,5♣,5♡\")\n",
    "two_pair = Hand(\"4♣,4♢,5♠,7♣,7♢\")"
   ]
  },
  {
   "cell_type": "code",
   "execution_count": null,
   "metadata": {},
   "outputs": [],
   "source": []
  },
  {
   "cell_type": "markdown",
   "metadata": {},
   "source": [
    "The nice thing is to put all of your tests/test suites in a single file"
   ]
  },
  {
   "cell_type": "code",
   "execution_count": null,
   "metadata": {},
   "outputs": [],
   "source": [
    "include(\"../julia-files/test-playing-cards.jl\")"
   ]
  },
  {
   "cell_type": "markdown",
   "metadata": {},
   "source": [
    "#### 23.5: A Rootfinding Module"
   ]
  },
  {
   "cell_type": "markdown",
   "metadata": {},
   "source": [
    "We will also create a Rootfinding module that has some of the functions that we have seen over this course.  They are in the `Rootfinding.jl` file in the `julia-files` directory:"
   ]
  },
  {
   "cell_type": "code",
   "execution_count": null,
   "metadata": {},
   "outputs": [],
   "source": [
    "includet(\"../julia-files/Rootfinding.jl\")\n",
    "using .Rootfinding"
   ]
  },
  {
   "cell_type": "markdown",
   "metadata": {},
   "source": [
    "Take a look at that file:"
   ]
  },
  {
   "cell_type": "code",
   "execution_count": null,
   "metadata": {},
   "outputs": [],
   "source": [
    "newton(x->x^2-2,1)"
   ]
  },
  {
   "cell_type": "code",
   "execution_count": null,
   "metadata": {},
   "outputs": [],
   "source": [
    "newton(x->x^2+3,1, max_steps=19)"
   ]
  },
  {
   "cell_type": "code",
   "execution_count": null,
   "metadata": {},
   "outputs": [],
   "source": [
    "x = newton(x->x^2-2,1)"
   ]
  },
  {
   "cell_type": "markdown",
   "metadata": {},
   "source": [
    "It would be good to include some tests with this module.  Let's test if the root above is actually $\\sqrt{2}$."
   ]
  },
  {
   "cell_type": "code",
   "execution_count": null,
   "metadata": {},
   "outputs": [],
   "source": [
    "@test x.root == sqrt(2)"
   ]
  },
  {
   "cell_type": "markdown",
   "metadata": {},
   "source": [
    "And this fails because the two are not exactly equal.  Recall that floating point numbers are equal only all bits are equal.  Instead we will use the `isapprox` function which tests for equality within a tolerance (a bit complicated), see `?isapprox`."
   ]
  },
  {
   "cell_type": "code",
   "execution_count": null,
   "metadata": {},
   "outputs": [],
   "source": [
    "@test isapprox(x.root,sqrt(2))"
   ]
  },
  {
   "cell_type": "code",
   "execution_count": null,
   "metadata": {},
   "outputs": [],
   "source": [
    "x = newton(x->x^2+1,2)"
   ]
  },
  {
   "cell_type": "code",
   "execution_count": null,
   "metadata": {},
   "outputs": [],
   "source": [
    "@test !x.converged"
   ]
  },
  {
   "cell_type": "code",
   "execution_count": null,
   "metadata": {},
   "outputs": [],
   "source": [
    "@testset \"function with no root\" begin\n",
    "  val = newton(x->x^2+1,2)\n",
    "  @test !val.converged\n",
    "  @test val.num_steps == val.max_steps\n",
    " end;"
   ]
  },
  {
   "cell_type": "code",
   "execution_count": null,
   "metadata": {},
   "outputs": [],
   "source": []
  },
  {
   "cell_type": "markdown",
   "metadata": {},
   "source": [
    "### 23.6 Test Driven Development\n",
    "\n",
    "The current thinking on developing code (either in Scientific Computing or other fields) is that of _Test Driven Development_ or TDD.  This basically flips the order of development.  One using TDD would first start with writing all of the test suites.  That is what you want everything to return.  After satisfied with this, you then write all of the functions and continually test while developing. "
   ]
  },
  {
   "cell_type": "markdown",
   "metadata": {},
   "source": [
    "### Example\n",
    "\n",
    "If we would have used TDD to develop the Playing card code, we could write a function that goes through all 5-card hands (this isn't too bad to write) and for each hand type, determine the total number of hands (this is listed in the wikipedia article).  Then you can write all testing for types until getting the desired results. "
   ]
  },
  {
   "cell_type": "markdown",
   "metadata": {},
   "source": []
  }
 ],
 "metadata": {
  "kernelspec": {
   "display_name": "Julia 1.11.1",
   "language": "julia",
   "name": "julia-1.11"
  },
  "language_info": {
   "file_extension": ".jl",
   "mimetype": "application/julia",
   "name": "julia",
   "version": "1.11.1"
  }
 },
 "nbformat": 4,
 "nbformat_minor": 4
}
