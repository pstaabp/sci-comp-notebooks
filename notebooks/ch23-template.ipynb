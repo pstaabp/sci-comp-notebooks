{
 "cells": [
  {
   "cell_type": "markdown",
   "metadata": {},
   "source": [
    "## Chapter 23: Linear Algebra"
   ]
  },
  {
   "cell_type": "code",
   "execution_count": 1,
   "metadata": {},
   "outputs": [],
   "source": [
    "using LinearAlgebra"
   ]
  },
  {
   "cell_type": "code",
   "execution_count": 2,
   "metadata": {},
   "outputs": [
    {
     "data": {
      "text/plain": [
       "3×3 Array{Bool,2}:\n",
       " 1  0  0\n",
       " 0  1  0\n",
       " 0  0  1"
      ]
     },
     "execution_count": 2,
     "metadata": {},
     "output_type": "execute_result"
    }
   ],
   "source": [
    "Matrix(I,3,3)"
   ]
  },
  {
   "cell_type": "code",
   "execution_count": 3,
   "metadata": {},
   "outputs": [
    {
     "data": {
      "text/plain": [
       "3×3 Array{Int64,2}:\n",
       " 2  3  4\n",
       " 3  4  5\n",
       " 4  5  6"
      ]
     },
     "execution_count": 3,
     "metadata": {},
     "output_type": "execute_result"
    }
   ],
   "source": [
    "A = [i+j for i=1:3,j=1:3]"
   ]
  },
  {
   "cell_type": "code",
   "execution_count": 4,
   "metadata": {},
   "outputs": [
    {
     "ename": "SingularException",
     "evalue": "SingularException(3)",
     "output_type": "error",
     "traceback": [
      "SingularException(3)",
      "",
      "Stacktrace:",
      " [1] checknonsingular at /Users/julia/buildbot/worker/package_macos64/build/usr/share/julia/stdlib/v1.5/LinearAlgebra/src/factorization.jl:19 [inlined]",
      " [2] checknonsingular at /Users/julia/buildbot/worker/package_macos64/build/usr/share/julia/stdlib/v1.5/LinearAlgebra/src/factorization.jl:21 [inlined]",
      " [3] lu!(::Array{Float64,2}, ::Val{true}; check::Bool) at /Users/julia/buildbot/worker/package_macos64/build/usr/share/julia/stdlib/v1.5/LinearAlgebra/src/lu.jl:85",
      " [4] #lu#136 at /Users/julia/buildbot/worker/package_macos64/build/usr/share/julia/stdlib/v1.5/LinearAlgebra/src/lu.jl:273 [inlined]",
      " [5] lu at /Users/julia/buildbot/worker/package_macos64/build/usr/share/julia/stdlib/v1.5/LinearAlgebra/src/lu.jl:272 [inlined] (repeats 2 times)",
      " [6] inv(::Array{Int64,2}) at /Users/julia/buildbot/worker/package_macos64/build/usr/share/julia/stdlib/v1.5/LinearAlgebra/src/dense.jl:781",
      " [7] top-level scope at In[4]:1"
     ]
    }
   ],
   "source": [
    "inv(A)"
   ]
  },
  {
   "cell_type": "code",
   "execution_count": 5,
   "metadata": {},
   "outputs": [
    {
     "data": {
      "text/plain": [
       "3×3 Array{Int64,2}:\n",
       " 3  2  1\n",
       " 0  2  0\n",
       " 1  2  3"
      ]
     },
     "execution_count": 5,
     "metadata": {},
     "output_type": "execute_result"
    }
   ],
   "source": [
    "B = [ 3 2 1; 0 2 0; 1 2 3]"
   ]
  },
  {
   "cell_type": "code",
   "execution_count": 6,
   "metadata": {},
   "outputs": [
    {
     "data": {
      "text/plain": [
       "3×3 Array{Float64,2}:\n",
       "  0.375  -0.25  -0.125\n",
       "  0.0     0.5   -0.0\n",
       " -0.125  -0.25   0.375"
      ]
     },
     "execution_count": 6,
     "metadata": {},
     "output_type": "execute_result"
    }
   ],
   "source": [
    "inv(B)"
   ]
  },
  {
   "cell_type": "code",
   "execution_count": 7,
   "metadata": {},
   "outputs": [
    {
     "data": {
      "text/plain": [
       "3-element Array{Int64,1}:\n",
       " 1\n",
       " 2\n",
       " 3"
      ]
     },
     "execution_count": 7,
     "metadata": {},
     "output_type": "execute_result"
    }
   ],
   "source": [
    "A = [0 1 1; 1 2 1; 1 1 -1]\n",
    "b = [1,2,3]"
   ]
  },
  {
   "cell_type": "code",
   "execution_count": 8,
   "metadata": {},
   "outputs": [
    {
     "data": {
      "text/plain": [
       "3-element Array{Float64,1}:\n",
       " -2.0\n",
       "  3.0\n",
       " -2.0"
      ]
     },
     "execution_count": 8,
     "metadata": {},
     "output_type": "execute_result"
    }
   ],
   "source": [
    "x = A \\ b"
   ]
  },
  {
   "cell_type": "code",
   "execution_count": 9,
   "metadata": {},
   "outputs": [
    {
     "data": {
      "text/plain": [
       "3-element Array{Float64,1}:\n",
       " 1.0\n",
       " 2.0\n",
       " 3.0"
      ]
     },
     "execution_count": 9,
     "metadata": {},
     "output_type": "execute_result"
    }
   ],
   "source": [
    "A*x"
   ]
  },
  {
   "cell_type": "code",
   "execution_count": 10,
   "metadata": {},
   "outputs": [
    {
     "data": {
      "text/plain": [
       "5×5 Tridiagonal{Int64,Array{Int64,1}}:\n",
       "  2  -1   ⋅   ⋅   ⋅\n",
       " -1   2  -1   ⋅   ⋅\n",
       "  ⋅  -1   2  -1   ⋅\n",
       "  ⋅   ⋅  -1   2  -1\n",
       "  ⋅   ⋅   ⋅  -1   2"
      ]
     },
     "execution_count": 10,
     "metadata": {},
     "output_type": "execute_result"
    }
   ],
   "source": [
    "T = Tridiagonal([-1 for i=1:4],[2 for j=1:5],[-1 for j=1:4])"
   ]
  },
  {
   "cell_type": "code",
   "execution_count": 11,
   "metadata": {},
   "outputs": [
    {
     "data": {
      "text/plain": [
       "5×5 Diagonal{Int64,Array{Int64,1}}:\n",
       " 1  ⋅  ⋅  ⋅  ⋅\n",
       " ⋅  2  ⋅  ⋅  ⋅\n",
       " ⋅  ⋅  3  ⋅  ⋅\n",
       " ⋅  ⋅  ⋅  4  ⋅\n",
       " ⋅  ⋅  ⋅  ⋅  5"
      ]
     },
     "execution_count": 11,
     "metadata": {},
     "output_type": "execute_result"
    }
   ],
   "source": [
    "D = Diagonal([1,2,3,4,5])"
   ]
  },
  {
   "cell_type": "code",
   "execution_count": 12,
   "metadata": {},
   "outputs": [
    {
     "data": {
      "text/plain": [
       "5×5 Tridiagonal{Int64,Array{Int64,1}}:\n",
       "  2  -1   ⋅   ⋅   ⋅\n",
       " -2   4  -2   ⋅   ⋅\n",
       "  ⋅  -3   6  -3   ⋅\n",
       "  ⋅   ⋅  -4   8  -4\n",
       "  ⋅   ⋅   ⋅  -5  10"
      ]
     },
     "execution_count": 12,
     "metadata": {},
     "output_type": "execute_result"
    }
   ],
   "source": [
    "D*T"
   ]
  },
  {
   "cell_type": "code",
   "execution_count": 13,
   "metadata": {},
   "outputs": [
    {
     "data": {
      "text/plain": [
       "5×5 Array{Float64,2}:\n",
       " 0.833333  1.33333   1.5  1.33333  0.833333\n",
       " 0.666667  2.66667   3.0  2.66667  1.66667\n",
       " 0.5       2.0       4.5  4.0      2.5\n",
       " 0.333333  1.33333   3.0  5.33333  3.33333\n",
       " 0.166667  0.666667  1.5  2.66667  4.16667"
      ]
     },
     "execution_count": 13,
     "metadata": {},
     "output_type": "execute_result"
    }
   ],
   "source": [
    "T \\ D"
   ]
  },
  {
   "cell_type": "code",
   "execution_count": 14,
   "metadata": {},
   "outputs": [
    {
     "data": {
      "text/plain": [
       "5×5 Array{Float64,2}:\n",
       " 0.833333  1.33333   1.5  1.33333  0.833333\n",
       " 0.666667  2.66667   3.0  2.66667  1.66667\n",
       " 0.5       2.0       4.5  4.0      2.5\n",
       " 0.333333  1.33333   3.0  5.33333  3.33333\n",
       " 0.166667  0.666667  1.5  2.66667  4.16667"
      ]
     },
     "execution_count": 14,
     "metadata": {},
     "output_type": "execute_result"
    }
   ],
   "source": [
    "inv(T)*D"
   ]
  },
  {
   "cell_type": "code",
   "execution_count": 15,
   "metadata": {},
   "outputs": [
    {
     "data": {
      "text/plain": [
       "5×5 Tridiagonal{Float64,Array{Float64,1}}:\n",
       "  2.0  -1.0         ⋅          ⋅          ⋅ \n",
       " -0.5   1.0       -0.5         ⋅          ⋅ \n",
       "   ⋅   -0.333333   0.666667  -0.333333    ⋅ \n",
       "   ⋅     ⋅        -0.25       0.5       -0.25\n",
       "   ⋅     ⋅          ⋅        -0.2        0.4"
      ]
     },
     "execution_count": 15,
     "metadata": {},
     "output_type": "execute_result"
    }
   ],
   "source": [
    "inv(D)*T"
   ]
  },
  {
   "cell_type": "code",
   "execution_count": 25,
   "metadata": {},
   "outputs": [
    {
     "data": {
      "text/plain": [
       "5×5 Diagonal{Float64,Array{Float64,1}}:\n",
       " 1.0   ⋅    ⋅         ⋅     ⋅ \n",
       "  ⋅   0.5   ⋅         ⋅     ⋅ \n",
       "  ⋅    ⋅   0.333333   ⋅     ⋅ \n",
       "  ⋅    ⋅    ⋅        0.25   ⋅ \n",
       "  ⋅    ⋅    ⋅         ⋅    0.2"
      ]
     },
     "execution_count": 25,
     "metadata": {},
     "output_type": "execute_result"
    }
   ],
   "source": [
    "inv(D)"
   ]
  },
  {
   "cell_type": "code",
   "execution_count": 16,
   "metadata": {},
   "outputs": [
    {
     "data": {
      "text/html": [
       "# 28 methods for generic function <b>det</b>:<ul><li> det(lu::<b>SuiteSparse.UMFPACK.UmfpackLU{Float64,Int32}</b>) in SuiteSparse.UMFPACK at <a href=\"file:///Users/julia/buildbot/worker/package_macos64/build/usr/share/julia/stdlib/v1.5/SuiteSparse/src/umfpack.jl\" target=\"_blank\">/Applications/Julia-1.5.app/Contents/Resources/julia/share/julia/stdlib/v1.5/SuiteSparse/src/umfpack.jl:392</a></li> <li> det(lu::<b>SuiteSparse.UMFPACK.UmfpackLU{Float64,Int64}</b>) in SuiteSparse.UMFPACK at <a href=\"file:///Users/julia/buildbot/worker/package_macos64/build/usr/share/julia/stdlib/v1.5/SuiteSparse/src/umfpack.jl\" target=\"_blank\">/Applications/Julia-1.5.app/Contents/Resources/julia/share/julia/stdlib/v1.5/SuiteSparse/src/umfpack.jl:392</a></li> <li> det(lu::<b>SuiteSparse.UMFPACK.UmfpackLU{Complex{Float64},Int64}</b>) in SuiteSparse.UMFPACK at <a href=\"file:///Users/julia/buildbot/worker/package_macos64/build/usr/share/julia/stdlib/v1.5/SuiteSparse/src/umfpack.jl\" target=\"_blank\">/Applications/Julia-1.5.app/Contents/Resources/julia/share/julia/stdlib/v1.5/SuiteSparse/src/umfpack.jl:399</a></li> <li> det(lu::<b>SuiteSparse.UMFPACK.UmfpackLU{Complex{Float64},Int32}</b>) in SuiteSparse.UMFPACK at <a href=\"file:///Users/julia/buildbot/worker/package_macos64/build/usr/share/julia/stdlib/v1.5/SuiteSparse/src/umfpack.jl\" target=\"_blank\">/Applications/Julia-1.5.app/Contents/Resources/julia/share/julia/stdlib/v1.5/SuiteSparse/src/umfpack.jl:399</a></li> <li> det(A::<b>SymTridiagonal</b>; <i>shift</i>) in LinearAlgebra at <a href=\"file:///Users/julia/buildbot/worker/package_macos64/build/usr/share/julia/stdlib/v1.5/LinearAlgebra/src/tridiag.jl\" target=\"_blank\">/Applications/Julia-1.5.app/Contents/Resources/julia/share/julia/stdlib/v1.5/LinearAlgebra/src/tridiag.jl:440</a></li> <li> det(A::<b>Tridiagonal</b>) in LinearAlgebra at <a href=\"file:///Users/julia/buildbot/worker/package_macos64/build/usr/share/julia/stdlib/v1.5/LinearAlgebra/src/tridiag.jl\" target=\"_blank\">/Applications/Julia-1.5.app/Contents/Resources/julia/share/julia/stdlib/v1.5/LinearAlgebra/src/tridiag.jl:742</a></li> <li> det(A::<b>UnitUpperTriangular{T,S} where S<:AbstractArray{T,2}</b>)<i> where T</i> in LinearAlgebra at <a href=\"file:///Users/julia/buildbot/worker/package_macos64/build/usr/share/julia/stdlib/v1.5/LinearAlgebra/src/triangular.jl\" target=\"_blank\">/Applications/Julia-1.5.app/Contents/Resources/julia/share/julia/stdlib/v1.5/LinearAlgebra/src/triangular.jl:2648</a></li> <li> det(A::<b>UnitLowerTriangular{T,S} where S<:AbstractArray{T,2}</b>)<i> where T</i> in LinearAlgebra at <a href=\"file:///Users/julia/buildbot/worker/package_macos64/build/usr/share/julia/stdlib/v1.5/LinearAlgebra/src/triangular.jl\" target=\"_blank\">/Applications/Julia-1.5.app/Contents/Resources/julia/share/julia/stdlib/v1.5/LinearAlgebra/src/triangular.jl:2649</a></li> <li> det(A::<b>UpperTriangular</b>) in LinearAlgebra at <a href=\"file:///Users/julia/buildbot/worker/package_macos64/build/usr/share/julia/stdlib/v1.5/LinearAlgebra/src/triangular.jl\" target=\"_blank\">/Applications/Julia-1.5.app/Contents/Resources/julia/share/julia/stdlib/v1.5/LinearAlgebra/src/triangular.jl:2654</a></li> <li> det(A::<b>LowerTriangular</b>) in LinearAlgebra at <a href=\"file:///Users/julia/buildbot/worker/package_macos64/build/usr/share/julia/stdlib/v1.5/LinearAlgebra/src/triangular.jl\" target=\"_blank\">/Applications/Julia-1.5.app/Contents/Resources/julia/share/julia/stdlib/v1.5/LinearAlgebra/src/triangular.jl:2655</a></li> <li> det(Q::<b>LinearAlgebra.QRPackedQ</b>) in LinearAlgebra at <a href=\"file:///Users/julia/buildbot/worker/package_macos64/build/usr/share/julia/stdlib/v1.5/LinearAlgebra/src/qr.jl\" target=\"_blank\">/Applications/Julia-1.5.app/Contents/Resources/julia/share/julia/stdlib/v1.5/LinearAlgebra/src/qr.jl:922</a></li> <li> det(Q::<b>LinearAlgebra.QRCompactWYQ</b>) in LinearAlgebra at <a href=\"file:///Users/julia/buildbot/worker/package_macos64/build/usr/share/julia/stdlib/v1.5/LinearAlgebra/src/qr.jl\" target=\"_blank\">/Applications/Julia-1.5.app/Contents/Resources/julia/share/julia/stdlib/v1.5/LinearAlgebra/src/qr.jl:924</a></li> <li> det(Q::<b>LinearAlgebra.LQPackedQ</b>) in LinearAlgebra at <a href=\"file:///Users/julia/buildbot/worker/package_macos64/build/usr/share/julia/stdlib/v1.5/LinearAlgebra/src/lq.jl\" target=\"_blank\">/Applications/Julia-1.5.app/Contents/Resources/julia/share/julia/stdlib/v1.5/LinearAlgebra/src/lq.jl:342</a></li> <li> det(A::<b>Symmetric{var\"#s826\",S} where S<:(AbstractArray{var\"#s8261\",2} where var\"#s8261\"<:var\"#s826\") where var\"#s826\"<:Real</b>) in LinearAlgebra at <a href=\"file:///Users/julia/buildbot/worker/package_macos64/build/usr/share/julia/stdlib/v1.5/LinearAlgebra/src/symmetric.jl\" target=\"_blank\">/Applications/Julia-1.5.app/Contents/Resources/julia/share/julia/stdlib/v1.5/LinearAlgebra/src/symmetric.jl:645</a></li> <li> det(A::<b>Union{Hermitian{T,S}, Hermitian{Complex{T},S}, Symmetric{T,S}} where S where T<:Real</b>) in LinearAlgebra at <a href=\"file:///Users/julia/buildbot/worker/package_macos64/build/usr/share/julia/stdlib/v1.5/LinearAlgebra/src/symmetric.jl\" target=\"_blank\">/Applications/Julia-1.5.app/Contents/Resources/julia/share/julia/stdlib/v1.5/LinearAlgebra/src/symmetric.jl:644</a></li> <li> det(A::<b>Symmetric</b>) in LinearAlgebra at <a href=\"file:///Users/julia/buildbot/worker/package_macos64/build/usr/share/julia/stdlib/v1.5/LinearAlgebra/src/symmetric.jl\" target=\"_blank\">/Applications/Julia-1.5.app/Contents/Resources/julia/share/julia/stdlib/v1.5/LinearAlgebra/src/symmetric.jl:646</a></li> <li> det(D::<b>Diagonal</b>) in LinearAlgebra at <a href=\"file:///Users/julia/buildbot/worker/package_macos64/build/usr/share/julia/stdlib/v1.5/LinearAlgebra/src/diagonal.jl\" target=\"_blank\">/Applications/Julia-1.5.app/Contents/Resources/julia/share/julia/stdlib/v1.5/LinearAlgebra/src/diagonal.jl:563</a></li> <li> det(F::<b>UpperHessenberg</b>; <i>shift</i>) in LinearAlgebra at <a href=\"file:///Users/julia/buildbot/worker/package_macos64/build/usr/share/julia/stdlib/v1.5/LinearAlgebra/src/hessenberg.jl\" target=\"_blank\">/Applications/Julia-1.5.app/Contents/Resources/julia/share/julia/stdlib/v1.5/LinearAlgebra/src/hessenberg.jl:230</a></li> <li> det(A::<b>AbstractArray{T,2}</b>)<i> where T</i> in LinearAlgebra at <a href=\"file:///Users/julia/buildbot/worker/package_macos64/build/usr/share/julia/stdlib/v1.5/LinearAlgebra/src/generic.jl\" target=\"_blank\">/Applications/Julia-1.5.app/Contents/Resources/julia/share/julia/stdlib/v1.5/LinearAlgebra/src/generic.jl:1533</a></li> <li> det(x::<b>Number</b>) in LinearAlgebra at <a href=\"file:///Users/julia/buildbot/worker/package_macos64/build/usr/share/julia/stdlib/v1.5/LinearAlgebra/src/generic.jl\" target=\"_blank\">/Applications/Julia-1.5.app/Contents/Resources/julia/share/julia/stdlib/v1.5/LinearAlgebra/src/generic.jl:1540</a></li> <li> det(A::<b>Eigen</b>) in LinearAlgebra at <a href=\"file:///Users/julia/buildbot/worker/package_macos64/build/usr/share/julia/stdlib/v1.5/LinearAlgebra/src/eigen.jl\" target=\"_blank\">/Applications/Julia-1.5.app/Contents/Resources/julia/share/julia/stdlib/v1.5/LinearAlgebra/src/eigen.jl:424</a></li> <li> det(C::<b>Cholesky</b>) in LinearAlgebra at <a href=\"file:///Users/julia/buildbot/worker/package_macos64/build/usr/share/julia/stdlib/v1.5/LinearAlgebra/src/cholesky.jl\" target=\"_blank\">/Applications/Julia-1.5.app/Contents/Resources/julia/share/julia/stdlib/v1.5/LinearAlgebra/src/cholesky.jl:553</a></li> <li> det(C::<b>CholeskyPivoted</b>) in LinearAlgebra at <a href=\"file:///Users/julia/buildbot/worker/package_macos64/build/usr/share/julia/stdlib/v1.5/LinearAlgebra/src/cholesky.jl\" target=\"_blank\">/Applications/Julia-1.5.app/Contents/Resources/julia/share/julia/stdlib/v1.5/LinearAlgebra/src/cholesky.jl:569</a></li> <li> det(F::<b>LU{T,S} where S<:AbstractArray{T,2}</b>)<i> where T</i> in LinearAlgebra at <a href=\"file:///Users/julia/buildbot/worker/package_macos64/build/usr/share/julia/stdlib/v1.5/LinearAlgebra/src/lu.jl\" target=\"_blank\">/Applications/Julia-1.5.app/Contents/Resources/julia/share/julia/stdlib/v1.5/LinearAlgebra/src/lu.jl:442</a></li> <li> det(F::<b>Hessenberg</b>) in LinearAlgebra at <a href=\"file:///Users/julia/buildbot/worker/package_macos64/build/usr/share/julia/stdlib/v1.5/LinearAlgebra/src/hessenberg.jl\" target=\"_blank\">/Applications/Julia-1.5.app/Contents/Resources/julia/share/julia/stdlib/v1.5/LinearAlgebra/src/hessenberg.jl:604</a></li> <li> det(L::<b>SuiteSparse.CHOLMOD.Factor</b>) in SuiteSparse.CHOLMOD at <a href=\"file:///Users/julia/buildbot/worker/package_macos64/build/usr/share/julia/stdlib/v1.5/SuiteSparse/src/cholmod.jl\" target=\"_blank\">/Applications/Julia-1.5.app/Contents/Resources/julia/share/julia/stdlib/v1.5/SuiteSparse/src/cholmod.jl:1805</a></li> <li> det(F::<b>Factorization</b>) in LinearAlgebra at <a href=\"file:///Users/julia/buildbot/worker/package_macos64/build/usr/share/julia/stdlib/v1.5/LinearAlgebra/src/factorization.jl\" target=\"_blank\">/Applications/Julia-1.5.app/Contents/Resources/julia/share/julia/stdlib/v1.5/LinearAlgebra/src/factorization.jl:47</a></li> <li> det(J::<b>UniformScaling{T}</b>)<i> where T</i> in LinearAlgebra at <a href=\"file:///Users/julia/buildbot/worker/package_macos64/build/usr/share/julia/stdlib/v1.5/LinearAlgebra/src/uniformscaling.jl\" target=\"_blank\">/Applications/Julia-1.5.app/Contents/Resources/julia/share/julia/stdlib/v1.5/LinearAlgebra/src/uniformscaling.jl:205</a></li> </ul>"
      ],
      "text/plain": [
       "# 28 methods for generic function \"det\":\n",
       "[1] det(lu::SuiteSparse.UMFPACK.UmfpackLU{Float64,Int32}) in SuiteSparse.UMFPACK at /Applications/Julia-1.5.app/Contents/Resources/julia/share/julia/stdlib/v1.5/SuiteSparse/src/umfpack.jl:392\n",
       "[2] det(lu::SuiteSparse.UMFPACK.UmfpackLU{Float64,Int64}) in SuiteSparse.UMFPACK at /Applications/Julia-1.5.app/Contents/Resources/julia/share/julia/stdlib/v1.5/SuiteSparse/src/umfpack.jl:392\n",
       "[3] det(lu::SuiteSparse.UMFPACK.UmfpackLU{Complex{Float64},Int64}) in SuiteSparse.UMFPACK at /Applications/Julia-1.5.app/Contents/Resources/julia/share/julia/stdlib/v1.5/SuiteSparse/src/umfpack.jl:399\n",
       "[4] det(lu::SuiteSparse.UMFPACK.UmfpackLU{Complex{Float64},Int32}) in SuiteSparse.UMFPACK at /Applications/Julia-1.5.app/Contents/Resources/julia/share/julia/stdlib/v1.5/SuiteSparse/src/umfpack.jl:399\n",
       "[5] det(A::SymTridiagonal; shift) in LinearAlgebra at /Applications/Julia-1.5.app/Contents/Resources/julia/share/julia/stdlib/v1.5/LinearAlgebra/src/tridiag.jl:440\n",
       "[6] det(A::Tridiagonal) in LinearAlgebra at /Applications/Julia-1.5.app/Contents/Resources/julia/share/julia/stdlib/v1.5/LinearAlgebra/src/tridiag.jl:742\n",
       "[7] det(A::UnitUpperTriangular{T,S} where S<:AbstractArray{T,2}) where T in LinearAlgebra at /Applications/Julia-1.5.app/Contents/Resources/julia/share/julia/stdlib/v1.5/LinearAlgebra/src/triangular.jl:2648\n",
       "[8] det(A::UnitLowerTriangular{T,S} where S<:AbstractArray{T,2}) where T in LinearAlgebra at /Applications/Julia-1.5.app/Contents/Resources/julia/share/julia/stdlib/v1.5/LinearAlgebra/src/triangular.jl:2649\n",
       "[9] det(A::UpperTriangular) in LinearAlgebra at /Applications/Julia-1.5.app/Contents/Resources/julia/share/julia/stdlib/v1.5/LinearAlgebra/src/triangular.jl:2654\n",
       "[10] det(A::LowerTriangular) in LinearAlgebra at /Applications/Julia-1.5.app/Contents/Resources/julia/share/julia/stdlib/v1.5/LinearAlgebra/src/triangular.jl:2655\n",
       "[11] det(Q::LinearAlgebra.QRPackedQ) in LinearAlgebra at /Applications/Julia-1.5.app/Contents/Resources/julia/share/julia/stdlib/v1.5/LinearAlgebra/src/qr.jl:922\n",
       "[12] det(Q::LinearAlgebra.QRCompactWYQ) in LinearAlgebra at /Applications/Julia-1.5.app/Contents/Resources/julia/share/julia/stdlib/v1.5/LinearAlgebra/src/qr.jl:924\n",
       "[13] det(Q::LinearAlgebra.LQPackedQ) in LinearAlgebra at /Applications/Julia-1.5.app/Contents/Resources/julia/share/julia/stdlib/v1.5/LinearAlgebra/src/lq.jl:342\n",
       "[14] det(A::Symmetric{var\"#s826\",S} where S<:(AbstractArray{var\"#s8261\",2} where var\"#s8261\"<:var\"#s826\") where var\"#s826\"<:Real) in LinearAlgebra at /Applications/Julia-1.5.app/Contents/Resources/julia/share/julia/stdlib/v1.5/LinearAlgebra/src/symmetric.jl:645\n",
       "[15] det(A::Union{Hermitian{T,S}, Hermitian{Complex{T},S}, Symmetric{T,S}} where S where T<:Real) in LinearAlgebra at /Applications/Julia-1.5.app/Contents/Resources/julia/share/julia/stdlib/v1.5/LinearAlgebra/src/symmetric.jl:644\n",
       "[16] det(A::Symmetric) in LinearAlgebra at /Applications/Julia-1.5.app/Contents/Resources/julia/share/julia/stdlib/v1.5/LinearAlgebra/src/symmetric.jl:646\n",
       "[17] det(D::Diagonal) in LinearAlgebra at /Applications/Julia-1.5.app/Contents/Resources/julia/share/julia/stdlib/v1.5/LinearAlgebra/src/diagonal.jl:563\n",
       "[18] det(F::UpperHessenberg; shift) in LinearAlgebra at /Applications/Julia-1.5.app/Contents/Resources/julia/share/julia/stdlib/v1.5/LinearAlgebra/src/hessenberg.jl:230\n",
       "[19] det(A::AbstractArray{T,2}) where T in LinearAlgebra at /Applications/Julia-1.5.app/Contents/Resources/julia/share/julia/stdlib/v1.5/LinearAlgebra/src/generic.jl:1533\n",
       "[20] det(x::Number) in LinearAlgebra at /Applications/Julia-1.5.app/Contents/Resources/julia/share/julia/stdlib/v1.5/LinearAlgebra/src/generic.jl:1540\n",
       "[21] det(A::Eigen) in LinearAlgebra at /Applications/Julia-1.5.app/Contents/Resources/julia/share/julia/stdlib/v1.5/LinearAlgebra/src/eigen.jl:424\n",
       "[22] det(C::Cholesky) in LinearAlgebra at /Applications/Julia-1.5.app/Contents/Resources/julia/share/julia/stdlib/v1.5/LinearAlgebra/src/cholesky.jl:553\n",
       "[23] det(C::CholeskyPivoted) in LinearAlgebra at /Applications/Julia-1.5.app/Contents/Resources/julia/share/julia/stdlib/v1.5/LinearAlgebra/src/cholesky.jl:569\n",
       "[24] det(F::LU{T,S} where S<:AbstractArray{T,2}) where T in LinearAlgebra at /Applications/Julia-1.5.app/Contents/Resources/julia/share/julia/stdlib/v1.5/LinearAlgebra/src/lu.jl:442\n",
       "[25] det(F::Hessenberg) in LinearAlgebra at /Applications/Julia-1.5.app/Contents/Resources/julia/share/julia/stdlib/v1.5/LinearAlgebra/src/hessenberg.jl:604\n",
       "[26] det(L::SuiteSparse.CHOLMOD.Factor) in SuiteSparse.CHOLMOD at /Applications/Julia-1.5.app/Contents/Resources/julia/share/julia/stdlib/v1.5/SuiteSparse/src/cholmod.jl:1805\n",
       "[27] det(F::Factorization) in LinearAlgebra at /Applications/Julia-1.5.app/Contents/Resources/julia/share/julia/stdlib/v1.5/LinearAlgebra/src/factorization.jl:47\n",
       "[28] det(J::UniformScaling{T}) where T in LinearAlgebra at /Applications/Julia-1.5.app/Contents/Resources/julia/share/julia/stdlib/v1.5/LinearAlgebra/src/uniformscaling.jl:205"
      ]
     },
     "execution_count": 16,
     "metadata": {},
     "output_type": "execute_result"
    }
   ],
   "source": [
    "methods(det)"
   ]
  },
  {
   "cell_type": "code",
   "execution_count": null,
   "metadata": {},
   "outputs": [],
   "source": []
  }
 ],
 "metadata": {
  "kernelspec": {
   "display_name": "Julia 1.5.0",
   "language": "julia",
   "name": "julia-1.5"
  },
  "language_info": {
   "file_extension": ".jl",
   "mimetype": "application/julia",
   "name": "julia",
   "version": "1.5.0"
  }
 },
 "nbformat": 4,
 "nbformat_minor": 4
}
