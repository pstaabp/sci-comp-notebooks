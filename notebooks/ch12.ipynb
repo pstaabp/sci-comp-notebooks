{
 "cells": [
  {
   "cell_type": "markdown",
   "metadata": {},
   "source": [
    "## Chapter 12: New Data Types in Julia"
   ]
  },
  {
   "cell_type": "markdown",
   "metadata": {},
   "source": [
    "In this chapter we investigate how to create a new datatype, which is 1) quite easy to do in Julia and 2) can make life much easier if designed right."
   ]
  },
  {
   "cell_type": "markdown",
   "metadata": {},
   "source": [
    "### 12.1 Basics of a Composite type"
   ]
  },
  {
   "cell_type": "markdown",
   "metadata": {},
   "source": [
    "The way to create a new type in julia is to create a `struct`.  The following makes a new type with two fields"
   ]
  },
  {
   "cell_type": "code",
   "execution_count": null,
   "metadata": {},
   "outputs": [],
   "source": [
    "struct Mystruct \n",
    "  num::Integer \n",
    "  str::String\n",
    "end"
   ]
  },
  {
   "cell_type": "markdown",
   "metadata": {},
   "source": [
    "We can make an \"object\" of that type by calling the type like a function.  It must be called with the fields as arguments in the proper order:"
   ]
  },
  {
   "cell_type": "code",
   "execution_count": null,
   "metadata": {},
   "outputs": [],
   "source": [
    "m=Mystruct(11,\"hello\")"
   ]
  },
  {
   "cell_type": "markdown",
   "metadata": {},
   "source": [
    "The fields of a struct can be accessed via the . syntax:"
   ]
  },
  {
   "cell_type": "code",
   "execution_count": null,
   "metadata": {},
   "outputs": [],
   "source": [
    "m.num"
   ]
  },
  {
   "cell_type": "code",
   "execution_count": null,
   "metadata": {},
   "outputs": [],
   "source": [
    "m.str"
   ]
  },
  {
   "cell_type": "code",
   "execution_count": null,
   "metadata": {},
   "outputs": [],
   "source": [
    "fieldnames(Mystruct)"
   ]
  },
  {
   "cell_type": "markdown",
   "metadata": {},
   "source": [
    "Notice that first, this is a tuple, but also"
   ]
  },
  {
   "cell_type": "code",
   "execution_count": null,
   "metadata": {},
   "outputs": [],
   "source": [
    "typeof(fieldnames(Mystruct))"
   ]
  },
  {
   "cell_type": "markdown",
   "metadata": {},
   "source": [
    "The names are `Symbol`s. "
   ]
  },
  {
   "cell_type": "markdown",
   "metadata": {},
   "source": [
    "Note that the function fieldnames is called with the type not an object the type. "
   ]
  },
  {
   "cell_type": "code",
   "execution_count": null,
   "metadata": {},
   "outputs": [],
   "source": [
    "fieldnames(m)"
   ]
  },
  {
   "cell_type": "code",
   "execution_count": null,
   "metadata": {},
   "outputs": [],
   "source": [
    "m.num=15"
   ]
  },
  {
   "cell_type": "markdown",
   "metadata": {},
   "source": [
    "structs are immutable. That is, after being created, they can't be altered. If you need one that is Mutable, add the keyword `mutable` to the front. "
   ]
  },
  {
   "cell_type": "code",
   "execution_count": null,
   "metadata": {},
   "outputs": [],
   "source": [
    "mutable struct MutableStruct\n",
    "  a::Float64\n",
    "  b::Integer\n",
    "end"
   ]
  },
  {
   "cell_type": "code",
   "execution_count": null,
   "metadata": {},
   "outputs": [],
   "source": [
    "s = MutableStruct(1,2)"
   ]
  },
  {
   "cell_type": "code",
   "execution_count": null,
   "metadata": {},
   "outputs": [],
   "source": [
    "s.a=4.5"
   ]
  },
  {
   "cell_type": "code",
   "execution_count": null,
   "metadata": {},
   "outputs": [],
   "source": [
    "s"
   ]
  },
  {
   "cell_type": "markdown",
   "metadata": {},
   "source": [
    "### 12.2: A Card datatype"
   ]
  },
  {
   "cell_type": "markdown",
   "metadata": {},
   "source": [
    "We are going to do some simulations soon with playing cards.  We have the ranks and suits defined as follows.  The suits are the Unicode characters for the suits. "
   ]
  },
  {
   "cell_type": "code",
   "execution_count": null,
   "metadata": {},
   "outputs": [],
   "source": [
    "ranks = ['A','2','3','4','5','6','7','8','9','T','J','Q','K'];\n",
    "suits = ['\\u2660','\\u2661','\\u2662','\\u2663']"
   ]
  },
  {
   "cell_type": "markdown",
   "metadata": {},
   "source": [
    "And we will create a `Card` struct that contains two fields, a rank and a suit.  We can make both integers:"
   ]
  },
  {
   "cell_type": "code",
   "execution_count": null,
   "metadata": {},
   "outputs": [],
   "source": [
    "struct Card\n",
    "    rank::Integer\n",
    "    suit::Integer\n",
    "end"
   ]
  },
  {
   "cell_type": "code",
   "execution_count": null,
   "metadata": {},
   "outputs": [],
   "source": [
    "c = Card(3,2)"
   ]
  },
  {
   "cell_type": "markdown",
   "metadata": {},
   "source": [
    "This is a very boring looking 3 of hearts, so we use the following which will print out a Card much nicer:"
   ]
  },
  {
   "cell_type": "code",
   "execution_count": null,
   "metadata": {},
   "outputs": [],
   "source": [
    "Base.show(io::IO, c::Card) = print(io, string(ranks[c.rank],suits[c.suit]))"
   ]
  },
  {
   "cell_type": "markdown",
   "metadata": {},
   "source": [
    "We are creating a specific `show` function that is called whenever a `Card` object is printed or otherwise shown. "
   ]
  },
  {
   "cell_type": "code",
   "execution_count": null,
   "metadata": {},
   "outputs": [],
   "source": [
    "c = Card(3,2)"
   ]
  },
  {
   "cell_type": "markdown",
   "metadata": {},
   "source": [
    "What happens if we do"
   ]
  },
  {
   "cell_type": "code",
   "execution_count": null,
   "metadata": {},
   "outputs": [],
   "source": [
    "Card(-10,98)"
   ]
  },
  {
   "cell_type": "markdown",
   "metadata": {},
   "source": [
    "This is because in the `Base.show` function that you are accessing a part of the array with index -10, which is not possible. We can check for this with:"
   ]
  },
  {
   "cell_type": "code",
   "execution_count": null,
   "metadata": {},
   "outputs": [],
   "source": [
    "struct Card\n",
    "  rank::Int\n",
    "  suit::Int\n",
    "  Card(r::Int,s::Int)=(1<=r<=13) ? ( (1<=s<=4) ? new(r,s) :\n",
    "    throw(ArgumentError(\"The argument for suit must be between 1 and 4\"))) :\n",
    "    throw(ArgumentError(\"The argument for rank must be between 1 and 13\")) \n",
    "end"
   ]
  },
  {
   "cell_type": "markdown",
   "metadata": {},
   "source": [
    "The error occurs because `Card` is immutable and we are trying to redefine it.  So restart the kernel and rerun this. Also, rerun the cell with the ranks an suits arrays declared as well as the `Base.show` function."
   ]
  },
  {
   "cell_type": "code",
   "execution_count": null,
   "metadata": {},
   "outputs": [],
   "source": [
    "Card(-10,8)"
   ]
  },
  {
   "cell_type": "markdown",
   "metadata": {},
   "source": [
    "Now, we are not allowed to make a card with invalid rank and suit."
   ]
  },
  {
   "cell_type": "markdown",
   "metadata": {},
   "source": [
    "Let's expand the Card type.  It would be nice to also have a way of making a Card on a single integer.  (Later we will make an entire deck from the cards from 1 to 52).  The following does this:"
   ]
  },
  {
   "cell_type": "code",
   "execution_count": null,
   "metadata": {},
   "outputs": [],
   "source": [
    "struct Card\n",
    "  rank::Int\n",
    "  suit::Int\n",
    "  Card(r::Int,s::Int)=(1<=r<=13) ? ( (1<=s<=4) ? new(r,s) :\n",
    "    throw(ArgumentError(\"The argument for suit must be between 1 and 4\"))) :\n",
    "    throw(ArgumentError(\"The argument for rank must be between 1 and 13\")) \n",
    "  Card(i::Int) = !(1<=i<=52) ?\n",
    "    throw(ArgumentError(\"The argument must be an integer between 1 and 􏰍52\")) :\n",
    "    mod(i,13)==0 ? new(13,div(i,13)) : new(mod(i,13),div(i,13)+1) \n",
    "end"
   ]
  },
  {
   "cell_type": "markdown",
   "metadata": {},
   "source": [
    "This shows that you can create two or more constructors for a type.  Some things with this:\n",
    "* You must define a default Constructor that fills the fields in the order given. \n",
    "* The `new(r,s)` function is a way to call that default constructor.  "
   ]
  },
  {
   "cell_type": "code",
   "execution_count": null,
   "metadata": {},
   "outputs": [],
   "source": [
    "Card(45)"
   ]
  },
  {
   "cell_type": "code",
   "execution_count": null,
   "metadata": {},
   "outputs": [],
   "source": [
    "Card(73)"
   ]
  },
  {
   "cell_type": "code",
   "execution_count": null,
   "metadata": {},
   "outputs": [],
   "source": [
    "Card(5,8)"
   ]
  },
  {
   "cell_type": "markdown",
   "metadata": {},
   "source": [
    "We also would like a set of cards and we're going to use an array to do this and call it a `Hand`. "
   ]
  },
  {
   "cell_type": "code",
   "execution_count": null,
   "metadata": {},
   "outputs": [],
   "source": [
    "struct Hand\n",
    "    cards::Array{Card,1}\n",
    "end"
   ]
  },
  {
   "cell_type": "markdown",
   "metadata": {},
   "source": [
    "This creates a hand."
   ]
  },
  {
   "cell_type": "code",
   "execution_count": null,
   "metadata": {},
   "outputs": [],
   "source": [
    "h=Hand([Card(2,3),Card(12,1),Card(10,1),Card(10,4),Card(5,2)])"
   ]
  },
  {
   "cell_type": "markdown",
   "metadata": {},
   "source": [
    "And it's a good idea to define a `Base.show` for a `Hand`.  This just makes a string that is calling the `Card` version of `Base.show` and then joining the cards. "
   ]
  },
  {
   "cell_type": "code",
   "execution_count": null,
   "metadata": {},
   "outputs": [],
   "source": [
    "Base.show(io::IO,h::Hand) = print(io, string(\"[\",join(h.cards,\", \"),\"]\"))"
   ]
  },
  {
   "cell_type": "code",
   "execution_count": null,
   "metadata": {},
   "outputs": [],
   "source": [
    "h"
   ]
  },
  {
   "cell_type": "markdown",
   "metadata": {},
   "source": [
    "#### 12.3: Polynomial Datatype"
   ]
  },
  {
   "cell_type": "markdown",
   "metadata": {},
   "source": [
    "In this section, we look at a polynomial datatype.  We will look at creating polynomials, adding them, evaluating them and plotting this.  First, we define a polynomial with integer coefficients.  Don't run this though:"
   ]
  },
  {
   "cell_type": "code",
   "execution_count": null,
   "metadata": {},
   "outputs": [],
   "source": [
    "struct Polynomial\n",
    "  coeffs::Vector{Int64}\n",
    "end"
   ]
  },
  {
   "cell_type": "markdown",
   "metadata": {},
   "source": [
    "This will define a polynomial with integer coefficients, but it will be a pain, if we need to define different polynomials, with different types of coefficients.  We can create a Polynomial with any number type using:"
   ]
  },
  {
   "cell_type": "code",
   "execution_count": null,
   "metadata": {},
   "outputs": [],
   "source": [
    "struct Polynomial{T <: Number}\n",
    "  coeffs::Vector{T}\n",
    "end"
   ]
  },
  {
   "cell_type": "code",
   "execution_count": null,
   "metadata": {},
   "outputs": [],
   "source": [
    "poly1 = Polynomial([1,2,3])"
   ]
  },
  {
   "cell_type": "code",
   "execution_count": null,
   "metadata": {},
   "outputs": [],
   "source": [
    "poly2 = Polynomial([0.5,-0.25,6])"
   ]
  },
  {
   "cell_type": "markdown",
   "metadata": {},
   "source": [
    "which again is a terrible way to represent a polynomial, so let's create another `Base.show` for a polynomial"
   ]
  },
  {
   "cell_type": "code",
   "execution_count": null,
   "metadata": {},
   "outputs": [],
   "source": [
    "function Base.show(io::IO, p::Polynomial)\n",
    "  str = \"\"\n",
    "  for i = 1:length(p.coeffs)\n",
    "      str = string(str,p.coeffs[i],\"x^\",i-1,i<length(p.coeffs) ? \"+\" : \"\")\n",
    "  end\n",
    "  print(io, str)\n",
    "end"
   ]
  },
  {
   "cell_type": "code",
   "execution_count": null,
   "metadata": {},
   "outputs": [],
   "source": [
    "p = Polynomial([1,2,3])"
   ]
  },
  {
   "cell_type": "code",
   "execution_count": null,
   "metadata": {},
   "outputs": [],
   "source": [
    "function Base.show(io::IO, p::Polynomial)\n",
    "  print(io, reduce((str,n) -> str * (n==1 ? \"\" : \"+\") * \"$(p.coeffs[n])x^$(n-1)\",collect(1:length(p.coeffs)),init=\"\"))\n",
    "end"
   ]
  },
  {
   "cell_type": "markdown",
   "metadata": {},
   "source": [
    "#### Create different polynomials:"
   ]
  },
  {
   "cell_type": "code",
   "execution_count": null,
   "metadata": {},
   "outputs": [],
   "source": [
    "poly1=Polynomial([1,2,3])\n",
    "poly2=Polynomial([1.0,2.0,3.0])\n",
    "poly3=Polynomial([2//3,3//4,5//8])\n",
    "poly4=Polynomial([im,2+0im,3-2im,-im])\n",
    "poly5=Polynomial([(-1)^(n+1) for n=1:6])"
   ]
  },
  {
   "cell_type": "code",
   "execution_count": null,
   "metadata": {},
   "outputs": [],
   "source": [
    "poly4"
   ]
  },
  {
   "cell_type": "markdown",
   "metadata": {},
   "source": [
    "Evaluate a polynomial at a number using Horner's method:"
   ]
  },
  {
   "cell_type": "code",
   "execution_count": null,
   "metadata": {},
   "outputs": [],
   "source": [
    "function eval(poly::Polynomial{T},x::Number) where T <: Number\n",
    "  reduce((val,i) -> x*val+p.coeffs[i],(length(p.coeffs)-1):-1:1, init=p.coeffs[end])\n",
    "end"
   ]
  },
  {
   "cell_type": "code",
   "execution_count": null,
   "metadata": {},
   "outputs": [],
   "source": [
    "eval(poly1,3)"
   ]
  },
  {
   "cell_type": "code",
   "execution_count": null,
   "metadata": {},
   "outputs": [],
   "source": [
    "1+2*3+3*3^2"
   ]
  },
  {
   "cell_type": "code",
   "execution_count": null,
   "metadata": {},
   "outputs": [],
   "source": [
    "eval(poly4,im)"
   ]
  },
  {
   "cell_type": "markdown",
   "metadata": {},
   "source": [
    "#### Adding two polynomials:"
   ]
  },
  {
   "cell_type": "markdown",
   "metadata": {},
   "source": [
    "To add two polynomails, we first need to import `Base.+`:"
   ]
  },
  {
   "cell_type": "code",
   "execution_count": null,
   "metadata": {},
   "outputs": [],
   "source": [
    "import Base.+"
   ]
  },
  {
   "cell_type": "code",
   "execution_count": null,
   "metadata": {},
   "outputs": [],
   "source": [
    "function +(p1::Polynomial{T},p2::Polynomial{S}) where {T <: Number, S <: Number}\n",
    "  Polynomial(p1.coeffs+p2.coeffs) \n",
    "end"
   ]
  },
  {
   "cell_type": "code",
   "execution_count": null,
   "metadata": {},
   "outputs": [],
   "source": [
    "poly1+poly2"
   ]
  },
  {
   "cell_type": "code",
   "execution_count": null,
   "metadata": {
    "tags": []
   },
   "outputs": [],
   "source": [
    "methods(+)"
   ]
  },
  {
   "cell_type": "markdown",
   "metadata": {},
   "source": [
    "#### Exercise\n",
    "- Create a function `-` that subtracts two polynomials\n",
    "- Create a function `*` that multiplies a constant (on the left) to a polynomial."
   ]
  },
  {
   "cell_type": "markdown",
   "metadata": {},
   "source": [
    "#### Plotting a polynomial"
   ]
  },
  {
   "cell_type": "code",
   "execution_count": null,
   "metadata": {},
   "outputs": [],
   "source": [
    "using Plots,RecipesBase"
   ]
  },
  {
   "cell_type": "code",
   "execution_count": null,
   "metadata": {},
   "outputs": [],
   "source": [
    "@recipe function f(poly::Polynomial,xmin::Number=-2,xmax::Number=2) \n",
    "  xpts = LinRange(xmin,xmax,200)\n",
    "  ypts = map(x->eval(poly,x),xpts)\n",
    "  xpts,ypts\n",
    "end"
   ]
  },
  {
   "cell_type": "code",
   "execution_count": null,
   "metadata": {},
   "outputs": [],
   "source": [
    "plot(poly1,0,4)"
   ]
  },
  {
   "cell_type": "code",
   "execution_count": null,
   "metadata": {},
   "outputs": [],
   "source": [
    "@recipe function f(poly::Polynomial,xmin::Number=-2,xmax::Number=2) \n",
    "  legend -->  false\n",
    "  linecolor -->  :green\n",
    "  xpts = LinRange(xmin,xmax,200)\n",
    "  ypts = map(x->eval(poly,x),xpts)\n",
    "  xpts,ypts\n",
    "end"
   ]
  },
  {
   "cell_type": "code",
   "execution_count": null,
   "metadata": {},
   "outputs": [],
   "source": [
    "plot(poly1)"
   ]
  },
  {
   "cell_type": "code",
   "execution_count": null,
   "metadata": {},
   "outputs": [],
   "source": [
    "plot(poly1,-5,5)"
   ]
  },
  {
   "cell_type": "markdown",
   "metadata": {},
   "source": [
    "#### 12.4: Develop a Root datatype"
   ]
  },
  {
   "cell_type": "markdown",
   "metadata": {},
   "source": [
    "Recall that when we developed Newton's method in Chapter 10, we weren't sure if a function didn't have a root (or Newton's method didn't find it.)  Here we will create a type called `Root` that will store all of the important information about the results of Newton's method and return a `Root` object, instead of just a number."
   ]
  },
  {
   "cell_type": "markdown",
   "metadata": {},
   "source": [
    "We're going to create a `Root` struct that stores a lot of information about the root. The fields are:\n",
    "\n",
    "* `root`, the approximation to the root\n",
    "* `x_eps`, an approximate error to the root\n",
    "* `f_eps`, an estimate of the function value at the approximate root\n",
    "* `num_steps`, the number of steps of Newton's method\n",
    "* `converged`, a boolean on whether or not Newton's method converged. \n",
    "* `max_steps`, the maximum number of steps specified. "
   ]
  },
  {
   "cell_type": "code",
   "execution_count": null,
   "metadata": {},
   "outputs": [],
   "source": [
    "struct Root\n",
    "  root::Float64\n",
    "  x_eps::Float64\n",
    "  f_eps::Float64\n",
    "  num_steps::Int\n",
    "  converged::Bool\n",
    "  max_steps::Int\n",
    "end"
   ]
  },
  {
   "cell_type": "markdown",
   "metadata": {},
   "source": [
    "Here's a version of Newton's method that returns a `Root` object:"
   ]
  },
  {
   "cell_type": "code",
   "execution_count": null,
   "metadata": {},
   "outputs": [],
   "source": [
    "using ForwardDiff\n",
    "\n",
    "function newton(f::Function,  x0::Real)\n",
    "  local n=0\n",
    "  local dx=f(x0)/ForwardDiff.derivative(f,x0)\n",
    "  while abs(dx)>1e-6 && abs(f(x0))>1e-6\n",
    "    x0 = x0-dx\n",
    "    dx = f(x0)/ForwardDiff.derivative(f,x0)\n",
    "    n += 1 \n",
    "    if n==10  # if too many steps are taken, break out of the while loop\n",
    "      return Root(x0,dx,f(x0),n,false,10)\n",
    "    end\n",
    "  end\n",
    "  Root(x0,dx,f(x0),n,true,10)\n",
    "end"
   ]
  },
  {
   "cell_type": "code",
   "execution_count": null,
   "metadata": {},
   "outputs": [],
   "source": [
    "newton(x->x^2-2,1)"
   ]
  },
  {
   "cell_type": "markdown",
   "metadata": {},
   "source": [
    "This isn't much of a helpful struct, because you might not remember what each parameter is. "
   ]
  },
  {
   "cell_type": "code",
   "execution_count": null,
   "metadata": {},
   "outputs": [],
   "source": [
    "function Base.show(io::IO,r::Root)\n",
    "  if(r.converged)\n",
    "    str = string(\"The root is approximately x̂ = $(r.root)\\n\")\n",
    "    str = string(str,\"An estimate for the error is $(r.x_eps)\\n\")\n",
    "    str = string(str,\"with f(x̂) = $(r.f_eps)\\n\")\n",
    "    str = string(str,\"which took $(r.num_steps) steps\")\n",
    "  else\n",
    "    str = string(\"The root was not found within $(r.max_steps) steps.\\n\");\n",
    "    str = string(str,\"Currently, the root is approximately x̂ = $(r.root) \\n\")\n",
    "    str = string(str,\"An estimate for the error is $(r.x_eps)\\n\")\n",
    "    str = string(str,\"with f(x̂) = $(r.f_eps)\\n\")\n",
    "  end\n",
    "  print(io,str)\n",
    "end"
   ]
  },
  {
   "cell_type": "markdown",
   "metadata": {},
   "source": [
    "Let's rerun this now and result is much clearer."
   ]
  },
  {
   "cell_type": "code",
   "execution_count": null,
   "metadata": {},
   "outputs": [],
   "source": [
    "r = newton(x->x^2-2,1)"
   ]
  },
  {
   "cell_type": "code",
   "execution_count": null,
   "metadata": {},
   "outputs": [],
   "source": [
    "r.root"
   ]
  },
  {
   "cell_type": "markdown",
   "metadata": {},
   "source": [
    "And if we put in a function that doesn't converge, will tell us as well."
   ]
  },
  {
   "cell_type": "code",
   "execution_count": null,
   "metadata": {},
   "outputs": [],
   "source": [
    "r = newton(x->x^2+1,2)"
   ]
  },
  {
   "cell_type": "code",
   "execution_count": null,
   "metadata": {},
   "outputs": [],
   "source": [
    "r.root"
   ]
  },
  {
   "cell_type": "code",
   "execution_count": null,
   "metadata": {},
   "outputs": [],
   "source": [
    "r.f_eps"
   ]
  },
  {
   "cell_type": "code",
   "execution_count": null,
   "metadata": {},
   "outputs": [],
   "source": []
  }
 ],
 "metadata": {
  "kernelspec": {
   "display_name": "Julia 1.8.2",
   "language": "julia",
   "name": "julia-1.8"
  },
  "language_info": {
   "file_extension": ".jl",
   "mimetype": "application/julia",
   "name": "julia",
   "version": "1.8.2"
  }
 },
 "nbformat": 4,
 "nbformat_minor": 4
}
