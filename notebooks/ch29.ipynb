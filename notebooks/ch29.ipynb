{
 "cells": [
  {
   "cell_type": "markdown",
   "metadata": {},
   "source": [
    "## Chapter 29: Calculating $\\pi$"
   ]
  },
  {
   "cell_type": "code",
   "execution_count": 1,
   "metadata": {},
   "outputs": [],
   "source": [
    "using Plots"
   ]
  },
  {
   "cell_type": "code",
   "execution_count": 2,
   "metadata": {},
   "outputs": [
    {
     "data": {
      "text/plain": [
       "calcPi (generic function with 1 method)"
      ]
     },
     "execution_count": 2,
     "metadata": {},
     "output_type": "execute_result"
    }
   ],
   "source": [
    "function calcPi(n::Integer)\n",
    "  n>0 || throw(ArgumentError(\"The input n must be positive.\"))\n",
    "  local sum = 1.0\n",
    "  for k=1:n\n",
    "    sum += (-1)^k/(2k+1)\n",
    "  end\n",
    "  4*sum\n",
    "end"
   ]
  },
  {
   "cell_type": "code",
   "execution_count": 3,
   "metadata": {},
   "outputs": [
    {
     "data": {
      "text/plain": [
       "3.1514934010709914"
      ]
     },
     "execution_count": 3,
     "metadata": {},
     "output_type": "execute_result"
    }
   ],
   "source": [
    "calcPi(100)"
   ]
  },
  {
   "cell_type": "code",
   "execution_count": 4,
   "metadata": {},
   "outputs": [
    {
     "data": {
      "text/plain": [
       "absErr (generic function with 1 method)"
      ]
     },
     "execution_count": 4,
     "metadata": {},
     "output_type": "execute_result"
    }
   ],
   "source": [
    "absErr(x::Real)=abs(x-pi)"
   ]
  },
  {
   "cell_type": "code",
   "execution_count": 7,
   "metadata": {},
   "outputs": [
    {
     "name": "stdout",
     "output_type": "stream",
     "text": [
      "  0.532693 seconds (62.72 k allocations: 3.333 MiB)\n"
     ]
    },
    {
     "data": {
      "text/plain": [
       "7-element Array{Float64,1}:\n",
       " 0.09072315581580082\n",
       " 0.009900747481198291\n",
       " 0.0009990007497511222\n",
       " 9.99900007414567e-5\n",
       " 9.999899927226608e-6\n",
       " 9.999989813991306e-7\n",
       " 9.999998829002266e-8"
      ]
     },
     "execution_count": 7,
     "metadata": {},
     "output_type": "execute_result"
    }
   ],
   "source": [
    "@time errors = map(n->absErr(calcPi(10^n)),1:7)"
   ]
  },
  {
   "cell_type": "code",
   "execution_count": 8,
   "metadata": {},
   "outputs": [
    {
     "data": {
      "image/svg+xml": [
       "<?xml version=\"1.0\" encoding=\"utf-8\"?>\n",
       "<svg xmlns=\"http://www.w3.org/2000/svg\" xmlns:xlink=\"http://www.w3.org/1999/xlink\" width=\"600\" height=\"400\" viewBox=\"0 0 2400 1600\">\n",
       "<defs>\n",
       "  <clipPath id=\"clip660\">\n",
       "    <rect x=\"0\" y=\"0\" width=\"2400\" height=\"1600\"/>\n",
       "  </clipPath>\n",
       "</defs>\n",
       "<path clip-path=\"url(#clip660)\" d=\"\n",
       "M0 1600 L2400 1600 L2400 0 L0 0  Z\n",
       "  \" fill=\"#ffffff\" fill-rule=\"evenodd\" fill-opacity=\"1\"/>\n",
       "<defs>\n",
       "  <clipPath id=\"clip661\">\n",
       "    <rect x=\"480\" y=\"0\" width=\"1681\" height=\"1600\"/>\n",
       "  </clipPath>\n",
       "</defs>\n",
       "<path clip-path=\"url(#clip660)\" d=\"\n",
       "M126.969 1486.45 L2352.76 1486.45 L2352.76 47.2441 L126.969 47.2441  Z\n",
       "  \" fill=\"#ffffff\" fill-rule=\"evenodd\" fill-opacity=\"1\"/>\n",
       "<defs>\n",
       "  <clipPath id=\"clip662\">\n",
       "    <rect x=\"126\" y=\"47\" width=\"2227\" height=\"1440\"/>\n",
       "  </clipPath>\n",
       "</defs>\n",
       "<polyline clip-path=\"url(#clip662)\" style=\"stroke:#000000; stroke-width:2; stroke-opacity:0.1; fill:none\" points=\"\n",
       "  489.934,1486.45 489.934,47.2441 \n",
       "  \"/>\n",
       "<polyline clip-path=\"url(#clip662)\" style=\"stroke:#000000; stroke-width:2; stroke-opacity:0.1; fill:none\" points=\"\n",
       "  1089.88,1486.45 1089.88,47.2441 \n",
       "  \"/>\n",
       "<polyline clip-path=\"url(#clip662)\" style=\"stroke:#000000; stroke-width:2; stroke-opacity:0.1; fill:none\" points=\"\n",
       "  1689.82,1486.45 1689.82,47.2441 \n",
       "  \"/>\n",
       "<polyline clip-path=\"url(#clip662)\" style=\"stroke:#000000; stroke-width:2; stroke-opacity:0.1; fill:none\" points=\"\n",
       "  2289.76,1486.45 2289.76,47.2441 \n",
       "  \"/>\n",
       "<polyline clip-path=\"url(#clip662)\" style=\"stroke:#000000; stroke-width:2; stroke-opacity:0.1; fill:none\" points=\"\n",
       "  126.969,1445.72 2352.76,1445.72 \n",
       "  \"/>\n",
       "<polyline clip-path=\"url(#clip662)\" style=\"stroke:#000000; stroke-width:2; stroke-opacity:0.1; fill:none\" points=\"\n",
       "  126.969,1217.82 2352.76,1217.82 \n",
       "  \"/>\n",
       "<polyline clip-path=\"url(#clip662)\" style=\"stroke:#000000; stroke-width:2; stroke-opacity:0.1; fill:none\" points=\"\n",
       "  126.969,989.924 2352.76,989.924 \n",
       "  \"/>\n",
       "<polyline clip-path=\"url(#clip662)\" style=\"stroke:#000000; stroke-width:2; stroke-opacity:0.1; fill:none\" points=\"\n",
       "  126.969,762.028 2352.76,762.028 \n",
       "  \"/>\n",
       "<polyline clip-path=\"url(#clip662)\" style=\"stroke:#000000; stroke-width:2; stroke-opacity:0.1; fill:none\" points=\"\n",
       "  126.969,534.132 2352.76,534.132 \n",
       "  \"/>\n",
       "<polyline clip-path=\"url(#clip662)\" style=\"stroke:#000000; stroke-width:2; stroke-opacity:0.1; fill:none\" points=\"\n",
       "  126.969,306.236 2352.76,306.236 \n",
       "  \"/>\n",
       "<polyline clip-path=\"url(#clip662)\" style=\"stroke:#000000; stroke-width:2; stroke-opacity:0.1; fill:none\" points=\"\n",
       "  126.969,78.3404 2352.76,78.3404 \n",
       "  \"/>\n",
       "<polyline clip-path=\"url(#clip660)\" style=\"stroke:#000000; stroke-width:4; stroke-opacity:1; fill:none\" points=\"\n",
       "  126.969,1486.45 2352.76,1486.45 \n",
       "  \"/>\n",
       "<polyline clip-path=\"url(#clip660)\" style=\"stroke:#000000; stroke-width:4; stroke-opacity:1; fill:none\" points=\"\n",
       "  126.969,1486.45 126.969,47.2441 \n",
       "  \"/>\n",
       "<polyline clip-path=\"url(#clip660)\" style=\"stroke:#000000; stroke-width:4; stroke-opacity:1; fill:none\" points=\"\n",
       "  489.934,1486.45 489.934,1469.18 \n",
       "  \"/>\n",
       "<polyline clip-path=\"url(#clip660)\" style=\"stroke:#000000; stroke-width:4; stroke-opacity:1; fill:none\" points=\"\n",
       "  1089.88,1486.45 1089.88,1469.18 \n",
       "  \"/>\n",
       "<polyline clip-path=\"url(#clip660)\" style=\"stroke:#000000; stroke-width:4; stroke-opacity:1; fill:none\" points=\"\n",
       "  1689.82,1486.45 1689.82,1469.18 \n",
       "  \"/>\n",
       "<polyline clip-path=\"url(#clip660)\" style=\"stroke:#000000; stroke-width:4; stroke-opacity:1; fill:none\" points=\"\n",
       "  2289.76,1486.45 2289.76,1469.18 \n",
       "  \"/>\n",
       "<polyline clip-path=\"url(#clip660)\" style=\"stroke:#000000; stroke-width:4; stroke-opacity:1; fill:none\" points=\"\n",
       "  126.969,1445.72 153.678,1445.72 \n",
       "  \"/>\n",
       "<polyline clip-path=\"url(#clip660)\" style=\"stroke:#000000; stroke-width:4; stroke-opacity:1; fill:none\" points=\"\n",
       "  126.969,1217.82 153.678,1217.82 \n",
       "  \"/>\n",
       "<polyline clip-path=\"url(#clip660)\" style=\"stroke:#000000; stroke-width:4; stroke-opacity:1; fill:none\" points=\"\n",
       "  126.969,989.924 153.678,989.924 \n",
       "  \"/>\n",
       "<polyline clip-path=\"url(#clip660)\" style=\"stroke:#000000; stroke-width:4; stroke-opacity:1; fill:none\" points=\"\n",
       "  126.969,762.028 153.678,762.028 \n",
       "  \"/>\n",
       "<polyline clip-path=\"url(#clip660)\" style=\"stroke:#000000; stroke-width:4; stroke-opacity:1; fill:none\" points=\"\n",
       "  126.969,534.132 153.678,534.132 \n",
       "  \"/>\n",
       "<polyline clip-path=\"url(#clip660)\" style=\"stroke:#000000; stroke-width:4; stroke-opacity:1; fill:none\" points=\"\n",
       "  126.969,306.236 153.678,306.236 \n",
       "  \"/>\n",
       "<polyline clip-path=\"url(#clip660)\" style=\"stroke:#000000; stroke-width:4; stroke-opacity:1; fill:none\" points=\"\n",
       "  126.969,78.3404 153.678,78.3404 \n",
       "  \"/>\n",
       "<path clip-path=\"url(#clip660)\" d=\"M 0 0 M484.587 1535.98 L500.906 1535.98 L500.906 1539.92 L478.962 1539.92 L478.962 1535.98 Q481.624 1533.23 486.207 1528.6 Q490.814 1523.95 491.994 1522.61 Q494.24 1520.08 495.119 1518.35 Q496.022 1516.59 496.022 1514.9 Q496.022 1512.14 494.078 1510.41 Q492.156 1508.67 489.054 1508.67 Q486.855 1508.67 484.402 1509.43 Q481.971 1510.2 479.193 1511.75 L479.193 1507.03 Q482.017 1505.89 484.471 1505.31 Q486.925 1504.73 488.962 1504.73 Q494.332 1504.73 497.527 1507.42 Q500.721 1510.11 500.721 1514.6 Q500.721 1516.73 499.911 1518.65 Q499.124 1520.54 497.017 1523.14 Q496.439 1523.81 493.337 1527.03 Q490.235 1530.22 484.587 1535.98 Z\" fill=\"#000000\" fill-rule=\"evenodd\" fill-opacity=\"1\" /><path clip-path=\"url(#clip660)\" d=\"M 0 0 M1092.89 1509.43 L1081.08 1527.88 L1092.89 1527.88 L1092.89 1509.43 M1091.66 1505.36 L1097.54 1505.36 L1097.54 1527.88 L1102.47 1527.88 L1102.47 1531.77 L1097.54 1531.77 L1097.54 1539.92 L1092.89 1539.92 L1092.89 1531.77 L1077.28 1531.77 L1077.28 1527.26 L1091.66 1505.36 Z\" fill=\"#000000\" fill-rule=\"evenodd\" fill-opacity=\"1\" /><path clip-path=\"url(#clip660)\" d=\"M 0 0 M1690.22 1520.78 Q1687.08 1520.78 1685.22 1522.93 Q1683.4 1525.08 1683.4 1528.83 Q1683.4 1532.56 1685.22 1534.73 Q1687.08 1536.89 1690.22 1536.89 Q1693.37 1536.89 1695.2 1534.73 Q1697.05 1532.56 1697.05 1528.83 Q1697.05 1525.08 1695.2 1522.93 Q1693.37 1520.78 1690.22 1520.78 M1699.51 1506.12 L1699.51 1510.38 Q1697.75 1509.55 1695.94 1509.11 Q1694.16 1508.67 1692.4 1508.67 Q1687.77 1508.67 1685.32 1511.8 Q1682.89 1514.92 1682.54 1521.24 Q1683.9 1519.23 1685.97 1518.16 Q1688.03 1517.07 1690.5 1517.07 Q1695.71 1517.07 1698.72 1520.24 Q1701.75 1523.39 1701.75 1528.83 Q1701.75 1534.16 1698.6 1537.37 Q1695.46 1540.59 1690.22 1540.59 Q1684.23 1540.59 1681.06 1536.01 Q1677.89 1531.4 1677.89 1522.67 Q1677.89 1514.48 1681.78 1509.62 Q1685.66 1504.73 1692.22 1504.73 Q1693.97 1504.73 1695.76 1505.08 Q1697.56 1505.43 1699.51 1506.12 Z\" fill=\"#000000\" fill-rule=\"evenodd\" fill-opacity=\"1\" /><path clip-path=\"url(#clip660)\" d=\"M 0 0 M2289.76 1523.51 Q2286.43 1523.51 2284.51 1525.29 Q2282.61 1527.07 2282.61 1530.2 Q2282.61 1533.32 2284.51 1535.11 Q2286.43 1536.89 2289.76 1536.89 Q2293.1 1536.89 2295.02 1535.11 Q2296.94 1533.3 2296.94 1530.2 Q2296.94 1527.07 2295.02 1525.29 Q2293.12 1523.51 2289.76 1523.51 M2285.09 1521.52 Q2282.08 1520.78 2280.39 1518.72 Q2278.72 1516.66 2278.72 1513.69 Q2278.72 1509.55 2281.66 1507.14 Q2284.62 1504.73 2289.76 1504.73 Q2294.92 1504.73 2297.86 1507.14 Q2300.8 1509.55 2300.8 1513.69 Q2300.8 1516.66 2299.11 1518.72 Q2297.45 1520.78 2294.46 1521.52 Q2297.84 1522.3 2299.72 1524.6 Q2301.61 1526.89 2301.61 1530.2 Q2301.61 1535.22 2298.54 1537.91 Q2295.48 1540.59 2289.76 1540.59 Q2284.04 1540.59 2280.97 1537.91 Q2277.91 1535.22 2277.91 1530.2 Q2277.91 1526.89 2279.81 1524.6 Q2281.71 1522.3 2285.09 1521.52 M2283.37 1514.13 Q2283.37 1516.82 2285.04 1518.32 Q2286.73 1519.83 2289.76 1519.83 Q2292.77 1519.83 2294.46 1518.32 Q2296.17 1516.82 2296.17 1514.13 Q2296.17 1511.45 2294.46 1509.94 Q2292.77 1508.44 2289.76 1508.44 Q2286.73 1508.44 2285.04 1509.94 Q2283.37 1511.45 2283.37 1514.13 Z\" fill=\"#000000\" fill-rule=\"evenodd\" fill-opacity=\"1\" /><path clip-path=\"url(#clip660)\" d=\"M 0 0 M64.381 1448.11 L76.8578 1448.11 L76.8578 1451.91 L64.381 1451.91 L64.381 1448.11 Z\" fill=\"#000000\" fill-rule=\"evenodd\" fill-opacity=\"1\" /><path clip-path=\"url(#clip660)\" d=\"M 0 0 M80.7467 1428.44 L102.969 1428.44 L102.969 1430.43 L90.4225 1463 L85.5383 1463 L97.3438 1432.37 L80.7467 1432.37 L80.7467 1428.44 Z\" fill=\"#000000\" fill-rule=\"evenodd\" fill-opacity=\"1\" /><path clip-path=\"url(#clip660)\" d=\"M 0 0 M63.3162 1220.22 L75.793 1220.22 L75.793 1224.01 L63.3162 1224.01 L63.3162 1220.22 Z\" fill=\"#000000\" fill-rule=\"evenodd\" fill-opacity=\"1\" /><path clip-path=\"url(#clip660)\" d=\"M 0 0 M91.441 1215.96 Q88.2929 1215.96 86.4411 1218.11 Q84.6124 1220.26 84.6124 1224.01 Q84.6124 1227.74 86.4411 1229.91 Q88.2929 1232.07 91.441 1232.07 Q94.5892 1232.07 96.4179 1229.91 Q98.2697 1227.74 98.2697 1224.01 Q98.2697 1220.26 96.4179 1218.11 Q94.5892 1215.96 91.441 1215.96 M100.723 1201.3 L100.723 1205.56 Q98.9642 1204.73 97.1586 1204.29 Q95.3762 1203.85 93.617 1203.85 Q88.9874 1203.85 86.5337 1206.97 Q84.1031 1210.1 83.7559 1216.42 Q85.1216 1214.41 87.1818 1213.34 Q89.242 1212.25 91.7188 1212.25 Q96.9271 1212.25 99.9364 1215.42 Q102.969 1218.57 102.969 1224.01 Q102.969 1229.34 99.8206 1232.55 Q96.6725 1235.77 91.441 1235.77 Q85.4457 1235.77 82.2744 1231.19 Q79.1032 1226.58 79.1032 1217.85 Q79.1032 1209.66 82.992 1204.8 Q86.8809 1199.91 93.4318 1199.91 Q95.191 1199.91 96.9734 1200.26 Q98.779 1200.61 100.723 1201.3 Z\" fill=\"#000000\" fill-rule=\"evenodd\" fill-opacity=\"1\" /><path clip-path=\"url(#clip660)\" d=\"M 0 0 M64.4736 992.32 L76.9504 992.32 L76.9504 996.116 L64.4736 996.116 L64.4736 992.32 Z\" fill=\"#000000\" fill-rule=\"evenodd\" fill-opacity=\"1\" /><path clip-path=\"url(#clip660)\" d=\"M 0 0 M82.0661 972.644 L100.422 972.644 L100.422 976.579 L86.3485 976.579 L86.3485 985.051 Q87.367 984.704 88.3855 984.542 Q89.404 984.357 90.4225 984.357 Q96.2095 984.357 99.5892 987.528 Q102.969 990.699 102.969 996.116 Q102.969 1001.69 99.4966 1004.8 Q96.0244 1007.88 89.7049 1007.88 Q87.529 1007.88 85.2605 1007.5 Q83.0152 1007.13 80.6078 1006.39 L80.6078 1001.69 Q82.6911 1002.83 84.9133 1003.38 Q87.1355 1003.94 89.6124 1003.94 Q93.617 1003.94 95.9549 1001.83 Q98.2929 999.727 98.2929 996.116 Q98.2929 992.505 95.9549 990.398 Q93.617 988.292 89.6124 988.292 Q87.7374 988.292 85.8624 988.709 Q84.0105 989.125 82.0661 990.005 L82.0661 972.644 Z\" fill=\"#000000\" fill-rule=\"evenodd\" fill-opacity=\"1\" /><path clip-path=\"url(#clip660)\" d=\"M 0 0 M62.9921 764.424 L75.4689 764.424 L75.4689 768.22 L62.9921 768.22 L62.9921 764.424 Z\" fill=\"#000000\" fill-rule=\"evenodd\" fill-opacity=\"1\" /><path clip-path=\"url(#clip660)\" d=\"M 0 0 M93.3855 748.822 L81.58 767.271 L93.3855 767.271 L93.3855 748.822 M92.1586 744.748 L98.0382 744.748 L98.0382 767.271 L102.969 767.271 L102.969 771.16 L98.0382 771.16 L98.0382 779.308 L93.3855 779.308 L93.3855 771.16 L77.7837 771.16 L77.7837 766.646 L92.1586 744.748 Z\" fill=\"#000000\" fill-rule=\"evenodd\" fill-opacity=\"1\" /><path clip-path=\"url(#clip660)\" d=\"M 0 0 M64.1264 536.528 L76.6032 536.528 L76.6032 540.324 L64.1264 540.324 L64.1264 536.528 Z\" fill=\"#000000\" fill-rule=\"evenodd\" fill-opacity=\"1\" /><path clip-path=\"url(#clip660)\" d=\"M 0 0 M95.8392 532.778 Q99.1956 533.496 101.071 535.764 Q102.969 538.033 102.969 541.366 Q102.969 546.482 99.4503 549.283 Q95.9318 552.083 89.4503 552.083 Q87.2744 552.083 84.9596 551.644 Q82.6679 551.227 80.2143 550.371 L80.2143 545.857 Q82.1587 546.991 84.4735 547.57 Q86.7883 548.148 89.3114 548.148 Q93.7096 548.148 96.0012 546.412 Q98.316 544.676 98.316 541.366 Q98.316 538.31 96.1632 536.597 Q94.0336 534.861 90.2142 534.861 L86.1864 534.861 L86.1864 531.019 L90.3994 531.019 Q93.8484 531.019 95.6771 529.653 Q97.5058 528.264 97.5058 525.672 Q97.5058 523.01 95.6077 521.598 Q93.7327 520.162 90.2142 520.162 Q88.2929 520.162 86.0939 520.579 Q83.8948 520.996 81.2559 521.875 L81.2559 517.709 Q83.9179 516.968 86.2327 516.598 Q88.5707 516.227 90.6309 516.227 Q95.9549 516.227 99.0567 518.658 Q102.159 521.065 102.159 525.185 Q102.159 528.056 100.515 530.047 Q98.8716 532.014 95.8392 532.778 Z\" fill=\"#000000\" fill-rule=\"evenodd\" fill-opacity=\"1\" /><path clip-path=\"url(#clip660)\" d=\"M 0 0 M65.0754 308.632 L77.5522 308.632 L77.5522 312.428 L65.0754 312.428 L65.0754 308.632 Z\" fill=\"#000000\" fill-rule=\"evenodd\" fill-opacity=\"1\" /><path clip-path=\"url(#clip660)\" d=\"M 0 0 M86.6494 319.581 L102.969 319.581 L102.969 323.516 L81.0244 323.516 L81.0244 319.581 Q83.6865 316.827 88.2698 312.197 Q92.8762 307.544 94.0568 306.202 Q96.3021 303.678 97.1818 301.942 Q98.0845 300.183 98.0845 298.493 Q98.0845 295.739 96.1401 294.003 Q94.2188 292.266 91.117 292.266 Q88.9179 292.266 86.4642 293.03 Q84.0337 293.794 81.2559 295.345 L81.2559 290.623 Q84.08 289.489 86.5337 288.91 Q88.9874 288.331 91.0244 288.331 Q96.3947 288.331 99.5892 291.016 Q102.784 293.702 102.784 298.192 Q102.784 300.322 101.973 302.243 Q101.186 304.141 99.0799 306.734 Q98.5012 307.405 95.3994 310.623 Q92.2975 313.817 86.6494 319.581 Z\" fill=\"#000000\" fill-rule=\"evenodd\" fill-opacity=\"1\" /><path clip-path=\"url(#clip660)\" d=\"M 0 0 M64.7051 80.7362 L77.1819 80.7362 L77.1819 84.5325 L64.7051 84.5325 L64.7051 80.7362 Z\" fill=\"#000000\" fill-rule=\"evenodd\" fill-opacity=\"1\" /><path clip-path=\"url(#clip660)\" d=\"M 0 0 M83.0615 91.6853 L90.7003 91.6853 L90.7003 65.3197 L82.3902 66.9863 L82.3902 62.7271 L90.654 61.0604 L95.3299 61.0604 L95.3299 91.6853 L102.969 91.6853 L102.969 95.6204 L83.0615 95.6204 L83.0615 91.6853 Z\" fill=\"#000000\" fill-rule=\"evenodd\" fill-opacity=\"1\" /><circle clip-path=\"url(#clip662)\" cx=\"189.963\" cy=\"87.9763\" r=\"14\" fill=\"#009af9\" fill-rule=\"evenodd\" fill-opacity=\"1\" stroke=\"#000000\" stroke-opacity=\"1\" stroke-width=\"3.2\"/>\n",
       "<circle clip-path=\"url(#clip662)\" cx=\"489.934\" cy=\"307.224\" r=\"14\" fill=\"#009af9\" fill-rule=\"evenodd\" fill-opacity=\"1\" stroke=\"#000000\" stroke-opacity=\"1\" stroke-width=\"3.2\"/>\n",
       "<circle clip-path=\"url(#clip662)\" cx=\"789.905\" cy=\"534.231\" r=\"14\" fill=\"#009af9\" fill-rule=\"evenodd\" fill-opacity=\"1\" stroke=\"#000000\" stroke-opacity=\"1\" stroke-width=\"3.2\"/>\n",
       "<circle clip-path=\"url(#clip662)\" cx=\"1089.88\" cy=\"762.038\" r=\"14\" fill=\"#009af9\" fill-rule=\"evenodd\" fill-opacity=\"1\" stroke=\"#000000\" stroke-opacity=\"1\" stroke-width=\"3.2\"/>\n",
       "<circle clip-path=\"url(#clip662)\" cx=\"1389.85\" cy=\"989.925\" r=\"14\" fill=\"#009af9\" fill-rule=\"evenodd\" fill-opacity=\"1\" stroke=\"#000000\" stroke-opacity=\"1\" stroke-width=\"3.2\"/>\n",
       "<circle clip-path=\"url(#clip662)\" cx=\"1689.82\" cy=\"1217.82\" r=\"14\" fill=\"#009af9\" fill-rule=\"evenodd\" fill-opacity=\"1\" stroke=\"#000000\" stroke-opacity=\"1\" stroke-width=\"3.2\"/>\n",
       "<circle clip-path=\"url(#clip662)\" cx=\"1989.79\" cy=\"1445.72\" r=\"14\" fill=\"#009af9\" fill-rule=\"evenodd\" fill-opacity=\"1\" stroke=\"#000000\" stroke-opacity=\"1\" stroke-width=\"3.2\"/>\n",
       "<circle clip-path=\"url(#clip662)\" cx=\"2289.76\" cy=\"87.9763\" r=\"14\" fill=\"#009af9\" fill-rule=\"evenodd\" fill-opacity=\"1\" stroke=\"#000000\" stroke-opacity=\"1\" stroke-width=\"3.2\"/>\n",
       "<path clip-path=\"url(#clip660)\" d=\"\n",
       "M2061.74 155.698 L2352.76 155.698 L2352.76 34.7376 L2061.74 34.7376  Z\n",
       "  \" fill=\"#ffffff\" fill-rule=\"evenodd\" fill-opacity=\"1\"/>\n",
       "<polyline clip-path=\"url(#clip660)\" style=\"stroke:#000000; stroke-width:4; stroke-opacity:1; fill:none\" points=\"\n",
       "  2061.74,155.698 2352.76,155.698 2352.76,34.7376 2061.74,34.7376 2061.74,155.698 \n",
       "  \"/>\n",
       "<circle clip-path=\"url(#clip660)\" cx=\"2169.74\" cy=\"95.2176\" r=\"23\" fill=\"#009af9\" fill-rule=\"evenodd\" fill-opacity=\"1\" stroke=\"#000000\" stroke-opacity=\"1\" stroke-width=\"5.12\"/>\n",
       "<circle clip-path=\"url(#clip660)\" cx=\"2169.74\" cy=\"95.2176\" r=\"23\" fill=\"#009af9\" fill-rule=\"evenodd\" fill-opacity=\"1\" stroke=\"#000000\" stroke-opacity=\"1\" stroke-width=\"5.12\"/>\n",
       "<circle clip-path=\"url(#clip660)\" cx=\"2169.74\" cy=\"95.2176\" r=\"23\" fill=\"#009af9\" fill-rule=\"evenodd\" fill-opacity=\"1\" stroke=\"#000000\" stroke-opacity=\"1\" stroke-width=\"5.12\"/>\n",
       "<circle clip-path=\"url(#clip660)\" cx=\"2169.74\" cy=\"95.2176\" r=\"23\" fill=\"#009af9\" fill-rule=\"evenodd\" fill-opacity=\"1\" stroke=\"#000000\" stroke-opacity=\"1\" stroke-width=\"5.12\"/>\n",
       "<circle clip-path=\"url(#clip660)\" cx=\"2169.74\" cy=\"95.2176\" r=\"23\" fill=\"#009af9\" fill-rule=\"evenodd\" fill-opacity=\"1\" stroke=\"#000000\" stroke-opacity=\"1\" stroke-width=\"5.12\"/>\n",
       "<circle clip-path=\"url(#clip660)\" cx=\"2169.74\" cy=\"95.2176\" r=\"23\" fill=\"#009af9\" fill-rule=\"evenodd\" fill-opacity=\"1\" stroke=\"#000000\" stroke-opacity=\"1\" stroke-width=\"5.12\"/>\n",
       "<circle clip-path=\"url(#clip660)\" cx=\"2169.74\" cy=\"95.2176\" r=\"23\" fill=\"#009af9\" fill-rule=\"evenodd\" fill-opacity=\"1\" stroke=\"#000000\" stroke-opacity=\"1\" stroke-width=\"5.12\"/>\n",
       "<circle clip-path=\"url(#clip660)\" cx=\"2169.74\" cy=\"95.2176\" r=\"23\" fill=\"#009af9\" fill-rule=\"evenodd\" fill-opacity=\"1\" stroke=\"#000000\" stroke-opacity=\"1\" stroke-width=\"5.12\"/>\n",
       "<path clip-path=\"url(#clip660)\" d=\"M 0 0 M2267.58 114.905 Q2265.77 119.535 2264.06 120.947 Q2262.35 122.359 2259.48 122.359 L2256.08 122.359 L2256.08 118.794 L2258.58 118.794 Q2260.33 118.794 2261.31 117.96 Q2262.28 117.127 2263.46 114.025 L2264.22 112.081 L2253.74 86.5718 L2258.25 86.5718 L2266.35 106.849 L2274.46 86.5718 L2278.97 86.5718 L2267.58 114.905 Z\" fill=\"#000000\" fill-rule=\"evenodd\" fill-opacity=\"1\" /><path clip-path=\"url(#clip660)\" d=\"M 0 0 M2284.85 108.562 L2292.49 108.562 L2292.49 82.1968 L2284.18 83.8634 L2284.18 79.6042 L2292.44 77.9376 L2297.12 77.9376 L2297.12 108.562 L2304.76 108.562 L2304.76 112.498 L2284.85 112.498 L2284.85 108.562 Z\" fill=\"#000000\" fill-rule=\"evenodd\" fill-opacity=\"1\" /></svg>\n"
      ]
     },
     "execution_count": 8,
     "metadata": {},
     "output_type": "execute_result"
    }
   ],
   "source": [
    "scatter(1:8,log10.(errors))"
   ]
  },
  {
   "cell_type": "code",
   "execution_count": 9,
   "metadata": {},
   "outputs": [
    {
     "data": {
      "text/plain": [
       "atan_series (generic function with 1 method)"
      ]
     },
     "execution_count": 9,
     "metadata": {},
     "output_type": "execute_result"
    }
   ],
   "source": [
    "function atan_series(x::Real,n::Integer)\n",
    "  n>0 || throw(ArgumentError(\"The input n must be positive.\"))\n",
    "  local sum = x\n",
    "  for k=1:n\n",
    "    sum += (-1)^k*x^(2k+1)/(2k+1)\n",
    "  end\n",
    "  sum\n",
    "end"
   ]
  },
  {
   "cell_type": "code",
   "execution_count": 10,
   "metadata": {},
   "outputs": [
    {
     "data": {
      "text/plain": [
       "3.1415926535897922"
      ]
     },
     "execution_count": 10,
     "metadata": {},
     "output_type": "execute_result"
    }
   ],
   "source": [
    "4*(atan_series(1/2,10^3)+atan_series(1/3,10^3))"
   ]
  },
  {
   "cell_type": "code",
   "execution_count": 11,
   "metadata": {},
   "outputs": [
    {
     "data": {
      "text/plain": [
       "8.881784197001252e-16"
      ]
     },
     "execution_count": 11,
     "metadata": {},
     "output_type": "execute_result"
    }
   ],
   "source": [
    "absErr(ans)"
   ]
  },
  {
   "cell_type": "code",
   "execution_count": 12,
   "metadata": {},
   "outputs": [
    {
     "data": {
      "text/plain": [
       "0.46364760900080587"
      ]
     },
     "execution_count": 12,
     "metadata": {},
     "output_type": "execute_result"
    }
   ],
   "source": [
    "atan_series(1/2,10^5)"
   ]
  },
  {
   "cell_type": "code",
   "execution_count": 13,
   "metadata": {},
   "outputs": [
    {
     "data": {
      "text/plain": [
       "0.4636476090008061"
      ]
     },
     "execution_count": 13,
     "metadata": {},
     "output_type": "execute_result"
    }
   ],
   "source": [
    "atan(1/2)"
   ]
  },
  {
   "cell_type": "code",
   "execution_count": 14,
   "metadata": {},
   "outputs": [
    {
     "data": {
      "text/plain": [
       "7-element Array{Float64,1}:\n",
       " 8.881784197001252e-16\n",
       " 8.881784197001252e-16\n",
       " 8.881784197001252e-16\n",
       " 8.881784197001252e-16\n",
       " 8.881784197001252e-16\n",
       " 8.881784197001252e-16\n",
       " 8.881784197001252e-16"
      ]
     },
     "execution_count": 14,
     "metadata": {},
     "output_type": "execute_result"
    }
   ],
   "source": [
    "errors2 = map(n->absErr(4*(atan_series(1/2,10^n)+atan_series(1/3,10^n))),2:8)"
   ]
  },
  {
   "cell_type": "code",
   "execution_count": 15,
   "metadata": {},
   "outputs": [
    {
     "data": {
      "text/plain": [
       "3.141592670450685928962198876522890269927581216144673396936248687068054043860959"
      ]
     },
     "execution_count": 15,
     "metadata": {},
     "output_type": "execute_result"
    }
   ],
   "source": [
    "4*(atan_series(1/big(2),10)+atan_series(1/big(3),10))"
   ]
  },
  {
   "cell_type": "code",
   "execution_count": 16,
   "metadata": {},
   "outputs": [
    {
     "data": {
      "text/plain": [
       "1.6860892237957614e-8"
      ]
     },
     "execution_count": 16,
     "metadata": {},
     "output_type": "execute_result"
    }
   ],
   "source": [
    "absErr(4*(atan_series(1/2,10)+atan_series(1/3,10)))"
   ]
  },
  {
   "cell_type": "code",
   "execution_count": 17,
   "metadata": {},
   "outputs": [
    {
     "data": {
      "text/plain": [
       "5-element Array{BigFloat,1}:\n",
       " 1.686089269049955549324338738573041181676956757596130409476023763757476121934317e-08\n",
       " 8.536932216599333104076888722842818062954460479040445168953455346681077569196179e-15\n",
       " 5.541360098004753291440085860743946761847969162268014510791810751138256936210001e-21\n",
       " 4.005347048909364704518520476811412326265959273017889120734252574465535050431139e-27\n",
       " 3.075296346725383632749782433311833539450331895967037047902902585859740513243069e-33"
      ]
     },
     "execution_count": 17,
     "metadata": {},
     "output_type": "execute_result"
    }
   ],
   "source": [
    "errors2=map(n->absErr(4*(atan_series(1/big(2),10n)+atan_series(1/big(3),10n))),1:5)"
   ]
  },
  {
   "cell_type": "code",
   "execution_count": 18,
   "metadata": {},
   "outputs": [
    {
     "data": {
      "image/svg+xml": [
       "<?xml version=\"1.0\" encoding=\"utf-8\"?>\n",
       "<svg xmlns=\"http://www.w3.org/2000/svg\" xmlns:xlink=\"http://www.w3.org/1999/xlink\" width=\"600\" height=\"400\" viewBox=\"0 0 2400 1600\">\n",
       "<defs>\n",
       "  <clipPath id=\"clip700\">\n",
       "    <rect x=\"0\" y=\"0\" width=\"2400\" height=\"1600\"/>\n",
       "  </clipPath>\n",
       "</defs>\n",
       "<path clip-path=\"url(#clip700)\" d=\"\n",
       "M0 1600 L2400 1600 L2400 0 L0 0  Z\n",
       "  \" fill=\"#ffffff\" fill-rule=\"evenodd\" fill-opacity=\"1\"/>\n",
       "<defs>\n",
       "  <clipPath id=\"clip701\">\n",
       "    <rect x=\"480\" y=\"0\" width=\"1681\" height=\"1600\"/>\n",
       "  </clipPath>\n",
       "</defs>\n",
       "<path clip-path=\"url(#clip700)\" d=\"\n",
       "M152.848 1486.45 L2352.76 1486.45 L2352.76 47.2441 L152.848 47.2441  Z\n",
       "  \" fill=\"#ffffff\" fill-rule=\"evenodd\" fill-opacity=\"1\"/>\n",
       "<defs>\n",
       "  <clipPath id=\"clip702\">\n",
       "    <rect x=\"152\" y=\"47\" width=\"2201\" height=\"1440\"/>\n",
       "  </clipPath>\n",
       "</defs>\n",
       "<polyline clip-path=\"url(#clip702)\" style=\"stroke:#000000; stroke-width:2; stroke-opacity:0.1; fill:none\" points=\"\n",
       "  215.11,1486.45 215.11,47.2441 \n",
       "  \"/>\n",
       "<polyline clip-path=\"url(#clip702)\" style=\"stroke:#000000; stroke-width:2; stroke-opacity:0.1; fill:none\" points=\"\n",
       "  733.956,1486.45 733.956,47.2441 \n",
       "  \"/>\n",
       "<polyline clip-path=\"url(#clip702)\" style=\"stroke:#000000; stroke-width:2; stroke-opacity:0.1; fill:none\" points=\"\n",
       "  1252.8,1486.45 1252.8,47.2441 \n",
       "  \"/>\n",
       "<polyline clip-path=\"url(#clip702)\" style=\"stroke:#000000; stroke-width:2; stroke-opacity:0.1; fill:none\" points=\"\n",
       "  1771.65,1486.45 1771.65,47.2441 \n",
       "  \"/>\n",
       "<polyline clip-path=\"url(#clip702)\" style=\"stroke:#000000; stroke-width:2; stroke-opacity:0.1; fill:none\" points=\"\n",
       "  2290.49,1486.45 2290.49,47.2441 \n",
       "  \"/>\n",
       "<polyline clip-path=\"url(#clip702)\" style=\"stroke:#000000; stroke-width:2; stroke-opacity:0.1; fill:none\" points=\"\n",
       "  152.848,1307.84 2352.76,1307.84 \n",
       "  \"/>\n",
       "<polyline clip-path=\"url(#clip702)\" style=\"stroke:#000000; stroke-width:2; stroke-opacity:0.1; fill:none\" points=\"\n",
       "  152.848,1033.43 2352.76,1033.43 \n",
       "  \"/>\n",
       "<polyline clip-path=\"url(#clip702)\" style=\"stroke:#000000; stroke-width:2; stroke-opacity:0.1; fill:none\" points=\"\n",
       "  152.848,759.019 2352.76,759.019 \n",
       "  \"/>\n",
       "<polyline clip-path=\"url(#clip702)\" style=\"stroke:#000000; stroke-width:2; stroke-opacity:0.1; fill:none\" points=\"\n",
       "  152.848,484.606 2352.76,484.606 \n",
       "  \"/>\n",
       "<polyline clip-path=\"url(#clip702)\" style=\"stroke:#000000; stroke-width:2; stroke-opacity:0.1; fill:none\" points=\"\n",
       "  152.848,210.193 2352.76,210.193 \n",
       "  \"/>\n",
       "<polyline clip-path=\"url(#clip700)\" style=\"stroke:#000000; stroke-width:4; stroke-opacity:1; fill:none\" points=\"\n",
       "  152.848,1486.45 2352.76,1486.45 \n",
       "  \"/>\n",
       "<polyline clip-path=\"url(#clip700)\" style=\"stroke:#000000; stroke-width:4; stroke-opacity:1; fill:none\" points=\"\n",
       "  152.848,1486.45 152.848,47.2441 \n",
       "  \"/>\n",
       "<polyline clip-path=\"url(#clip700)\" style=\"stroke:#000000; stroke-width:4; stroke-opacity:1; fill:none\" points=\"\n",
       "  215.11,1486.45 215.11,1469.18 \n",
       "  \"/>\n",
       "<polyline clip-path=\"url(#clip700)\" style=\"stroke:#000000; stroke-width:4; stroke-opacity:1; fill:none\" points=\"\n",
       "  733.956,1486.45 733.956,1469.18 \n",
       "  \"/>\n",
       "<polyline clip-path=\"url(#clip700)\" style=\"stroke:#000000; stroke-width:4; stroke-opacity:1; fill:none\" points=\"\n",
       "  1252.8,1486.45 1252.8,1469.18 \n",
       "  \"/>\n",
       "<polyline clip-path=\"url(#clip700)\" style=\"stroke:#000000; stroke-width:4; stroke-opacity:1; fill:none\" points=\"\n",
       "  1771.65,1486.45 1771.65,1469.18 \n",
       "  \"/>\n",
       "<polyline clip-path=\"url(#clip700)\" style=\"stroke:#000000; stroke-width:4; stroke-opacity:1; fill:none\" points=\"\n",
       "  2290.49,1486.45 2290.49,1469.18 \n",
       "  \"/>\n",
       "<polyline clip-path=\"url(#clip700)\" style=\"stroke:#000000; stroke-width:4; stroke-opacity:1; fill:none\" points=\"\n",
       "  152.848,1307.84 179.247,1307.84 \n",
       "  \"/>\n",
       "<polyline clip-path=\"url(#clip700)\" style=\"stroke:#000000; stroke-width:4; stroke-opacity:1; fill:none\" points=\"\n",
       "  152.848,1033.43 179.247,1033.43 \n",
       "  \"/>\n",
       "<polyline clip-path=\"url(#clip700)\" style=\"stroke:#000000; stroke-width:4; stroke-opacity:1; fill:none\" points=\"\n",
       "  152.848,759.019 179.247,759.019 \n",
       "  \"/>\n",
       "<polyline clip-path=\"url(#clip700)\" style=\"stroke:#000000; stroke-width:4; stroke-opacity:1; fill:none\" points=\"\n",
       "  152.848,484.606 179.247,484.606 \n",
       "  \"/>\n",
       "<polyline clip-path=\"url(#clip700)\" style=\"stroke:#000000; stroke-width:4; stroke-opacity:1; fill:none\" points=\"\n",
       "  152.848,210.193 179.247,210.193 \n",
       "  \"/>\n",
       "<path clip-path=\"url(#clip700)\" d=\"M 0 0 M191.985 1535.98 L199.624 1535.98 L199.624 1509.62 L191.314 1511.29 L191.314 1507.03 L199.577 1505.36 L204.253 1505.36 L204.253 1535.98 L211.892 1535.98 L211.892 1539.92 L191.985 1539.92 L191.985 1535.98 Z\" fill=\"#000000\" fill-rule=\"evenodd\" fill-opacity=\"1\" /><path clip-path=\"url(#clip700)\" d=\"M 0 0 M226.962 1508.44 Q223.35 1508.44 221.522 1512 Q219.716 1515.55 219.716 1522.67 Q219.716 1529.78 221.522 1533.35 Q223.35 1536.89 226.962 1536.89 Q230.596 1536.89 232.401 1533.35 Q234.23 1529.78 234.23 1522.67 Q234.23 1515.55 232.401 1512 Q230.596 1508.44 226.962 1508.44 M226.962 1504.73 Q232.772 1504.73 235.827 1509.34 Q238.906 1513.92 238.906 1522.67 Q238.906 1531.4 235.827 1536.01 Q232.772 1540.59 226.962 1540.59 Q221.151 1540.59 218.073 1536.01 Q215.017 1531.4 215.017 1522.67 Q215.017 1513.92 218.073 1509.34 Q221.151 1504.73 226.962 1504.73 Z\" fill=\"#000000\" fill-rule=\"evenodd\" fill-opacity=\"1\" /><path clip-path=\"url(#clip700)\" d=\"M 0 0 M715.102 1535.98 L731.421 1535.98 L731.421 1539.92 L709.477 1539.92 L709.477 1535.98 Q712.139 1533.23 716.722 1528.6 Q721.329 1523.95 722.509 1522.61 Q724.755 1520.08 725.634 1518.35 Q726.537 1516.59 726.537 1514.9 Q726.537 1512.14 724.593 1510.41 Q722.671 1508.67 719.569 1508.67 Q717.37 1508.67 714.917 1509.43 Q712.486 1510.2 709.708 1511.75 L709.708 1507.03 Q712.532 1505.89 714.986 1505.31 Q717.44 1504.73 719.477 1504.73 Q724.847 1504.73 728.042 1507.42 Q731.236 1510.11 731.236 1514.6 Q731.236 1516.73 730.426 1518.65 Q729.639 1520.54 727.532 1523.14 Q726.954 1523.81 723.852 1527.03 Q720.75 1530.22 715.102 1535.98 Z\" fill=\"#000000\" fill-rule=\"evenodd\" fill-opacity=\"1\" /><path clip-path=\"url(#clip700)\" d=\"M 0 0 M746.491 1508.44 Q742.879 1508.44 741.051 1512 Q739.245 1515.55 739.245 1522.67 Q739.245 1529.78 741.051 1533.35 Q742.879 1536.89 746.491 1536.89 Q750.125 1536.89 751.93 1533.35 Q753.759 1529.78 753.759 1522.67 Q753.759 1515.55 751.93 1512 Q750.125 1508.44 746.491 1508.44 M746.491 1504.73 Q752.301 1504.73 755.356 1509.34 Q758.435 1513.92 758.435 1522.67 Q758.435 1531.4 755.356 1536.01 Q752.301 1540.59 746.491 1540.59 Q740.68 1540.59 737.602 1536.01 Q734.546 1531.4 734.546 1522.67 Q734.546 1513.92 737.602 1509.34 Q740.68 1504.73 746.491 1504.73 Z\" fill=\"#000000\" fill-rule=\"evenodd\" fill-opacity=\"1\" /><path clip-path=\"url(#clip700)\" d=\"M 0 0 M1243.54 1521.29 Q1246.9 1522 1248.77 1524.27 Q1250.67 1526.54 1250.67 1529.87 Q1250.67 1534.99 1247.15 1537.79 Q1243.64 1540.59 1237.15 1540.59 Q1234.98 1540.59 1232.66 1540.15 Q1230.37 1539.73 1227.92 1538.88 L1227.92 1534.36 Q1229.86 1535.5 1232.18 1536.08 Q1234.49 1536.66 1237.02 1536.66 Q1241.41 1536.66 1243.7 1534.92 Q1246.02 1533.18 1246.02 1529.87 Q1246.02 1526.82 1243.87 1525.11 Q1241.74 1523.37 1237.92 1523.37 L1233.89 1523.37 L1233.89 1519.53 L1238.1 1519.53 Q1241.55 1519.53 1243.38 1518.16 Q1245.21 1516.77 1245.21 1514.18 Q1245.21 1511.52 1243.31 1510.11 Q1241.44 1508.67 1237.92 1508.67 Q1236 1508.67 1233.8 1509.09 Q1231.6 1509.5 1228.96 1510.38 L1228.96 1506.22 Q1231.62 1505.48 1233.94 1505.11 Q1236.27 1504.73 1238.33 1504.73 Q1243.66 1504.73 1246.76 1507.17 Q1249.86 1509.57 1249.86 1513.69 Q1249.86 1516.56 1248.22 1518.55 Q1246.58 1520.52 1243.54 1521.29 Z\" fill=\"#000000\" fill-rule=\"evenodd\" fill-opacity=\"1\" /><path clip-path=\"url(#clip700)\" d=\"M 0 0 M1265.74 1508.44 Q1262.13 1508.44 1260.3 1512 Q1258.5 1515.55 1258.5 1522.67 Q1258.5 1529.78 1260.3 1533.35 Q1262.13 1536.89 1265.74 1536.89 Q1269.38 1536.89 1271.18 1533.35 Q1273.01 1529.78 1273.01 1522.67 Q1273.01 1515.55 1271.18 1512 Q1269.38 1508.44 1265.74 1508.44 M1265.74 1504.73 Q1271.55 1504.73 1274.61 1509.34 Q1277.69 1513.92 1277.69 1522.67 Q1277.69 1531.4 1274.61 1536.01 Q1271.55 1540.59 1265.74 1540.59 Q1259.93 1540.59 1256.85 1536.01 Q1253.8 1531.4 1253.8 1522.67 Q1253.8 1513.92 1256.85 1509.34 Q1259.93 1504.73 1265.74 1504.73 Z\" fill=\"#000000\" fill-rule=\"evenodd\" fill-opacity=\"1\" /><path clip-path=\"url(#clip700)\" d=\"M 0 0 M1761.15 1509.43 L1749.35 1527.88 L1761.15 1527.88 L1761.15 1509.43 M1759.92 1505.36 L1765.8 1505.36 L1765.8 1527.88 L1770.73 1527.88 L1770.73 1531.77 L1765.8 1531.77 L1765.8 1539.92 L1761.15 1539.92 L1761.15 1531.77 L1745.55 1531.77 L1745.55 1527.26 L1759.92 1505.36 Z\" fill=\"#000000\" fill-rule=\"evenodd\" fill-opacity=\"1\" /><path clip-path=\"url(#clip700)\" d=\"M 0 0 M1785.8 1508.44 Q1782.19 1508.44 1780.36 1512 Q1778.56 1515.55 1778.56 1522.67 Q1778.56 1529.78 1780.36 1533.35 Q1782.19 1536.89 1785.8 1536.89 Q1789.44 1536.89 1791.24 1533.35 Q1793.07 1529.78 1793.07 1522.67 Q1793.07 1515.55 1791.24 1512 Q1789.44 1508.44 1785.8 1508.44 M1785.8 1504.73 Q1791.61 1504.73 1794.67 1509.34 Q1797.75 1513.92 1797.75 1522.67 Q1797.75 1531.4 1794.67 1536.01 Q1791.61 1540.59 1785.8 1540.59 Q1779.99 1540.59 1776.91 1536.01 Q1773.86 1531.4 1773.86 1522.67 Q1773.86 1513.92 1776.91 1509.34 Q1779.99 1504.73 1785.8 1504.73 Z\" fill=\"#000000\" fill-rule=\"evenodd\" fill-opacity=\"1\" /><path clip-path=\"url(#clip700)\" d=\"M 0 0 M2267.27 1505.36 L2285.62 1505.36 L2285.62 1509.3 L2271.55 1509.3 L2271.55 1517.77 Q2272.57 1517.42 2273.58 1517.26 Q2274.6 1517.07 2275.62 1517.07 Q2281.41 1517.07 2284.79 1520.24 Q2288.17 1523.42 2288.17 1528.83 Q2288.17 1534.41 2284.7 1537.51 Q2281.22 1540.59 2274.9 1540.59 Q2272.73 1540.59 2270.46 1540.22 Q2268.21 1539.85 2265.81 1539.11 L2265.81 1534.41 Q2267.89 1535.54 2270.11 1536.1 Q2272.33 1536.66 2274.81 1536.66 Q2278.82 1536.66 2281.15 1534.55 Q2283.49 1532.44 2283.49 1528.83 Q2283.49 1525.22 2281.15 1523.11 Q2278.82 1521.01 2274.81 1521.01 Q2272.94 1521.01 2271.06 1521.42 Q2269.21 1521.84 2267.27 1522.72 L2267.27 1505.36 Z\" fill=\"#000000\" fill-rule=\"evenodd\" fill-opacity=\"1\" /><path clip-path=\"url(#clip700)\" d=\"M 0 0 M2303.24 1508.44 Q2299.63 1508.44 2297.8 1512 Q2295.99 1515.55 2295.99 1522.67 Q2295.99 1529.78 2297.8 1533.35 Q2299.63 1536.89 2303.24 1536.89 Q2306.87 1536.89 2308.68 1533.35 Q2310.51 1529.78 2310.51 1522.67 Q2310.51 1515.55 2308.68 1512 Q2306.87 1508.44 2303.24 1508.44 M2303.24 1504.73 Q2309.05 1504.73 2312.1 1509.34 Q2315.18 1513.92 2315.18 1522.67 Q2315.18 1531.4 2312.1 1536.01 Q2309.05 1540.59 2303.24 1540.59 Q2297.43 1540.59 2294.35 1536.01 Q2291.29 1531.4 2291.29 1522.67 Q2291.29 1513.92 2294.35 1509.34 Q2297.43 1504.73 2303.24 1504.73 Z\" fill=\"#000000\" fill-rule=\"evenodd\" fill-opacity=\"1\" /><path clip-path=\"url(#clip700)\" d=\"M 0 0 M62.9921 1310.24 L75.4689 1310.24 L75.4689 1314.04 L62.9921 1314.04 L62.9921 1310.24 Z\" fill=\"#000000\" fill-rule=\"evenodd\" fill-opacity=\"1\" /><path clip-path=\"url(#clip700)\" d=\"M 0 0 M94.7049 1306.49 Q98.0614 1307.21 99.9364 1309.48 Q101.835 1311.74 101.835 1315.08 Q101.835 1320.19 98.316 1322.99 Q94.7975 1325.8 88.3161 1325.8 Q86.1402 1325.8 83.8253 1325.36 Q81.5337 1324.94 79.08 1324.08 L79.08 1319.57 Q81.0244 1320.7 83.3392 1321.28 Q85.654 1321.86 88.1772 1321.86 Q92.5753 1321.86 94.867 1320.12 Q97.1818 1318.39 97.1818 1315.08 Q97.1818 1312.02 95.029 1310.31 Q92.8994 1308.57 89.0799 1308.57 L85.0522 1308.57 L85.0522 1304.73 L89.2651 1304.73 Q92.7142 1304.73 94.5429 1303.37 Q96.3716 1301.98 96.3716 1299.38 Q96.3716 1296.72 94.4734 1295.31 Q92.5984 1293.87 89.0799 1293.87 Q87.1587 1293.87 84.9596 1294.29 Q82.7605 1294.71 80.1217 1295.59 L80.1217 1291.42 Q82.7837 1290.68 85.0985 1290.31 Q87.4364 1289.94 89.4966 1289.94 Q94.8207 1289.94 97.9225 1292.37 Q101.024 1294.78 101.024 1298.9 Q101.024 1301.77 99.3808 1303.76 Q97.7373 1305.73 94.7049 1306.49 Z\" fill=\"#000000\" fill-rule=\"evenodd\" fill-opacity=\"1\" /><path clip-path=\"url(#clip700)\" d=\"M 0 0 M116.904 1293.64 Q113.293 1293.64 111.464 1297.21 Q109.659 1300.75 109.659 1307.88 Q109.659 1314.99 111.464 1318.55 Q113.293 1322.09 116.904 1322.09 Q120.538 1322.09 122.344 1318.55 Q124.172 1314.99 124.172 1307.88 Q124.172 1300.75 122.344 1297.21 Q120.538 1293.64 116.904 1293.64 M116.904 1289.94 Q122.714 1289.94 125.77 1294.55 Q128.848 1299.13 128.848 1307.88 Q128.848 1316.61 125.77 1321.21 Q122.714 1325.8 116.904 1325.8 Q111.094 1325.8 108.015 1321.21 Q104.959 1316.61 104.959 1307.88 Q104.959 1299.13 108.015 1294.55 Q111.094 1289.94 116.904 1289.94 Z\" fill=\"#000000\" fill-rule=\"evenodd\" fill-opacity=\"1\" /><path clip-path=\"url(#clip700)\" d=\"M 0 0 M64.9366 1035.83 L77.4133 1035.83 L77.4133 1039.62 L64.9366 1039.62 L64.9366 1035.83 Z\" fill=\"#000000\" fill-rule=\"evenodd\" fill-opacity=\"1\" /><path clip-path=\"url(#clip700)\" d=\"M 0 0 M86.5105 1046.78 L102.83 1046.78 L102.83 1050.71 L80.8855 1050.71 L80.8855 1046.78 Q83.5476 1044.02 88.1309 1039.39 Q92.7373 1034.74 93.9179 1033.4 Q96.1632 1030.87 97.0429 1029.14 Q97.9456 1027.38 97.9456 1025.69 Q97.9456 1022.93 96.0012 1021.2 Q94.0799 1019.46 90.9781 1019.46 Q88.779 1019.46 86.3253 1020.23 Q83.8948 1020.99 81.117 1022.54 L81.117 1017.82 Q83.9411 1016.68 86.3948 1016.11 Q88.8485 1015.53 90.8855 1015.53 Q96.2558 1015.53 99.4503 1018.21 Q102.645 1020.9 102.645 1025.39 Q102.645 1027.52 101.835 1029.44 Q101.047 1031.34 98.941 1033.93 Q98.3623 1034.6 95.2605 1037.82 Q92.1586 1041.01 86.5105 1046.78 Z\" fill=\"#000000\" fill-rule=\"evenodd\" fill-opacity=\"1\" /><path clip-path=\"url(#clip700)\" d=\"M 0 0 M107.946 1016.15 L126.302 1016.15 L126.302 1020.09 L112.228 1020.09 L112.228 1028.56 Q113.246 1028.21 114.265 1028.05 Q115.284 1027.86 116.302 1027.86 Q122.089 1027.86 125.469 1031.04 Q128.848 1034.21 128.848 1039.62 Q128.848 1045.2 125.376 1048.3 Q121.904 1051.38 115.584 1051.38 Q113.409 1051.38 111.14 1051.01 Q108.895 1050.64 106.487 1049.9 L106.487 1045.2 Q108.571 1046.34 110.793 1046.89 Q113.015 1047.45 115.492 1047.45 Q119.496 1047.45 121.834 1045.34 Q124.172 1043.23 124.172 1039.62 Q124.172 1036.01 121.834 1033.91 Q119.496 1031.8 115.492 1031.8 Q113.617 1031.8 111.742 1032.22 Q109.89 1032.63 107.946 1033.51 L107.946 1016.15 Z\" fill=\"#000000\" fill-rule=\"evenodd\" fill-opacity=\"1\" /><path clip-path=\"url(#clip700)\" d=\"M 0 0 M63.9412 761.415 L76.418 761.415 L76.418 765.211 L63.9412 765.211 L63.9412 761.415 Z\" fill=\"#000000\" fill-rule=\"evenodd\" fill-opacity=\"1\" /><path clip-path=\"url(#clip700)\" d=\"M 0 0 M85.5152 772.364 L101.835 772.364 L101.835 776.299 L79.8902 776.299 L79.8902 772.364 Q82.5522 769.609 87.1355 764.979 Q91.742 760.327 92.9225 758.984 Q95.1679 756.461 96.0475 754.725 Q96.9503 752.966 96.9503 751.276 Q96.9503 748.521 95.0058 746.785 Q93.0846 745.049 89.9827 745.049 Q87.7837 745.049 85.33 745.813 Q82.8994 746.577 80.1217 748.128 L80.1217 743.405 Q82.9457 742.271 85.3994 741.693 Q87.8531 741.114 89.8901 741.114 Q95.2605 741.114 98.4549 743.799 Q101.649 746.484 101.649 750.975 Q101.649 753.105 100.839 755.026 Q100.052 756.924 97.9456 759.517 Q97.3669 760.188 94.2651 763.405 Q91.1633 766.6 85.5152 772.364 Z\" fill=\"#000000\" fill-rule=\"evenodd\" fill-opacity=\"1\" /><path clip-path=\"url(#clip700)\" d=\"M 0 0 M116.904 744.818 Q113.293 744.818 111.464 748.382 Q109.659 751.924 109.659 759.054 Q109.659 766.16 111.464 769.725 Q113.293 773.266 116.904 773.266 Q120.538 773.266 122.344 769.725 Q124.172 766.16 124.172 759.054 Q124.172 751.924 122.344 748.382 Q120.538 744.818 116.904 744.818 M116.904 741.114 Q122.714 741.114 125.77 745.72 Q128.848 750.304 128.848 759.054 Q128.848 767.78 125.77 772.387 Q122.714 776.97 116.904 776.97 Q111.094 776.97 108.015 772.387 Q104.959 767.78 104.959 759.054 Q104.959 750.304 108.015 745.72 Q111.094 741.114 116.904 741.114 Z\" fill=\"#000000\" fill-rule=\"evenodd\" fill-opacity=\"1\" /><path clip-path=\"url(#clip700)\" d=\"M 0 0 M64.5662 487.002 L77.043 487.002 L77.043 490.798 L64.5662 490.798 L64.5662 487.002 Z\" fill=\"#000000\" fill-rule=\"evenodd\" fill-opacity=\"1\" /><path clip-path=\"url(#clip700)\" d=\"M 0 0 M82.9226 497.951 L90.5614 497.951 L90.5614 471.585 L82.2513 473.252 L82.2513 468.993 L90.5151 467.326 L95.191 467.326 L95.191 497.951 L102.83 497.951 L102.83 501.886 L82.9226 501.886 L82.9226 497.951 Z\" fill=\"#000000\" fill-rule=\"evenodd\" fill-opacity=\"1\" /><path clip-path=\"url(#clip700)\" d=\"M 0 0 M107.946 467.326 L126.302 467.326 L126.302 471.261 L112.228 471.261 L112.228 479.733 Q113.246 479.386 114.265 479.224 Q115.284 479.039 116.302 479.039 Q122.089 479.039 125.469 482.21 Q128.848 485.381 128.848 490.798 Q128.848 496.377 125.376 499.479 Q121.904 502.557 115.584 502.557 Q113.409 502.557 111.14 502.187 Q108.895 501.817 106.487 501.076 L106.487 496.377 Q108.571 497.511 110.793 498.067 Q113.015 498.622 115.492 498.622 Q119.496 498.622 121.834 496.516 Q124.172 494.409 124.172 490.798 Q124.172 487.187 121.834 485.081 Q119.496 482.974 115.492 482.974 Q113.617 482.974 111.742 483.391 Q109.89 483.807 107.946 484.687 L107.946 467.326 Z\" fill=\"#000000\" fill-rule=\"evenodd\" fill-opacity=\"1\" /><path clip-path=\"url(#clip700)\" d=\"M 0 0 M63.5708 212.589 L76.0476 212.589 L76.0476 216.385 L63.5708 216.385 L63.5708 212.589 Z\" fill=\"#000000\" fill-rule=\"evenodd\" fill-opacity=\"1\" /><path clip-path=\"url(#clip700)\" d=\"M 0 0 M81.9272 223.538 L89.5661 223.538 L89.5661 197.172 L81.2559 198.839 L81.2559 194.58 L89.5198 192.913 L94.1957 192.913 L94.1957 223.538 L101.835 223.538 L101.835 227.473 L81.9272 227.473 L81.9272 223.538 Z\" fill=\"#000000\" fill-rule=\"evenodd\" fill-opacity=\"1\" /><path clip-path=\"url(#clip700)\" d=\"M 0 0 M116.904 195.992 Q113.293 195.992 111.464 199.557 Q109.659 203.098 109.659 210.228 Q109.659 217.334 111.464 220.899 Q113.293 224.441 116.904 224.441 Q120.538 224.441 122.344 220.899 Q124.172 217.334 124.172 210.228 Q124.172 203.098 122.344 199.557 Q120.538 195.992 116.904 195.992 M116.904 192.288 Q122.714 192.288 125.77 196.895 Q128.848 201.478 128.848 210.228 Q128.848 218.955 125.77 223.561 Q122.714 228.144 116.904 228.144 Q111.094 228.144 108.015 223.561 Q104.959 218.955 104.959 210.228 Q104.959 201.478 108.015 196.895 Q111.094 192.288 116.904 192.288 Z\" fill=\"#000000\" fill-rule=\"evenodd\" fill-opacity=\"1\" /><circle clip-path=\"url(#clip702)\" cx=\"215.11\" cy=\"87.9763\" r=\"14\" fill=\"#009af9\" fill-rule=\"evenodd\" fill-opacity=\"1\" stroke=\"#000000\" stroke-opacity=\"1\" stroke-width=\"3.2\"/>\n",
       "<circle clip-path=\"url(#clip702)\" cx=\"733.956\" cy=\"433.494\" r=\"14\" fill=\"#009af9\" fill-rule=\"evenodd\" fill-opacity=\"1\" stroke=\"#000000\" stroke-opacity=\"1\" stroke-width=\"3.2\"/>\n",
       "<circle clip-path=\"url(#clip702)\" cx=\"1252.8\" cy=\"773.09\" r=\"14\" fill=\"#009af9\" fill-rule=\"evenodd\" fill-opacity=\"1\" stroke=\"#000000\" stroke-opacity=\"1\" stroke-width=\"3.2\"/>\n",
       "<circle clip-path=\"url(#clip702)\" cx=\"1771.65\" cy=\"1110.12\" r=\"14\" fill=\"#009af9\" fill-rule=\"evenodd\" fill-opacity=\"1\" stroke=\"#000000\" stroke-opacity=\"1\" stroke-width=\"3.2\"/>\n",
       "<circle clip-path=\"url(#clip702)\" cx=\"2290.49\" cy=\"1445.72\" r=\"14\" fill=\"#009af9\" fill-rule=\"evenodd\" fill-opacity=\"1\" stroke=\"#000000\" stroke-opacity=\"1\" stroke-width=\"3.2\"/>\n",
       "</svg>\n"
      ]
     },
     "execution_count": 18,
     "metadata": {},
     "output_type": "execute_result"
    }
   ],
   "source": [
    "scatter(10:10:50,log10.(errors2), legend=false)"
   ]
  },
  {
   "cell_type": "code",
   "execution_count": 19,
   "metadata": {},
   "outputs": [
    {
     "data": {
      "text/plain": [
       "3.1415926535897932384626433832795028841971693993751058209749445923078164062862089986280348253421170679821480865132823066470938446095505822317253594081284811174502841027019385211055596446229489549303819644288109756659334461284756482337867831652712019091456485669234603486104543266482133936072602491412737245870066063155881748815209209628292540917153643678925903600113305305488204665213841469519415116094330572703657595919530921861173819326117931051185480744623799627495673518857527248912279381830119491298336733624406566430860213949463952247371907021798609437027705392171762931767523846748184676694051320005681271452635608277857713427577896091736371787214684409012249534301465495853710507922796892589235420199561121290219608640344181598136297747713099605187072113499999983729780499510597317328160963185950244594553469083026425223082533446850352619311881710100031376760739079882712780690481746217248482101556546803109656705196244331270121079723663145405155978070087185727175564999368574276024818417028339621283029877658000415191079175058615400434691123668764299159815270597920071311708255816631787536047937164993430846899039414538452960009770503117254096512381294956066209615199774760262946858868427063773119328282486988453487680797955588"
      ]
     },
     "execution_count": 19,
     "metadata": {},
     "output_type": "execute_result"
    }
   ],
   "source": [
    "setprecision(4096) do\n",
    "  pi1000=4*(atan_series(1/big(2),1425)+atan_series(1/big(3),1425))\n",
    "end"
   ]
  },
  {
   "cell_type": "code",
   "execution_count": 20,
   "metadata": {},
   "outputs": [
    {
     "name": "stdout",
     "output_type": "stream",
     "text": [
      "  0.055868 seconds (50.71 k allocations: 10.518 MiB, 14.52% gc time)\n"
     ]
    },
    {
     "data": {
      "text/plain": [
       "3.700529001036092752085004639104995162401161663255349908291221636910463800991450566068024092973223611797679856685703565609447233297724827493861620195372674007941029947653163783557515997798181606910726486524872291053704484932516799780333099986740012796332954135934492369348172998202976283231113737781883995939600317961353152996794951603139603255614094582578286876273985834733308877636666914603312529759130098085905765985238374730211699535840199906977154633288483632361402336270615923691381753544948566390955466432793135809942055297441428789160005307114405358840356680708112488520083542852679503893873754524917239231448216491673037110347694516377874509383964463088211407748709794787842115825820333416530220631012355618857585795302285817466597902700869365753285081513519899660113886984043811259714537087643464328343926447641858409072241927165839433228644111228252510090634749046504474869405439989683827991396033565659107455366927733173609389183982610687750888128849716379918699438645496152512048937065125840947596342354108848304700805457461980391632535243134591590358820474104269317325362267403189368975043228763592689280277666027106966890332455797763097159159822572738364258855504204270433870358753362946992792756104428259194222935979422e-1028"
      ]
     },
     "execution_count": 20,
     "metadata": {},
     "output_type": "execute_result"
    }
   ],
   "source": [
    "@time setprecision(4096) do\n",
    "  pi1000=4*(atan_series(1/big(2),1700)+atan_series(1/big(3),1700))\n",
    "  absErr(pi1000)\n",
    "end"
   ]
  },
  {
   "cell_type": "code",
   "execution_count": 21,
   "metadata": {},
   "outputs": [
    {
     "data": {
      "text/plain": [
       "numDigits (generic function with 1 method)"
      ]
     },
     "execution_count": 21,
     "metadata": {},
     "output_type": "execute_result"
    }
   ],
   "source": [
    "numDigits(pi_approx::Real) = floor(BigInt,-log10(absErr(pi_approx)))"
   ]
  },
  {
   "cell_type": "code",
   "execution_count": 22,
   "metadata": {},
   "outputs": [
    {
     "name": "stdout",
     "output_type": "stream",
     "text": [
      "  0.049675 seconds (60.85 k allocations: 11.068 MiB)\n"
     ]
    },
    {
     "data": {
      "text/plain": [
       "1027"
      ]
     },
     "execution_count": 22,
     "metadata": {},
     "output_type": "execute_result"
    }
   ],
   "source": [
    "@time setprecision(4096) do\n",
    "  pi1000=4*(atan_series(1/big(2),1700)+atan_series(1/big(3),1700))\n",
    "  numDigits(pi1000)\n",
    "end"
   ]
  },
  {
   "cell_type": "code",
   "execution_count": 23,
   "metadata": {},
   "outputs": [
    {
     "data": {
      "text/plain": [
       "62"
      ]
     },
     "execution_count": 23,
     "metadata": {},
     "output_type": "execute_result"
    }
   ],
   "source": [
    "setprecision(4096) do\n",
    "  numDigits(4*(atan_series(1/big(2),100)+atan_series(1/big(3),100)))\n",
    "  end"
   ]
  },
  {
   "cell_type": "code",
   "execution_count": 24,
   "metadata": {},
   "outputs": [
    {
     "name": "stdout",
     "output_type": "stream",
     "text": [
      " 20.529757 seconds (277.66 k allocations: 10.773 GiB, 0.90% gc time)\n"
     ]
    },
    {
     "data": {
      "text/plain": [
       "62"
      ]
     },
     "execution_count": 24,
     "metadata": {},
     "output_type": "execute_result"
    }
   ],
   "source": [
    "@time setprecision(2^22) do\n",
    "  numDigits(4*(atan_series(1/big(2),100)+atan_series(1/big(3),100)))\n",
    "  end"
   ]
  },
  {
   "cell_type": "code",
   "execution_count": 25,
   "metadata": {},
   "outputs": [
    {
     "name": "stdout",
     "output_type": "stream",
     "text": [
      " 33.040052 seconds (310.72 k allocations: 17.863 GiB, 0.89% gc time)\n"
     ]
    },
    {
     "data": {
      "text/plain": [
       "123"
      ]
     },
     "execution_count": 25,
     "metadata": {},
     "output_type": "execute_result"
    }
   ],
   "source": [
    "@time setprecision(2^22) do\n",
    "  numDigits(4*(atan_series(1/big(2),200)+atan_series(1/big(3),200)))\n",
    "end"
   ]
  },
  {
   "cell_type": "code",
   "execution_count": 26,
   "metadata": {},
   "outputs": [
    {
     "data": {
      "text/plain": [
       "atan_series2 (generic function with 1 method)"
      ]
     },
     "execution_count": 26,
     "metadata": {},
     "output_type": "execute_result"
    }
   ],
   "source": [
    "function atan_series2(x::Real,n::Integer)\n",
    "  n>0 || throw(ArgumentError(\"The input n must be positive.\"))\n",
    "  local xsq=x^2\n",
    "  local sum = 1\n",
    "  local ak=1\n",
    "  for k=2:n\n",
    "    ak *= -xsq\n",
    "    sum += ak/(2k-1)\n",
    "  end\n",
    "  x*sum\n",
    "end"
   ]
  },
  {
   "cell_type": "code",
   "execution_count": 27,
   "metadata": {},
   "outputs": [
    {
     "data": {
      "text/plain": [
       "0.8349206349206351"
      ]
     },
     "execution_count": 27,
     "metadata": {},
     "output_type": "execute_result"
    }
   ],
   "source": [
    "atan_series2(1,5)"
   ]
  },
  {
   "cell_type": "code",
   "execution_count": 28,
   "metadata": {},
   "outputs": [
    {
     "data": {
      "text/plain": [
       "29"
      ]
     },
     "execution_count": 28,
     "metadata": {},
     "output_type": "execute_result"
    }
   ],
   "source": [
    "numDigits(4*(4*atan_series2(1/big(5),20)+atan_series2(1/big(-239),20)))"
   ]
  },
  {
   "cell_type": "code",
   "execution_count": 29,
   "metadata": {},
   "outputs": [],
   "source": [
    "using BenchmarkTools"
   ]
  },
  {
   "cell_type": "code",
   "execution_count": 30,
   "metadata": {},
   "outputs": [
    {
     "name": "stdout",
     "output_type": "stream",
     "text": [
      "  232.631 ms (9417 allocations: 110.48 MiB)\n"
     ]
    },
    {
     "data": {
      "text/plain": [
       "30"
      ]
     },
     "execution_count": 30,
     "metadata": {},
     "output_type": "execute_result"
    }
   ],
   "source": [
    "@btime setprecision(2^18) do\n",
    "  numDigits(4*(4*atan_series(1/big(5),20)+atan_series(1/big(-239),20)))\n",
    "end"
   ]
  },
  {
   "cell_type": "code",
   "execution_count": 31,
   "metadata": {},
   "outputs": [
    {
     "name": "stdout",
     "output_type": "stream",
     "text": [
      "  136.937 ms (5965 allocations: 67.16 MiB)\n"
     ]
    },
    {
     "data": {
      "text/plain": [
       "29"
      ]
     },
     "execution_count": 31,
     "metadata": {},
     "output_type": "execute_result"
    }
   ],
   "source": [
    "@btime setprecision(2^18) do\n",
    "  numDigits(4*(4*atan_series2(1/big(5),20)+atan_series2(1/big(-239),20)))\n",
    "end"
   ]
  },
  {
   "cell_type": "code",
   "execution_count": 32,
   "metadata": {},
   "outputs": [
    {
     "data": {
      "text/plain": [
       "1262615"
      ]
     },
     "execution_count": 32,
     "metadata": {},
     "output_type": "execute_result"
    }
   ],
   "source": [
    "setprecision(2^22) do\n",
    "  length(string(1/big(3)))\n",
    "end"
   ]
  },
  {
   "cell_type": "code",
   "execution_count": 33,
   "metadata": {},
   "outputs": [
    {
     "data": {
      "text/plain": [
       "4.704908160192713"
      ]
     },
     "execution_count": 33,
     "metadata": {},
     "output_type": "execute_result"
    }
   ],
   "source": [
    "50/123*1_000_000/60/60/24"
   ]
  },
  {
   "cell_type": "code",
   "execution_count": 34,
   "metadata": {},
   "outputs": [
    {
     "name": "stdout",
     "output_type": "stream",
     "text": [
      "  7.277047 seconds (138.65 k allocations: 3.689 GiB, 0.88% gc time)\n"
     ]
    },
    {
     "data": {
      "text/plain": [
       "30"
      ]
     },
     "execution_count": 34,
     "metadata": {},
     "output_type": "execute_result"
    }
   ],
   "source": [
    "@time setprecision(2^22) do\n",
    "  numDigits(4*(4*atan_series(1/big(5),20)+atan_series(1/big(-239),20)))\n",
    "  end"
   ]
  },
  {
   "cell_type": "code",
   "execution_count": 35,
   "metadata": {},
   "outputs": [
    {
     "data": {
      "text/plain": [
       "machin (generic function with 1 method)"
      ]
     },
     "execution_count": 35,
     "metadata": {},
     "output_type": "execute_result"
    }
   ],
   "source": [
    "function machin(coeffs::Vector{Int},xvals::Vector{Int},n::Int)\n",
    "  length(coeffs) == length(xvals) || throw(ArgumentError(\"The lengths of the vectors must match\"))\n",
    "  local sum=big(0)\n",
    "  for i=1:length(coeffs)\n",
    "    sum += coeffs[i]*atan_series2(1/big(xvals[i]),n)\n",
    "  end\n",
    "  4*sum\n",
    "end"
   ]
  },
  {
   "cell_type": "code",
   "execution_count": 36,
   "metadata": {},
   "outputs": [
    {
     "name": "stdout",
     "output_type": "stream",
     "text": [
      "  4.872492 seconds (212.96 k allocations: 2.650 GiB, 1.06% gc time)\n"
     ]
    },
    {
     "data": {
      "text/plain": [
       "29"
      ]
     },
     "execution_count": 36,
     "metadata": {},
     "output_type": "execute_result"
    }
   ],
   "source": [
    "@time setprecision(2^22) do\n",
    "  numDigits(machin([4,-1],[5,239],20))\n",
    "end"
   ]
  },
  {
   "cell_type": "code",
   "execution_count": 37,
   "metadata": {},
   "outputs": [
    {
     "name": "stdout",
     "output_type": "stream",
     "text": [
      "  5.472309 seconds (160.78 k allocations: 3.094 GiB, 0.95% gc time)\n"
     ]
    },
    {
     "data": {
      "text/plain": [
       "57"
      ]
     },
     "execution_count": 37,
     "metadata": {},
     "output_type": "execute_result"
    }
   ],
   "source": [
    "@time setprecision(2^22) do\n",
    "  numDigits(machin([4,-1],[5,239],40))\n",
    "end"
   ]
  },
  {
   "cell_type": "code",
   "execution_count": 38,
   "metadata": {},
   "outputs": [
    {
     "data": {
      "text/plain": [
       "2.195083014048531"
      ]
     },
     "execution_count": 38,
     "metadata": {},
     "output_type": "execute_result"
    }
   ],
   "source": [
    "1_000_000*11/58/60/60/24"
   ]
  },
  {
   "cell_type": "code",
   "execution_count": 39,
   "metadata": {},
   "outputs": [
    {
     "name": "stdout",
     "output_type": "stream",
     "text": [
      "  6.902990 seconds (173.76 k allocations: 4.025 GiB, 0.99% gc time)\n"
     ]
    },
    {
     "data": {
      "text/plain": [
       "141"
      ]
     },
     "execution_count": 39,
     "metadata": {},
     "output_type": "execute_result"
    }
   ],
   "source": [
    "@time setprecision(2^22) do\n",
    "  numDigits(machin([44,7,-12,24],[57,239,682,12943],40))\n",
    "end"
   ]
  },
  {
   "cell_type": "code",
   "execution_count": 40,
   "metadata": {},
   "outputs": [
    {
     "name": "stdout",
     "output_type": "stream",
     "text": [
      "  9.621368 seconds (180.74 k allocations: 5.812 GiB, 0.99% gc time)\n"
     ]
    },
    {
     "data": {
      "text/plain": [
       "282"
      ]
     },
     "execution_count": 40,
     "metadata": {},
     "output_type": "execute_result"
    }
   ],
   "source": [
    "@time setprecision(2^22) do\n",
    "  numDigits(machin([44,7,-12,24],[57,239,682,12943],80))\n",
    "end"
   ]
  },
  {
   "cell_type": "code",
   "execution_count": 41,
   "metadata": {},
   "outputs": [
    {
     "data": {
      "text/plain": [
       "9.850275807722616"
      ]
     },
     "execution_count": 41,
     "metadata": {},
     "output_type": "execute_result"
    }
   ],
   "source": [
    "1_000_000*10/282/60/60"
   ]
  },
  {
   "cell_type": "markdown",
   "metadata": {},
   "source": [
    "## Ramanujan Formula"
   ]
  },
  {
   "cell_type": "code",
   "execution_count": 42,
   "metadata": {},
   "outputs": [
    {
     "data": {
      "text/plain": [
       "chudnovsky (generic function with 1 method)"
      ]
     },
     "execution_count": 42,
     "metadata": {},
     "output_type": "execute_result"
    }
   ],
   "source": [
    "function chudnovsky(n::Integer)\n",
    "  local sum1 = big(1.0)\n",
    "  local sum2 = big(0.0)\n",
    "  local top = big(1)\n",
    "  local bottom = big(1)\n",
    "  local C = big(640320)^3\n",
    "  for k=1:n\n",
    "    top *= -24*(6*k-5)*(2*k-1)*(6*k-1)\n",
    "    bottom *= C*k^3 \n",
    "    sum1 += top/bottom\n",
    "    sum2 += k * top/bottom\n",
    "  end\n",
    "  426880*sqrt(big(10005))/(13591409*sum1 + 545140134*sum2)\n",
    "end"
   ]
  },
  {
   "cell_type": "code",
   "execution_count": 43,
   "metadata": {},
   "outputs": [
    {
     "name": "stdout",
     "output_type": "stream",
     "text": [
      "  0.033388 seconds (97.82 k allocations: 8.569 MiB)\n"
     ]
    },
    {
     "data": {
      "text/plain": [
       "1432"
      ]
     },
     "execution_count": 43,
     "metadata": {},
     "output_type": "execute_result"
    }
   ],
   "source": [
    "@time setprecision(2^14) do\n",
    "  numDigits(chudnovsky(100))\n",
    "end"
   ]
  },
  {
   "cell_type": "code",
   "execution_count": 44,
   "metadata": {},
   "outputs": [
    {
     "data": {
      "text/plain": [
       "chud (generic function with 1 method)"
      ]
     },
     "execution_count": 44,
     "metadata": {},
     "output_type": "execute_result"
    }
   ],
   "source": [
    "function chud(n::Integer)\n",
    "  sum = big(0)\n",
    "  for k=0:n\n",
    "    term1 =  (-1)^k*factorial(big(6k))/factorial(big(3k))/ factorial(big(k))^3/ (big(640320)^3)^(k+0.5)\n",
    "    sum += 545140134*k*term1 + 13591409*term1\n",
    "  end\n",
    "  1/(12sum)\n",
    "end"
   ]
  },
  {
   "cell_type": "code",
   "execution_count": 45,
   "metadata": {},
   "outputs": [
    {
     "name": "stdout",
     "output_type": "stream",
     "text": [
      "  0.992992 seconds (164.94 k allocations: 374.969 MiB, 1.63% gc time)\n"
     ]
    },
    {
     "data": {
      "text/plain": [
       "84"
      ]
     },
     "execution_count": 45,
     "metadata": {},
     "output_type": "execute_result"
    }
   ],
   "source": [
    "@time setprecision(2^18) do\n",
    "  numDigits(chud(5))\n",
    "end"
   ]
  },
  {
   "cell_type": "code",
   "execution_count": 46,
   "metadata": {},
   "outputs": [
    {
     "name": "stdout",
     "output_type": "stream",
     "text": [
      "212.123560 seconds (3.89 M allocations: 100.176 GiB, 0.95% gc time)\n"
     ]
    },
    {
     "data": {
      "text/plain": [
       "581"
      ]
     },
     "execution_count": 46,
     "metadata": {},
     "output_type": "execute_result"
    }
   ],
   "source": [
    "@time setprecision(2^22) do \n",
    "  numDigits(chud(40))\n",
    "end"
   ]
  },
  {
   "cell_type": "code",
   "execution_count": null,
   "metadata": {},
   "outputs": [],
   "source": [
    "@time setprecision(2^22) do \n",
    "  numDigits(chud(20))\n",
    "end"
   ]
  },
  {
   "cell_type": "code",
   "execution_count": 90,
   "metadata": {},
   "outputs": [
    {
     "data": {
      "text/plain": [
       "1.949317738791423"
      ]
     },
     "execution_count": 90,
     "metadata": {},
     "output_type": "execute_result"
    }
   ],
   "source": [
    "1_000_000/2850*20/60/60"
   ]
  },
  {
   "cell_type": "code",
   "execution_count": 50,
   "metadata": {},
   "outputs": [],
   "source": [
    "using Distributed"
   ]
  },
  {
   "cell_type": "code",
   "execution_count": null,
   "metadata": {},
   "outputs": [],
   "source": [
    "addprocs()  ## add all available cores"
   ]
  },
  {
   "cell_type": "code",
   "execution_count": 64,
   "metadata": {},
   "outputs": [],
   "source": [
    "@everywhere function paraChud(n1::Integer,n2::Integer,prec::Integer)\n",
    "  setprecision(prec)\n",
    "  local C = big(640320)^3\n",
    "  local bottom = big(1)\n",
    "  local top = big(1)\n",
    "  for k=1:n1\n",
    "    bottom *= k^3*C\n",
    "    top *= -8*(6k-1)*(6k-3)*(6k-5)\n",
    "  end\n",
    "  local sum1 = n1*top/bottom\n",
    "  local sum2 = top/bottom \n",
    "  for k=n1+1:n2\n",
    "    bottom *= k^3*C\n",
    "    top *= -8*(6k-1)*(6k-3)*(6k-5)\n",
    "    sum1 += k*top/bottom \n",
    "    sum2 += top/bottom\n",
    "  end\n",
    "  545140134*sum1 + 13591409*sum2\n",
    "end"
   ]
  },
  {
   "cell_type": "code",
   "execution_count": 52,
   "metadata": {},
   "outputs": [
    {
     "ename": "MethodError",
     "evalue": "MethodError: no method matching paraChud(::Int64, ::Int64)\nClosest candidates are:\n  paraChud(::Integer, ::Integer, !Matched::Integer) at In[51]:1",
     "output_type": "error",
     "traceback": [
      "MethodError: no method matching paraChud(::Int64, ::Int64)\nClosest candidates are:\n  paraChud(::Integer, ::Integer, !Matched::Integer) at In[51]:1",
      "",
      "Stacktrace:",
      " [1] (::var\"#47#48\")() at ./In[52]:2",
      " [2] setprecision(::var\"#47#48\", ::Type{BigFloat}, ::Int64) at ./mpfr.jl:937",
      " [3] setprecision(::Function, ::Int64) at ./mpfr.jl:943",
      " [4] top-level scope at timing.jl:174",
      " [5] top-level scope at In[52]:1"
     ]
    }
   ],
   "source": [
    "@time setprecision(2^10) do \n",
    "  numDigits(sqrt(big(640320)^3)/(12*(paraChud(0,9))))\n",
    "end"
   ]
  },
  {
   "cell_type": "code",
   "execution_count": 53,
   "metadata": {},
   "outputs": [
    {
     "name": "stdout",
     "output_type": "stream",
     "text": [
      "  0.004473 seconds (2.33 k allocations: 1.431 MiB)\n"
     ]
    },
    {
     "data": {
      "text/plain": [
       "567"
      ]
     },
     "execution_count": 53,
     "metadata": {},
     "output_type": "execute_result"
    }
   ],
   "source": [
    "@time let\n",
    "  prec = 2^14\n",
    "  p1 = paraChud(0,9,prec)\n",
    "  p2 = paraChud(10,19,prec)\n",
    "  p3 = paraChud(20,29,prec)\n",
    "  p4 = paraChud(30,39,prec)\n",
    "  numDigits(sqrt(big(640320)^3)/(12*(p1+p2+p3+p4)))\n",
    "end"
   ]
  },
  {
   "cell_type": "code",
   "execution_count": 54,
   "metadata": {},
   "outputs": [
    {
     "data": {
      "text/plain": [
       "1262615"
      ]
     },
     "execution_count": 54,
     "metadata": {},
     "output_type": "execute_result"
    }
   ],
   "source": [
    "setprecision(2^22) do\n",
    "  length(string(1/big(3)))\n",
    "end"
   ]
  },
  {
   "cell_type": "code",
   "execution_count": 55,
   "metadata": {},
   "outputs": [],
   "source": [
    "using Distributed"
   ]
  },
  {
   "cell_type": "code",
   "execution_count": 56,
   "metadata": {},
   "outputs": [
    {
     "data": {
      "text/plain": [
       "12-element Array{Int64,1}:\n",
       "  2\n",
       "  3\n",
       "  4\n",
       "  5\n",
       "  6\n",
       "  7\n",
       "  8\n",
       "  9\n",
       " 10\n",
       " 11\n",
       " 12\n",
       " 13"
      ]
     },
     "execution_count": 56,
     "metadata": {},
     "output_type": "execute_result"
    }
   ],
   "source": []
  },
  {
   "cell_type": "code",
   "execution_count": 57,
   "metadata": {},
   "outputs": [
    {
     "data": {
      "text/plain": [
       "numDigits (generic function with 1 method)"
      ]
     },
     "execution_count": 57,
     "metadata": {},
     "output_type": "execute_result"
    }
   ],
   "source": [
    "numDigits(pi_approx::Real) = floor(Int,-log10(absErr(pi_approx)))"
   ]
  },
  {
   "cell_type": "code",
   "execution_count": 65,
   "metadata": {},
   "outputs": [
    {
     "name": "stdout",
     "output_type": "stream",
     "text": [
      " 11.870842 seconds (600.94 k allocations: 2.239 GiB, 0.45% gc time)\n"
     ]
    },
    {
     "data": {
      "text/plain": [
       "7091"
      ]
     },
     "execution_count": 65,
     "metadata": {},
     "output_type": "execute_result"
    }
   ],
   "source": [
    "@time setprecision(2^22) do\n",
    "  local p = pmap(i->paraChud(50*(i-1),50i-1,2^22),1:10)\n",
    "  local s = sum(p)\n",
    "  numDigits(sqrt(big(640320)^3)/(12s))\n",
    "end"
   ]
  },
  {
   "cell_type": "code",
   "execution_count": 69,
   "metadata": {},
   "outputs": [
    {
     "name": "stdout",
     "output_type": "stream",
     "text": [
      " 31.084097 seconds (447.51 k allocations: 18.114 GiB, 0.95% gc time)\n"
     ]
    },
    {
     "data": {
      "text/plain": [
       "7105"
      ]
     },
     "execution_count": 69,
     "metadata": {},
     "output_type": "execute_result"
    }
   ],
   "source": [
    "@time setprecision(2^22) do\n",
    "  numDigits(chudnovsky(500))\n",
    "end"
   ]
  },
  {
   "cell_type": "code",
   "execution_count": 67,
   "metadata": {},
   "outputs": [
    {
     "name": "stdout",
     "output_type": "stream",
     "text": [
      " 19.191056 seconds (390.46 k allocations: 2.227 GiB, 0.23% gc time)\n"
     ]
    },
    {
     "data": {
      "text/plain": [
       "14182"
      ]
     },
     "execution_count": 67,
     "metadata": {},
     "output_type": "execute_result"
    }
   ],
   "source": [
    "@time setprecision(2^22) do\n",
    "  local p = pmap(i->paraChud(100*(i-1),100i-1,2^22),1:10)\n",
    "  local s = sum(p)\n",
    "  numDigits(sqrt(big(640320)^3)/(12s))\n",
    "end"
   ]
  },
  {
   "cell_type": "code",
   "execution_count": 68,
   "metadata": {},
   "outputs": [
    {
     "data": {
      "text/plain": [
       "21.623654397593196"
      ]
     },
     "execution_count": 68,
     "metadata": {},
     "output_type": "execute_result"
    }
   ],
   "source": [
    "1_000_000/14182*18.4/60"
   ]
  },
  {
   "cell_type": "code",
   "execution_count": 76,
   "metadata": {},
   "outputs": [
    {
     "name": "stdout",
     "output_type": "stream",
     "text": [
      "1084.717342 seconds (422.94 k allocations: 2.234 GiB, 0.02% gc time)\n"
     ]
    },
    {
     "data": {
      "text/plain": [
       "1021079"
      ]
     },
     "execution_count": 76,
     "metadata": {},
     "output_type": "execute_result"
    }
   ],
   "source": [
    "@time setprecision(2^22) do\n",
    "  local p = pmap(i->paraChud(6000*(i-1),6000i-1,2^22),1:12)\n",
    "  local s = sum(p)\n",
    "  numDigits(sqrt(big(640320)^3)/(12s))\n",
    "end"
   ]
  },
  {
   "cell_type": "code",
   "execution_count": 79,
   "metadata": {},
   "outputs": [
    {
     "data": {
      "text/plain": [
       "18.016666666666666"
      ]
     },
     "execution_count": 79,
     "metadata": {},
     "output_type": "execute_result"
    }
   ],
   "source": [
    "1081/60"
   ]
  },
  {
   "cell_type": "code",
   "execution_count": 92,
   "metadata": {},
   "outputs": [
    {
     "data": {
      "text/plain": [
       "1237"
      ]
     },
     "execution_count": 92,
     "metadata": {},
     "output_type": "execute_result"
    }
   ],
   "source": [
    "setprecision(4096) do \n",
    "  length(string(1/big(3)))\n",
    "end"
   ]
  },
  {
   "cell_type": "code",
   "execution_count": null,
   "metadata": {},
   "outputs": [],
   "source": []
  }
 ],
 "metadata": {
  "kernelspec": {
   "display_name": "Julia 1.8.3",
   "language": "julia",
   "name": "julia-1.8"
  },
  "language_info": {
   "file_extension": ".jl",
   "mimetype": "application/julia",
   "name": "julia",
   "version": "1.8.3"
  }
 },
 "nbformat": 4,
 "nbformat_minor": 4
}
