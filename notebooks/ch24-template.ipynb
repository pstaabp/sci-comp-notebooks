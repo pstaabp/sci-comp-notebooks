{
 "cells": [
  {
   "cell_type": "markdown",
   "metadata": {},
   "source": [
    "## Chapter 24: Advanced Linear Algebra"
   ]
  },
  {
   "cell_type": "code",
   "execution_count": 46,
   "metadata": {},
   "outputs": [
    {
     "data": {
      "text/plain": [
       "13×13 Array{Int64,2}:\n",
       " 0  1   0   0   0   0  0  0  2  0  0  0   1\n",
       " 0  0   0   0   0   2  0  0  0  0  0  0   0\n",
       " 0  0  -1   0   0   0  0  0  0  0  0  2   0\n",
       " 0  0   0  -1   0   0  0  1  0  1  0  0   0\n",
       " 0  0   0   0  -2   0  0  0  0  0  0  0   0\n",
       " 1  0   0   0   0   0  0  0  0  0  1  0   0\n",
       " 0  0   0   0   0   1  0  0  0  0  0  0  -1\n",
       " 0  0   1   0   0   0  2  0  0  0  0  0   0\n",
       " 0  0   0  -1   0   0  0  0  0  2  0  0   0\n",
       " 0  0   0   0   0  -2  0  0  0  0  0  0   0\n",
       " 0  0   0   0   0   0  0  0  0  0  0  1   0\n",
       " 0  2   0   0   0   0  0  1  0  0  2  0   0\n",
       " 0  0   0   0   0   0  0  0  1  0  0  0   0"
      ]
     },
     "execution_count": 46,
     "metadata": {},
     "output_type": "execute_result"
    }
   ],
   "source": [
    "A = [\n",
    "0   1   0   0   0   0   0   0   2   0   0   0   1 ;\n",
    "0   0   0   0   0   2   0   0   0   0   0   0   0 ;\n",
    "0   0   -1   0   0   0   0   0   0   0   0   2   0 ;\n",
    "0   0   0   -1   0   0   0   1   0   1   0   0   0 ;\n",
    "0   0   0   0   -2   0   0   0   0   0   0   0   0 ;\n",
    "1   0   0   0   0   0   0   0   0   0   1   0   0 ;\n",
    "0   0   0   0   0   1   0   0   0   0   0   0   -1 ;\n",
    "0   0   1   0   0   0   2   0   0   0   0   0   0 ;\n",
    "0   0   0   -1   0   0   0   0   0   2   0   0   0 ;\n",
    "0   0   0   0   0   -2   0   0   0   0   0   0   0 ;\n",
    "0   0   0   0   0   0   0   0   0   0   0    1  0 ;\n",
    "0   2   0   0   0   0   0   1   0   0   2   0   0 ;\n",
    "0   0   0   0   0   0   0   0   1   0   0   0   0 ]"
   ]
  },
  {
   "cell_type": "code",
   "execution_count": 47,
   "metadata": {},
   "outputs": [
    {
     "data": {
      "text/plain": [
       "0.0"
      ]
     },
     "execution_count": 47,
     "metadata": {},
     "output_type": "execute_result"
    }
   ],
   "source": [
    "det(A)"
   ]
  },
  {
   "cell_type": "code",
   "execution_count": 8,
   "metadata": {},
   "outputs": [],
   "source": [
    "using SparseArrays, LinearAlgebra"
   ]
  },
  {
   "cell_type": "code",
   "execution_count": 26,
   "metadata": {},
   "outputs": [
    {
     "data": {
      "text/plain": [
       "13×13 SparseMatrixCSC{Int64,Int64} with 16 stored entries:\n",
       "  [6 ,  1]  =  1\n",
       "  [1 ,  2]  =  1\n",
       "  [3 ,  3]  =  -1\n",
       "  [9 ,  4]  =  -1\n",
       "  [5 ,  5]  =  -2\n",
       "  [2 ,  6]  =  2\n",
       "  [10,  6]  =  -2\n",
       "  [8 ,  7]  =  2\n",
       "  [4 ,  8]  =  1\n",
       "  [12,  8]  =  1\n",
       "  [1 ,  9]  =  2\n",
       "  [13,  9]  =  1\n",
       "  [4 , 10]  =  1\n",
       "  [12, 11]  =  2\n",
       "  [11, 12]  =  1\n",
       "  [7 , 13]  =  -1"
      ]
     },
     "execution_count": 26,
     "metadata": {},
     "output_type": "execute_result"
    }
   ],
   "source": [
    "SA = SparseMatrixCSC(A)"
   ]
  },
  {
   "cell_type": "code",
   "execution_count": 27,
   "metadata": {},
   "outputs": [
    {
     "data": {
      "text/plain": [
       "13-element SparseVector{Int64,Int64} with 5 stored entries:\n",
       "  [1 ]  =  -1\n",
       "  [5 ]  =  5\n",
       "  [7 ]  =  10\n",
       "  [12]  =  3\n",
       "  [13]  =  0"
      ]
     },
     "execution_count": 27,
     "metadata": {},
     "output_type": "execute_result"
    }
   ],
   "source": [
    "R = sparsevec([1,5,7,12,13],[-1,5,10,3,0])"
   ]
  },
  {
   "cell_type": "code",
   "execution_count": 28,
   "metadata": {},
   "outputs": [
    {
     "data": {
      "text/plain": [
       "13-element SparseVector{Int64,Int64} with 4 stored entries:\n",
       "  [5 ]  =  -10\n",
       "  [6 ]  =  -1\n",
       "  [8 ]  =  20\n",
       "  [11]  =  3"
      ]
     },
     "execution_count": 28,
     "metadata": {},
     "output_type": "execute_result"
    }
   ],
   "source": [
    "SA*R"
   ]
  },
  {
   "cell_type": "code",
   "execution_count": 29,
   "metadata": {},
   "outputs": [
    {
     "data": {
      "text/plain": [
       "13×13 Adjoint{Int64,SparseMatrixCSC{Int64,Int64}}:\n",
       " 0  0   0  0   0  1   0  0   0   0  0  0  0\n",
       " 1  0   0  0   0  0   0  0   0   0  0  0  0\n",
       " 0  0  -1  0   0  0   0  0   0   0  0  0  0\n",
       " 0  0   0  0   0  0   0  0  -1   0  0  0  0\n",
       " 0  0   0  0  -2  0   0  0   0   0  0  0  0\n",
       " 0  2   0  0   0  0   0  0   0  -2  0  0  0\n",
       " 0  0   0  0   0  0   0  2   0   0  0  0  0\n",
       " 0  0   0  1   0  0   0  0   0   0  0  1  0\n",
       " 2  0   0  0   0  0   0  0   0   0  0  0  1\n",
       " 0  0   0  1   0  0   0  0   0   0  0  0  0\n",
       " 0  0   0  0   0  0   0  0   0   0  0  2  0\n",
       " 0  0   0  0   0  0   0  0   0   0  1  0  0\n",
       " 0  0   0  0   0  0  -1  0   0   0  0  0  0"
      ]
     },
     "execution_count": 29,
     "metadata": {},
     "output_type": "execute_result"
    }
   ],
   "source": [
    "SA'"
   ]
  },
  {
   "cell_type": "code",
   "execution_count": 30,
   "metadata": {},
   "outputs": [
    {
     "data": {
      "text/plain": [
       "0.0"
      ]
     },
     "execution_count": 30,
     "metadata": {},
     "output_type": "execute_result"
    }
   ],
   "source": [
    "det(SA)"
   ]
  },
  {
   "cell_type": "code",
   "execution_count": null,
   "metadata": {},
   "outputs": [],
   "source": []
  }
 ],
 "metadata": {
  "kernelspec": {
   "display_name": "Julia 1.8.3",
   "language": "julia",
   "name": "julia-1.8"
  },
  "language_info": {
   "file_extension": ".jl",
   "mimetype": "application/julia",
   "name": "julia",
   "version": "1.8.3"
  }
 },
 "nbformat": 4,
 "nbformat_minor": 4
}
