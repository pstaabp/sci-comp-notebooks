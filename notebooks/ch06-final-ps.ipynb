{
 "cells": [
  {
   "cell_type": "markdown",
   "metadata": {},
   "source": [
    "## Chapter 6: Arrays"
   ]
  },
  {
   "cell_type": "markdown",
   "metadata": {},
   "source": [
    "For HW #2, we will install a package for plotting.  "
   ]
  },
  {
   "cell_type": "markdown",
   "metadata": {},
   "source": [
    "An array is a grid 1D, 2D, ... of generally numbers.  These are like vectors and matrices (and higher dimension...)"
   ]
  },
  {
   "cell_type": "code",
   "execution_count": 2,
   "metadata": {},
   "outputs": [
    {
     "data": {
      "text/plain": [
       "3-element Vector{Int64}:\n",
       " 1\n",
       " 2\n",
       " 3"
      ]
     },
     "metadata": {},
     "output_type": "display_data"
    }
   ],
   "source": [
    "arr = [1,2,3]"
   ]
  },
  {
   "cell_type": "code",
   "execution_count": 10,
   "metadata": {},
   "outputs": [
    {
     "data": {
      "text/plain": [
       "3"
      ]
     },
     "metadata": {},
     "output_type": "display_data"
    }
   ],
   "source": [
    "length(arr)"
   ]
  },
  {
   "cell_type": "code",
   "execution_count": 11,
   "metadata": {},
   "outputs": [
    {
     "data": {
      "text/plain": [
       "Int64"
      ]
     },
     "metadata": {},
     "output_type": "display_data"
    }
   ],
   "source": [
    "eltype(arr)"
   ]
  },
  {
   "cell_type": "code",
   "execution_count": 7,
   "metadata": {},
   "outputs": [
    {
     "data": {
      "text/plain": [
       "4"
      ]
     },
     "metadata": {},
     "output_type": "display_data"
    }
   ],
   "source": [
    "x= 4"
   ]
  },
  {
   "cell_type": "markdown",
   "metadata": {},
   "source": [
    "Multiplication with constants"
   ]
  },
  {
   "cell_type": "code",
   "execution_count": 8,
   "metadata": {},
   "outputs": [
    {
     "data": {
      "text/plain": [
       "8"
      ]
     },
     "metadata": {},
     "output_type": "display_data"
    }
   ],
   "source": [
    "2x"
   ]
  },
  {
   "cell_type": "code",
   "execution_count": 9,
   "metadata": {},
   "outputs": [
    {
     "data": {
      "text/plain": [
       "(0.875, 14.0)"
      ]
     },
     "metadata": {},
     "output_type": "display_data"
    }
   ],
   "source": [
    "7/2x,7/2*x"
   ]
  },
  {
   "cell_type": "code",
   "execution_count": null,
   "metadata": {},
   "outputs": [],
   "source": []
  },
  {
   "cell_type": "code",
   "execution_count": 6,
   "metadata": {},
   "outputs": [
    {
     "data": {
      "text/plain": [
       "4"
      ]
     },
     "metadata": {},
     "output_type": "display_data"
    }
   ],
   "source": [
    "α = 9 ÷ 2"
   ]
  },
  {
   "cell_type": "code",
   "execution_count": 1,
   "metadata": {},
   "outputs": [
    {
     "data": {
      "text/plain": [
       "(1//2, Rational{Int64})"
      ]
     },
     "metadata": {},
     "output_type": "display_data"
    }
   ],
   "source": [
    "1//2, typeof(1//2)"
   ]
  },
  {
   "cell_type": "markdown",
   "metadata": {},
   "source": [
    "### 6.1: Constructing Arrays"
   ]
  },
  {
   "cell_type": "markdown",
   "metadata": {},
   "source": [
    "To build an array of known values, the follow examples show a 1D (vector) or 2D version.  You can separate by commas or spaces (will make a row vectors)"
   ]
  },
  {
   "cell_type": "code",
   "execution_count": 14,
   "metadata": {},
   "outputs": [
    {
     "data": {
      "text/plain": [
       "1×3 Matrix{Int64}:\n",
       " 1  2  3"
      ]
     },
     "metadata": {},
     "output_type": "display_data"
    }
   ],
   "source": [
    "arr = [1 2 3]"
   ]
  },
  {
   "cell_type": "code",
   "execution_count": 15,
   "metadata": {},
   "outputs": [
    {
     "data": {
      "text/plain": [
       "3-element Vector{Int64}:\n",
       " 1\n",
       " 2\n",
       " 3"
      ]
     },
     "metadata": {},
     "output_type": "display_data"
    }
   ],
   "source": [
    "col = [1,2,3]"
   ]
  },
  {
   "cell_type": "code",
   "execution_count": 16,
   "metadata": {},
   "outputs": [
    {
     "data": {
      "text/plain": [
       "2×3 Matrix{Int64}:\n",
       " 1  2  3\n",
       " 4  5  6"
      ]
     },
     "metadata": {},
     "output_type": "display_data"
    }
   ],
   "source": [
    "arr2 = [\n",
    "    1 2 3;\n",
    "    4 5 6\n",
    "]"
   ]
  },
  {
   "cell_type": "markdown",
   "metadata": {},
   "source": [
    "The size of an array can be found with the `size` command.  Add an integer for the size of each dimension."
   ]
  },
  {
   "cell_type": "code",
   "execution_count": 17,
   "metadata": {},
   "outputs": [
    {
     "data": {
      "text/plain": [
       "(2, 3)"
      ]
     },
     "metadata": {},
     "output_type": "display_data"
    }
   ],
   "source": [
    "size(arr2)"
   ]
  },
  {
   "cell_type": "code",
   "execution_count": 18,
   "metadata": {},
   "outputs": [
    {
     "data": {
      "text/plain": [
       "2"
      ]
     },
     "metadata": {},
     "output_type": "display_data"
    }
   ],
   "source": [
    "size(arr2,1)"
   ]
  },
  {
   "cell_type": "code",
   "execution_count": 19,
   "metadata": {},
   "outputs": [
    {
     "data": {
      "text/plain": [
       "3"
      ]
     },
     "metadata": {},
     "output_type": "display_data"
    }
   ],
   "source": [
    "size(arr2,2)"
   ]
  },
  {
   "cell_type": "markdown",
   "metadata": {},
   "source": [
    "which is a tuple.  It may be helpful to know the rows and columns as in:"
   ]
  },
  {
   "cell_type": "code",
   "execution_count": 20,
   "metadata": {},
   "outputs": [
    {
     "data": {
      "text/plain": [
       "(2, 3)"
      ]
     },
     "metadata": {},
     "output_type": "display_data"
    }
   ],
   "source": [
    "numrows,numcols= size(arr2)"
   ]
  },
  {
   "cell_type": "markdown",
   "metadata": {},
   "source": [
    "One can make an array of zeros with the following.  Note that the type needs to be included."
   ]
  },
  {
   "cell_type": "code",
   "execution_count": 21,
   "metadata": {},
   "outputs": [
    {
     "data": {
      "text/plain": [
       "4×6 Matrix{Integer}:\n",
       " 0  0  0  0  0  0\n",
       " 0  0  0  0  0  0\n",
       " 0  0  0  0  0  0\n",
       " 0  0  0  0  0  0"
      ]
     },
     "metadata": {},
     "output_type": "display_data"
    }
   ],
   "source": [
    "zeros(Integer,4,6)"
   ]
  },
  {
   "cell_type": "code",
   "execution_count": 22,
   "metadata": {},
   "outputs": [
    {
     "data": {
      "text/plain": [
       "3×2 Matrix{Float64}:\n",
       " 0.0  0.0\n",
       " 0.0  0.0\n",
       " 0.0  0.0"
      ]
     },
     "metadata": {},
     "output_type": "display_data"
    }
   ],
   "source": [
    "zeros(Float64,3,2)"
   ]
  },
  {
   "cell_type": "code",
   "execution_count": 23,
   "metadata": {},
   "outputs": [
    {
     "data": {
      "text/plain": [
       "2×3×4 Array{Int64, 3}:\n",
       "[:, :, 1] =\n",
       " 0  0  0\n",
       " 0  0  0\n",
       "\n",
       "[:, :, 2] =\n",
       " 0  0  0\n",
       " 0  0  0\n",
       "\n",
       "[:, :, 3] =\n",
       " 0  0  0\n",
       " 0  0  0\n",
       "\n",
       "[:, :, 4] =\n",
       " 0  0  0\n",
       " 0  0  0"
      ]
     },
     "metadata": {},
     "output_type": "display_data"
    }
   ],
   "source": [
    "zeros(Int, 2, 3, 4)"
   ]
  },
  {
   "cell_type": "markdown",
   "metadata": {},
   "source": [
    "The `collect` function takes a range and returns a array with those values:"
   ]
  },
  {
   "cell_type": "code",
   "execution_count": 24,
   "metadata": {},
   "outputs": [
    {
     "data": {
      "text/plain": [
       "10-element Vector{Int64}:\n",
       "  1\n",
       "  2\n",
       "  3\n",
       "  4\n",
       "  5\n",
       "  6\n",
       "  7\n",
       "  8\n",
       "  9\n",
       " 10"
      ]
     },
     "metadata": {},
     "output_type": "display_data"
    }
   ],
   "source": [
    "collect(1:10)"
   ]
  },
  {
   "cell_type": "code",
   "execution_count": 25,
   "metadata": {},
   "outputs": [
    {
     "data": {
      "text/plain": [
       "10-element Vector{Int64}:\n",
       " 20\n",
       " 18\n",
       " 16\n",
       " 14\n",
       " 12\n",
       " 10\n",
       "  8\n",
       "  6\n",
       "  4\n",
       "  2"
      ]
     },
     "metadata": {},
     "output_type": "display_data"
    }
   ],
   "source": [
    "collect(20:-2:2)"
   ]
  },
  {
   "cell_type": "markdown",
   "metadata": {},
   "source": [
    "### 6.2: Comprehensions"
   ]
  },
  {
   "cell_type": "markdown",
   "metadata": {},
   "source": [
    "If the values of an array has a pattern, a comprehension is a nice way to create an array"
   ]
  },
  {
   "cell_type": "code",
   "execution_count": 26,
   "metadata": {},
   "outputs": [
    {
     "data": {
      "text/plain": [
       "8-element Vector{Int64}:\n",
       "  1\n",
       " -1\n",
       "  1\n",
       " -1\n",
       "  1\n",
       " -1\n",
       "  1\n",
       " -1"
      ]
     },
     "metadata": {},
     "output_type": "display_data"
    }
   ],
   "source": [
    "[(-1)^n for n=0:7]"
   ]
  },
  {
   "cell_type": "code",
   "execution_count": 27,
   "metadata": {},
   "outputs": [
    {
     "data": {
      "text/plain": [
       "8×8 Matrix{Int64}:\n",
       " 2   3   4   5   6   7   8   9\n",
       " 3   4   5   6   7   8   9  10\n",
       " 4   5   6   7   8   9  10  11\n",
       " 5   6   7   8   9  10  11  12\n",
       " 6   7   8   9  10  11  12  13\n",
       " 7   8   9  10  11  12  13  14\n",
       " 8   9  10  11  12  13  14  15\n",
       " 9  10  11  12  13  14  15  16"
      ]
     },
     "metadata": {},
     "output_type": "display_data"
    }
   ],
   "source": [
    "[m+n for n=1:8,m=1:8]"
   ]
  },
  {
   "cell_type": "markdown",
   "metadata": {},
   "source": [
    "#### Exercise\n",
    "\n",
    "Create the following with a comprehension\n",
    "```\n",
    " 1   0  -1  -2  -3  -4\n",
    " 3   2   1   0  -1  -2\n",
    " 5   4   3   2   1   0\n",
    " 7   6   5   4   3   2\n",
    " 9   8   7   6   5   4\n",
    " ```"
   ]
  },
  {
   "cell_type": "code",
   "execution_count": 32,
   "metadata": {},
   "outputs": [
    {
     "data": {
      "text/plain": [
       "5×6 Matrix{Int64}:\n",
       " 1  0  -1  -2  -3  -4\n",
       " 3  2   1   0  -1  -2\n",
       " 5  4   3   2   1   0\n",
       " 7  6   5   4   3   2\n",
       " 9  8   7   6   5   4"
      ]
     },
     "metadata": {},
     "output_type": "display_data"
    }
   ],
   "source": [
    "[m+n for m=1:2:9, n = 0:-1:-5]"
   ]
  },
  {
   "cell_type": "markdown",
   "metadata": {},
   "source": [
    "### 6.3: Accessing elements of an array"
   ]
  },
  {
   "cell_type": "markdown",
   "metadata": {},
   "source": [
    "If we want to access elements of an array, we use brackets and indices start at 1:"
   ]
  },
  {
   "cell_type": "code",
   "execution_count": 33,
   "metadata": {},
   "outputs": [
    {
     "data": {
      "text/plain": [
       "7-element Vector{Int64}:\n",
       "  1\n",
       "  3\n",
       "  5\n",
       "  7\n",
       "  9\n",
       " 11\n",
       " 13"
      ]
     },
     "metadata": {},
     "output_type": "display_data"
    }
   ],
   "source": [
    "x = collect(1:2:13)"
   ]
  },
  {
   "cell_type": "code",
   "execution_count": 34,
   "metadata": {},
   "outputs": [
    {
     "data": {
      "text/plain": [
       "5"
      ]
     },
     "metadata": {},
     "output_type": "display_data"
    }
   ],
   "source": [
    "x[3]"
   ]
  },
  {
   "cell_type": "code",
   "execution_count": 35,
   "metadata": {},
   "outputs": [
    {
     "data": {
      "text/plain": [
       "1"
      ]
     },
     "metadata": {},
     "output_type": "display_data"
    }
   ],
   "source": [
    "x[1]"
   ]
  },
  {
   "cell_type": "markdown",
   "metadata": {},
   "source": [
    "The keyword `end` returns the last element"
   ]
  },
  {
   "cell_type": "code",
   "execution_count": 36,
   "metadata": {},
   "outputs": [
    {
     "data": {
      "text/plain": [
       "13"
      ]
     },
     "metadata": {},
     "output_type": "display_data"
    }
   ],
   "source": [
    "x[end]"
   ]
  },
  {
   "cell_type": "markdown",
   "metadata": {},
   "source": [
    "And we can access element referenced from the end as well"
   ]
  },
  {
   "cell_type": "code",
   "execution_count": 37,
   "metadata": {},
   "outputs": [
    {
     "data": {
      "text/plain": [
       "9"
      ]
     },
     "metadata": {},
     "output_type": "display_data"
    }
   ],
   "source": [
    "x[end-2]"
   ]
  },
  {
   "cell_type": "code",
   "execution_count": 38,
   "metadata": {},
   "outputs": [
    {
     "data": {
      "text/plain": [
       "20"
      ]
     },
     "metadata": {},
     "output_type": "display_data"
    }
   ],
   "source": [
    "x[4] = 20"
   ]
  },
  {
   "cell_type": "code",
   "execution_count": 39,
   "metadata": {},
   "outputs": [
    {
     "data": {
      "text/plain": [
       "7-element Vector{Int64}:\n",
       "  1\n",
       "  3\n",
       "  5\n",
       " 20\n",
       "  9\n",
       " 11\n",
       " 13"
      ]
     },
     "metadata": {},
     "output_type": "display_data"
    }
   ],
   "source": [
    "x"
   ]
  },
  {
   "cell_type": "markdown",
   "metadata": {},
   "source": [
    "We can find subarrays by putting in ranges inside brackets.  Include subarry with the `end`."
   ]
  },
  {
   "cell_type": "code",
   "execution_count": 41,
   "metadata": {},
   "outputs": [
    {
     "data": {
      "text/plain": [
       "3-element Vector{Int64}:\n",
       "  3\n",
       "  5\n",
       " 20"
      ]
     },
     "metadata": {},
     "output_type": "display_data"
    }
   ],
   "source": [
    "x[2:4]"
   ]
  },
  {
   "cell_type": "code",
   "execution_count": 42,
   "metadata": {},
   "outputs": [
    {
     "data": {
      "text/plain": [
       "3-element Vector{Int64}:\n",
       "  9\n",
       " 11\n",
       " 13"
      ]
     },
     "metadata": {},
     "output_type": "display_data"
    }
   ],
   "source": [
    "x[end-2:end]"
   ]
  },
  {
   "cell_type": "markdown",
   "metadata": {},
   "source": [
    "The following examples show how to access 2D arrays. The first number in a bracket is the row, the second is the column:"
   ]
  },
  {
   "cell_type": "code",
   "execution_count": 43,
   "metadata": {},
   "outputs": [
    {
     "data": {
      "text/plain": [
       "4×5 Matrix{Int64}:\n",
       " 2  3  4  5  6\n",
       " 3  4  5  6  7\n",
       " 4  5  6  7  8\n",
       " 5  6  7  8  9"
      ]
     },
     "metadata": {},
     "output_type": "display_data"
    }
   ],
   "source": [
    "A=[i+j for i=1:4,j=1:5]"
   ]
  },
  {
   "cell_type": "markdown",
   "metadata": {},
   "source": [
    "This is the 2nd row, 3rd column:"
   ]
  },
  {
   "cell_type": "code",
   "execution_count": 44,
   "metadata": {},
   "outputs": [
    {
     "data": {
      "text/plain": [
       "5"
      ]
     },
     "metadata": {},
     "output_type": "display_data"
    }
   ],
   "source": [
    "A[2,3]"
   ]
  },
  {
   "cell_type": "markdown",
   "metadata": {},
   "source": [
    "Here is the entire 2nd column"
   ]
  },
  {
   "cell_type": "code",
   "execution_count": 45,
   "metadata": {},
   "outputs": [
    {
     "data": {
      "text/plain": [
       "4-element Vector{Int64}:\n",
       " 3\n",
       " 4\n",
       " 5\n",
       " 6"
      ]
     },
     "metadata": {},
     "output_type": "display_data"
    }
   ],
   "source": [
    "A[:,2]"
   ]
  },
  {
   "cell_type": "code",
   "execution_count": 46,
   "metadata": {},
   "outputs": [
    {
     "data": {
      "text/plain": [
       "5-element Vector{Int64}:\n",
       " 4\n",
       " 5\n",
       " 6\n",
       " 7\n",
       " 8"
      ]
     },
     "metadata": {},
     "output_type": "display_data"
    }
   ],
   "source": [
    "A[3,:]"
   ]
  },
  {
   "cell_type": "code",
   "execution_count": 48,
   "metadata": {},
   "outputs": [
    {
     "data": {
      "text/plain": [
       "4×5 Matrix{Int64}:\n",
       " 2  3  4  5  6\n",
       " 3  4  5  6  7\n",
       " 4  5  6  7  8\n",
       " 5  6  7  8  9"
      ]
     },
     "metadata": {},
     "output_type": "display_data"
    }
   ],
   "source": [
    "A"
   ]
  },
  {
   "cell_type": "markdown",
   "metadata": {},
   "source": [
    "The following subarray is all rows (using :) and the columns 1,3,5 (using 1:2:5)"
   ]
  },
  {
   "cell_type": "code",
   "execution_count": 47,
   "metadata": {},
   "outputs": [
    {
     "data": {
      "text/plain": [
       "4×3 Matrix{Int64}:\n",
       " 2  4  6\n",
       " 3  5  7\n",
       " 4  6  8\n",
       " 5  7  9"
      ]
     },
     "metadata": {},
     "output_type": "display_data"
    }
   ],
   "source": [
    "A[:,1:2:5]"
   ]
  },
  {
   "cell_type": "code",
   "execution_count": 49,
   "metadata": {},
   "outputs": [
    {
     "data": {
      "text/plain": [
       "3×5 Matrix{Int64}:\n",
       " 2  3  4  5  6\n",
       " 4  5  6  7  8\n",
       " 5  6  7  8  9"
      ]
     },
     "metadata": {},
     "output_type": "display_data"
    }
   ],
   "source": [
    "A[[1,3,4],:]"
   ]
  },
  {
   "cell_type": "markdown",
   "metadata": {},
   "source": [
    "#### Exercise\n",
    "\n",
    "Using the matrix A defined, write the submatrix:\n",
    "```\n",
    "3 5 6\n",
    "4 6 7\n",
    "6 8 9\n",
    "```"
   ]
  },
  {
   "cell_type": "code",
   "execution_count": 50,
   "metadata": {},
   "outputs": [
    {
     "data": {
      "text/plain": [
       "3×3 Matrix{Int64}:\n",
       " 3  5  6\n",
       " 4  6  7\n",
       " 6  8  9"
      ]
     },
     "metadata": {},
     "output_type": "display_data"
    }
   ],
   "source": [
    "A[ [1,2,4], [2,4,5] ]"
   ]
  },
  {
   "cell_type": "code",
   "execution_count": 52,
   "metadata": {},
   "outputs": [
    {
     "data": {
      "text/plain": [
       "4×5 Matrix{Int64}:\n",
       " 2  3  4  5  6\n",
       " 3  4  5  6  7\n",
       " 4  5  6  7  8\n",
       " 5  6  7  8  9"
      ]
     },
     "metadata": {},
     "output_type": "display_data"
    }
   ],
   "source": [
    "A"
   ]
  },
  {
   "cell_type": "markdown",
   "metadata": {},
   "source": [
    "We can also permute the rows or columns by adding a vector of indices instead:"
   ]
  },
  {
   "cell_type": "code",
   "execution_count": 51,
   "metadata": {},
   "outputs": [
    {
     "data": {
      "text/plain": [
       "2×3 Matrix{Int64}:\n",
       " 6  4  3\n",
       " 7  5  4"
      ]
     },
     "metadata": {},
     "output_type": "display_data"
    }
   ],
   "source": [
    "A[1:2,[5,3,2]]"
   ]
  },
  {
   "cell_type": "code",
   "execution_count": 53,
   "metadata": {},
   "outputs": [
    {
     "data": {
      "text/plain": [
       "4×5 Matrix{Int64}:\n",
       " 5  6  7  8  9\n",
       " 4  5  6  7  8\n",
       " 3  4  5  6  7\n",
       " 2  3  4  5  6"
      ]
     },
     "metadata": {},
     "output_type": "display_data"
    }
   ],
   "source": [
    "A[end:-1:1,:]"
   ]
  },
  {
   "cell_type": "markdown",
   "metadata": {},
   "source": [
    "### 6.4: Common Operations on Arrays"
   ]
  },
  {
   "cell_type": "markdown",
   "metadata": {},
   "source": [
    "This section shows some common operations using arrays"
   ]
  },
  {
   "cell_type": "code",
   "execution_count": 54,
   "metadata": {},
   "outputs": [
    {
     "data": {
      "text/plain": [
       "2×3 Matrix{Int64}:\n",
       " 1  2  3\n",
       " 4  5  6"
      ]
     },
     "metadata": {},
     "output_type": "display_data"
    }
   ],
   "source": [
    "A=[1 2 3; 4 5 6]"
   ]
  },
  {
   "cell_type": "code",
   "execution_count": 55,
   "metadata": {},
   "outputs": [
    {
     "data": {
      "text/plain": [
       "2×3 Matrix{Int64}:\n",
       " 1  3  5\n",
       " 2  4  6"
      ]
     },
     "metadata": {},
     "output_type": "display_data"
    }
   ],
   "source": [
    "B=[1 3 5; 2 4 6]"
   ]
  },
  {
   "cell_type": "code",
   "execution_count": 56,
   "metadata": {},
   "outputs": [
    {
     "data": {
      "text/plain": [
       "2×3 Matrix{Int64}:\n",
       " 2  5   8\n",
       " 6  9  12"
      ]
     },
     "metadata": {},
     "output_type": "display_data"
    }
   ],
   "source": [
    "A+B"
   ]
  },
  {
   "cell_type": "code",
   "execution_count": 57,
   "metadata": {},
   "outputs": [
    {
     "data": {
      "text/plain": [
       "2×3 Matrix{Int64}:\n",
       "  0   1  2\n",
       " -2  -1  0"
      ]
     },
     "metadata": {},
     "output_type": "display_data"
    }
   ],
   "source": [
    "B-A"
   ]
  },
  {
   "cell_type": "markdown",
   "metadata": {},
   "source": [
    "### 6.5: Element by Element Operations  aka Broadcasting"
   ]
  },
  {
   "cell_type": "markdown",
   "metadata": {},
   "source": [
    "If we want to do things element by element, use the . with a operator/function:"
   ]
  },
  {
   "cell_type": "code",
   "execution_count": 58,
   "metadata": {},
   "outputs": [
    {
     "data": {
      "text/plain": [
       "2×3 Matrix{Int64}:\n",
       " 1  2  3\n",
       " 4  5  6"
      ]
     },
     "metadata": {},
     "output_type": "display_data"
    }
   ],
   "source": [
    "A"
   ]
  },
  {
   "cell_type": "code",
   "execution_count": 59,
   "metadata": {},
   "outputs": [
    {
     "data": {
      "text/plain": [
       "2×3 Matrix{Int64}:\n",
       " 1  3  5\n",
       " 2  4  6"
      ]
     },
     "metadata": {},
     "output_type": "display_data"
    }
   ],
   "source": [
    "B"
   ]
  },
  {
   "cell_type": "code",
   "execution_count": 60,
   "metadata": {},
   "outputs": [
    {
     "data": {
      "text/plain": [
       "2×3 Matrix{Int64}:\n",
       " 1   6  15\n",
       " 8  20  36"
      ]
     },
     "metadata": {},
     "output_type": "display_data"
    }
   ],
   "source": [
    "A.*B"
   ]
  },
  {
   "cell_type": "markdown",
   "metadata": {},
   "source": [
    "Note that * works with 2D arrays, but acts like matrix multiplication. We'll see this later in the course."
   ]
  },
  {
   "cell_type": "code",
   "execution_count": 61,
   "metadata": {},
   "outputs": [
    {
     "data": {
      "text/plain": [
       "2×3 Matrix{Float64}:\n",
       " 1.0  1.41421  1.73205\n",
       " 2.0  2.23607  2.44949"
      ]
     },
     "metadata": {},
     "output_type": "display_data"
    }
   ],
   "source": [
    "sqrt.(A)"
   ]
  },
  {
   "cell_type": "code",
   "execution_count": 62,
   "metadata": {},
   "outputs": [
    {
     "data": {
      "text/plain": [
       "5-element Vector{Int64}:\n",
       " 1\n",
       " 2\n",
       " 3\n",
       " 4\n",
       " 5"
      ]
     },
     "metadata": {},
     "output_type": "display_data"
    }
   ],
   "source": [
    "x=collect(1:5)"
   ]
  },
  {
   "cell_type": "markdown",
   "metadata": {},
   "source": [
    "#### Exercise\n",
    "\n",
    "Use x and the . to generate the vector `[1 4 9 16 25]`"
   ]
  },
  {
   "cell_type": "code",
   "execution_count": 63,
   "metadata": {},
   "outputs": [
    {
     "data": {
      "text/plain": [
       "5-element Vector{Int64}:\n",
       "  1\n",
       "  4\n",
       "  9\n",
       " 16\n",
       " 25"
      ]
     },
     "metadata": {},
     "output_type": "display_data"
    }
   ],
   "source": [
    "x.^2"
   ]
  },
  {
   "cell_type": "markdown",
   "metadata": {},
   "source": [
    "Using the @. macro for broadcasting"
   ]
  },
  {
   "cell_type": "code",
   "execution_count": 67,
   "metadata": {},
   "outputs": [
    {
     "data": {
      "text/plain": [
       "5-element Vector{Float64}:\n",
       "  2.8414709848078967\n",
       "  9.823510989198777\n",
       " 19.53983748229541\n",
       " 32.99319750469207\n",
       " 51.07714370283665"
      ]
     },
     "metadata": {},
     "output_type": "display_data"
    }
   ],
   "source": [
    "sin.(x) + sqrt.(x) + 2*x.^2 -1 ./x"
   ]
  },
  {
   "cell_type": "code",
   "execution_count": 72,
   "metadata": {},
   "outputs": [
    {
     "data": {
      "text/plain": [
       "5-element Vector{Float64}:\n",
       "  2.8414709848078967\n",
       "  9.823510989198777\n",
       " 19.53983748229541\n",
       " 32.99319750469207\n",
       " 51.07714370283665"
      ]
     },
     "metadata": {},
     "output_type": "display_data"
    }
   ],
   "source": [
    "@. sin(x) + sqrt(x) + 2x^2 - 1/x"
   ]
  },
  {
   "cell_type": "markdown",
   "metadata": {},
   "source": [
    "### 6.6: Other Operations on Arrays"
   ]
  },
  {
   "cell_type": "markdown",
   "metadata": {},
   "source": [
    "Some common operations on arrays include sum and prod.  Note that these also often work with ranges as well.  "
   ]
  },
  {
   "cell_type": "code",
   "execution_count": 73,
   "metadata": {},
   "outputs": [
    {
     "data": {
      "text/plain": [
       "5-element Vector{Int64}:\n",
       " 1\n",
       " 2\n",
       " 3\n",
       " 4\n",
       " 5"
      ]
     },
     "metadata": {},
     "output_type": "display_data"
    }
   ],
   "source": [
    "x"
   ]
  },
  {
   "cell_type": "code",
   "execution_count": 74,
   "metadata": {},
   "outputs": [
    {
     "data": {
      "text/plain": [
       "15"
      ]
     },
     "metadata": {},
     "output_type": "display_data"
    }
   ],
   "source": [
    "sum(x)"
   ]
  },
  {
   "cell_type": "code",
   "execution_count": 75,
   "metadata": {},
   "outputs": [
    {
     "data": {
      "text/plain": [
       "55"
      ]
     },
     "metadata": {},
     "output_type": "display_data"
    }
   ],
   "source": [
    "sum(1:10)"
   ]
  },
  {
   "cell_type": "code",
   "execution_count": 76,
   "metadata": {},
   "outputs": [
    {
     "data": {
      "text/plain": [
       "105"
      ]
     },
     "metadata": {},
     "output_type": "display_data"
    }
   ],
   "source": [
    "prod([1,3,5,7])"
   ]
  },
  {
   "cell_type": "code",
   "execution_count": 78,
   "metadata": {},
   "outputs": [
    {
     "data": {
      "text/plain": [
       "5040"
      ]
     },
     "metadata": {},
     "output_type": "display_data"
    }
   ],
   "source": [
    "prod(1:7)"
   ]
  },
  {
   "cell_type": "markdown",
   "metadata": {},
   "source": [
    "These functions also apply to 2D arrays that return the sum or product of the entire array:"
   ]
  },
  {
   "cell_type": "code",
   "execution_count": 79,
   "metadata": {},
   "outputs": [
    {
     "data": {
      "text/plain": [
       "2×3 Matrix{Int64}:\n",
       " 1  2  3\n",
       " 4  5  6"
      ]
     },
     "metadata": {},
     "output_type": "display_data"
    }
   ],
   "source": [
    "A"
   ]
  },
  {
   "cell_type": "code",
   "execution_count": 80,
   "metadata": {},
   "outputs": [
    {
     "data": {
      "text/plain": [
       "21"
      ]
     },
     "metadata": {},
     "output_type": "display_data"
    }
   ],
   "source": [
    "sum(A)"
   ]
  },
  {
   "cell_type": "markdown",
   "metadata": {},
   "source": [
    "### 6.7: Sorting Vectors and arrays"
   ]
  },
  {
   "cell_type": "markdown",
   "metadata": {},
   "source": [
    "Let's look how to sort arrays. Consider the following:"
   ]
  },
  {
   "cell_type": "code",
   "execution_count": 81,
   "metadata": {},
   "outputs": [
    {
     "data": {
      "text/plain": [
       "7-element Vector{Int64}:\n",
       " 3\n",
       " 2\n",
       " 1\n",
       " 4\n",
       " 8\n",
       " 6\n",
       " 5"
      ]
     },
     "metadata": {},
     "output_type": "display_data"
    }
   ],
   "source": [
    "A=[3,2,1,4,8,6,5]"
   ]
  },
  {
   "cell_type": "code",
   "execution_count": 82,
   "metadata": {},
   "outputs": [
    {
     "data": {
      "text/plain": [
       "7-element Vector{Int64}:\n",
       " 1\n",
       " 2\n",
       " 3\n",
       " 4\n",
       " 5\n",
       " 6\n",
       " 8"
      ]
     },
     "metadata": {},
     "output_type": "display_data"
    }
   ],
   "source": [
    "sort(A)"
   ]
  },
  {
   "cell_type": "code",
   "execution_count": 83,
   "metadata": {},
   "outputs": [
    {
     "data": {
      "text/plain": [
       "7-element Vector{Int64}:\n",
       " 8\n",
       " 6\n",
       " 5\n",
       " 4\n",
       " 3\n",
       " 2\n",
       " 1"
      ]
     },
     "metadata": {},
     "output_type": "display_data"
    }
   ],
   "source": [
    "sort(A,rev=true)"
   ]
  },
  {
   "cell_type": "markdown",
   "metadata": {},
   "source": [
    "If we have a 2D array:"
   ]
  },
  {
   "cell_type": "code",
   "execution_count": 84,
   "metadata": {},
   "outputs": [
    {
     "data": {
      "text/plain": [
       "3×4 Matrix{Int64}:\n",
       " 3  2  6  1\n",
       " 2  9  3  7\n",
       " 9  6  7  2"
      ]
     },
     "metadata": {},
     "output_type": "display_data"
    }
   ],
   "source": [
    "A = [ 3 2 6 1; 2 9 3 7; 9 6 7 2]"
   ]
  },
  {
   "cell_type": "markdown",
   "metadata": {},
   "source": [
    "We can sort along columns and rows with the `dims` keyword)"
   ]
  },
  {
   "cell_type": "code",
   "execution_count": 85,
   "metadata": {},
   "outputs": [
    {
     "data": {
      "text/plain": [
       "3×4 Matrix{Int64}:\n",
       " 1  2  3  6\n",
       " 2  3  7  9\n",
       " 2  6  7  9"
      ]
     },
     "metadata": {},
     "output_type": "display_data"
    }
   ],
   "source": [
    "sort(A,dims=2)"
   ]
  },
  {
   "cell_type": "code",
   "execution_count": 86,
   "metadata": {},
   "outputs": [
    {
     "data": {
      "text/plain": [
       "3×4 Matrix{Int64}:\n",
       " 2  2  3  1\n",
       " 3  6  6  2\n",
       " 9  9  7  7"
      ]
     },
     "metadata": {},
     "output_type": "display_data"
    }
   ],
   "source": [
    "sort(A,dims=1)"
   ]
  },
  {
   "cell_type": "markdown",
   "metadata": {},
   "source": [
    "Note: in both of these cases each column/row is sorted individually."
   ]
  },
  {
   "cell_type": "code",
   "execution_count": 87,
   "metadata": {},
   "outputs": [
    {
     "data": {
      "text/plain": [
       "5-element Vector{String}:\n",
       " \"The\"\n",
       " \"dog\"\n",
       " \"ate\"\n",
       " \"my\"\n",
       " \"homework\""
      ]
     },
     "metadata": {},
     "output_type": "display_data"
    }
   ],
   "source": [
    "strs = [\"The\",\"dog\",\"ate\",\"my\",\"homework\"]"
   ]
  },
  {
   "cell_type": "markdown",
   "metadata": {},
   "source": [
    "We can sort an array of strings as well.  They are sorted lexiographically:"
   ]
  },
  {
   "cell_type": "code",
   "execution_count": 88,
   "metadata": {},
   "outputs": [
    {
     "data": {
      "text/plain": [
       "5-element Vector{String}:\n",
       " \"The\"\n",
       " \"ate\"\n",
       " \"dog\"\n",
       " \"homework\"\n",
       " \"my\""
      ]
     },
     "metadata": {},
     "output_type": "display_data"
    }
   ],
   "source": [
    "sort(strs)"
   ]
  },
  {
   "cell_type": "code",
   "execution_count": 89,
   "metadata": {},
   "outputs": [
    {
     "data": {
      "text/plain": [
       "true"
      ]
     },
     "metadata": {},
     "output_type": "display_data"
    }
   ],
   "source": [
    "using CairoMakie\n",
    "CairoMakie.activate!()\n",
    "Makie.inline!(true)"
   ]
  },
  {
   "cell_type": "code",
   "execution_count": 90,
   "metadata": {},
   "outputs": [
    {
     "data": {
      "image/png": "[encoded data removed]",
      "text/html": [
       "<img width=600 height=450 style='object-fit: contain; height: auto;' src=\"data:image/png;base64, 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\"/>"
      ]
     },
     "metadata": {},
     "output_type": "display_data"
    }
   ],
   "source": [
    "f(x) = x^2\n",
    "lines(-2..2,f)"
   ]
  },
  {
   "cell_type": "markdown",
   "metadata": {},
   "source": [
    "### 6.8: Push and Pop; Array as a Stack"
   ]
  },
  {
   "cell_type": "markdown",
   "metadata": {},
   "source": [
    "An important computer science data structure is that of a stack, which is like a stack of paper which you can only put things on top or take off thing from the top.  Julia doesn't have a stack structure, but can use an array to do the same. This shows how to mimic it."
   ]
  },
  {
   "cell_type": "code",
   "execution_count": 1,
   "metadata": {},
   "outputs": [
    {
     "data": {
      "text/plain": [
       "5-element Vector{Int64}:\n",
       " 1\n",
       " 2\n",
       " 3\n",
       " 4\n",
       " 5"
      ]
     },
     "metadata": {},
     "output_type": "display_data"
    }
   ],
   "source": [
    "A=collect(1:5)"
   ]
  },
  {
   "cell_type": "markdown",
   "metadata": {},
   "source": [
    "This pushes one element onto the stack.  "
   ]
  },
  {
   "cell_type": "code",
   "execution_count": 2,
   "metadata": {},
   "outputs": [
    {
     "data": {
      "text/plain": [
       "6-element Vector{Int64}:\n",
       " 1\n",
       " 2\n",
       " 3\n",
       " 4\n",
       " 5\n",
       " 7"
      ]
     },
     "metadata": {},
     "output_type": "display_data"
    }
   ],
   "source": [
    "push!(A,7)"
   ]
  },
  {
   "cell_type": "markdown",
   "metadata": {},
   "source": [
    "It is julia convetion to use an ! when the argument is changed.  Note that now if we look at the array A, we get the original with the 7 added:"
   ]
  },
  {
   "cell_type": "code",
   "execution_count": 3,
   "metadata": {},
   "outputs": [
    {
     "data": {
      "text/plain": [
       "6-element Vector{Int64}:\n",
       " 1\n",
       " 2\n",
       " 3\n",
       " 4\n",
       " 5\n",
       " 7"
      ]
     },
     "metadata": {},
     "output_type": "display_data"
    }
   ],
   "source": [
    "A"
   ]
  },
  {
   "cell_type": "markdown",
   "metadata": {},
   "source": [
    "This pushes 4 things onto the stack"
   ]
  },
  {
   "cell_type": "code",
   "execution_count": 4,
   "metadata": {},
   "outputs": [
    {
     "data": {
      "text/plain": [
       "10-element Vector{Int64}:\n",
       "   1\n",
       "   2\n",
       "   3\n",
       "   4\n",
       "   5\n",
       "   7\n",
       "   8\n",
       "   9\n",
       "  10\n",
       " 100"
      ]
     },
     "metadata": {},
     "output_type": "display_data"
    }
   ],
   "source": [
    "push!(A,8,9,10,100)"
   ]
  },
  {
   "cell_type": "markdown",
   "metadata": {},
   "source": [
    "Then we can pop an element off"
   ]
  },
  {
   "cell_type": "code",
   "execution_count": 5,
   "metadata": {},
   "outputs": [
    {
     "data": {
      "text/plain": [
       "100"
      ]
     },
     "metadata": {},
     "output_type": "display_data"
    }
   ],
   "source": [
    "pop!(A)"
   ]
  },
  {
   "cell_type": "markdown",
   "metadata": {},
   "source": [
    "Note that pop returns the element and then the array A now contains the element except the last one:"
   ]
  },
  {
   "cell_type": "code",
   "execution_count": 6,
   "metadata": {},
   "outputs": [
    {
     "data": {
      "text/plain": [
       "9-element Vector{Int64}:\n",
       "  1\n",
       "  2\n",
       "  3\n",
       "  4\n",
       "  5\n",
       "  7\n",
       "  8\n",
       "  9\n",
       " 10"
      ]
     },
     "metadata": {},
     "output_type": "display_data"
    }
   ],
   "source": [
    "A"
   ]
  },
  {
   "cell_type": "markdown",
   "metadata": {},
   "source": [
    "### 6.9: Other Nice Array Functions"
   ]
  },
  {
   "cell_type": "markdown",
   "metadata": {},
   "source": [
    "There are a lot of other array functions.  Here's a few more.\n",
    "\n",
    "First, if we want to concatenate two arrays using the `append!` function"
   ]
  },
  {
   "cell_type": "code",
   "execution_count": 7,
   "metadata": {},
   "outputs": [
    {
     "data": {
      "text/plain": [
       "6-element Vector{Int64}:\n",
       " 1\n",
       " 2\n",
       " 3\n",
       " 4\n",
       " 5\n",
       " 6"
      ]
     },
     "metadata": {},
     "output_type": "display_data"
    }
   ],
   "source": [
    "A=[1,2,3]\n",
    "append!(A,[4,5,6])"
   ]
  },
  {
   "cell_type": "code",
   "execution_count": 8,
   "metadata": {},
   "outputs": [
    {
     "data": {
      "text/plain": [
       "6-element Vector{Int64}:\n",
       "  1\n",
       "  3\n",
       "  5\n",
       "  7\n",
       "  9\n",
       " 11"
      ]
     },
     "metadata": {},
     "output_type": "display_data"
    }
   ],
   "source": [
    "A=collect(1:2:11)"
   ]
  },
  {
   "cell_type": "markdown",
   "metadata": {},
   "source": [
    "We can insert an element in the middle of an array with the following. This inserts 15 into the 3rd position and shifts everything else down:"
   ]
  },
  {
   "cell_type": "code",
   "execution_count": 9,
   "metadata": {},
   "outputs": [
    {
     "data": {
      "text/plain": [
       "7-element Vector{Int64}:\n",
       "  1\n",
       "  3\n",
       " 15\n",
       "  5\n",
       "  7\n",
       "  9\n",
       " 11"
      ]
     },
     "metadata": {},
     "output_type": "display_data"
    }
   ],
   "source": [
    "insert!(A,3,15)"
   ]
  },
  {
   "cell_type": "code",
   "execution_count": 10,
   "metadata": {},
   "outputs": [
    {
     "data": {
      "text/plain": [
       "6-element Vector{Int64}:\n",
       "  1\n",
       "  3\n",
       "  5\n",
       "  7\n",
       "  9\n",
       " 11"
      ]
     },
     "metadata": {},
     "output_type": "display_data"
    }
   ],
   "source": [
    "A=collect(1:2:11)"
   ]
  },
  {
   "cell_type": "markdown",
   "metadata": {},
   "source": [
    "We can also delete an element at a given element.  The remaining elements are shifted down:"
   ]
  },
  {
   "cell_type": "code",
   "execution_count": 11,
   "metadata": {},
   "outputs": [
    {
     "data": {
      "text/plain": [
       "5-element Vector{Int64}:\n",
       "  1\n",
       "  5\n",
       "  7\n",
       "  9\n",
       " 11"
      ]
     },
     "metadata": {},
     "output_type": "display_data"
    }
   ],
   "source": [
    "deleteat!(A,2)"
   ]
  },
  {
   "cell_type": "markdown",
   "metadata": {},
   "source": [
    "The splice function is often called the swiss army knife of array functions.  It can insert, delete and replace elements of an array:"
   ]
  },
  {
   "cell_type": "code",
   "execution_count": 12,
   "metadata": {},
   "outputs": [
    {
     "data": {
      "text/plain": [
       "7-element Vector{Int64}:\n",
       "  1\n",
       "  3\n",
       "  5\n",
       "  7\n",
       "  9\n",
       " 11\n",
       " 13"
      ]
     },
     "metadata": {},
     "output_type": "display_data"
    }
   ],
   "source": [
    "A=collect(1:2:13)"
   ]
  },
  {
   "cell_type": "markdown",
   "metadata": {},
   "source": [
    "The following removes the elements in the 3rd and 4th positions.  The removed elements are returned:"
   ]
  },
  {
   "cell_type": "code",
   "execution_count": 13,
   "metadata": {},
   "outputs": [
    {
     "data": {
      "text/plain": [
       "2-element Vector{Int64}:\n",
       " 5\n",
       " 7"
      ]
     },
     "metadata": {},
     "output_type": "display_data"
    }
   ],
   "source": [
    "splice!(A,3:4)"
   ]
  },
  {
   "cell_type": "markdown",
   "metadata": {},
   "source": [
    "And the array A is not lacking those elements:"
   ]
  },
  {
   "cell_type": "code",
   "execution_count": 14,
   "metadata": {},
   "outputs": [
    {
     "data": {
      "text/plain": [
       "5-element Vector{Int64}:\n",
       "  1\n",
       "  3\n",
       "  9\n",
       " 11\n",
       " 13"
      ]
     },
     "metadata": {},
     "output_type": "display_data"
    }
   ],
   "source": [
    "A"
   ]
  },
  {
   "cell_type": "code",
   "execution_count": 15,
   "metadata": {},
   "outputs": [
    {
     "data": {
      "text/plain": [
       "6-element Vector{Int64}:\n",
       "  1\n",
       "  3\n",
       "  5\n",
       "  7\n",
       "  9\n",
       " 11"
      ]
     },
     "metadata": {},
     "output_type": "display_data"
    }
   ],
   "source": [
    "A=collect(1:2:11)"
   ]
  },
  {
   "cell_type": "markdown",
   "metadata": {},
   "source": [
    "If we just add a single number (index) to splice, we remove the element.  This is the same as `deleteat!`"
   ]
  },
  {
   "cell_type": "code",
   "execution_count": 16,
   "metadata": {},
   "outputs": [
    {
     "data": {
      "text/plain": [
       "3"
      ]
     },
     "metadata": {},
     "output_type": "display_data"
    }
   ],
   "source": [
    "x = splice!(A,2)"
   ]
  },
  {
   "cell_type": "code",
   "execution_count": 17,
   "metadata": {},
   "outputs": [
    {
     "data": {
      "text/plain": [
       "5-element Vector{Int64}:\n",
       "  1\n",
       "  5\n",
       "  7\n",
       "  9\n",
       " 11"
      ]
     },
     "metadata": {},
     "output_type": "display_data"
    }
   ],
   "source": [
    "A"
   ]
  },
  {
   "cell_type": "code",
   "execution_count": 18,
   "metadata": {},
   "outputs": [
    {
     "data": {
      "text/plain": [
       "6-element Vector{Int64}:\n",
       "  1\n",
       "  3\n",
       "  5\n",
       "  7\n",
       "  9\n",
       " 11"
      ]
     },
     "metadata": {},
     "output_type": "display_data"
    }
   ],
   "source": [
    "A = collect(1:2:11)"
   ]
  },
  {
   "cell_type": "markdown",
   "metadata": {},
   "source": [
    "If we want to insert many elements, `splice!` can do this by putting in as the 2nd argument a range `n:n-1` where `n` is the element we want to remove:"
   ]
  },
  {
   "cell_type": "code",
   "execution_count": 19,
   "metadata": {},
   "outputs": [
    {
     "data": {
      "text/plain": [
       "Int64[]"
      ]
     },
     "metadata": {},
     "output_type": "display_data"
    }
   ],
   "source": [
    " B=splice!(A,3:2,[11,12,13,14])"
   ]
  },
  {
   "cell_type": "markdown",
   "metadata": {},
   "source": [
    "Note that above it returns an empty array because nothing was remove, only inserted.  The resulting array now has the elements 11, 12, 13, 14 starting in the 3rd position and everything else shifted down:"
   ]
  },
  {
   "cell_type": "code",
   "execution_count": 20,
   "metadata": {},
   "outputs": [
    {
     "data": {
      "text/plain": [
       "10-element Vector{Int64}:\n",
       "  1\n",
       "  3\n",
       " 11\n",
       " 12\n",
       " 13\n",
       " 14\n",
       "  5\n",
       "  7\n",
       "  9\n",
       " 11"
      ]
     },
     "metadata": {},
     "output_type": "display_data"
    }
   ],
   "source": [
    "A"
   ]
  },
  {
   "cell_type": "code",
   "execution_count": 22,
   "metadata": {},
   "outputs": [
    {
     "data": {
      "text/plain": [
       "6-element Vector{Int64}:\n",
       "  1\n",
       "  3\n",
       "  5\n",
       "  7\n",
       "  9\n",
       " 11"
      ]
     },
     "metadata": {},
     "output_type": "display_data"
    }
   ],
   "source": [
    "A = collect(1:2:11)"
   ]
  },
  {
   "cell_type": "markdown",
   "metadata": {},
   "source": [
    "`splice!` can also replace elements.  The following replaces the element in the 3rd slot with the number 4"
   ]
  },
  {
   "cell_type": "code",
   "execution_count": 23,
   "metadata": {},
   "outputs": [
    {
     "data": {
      "text/plain": [
       "5"
      ]
     },
     "metadata": {},
     "output_type": "display_data"
    }
   ],
   "source": [
    "x = splice!(A,3,4)"
   ]
  },
  {
   "cell_type": "markdown",
   "metadata": {},
   "source": [
    "And note that now there is a 4 where the 5 was:"
   ]
  },
  {
   "cell_type": "code",
   "execution_count": 24,
   "metadata": {},
   "outputs": [
    {
     "data": {
      "text/plain": [
       "6-element Vector{Int64}:\n",
       "  1\n",
       "  3\n",
       "  4\n",
       "  7\n",
       "  9\n",
       " 11"
      ]
     },
     "metadata": {},
     "output_type": "display_data"
    }
   ],
   "source": [
    "A"
   ]
  },
  {
   "cell_type": "code",
   "execution_count": 25,
   "metadata": {},
   "outputs": [
    {
     "data": {
      "text/plain": [
       "20"
      ]
     },
     "metadata": {},
     "output_type": "display_data"
    }
   ],
   "source": [
    "A[3] = 20"
   ]
  },
  {
   "cell_type": "code",
   "execution_count": 26,
   "metadata": {},
   "outputs": [
    {
     "data": {
      "text/plain": [
       "6-element Vector{Int64}:\n",
       "  1\n",
       "  3\n",
       " 20\n",
       "  7\n",
       "  9\n",
       " 11"
      ]
     },
     "metadata": {},
     "output_type": "display_data"
    }
   ],
   "source": [
    "A"
   ]
  },
  {
   "cell_type": "code",
   "execution_count": 27,
   "metadata": {},
   "outputs": [
    {
     "data": {
      "text/plain": [
       "6-element Vector{Int64}:\n",
       "  1\n",
       "  3\n",
       "  5\n",
       "  7\n",
       "  9\n",
       " 11"
      ]
     },
     "metadata": {},
     "output_type": "display_data"
    }
   ],
   "source": [
    "A = collect(1:2:11)"
   ]
  },
  {
   "cell_type": "markdown",
   "metadata": {},
   "source": [
    "This last example (although we could keep going with this), removes an element at the 3rd position and inserts 3 numbers:"
   ]
  },
  {
   "cell_type": "code",
   "execution_count": 28,
   "metadata": {},
   "outputs": [
    {
     "data": {
      "text/plain": [
       "5"
      ]
     },
     "metadata": {},
     "output_type": "display_data"
    }
   ],
   "source": [
    "splice!(A,3,[-1,-2,-3])"
   ]
  },
  {
   "cell_type": "markdown",
   "metadata": {},
   "source": [
    "Again, note that the element that was removed is returned and now the array A has the new numbers starting at the 3rd position:"
   ]
  },
  {
   "cell_type": "code",
   "execution_count": 29,
   "metadata": {},
   "outputs": [
    {
     "data": {
      "text/plain": [
       "8-element Vector{Int64}:\n",
       "  1\n",
       "  3\n",
       " -1\n",
       " -2\n",
       " -3\n",
       "  7\n",
       "  9\n",
       " 11"
      ]
     },
     "metadata": {},
     "output_type": "display_data"
    }
   ],
   "source": [
    "A"
   ]
  },
  {
   "cell_type": "markdown",
   "metadata": {},
   "source": [
    "#### Exercise\n",
    "\n",
    "Start with an array of even numbers from 2 to 20. For each of the following use `splice!`\n",
    "\n",
    "1) replace the 10 with the number 15\n",
    "2) delete the numbers between 8 and 12\n",
    "3) insert the numbers 5,7,9 between the 8 and 10. "
   ]
  },
  {
   "cell_type": "code",
   "execution_count": 30,
   "metadata": {},
   "outputs": [
    {
     "data": {
      "text/plain": [
       "10-element Vector{Int64}:\n",
       "  2\n",
       "  4\n",
       "  6\n",
       "  8\n",
       " 10\n",
       " 12\n",
       " 14\n",
       " 16\n",
       " 18\n",
       " 20"
      ]
     },
     "metadata": {},
     "output_type": "display_data"
    }
   ],
   "source": [
    "A = collect(2:2:20)"
   ]
  },
  {
   "cell_type": "code",
   "execution_count": 31,
   "metadata": {},
   "outputs": [
    {
     "data": {
      "text/plain": [
       "10"
      ]
     },
     "metadata": {},
     "output_type": "display_data"
    }
   ],
   "source": [
    "splice!(A,5,15)"
   ]
  },
  {
   "cell_type": "code",
   "execution_count": 32,
   "metadata": {},
   "outputs": [
    {
     "data": {
      "text/plain": [
       "10-element Vector{Int64}:\n",
       "  2\n",
       "  4\n",
       "  6\n",
       "  8\n",
       " 10\n",
       " 12\n",
       " 14\n",
       " 16\n",
       " 18\n",
       " 20"
      ]
     },
     "metadata": {},
     "output_type": "display_data"
    }
   ],
   "source": [
    "A = collect(2:2:20)"
   ]
  },
  {
   "cell_type": "code",
   "execution_count": 33,
   "metadata": {},
   "outputs": [
    {
     "data": {
      "text/plain": [
       "3-element Vector{Int64}:\n",
       "  8\n",
       " 10\n",
       " 12"
      ]
     },
     "metadata": {},
     "output_type": "display_data"
    }
   ],
   "source": [
    "splice!(A,4:6)"
   ]
  },
  {
   "cell_type": "code",
   "execution_count": 34,
   "metadata": {},
   "outputs": [
    {
     "data": {
      "text/plain": [
       "7-element Vector{Int64}:\n",
       "  2\n",
       "  4\n",
       "  6\n",
       " 14\n",
       " 16\n",
       " 18\n",
       " 20"
      ]
     },
     "metadata": {},
     "output_type": "display_data"
    }
   ],
   "source": [
    "A"
   ]
  },
  {
   "cell_type": "code",
   "execution_count": 35,
   "metadata": {},
   "outputs": [
    {
     "data": {
      "text/plain": [
       "10-element Vector{Int64}:\n",
       "  2\n",
       "  4\n",
       "  6\n",
       "  8\n",
       " 10\n",
       " 12\n",
       " 14\n",
       " 16\n",
       " 18\n",
       " 20"
      ]
     },
     "metadata": {},
     "output_type": "display_data"
    }
   ],
   "source": [
    "A = collect(2:2:20)\n"
   ]
  },
  {
   "cell_type": "code",
   "execution_count": 36,
   "metadata": {},
   "outputs": [
    {
     "data": {
      "text/plain": [
       "Int64[]"
      ]
     },
     "metadata": {},
     "output_type": "display_data"
    }
   ],
   "source": [
    "splice!(A,5:4,[5,7,9])"
   ]
  },
  {
   "cell_type": "code",
   "execution_count": 37,
   "metadata": {},
   "outputs": [
    {
     "data": {
      "text/plain": [
       "13-element Vector{Int64}:\n",
       "  2\n",
       "  4\n",
       "  6\n",
       "  8\n",
       "  5\n",
       "  7\n",
       "  9\n",
       " 10\n",
       " 12\n",
       " 14\n",
       " 16\n",
       " 18\n",
       " 20"
      ]
     },
     "metadata": {},
     "output_type": "display_data"
    }
   ],
   "source": [
    "A"
   ]
  },
  {
   "cell_type": "markdown",
   "metadata": {},
   "source": [
    "#### filtering elements"
   ]
  },
  {
   "cell_type": "code",
   "execution_count": 38,
   "metadata": {},
   "outputs": [
    {
     "data": {
      "text/plain": [
       "20-element Vector{Int64}:\n",
       "  1\n",
       "  2\n",
       "  3\n",
       "  4\n",
       "  5\n",
       "  6\n",
       "  7\n",
       "  8\n",
       "  9\n",
       " 10\n",
       " 11\n",
       " 12\n",
       " 13\n",
       " 14\n",
       " 15\n",
       " 16\n",
       " 17\n",
       " 18\n",
       " 19\n",
       " 20"
      ]
     },
     "metadata": {},
     "output_type": "display_data"
    }
   ],
   "source": [
    "A = collect(1:20)"
   ]
  },
  {
   "cell_type": "markdown",
   "metadata": {},
   "source": [
    "The `filter` function takes a boolean function and applied each element of the array to that function.  The array that is returned is all elements that returned true:"
   ]
  },
  {
   "cell_type": "code",
   "execution_count": 39,
   "metadata": {},
   "outputs": [
    {
     "data": {
      "text/plain": [
       "isEven (generic function with 1 method)"
      ]
     },
     "metadata": {},
     "output_type": "display_data"
    }
   ],
   "source": [
    "isEven(n::Integer) = n % 2 == 0"
   ]
  },
  {
   "cell_type": "code",
   "execution_count": 40,
   "metadata": {},
   "outputs": [
    {
     "data": {
      "text/plain": [
       "10-element Vector{Int64}:\n",
       "  2\n",
       "  4\n",
       "  6\n",
       "  8\n",
       " 10\n",
       " 12\n",
       " 14\n",
       " 16\n",
       " 18\n",
       " 20"
      ]
     },
     "metadata": {},
     "output_type": "display_data"
    }
   ],
   "source": [
    "filter(isEven,A)"
   ]
  },
  {
   "cell_type": "markdown",
   "metadata": {},
   "source": [
    "#### filtering out repeats"
   ]
  },
  {
   "cell_type": "code",
   "execution_count": 41,
   "metadata": {},
   "outputs": [
    {
     "data": {
      "text/plain": [
       "13-element Vector{Int64}:\n",
       " 1\n",
       " 2\n",
       " 3\n",
       " 2\n",
       " 3\n",
       " 4\n",
       " 3\n",
       " 4\n",
       " 5\n",
       " 4\n",
       " 3\n",
       " 2\n",
       " 1"
      ]
     },
     "metadata": {},
     "output_type": "display_data"
    }
   ],
   "source": [
    "A=[1,2,3,2,3,4,3,4,5,4,3,2,1]"
   ]
  },
  {
   "cell_type": "markdown",
   "metadata": {},
   "source": [
    "The `unique` function is helpful in that it returns only elements of the array that are unique (tosses out repeated)"
   ]
  },
  {
   "cell_type": "code",
   "execution_count": 42,
   "metadata": {},
   "outputs": [
    {
     "data": {
      "text/plain": [
       "5-element Vector{Int64}:\n",
       " 1\n",
       " 2\n",
       " 3\n",
       " 4\n",
       " 5"
      ]
     },
     "metadata": {},
     "output_type": "display_data"
    }
   ],
   "source": [
    "unique(A)"
   ]
  },
  {
   "cell_type": "code",
   "execution_count": 43,
   "metadata": {},
   "outputs": [
    {
     "data": {
      "text/plain": [
       "13-element Vector{Int64}:\n",
       " 1\n",
       " 2\n",
       " 3\n",
       " 2\n",
       " 3\n",
       " 4\n",
       " 3\n",
       " 4\n",
       " 5\n",
       " 4\n",
       " 3\n",
       " 2\n",
       " 1"
      ]
     },
     "metadata": {},
     "output_type": "display_data"
    }
   ],
   "source": [
    "A"
   ]
  },
  {
   "cell_type": "code",
   "execution_count": 44,
   "metadata": {},
   "outputs": [
    {
     "data": {
      "text/plain": [
       "8-element Vector{Int64}:\n",
       " 1\n",
       " 2\n",
       " 3\n",
       " 2\n",
       " 3\n",
       " 2\n",
       " 3\n",
       " 5"
      ]
     },
     "metadata": {},
     "output_type": "display_data"
    }
   ],
   "source": [
    "B=[1,2,3,2,3,2,3,5]"
   ]
  },
  {
   "cell_type": "code",
   "execution_count": 45,
   "metadata": {},
   "outputs": [
    {
     "data": {
      "text/plain": [
       "4-element Vector{Int64}:\n",
       " 1\n",
       " 2\n",
       " 3\n",
       " 5"
      ]
     },
     "metadata": {},
     "output_type": "display_data"
    }
   ],
   "source": [
    "unique!(B)"
   ]
  },
  {
   "cell_type": "code",
   "execution_count": 46,
   "metadata": {},
   "outputs": [
    {
     "data": {
      "text/plain": [
       "4-element Vector{Int64}:\n",
       " 1\n",
       " 2\n",
       " 3\n",
       " 5"
      ]
     },
     "metadata": {},
     "output_type": "display_data"
    }
   ],
   "source": [
    "B"
   ]
  },
  {
   "cell_type": "markdown",
   "metadata": {},
   "source": [
    "### 6.10 Joining and Splitting arrays"
   ]
  },
  {
   "cell_type": "markdown",
   "metadata": {},
   "source": [
    "We can take a string and split into an array of substrings based on some string.  "
   ]
  },
  {
   "cell_type": "markdown",
   "metadata": {},
   "source": [
    "We can also take an array and join it to a single array. "
   ]
  },
  {
   "cell_type": "code",
   "execution_count": 47,
   "metadata": {},
   "outputs": [
    {
     "data": {
      "text/plain": [
       "12-element Vector{String}:\n",
       " \"January\"\n",
       " \"February\"\n",
       " \"March\"\n",
       " \"April\"\n",
       " \"May\"\n",
       " \"June\"\n",
       " \"July\"\n",
       " \"August\"\n",
       " \"September\"\n",
       " \"October\"\n",
       " \"November\"\n",
       " \"December\""
      ]
     },
     "metadata": {},
     "output_type": "display_data"
    }
   ],
   "source": [
    "months = [\"January\", \"February\", \"March\", \"April\", \"May\", \"June\", \"July\", \"August\", \"September\", \"October\", \"November\", \"December\"]"
   ]
  },
  {
   "cell_type": "code",
   "execution_count": 50,
   "metadata": {},
   "outputs": [
    {
     "data": {
      "text/plain": [
       "\"January, February, March, April, May, June, July, August, September, October, November, December\""
      ]
     },
     "metadata": {},
     "output_type": "display_data"
    }
   ],
   "source": [
    "str = join(months, \", \")"
   ]
  },
  {
   "cell_type": "code",
   "execution_count": 49,
   "metadata": {},
   "outputs": [
    {
     "data": {
      "text/plain": [
       "\"January, February, March, April, May, June, July, August, September, October, November and December\""
      ]
     },
     "metadata": {},
     "output_type": "display_data"
    }
   ],
   "source": [
    "join(months, \", \", \" and \")"
   ]
  },
  {
   "cell_type": "code",
   "execution_count": 53,
   "metadata": {},
   "outputs": [
    {
     "data": {
      "text/plain": [
       "12-element Vector{SubString{String}}:\n",
       " \"January\"\n",
       " \"February\"\n",
       " \"March\"\n",
       " \"April\"\n",
       " \"May\"\n",
       " \"June\"\n",
       " \"July\"\n",
       " \"August\"\n",
       " \"September\"\n",
       " \"October\"\n",
       " \"November\"\n",
       " \"December\""
      ]
     },
     "metadata": {},
     "output_type": "display_data"
    }
   ],
   "source": [
    "split(str, \", \")"
   ]
  },
  {
   "cell_type": "markdown",
   "metadata": {},
   "source": [
    "### Summary of Chapter 6\n",
    "\n",
    "* Constructing arrays using values, ones, zeros and comprehensions\n",
    "* Accessing elements of the array and updating elements\n",
    "* Getting subarrays\n",
    "* Operations on arrays including element by element (broadcasting)\n",
    "* Sorting arrays\n",
    "* deleting and inserting elements into the array using `deleteat!` and `splice!`.\n",
    "* Arrays as a stack and using `push!`, `pop!`, `append!`\n",
    "* Joining and Splitting Arrays"
   ]
  },
  {
   "cell_type": "markdown",
   "metadata": {},
   "source": []
  }
 ],
 "metadata": {
  "kernelspec": {
   "display_name": "Julia 1.11.0-rc3",
   "language": "julia",
   "name": "julia-1.11"
  },
  "language_info": {
   "file_extension": ".jl",
   "mimetype": "application/julia",
   "name": "julia",
   "version": "1.11.0-rc3"
  }
 },
 "nbformat": 4,
 "nbformat_minor": 4
}
