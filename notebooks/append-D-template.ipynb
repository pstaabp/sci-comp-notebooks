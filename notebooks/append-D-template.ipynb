{
 "cells": [
  {
   "cell_type": "markdown",
   "metadata": {},
   "source": [
    "## Dictionaries and JSON"
   ]
  },
  {
   "cell_type": "markdown",
   "metadata": {},
   "source": [
    "A dictionary is a very flexible data struture and is often called an associative array. There is a built-int type in julia called a `Dict` for this structure.  Here is an an example:"
   ]
  },
  {
   "cell_type": "code",
   "execution_count": 1,
   "metadata": {},
   "outputs": [
    {
     "data": {
      "text/plain": [
       "Dict{String,Int64} with 3 entries:\n",
       "  \"B\" => 7\n",
       "  \"A\" => 1\n",
       "  \"C\" => -7"
      ]
     },
     "execution_count": 1,
     "metadata": {},
     "output_type": "execute_result"
    }
   ],
   "source": [
    "dict = Dict(\"A\" => 1, \"B\" => 7, \"C\" => -7)"
   ]
  },
  {
   "cell_type": "markdown",
   "metadata": {},
   "source": [
    "In this case, the _keys_ are strings and the _values_ are integers.  To access the elements, use bracket notation, very much like an array:"
   ]
  },
  {
   "cell_type": "code",
   "execution_count": 2,
   "metadata": {},
   "outputs": [
    {
     "data": {
      "text/plain": [
       "7"
      ]
     },
     "execution_count": 2,
     "metadata": {},
     "output_type": "execute_result"
    }
   ],
   "source": [
    "dict[\"B\"]"
   ]
  },
  {
   "cell_type": "markdown",
   "metadata": {},
   "source": [
    "You can add other elements to the Dict also using bracket notation:"
   ]
  },
  {
   "cell_type": "code",
   "execution_count": 4,
   "metadata": {},
   "outputs": [
    {
     "data": {
      "text/plain": [
       "78"
      ]
     },
     "execution_count": 4,
     "metadata": {},
     "output_type": "execute_result"
    }
   ],
   "source": [
    "dict[\"fred\"] = 78"
   ]
  },
  {
   "cell_type": "markdown",
   "metadata": {},
   "source": [
    "A list of all of the keys are:"
   ]
  },
  {
   "cell_type": "code",
   "execution_count": 5,
   "metadata": {},
   "outputs": [
    {
     "data": {
      "text/plain": [
       "Base.KeySet for a Dict{String,Int64} with 4 entries. Keys:\n",
       "  \"B\"\n",
       "  \"A\"\n",
       "  \"fred\"\n",
       "  \"C\""
      ]
     },
     "execution_count": 5,
     "metadata": {},
     "output_type": "execute_result"
    }
   ],
   "source": [
    "keys(dict)"
   ]
  },
  {
   "cell_type": "markdown",
   "metadata": {},
   "source": [
    "Notice that there is no order to the results.  In fact the result is a `KeySet`  "
   ]
  },
  {
   "cell_type": "code",
   "execution_count": 6,
   "metadata": {},
   "outputs": [
    {
     "data": {
      "text/plain": [
       "4-element Array{String,1}:\n",
       " \"B\"\n",
       " \"A\"\n",
       " \"fred\"\n",
       " \"C\""
      ]
     },
     "execution_count": 6,
     "metadata": {},
     "output_type": "execute_result"
    }
   ],
   "source": [
    "collect(keys(dict))"
   ]
  },
  {
   "cell_type": "markdown",
   "metadata": {},
   "source": [
    "You can also access of the values with: "
   ]
  },
  {
   "cell_type": "code",
   "execution_count": 8,
   "metadata": {},
   "outputs": [
    {
     "data": {
      "text/plain": [
       "Base.ValueIterator for a Dict{String,Int64} with 4 entries. Values:\n",
       "  7\n",
       "  1\n",
       "  78\n",
       "  -7"
      ]
     },
     "execution_count": 8,
     "metadata": {},
     "output_type": "execute_result"
    }
   ],
   "source": [
    "values(dict)"
   ]
  },
  {
   "cell_type": "markdown",
   "metadata": {},
   "source": [
    "And this is a `ValueIterator`.  If needed you can make an array out of these with `collect(values(dict))`. "
   ]
  },
  {
   "cell_type": "markdown",
   "metadata": {},
   "source": [
    "Here's another example:"
   ]
  },
  {
   "cell_type": "code",
   "execution_count": 26,
   "metadata": {},
   "outputs": [
    {
     "data": {
      "text/plain": [
       "Dict{String,Any} with 3 entries:\n",
       "  \"B\" => 6//7\n",
       "  \"A\" => 1\n",
       "  \"C\" => \"hello\""
      ]
     },
     "execution_count": 26,
     "metadata": {},
     "output_type": "execute_result"
    }
   ],
   "source": [
    "dict2 = Dict(\"A\" => 1, \"C\" => \"hello\", \"B\" => 6//7)"
   ]
  },
  {
   "cell_type": "markdown",
   "metadata": {},
   "source": [
    "Notice that the values are different types so they fit in the `Any` type.  We can also make nested dictionaries: "
   ]
  },
  {
   "cell_type": "code",
   "execution_count": 9,
   "metadata": {},
   "outputs": [
    {
     "data": {
      "text/plain": [
       "Dict{Int64,Any} with 3 entries:\n",
       "  3 => [1, 2, 3, 4, 5]\n",
       "  5 => Dict(\"homer\"=>0.123,\"marge\"=>4.56)\n",
       "  1 => \"Hello\""
      ]
     },
     "execution_count": 9,
     "metadata": {},
     "output_type": "execute_result"
    }
   ],
   "source": [
    "dict3 = Dict(1=> \"Hello\", 3 => [1,2,3,4,5], 5 => Dict(\"homer\"=>.123, \"marge\"=>4.56))"
   ]
  },
  {
   "cell_type": "code",
   "execution_count": 10,
   "metadata": {},
   "outputs": [
    {
     "data": {
      "text/plain": [
       "Dict{Real,Any} with 2 entries:\n",
       "  3.45 => \"hi\"\n",
       "  3//4 => 5.67"
      ]
     },
     "execution_count": 10,
     "metadata": {},
     "output_type": "execute_result"
    }
   ],
   "source": [
    "dict4 = Dict(3.45 => \"hi\", 3//4 => 5.67)"
   ]
  },
  {
   "cell_type": "code",
   "execution_count": 11,
   "metadata": {},
   "outputs": [
    {
     "ename": "LoadError",
     "evalue": "MethodError: Cannot `convert` an object of type String to an object of type Real\nClosest candidates are:\n  convert(::Type{T}, !Matched::T) where T<:Number at number.jl:6\n  convert(::Type{T}, !Matched::Number) where T<:Number at number.jl:7\n  convert(::Type{T}, !Matched::Base.TwicePrecision) where T<:Number at twiceprecision.jl:250\n  ...",
     "output_type": "error",
     "traceback": [
      "MethodError: Cannot `convert` an object of type String to an object of type Real\nClosest candidates are:\n  convert(::Type{T}, !Matched::T) where T<:Number at number.jl:6\n  convert(::Type{T}, !Matched::Number) where T<:Number at number.jl:7\n  convert(::Type{T}, !Matched::Base.TwicePrecision) where T<:Number at twiceprecision.jl:250\n  ...",
      "",
      "Stacktrace:",
      " [1] setindex!(::Dict{Real,Any}, ::String, ::String) at ./dict.jl:372",
      " [2] top-level scope at In[11]:1",
      " [3] include_string(::Function, ::Module, ::String, ::String) at ./loading.jl:1091"
     ]
    }
   ],
   "source": [
    "dict4[\"fred\"] = \"hello there\""
   ]
  },
  {
   "cell_type": "markdown",
   "metadata": {},
   "source": [
    "Notice that the Dictionary `dict4` has a real as a key and trying to use a string as one gives an error."
   ]
  },
  {
   "cell_type": "markdown",
   "metadata": {},
   "source": [
    "### JSON"
   ]
  },
  {
   "cell_type": "markdown",
   "metadata": {},
   "source": [
    "Dictionaries as we saw above are fairly flexible in term of a data structure.  We often want to save the data in terms of a file (called serializing) and the only file format we've looked at in this course is a CSV (comma separated values) file, which is good for dataframes, but poor for a dictionary.  \n",
    "\n",
    "An altenative format is called a JSON (javascript object notation) format which is easily saved (serialized) and read from a file.  Here's an example that would have contact information on a person:"
   ]
  },
  {
   "cell_type": "code",
   "execution_count": 12,
   "metadata": {},
   "outputs": [
    {
     "data": {
      "text/plain": [
       "\"{\\n  \\\"firstName\\\": \\\"John\\\",\\n  \\\"lastName\\\": \\\"Smith\\\",\\n  \\\"age\\\": 25,\\n  \\\"address\\\": {\\n    \\\"streetAddress\\\": \\\"21 2nd Street\\\",\\n    \\\"city\\\": \\\"New York\\\",\\n    \\\"state\\\": \\\"NY\\\",\\n    \\\"postalCode\\\": \\\"10021\\\"\\n  },\\n  \\\"phoneNumber\\\": [\\n    {\\n      \\\"type\\\": \\\"home\\\",\\n      \\\"number\\\": \\\"212 555-1234\\\"\\n    },\\n    {\\n      \\\"type\\\": \\\"fax\\\",\\n      \\\"number\\\": \\\"646 555-4567\\\"\\n    }\\n  ],\\n  \\\"gender\\\": {\\n    \\\"type\\\": \\\"male\\\"\\n  }\\n}\""
      ]
     },
     "execution_count": 12,
     "metadata": {},
     "output_type": "execute_result"
    }
   ],
   "source": [
    "str = \"{\n",
    "  \\\"firstName\\\": \\\"John\\\",\n",
    "  \\\"lastName\\\": \\\"Smith\\\",\n",
    "  \\\"age\\\": 25,\n",
    "  \\\"address\\\": {\n",
    "    \\\"streetAddress\\\": \\\"21 2nd Street\\\",\n",
    "    \\\"city\\\": \\\"New York\\\",\n",
    "    \\\"state\\\": \\\"NY\\\",\n",
    "    \\\"postalCode\\\": \\\"10021\\\"\n",
    "  },\n",
    "  \\\"phoneNumber\\\": [\n",
    "    {\n",
    "      \\\"type\\\": \\\"home\\\",\n",
    "      \\\"number\\\": \\\"212 555-1234\\\"\n",
    "    },\n",
    "    {\n",
    "      \\\"type\\\": \\\"fax\\\",\n",
    "      \\\"number\\\": \\\"646 555-4567\\\"b\n",
    "    }\n",
    "  ],\n",
    "  \\\"gender\\\":  \\\"male\\\"\n",
    "}\""
   ]
  },
  {
   "cell_type": "markdown",
   "metadata": {},
   "source": [
    "Overall, the main structure is a pair of curly braces with key-value pairs (like a Dict).  The keys are `firstName`, `lastName`, `age`, `address`, `phoneNumber`, `gender`.  The values are strings, numbers, arrays or other key-value pairs.  We will use the JSON package to parse this."
   ]
  },
  {
   "cell_type": "code",
   "execution_count": 13,
   "metadata": {},
   "outputs": [],
   "source": [
    "using JSON"
   ]
  },
  {
   "cell_type": "code",
   "execution_count": 14,
   "metadata": {},
   "outputs": [
    {
     "data": {
      "text/plain": [
       "Dict{String,Any} with 6 entries:\n",
       "  \"gender\"      => Dict{String,Any}(\"type\"=>\"male\")\n",
       "  \"phoneNumber\" => Any[Dict{String,Any}(\"number\"=>\"212 555-1234\",\"type\"=>\"home\"…\n",
       "  \"lastName\"    => \"Smith\"\n",
       "  \"firstName\"   => \"John\"\n",
       "  \"age\"         => 25\n",
       "  \"address\"     => Dict{String,Any}(\"streetAddress\"=>\"21 2nd Street\",\"postalCod…"
      ]
     },
     "execution_count": 14,
     "metadata": {},
     "output_type": "execute_result"
    }
   ],
   "source": [
    "info = JSON.parse(str)"
   ]
  },
  {
   "cell_type": "markdown",
   "metadata": {},
   "source": [
    "Recognize that parsing results in a `Dict` and the keys are strings and the values are `Any`.  Like other `Dict`s, we can access them with bracket notation:"
   ]
  },
  {
   "cell_type": "code",
   "execution_count": 15,
   "metadata": {},
   "outputs": [
    {
     "data": {
      "text/plain": [
       "\"John\""
      ]
     },
     "execution_count": 15,
     "metadata": {},
     "output_type": "execute_result"
    }
   ],
   "source": [
    "info[\"firstName\"]"
   ]
  },
  {
   "cell_type": "code",
   "execution_count": 16,
   "metadata": {},
   "outputs": [
    {
     "data": {
      "text/plain": [
       "2-element Array{Any,1}:\n",
       " Dict{String,Any}(\"number\" => \"212 555-1234\",\"type\" => \"home\")\n",
       " Dict{String,Any}(\"number\" => \"646 555-4567\",\"type\" => \"fax\")"
      ]
     },
     "execution_count": 16,
     "metadata": {},
     "output_type": "execute_result"
    }
   ],
   "source": [
    "info[\"phoneNumber\"]"
   ]
  },
  {
   "cell_type": "code",
   "execution_count": 17,
   "metadata": {},
   "outputs": [
    {
     "data": {
      "text/plain": [
       "Dict{String,Any} with 2 entries:\n",
       "  \"number\" => \"212 555-1234\"\n",
       "  \"type\"   => \"home\""
      ]
     },
     "execution_count": 17,
     "metadata": {},
     "output_type": "execute_result"
    }
   ],
   "source": [
    "info[\"phoneNumber\"][1]"
   ]
  },
  {
   "cell_type": "code",
   "execution_count": 18,
   "metadata": {},
   "outputs": [
    {
     "data": {
      "text/plain": [
       "\"212 555-1234\""
      ]
     },
     "execution_count": 18,
     "metadata": {},
     "output_type": "execute_result"
    }
   ],
   "source": [
    "info[\"phoneNumber\"][1][\"number\"]"
   ]
  },
  {
   "cell_type": "markdown",
   "metadata": {},
   "source": [
    "Let's say we have a `Dict` that is storing information about a menu: "
   ]
  },
  {
   "cell_type": "code",
   "execution_count": 19,
   "metadata": {},
   "outputs": [
    {
     "data": {
      "text/plain": [
       "Dict{String,Dict{String,Any}} with 3 entries:\n",
       "  \"hamburger\"  => Dict{String,Any}(\"options\"=>[\"Cheddar\", \"Mushrooms\", \"Bacon\"]…\n",
       "  \"onion soup\" => Dict{String,Any}(\"cost\"=>5.0,\"type\"=>[\"Lunch\", \"Dinner\"])\n",
       "  \"pancakes\"   => Dict{String,Any}(\"options\"=>[\"Chocolate Chip\", \"Buckwheat\"],\"…"
      ]
     },
     "execution_count": 19,
     "metadata": {},
     "output_type": "execute_result"
    }
   ],
   "source": [
    "menu=Dict(\"pancakes\"=>Dict(\"type\"=>\"Breakfast\",\"cost\"=>7.00,\"options\"=>[\"Chocolate Chip\",\"Buckwheat\"]),\n",
    "\"hamburger\"=>Dict(\"type\"=>[\"Lunch\",\"Dinner\"],\"cost\"=>9.00,\"options\"=>[\"Cheddar\",\"Mushrooms\",\"Bacon\"]),\n",
    "\"onion soup\"=>Dict(\"type\"=>[\"Lunch\",\"Dinner\"],\"cost\"=>5.00))"
   ]
  },
  {
   "cell_type": "markdown",
   "metadata": {},
   "source": [
    "One can serialize it to a String with the JSON package as:"
   ]
  },
  {
   "cell_type": "code",
   "execution_count": 20,
   "metadata": {},
   "outputs": [
    {
     "data": {
      "text/plain": [
       "\"{\\\"hamburger\\\":{\\\"options\\\":[\\\"Cheddar\\\",\\\"Mushrooms\\\",\\\"Bacon\\\"],\\\"cost\\\":9.0,\\\"type\\\":[\\\"Lunch\\\",\\\"Dinner\\\"]},\\\"onion soup\\\":{\\\"cost\\\":5.0,\\\"type\\\":[\\\"Lunch\\\",\\\"Dinner\\\"]},\\\"pancakes\\\":{\\\"options\\\":[\\\"Chocolate Chip\\\",\\\"Buckwheat\\\"],\\\"cost\\\":7.0,\\\"type\\\":\\\"Breakfast\\\"}}\""
      ]
     },
     "execution_count": 20,
     "metadata": {},
     "output_type": "execute_result"
    }
   ],
   "source": [
    "JSON.json(menu)"
   ]
  },
  {
   "cell_type": "markdown",
   "metadata": {},
   "source": [
    "### Write to a file"
   ]
  },
  {
   "cell_type": "markdown",
   "metadata": {},
   "source": [
    "We may want to write the results to a file in the following way.  The following does three things:\n",
    "\n",
    "1. Opens the file called \"menu.json\"\n",
    "2. Writes the menu to the file using the `JSON.print` function\n",
    "3. Closes the file:"
   ]
  },
  {
   "cell_type": "code",
   "execution_count": 21,
   "metadata": {},
   "outputs": [],
   "source": [
    "f = open(\"menu.json\",\"w\")\n",
    "JSON.print(f,menu)\n",
    "close(f)"
   ]
  },
  {
   "cell_type": "markdown",
   "metadata": {},
   "source": [
    "And now you should see in the current directory that there is a new file called \"menul.json\". "
   ]
  },
  {
   "cell_type": "markdown",
   "metadata": {},
   "source": [
    "#### Reading a JSON file"
   ]
  },
  {
   "cell_type": "markdown",
   "metadata": {},
   "source": [
    "The following will read the file `../data/menu2.json` and parse the results:"
   ]
  },
  {
   "cell_type": "code",
   "execution_count": 23,
   "metadata": {},
   "outputs": [
    {
     "data": {
      "text/plain": [
       "Dict{String,Any} with 9 entries:\n",
       "  \"hamburger\"      => Dict{String,Any}(\"options\"=>Any[\"Cheddar\", \"Mushrooms\", \"…\n",
       "  \"orange juice\"   => Dict{String,Any}(\"cost\"=>2.0,\"sizes\"=>Any[\"small\", \"large…\n",
       "  \"onion soup\"     => Dict{String,Any}(\"cost\"=>5.0,\"sizes\"=>Any[\"cup\", \"bowl\"],…\n",
       "  \"pumpkin pie\"    => Dict{String,Any}(\"cost\"=>5.0,\"sizes\"=>Any[\"small\", \"large…\n",
       "  \"chicken club\"   => Dict{String,Any}(\"cost\"=>7.5,\"type\"=>Any[\"Lunch\", \"Dinner…\n",
       "  \"pancakes\"       => Dict{String,Any}(\"options\"=>Any[\"Chocolate Chip\", \"Buckwh…\n",
       "  \"caesar salad\"   => Dict{String,Any}(\"options\"=>Any[\"plain\", \"salmon\", \"chick…\n",
       "  \"chocolate cake\" => Dict{String,Any}(\"cost\"=>4.5,\"type\"=>\"dessert\")\n",
       "  \"french toast\"   => Dict{String,Any}(\"options\"=>Any[\"strawberry\", \"challah\"],…"
      ]
     },
     "execution_count": 23,
     "metadata": {},
     "output_type": "execute_result"
    }
   ],
   "source": [
    "menu2 = JSON.parsefile(\"../data/menu2.json\")"
   ]
  }
 ],
 "metadata": {
  "kernelspec": {
   "display_name": "Julia 1.5.3",
   "language": "julia",
   "name": "julia-1.5"
  },
  "language_info": {
   "file_extension": ".jl",
   "mimetype": "application/julia",
   "name": "julia",
   "version": "1.5.3"
  }
 },
 "nbformat": 4,
 "nbformat_minor": 4
}
