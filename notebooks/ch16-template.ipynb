{
 "cells": [
  {
   "cell_type": "markdown",
   "metadata": {},
   "source": [
    "## Chapter 16: Advanced Function Features of Julia"
   ]
  },
  {
   "cell_type": "markdown",
   "metadata": {},
   "source": [
    "This chapter covers a bit more on functions in julia. These feature allow the ability to write code that easier to use, read and debug. We will perform error checking for arguments to ensure that only valid arguments are considered. Additionally, to make functions more robust, we’ll use option arguments and keyword arguments."
   ]
  },
  {
   "cell_type": "markdown",
   "metadata": {},
   "source": [
    "#### 16.1: Testing Arguments"
   ]
  },
  {
   "cell_type": "markdown",
   "metadata": {},
   "source": [
    "Recall the recursive factorial function:"
   ]
  },
  {
   "cell_type": "code",
   "execution_count": 3,
   "metadata": {},
   "outputs": [
    {
     "data": {
      "text/plain": [
       "fact (generic function with 1 method)"
      ]
     },
     "execution_count": 3,
     "metadata": {},
     "output_type": "execute_result"
    }
   ],
   "source": [
    "fact(n::Integer) = n==0 ? 1 : n*fact(n-1)"
   ]
  },
  {
   "cell_type": "markdown",
   "metadata": {},
   "source": [
    "If we put in a negative number, then"
   ]
  },
  {
   "cell_type": "code",
   "execution_count": 4,
   "metadata": {},
   "outputs": [
    {
     "ename": "LoadError",
     "evalue": "StackOverflowError:",
     "output_type": "error",
     "traceback": [
      "StackOverflowError:",
      "",
      "Stacktrace:",
      " [1] fact(n::Int64) (repeats 79984 times)",
      "   @ Main ./In[3]:1"
     ]
    }
   ],
   "source": [
    "fact(-5)"
   ]
  },
  {
   "cell_type": "markdown",
   "metadata": {},
   "source": [
    "This occurs because fact(-5) would return -5 times fact(-6) which would return -5 times -6 times fact(-7), etc.  This will never stop. \n",
    "\n",
    "To prevent this, we will check if the argument n is greater than or equal to 0. The first line of the function, evaluates `n>=0`. If this is true, it skips the rest of the line.  If not, it throws an error. "
   ]
  },
  {
   "cell_type": "code",
   "execution_count": 5,
   "metadata": {},
   "outputs": [
    {
     "data": {
      "text/plain": [
       "fact (generic function with 1 method)"
      ]
     },
     "execution_count": 5,
     "metadata": {},
     "output_type": "execute_result"
    }
   ],
   "source": [
    "function fact(n::Integer)\n",
    "  n>=0 || throw(ArgumentError(\"The argument must be a nonnegative integer.\"))\n",
    "  n==0 ? 1 : n*fact(n-1)\n",
    "end"
   ]
  },
  {
   "cell_type": "code",
   "execution_count": 6,
   "metadata": {},
   "outputs": [
    {
     "ename": "LoadError",
     "evalue": "ArgumentError: The argument must be a nonnegative integer.",
     "output_type": "error",
     "traceback": [
      "ArgumentError: The argument must be a nonnegative integer.",
      "",
      "Stacktrace:",
      " [1] fact(n::Int64)",
      "   @ Main ./In[5]:2",
      " [2] top-level scope",
      "   @ In[6]:1",
      " [3] eval",
      "   @ ./boot.jl:368 [inlined]",
      " [4] include_string(mapexpr::typeof(REPL.softscope), mod::Module, code::String, filename::String)",
      "   @ Base ./loading.jl:1428"
     ]
    }
   ],
   "source": [
    "fact(-5)"
   ]
  },
  {
   "cell_type": "markdown",
   "metadata": {},
   "source": [
    "#### 16.2: Optional arguments"
   ]
  },
  {
   "cell_type": "markdown",
   "metadata": {},
   "source": [
    "Recall Newton's method that we saw earlier:"
   ]
  },
  {
   "cell_type": "code",
   "execution_count": 10,
   "metadata": {},
   "outputs": [
    {
     "data": {
      "text/plain": [
       "newton (generic function with 1 method)"
      ]
     },
     "execution_count": 10,
     "metadata": {},
     "output_type": "execute_result"
    }
   ],
   "source": [
    "using ForwardDiff\n",
    "function newton(f::Function, x0::Number)\n",
    "  local dx = f(x0)/ForwardDiff.derivative(f,x0) \n",
    "  local steps = 0\n",
    "  while abs(dx)>1e-6 && steps<10\n",
    "    x0 -= dx\n",
    "    dx = f(x0)/ForwardDiff.derivative(f,x0) \n",
    "    steps += 1\n",
    "  end \n",
    "  x0\n",
    "end"
   ]
  },
  {
   "cell_type": "code",
   "execution_count": 11,
   "metadata": {},
   "outputs": [
    {
     "data": {
      "text/plain": [
       "2.2360688956433634"
      ]
     },
     "execution_count": 11,
     "metadata": {},
     "output_type": "execute_result"
    }
   ],
   "source": [
    "newton(x->x^2-5,1)"
   ]
  },
  {
   "cell_type": "markdown",
   "metadata": {},
   "source": [
    "Note: we haven't used the `Root` datatype developed in Chapter 12 for simplicity.  An exercise would be to combine this.\n",
    "\n",
    "What if we want the root tolerance (1e-6) to be better or to run more steps than 10.  These are hard coded parameters that would have to be updated in the newton function.  A much better way to do this is to add these to the argument list, but with default values.  Julia calls these optional arguments.  Consider this rewrite:"
   ]
  },
  {
   "cell_type": "code",
   "execution_count": 12,
   "metadata": {},
   "outputs": [
    {
     "data": {
      "text/plain": [
       "newton (generic function with 3 methods)"
      ]
     },
     "execution_count": 12,
     "metadata": {},
     "output_type": "execute_result"
    }
   ],
   "source": [
    "function newton(f::Function, x0::Number, tol=1e-6, max_steps=10)\n",
    "  local dx = f(x0)/ForwardDiff.derivative(f,x0)\n",
    "  local steps = 0\n",
    "  while abs(dx)>tol && steps<max_steps\n",
    "    x0 -= dx\n",
    "    dx = f(x0)/ForwardDiff.derivative(f,x0)\n",
    "    steps += 1\n",
    "  end\n",
    "  x0\n",
    "end"
   ]
  },
  {
   "cell_type": "code",
   "execution_count": 13,
   "metadata": {},
   "outputs": [
    {
     "data": {
      "text/html": [
       "# 3 methods for generic function <b>newton</b>:<ul><li> newton(f::<b>Function</b>, x0::<b>Number</b>) in Main at In[12]:1</li> <li> newton(f::<b>Function</b>, x0::<b>Number</b>, tol) in Main at In[12]:1</li> <li> newton(f::<b>Function</b>, x0::<b>Number</b>, tol, max_steps) in Main at In[12]:1</li> </ul>"
      ],
      "text/plain": [
       "# 3 methods for generic function \"newton\":\n",
       "[1] newton(f::Function, x0::Number) in Main at In[12]:1\n",
       "[2] newton(f::Function, x0::Number, tol) in Main at In[12]:1\n",
       "[3] newton(f::Function, x0::Number, tol, max_steps) in Main at In[12]:1"
      ]
     },
     "execution_count": 13,
     "metadata": {},
     "output_type": "execute_result"
    }
   ],
   "source": [
    "methods(newton)"
   ]
  },
  {
   "cell_type": "markdown",
   "metadata": {},
   "source": [
    "First, notice that there are 3 methods now. What are the signatures of newton for this?\n",
    "\n",
    "Now, notice that we can change the tolerance with:"
   ]
  },
  {
   "cell_type": "code",
   "execution_count": 14,
   "metadata": {},
   "outputs": [
    {
     "data": {
      "text/plain": [
       "2.236067977499978"
      ]
     },
     "execution_count": 14,
     "metadata": {},
     "output_type": "execute_result"
    }
   ],
   "source": [
    "newton(x->x^2-5,1,1e-12)"
   ]
  },
  {
   "cell_type": "markdown",
   "metadata": {},
   "source": [
    "But a problem is that to change the maximum number of steps, we need to change both:"
   ]
  },
  {
   "cell_type": "code",
   "execution_count": 15,
   "metadata": {},
   "outputs": [
    {
     "data": {
      "text/plain": [
       "2.236067977499978"
      ]
     },
     "execution_count": 15,
     "metadata": {},
     "output_type": "execute_result"
    }
   ],
   "source": [
    "newton(x->x^2-5,1,1e-12,20)"
   ]
  },
  {
   "cell_type": "markdown",
   "metadata": {},
   "source": [
    "We don't need to set the argument types for optional arguments.  Julia will figure out the type by the number that you put in.  The example above, `tol` will be a Float and `max_steps` will be an Integer. \n",
    "\n",
    "We should also check these new arguments have proper types (each should be positive) with:"
   ]
  },
  {
   "cell_type": "code",
   "execution_count": 17,
   "metadata": {},
   "outputs": [
    {
     "data": {
      "text/plain": [
       "newton (generic function with 3 methods)"
      ]
     },
     "execution_count": 17,
     "metadata": {},
     "output_type": "execute_result"
    }
   ],
   "source": [
    "function newton(f::Function, x0::Number,tol=1e-6,max_steps=10)\n",
    "  tol > 0 || throw(ArgumentError(\"The parameter tol must be positive\"))\n",
    "  max_steps > 0 || throw(ArgumentError(\"The parameter max_steps must be positive\"))\n",
    "  local dx = f(x0)/ForwardDiff.derivative(f,x0)\n",
    "  local steps = 0\n",
    "  while abs(dx)>tol && steps<max_steps\n",
    "    x0 -= dx\n",
    "    dx = f(x0)/ForwardDiff.derivative(f,x0)\n",
    "    steps += 1\n",
    "  end\n",
    "  x0\n",
    "end"
   ]
  },
  {
   "cell_type": "code",
   "execution_count": 18,
   "metadata": {},
   "outputs": [
    {
     "ename": "LoadError",
     "evalue": "ArgumentError: The parameter tol must be positive",
     "output_type": "error",
     "traceback": [
      "ArgumentError: The parameter tol must be positive",
      "",
      "Stacktrace:",
      " [1] newton(f::var\"#9#10\", x0::Int64, tol::Float64, max_steps::Int64) (repeats 2 times)",
      "   @ Main ./In[17]:2",
      " [2] top-level scope",
      "   @ In[18]:1",
      " [3] eval",
      "   @ ./boot.jl:368 [inlined]",
      " [4] include_string(mapexpr::typeof(REPL.softscope), mod::Module, code::String, filename::String)",
      "   @ Base ./loading.jl:1428"
     ]
    }
   ],
   "source": [
    "newton(x->x^2-5,1,-0.01)"
   ]
  },
  {
   "cell_type": "markdown",
   "metadata": {},
   "source": [
    "#### 16.3: Handling Special Cases"
   ]
  },
  {
   "cell_type": "code",
   "execution_count": 19,
   "metadata": {},
   "outputs": [
    {
     "data": {
      "text/plain": [
       "0.5353752385394379"
      ]
     },
     "execution_count": 19,
     "metadata": {},
     "output_type": "execute_result"
    }
   ],
   "source": [
    "newton(x->x^2+2,1)"
   ]
  },
  {
   "cell_type": "code",
   "execution_count": 20,
   "metadata": {},
   "outputs": [
    {
     "data": {
      "text/plain": [
       "newton (generic function with 3 methods)"
      ]
     },
     "execution_count": 20,
     "metadata": {},
     "output_type": "execute_result"
    }
   ],
   "source": [
    "using ForwardDiff\n",
    "function newton(f::Function, x0::Number,tol=1e-6,max_steps=10)\n",
    "  tol > 0 || throw(ArgumentError(\"The parameter tol must be positive\"))\n",
    "  max_steps > 0 || throw(ArgumentError(\"The parameter max_steps must be positive\"))\n",
    "  local dx = f(x0)/ForwardDiff.derivative(f,x0)\n",
    "  local steps = 0\n",
    "  while abs(dx)>tol && steps<max_steps\n",
    "    x0 -= dx\n",
    "    dx = f(x0)/ForwardDiff.derivative(f,x0)\n",
    "    steps += 1\n",
    "  end\n",
    "  local error = \"The maximum number of steps: $max_steps was reached without convergence\"\n",
    "  steps < max_steps || throw(ErrorException(error))\n",
    "  x0\n",
    "end"
   ]
  },
  {
   "cell_type": "code",
   "execution_count": 21,
   "metadata": {},
   "outputs": [
    {
     "ename": "LoadError",
     "evalue": "The maximum number of steps: 10 was reached without convergence",
     "output_type": "error",
     "traceback": [
      "The maximum number of steps: 10 was reached without convergence",
      "",
      "Stacktrace:",
      " [1] newton(f::var\"#13#14\", x0::Int64, tol::Float64, max_steps::Int64)",
      "   @ Main ./In[20]:13",
      " [2] newton(f::Function, x0::Int64)",
      "   @ Main ./In[20]:3",
      " [3] top-level scope",
      "   @ In[21]:1",
      " [4] eval",
      "   @ ./boot.jl:368 [inlined]",
      " [5] include_string(mapexpr::typeof(REPL.softscope), mod::Module, code::String, filename::String)",
      "   @ Base ./loading.jl:1428"
     ]
    }
   ],
   "source": [
    "newton(x->x^2+2,1)"
   ]
  },
  {
   "cell_type": "markdown",
   "metadata": {},
   "source": [
    "#### 16.4: Keyword Arguments"
   ]
  },
  {
   "cell_type": "markdown",
   "metadata": {},
   "source": [
    "Instead of optional arguments (especially if there are more than one), it often better to use keyword arugments in which you can change any of the arguments in any order. To do this, we need to use the keyword when calling the function.  To change from optional arguments to keyword arguments, separate the regular arguments from the keyword ones with a semicolon (;)"
   ]
  },
  {
   "cell_type": "code",
   "execution_count": 22,
   "metadata": {},
   "outputs": [
    {
     "data": {
      "text/plain": [
       "newton (generic function with 3 methods)"
      ]
     },
     "execution_count": 22,
     "metadata": {},
     "output_type": "execute_result"
    }
   ],
   "source": [
    "function newton(f::Function, x0::Number; tol=1e-6, max_steps=10)\n",
    "  tol > 0 || throw(ArgumentError(\"The parameter tol much be positive\")) \n",
    "  max_steps > 0 || throw(ArgumentError(\"The parameter max_steps much be positive\"))\n",
    "  local x1 = x0\n",
    "  local dx = f(x0)/ForwardDiff.derivative(f,x0) \n",
    "  local steps = 0\n",
    "  while abs(dx)>tol && steps<max_steps\n",
    "    x0 -= dx\n",
    "    dx = f(x0)/ForwardDiff.derivative(f,x0)\n",
    "    steps += 1\n",
    "  end\n",
    "  local error = \"The maximum number of steps: $max_steps was reached without convergence\"\n",
    "  steps < max_steps || throw(ErrorException(error))\n",
    "  x0\n",
    "end"
   ]
  },
  {
   "cell_type": "code",
   "execution_count": 23,
   "metadata": {},
   "outputs": [
    {
     "data": {
      "text/plain": [
       "2.2360688956433634"
      ]
     },
     "execution_count": 23,
     "metadata": {},
     "output_type": "execute_result"
    }
   ],
   "source": [
    "newton(x->x^2-5,1,max_steps=5)"
   ]
  },
  {
   "cell_type": "markdown",
   "metadata": {},
   "source": [
    "#### 16.5: Parametric Methods"
   ]
  },
  {
   "cell_type": "markdown",
   "metadata": {},
   "source": [
    "In Chapter 4, we saw multiple dispatch for julia.  Let's look at another example of this.  This will find the maximum value with different arguments put in. "
   ]
  },
  {
   "cell_type": "markdown",
   "metadata": {},
   "source": [
    "If we have two values we can do:"
   ]
  },
  {
   "cell_type": "code",
   "execution_count": 1,
   "metadata": {},
   "outputs": [
    {
     "data": {
      "text/plain": [
       "findMax (generic function with 1 method)"
      ]
     },
     "execution_count": 1,
     "metadata": {},
     "output_type": "execute_result"
    }
   ],
   "source": [
    "findMax(x::Real,y::Real) = x > y ? x : y"
   ]
  },
  {
   "cell_type": "code",
   "execution_count": 2,
   "metadata": {},
   "outputs": [
    {
     "data": {
      "text/plain": [
       "4"
      ]
     },
     "execution_count": 2,
     "metadata": {},
     "output_type": "execute_result"
    }
   ],
   "source": [
    "findMax(3,4)"
   ]
  },
  {
   "cell_type": "markdown",
   "metadata": {},
   "source": [
    "As as we saw earlier, if we want any number of arguments, we could do:"
   ]
  },
  {
   "cell_type": "code",
   "execution_count": 3,
   "metadata": {},
   "outputs": [
    {
     "data": {
      "text/plain": [
       "findMax (generic function with 2 methods)"
      ]
     },
     "execution_count": 3,
     "metadata": {},
     "output_type": "execute_result"
    }
   ],
   "source": [
    "function findMax(nums::Real...)\n",
    "  local max = -Inf\n",
    "  for num in nums\n",
    "    if num > max\n",
    "      max = num\n",
    "    end\n",
    "  end\n",
    "  max\n",
    "end"
   ]
  },
  {
   "cell_type": "code",
   "execution_count": 4,
   "metadata": {},
   "outputs": [
    {
     "data": {
      "text/plain": [
       "6"
      ]
     },
     "execution_count": 4,
     "metadata": {},
     "output_type": "execute_result"
    }
   ],
   "source": [
    "findMax(1,6,2,3,-9,11//2,5.6)"
   ]
  },
  {
   "cell_type": "markdown",
   "metadata": {},
   "source": [
    "It makes sense to also write a `findMax` function that takes an array of values:"
   ]
  },
  {
   "cell_type": "code",
   "execution_count": 5,
   "metadata": {},
   "outputs": [
    {
     "data": {
      "text/plain": [
       "findMax (generic function with 3 methods)"
      ]
     },
     "execution_count": 5,
     "metadata": {},
     "output_type": "execute_result"
    }
   ],
   "source": [
    "function findMax(arr::Vector{Real})\n",
    "  local max = -Inf\n",
    "  for num in arr\n",
    "    if num > max\n",
    "      max = num\n",
    "    end\n",
    "  end\n",
    "  max\n",
    "end"
   ]
  },
  {
   "cell_type": "markdown",
   "metadata": {},
   "source": [
    "Let's say we want to find the max of `[-3,2,4,7,5]`.  It seems like the following should work:"
   ]
  },
  {
   "cell_type": "code",
   "execution_count": 6,
   "metadata": {},
   "outputs": [
    {
     "ename": "LoadError",
     "evalue": "MethodError: no method matching findMax(::Vector{Int64})\n\u001b[0mClosest candidates are:\n\u001b[0m  findMax(\u001b[91m::Real\u001b[39m, \u001b[91m::Real\u001b[39m) at In[1]:1\n\u001b[0m  findMax(\u001b[91m::Real...\u001b[39m) at In[3]:1\n\u001b[0m  findMax(\u001b[91m::Vector{Real}\u001b[39m) at In[5]:1",
     "output_type": "error",
     "traceback": [
      "MethodError: no method matching findMax(::Vector{Int64})\n\u001b[0mClosest candidates are:\n\u001b[0m  findMax(\u001b[91m::Real\u001b[39m, \u001b[91m::Real\u001b[39m) at In[1]:1\n\u001b[0m  findMax(\u001b[91m::Real...\u001b[39m) at In[3]:1\n\u001b[0m  findMax(\u001b[91m::Vector{Real}\u001b[39m) at In[5]:1",
      "",
      "Stacktrace:",
      " [1] top-level scope",
      "   @ In[6]:1",
      " [2] eval",
      "   @ ./boot.jl:368 [inlined]",
      " [3] include_string(mapexpr::typeof(REPL.softscope), mod::Module, code::String, filename::String)",
      "   @ Base ./loading.jl:1428"
     ]
    }
   ],
   "source": [
    "findMax([-3,2,4,7,5])"
   ]
  },
  {
   "cell_type": "code",
   "execution_count": 7,
   "metadata": {},
   "outputs": [
    {
     "data": {
      "text/plain": [
       "true"
      ]
     },
     "execution_count": 7,
     "metadata": {},
     "output_type": "execute_result"
    }
   ],
   "source": [
    "Int64 <: Real"
   ]
  },
  {
   "cell_type": "code",
   "execution_count": 8,
   "metadata": {},
   "outputs": [
    {
     "data": {
      "text/plain": [
       "false"
      ]
     },
     "execution_count": 8,
     "metadata": {},
     "output_type": "execute_result"
    }
   ],
   "source": [
    "Vector{Int64} <: Vector{Real}"
   ]
  },
  {
   "cell_type": "markdown",
   "metadata": {},
   "source": [
    "However, notice that the error says that it can't find a `findMax` function with argument `Vector{Int64}`.  \n",
    "\n",
    "We could create functions to handle arrays of integers, floats, and other types that we need, but julia has what is called parametric methods that handles all of these together:"
   ]
  },
  {
   "cell_type": "code",
   "execution_count": 9,
   "metadata": {},
   "outputs": [
    {
     "data": {
      "text/plain": [
       "findMax (generic function with 4 methods)"
      ]
     },
     "execution_count": 9,
     "metadata": {},
     "output_type": "execute_result"
    }
   ],
   "source": [
    "function findMax(arr::Vector{T}) where {T <: Real}\n",
    "  local max = -Inf\n",
    "  for num in arr\n",
    "    if num > max\n",
    "      max = num\n",
    "    end\n",
    "  end\n",
    "  max\n",
    "end"
   ]
  },
  {
   "cell_type": "markdown",
   "metadata": {},
   "source": [
    "which can now handle any array with any subtype of `Real`."
   ]
  },
  {
   "cell_type": "code",
   "execution_count": 10,
   "metadata": {},
   "outputs": [
    {
     "data": {
      "text/plain": [
       "7"
      ]
     },
     "execution_count": 10,
     "metadata": {},
     "output_type": "execute_result"
    }
   ],
   "source": [
    "findMax([-3,2,4,7,5])"
   ]
  },
  {
   "cell_type": "code",
   "execution_count": 11,
   "metadata": {},
   "outputs": [
    {
     "data": {
      "text/plain": [
       "Vector{Int64}\u001b[90m (alias for \u001b[39m\u001b[90mArray{Int64, 1}\u001b[39m\u001b[90m)\u001b[39m"
      ]
     },
     "execution_count": 11,
     "metadata": {},
     "output_type": "execute_result"
    }
   ],
   "source": [
    "typeof([-3,2,4,7,5])"
   ]
  },
  {
   "cell_type": "code",
   "execution_count": 12,
   "metadata": {},
   "outputs": [
    {
     "data": {
      "text/plain": [
       "3.141592653589793"
      ]
     },
     "execution_count": 12,
     "metadata": {},
     "output_type": "execute_result"
    }
   ],
   "source": [
    "findMax([pi,1.0,-6.3, 6/8])"
   ]
  },
  {
   "cell_type": "code",
   "execution_count": 13,
   "metadata": {},
   "outputs": [
    {
     "data": {
      "text/plain": [
       "9"
      ]
     },
     "execution_count": 13,
     "metadata": {},
     "output_type": "execute_result"
    }
   ],
   "source": [
    "findMax([big(3),big(9)])"
   ]
  },
  {
   "cell_type": "code",
   "execution_count": 14,
   "metadata": {},
   "outputs": [
    {
     "data": {
      "text/plain": [
       "6//7"
      ]
     },
     "execution_count": 14,
     "metadata": {},
     "output_type": "execute_result"
    }
   ],
   "source": [
    "findMax([6//7, -99//8, 4//5])"
   ]
  },
  {
   "cell_type": "code",
   "execution_count": null,
   "metadata": {},
   "outputs": [],
   "source": []
  }
 ],
 "metadata": {
  "kernelspec": {
   "display_name": "Julia 1.8.2",
   "language": "julia",
   "name": "julia-1.8"
  },
  "language_info": {
   "file_extension": ".jl",
   "mimetype": "application/julia",
   "name": "julia",
   "version": "1.8.2"
  }
 },
 "nbformat": 4,
 "nbformat_minor": 4
}
