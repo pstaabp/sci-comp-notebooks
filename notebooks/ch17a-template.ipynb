{
 "cells": [
  {
   "cell_type": "markdown",
   "id": "2ced84c6-6c85-4118-a43d-be90a74f810f",
   "metadata": {},
   "source": [
    "# Chapter 17a - supplement: Advanced composite types"
   ]
  },
  {
   "cell_type": "markdown",
   "id": "59a45225-8487-4f45-8ed2-fb5bd0e0d900",
   "metadata": {},
   "source": [
    "There are some additional information that is helpful to know about types.  We will cover the difference between inner and outer constructors as well as parametric types in more detail."
   ]
  },
  {
   "cell_type": "markdown",
   "id": "49c89b0b-3187-4acc-9ee1-a7aee31232bf",
   "metadata": {},
   "source": [
    "## 17.X inner and outer constructors\n",
    "So far, we have only talked about inner constructors.  Let's return to the example of Cards.  The following uses only inner constructors:"
   ]
  },
  {
   "cell_type": "code",
   "execution_count": 1,
   "id": "d1642009-27f8-4a01-a5f8-bc18304f77c6",
   "metadata": {},
   "outputs": [],
   "source": [
    "struct Card\n",
    "  rank::Int\n",
    "  suit::Int\n",
    "\n",
    "  # construct a card based on the rank and suit\n",
    "  function Card(r::Int,s::Int)\n",
    "    1 <= r <=13  || throw(ArgumentError(\"The rank must be an integer between 1 and 13.\"))\n",
    "    1 <= s <= 4  || throw(ArgumentError(\"The suit must be an integer between 1 and 4.\"))\n",
    "    new(r,s)\n",
    "  end\n",
    "\n",
    "  # construct a card based on the number in a deck\n",
    "  function Card(i::Int)\n",
    "    1 <= i <= 52 || throw(ArgumentError(\"The argument must be an integer between 1 and 52\"))\n",
    "    i%13==0 ? new(13,div(i,13)) : new(i%13,div(i,13)+1)\n",
    "  end\n",
    "end"
   ]
  },
  {
   "cell_type": "markdown",
   "id": "7c18ce58-4c3f-431c-b943-1e8686c4db45",
   "metadata": {},
   "source": [
    "First, notice that both of the functions have the same name as the struct.  This makes them constructor functions.  Since they are both inside the struct, they are *inner constructors*.  The following would be the same with *outer construtors*"
   ]
  },
  {
   "cell_type": "code",
   "execution_count": 12,
   "id": "8d03b506-d608-4fdc-8b44-578f3586076a",
   "metadata": {},
   "outputs": [
    {
     "data": {
      "text/plain": [
       "Card2"
      ]
     },
     "execution_count": 12,
     "metadata": {},
     "output_type": "execute_result"
    }
   ],
   "source": [
    "struct Card2\n",
    "  rank::Int\n",
    "  suit::Int\n",
    "end\n",
    "\n",
    "# construct a card based on the rank and suit\n",
    "function Card2(r::Int,s::Int)\n",
    "  1 <= r <=13  || throw(ArgumentError(\"The rank must be an integer between 1 and 13.\"))\n",
    "  1 <= s <= 4  || throw(ArgumentError(\"The suit must be an integer between 1 and 4.\"))\n",
    "  new(r,s)\n",
    "end\n",
    "\n",
    "# construct a card based on the number in a deck\n",
    "function Card2(i::Int)\n",
    "  1 <= i <= 52 || throw(ArgumentError(\"The argument must be an integer between 1 and 52\"))\n",
    "  i%13==0 ? Card2(13,div(i,13)) : Card2(i%13,div(i,13)+1)\n",
    "end"
   ]
  },
  {
   "cell_type": "markdown",
   "id": "c059ae78-d8d9-4954-ac41-1eaca571a69c",
   "metadata": {},
   "source": [
    "Notice that for outer constructors you can't use the `new` function, but instead, use the name of the `struct`."
   ]
  },
  {
   "cell_type": "code",
   "execution_count": 13,
   "id": "3c657a59-ec09-4c78-bb37-e5549bc2a9c1",
   "metadata": {},
   "outputs": [
    {
     "ename": "LoadError",
     "evalue": "UndefVarError: new not defined",
     "output_type": "error",
     "traceback": [
      "UndefVarError: new not defined",
      "",
      "Stacktrace:",
      " [1] Card2(r::Int64, s::Int64)",
      "   @ Main ./In[12]:10",
      " [2] top-level scope",
      "   @ In[13]:1",
      " [3] eval",
      "   @ ./boot.jl:368 [inlined]",
      " [4] include_string(mapexpr::typeof(REPL.softscope), mod::Module, code::String, filename::String)",
      "   @ Base ./loading.jl:1428"
     ]
    }
   ],
   "source": [
    "Card2(3,4)"
   ]
  },
  {
   "cell_type": "code",
   "execution_count": 11,
   "id": "cb67ff1e-5aa0-480f-a554-e696960c25b5",
   "metadata": {},
   "outputs": [
    {
     "ename": "LoadError",
     "evalue": "StackOverflowError:",
     "output_type": "error",
     "traceback": [
      "StackOverflowError:",
      "",
      "Stacktrace:",
      " [1] Card2(r::Int64, s::Int64)",
      "   @ Main ./In[9]:7"
     ]
    }
   ],
   "source": [
    "Card2(45)"
   ]
  },
  {
   "cell_type": "markdown",
   "id": "7ea0776d-ac43-4034-8857-d7f37c05d65b",
   "metadata": {},
   "source": [
    "And you can mix and match these as well."
   ]
  },
  {
   "cell_type": "code",
   "execution_count": 14,
   "id": "99b29938-8991-4c3a-9997-ad626a1d5da5",
   "metadata": {},
   "outputs": [
    {
     "data": {
      "text/plain": [
       "Card3"
      ]
     },
     "execution_count": 14,
     "metadata": {},
     "output_type": "execute_result"
    }
   ],
   "source": [
    "struct Card3\n",
    "  rank::Int\n",
    "  suit::Int\n",
    "\n",
    "\n",
    "  # construct a card based on the rank and suit\n",
    "  function Card3(r::Int,s::Int)\n",
    "    1 <= r <=13  || throw(ArgumentError(\"The rank must be an integer between 1 and 13.\"))\n",
    "    1 <= s <= 4  || throw(ArgumentError(\"The suit must be an integer between 1 and 4.\"))\n",
    "    new(r,s)\n",
    "  end\n",
    "end\n",
    "\n",
    "# construct a card based on the number in a deck\n",
    "function Card3(i::Int)\n",
    "  1 <= i <= 52 || throw(ArgumentError(\"The argument must be an integer between 1 and 52\"))\n",
    "  i%13==0 ? Card3(13,div(i,13)) : Card3(i%13,div(i,13)+1)\n",
    "end"
   ]
  },
  {
   "cell_type": "code",
   "execution_count": 15,
   "id": "f076ddc1-2576-4796-9825-2744bb528d57",
   "metadata": {},
   "outputs": [
    {
     "data": {
      "text/plain": [
       "Card3(3, 4)"
      ]
     },
     "execution_count": 15,
     "metadata": {},
     "output_type": "execute_result"
    }
   ],
   "source": [
    "Card3(3,4)"
   ]
  },
  {
   "cell_type": "code",
   "execution_count": 16,
   "id": "86c02930-d04b-4084-afb9-e9aabf465ebd",
   "metadata": {},
   "outputs": [
    {
     "data": {
      "text/plain": [
       "Card3(6, 4)"
      ]
     },
     "execution_count": 16,
     "metadata": {},
     "output_type": "execute_result"
    }
   ],
   "source": [
    "Card3(45)"
   ]
  },
  {
   "cell_type": "markdown",
   "id": "548da127-151f-45f4-8a35-6fc959232863",
   "metadata": {},
   "source": [
    "### When to use an inner versus outer constructor?\n",
    "In these example, it seems like it doesn't matter if your using inner or outer constructors.  However, if you only had the struct in the form:\n",
    "```\n",
    "struct Card\n",
    "  rank::Int\n",
    "  suit::end\n",
    "end\n",
    "```\n",
    "and the outer constructors were not yet defined, you could make a card with `Card(18,4)`, which doesn't make sense (and when trying to print out nicely like we did in Chapter 12 we get an error.  \n",
    "\n",
    "You can use the rule of thumb: if you need to do parameter checking before creating the object, use an inner constructor.  Otherwise, you can do either.\n",
    "\n",
    "### Why not always use inner constructors?\n",
    "\n",
    "A very good question.  Typically when writing your own types (structs), you have control over the code and can do what ever you like.  However, outer constructors allow you to add functionality to existing types (either built-in or from packages.)\n",
    "\n",
    "Consider the example of `Rational` data type.  We usually made them in the form `1//2` with the double `/` but can also make them with the `Rational` constructor. "
   ]
  },
  {
   "cell_type": "code",
   "execution_count": 17,
   "id": "11b18b63-4d96-42fd-8486-0077222256e2",
   "metadata": {},
   "outputs": [
    {
     "data": {
      "text/plain": [
       "1//2"
      ]
     },
     "execution_count": 17,
     "metadata": {},
     "output_type": "execute_result"
    }
   ],
   "source": [
    "1//2"
   ]
  },
  {
   "cell_type": "code",
   "execution_count": 18,
   "id": "bf2b77d8-e865-4c50-af02-52351c2c0a59",
   "metadata": {},
   "outputs": [
    {
     "data": {
      "text/plain": [
       "1//2"
      ]
     },
     "execution_count": 18,
     "metadata": {},
     "output_type": "execute_result"
    }
   ],
   "source": [
    "Rational(1,2)"
   ]
  },
  {
   "cell_type": "code",
   "execution_count": 19,
   "id": "77c9508e-77a7-4445-a684-81c62e0c11ec",
   "metadata": {},
   "outputs": [
    {
     "data": {
      "text/plain": [
       "3//1"
      ]
     },
     "execution_count": 19,
     "metadata": {},
     "output_type": "execute_result"
    }
   ],
   "source": [
    "Rational(3)"
   ]
  },
  {
   "cell_type": "code",
   "execution_count": 20,
   "id": "ce380e1e-2fad-41fc-a54f-6d79a8611924",
   "metadata": {},
   "outputs": [
    {
     "ename": "LoadError",
     "evalue": "MethodError: no method matching Rational()\n\u001b[0mClosest candidates are:\n\u001b[0m  (::Type{T})(\u001b[91m::AbstractChar\u001b[39m) where T<:Union{AbstractChar, Number} at char.jl:50\n\u001b[0m  (::Type{T})(\u001b[91m::Base.TwicePrecision\u001b[39m) where T<:Number at twiceprecision.jl:266\n\u001b[0m  (::Type{T})(\u001b[91m::Complex\u001b[39m) where T<:Real at complex.jl:44\n\u001b[0m  ...",
     "output_type": "error",
     "traceback": [
      "MethodError: no method matching Rational()\n\u001b[0mClosest candidates are:\n\u001b[0m  (::Type{T})(\u001b[91m::AbstractChar\u001b[39m) where T<:Union{AbstractChar, Number} at char.jl:50\n\u001b[0m  (::Type{T})(\u001b[91m::Base.TwicePrecision\u001b[39m) where T<:Number at twiceprecision.jl:266\n\u001b[0m  (::Type{T})(\u001b[91m::Complex\u001b[39m) where T<:Real at complex.jl:44\n\u001b[0m  ...",
      "",
      "Stacktrace:",
      " [1] top-level scope",
      "   @ In[20]:1",
      " [2] eval",
      "   @ ./boot.jl:368 [inlined]",
      " [3] include_string(mapexpr::typeof(REPL.softscope), mod::Module, code::String, filename::String)",
      "   @ Base ./loading.jl:1428"
     ]
    }
   ],
   "source": [
    "Rational()"
   ]
  },
  {
   "cell_type": "markdown",
   "id": "e8298f55-c5f2-4f8f-aa1d-d2d50b0f8d8e",
   "metadata": {},
   "source": [
    "Probably the empty constructor should have an error, but let's say we want to make the empty one be the rational number 0"
   ]
  },
  {
   "cell_type": "code",
   "execution_count": 21,
   "id": "cfd8724f-5cb0-4b94-b04e-fec6cd4a7f85",
   "metadata": {},
   "outputs": [
    {
     "data": {
      "text/plain": [
       "Rational"
      ]
     },
     "execution_count": 21,
     "metadata": {},
     "output_type": "execute_result"
    }
   ],
   "source": [
    "Rational() = Rational(0,1)"
   ]
  },
  {
   "cell_type": "code",
   "execution_count": 22,
   "id": "21fe8314-8e30-44c1-adb9-93ce229a8991",
   "metadata": {},
   "outputs": [
    {
     "data": {
      "text/plain": [
       "0//1"
      ]
     },
     "execution_count": 22,
     "metadata": {},
     "output_type": "execute_result"
    }
   ],
   "source": [
    "Rational()"
   ]
  },
  {
   "cell_type": "markdown",
   "id": "a481f07c-098a-42b8-bdd1-136937ac5f44",
   "metadata": {},
   "source": [
    "## 17.x2 Parametric Types\n",
    "\n",
    "We have seen parametric data types before with the `Polynomial` struct from Chapter 12. We now extend this idea."
   ]
  },
  {
   "cell_type": "code",
   "execution_count": 1,
   "id": "40c3b6df-2ee0-4605-99d3-84006f921be9",
   "metadata": {},
   "outputs": [],
   "source": [
    "struct Point2D{T <: Real}\n",
    "  x::T\n",
    "  y::T\n",
    "end"
   ]
  },
  {
   "cell_type": "code",
   "execution_count": 2,
   "id": "fff79db6-6fea-441c-ba3e-8f2cca1c607b",
   "metadata": {},
   "outputs": [
    {
     "data": {
      "text/plain": [
       "Point2D{Int64}(1, 1)"
      ]
     },
     "execution_count": 2,
     "metadata": {},
     "output_type": "execute_result"
    }
   ],
   "source": [
    "Point2D(1,1)"
   ]
  },
  {
   "cell_type": "code",
   "execution_count": 3,
   "id": "ed7e7d4b-67cc-4910-b3e1-5b9ae2480a30",
   "metadata": {
    "tags": []
   },
   "outputs": [
    {
     "data": {
      "text/plain": [
       "Point2D{Float64}(1.0, 2.5)"
      ]
     },
     "execution_count": 3,
     "metadata": {},
     "output_type": "execute_result"
    }
   ],
   "source": [
    "Point2D(1.0,2.5)"
   ]
  },
  {
   "cell_type": "code",
   "execution_count": 4,
   "id": "10680a4d-2616-468b-8146-6e4569bb3072",
   "metadata": {},
   "outputs": [
    {
     "data": {
      "text/plain": [
       "Point2D{Rational{Int64}}(11//2, 3//2)"
      ]
     },
     "execution_count": 4,
     "metadata": {},
     "output_type": "execute_result"
    }
   ],
   "source": [
    "Point2D(11//2,6//4)"
   ]
  },
  {
   "cell_type": "code",
   "execution_count": 5,
   "id": "f84f1a8d-7490-45f2-992e-60d111f55e59",
   "metadata": {},
   "outputs": [
    {
     "ename": "LoadError",
     "evalue": "MethodError: no method matching Point2D(::Int64, ::Float64)\n\u001b[0mClosest candidates are:\n\u001b[0m  Point2D(::T, \u001b[91m::T\u001b[39m) where T<:Real at In[1]:2",
     "output_type": "error",
     "traceback": [
      "MethodError: no method matching Point2D(::Int64, ::Float64)\n\u001b[0mClosest candidates are:\n\u001b[0m  Point2D(::T, \u001b[91m::T\u001b[39m) where T<:Real at In[1]:2",
      "",
      "Stacktrace:",
      " [1] top-level scope",
      "   @ In[5]:1",
      " [2] eval",
      "   @ ./boot.jl:368 [inlined]",
      " [3] include_string(mapexpr::typeof(REPL.softscope), mod::Module, code::String, filename::String)",
      "   @ Base ./loading.jl:1428"
     ]
    }
   ],
   "source": [
    "Point2D(1,1.5)"
   ]
  },
  {
   "cell_type": "markdown",
   "id": "567ea5f8-3871-4d22-bb8e-f9efe5875841",
   "metadata": {},
   "source": [
    "The problem with this struct is that the way we have defined it that both coordinates need to be the same type and once we mix types, then we have a problem. We'll fix this with a constructor.  \n",
    "\n",
    "Let's switch over to a file now to fix this.  "
   ]
  },
  {
   "cell_type": "code",
   "execution_count": 1,
   "id": "3e19a1b0-0e51-48cd-a73a-bc69a94ad201",
   "metadata": {},
   "outputs": [],
   "source": [
    "using Revise"
   ]
  },
  {
   "cell_type": "code",
   "execution_count": 2,
   "id": "399418bf-e910-4a92-b96e-69e7ffdcfee8",
   "metadata": {},
   "outputs": [],
   "source": [
    "includet(\"Points.jl\")\n",
    "using .Points"
   ]
  },
  {
   "cell_type": "code",
   "execution_count": 3,
   "id": "99dd02f1-2277-46ae-bb3d-9d75bcc4523b",
   "metadata": {},
   "outputs": [
    {
     "data": {
      "text/plain": [
       "Point2D{Int64}(1, 1)"
      ]
     },
     "execution_count": 3,
     "metadata": {},
     "output_type": "execute_result"
    }
   ],
   "source": [
    "Point2D(1,1)"
   ]
  },
  {
   "cell_type": "code",
   "execution_count": 14,
   "id": "4b81edd3-c834-4040-bde6-1acf312bdbe2",
   "metadata": {},
   "outputs": [
    {
     "data": {
      "text/plain": [
       "Point2D{Float64}(1.0, 1.5)"
      ]
     },
     "execution_count": 14,
     "metadata": {},
     "output_type": "execute_result"
    }
   ],
   "source": [
    "Point2D(1,1.5)"
   ]
  },
  {
   "cell_type": "code",
   "execution_count": 15,
   "id": "1d36b0c8-0828-44db-af28-fb46749976e7",
   "metadata": {},
   "outputs": [
    {
     "data": {
      "text/plain": [
       "Point2D{Rational{Int64}}(1//1, 3//2)"
      ]
     },
     "execution_count": 15,
     "metadata": {},
     "output_type": "execute_result"
    }
   ],
   "source": [
    "Point2D(1,3//2)"
   ]
  },
  {
   "cell_type": "code",
   "execution_count": 16,
   "id": "4d33ad1f-107d-465e-ac03-f80ce6f5aa56",
   "metadata": {},
   "outputs": [
    {
     "data": {
      "text/plain": [
       "Point2D{Float64}(2.75, 1.5)"
      ]
     },
     "execution_count": 16,
     "metadata": {},
     "output_type": "execute_result"
    }
   ],
   "source": [
    "Point2D(33//12,1.5)"
   ]
  },
  {
   "cell_type": "code",
   "execution_count": 7,
   "id": "df6befad-957d-4f14-b9ea-3fa4a3501138",
   "metadata": {},
   "outputs": [
    {
     "data": {
      "text/plain": [
       "4.25"
      ]
     },
     "execution_count": 7,
     "metadata": {},
     "output_type": "execute_result"
    }
   ],
   "source": [
    "33//12+1.5"
   ]
  },
  {
   "cell_type": "code",
   "execution_count": null,
   "id": "f0f5e062-8f68-4ac4-b810-cf17a99a6e71",
   "metadata": {},
   "outputs": [],
   "source": []
  }
 ],
 "metadata": {
  "kernelspec": {
   "display_name": "Julia 1.8.2",
   "language": "julia",
   "name": "julia-1.8"
  },
  "language_info": {
   "file_extension": ".jl",
   "mimetype": "application/julia",
   "name": "julia",
   "version": "1.8.2"
  }
 },
 "nbformat": 4,
 "nbformat_minor": 5
}
