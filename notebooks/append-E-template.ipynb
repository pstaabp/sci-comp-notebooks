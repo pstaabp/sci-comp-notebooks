{
 "cells": [
  {
   "cell_type": "markdown",
   "metadata": {},
   "source": [
    "## Appendix E: HTTP requests"
   ]
  },
  {
   "cell_type": "markdown",
   "metadata": {},
   "source": [
    "Due to the nature of the interoperation of websites currently, often the easiest way to fetch data or other information is via HTTP requests, which is the backbone of the internet.  We will use the `HTTP` package here, which is incredibly powerful, including the ability to build a simple webserver, however, the point is this is to access information via web API requests. "
   ]
  },
  {
   "cell_type": "code",
   "execution_count": 4,
   "metadata": {},
   "outputs": [],
   "source": [
    "using HTTP,JSON"
   ]
  },
  {
   "cell_type": "markdown",
   "metadata": {},
   "source": [
    "Here's a webserver that provides some simple API requests.  You may want to visit [http://httpbin.org](http:/httpbin.org) to see what it is capable of:"
   ]
  },
  {
   "cell_type": "code",
   "execution_count": 37,
   "metadata": {},
   "outputs": [
    {
     "data": {
      "text/plain": [
       "HTTP.Messages.Response:\n",
       "\"\"\"\n",
       "HTTP/1.1 200 OK\r\n",
       "Date: Sun, 29 Nov 2020 22:02:32 GMT\r\n",
       "Content-Type: text/html; charset=utf-8\r\n",
       "Content-Length: 9593\r\n",
       "Connection: keep-alive\r\n",
       "Server: gunicorn/19.9.0\r\n",
       "Access-Control-Allow-Origin: *\r\n",
       "Access-Control-Allow-Credentials: true\r\n",
       "\r\n",
       "<!DOCTYPE html>\n",
       "<html lang=\"en\">\n",
       "\n",
       "<head>\n",
       "    <meta charset=\"UTF-8\">\n",
       "    <title>httpbin.org</title>\n",
       "    <link href=\"https://fonts.googleapis.com/css?family=Open+Sans:400,700|Source+Code+Pro:300,600|Titillium+Web:400,600,700\"\n",
       "        rel=\"stylesheet\">\n",
       "    <link rel=\"stylesheet\" type=\"text/css\" href=\"/flasgger_static/swagger-ui.css\">\n",
       "    <link rel=\"icon\" type=\"image/png\" href=\"/static/favicon.ico\" sizes=\"64x64 32x32 16x16\" />\n",
       "    <style>\n",
       "        html {\n",
       "            box-sizing: border-box;\n",
       "            overflow: -moz-scrollbars-vertical;\n",
       "            overflow-y: scroll;\n",
       "        }\n",
       "\n",
       "        *,\n",
       "        *:before,\n",
       "        *:after {\n",
       "            box-sizing: inherit;\n",
       "        }\n",
       "\n",
       "        body {\n",
       "            margin: 0;\n",
       "            background: #fafafa;\n",
       "        }\n",
       "    </style>\n",
       "</head>\n",
       "\n",
       "<body>\n",
       "    <a href=\"https://github.com/requests/httpbin\" class=\"github-corner\" aria-label=\"View source on Github\">\n",
       "        <svg width=\"80\" height=\"80\" viewBox=\"0 0 250 250\" style=\"fill:#151513; color:#fff; position: absolute;\n",
       "⋮\n",
       "9593-byte body\n",
       "\"\"\""
      ]
     },
     "execution_count": 37,
     "metadata": {},
     "output_type": "execute_result"
    }
   ],
   "source": [
    "response = HTTP.request(\"GET\",\"http://httpbin.org\")"
   ]
  },
  {
   "cell_type": "markdown",
   "metadata": {},
   "source": [
    "The result is a: "
   ]
  },
  {
   "cell_type": "code",
   "execution_count": 38,
   "metadata": {},
   "outputs": [
    {
     "data": {
      "text/plain": [
       "HTTP.Messages.Response"
      ]
     },
     "execution_count": 38,
     "metadata": {},
     "output_type": "execute_result"
    }
   ],
   "source": [
    "typeof(r)"
   ]
  },
  {
   "cell_type": "markdown",
   "metadata": {},
   "source": [
    "Which stores the status, body, headers, "
   ]
  },
  {
   "cell_type": "code",
   "execution_count": 39,
   "metadata": {},
   "outputs": [
    {
     "data": {
      "text/plain": [
       "200"
      ]
     },
     "execution_count": 39,
     "metadata": {},
     "output_type": "execute_result"
    }
   ],
   "source": [
    "r.status"
   ]
  },
  {
   "cell_type": "markdown",
   "metadata": {},
   "source": [
    "This is the HTTP status of the response.  200 is normal"
   ]
  },
  {
   "cell_type": "code",
   "execution_count": 40,
   "metadata": {},
   "outputs": [
    {
     "data": {
      "text/plain": [
       "7-element Array{Pair{SubString{String},SubString{String}},1}:\n",
       "                             \"Date\" => \"Sun, 29 Nov 2020 16:43:01 GMT\"\n",
       "                     \"Content-Type\" => \"text/html; charset=utf-8\"\n",
       "                   \"Content-Length\" => \"9593\"\n",
       "                       \"Connection\" => \"keep-alive\"\n",
       "                           \"Server\" => \"gunicorn/19.9.0\"\n",
       "      \"Access-Control-Allow-Origin\" => \"*\"\n",
       " \"Access-Control-Allow-Credentials\" => \"true\""
      ]
     },
     "execution_count": 40,
     "metadata": {},
     "output_type": "execute_result"
    }
   ],
   "source": [
    "r.headers"
   ]
  },
  {
   "cell_type": "markdown",
   "metadata": {},
   "source": [
    "This has information about content type and other info.  The meat of this is in the `response.body`"
   ]
  },
  {
   "cell_type": "code",
   "execution_count": 41,
   "metadata": {},
   "outputs": [
    {
     "data": {
      "text/plain": [
       "9593-element Array{UInt8,1}:\n",
       " 0x3c\n",
       " 0x21\n",
       " 0x44\n",
       " 0x4f\n",
       " 0x43\n",
       " 0x54\n",
       " 0x59\n",
       " 0x50\n",
       " 0x45\n",
       " 0x20\n",
       " 0x68\n",
       " 0x74\n",
       " 0x6d\n",
       "    ⋮\n",
       " 0x64\n",
       " 0x79\n",
       " 0x3e\n",
       " 0x0a\n",
       " 0x0a\n",
       " 0x3c\n",
       " 0x2f\n",
       " 0x68\n",
       " 0x74\n",
       " 0x6d\n",
       " 0x6c\n",
       " 0x3e"
      ]
     },
     "execution_count": 41,
     "metadata": {},
     "output_type": "execute_result"
    }
   ],
   "source": [
    "response.body"
   ]
  },
  {
   "cell_type": "markdown",
   "metadata": {},
   "source": [
    "which is quite unhelpful, until you turn this into a string:"
   ]
  },
  {
   "cell_type": "code",
   "execution_count": 42,
   "metadata": {},
   "outputs": [
    {
     "data": {
      "text/plain": [
       "\"<!DOCTYPE html>\\n<html lang=\\\"en\\\">\\n\\n<head>\\n    <meta charset=\\\"UTF-8\\\">\\n    <title>httpbin.org</title>\\n    <link href=\\\"https://fonts.googleapis.com/css?family=Open+Sans:400,700|Source+Code+Pro:300,600|Titillium+Web:400,600,700\\\"\\n        rel=\\\"stylesheet\\\">\\n    <link rel=\\\"stylesheet\\\" type=\\\"text/css\\\" href=\\\"/flasgger_static/swagger-ui.css\\\">\\n    <link rel=\\\"icon\\\" type=\\\"image/png\\\" href=\\\"/static/favicon.ico\\\" sizes=\\\"64x64 32x32 16x16\\\" />\\n    <style>\\n        html {\\n            box-sizing: border-box;\\n            overflow: -moz-scrollbars-vertical;\\n            overflow-y: scroll;\\n        }\\n\\n        *,\\n        *:before,\\n        *:after {\\n            box-sizing: inherit;\\n        }\\n\\n        body {\\n            margin: 0;\\n            background: #fafafa;\\n        }\\n    </style>\\n</head>\\n\\n<body>\\n    <a href=\\\"https://github.com/requests/httpbin\\\" class=\\\"github-corner\\\" aria-label=\\\"View source on Github\\\">\\n        <svg width=\\\"80\\\" height=\\\"80\\\" viewBox=\\\"0 0 250 250\\\" style=\\\"fill:#151513; color:#fff; position: absolute; top: 0; border: 0; right: 0;\\\"\\n            aria-hidden=\\\"true\\\">\\n            <path d=\\\"M0,0 L115,115 L130,115 L142,142 L250,250 L250,0 Z\\\"></path>\\n            <path d=\\\"M128.3,109.0 C113.8,99.7 119.0,89.6 119.0,89.6 C122.0,82.7 120.5,78.6 120.5,78.6 C119.2,72.0 123.4,76.3 123.4,76.3 C127.3,80.9 125.5,87.3 125.5,87.3 C122.9,97.6 130.6,101.9 134.4,103.2\\\"\\n                fill=\\\"currentColor\\\" style=\\\"transform-origin: 130px 106px;\\\" class=\\\"octo-arm\\\"></path>\\n            <path d=\\\"M115.0,115.0 C114.9,115.1 118.7,116.5 119.8,115.4 L133.7,101.6 C136.9,99.2 139.9,98.4 142.2,98.6 C133.8,88.0 127.5,74.4 143.8,58.0 C148.5,53.4 154.0,51.2 159.7,51.0 C160.3,49.4 163.2,43.6 171.4,40.1 C171.4,40.1 176.1,42.5 178.8,56.2 C183.1,58.6 187.2,61.8 190.9,65.4 C194.5,69.0 197.7,73.2 200.1,77.6 C213.8,80.2 216.3,84.9 216.3,84.9 C212.7,93.1 206.9,96.0 205.4,96.6 C205.1,102.4 203.0,107.8 198.3,112.5 C181.9,128.9 168.3,122.5 157.7,114.1 C157.9,116.9 156.7,120.9 152.7,124.9 L141.0,136.5 C139.8,137.7 141.6,141.9 141.8,141.8 Z\\\"\\n                fill=\\\"currentColor\\\" class=\\\"octo-body\\\"></path>\\n        </svg>\\n    </a>\\n    <svg xmlns=\\\"http://www.w3.org/2000/svg\\\" xmlns:xlink=\\\"http://www.w3.org/1999/xlink\\\" style=\\\"position:absolute;width:0;height:0\\\">\\n        <defs>\\n            <symbol viewBox=\\\"0 0 20 20\\\" id=\\\"unlocked\\\">\\n                <path d=\\\"M15.8 8H14V5.6C14 2.703 12.665 1 10 1 7.334 1 6 2.703 6 5.6V6h2v-.801C8 3.754 8.797 3 10 3c1.203 0 2 .754 2 2.199V8H4c-.553 0-1 .646-1 1.199V17c0 .549.428 1.139.951 1.307l1.197.387C5.672 18.861 6.55 19 7.1 19h5.8c.549 0 1.428-.139 1.951-.307l1.196-.387c.524-.167.953-.757.953-1.306V9.199C17 8.646 16.352 8 15.8 8z\\\"></path>\\n            </symbol>\\n\\n            <symbol viewBox=\\\"0 0 20 20\\\" id=\\\"locked\\\">\\n                <path d=\\\"M15.8 8H14V5.6C14 2.703 12.665 1 10 1 7.334 1 6 2.703 6 5.6V8H4c-.553 0-1 .646-1 1.199V17c0 .549.428 1.139.951 1.307l1.197.387C5.672 18.861 6.55 19 7.1 19h5.8c.549 0 1.428-.139 1.951-.307l1.196-.387c.524-.167.953-.757.953-1.306V9.199C17 8.646 16.352 8 15.8 8zM12 8H8V5.199C8 3.754 8.797 3 10 3c1.203 0 2 .754 2 2.199V8z\\\"\\n                />\\n            </symbol>\\n\\n            <symbol viewBox=\\\"0 0 20 20\\\" id=\\\"close\\\">\\n                <path d=\\\"M14.348 14.849c-.469.469-1.229.469-1.697 0L10 11.819l-2.651 3.029c-.469.469-1.229.469-1.697 0-.469-.469-.469-1.229 0-1.697l2.758-3.15-2.759-3.152c-.469-.469-.469-1.228 0-1.697.469-.469 1.228-.469 1.697 0L10 8.183l2.651-3.031c.469-.469 1.228-.469 1.697 0 .469.469.469 1.229 0 1.697l-2.758 3.152 2.758 3.15c.469.469.469 1.229 0 1.698z\\\"\\n                />\\n            </symbol>\\n\\n            <symbol viewBox=\\\"0 0 20 20\\\" id=\\\"large-arrow\\\">\\n                <path d=\\\"M13.25 10L6.109 2.58c-.268-.27-.268-.707 0-.979.268-.27.701-.27.969 0l7.83 7.908c.268.271.268.709 0 .979l-7.83 7.908c-.268.271-.701.27-.969 0-.268-.269-.268-.707 0-.979L13.25 10z\\\"\\n                />\\n            </symbol>\\n\\n            <symbol viewBox=\\\"0 0 20 20\\\" id=\\\"large-arrow-down\\\">\\n                <path d=\\\"M17.418 6.109c.272-.268.709-.268.979 0s.271.701 0 .969l-7.908 7.83c-.27.268-.707.268-.979 0l-7.908-7.83c-.27-.268-.27-.701 0-.969.271-.268.709-.268.979 0L10 13.25l7.418-7.141z\\\"\\n                />\\n            </symbol>\\n\\n\\n            <symbol viewBox=\\\"0 0 24 24\\\" id=\\\"jump-to\\\">\\n                <path d=\\\"M19 7v4H5.83l3.58-3.59L8 6l-6 6 6 6 1.41-1.41L5.83 13H21V7z\\\" />\\n            </symbol>\\n\\n            <symbol viewBox=\\\"0 0 24 24\\\" id=\\\"expand\\\">\\n                <path d=\\\"M10 18h4v-2h-4v2zM3 6v2h18V6H3zm3 7h12v-2H6v2z\\\" />\\n            </symbol>\\n\\n        </defs>\\n    </svg>\\n\\n\\n    <div id=\\\"swagger-ui\\\">\\n        <div data-reactroot=\\\"\\\" class=\\\"swagger-ui\\\">\\n            <div>\\n                <div class=\\\"information-container wrapper\\\">\\n                    <section class=\\\"block col-12\\\">\\n                        <div class=\\\"info\\\">\\n                            <hgroup class=\\\"main\\\">\\n                                <h2 class=\\\"title\\\">httpbin.org\\n                                    <small>\\n                                        <pre class=\\\"version\\\">0.9.2</pre>\\n                                    </small>\\n                                </h2>\\n                                <pre class=\\\"base-url\\\">[ Base URL: httpbin.org/ ]</pre>\\n                            </hgroup>\\n                            <div class=\\\"description\\\">\\n                                <div class=\\\"markdown\\\">\\n                                    <p>A simple HTTP Request &amp; Response Service.\\n                                        <br>\\n                                        <br>\\n                                        <b>Run locally: </b>\\n                                        <code>\\$ docker run -p 80:80 kennethreitz/httpbin</code>\\n                                    </p>\\n                                </div>\\n                            </div>\\n                            <div>\\n                                <div>\\n                                    <a href=\\\"https://kennethreitz.org\\\" target=\\\"_blank\\\">the developer - Website</a>\\n                                </div>\\n                                <a href=\\\"mailto:me@kennethreitz.org\\\">Send email to the developer</a>\\n                            </div>\\n                        </div>\\n                        <!-- ADDS THE LOADER SPINNER -->\\n                        <div class=\\\"loading-container\\\">\\n                            <div class=\\\"loading\\\"></div>\\n                        </div>\\n\\n                    </section>\\n                </div>\\n            </div>\\n        </div>\\n    </div>\\n\\n\\n    <div class='swagger-ui'>\\n        <div class=\\\"wrapper\\\">\\n            <section class=\\\"clear\\\">\\n                <span style=\\\"float: right;\\\">\\n                    [Powered by\\n                    <a target=\\\"_blank\\\" href=\\\"https://github.com/rochacbruno/flasgger\\\">Flasgger</a>]\\n                    <br>\\n                </span>\\n            </section>\\n        </div>\\n    </div>\\n\\n\\n\\n    <script src=\\\"/flasgger_static/swagger-ui-bundle.js\\\"> </script>\\n    <script src=\\\"/flasgger_static/swagger-ui-standalone-preset.js\\\"> </script>\\n    <script src='/flasgger_static/lib/jquery.min.js' type='text/javascript'></script>\\n    <script>\\n\\n        window.onload = function () {\\n            \\n\\n            fetch(\\\"/spec.json\\\")\\n                .then(function (response) {\\n                    response.json()\\n                        .then(function (json) {\\n                            var current_protocol = window.location.protocol.slice(0, -1);\\n                            if (json.schemes[0] != current_protocol) {\\n                                // Switches scheme to the current in use\\n                                var other_protocol = json.schemes[0];\\n                                json.schemes[0] = current_protocol;\\n                                json.schemes[1] = other_protocol;\\n\\n                            }\\n                            json.host = window.location.host;  // sets the current host\\n\\n                            const ui = SwaggerUIBundle({\\n                                spec: json,\\n                                validatorUrl: null,\\n                                dom_id: '#swagger-ui',\\n                                deepLinking: true,\\n                                jsonEditor: true,\\n                                docExpansion: \\\"none\\\",\\n                                apisSorter: \\\"alpha\\\",\\n                                //operationsSorter: \\\"alpha\\\",\\n                                presets: [\\n                                    SwaggerUIBundle.presets.apis,\\n                                    // yay ES6 modules ↘\\n                                    Array.isArray(SwaggerUIStandalonePreset) ? SwaggerUIStandalonePreset : SwaggerUIStandalonePreset.default\\n                                ],\\n                                plugins: [\\n                                    SwaggerUIBundle.plugins.DownloadUrl\\n                                ],\\n            \\n            // layout: \\\"StandaloneLayout\\\"  // uncomment to enable the green top header\\n        })\\n\\n        window.ui = ui\\n\\n        // uncomment to rename the top brand if layout is enabled\\n        // \\$(\\\".topbar-wrapper .link span\\\").replaceWith(\\\"<span>httpbin</span>\\\");\\n        })\\n    })\\n}\\n    </script>  <div class='swagger-ui'>\\n    <div class=\\\"wrapper\\\">\\n        <section class=\\\"block col-12 block-desktop col-12-desktop\\\">\\n            <div>\\n\\n                <h2>Other Utilities</h2>\\n\\n                <ul>\\n                    <li>\\n                        <a href=\\\"/forms/post\\\">HTML form</a> that posts to /post /forms/post</li>\\n                </ul>\\n\\n                <br />\\n                <br />\\n            </div>\\n        </section>\\n    </div>\\n</div>\\n</body>\\n\\n</html>\""
      ]
     },
     "execution_count": 42,
     "metadata": {},
     "output_type": "execute_result"
    }
   ],
   "source": [
    "String(response.body)"
   ]
  },
  {
   "cell_type": "markdown",
   "metadata": {},
   "source": [
    "this is standard HTML, which you could save and then load in a browers (and there may be a way to do this in jupyter lab). "
   ]
  },
  {
   "cell_type": "markdown",
   "metadata": {},
   "source": [
    "However, a more interesting idea with this website is to get information from the webserver.  "
   ]
  },
  {
   "cell_type": "code",
   "execution_count": 43,
   "metadata": {},
   "outputs": [
    {
     "data": {
      "text/plain": [
       "HTTP.Messages.Response:\n",
       "\"\"\"\n",
       "HTTP/1.1 200 OK\r\n",
       "Date: Sun, 29 Nov 2020 22:02:43 GMT\r\n",
       "Content-Type: application/json\r\n",
       "Content-Length: 264\r\n",
       "Connection: keep-alive\r\n",
       "Server: gunicorn/19.9.0\r\n",
       "Access-Control-Allow-Origin: *\r\n",
       "Access-Control-Allow-Credentials: true\r\n",
       "\r\n",
       "{\n",
       "  \"args\": {}, \n",
       "  \"headers\": {\n",
       "    \"Content-Length\": \"0\", \n",
       "    \"Host\": \"httpbin.org\", \n",
       "    \"User-Agent\": \"HTTP.jl/1.5.3\", \n",
       "    \"X-Amzn-Trace-Id\": \"Root=1-5fc41a83-376899777bd8e1035c195b27\"\n",
       "  }, \n",
       "  \"origin\": \"141.154.51.251\", \n",
       "  \"url\": \"https://httpbin.org/get\"\n",
       "}\n",
       "\"\"\""
      ]
     },
     "execution_count": 43,
     "metadata": {},
     "output_type": "execute_result"
    }
   ],
   "source": [
    "req1 = HTTP.request(\"GET\",\"https://httpbin.org/get\")"
   ]
  },
  {
   "cell_type": "markdown",
   "metadata": {},
   "source": [
    "Notice that this time, the `Content-Type` is `application/json`, which is more helpful to programmatically use"
   ]
  },
  {
   "cell_type": "code",
   "execution_count": 44,
   "metadata": {},
   "outputs": [
    {
     "data": {
      "text/plain": [
       "\"{\\n  \\\"args\\\": {}, \\n  \\\"headers\\\": {\\n    \\\"Content-Length\\\": \\\"0\\\", \\n    \\\"Host\\\": \\\"httpbin.org\\\", \\n    \\\"User-Agent\\\": \\\"HTTP.jl/1.5.3\\\", \\n    \\\"X-Amzn-Trace-Id\\\": \\\"Root=1-5fc41a83-376899777bd8e1035c195b27\\\"\\n  }, \\n  \\\"origin\\\": \\\"141.154.51.251\\\", \\n  \\\"url\\\": \\\"https://httpbin.org/get\\\"\\n}\\n\""
      ]
     },
     "execution_count": 44,
     "metadata": {},
     "output_type": "execute_result"
    }
   ],
   "source": [
    "body1 = String(req1.body)"
   ]
  },
  {
   "cell_type": "markdown",
   "metadata": {},
   "source": [
    "which can be parsed:"
   ]
  },
  {
   "cell_type": "code",
   "execution_count": 45,
   "metadata": {},
   "outputs": [
    {
     "data": {
      "text/plain": [
       "Dict{String,Any} with 4 entries:\n",
       "  \"headers\" => Dict{String,Any}(\"Content-Length\"=>\"0\",\"Host\"=>\"httpbin.org\",\"Us…\n",
       "  \"args\"    => Dict{String,Any}()\n",
       "  \"url\"     => \"https://httpbin.org/get\"\n",
       "  \"origin\"  => \"141.154.51.251\""
      ]
     },
     "execution_count": 45,
     "metadata": {},
     "output_type": "execute_result"
    }
   ],
   "source": [
    "JSON.parse(body1)"
   ]
  },
  {
   "cell_type": "code",
   "execution_count": 46,
   "metadata": {},
   "outputs": [
    {
     "data": {
      "text/plain": [
       "HTTP.Messages.Response:\n",
       "\"\"\"\n",
       "HTTP/1.1 200 OK\r\n",
       "Date: Sun, 29 Nov 2020 22:02:50 GMT\r\n",
       "Content-Type: text/html; charset=utf-8\r\n",
       "Content-Length: 18\r\n",
       "Connection: keep-alive\r\n",
       "Server: gunicorn/19.9.0\r\n",
       "Access-Control-Allow-Origin: *\r\n",
       "Access-Control-Allow-Credentials: true\r\n",
       "\r\n",
       "HTTPBIN is awesome\"\"\""
      ]
     },
     "execution_count": 46,
     "metadata": {},
     "output_type": "execute_result"
    }
   ],
   "source": [
    "req2 = HTTP.request(\"GET\",\"https://httpbin.org/base64/SFRUUEJJTiBpcyBhd2Vzb21l\")"
   ]
  },
  {
   "cell_type": "code",
   "execution_count": 47,
   "metadata": {},
   "outputs": [
    {
     "data": {
      "text/plain": [
       "\"HTTPBIN is awesome\""
      ]
     },
     "execution_count": 47,
     "metadata": {},
     "output_type": "execute_result"
    }
   ],
   "source": [
    "String(req2.body)"
   ]
  },
  {
   "cell_type": "markdown",
   "metadata": {},
   "source": [
    "Let's use a `POST` to the server:"
   ]
  },
  {
   "cell_type": "code",
   "execution_count": 59,
   "metadata": {},
   "outputs": [
    {
     "data": {
      "text/plain": [
       "HTTP.Messages.Response:\n",
       "\"\"\"\n",
       "HTTP/1.1 200 OK\r\n",
       "Date: Sun, 29 Nov 2020 22:06:24 GMT\r\n",
       "Content-Type: application/json\r\n",
       "Content-Length: 367\r\n",
       "Connection: keep-alive\r\n",
       "Server: gunicorn/19.9.0\r\n",
       "Access-Control-Allow-Origin: *\r\n",
       "Access-Control-Allow-Credentials: true\r\n",
       "\r\n",
       "{\n",
       "  \"args\": {}, \n",
       "  \"data\": \"{msg: \\\"hi\\\"}\", \n",
       "  \"files\": {}, \n",
       "  \"form\": {}, \n",
       "  \"headers\": {\n",
       "    \"Content-Length\": \"11\", \n",
       "    \"Host\": \"httpbin.org\", \n",
       "    \"User-Agent\": \"HTTP.jl/1.5.3\", \n",
       "    \"X-Amzn-Trace-Id\": \"Root=1-5fc41b60-57b7b76e74f2a5df0dd6c98b\"\n",
       "  }, \n",
       "  \"json\": null, \n",
       "  \"method\": \"POST\", \n",
       "  \"origin\": \"141.154.51.251\", \n",
       "  \"url\": \"https://httpbin.org/anything\"\n",
       "}\n",
       "\"\"\""
      ]
     },
     "execution_count": 59,
     "metadata": {},
     "output_type": "execute_result"
    }
   ],
   "source": [
    "req3 = HTTP.request(\"POST\",\"https://httpbin.org/anything\",[],\"{msg: \\\"hi\\\"}\")"
   ]
  },
  {
   "cell_type": "code",
   "execution_count": 60,
   "metadata": {},
   "outputs": [
    {
     "data": {
      "text/plain": [
       "Dict{String,Any} with 9 entries:\n",
       "  \"headers\" => Dict{String,Any}(\"Content-Length\"=>\"11\",\"Host\"=>\"httpbin.org\",\"U…\n",
       "  \"json\"    => nothing\n",
       "  \"method\"  => \"POST\"\n",
       "  \"files\"   => Dict{String,Any}()\n",
       "  \"args\"    => Dict{String,Any}()\n",
       "  \"data\"    => \"{msg: \\\"hi\\\"}\"\n",
       "  \"url\"     => \"https://httpbin.org/anything\"\n",
       "  \"form\"    => Dict{String,Any}()\n",
       "  \"origin\"  => \"141.154.51.251\""
      ]
     },
     "execution_count": 60,
     "metadata": {},
     "output_type": "execute_result"
    }
   ],
   "source": [
    "JSON.parse(String(req3.body))"
   ]
  },
  {
   "cell_type": "markdown",
   "metadata": {},
   "source": [
    "### Mapquest API"
   ]
  },
  {
   "cell_type": "markdown",
   "metadata": {},
   "source": [
    "In the next homework, we are going to find the shortest distance between a set of towns.  Although it's not difficult to type everything into google maps (or something equivalent), it's tedious.  Instead we are going to use the mapquest API to grab data."
   ]
  },
  {
   "cell_type": "markdown",
   "metadata": {},
   "source": [
    "First, you'll need to go to [https://developer.mapquest.com](https://developer.mapquest.com) and sign up for a key.  It's quite easy. Go do it!"
   ]
  },
  {
   "cell_type": "code",
   "execution_count": 18,
   "metadata": {},
   "outputs": [
    {
     "data": {
      "text/plain": [
       "\"WL9lkNndull1hszCbog4MicH6ZRPGEEO\""
      ]
     },
     "execution_count": 18,
     "metadata": {},
     "output_type": "execute_result"
    }
   ],
   "source": [
    "mapquest_key = \"WL9lkNndull1hszCbog4MicH6ZRPGEEO\" ## add your key here. "
   ]
  },
  {
   "cell_type": "markdown",
   "metadata": {},
   "source": [
    "Let's test with with a request to get an optimized route from Fitchburg to Boston."
   ]
  },
  {
   "cell_type": "code",
   "execution_count": 19,
   "metadata": {},
   "outputs": [
    {
     "data": {
      "text/plain": [
       "HTTP.Messages.Response:\n",
       "\"\"\"\n",
       "HTTP/1.1 200 OK\r\n",
       "Date: Sun, 29 Nov 2020 22:16:45 GMT\r\n",
       "Content-Type: application/json;charset=UTF-8\r\n",
       "Transfer-Encoding: chunked\r\n",
       "Connection: keep-alive\r\n",
       "Server: Apache-Coyote/1.1\r\n",
       "Set-Cookie: JSESSIONID=252FEED8ED5EF0BD4C9C4EFF3EB25397; Path=/directions; HttpOnly\r\n",
       "Expires: Mon, 20 Dec 1998 01:00:00 GMT\r\n",
       "Last-Modified: Sun, 29 Nov 2020 22:16:45 GMT\r\n",
       "Cache-Control: no-cache, must-revalidate\r\n",
       "Pragma: no-cache\r\n",
       "Access-Control-Allow-Origin: *\r\n",
       "Access-Control-Allow-Methods: OPTIONS,GET,POST\r\n",
       "status: success\r\n",
       "transactionWeight: 1\r\n",
       "\r\n",
       "{\"route\":{\"hasTollRoad\":false,\"hasBridge\":false,\"boundingBox\":{\"lr\":{\"lng\":-71.057327,\"lat\":42.360317},\"ul\":{\"lng\":-71.804382,\"lat\":42.584591}},\"distance\":47.345,\"hasTimedRestriction\":false,\"hasTunnel\":true,\"hasHighway\":true,\"computedWaypoints\":[],\"routeError\":{\"errorCode\":-400,\"message\":\"\"},\"formattedTime\":\"01:02:50\",\"sessionId\":\"5fc41dcd-01b8-4ee4-02b4-350f-0af15b1a365b\",\"hasAccessRestriction\":false,\"realTime\":-1,\"hasSeasonalClosure\":false,\"hasCountryCross\":false,\"fuelUsed\":1.82,\"legs\":[{\"hasTollRoad\":false,\"hasBridge\":false,\"destNarrative\":\"\",\"distance\":47.345,\"hasTimedRestriction\":false,\"hasTunnel\":true,\"hasHighway\":true,\"index\":0,\"formattedTime\":\"01:02:50\",\"origIndex\":-1,\"hasAccessRestriction\":false,\"hasSeasonalClosure\":false,\"hasCountryCross\":false,\"roadGradeStrategy\":[[]],\"destIndex\":-1,\"time\":3770,\"hasUnpaved\":false,\"origNarrative\":\"\",\"maneuvers\":[{\"distance\":0.112,\"streets\":[\"Main St\"],\"narrative\":\"Start out going northwest on Main St toward Grove St.\",\"turnType\":0,\"startPoint\n",
       "⋮\n",
       "18513-byte body\n",
       "\"\"\""
      ]
     },
     "execution_count": 19,
     "metadata": {},
     "output_type": "execute_result"
    }
   ],
   "source": [
    "mapquest = HTTP.request(\"GET\",string(\"http://open.mapquestapi.com/directions/v2/optimizedroute\",\n",
    "    \"?key=$mapquest_key&from=Fitchburg,MA&to=Boston,MA\"))"
   ]
  },
  {
   "cell_type": "code",
   "execution_count": 20,
   "metadata": {},
   "outputs": [
    {
     "data": {
      "text/plain": [
       "Dict{String,Any} with 2 entries:\n",
       "  \"route\" => Dict{String,Any}(\"hasCountryCross\"=>false,\"legs\"=>Any[Dict{String,…\n",
       "  \"info\"  => Dict{String,Any}(\"messages\"=>Any[],\"statuscode\"=>0,\"copyright\"=>Di…"
      ]
     },
     "execution_count": 20,
     "metadata": {},
     "output_type": "execute_result"
    }
   ],
   "source": [
    "route = JSON.parse(String(mapquest.body))"
   ]
  },
  {
   "cell_type": "code",
   "execution_count": 22,
   "metadata": {},
   "outputs": [
    {
     "data": {
      "text/plain": [
       "Dict{String,Any} with 3 entries:\n",
       "  \"messages\"   => Any[]\n",
       "  \"statuscode\" => 0\n",
       "  \"copyright\"  => Dict{String,Any}(\"imageUrl\"=>\"http://api.mqcdn.com/res/mqlogo…"
      ]
     },
     "execution_count": 22,
     "metadata": {},
     "output_type": "execute_result"
    }
   ],
   "source": [
    "route[\"info\"]"
   ]
  },
  {
   "cell_type": "code",
   "execution_count": 8,
   "metadata": {},
   "outputs": [
    {
     "data": {
      "text/plain": [
       "Dict{String,Any} with 23 entries:\n",
       "  \"hasCountryCross\"      => false\n",
       "  \"legs\"                 => Any[Dict{String,Any}(\"hasCountryCross\"=>false,\"road…\n",
       "  \"hasUnpaved\"           => false\n",
       "  \"time\"                 => 3770\n",
       "  \"formattedTime\"        => \"01:02:50\"\n",
       "  \"hasTimedRestriction\"  => false\n",
       "  \"locations\"            => Any[Dict{String,Any}(\"latLng\"=>Dict{String,Any}(\"la…\n",
       "  \"distance\"             => 47.345\n",
       "  \"boundingBox\"          => Dict{String,Any}(\"ul\"=>Dict{String,Any}(\"lat\"=>42.5…\n",
       "  \"hasBridge\"            => false\n",
       "  \"hasTollRoad\"          => false\n",
       "  \"locationSequence\"     => Any[0, 1]\n",
       "  \"computedWaypoints\"    => Any[]\n",
       "  \"hasAccessRestriction\" => false\n",
       "  \"hasFerry\"             => false\n",
       "  \"realTime\"             => -1\n",
       "  \"options\"              => Dict{String,Any}(\"doReverseGeocode\"=>true,\"routeTyp…\n",
       "  \"routeError\"           => Dict{String,Any}(\"errorCode\"=>-400,\"message\"=>\"\")\n",
       "  \"sessionId\"            => \"5fc41c91-0230-4ee4-02b4-3505-12a32283d7e3\"\n",
       "  \"fuelUsed\"             => 1.82\n",
       "  \"hasSeasonalClosure\"   => false\n",
       "  \"hasTunnel\"            => true\n",
       "  \"hasHighway\"           => true"
      ]
     },
     "execution_count": 8,
     "metadata": {},
     "output_type": "execute_result"
    }
   ],
   "source": [
    "route[\"route\"]"
   ]
  },
  {
   "cell_type": "code",
   "execution_count": 9,
   "metadata": {},
   "outputs": [
    {
     "data": {
      "text/plain": [
       "47.345"
      ]
     },
     "execution_count": 9,
     "metadata": {},
     "output_type": "execute_result"
    }
   ],
   "source": [
    "route[\"route\"][\"distance\"]"
   ]
  },
  {
   "cell_type": "code",
   "execution_count": 24,
   "metadata": {},
   "outputs": [
    {
     "data": {
      "text/plain": [
       "1-element Array{Any,1}:\n",
       " Dict{String,Any}(\"hasCountryCross\" => false,\"roadGradeStrategy\" => Any[Any[]],\"origIndex\" => -1,\"hasUnpaved\" => false,\"time\" => 3770,\"formattedTime\" => \"01:02:50\",\"destNarrative\" => \"\",\"hasTimedRestriction\" => false,\"origNarrative\" => \"\",\"distance\" => 47.345…)"
      ]
     },
     "execution_count": 24,
     "metadata": {},
     "output_type": "execute_result"
    }
   ],
   "source": [
    "route[\"route\"][\"legs\"]"
   ]
  },
  {
   "cell_type": "markdown",
   "metadata": {},
   "source": [
    "Let's find all distances between the following:  Fitchburg, MA; Boston, MA; Providence, RI; Nashua, NH; Portland, ME; Concord, NH;"
   ]
  },
  {
   "cell_type": "markdown",
   "metadata": {},
   "source": [
    "We need to build up a Dictionary with this info.  The `locations` field is an array of all of the towns and the `options` field needs to say that `allToAll` is true so we get all pairs of distances. "
   ]
  },
  {
   "cell_type": "code",
   "execution_count": 26,
   "metadata": {},
   "outputs": [
    {
     "data": {
      "text/plain": [
       "Dict{String,Any} with 2 entries:\n",
       "  \"locations\" => [\"Fitchburg, MA\", \"Boston, MA\", \"Providence, RI\", \"Nashua, NH\"…\n",
       "  \"options\"   => Dict{String,Bool}(\"allToAll\"=>1)"
      ]
     },
     "execution_count": 26,
     "metadata": {},
     "output_type": "execute_result"
    }
   ],
   "source": [
    "towns = Dict(\n",
    "    \"locations\"=>[\"Fitchburg, MA\",\"Boston, MA\",\"Providence, RI\",\"Nashua, NH\",\"Portland, ME\", \"Concord, NH\"],\n",
    "      \"options\" => Dict(\"allToAll\"=>true))"
   ]
  },
  {
   "cell_type": "markdown",
   "metadata": {},
   "source": [
    "Then we encode the dictionary as a JSON string. "
   ]
  },
  {
   "cell_type": "code",
   "execution_count": 31,
   "metadata": {},
   "outputs": [
    {
     "data": {
      "text/plain": [
       "\"{\\\"locations\\\":[\\\"Fitchburg, MA\\\",\\\"Boston, MA\\\",\\\"Providence, RI\\\",\\\"Nashua, NH\\\",\\\"Portland, ME\\\",\\\"Concord, NH\\\"],\\\"options\\\":{\\\"allToAll\\\":true}}\""
      ]
     },
     "execution_count": 31,
     "metadata": {},
     "output_type": "execute_result"
    }
   ],
   "source": [
    "towns_json = JSON.json(towns)"
   ]
  },
  {
   "cell_type": "markdown",
   "metadata": {},
   "source": [
    "And this is how the request is made:"
   ]
  },
  {
   "cell_type": "code",
   "execution_count": 40,
   "metadata": {},
   "outputs": [
    {
     "data": {
      "text/plain": [
       "HTTP.Messages.Response:\n",
       "\"\"\"\n",
       "HTTP/1.1 200 OK\r\n",
       "Date: Sun, 29 Nov 2020 22:26:04 GMT\r\n",
       "Content-Type: application/json;charset=UTF-8\r\n",
       "Content-Length: 3286\r\n",
       "Server: Apache-Coyote/1.1\r\n",
       "Set-Cookie: JSESSIONID=C3151EBC5D4281B68E5AD91F8C6EAEEB; Path=/directions; HttpOnly\r\n",
       "Expires: Mon, 20 Dec 1998 01:00:00 GMT\r\n",
       "Last-Modified: Sun, 29 Nov 2020 22:26:04 GMT\r\n",
       "Cache-Control: no-cache, must-revalidate\r\n",
       "Pragma: no-cache\r\n",
       "Access-Control-Allow-Origin: *\r\n",
       "Access-Control-Allow-Methods: OPTIONS,GET,POST\r\n",
       "status: success\r\n",
       "transactionWeight: 1\r\n",
       "\r\n",
       "{\"allToAll\":true,\"distance\":[[0,60.021,65.674,25.147,128.19,56.42],[59.763,0,49.944,42.669,112.144,67.425],[65.043,49.971,0,86.956,173.397,116.723],[25.038,43.067,86.786,0,106.094,34.973],[127.789,107.307,162.937,105.83,0,109.159],[55.454,67.698,117.997,35.188,109.835,0]],\"locations\":[{\"dragPoint\":false,\"displayLatLng\":{\"lng\":-71.795967,\"lat\":42.580807},\"adminArea4\":\"Worcester County\",\"adminArea5\":\"Fitchburg\",\"postalCode\":\"\",\"adminArea1\":\"US\",\"adminArea3\":\"MA\",\"type\":\"s\",\"sideOfStreet\":\"N\",\"geocodeQualityCode\":\"A5XAX\",\"adminArea4Type\":\"County\",\"linkId\":282038932,\"street\":\"\",\"adminArea5Type\":\"City\",\"geocodeQuality\":\"CITY\",\"adminArea1Type\":\"Country\",\"adminArea3Type\":\"State\",\"latLng\":{\"lng\":-71.795967,\"lat\":42.580807}},{\"dragPoint\":false,\"displayLatLng\":{\"lng\":-71.056742,\"lat\":42.358894},\"adminArea4\":\"Suffolk County\",\"adminArea5\":\"Boston\",\"postalCode\":\"\",\"adminArea1\":\"US\",\"adminArea3\":\"MA\",\"type\":\"s\",\"sideOfStreet\":\"N\",\"geocodeQualityCode\":\"A5XAX\",\"adminArea4Type\":\"County\",\"linkId\":282040\n",
       "⋮\n",
       "3286-byte body\n",
       "\"\"\""
      ]
     },
     "execution_count": 40,
     "metadata": {},
     "output_type": "execute_result"
    }
   ],
   "source": [
    "req2 = HTTP.request(\"POST\",\"http://www.mapquestapi.com/directions/v2/routematrix?key=$mapquest_key\",[],towns_json)"
   ]
  },
  {
   "cell_type": "markdown",
   "metadata": {},
   "source": [
    "The result is in the body field and needs to be parsed as a JSON. The distance information is in the `distance` field."
   ]
  },
  {
   "cell_type": "code",
   "execution_count": 41,
   "metadata": {},
   "outputs": [
    {
     "data": {
      "text/plain": [
       "Dict{String,Any} with 6 entries:\n",
       "  \"locations\" => Any[Dict{String,Any}(\"latLng\"=>Dict{String,Any}(\"lat\"=>42.5808…\n",
       "  \"distance\"  => Any[Any[0, 60.021, 65.674, 25.147, 128.19, 56.42], Any[59.763,…\n",
       "  \"time\"      => Any[Any[0, 3856, 4396, 2613, 7536, 4340], Any[3806, 0, 3204, 3…\n",
       "  \"allToAll\"  => true\n",
       "  \"info\"      => Dict{String,Any}(\"messages\"=>Any[],\"statuscode\"=>0,\"copyright\"…\n",
       "  \"manyToOne\" => false"
      ]
     },
     "execution_count": 41,
     "metadata": {},
     "output_type": "execute_result"
    }
   ],
   "source": [
    "distance_dict = JSON.parse(String(req2.body))"
   ]
  },
  {
   "cell_type": "code",
   "execution_count": 42,
   "metadata": {},
   "outputs": [
    {
     "data": {
      "text/plain": [
       "6-element Array{Any,1}:\n",
       " Any[0, 60.021, 65.674, 25.147, 128.19, 56.42]\n",
       " Any[59.763, 0, 49.944, 42.669, 112.144, 67.425]\n",
       " Any[65.043, 49.971, 0, 86.956, 173.397, 116.723]\n",
       " Any[25.038, 43.067, 86.786, 0, 106.094, 34.973]\n",
       " Any[127.789, 107.307, 162.937, 105.83, 0, 109.159]\n",
       " Any[55.454, 67.698, 117.997, 35.188, 109.835, 0]"
      ]
     },
     "execution_count": 42,
     "metadata": {},
     "output_type": "execute_result"
    }
   ],
   "source": [
    "A=distance_dict[\"distance\"]"
   ]
  },
  {
   "cell_type": "markdown",
   "metadata": {},
   "source": [
    "And we can do the following to turn it into a 2D array, which will be easier to handle."
   ]
  },
  {
   "cell_type": "code",
   "execution_count": 43,
   "metadata": {},
   "outputs": [
    {
     "data": {
      "text/plain": [
       "6×6 Array{Real,2}:\n",
       "   0       60.021   65.674   25.147  128.19    56.42\n",
       "  59.763    0       49.944   42.669  112.144   67.425\n",
       "  65.043   49.971    0       86.956  173.397  116.723\n",
       "  25.038   43.067   86.786    0      106.094   34.973\n",
       " 127.789  107.307  162.937  105.83     0      109.159\n",
       "  55.454   67.698  117.997   35.188  109.835    0"
      ]
     },
     "execution_count": 43,
     "metadata": {},
     "output_type": "execute_result"
    }
   ],
   "source": [
    "dist_array = collect(transpose(reshape(collect(Iterators.flatten(A)),(6,6))))"
   ]
  },
  {
   "cell_type": "code",
   "execution_count": null,
   "metadata": {},
   "outputs": [],
   "source": []
  }
 ],
 "metadata": {
  "kernelspec": {
   "display_name": "Julia 1.5.3",
   "language": "julia",
   "name": "julia-1.5"
  },
  "language_info": {
   "file_extension": ".jl",
   "mimetype": "application/julia",
   "name": "julia",
   "version": "1.5.3"
  }
 },
 "nbformat": 4,
 "nbformat_minor": 4
}
