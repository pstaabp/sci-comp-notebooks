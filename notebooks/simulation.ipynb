{
 "cells": [
  {
   "cell_type": "markdown",
   "id": "e18e4817-6e2a-4efd-a569-f4a604fed0bf",
   "metadata": {},
   "source": [
    "## Simulating Same Score Streaks\n",
    "\n",
    "This notebook shows some basics of running simulations in julia.  First, there will be some simple dice rolling simulations and then followed by some simulations based on continuous distributions, then the same-score streaks.\n",
    "\n",
    "### Simulating Dice Rolls\n",
    "\n",
    "First, we will load the Random package (which should be standard, so you don't need to download) and set the seed so that the results are consistent. "
   ]
  },
  {
   "cell_type": "code",
   "execution_count": null,
   "id": "1d0c1cef-07da-43b6-adf4-3e751852eb1f",
   "metadata": {},
   "outputs": [],
   "source": [
    "using Random"
   ]
  },
  {
   "cell_type": "code",
   "execution_count": null,
   "id": "8f6bf05a-c224-4848-b938-860785f77910",
   "metadata": {},
   "outputs": [],
   "source": [
    "set"
   ]
  },
  {
   "cell_type": "code",
   "execution_count": null,
   "id": "71b71594-ad8a-415b-ba18-d1f08c70e16d",
   "metadata": {},
   "outputs": [],
   "source": []
  }
 ],
 "metadata": {
  "kernelspec": {
   "display_name": "Julia 1.9.0-beta2",
   "language": "julia",
   "name": "julia-1.9"
  },
  "language_info": {
   "name": ""
  }
 },
 "nbformat": 4,
 "nbformat_minor": 5
}
