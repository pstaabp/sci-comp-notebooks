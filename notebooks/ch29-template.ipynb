{
 "cells": [
  {
   "cell_type": "markdown",
   "metadata": {},
   "source": [
    "### Chapter 29: Manipulating DataFrames"
   ]
  },
  {
   "cell_type": "markdown",
   "metadata": {},
   "source": [
    "Typically once you have a data frame, you will need to manipulate it.  This includes filtering (subsets) rows or columns, creating new columns.  We will cover that in this section.   We'll also use the following simple dataset for examples:\n",
    "\n"
   ]
  },
  {
   "cell_type": "code",
   "execution_count": 3,
   "metadata": {},
   "outputs": [],
   "source": [
    "using DataFrames, Chain, Statistics"
   ]
  },
  {
   "cell_type": "code",
   "execution_count": 4,
   "metadata": {},
   "outputs": [
    {
     "data": {
      "text/html": [
       "<div><div style = \"float: left;\"><span>7×4 DataFrame</span></div><div style = \"clear: both;\"></div></div><div class = \"data-frame\" style = \"overflow-x: scroll;\"><table class = \"data-frame\" style = \"margin-bottom: 6px;\"><thead><tr class = \"header\"><th class = \"rowNumber\" style = \"font-weight: bold; text-align: right;\">Row</th><th style = \"text-align: left;\">A</th><th style = \"text-align: left;\">B</th><th style = \"text-align: left;\">C</th><th style = \"text-align: left;\">D</th></tr><tr class = \"subheader headerLastRow\"><th class = \"rowNumber\" style = \"font-weight: bold; text-align: right;\"></th><th title = \"Int64\" style = \"text-align: left;\">Int64</th><th title = \"String\" style = \"text-align: left;\">String</th><th title = \"Float64\" style = \"text-align: left;\">Float64</th><th title = \"Rational{Int64}\" style = \"text-align: left;\">Rational…</th></tr></thead><tbody><tr><td class = \"rowNumber\" style = \"font-weight: bold; text-align: right;\">1</td><td style = \"text-align: right;\">1</td><td style = \"text-align: left;\">M</td><td style = \"text-align: right;\">3.0</td><td style = \"text-align: right;\">-1//1</td></tr><tr><td class = \"rowNumber\" style = \"font-weight: bold; text-align: right;\">2</td><td style = \"text-align: right;\">3</td><td style = \"text-align: left;\">F</td><td style = \"text-align: right;\">2.5</td><td style = \"text-align: right;\">1//2</td></tr><tr><td class = \"rowNumber\" style = \"font-weight: bold; text-align: right;\">3</td><td style = \"text-align: right;\">5</td><td style = \"text-align: left;\">F</td><td style = \"text-align: right;\">3.14159</td><td style = \"text-align: right;\">-1//3</td></tr><tr><td class = \"rowNumber\" style = \"font-weight: bold; text-align: right;\">4</td><td style = \"text-align: right;\">7</td><td style = \"text-align: left;\">M</td><td style = \"text-align: right;\">-2.3</td><td style = \"text-align: right;\">1//4</td></tr><tr><td class = \"rowNumber\" style = \"font-weight: bold; text-align: right;\">5</td><td style = \"text-align: right;\">9</td><td style = \"text-align: left;\">X</td><td style = \"text-align: right;\">0.333333</td><td style = \"text-align: right;\">-1//5</td></tr><tr><td class = \"rowNumber\" style = \"font-weight: bold; text-align: right;\">6</td><td style = \"text-align: right;\">11</td><td style = \"text-align: left;\">F</td><td style = \"text-align: right;\">56.0</td><td style = \"text-align: right;\">1//6</td></tr><tr><td class = \"rowNumber\" style = \"font-weight: bold; text-align: right;\">7</td><td style = \"text-align: right;\">13</td><td style = \"text-align: left;\">M</td><td style = \"text-align: right;\">100.0</td><td style = \"text-align: right;\">-1//7</td></tr></tbody></table></div>"
      ],
      "text/latex": [
       "\\begin{tabular}{r|cccc}\n",
       "\t& A & B & C & D\\\\\n",
       "\t\\hline\n",
       "\t& Int64 & String & Float64 & Rational…\\\\\n",
       "\t\\hline\n",
       "\t1 & 1 & M & 3.0 & -1 \\\\\n",
       "\t2 & 3 & F & 2.5 & 1//2 \\\\\n",
       "\t3 & 5 & F & 3.14159 & -1//3 \\\\\n",
       "\t4 & 7 & M & -2.3 & 1//4 \\\\\n",
       "\t5 & 9 & X & 0.333333 & -1//5 \\\\\n",
       "\t6 & 11 & F & 56.0 & 1//6 \\\\\n",
       "\t7 & 13 & M & 100.0 & -1//7 \\\\\n",
       "\\end{tabular}\n"
      ],
      "text/plain": [
       "\u001b[1m7×4 DataFrame\u001b[0m\n",
       "\u001b[1m Row \u001b[0m│\u001b[1m A     \u001b[0m\u001b[1m B      \u001b[0m\u001b[1m C          \u001b[0m\u001b[1m D         \u001b[0m\n",
       "     │\u001b[90m Int64 \u001b[0m\u001b[90m String \u001b[0m\u001b[90m Float64    \u001b[0m\u001b[90m Rational… \u001b[0m\n",
       "─────┼──────────────────────────────────────\n",
       "   1 │     1  M         3.0           -1//1\n",
       "   2 │     3  F         2.5            1//2\n",
       "   3 │     5  F         3.14159       -1//3\n",
       "   4 │     7  M        -2.3            1//4\n",
       "   5 │     9  X         0.333333      -1//5\n",
       "   6 │    11  F        56.0            1//6\n",
       "   7 │    13  M       100.0           -1//7"
      ]
     },
     "metadata": {},
     "output_type": "display_data"
    }
   ],
   "source": [
    "data = DataFrame(A = 1:2:13, B = [\"M\", \"F\", \"F\", \"M\",\"X\",\"F\",\"M\"], C=[3.0,2.5,pi,-2.3,1/3,56,100],D=[(-1)^n//n for n=1:7])"
   ]
  },
  {
   "cell_type": "markdown",
   "metadata": {},
   "source": [
    "\n",
    "\n",
    "#### 29.1: Subsetting Dataframes\n",
    "\n",
    "We first start with finding a subset of a DataFrame.  This can be either a smaller number of rows based on some condition or a subset of the columns.\n",
    "\n",
    "First, if we want to select specific columns, we can do this in a couple of different ways.  One way is similar to array access like the previous chapter.  The following selects the A and D column.  Note the colon (:) in front of the column names.  "
   ]
  },
  {
   "cell_type": "code",
   "execution_count": 5,
   "metadata": {},
   "outputs": [
    {
     "data": {
      "text/html": [
       "<div><div style = \"float: left;\"><span>7×2 DataFrame</span></div><div style = \"clear: both;\"></div></div><div class = \"data-frame\" style = \"overflow-x: scroll;\"><table class = \"data-frame\" style = \"margin-bottom: 6px;\"><thead><tr class = \"header\"><th class = \"rowNumber\" style = \"font-weight: bold; text-align: right;\">Row</th><th style = \"text-align: left;\">A</th><th style = \"text-align: left;\">D</th></tr><tr class = \"subheader headerLastRow\"><th class = \"rowNumber\" style = \"font-weight: bold; text-align: right;\"></th><th title = \"Int64\" style = \"text-align: left;\">Int64</th><th title = \"Rational{Int64}\" style = \"text-align: left;\">Rational…</th></tr></thead><tbody><tr><td class = \"rowNumber\" style = \"font-weight: bold; text-align: right;\">1</td><td style = \"text-align: right;\">1</td><td style = \"text-align: right;\">-1//1</td></tr><tr><td class = \"rowNumber\" style = \"font-weight: bold; text-align: right;\">2</td><td style = \"text-align: right;\">3</td><td style = \"text-align: right;\">1//2</td></tr><tr><td class = \"rowNumber\" style = \"font-weight: bold; text-align: right;\">3</td><td style = \"text-align: right;\">5</td><td style = \"text-align: right;\">-1//3</td></tr><tr><td class = \"rowNumber\" style = \"font-weight: bold; text-align: right;\">4</td><td style = \"text-align: right;\">7</td><td style = \"text-align: right;\">1//4</td></tr><tr><td class = \"rowNumber\" style = \"font-weight: bold; text-align: right;\">5</td><td style = \"text-align: right;\">9</td><td style = \"text-align: right;\">-1//5</td></tr><tr><td class = \"rowNumber\" style = \"font-weight: bold; text-align: right;\">6</td><td style = \"text-align: right;\">11</td><td style = \"text-align: right;\">1//6</td></tr><tr><td class = \"rowNumber\" style = \"font-weight: bold; text-align: right;\">7</td><td style = \"text-align: right;\">13</td><td style = \"text-align: right;\">-1//7</td></tr></tbody></table></div>"
      ],
      "text/latex": [
       "\\begin{tabular}{r|cc}\n",
       "\t& A & D\\\\\n",
       "\t\\hline\n",
       "\t& Int64 & Rational…\\\\\n",
       "\t\\hline\n",
       "\t1 & 1 & -1 \\\\\n",
       "\t2 & 3 & 1//2 \\\\\n",
       "\t3 & 5 & -1//3 \\\\\n",
       "\t4 & 7 & 1//4 \\\\\n",
       "\t5 & 9 & -1//5 \\\\\n",
       "\t6 & 11 & 1//6 \\\\\n",
       "\t7 & 13 & -1//7 \\\\\n",
       "\\end{tabular}\n"
      ],
      "text/plain": [
       "\u001b[1m7×2 DataFrame\u001b[0m\n",
       "\u001b[1m Row \u001b[0m│\u001b[1m A     \u001b[0m\u001b[1m D         \u001b[0m\n",
       "     │\u001b[90m Int64 \u001b[0m\u001b[90m Rational… \u001b[0m\n",
       "─────┼──────────────────\n",
       "   1 │     1      -1//1\n",
       "   2 │     3       1//2\n",
       "   3 │     5      -1//3\n",
       "   4 │     7       1//4\n",
       "   5 │     9      -1//5\n",
       "   6 │    11       1//6\n",
       "   7 │    13      -1//7"
      ]
     },
     "metadata": {},
     "output_type": "display_data"
    }
   ],
   "source": [
    "data[!,[:A,:D]]"
   ]
  },
  {
   "cell_type": "markdown",
   "metadata": {},
   "source": [
    "Alternatively, we can use the `select` function.  The first argument is the data frame and the others are columns names."
   ]
  },
  {
   "cell_type": "code",
   "execution_count": 6,
   "metadata": {},
   "outputs": [
    {
     "data": {
      "text/html": [
       "<div><div style = \"float: left;\"><span>7×2 DataFrame</span></div><div style = \"clear: both;\"></div></div><div class = \"data-frame\" style = \"overflow-x: scroll;\"><table class = \"data-frame\" style = \"margin-bottom: 6px;\"><thead><tr class = \"header\"><th class = \"rowNumber\" style = \"font-weight: bold; text-align: right;\">Row</th><th style = \"text-align: left;\">A</th><th style = \"text-align: left;\">D</th></tr><tr class = \"subheader headerLastRow\"><th class = \"rowNumber\" style = \"font-weight: bold; text-align: right;\"></th><th title = \"Int64\" style = \"text-align: left;\">Int64</th><th title = \"Rational{Int64}\" style = \"text-align: left;\">Rational…</th></tr></thead><tbody><tr><td class = \"rowNumber\" style = \"font-weight: bold; text-align: right;\">1</td><td style = \"text-align: right;\">1</td><td style = \"text-align: right;\">-1//1</td></tr><tr><td class = \"rowNumber\" style = \"font-weight: bold; text-align: right;\">2</td><td style = \"text-align: right;\">3</td><td style = \"text-align: right;\">1//2</td></tr><tr><td class = \"rowNumber\" style = \"font-weight: bold; text-align: right;\">3</td><td style = \"text-align: right;\">5</td><td style = \"text-align: right;\">-1//3</td></tr><tr><td class = \"rowNumber\" style = \"font-weight: bold; text-align: right;\">4</td><td style = \"text-align: right;\">7</td><td style = \"text-align: right;\">1//4</td></tr><tr><td class = \"rowNumber\" style = \"font-weight: bold; text-align: right;\">5</td><td style = \"text-align: right;\">9</td><td style = \"text-align: right;\">-1//5</td></tr><tr><td class = \"rowNumber\" style = \"font-weight: bold; text-align: right;\">6</td><td style = \"text-align: right;\">11</td><td style = \"text-align: right;\">1//6</td></tr><tr><td class = \"rowNumber\" style = \"font-weight: bold; text-align: right;\">7</td><td style = \"text-align: right;\">13</td><td style = \"text-align: right;\">-1//7</td></tr></tbody></table></div>"
      ],
      "text/latex": [
       "\\begin{tabular}{r|cc}\n",
       "\t& A & D\\\\\n",
       "\t\\hline\n",
       "\t& Int64 & Rational…\\\\\n",
       "\t\\hline\n",
       "\t1 & 1 & -1 \\\\\n",
       "\t2 & 3 & 1//2 \\\\\n",
       "\t3 & 5 & -1//3 \\\\\n",
       "\t4 & 7 & 1//4 \\\\\n",
       "\t5 & 9 & -1//5 \\\\\n",
       "\t6 & 11 & 1//6 \\\\\n",
       "\t7 & 13 & -1//7 \\\\\n",
       "\\end{tabular}\n"
      ],
      "text/plain": [
       "\u001b[1m7×2 DataFrame\u001b[0m\n",
       "\u001b[1m Row \u001b[0m│\u001b[1m A     \u001b[0m\u001b[1m D         \u001b[0m\n",
       "     │\u001b[90m Int64 \u001b[0m\u001b[90m Rational… \u001b[0m\n",
       "─────┼──────────────────\n",
       "   1 │     1      -1//1\n",
       "   2 │     3       1//2\n",
       "   3 │     5      -1//3\n",
       "   4 │     7       1//4\n",
       "   5 │     9      -1//5\n",
       "   6 │    11       1//6\n",
       "   7 │    13      -1//7"
      ]
     },
     "metadata": {},
     "output_type": "display_data"
    }
   ],
   "source": [
    "select(data, :A, :D)"
   ]
  },
  {
   "cell_type": "markdown",
   "metadata": {},
   "source": [
    "And we can use column numbers and reorder:"
   ]
  },
  {
   "cell_type": "code",
   "execution_count": 7,
   "metadata": {},
   "outputs": [
    {
     "data": {
      "text/html": [
       "<div><div style = \"float: left;\"><span>7×2 DataFrame</span></div><div style = \"clear: both;\"></div></div><div class = \"data-frame\" style = \"overflow-x: scroll;\"><table class = \"data-frame\" style = \"margin-bottom: 6px;\"><thead><tr class = \"header\"><th class = \"rowNumber\" style = \"font-weight: bold; text-align: right;\">Row</th><th style = \"text-align: left;\">D</th><th style = \"text-align: left;\">C</th></tr><tr class = \"subheader headerLastRow\"><th class = \"rowNumber\" style = \"font-weight: bold; text-align: right;\"></th><th title = \"Rational{Int64}\" style = \"text-align: left;\">Rational…</th><th title = \"Float64\" style = \"text-align: left;\">Float64</th></tr></thead><tbody><tr><td class = \"rowNumber\" style = \"font-weight: bold; text-align: right;\">1</td><td style = \"text-align: right;\">-1//1</td><td style = \"text-align: right;\">3.0</td></tr><tr><td class = \"rowNumber\" style = \"font-weight: bold; text-align: right;\">2</td><td style = \"text-align: right;\">1//2</td><td style = \"text-align: right;\">2.5</td></tr><tr><td class = \"rowNumber\" style = \"font-weight: bold; text-align: right;\">3</td><td style = \"text-align: right;\">-1//3</td><td style = \"text-align: right;\">3.14159</td></tr><tr><td class = \"rowNumber\" style = \"font-weight: bold; text-align: right;\">4</td><td style = \"text-align: right;\">1//4</td><td style = \"text-align: right;\">-2.3</td></tr><tr><td class = \"rowNumber\" style = \"font-weight: bold; text-align: right;\">5</td><td style = \"text-align: right;\">-1//5</td><td style = \"text-align: right;\">0.333333</td></tr><tr><td class = \"rowNumber\" style = \"font-weight: bold; text-align: right;\">6</td><td style = \"text-align: right;\">1//6</td><td style = \"text-align: right;\">56.0</td></tr><tr><td class = \"rowNumber\" style = \"font-weight: bold; text-align: right;\">7</td><td style = \"text-align: right;\">-1//7</td><td style = \"text-align: right;\">100.0</td></tr></tbody></table></div>"
      ],
      "text/latex": [
       "\\begin{tabular}{r|cc}\n",
       "\t& D & C\\\\\n",
       "\t\\hline\n",
       "\t& Rational… & Float64\\\\\n",
       "\t\\hline\n",
       "\t1 & -1 & 3.0 \\\\\n",
       "\t2 & 1//2 & 2.5 \\\\\n",
       "\t3 & -1//3 & 3.14159 \\\\\n",
       "\t4 & 1//4 & -2.3 \\\\\n",
       "\t5 & -1//5 & 0.333333 \\\\\n",
       "\t6 & 1//6 & 56.0 \\\\\n",
       "\t7 & -1//7 & 100.0 \\\\\n",
       "\\end{tabular}\n"
      ],
      "text/plain": [
       "\u001b[1m7×2 DataFrame\u001b[0m\n",
       "\u001b[1m Row \u001b[0m│\u001b[1m D         \u001b[0m\u001b[1m C          \u001b[0m\n",
       "     │\u001b[90m Rational… \u001b[0m\u001b[90m Float64    \u001b[0m\n",
       "─────┼───────────────────────\n",
       "   1 │     -1//1    3.0\n",
       "   2 │      1//2    2.5\n",
       "   3 │     -1//3    3.14159\n",
       "   4 │      1//4   -2.3\n",
       "   5 │     -1//5    0.333333\n",
       "   6 │      1//6   56.0\n",
       "   7 │     -1//7  100.0"
      ]
     },
     "metadata": {},
     "output_type": "display_data"
    }
   ],
   "source": [
    "select(data, 4,3)"
   ]
  },
  {
   "cell_type": "markdown",
   "metadata": {},
   "source": [
    "### Using a @chain block\n",
    "\n",
    "Although this is just a single line, we'll start using a `@chain` block to do calculations and we'll stay with this style for the rest of this chapter:"
   ]
  },
  {
   "cell_type": "code",
   "execution_count": null,
   "metadata": {},
   "outputs": [],
   "source": []
  },
  {
   "cell_type": "markdown",
   "metadata": {},
   "source": [
    "#### Not and Between\n",
    "\n",
    "A couple of helpful select options are the `Not` and `Between` functions. with `select`, this returns either columns that are not the given one or those between two columns:"
   ]
  },
  {
   "cell_type": "code",
   "execution_count": 8,
   "metadata": {},
   "outputs": [
    {
     "data": {
      "text/html": [
       "<div><div style = \"float: left;\"><span>7×3 DataFrame</span></div><div style = \"clear: both;\"></div></div><div class = \"data-frame\" style = \"overflow-x: scroll;\"><table class = \"data-frame\" style = \"margin-bottom: 6px;\"><thead><tr class = \"header\"><th class = \"rowNumber\" style = \"font-weight: bold; text-align: right;\">Row</th><th style = \"text-align: left;\">A</th><th style = \"text-align: left;\">C</th><th style = \"text-align: left;\">D</th></tr><tr class = \"subheader headerLastRow\"><th class = \"rowNumber\" style = \"font-weight: bold; text-align: right;\"></th><th title = \"Int64\" style = \"text-align: left;\">Int64</th><th title = \"Float64\" style = \"text-align: left;\">Float64</th><th title = \"Rational{Int64}\" style = \"text-align: left;\">Rational…</th></tr></thead><tbody><tr><td class = \"rowNumber\" style = \"font-weight: bold; text-align: right;\">1</td><td style = \"text-align: right;\">1</td><td style = \"text-align: right;\">3.0</td><td style = \"text-align: right;\">-1//1</td></tr><tr><td class = \"rowNumber\" style = \"font-weight: bold; text-align: right;\">2</td><td style = \"text-align: right;\">3</td><td style = \"text-align: right;\">2.5</td><td style = \"text-align: right;\">1//2</td></tr><tr><td class = \"rowNumber\" style = \"font-weight: bold; text-align: right;\">3</td><td style = \"text-align: right;\">5</td><td style = \"text-align: right;\">3.14159</td><td style = \"text-align: right;\">-1//3</td></tr><tr><td class = \"rowNumber\" style = \"font-weight: bold; text-align: right;\">4</td><td style = \"text-align: right;\">7</td><td style = \"text-align: right;\">-2.3</td><td style = \"text-align: right;\">1//4</td></tr><tr><td class = \"rowNumber\" style = \"font-weight: bold; text-align: right;\">5</td><td style = \"text-align: right;\">9</td><td style = \"text-align: right;\">0.333333</td><td style = \"text-align: right;\">-1//5</td></tr><tr><td class = \"rowNumber\" style = \"font-weight: bold; text-align: right;\">6</td><td style = \"text-align: right;\">11</td><td style = \"text-align: right;\">56.0</td><td style = \"text-align: right;\">1//6</td></tr><tr><td class = \"rowNumber\" style = \"font-weight: bold; text-align: right;\">7</td><td style = \"text-align: right;\">13</td><td style = \"text-align: right;\">100.0</td><td style = \"text-align: right;\">-1//7</td></tr></tbody></table></div>"
      ],
      "text/latex": [
       "\\begin{tabular}{r|ccc}\n",
       "\t& A & C & D\\\\\n",
       "\t\\hline\n",
       "\t& Int64 & Float64 & Rational…\\\\\n",
       "\t\\hline\n",
       "\t1 & 1 & 3.0 & -1 \\\\\n",
       "\t2 & 3 & 2.5 & 1//2 \\\\\n",
       "\t3 & 5 & 3.14159 & -1//3 \\\\\n",
       "\t4 & 7 & -2.3 & 1//4 \\\\\n",
       "\t5 & 9 & 0.333333 & -1//5 \\\\\n",
       "\t6 & 11 & 56.0 & 1//6 \\\\\n",
       "\t7 & 13 & 100.0 & -1//7 \\\\\n",
       "\\end{tabular}\n"
      ],
      "text/plain": [
       "\u001b[1m7×3 DataFrame\u001b[0m\n",
       "\u001b[1m Row \u001b[0m│\u001b[1m A     \u001b[0m\u001b[1m C          \u001b[0m\u001b[1m D         \u001b[0m\n",
       "     │\u001b[90m Int64 \u001b[0m\u001b[90m Float64    \u001b[0m\u001b[90m Rational… \u001b[0m\n",
       "─────┼──────────────────────────────\n",
       "   1 │     1    3.0           -1//1\n",
       "   2 │     3    2.5            1//2\n",
       "   3 │     5    3.14159       -1//3\n",
       "   4 │     7   -2.3            1//4\n",
       "   5 │     9    0.333333      -1//5\n",
       "   6 │    11   56.0            1//6\n",
       "   7 │    13  100.0           -1//7"
      ]
     },
     "metadata": {},
     "output_type": "display_data"
    }
   ],
   "source": [
    "@chain data begin\n",
    "  select(Not(:B))\n",
    "end"
   ]
  },
  {
   "cell_type": "markdown",
   "metadata": {},
   "source": [
    "Let's find all columns bewtween B and D"
   ]
  },
  {
   "cell_type": "code",
   "execution_count": 10,
   "metadata": {},
   "outputs": [],
   "source": []
  },
  {
   "cell_type": "markdown",
   "metadata": {},
   "source": [
    "#### Filtering (or subsetting) the rows\n",
    "\n",
    "Next, we see how to filter (or subset) the rows based on some condition.  This example shows that we take only the rows where the column A values are less than 10."
   ]
  },
  {
   "cell_type": "code",
   "execution_count": 11,
   "metadata": {},
   "outputs": [
    {
     "data": {
      "text/html": [
       "<div><div style = \"float: left;\"><span>5×4 DataFrame</span></div><div style = \"clear: both;\"></div></div><div class = \"data-frame\" style = \"overflow-x: scroll;\"><table class = \"data-frame\" style = \"margin-bottom: 6px;\"><thead><tr class = \"header\"><th class = \"rowNumber\" style = \"font-weight: bold; text-align: right;\">Row</th><th style = \"text-align: left;\">A</th><th style = \"text-align: left;\">B</th><th style = \"text-align: left;\">C</th><th style = \"text-align: left;\">D</th></tr><tr class = \"subheader headerLastRow\"><th class = \"rowNumber\" style = \"font-weight: bold; text-align: right;\"></th><th title = \"Int64\" style = \"text-align: left;\">Int64</th><th title = \"String\" style = \"text-align: left;\">String</th><th title = \"Float64\" style = \"text-align: left;\">Float64</th><th title = \"Rational{Int64}\" style = \"text-align: left;\">Rational…</th></tr></thead><tbody><tr><td class = \"rowNumber\" style = \"font-weight: bold; text-align: right;\">1</td><td style = \"text-align: right;\">1</td><td style = \"text-align: left;\">M</td><td style = \"text-align: right;\">3.0</td><td style = \"text-align: right;\">-1//1</td></tr><tr><td class = \"rowNumber\" style = \"font-weight: bold; text-align: right;\">2</td><td style = \"text-align: right;\">3</td><td style = \"text-align: left;\">F</td><td style = \"text-align: right;\">2.5</td><td style = \"text-align: right;\">1//2</td></tr><tr><td class = \"rowNumber\" style = \"font-weight: bold; text-align: right;\">3</td><td style = \"text-align: right;\">5</td><td style = \"text-align: left;\">F</td><td style = \"text-align: right;\">3.14159</td><td style = \"text-align: right;\">-1//3</td></tr><tr><td class = \"rowNumber\" style = \"font-weight: bold; text-align: right;\">4</td><td style = \"text-align: right;\">7</td><td style = \"text-align: left;\">M</td><td style = \"text-align: right;\">-2.3</td><td style = \"text-align: right;\">1//4</td></tr><tr><td class = \"rowNumber\" style = \"font-weight: bold; text-align: right;\">5</td><td style = \"text-align: right;\">9</td><td style = \"text-align: left;\">X</td><td style = \"text-align: right;\">0.333333</td><td style = \"text-align: right;\">-1//5</td></tr></tbody></table></div>"
      ],
      "text/latex": [
       "\\begin{tabular}{r|cccc}\n",
       "\t& A & B & C & D\\\\\n",
       "\t\\hline\n",
       "\t& Int64 & String & Float64 & Rational…\\\\\n",
       "\t\\hline\n",
       "\t1 & 1 & M & 3.0 & -1 \\\\\n",
       "\t2 & 3 & F & 2.5 & 1//2 \\\\\n",
       "\t3 & 5 & F & 3.14159 & -1//3 \\\\\n",
       "\t4 & 7 & M & -2.3 & 1//4 \\\\\n",
       "\t5 & 9 & X & 0.333333 & -1//5 \\\\\n",
       "\\end{tabular}\n"
      ],
      "text/plain": [
       "\u001b[1m5×4 DataFrame\u001b[0m\n",
       "\u001b[1m Row \u001b[0m│\u001b[1m A     \u001b[0m\u001b[1m B      \u001b[0m\u001b[1m C         \u001b[0m\u001b[1m D         \u001b[0m\n",
       "     │\u001b[90m Int64 \u001b[0m\u001b[90m String \u001b[0m\u001b[90m Float64   \u001b[0m\u001b[90m Rational… \u001b[0m\n",
       "─────┼─────────────────────────────────────\n",
       "   1 │     1  M        3.0           -1//1\n",
       "   2 │     3  F        2.5            1//2\n",
       "   3 │     5  F        3.14159       -1//3\n",
       "   4 │     7  M       -2.3            1//4\n",
       "   5 │     9  X        0.333333      -1//5"
      ]
     },
     "metadata": {},
     "output_type": "display_data"
    }
   ],
   "source": [
    "@chain data begin\n",
    "  subset(:A => a-> a .< 10)\n",
    "end"
   ]
  },
  {
   "cell_type": "markdown",
   "metadata": {},
   "source": [
    "Note that the last argument is a function (anonymous) whose input is the entire column and we want a vector of booleans.  This is why the less than sign is broadcast (`.<`).\n",
    "\n",
    "Alternatively, we can use the `ByRow` function on a non-vector function like:"
   ]
  },
  {
   "cell_type": "code",
   "execution_count": 11,
   "metadata": {},
   "outputs": [
    {
     "data": {
      "text/html": [
       "<div><div style = \"float: left;\"><span>5×4 DataFrame</span></div><div style = \"clear: both;\"></div></div><div class = \"data-frame\" style = \"overflow-x: scroll;\"><table class = \"data-frame\" style = \"margin-bottom: 6px;\"><thead><tr class = \"header\"><th class = \"rowNumber\" style = \"font-weight: bold; text-align: right;\">Row</th><th style = \"text-align: left;\">A</th><th style = \"text-align: left;\">B</th><th style = \"text-align: left;\">C</th><th style = \"text-align: left;\">D</th></tr><tr class = \"subheader headerLastRow\"><th class = \"rowNumber\" style = \"font-weight: bold; text-align: right;\"></th><th title = \"Int64\" style = \"text-align: left;\">Int64</th><th title = \"String\" style = \"text-align: left;\">String</th><th title = \"Float64\" style = \"text-align: left;\">Float64</th><th title = \"Rational{Int64}\" style = \"text-align: left;\">Rational…</th></tr></thead><tbody><tr><td class = \"rowNumber\" style = \"font-weight: bold; text-align: right;\">1</td><td style = \"text-align: right;\">1</td><td style = \"text-align: left;\">M</td><td style = \"text-align: right;\">3.0</td><td style = \"text-align: right;\">-1//1</td></tr><tr><td class = \"rowNumber\" style = \"font-weight: bold; text-align: right;\">2</td><td style = \"text-align: right;\">3</td><td style = \"text-align: left;\">F</td><td style = \"text-align: right;\">2.5</td><td style = \"text-align: right;\">1//2</td></tr><tr><td class = \"rowNumber\" style = \"font-weight: bold; text-align: right;\">3</td><td style = \"text-align: right;\">5</td><td style = \"text-align: left;\">F</td><td style = \"text-align: right;\">3.14159</td><td style = \"text-align: right;\">-1//3</td></tr><tr><td class = \"rowNumber\" style = \"font-weight: bold; text-align: right;\">4</td><td style = \"text-align: right;\">7</td><td style = \"text-align: left;\">M</td><td style = \"text-align: right;\">-2.3</td><td style = \"text-align: right;\">1//4</td></tr><tr><td class = \"rowNumber\" style = \"font-weight: bold; text-align: right;\">5</td><td style = \"text-align: right;\">9</td><td style = \"text-align: left;\">X</td><td style = \"text-align: right;\">0.333333</td><td style = \"text-align: right;\">-1//5</td></tr></tbody></table></div>"
      ],
      "text/latex": [
       "\\begin{tabular}{r|cccc}\n",
       "\t& A & B & C & D\\\\\n",
       "\t\\hline\n",
       "\t& Int64 & String & Float64 & Rational…\\\\\n",
       "\t\\hline\n",
       "\t1 & 1 & M & 3.0 & -1 \\\\\n",
       "\t2 & 3 & F & 2.5 & 1//2 \\\\\n",
       "\t3 & 5 & F & 3.14159 & -1//3 \\\\\n",
       "\t4 & 7 & M & -2.3 & 1//4 \\\\\n",
       "\t5 & 9 & X & 0.333333 & -1//5 \\\\\n",
       "\\end{tabular}\n"
      ],
      "text/plain": [
       "\u001b[1m5×4 DataFrame\u001b[0m\n",
       "\u001b[1m Row \u001b[0m│\u001b[1m A     \u001b[0m\u001b[1m B      \u001b[0m\u001b[1m C         \u001b[0m\u001b[1m D         \u001b[0m\n",
       "     │\u001b[90m Int64 \u001b[0m\u001b[90m String \u001b[0m\u001b[90m Float64   \u001b[0m\u001b[90m Rational… \u001b[0m\n",
       "─────┼─────────────────────────────────────\n",
       "   1 │     1  M        3.0           -1//1\n",
       "   2 │     3  F        2.5            1//2\n",
       "   3 │     5  F        3.14159       -1//3\n",
       "   4 │     7  M       -2.3            1//4\n",
       "   5 │     9  X        0.333333      -1//5"
      ]
     },
     "metadata": {},
     "output_type": "display_data"
    }
   ],
   "source": [
    "@chain data begin\n",
    "  subset(:A => ByRow(a-> a < 10))\n",
    "end"
   ]
  },
  {
   "cell_type": "markdown",
   "metadata": {},
   "source": [
    "This filters all rows where column B is \"F\":"
   ]
  },
  {
   "cell_type": "code",
   "execution_count": null,
   "metadata": {},
   "outputs": [
    {
     "data": {
      "text/html": [
       "<div><div style = \"float: left;\"><span>3×4 DataFrame</span></div><div style = \"clear: both;\"></div></div><div class = \"data-frame\" style = \"overflow-x: scroll;\"><table class = \"data-frame\" style = \"margin-bottom: 6px;\"><thead><tr class = \"header\"><th class = \"rowNumber\" style = \"font-weight: bold; text-align: right;\">Row</th><th style = \"text-align: left;\">A</th><th style = \"text-align: left;\">B</th><th style = \"text-align: left;\">C</th><th style = \"text-align: left;\">D</th></tr><tr class = \"subheader headerLastRow\"><th class = \"rowNumber\" style = \"font-weight: bold; text-align: right;\"></th><th title = \"Int64\" style = \"text-align: left;\">Int64</th><th title = \"String\" style = \"text-align: left;\">String</th><th title = \"Float64\" style = \"text-align: left;\">Float64</th><th title = \"Rational{Int64}\" style = \"text-align: left;\">Rational…</th></tr></thead><tbody><tr><td class = \"rowNumber\" style = \"font-weight: bold; text-align: right;\">1</td><td style = \"text-align: right;\">3</td><td style = \"text-align: left;\">F</td><td style = \"text-align: right;\">2.5</td><td style = \"text-align: right;\">1//2</td></tr><tr><td class = \"rowNumber\" style = \"font-weight: bold; text-align: right;\">2</td><td style = \"text-align: right;\">5</td><td style = \"text-align: left;\">F</td><td style = \"text-align: right;\">3.14159</td><td style = \"text-align: right;\">-1//3</td></tr><tr><td class = \"rowNumber\" style = \"font-weight: bold; text-align: right;\">3</td><td style = \"text-align: right;\">11</td><td style = \"text-align: left;\">F</td><td style = \"text-align: right;\">56.0</td><td style = \"text-align: right;\">1//6</td></tr></tbody></table></div>"
      ],
      "text/latex": [
       "\\begin{tabular}{r|cccc}\n",
       "\t& A & B & C & D\\\\\n",
       "\t\\hline\n",
       "\t& Int64 & String & Float64 & Rational…\\\\\n",
       "\t\\hline\n",
       "\t1 & 3 & F & 2.5 & 1//2 \\\\\n",
       "\t2 & 5 & F & 3.14159 & -1//3 \\\\\n",
       "\t3 & 11 & F & 56.0 & 1//6 \\\\\n",
       "\\end{tabular}\n"
      ],
      "text/plain": [
       "\u001b[1m3×4 DataFrame\u001b[0m\n",
       "\u001b[1m Row \u001b[0m│\u001b[1m A     \u001b[0m\u001b[1m B      \u001b[0m\u001b[1m C        \u001b[0m\u001b[1m D         \u001b[0m\n",
       "     │\u001b[90m Int64 \u001b[0m\u001b[90m String \u001b[0m\u001b[90m Float64  \u001b[0m\u001b[90m Rational… \u001b[0m\n",
       "─────┼────────────────────────────────────\n",
       "   1 │     3  F        2.5           1//2\n",
       "   2 │     5  F        3.14159      -1//3\n",
       "   3 │    11  F       56.0           1//6"
      ]
     },
     "metadata": {},
     "output_type": "display_data"
    }
   ],
   "source": [
    "@chain data begin\n",
    "  subset(:B => b-> b.== \"F\")\n",
    "end"
   ]
  },
  {
   "cell_type": "markdown",
   "metadata": {},
   "source": [
    "We can filter on more than one column.  This example returns all rows where column A is larger than column C.\n",
    "\n",
    "Note: that the columns must be put into vector format and then the function must have 2 columns. "
   ]
  },
  {
   "cell_type": "code",
   "execution_count": 13,
   "metadata": {},
   "outputs": [
    {
     "data": {
      "text/html": [
       "<div><div style = \"float: left;\"><span>4×4 DataFrame</span></div><div style = \"clear: both;\"></div></div><div class = \"data-frame\" style = \"overflow-x: scroll;\"><table class = \"data-frame\" style = \"margin-bottom: 6px;\"><thead><tr class = \"header\"><th class = \"rowNumber\" style = \"font-weight: bold; text-align: right;\">Row</th><th style = \"text-align: left;\">A</th><th style = \"text-align: left;\">B</th><th style = \"text-align: left;\">C</th><th style = \"text-align: left;\">D</th></tr><tr class = \"subheader headerLastRow\"><th class = \"rowNumber\" style = \"font-weight: bold; text-align: right;\"></th><th title = \"Int64\" style = \"text-align: left;\">Int64</th><th title = \"String\" style = \"text-align: left;\">String</th><th title = \"Float64\" style = \"text-align: left;\">Float64</th><th title = \"Rational{Int64}\" style = \"text-align: left;\">Rational…</th></tr></thead><tbody><tr><td class = \"rowNumber\" style = \"font-weight: bold; text-align: right;\">1</td><td style = \"text-align: right;\">3</td><td style = \"text-align: left;\">F</td><td style = \"text-align: right;\">2.5</td><td style = \"text-align: right;\">1//2</td></tr><tr><td class = \"rowNumber\" style = \"font-weight: bold; text-align: right;\">2</td><td style = \"text-align: right;\">5</td><td style = \"text-align: left;\">F</td><td style = \"text-align: right;\">3.14159</td><td style = \"text-align: right;\">-1//3</td></tr><tr><td class = \"rowNumber\" style = \"font-weight: bold; text-align: right;\">3</td><td style = \"text-align: right;\">7</td><td style = \"text-align: left;\">M</td><td style = \"text-align: right;\">-2.3</td><td style = \"text-align: right;\">1//4</td></tr><tr><td class = \"rowNumber\" style = \"font-weight: bold; text-align: right;\">4</td><td style = \"text-align: right;\">9</td><td style = \"text-align: left;\">X</td><td style = \"text-align: right;\">0.333333</td><td style = \"text-align: right;\">-1//5</td></tr></tbody></table></div>"
      ],
      "text/latex": [
       "\\begin{tabular}{r|cccc}\n",
       "\t& A & B & C & D\\\\\n",
       "\t\\hline\n",
       "\t& Int64 & String & Float64 & Rational…\\\\\n",
       "\t\\hline\n",
       "\t1 & 3 & F & 2.5 & 1//2 \\\\\n",
       "\t2 & 5 & F & 3.14159 & -1//3 \\\\\n",
       "\t3 & 7 & M & -2.3 & 1//4 \\\\\n",
       "\t4 & 9 & X & 0.333333 & -1//5 \\\\\n",
       "\\end{tabular}\n"
      ],
      "text/plain": [
       "\u001b[1m4×4 DataFrame\u001b[0m\n",
       "\u001b[1m Row \u001b[0m│\u001b[1m A     \u001b[0m\u001b[1m B      \u001b[0m\u001b[1m C         \u001b[0m\u001b[1m D         \u001b[0m\n",
       "     │\u001b[90m Int64 \u001b[0m\u001b[90m String \u001b[0m\u001b[90m Float64   \u001b[0m\u001b[90m Rational… \u001b[0m\n",
       "─────┼─────────────────────────────────────\n",
       "   1 │     3  F        2.5            1//2\n",
       "   2 │     5  F        3.14159       -1//3\n",
       "   3 │     7  M       -2.3            1//4\n",
       "   4 │     9  X        0.333333      -1//5"
      ]
     },
     "metadata": {},
     "output_type": "display_data"
    }
   ],
   "source": [
    "@chain data begin\n",
    "  subset([:A, :C] => (a,c) -> a .> c)\n",
    "end"
   ]
  },
  {
   "cell_type": "markdown",
   "metadata": {},
   "source": [
    "And here's an example using three columns"
   ]
  },
  {
   "cell_type": "code",
   "execution_count": 14,
   "metadata": {},
   "outputs": [
    {
     "data": {
      "text/html": [
       "<div><div style = \"float: left;\"><span>1×4 DataFrame</span></div><div style = \"clear: both;\"></div></div><div class = \"data-frame\" style = \"overflow-x: scroll;\"><table class = \"data-frame\" style = \"margin-bottom: 6px;\"><thead><tr class = \"header\"><th class = \"rowNumber\" style = \"font-weight: bold; text-align: right;\">Row</th><th style = \"text-align: left;\">A</th><th style = \"text-align: left;\">B</th><th style = \"text-align: left;\">C</th><th style = \"text-align: left;\">D</th></tr><tr class = \"subheader headerLastRow\"><th class = \"rowNumber\" style = \"font-weight: bold; text-align: right;\"></th><th title = \"Int64\" style = \"text-align: left;\">Int64</th><th title = \"String\" style = \"text-align: left;\">String</th><th title = \"Float64\" style = \"text-align: left;\">Float64</th><th title = \"Rational{Int64}\" style = \"text-align: left;\">Rational…</th></tr></thead><tbody><tr><td class = \"rowNumber\" style = \"font-weight: bold; text-align: right;\">1</td><td style = \"text-align: right;\">7</td><td style = \"text-align: left;\">M</td><td style = \"text-align: right;\">-2.3</td><td style = \"text-align: right;\">1//4</td></tr></tbody></table></div>"
      ],
      "text/latex": [
       "\\begin{tabular}{r|cccc}\n",
       "\t& A & B & C & D\\\\\n",
       "\t\\hline\n",
       "\t& Int64 & String & Float64 & Rational…\\\\\n",
       "\t\\hline\n",
       "\t1 & 7 & M & -2.3 & 1//4 \\\\\n",
       "\\end{tabular}\n"
      ],
      "text/plain": [
       "\u001b[1m1×4 DataFrame\u001b[0m\n",
       "\u001b[1m Row \u001b[0m│\u001b[1m A     \u001b[0m\u001b[1m B      \u001b[0m\u001b[1m C       \u001b[0m\u001b[1m D         \u001b[0m\n",
       "     │\u001b[90m Int64 \u001b[0m\u001b[90m String \u001b[0m\u001b[90m Float64 \u001b[0m\u001b[90m Rational… \u001b[0m\n",
       "─────┼───────────────────────────────────\n",
       "   1 │     7  M          -2.3       1//4"
      ]
     },
     "metadata": {},
     "output_type": "display_data"
    }
   ],
   "source": [
    "@chain data begin\n",
    "  subset([:A, :D, :C] => (a,d,c) -> a.*d .> c)\n",
    "end"
   ]
  },
  {
   "cell_type": "markdown",
   "metadata": {},
   "source": [
    "#### Exercise"
   ]
  },
  {
   "cell_type": "markdown",
   "metadata": {},
   "source": [
    "- find all rows where the absolute value of the C column is greater than 2.\n",
    "- find all rows where the product of columns C and D is greater than 1."
   ]
  },
  {
   "cell_type": "markdown",
   "metadata": {},
   "source": [
    "### 29.3: Transforming Data Frames\n",
    "\n",
    "If you want a new column that is some function of one or more of the columns, we will use either `select` or `transform`:\n",
    "- use `select` if you only want the new column(s) in the data frame\n",
    "- use `transform` if you want the original data frame as well as the new columns\n",
    "\n",
    "The following makes a dataframe with a single column that is the square of the A column"
   ]
  },
  {
   "cell_type": "code",
   "execution_count": 15,
   "metadata": {},
   "outputs": [
    {
     "data": {
      "text/html": [
       "<div><div style = \"float: left;\"><span>7×1 DataFrame</span></div><div style = \"clear: both;\"></div></div><div class = \"data-frame\" style = \"overflow-x: scroll;\"><table class = \"data-frame\" style = \"margin-bottom: 6px;\"><thead><tr class = \"header\"><th class = \"rowNumber\" style = \"font-weight: bold; text-align: right;\">Row</th><th style = \"text-align: left;\">A_function</th></tr><tr class = \"subheader headerLastRow\"><th class = \"rowNumber\" style = \"font-weight: bold; text-align: right;\"></th><th title = \"Int64\" style = \"text-align: left;\">Int64</th></tr></thead><tbody><tr><td class = \"rowNumber\" style = \"font-weight: bold; text-align: right;\">1</td><td style = \"text-align: right;\">1</td></tr><tr><td class = \"rowNumber\" style = \"font-weight: bold; text-align: right;\">2</td><td style = \"text-align: right;\">9</td></tr><tr><td class = \"rowNumber\" style = \"font-weight: bold; text-align: right;\">3</td><td style = \"text-align: right;\">25</td></tr><tr><td class = \"rowNumber\" style = \"font-weight: bold; text-align: right;\">4</td><td style = \"text-align: right;\">49</td></tr><tr><td class = \"rowNumber\" style = \"font-weight: bold; text-align: right;\">5</td><td style = \"text-align: right;\">81</td></tr><tr><td class = \"rowNumber\" style = \"font-weight: bold; text-align: right;\">6</td><td style = \"text-align: right;\">121</td></tr><tr><td class = \"rowNumber\" style = \"font-weight: bold; text-align: right;\">7</td><td style = \"text-align: right;\">169</td></tr></tbody></table></div>"
      ],
      "text/latex": [
       "\\begin{tabular}{r|c}\n",
       "\t& A\\_function\\\\\n",
       "\t\\hline\n",
       "\t& Int64\\\\\n",
       "\t\\hline\n",
       "\t1 & 1 \\\\\n",
       "\t2 & 9 \\\\\n",
       "\t3 & 25 \\\\\n",
       "\t4 & 49 \\\\\n",
       "\t5 & 81 \\\\\n",
       "\t6 & 121 \\\\\n",
       "\t7 & 169 \\\\\n",
       "\\end{tabular}\n"
      ],
      "text/plain": [
       "\u001b[1m7×1 DataFrame\u001b[0m\n",
       "\u001b[1m Row \u001b[0m│\u001b[1m A_function \u001b[0m\n",
       "     │\u001b[90m Int64      \u001b[0m\n",
       "─────┼────────────\n",
       "   1 │          1\n",
       "   2 │          9\n",
       "   3 │         25\n",
       "   4 │         49\n",
       "   5 │         81\n",
       "   6 │        121\n",
       "   7 │        169"
      ]
     },
     "metadata": {},
     "output_type": "display_data"
    }
   ],
   "source": [
    "@chain data begin\n",
    "  select(:A => a-> a.^2)\n",
    "end"
   ]
  },
  {
   "cell_type": "markdown",
   "metadata": {},
   "source": [
    "Notice that the new column has the generic column `A_function`. Instead, if we want to give that column a better name use: "
   ]
  },
  {
   "cell_type": "code",
   "execution_count": 16,
   "metadata": {},
   "outputs": [
    {
     "data": {
      "text/html": [
       "<div><div style = \"float: left;\"><span>7×1 DataFrame</span></div><div style = \"clear: both;\"></div></div><div class = \"data-frame\" style = \"overflow-x: scroll;\"><table class = \"data-frame\" style = \"margin-bottom: 6px;\"><thead><tr class = \"header\"><th class = \"rowNumber\" style = \"font-weight: bold; text-align: right;\">Row</th><th style = \"text-align: left;\">Asq</th></tr><tr class = \"subheader headerLastRow\"><th class = \"rowNumber\" style = \"font-weight: bold; text-align: right;\"></th><th title = \"Int64\" style = \"text-align: left;\">Int64</th></tr></thead><tbody><tr><td class = \"rowNumber\" style = \"font-weight: bold; text-align: right;\">1</td><td style = \"text-align: right;\">1</td></tr><tr><td class = \"rowNumber\" style = \"font-weight: bold; text-align: right;\">2</td><td style = \"text-align: right;\">9</td></tr><tr><td class = \"rowNumber\" style = \"font-weight: bold; text-align: right;\">3</td><td style = \"text-align: right;\">25</td></tr><tr><td class = \"rowNumber\" style = \"font-weight: bold; text-align: right;\">4</td><td style = \"text-align: right;\">49</td></tr><tr><td class = \"rowNumber\" style = \"font-weight: bold; text-align: right;\">5</td><td style = \"text-align: right;\">81</td></tr><tr><td class = \"rowNumber\" style = \"font-weight: bold; text-align: right;\">6</td><td style = \"text-align: right;\">121</td></tr><tr><td class = \"rowNumber\" style = \"font-weight: bold; text-align: right;\">7</td><td style = \"text-align: right;\">169</td></tr></tbody></table></div>"
      ],
      "text/latex": [
       "\\begin{tabular}{r|c}\n",
       "\t& Asq\\\\\n",
       "\t\\hline\n",
       "\t& Int64\\\\\n",
       "\t\\hline\n",
       "\t1 & 1 \\\\\n",
       "\t2 & 9 \\\\\n",
       "\t3 & 25 \\\\\n",
       "\t4 & 49 \\\\\n",
       "\t5 & 81 \\\\\n",
       "\t6 & 121 \\\\\n",
       "\t7 & 169 \\\\\n",
       "\\end{tabular}\n"
      ],
      "text/plain": [
       "\u001b[1m7×1 DataFrame\u001b[0m\n",
       "\u001b[1m Row \u001b[0m│\u001b[1m Asq   \u001b[0m\n",
       "     │\u001b[90m Int64 \u001b[0m\n",
       "─────┼───────\n",
       "   1 │     1\n",
       "   2 │     9\n",
       "   3 │    25\n",
       "   4 │    49\n",
       "   5 │    81\n",
       "   6 │   121\n",
       "   7 │   169"
      ]
     },
     "metadata": {},
     "output_type": "display_data"
    }
   ],
   "source": [
    "@chain data begin\n",
    "  select(:A => (a-> a.^2) => :Asq)\n",
    "end"
   ]
  },
  {
   "cell_type": "markdown",
   "metadata": {},
   "source": [
    "Note: make sure the ( ) are around the function.  Remove them to see what happens."
   ]
  },
  {
   "cell_type": "markdown",
   "metadata": {},
   "source": [
    "We can also make a column based on a function of two columns. For example:"
   ]
  },
  {
   "cell_type": "code",
   "execution_count": 17,
   "metadata": {},
   "outputs": [
    {
     "data": {
      "text/html": [
       "<div><div style = \"float: left;\"><span>7×1 DataFrame</span></div><div style = \"clear: both;\"></div></div><div class = \"data-frame\" style = \"overflow-x: scroll;\"><table class = \"data-frame\" style = \"margin-bottom: 6px;\"><thead><tr class = \"header\"><th class = \"rowNumber\" style = \"font-weight: bold; text-align: right;\">Row</th><th style = \"text-align: left;\">prod</th></tr><tr class = \"subheader headerLastRow\"><th class = \"rowNumber\" style = \"font-weight: bold; text-align: right;\"></th><th title = \"Float64\" style = \"text-align: left;\">Float64</th></tr></thead><tbody><tr><td class = \"rowNumber\" style = \"font-weight: bold; text-align: right;\">1</td><td style = \"text-align: right;\">-3.0</td></tr><tr><td class = \"rowNumber\" style = \"font-weight: bold; text-align: right;\">2</td><td style = \"text-align: right;\">1.25</td></tr><tr><td class = \"rowNumber\" style = \"font-weight: bold; text-align: right;\">3</td><td style = \"text-align: right;\">-1.0472</td></tr><tr><td class = \"rowNumber\" style = \"font-weight: bold; text-align: right;\">4</td><td style = \"text-align: right;\">-0.575</td></tr><tr><td class = \"rowNumber\" style = \"font-weight: bold; text-align: right;\">5</td><td style = \"text-align: right;\">-0.0666667</td></tr><tr><td class = \"rowNumber\" style = \"font-weight: bold; text-align: right;\">6</td><td style = \"text-align: right;\">9.33333</td></tr><tr><td class = \"rowNumber\" style = \"font-weight: bold; text-align: right;\">7</td><td style = \"text-align: right;\">-14.2857</td></tr></tbody></table></div>"
      ],
      "text/latex": [
       "\\begin{tabular}{r|c}\n",
       "\t& prod\\\\\n",
       "\t\\hline\n",
       "\t& Float64\\\\\n",
       "\t\\hline\n",
       "\t1 & -3.0 \\\\\n",
       "\t2 & 1.25 \\\\\n",
       "\t3 & -1.0472 \\\\\n",
       "\t4 & -0.575 \\\\\n",
       "\t5 & -0.0666667 \\\\\n",
       "\t6 & 9.33333 \\\\\n",
       "\t7 & -14.2857 \\\\\n",
       "\\end{tabular}\n"
      ],
      "text/plain": [
       "\u001b[1m7×1 DataFrame\u001b[0m\n",
       "\u001b[1m Row \u001b[0m│\u001b[1m prod        \u001b[0m\n",
       "     │\u001b[90m Float64     \u001b[0m\n",
       "─────┼─────────────\n",
       "   1 │  -3.0\n",
       "   2 │   1.25\n",
       "   3 │  -1.0472\n",
       "   4 │  -0.575\n",
       "   5 │  -0.0666667\n",
       "   6 │   9.33333\n",
       "   7 │ -14.2857"
      ]
     },
     "metadata": {},
     "output_type": "display_data"
    }
   ],
   "source": [
    "@chain data begin\n",
    "  select([:C, :D] => ((c,d)-> c.*d) => :prod)\n",
    "end"
   ]
  },
  {
   "cell_type": "markdown",
   "metadata": {},
   "source": [
    "And if we want to do both:"
   ]
  },
  {
   "cell_type": "code",
   "execution_count": 18,
   "metadata": {},
   "outputs": [
    {
     "data": {
      "text/html": [
       "<div><div style = \"float: left;\"><span>7×2 DataFrame</span></div><div style = \"clear: both;\"></div></div><div class = \"data-frame\" style = \"overflow-x: scroll;\"><table class = \"data-frame\" style = \"margin-bottom: 6px;\"><thead><tr class = \"header\"><th class = \"rowNumber\" style = \"font-weight: bold; text-align: right;\">Row</th><th style = \"text-align: left;\">Asq</th><th style = \"text-align: left;\">prod</th></tr><tr class = \"subheader headerLastRow\"><th class = \"rowNumber\" style = \"font-weight: bold; text-align: right;\"></th><th title = \"Int64\" style = \"text-align: left;\">Int64</th><th title = \"Float64\" style = \"text-align: left;\">Float64</th></tr></thead><tbody><tr><td class = \"rowNumber\" style = \"font-weight: bold; text-align: right;\">1</td><td style = \"text-align: right;\">1</td><td style = \"text-align: right;\">-3.0</td></tr><tr><td class = \"rowNumber\" style = \"font-weight: bold; text-align: right;\">2</td><td style = \"text-align: right;\">9</td><td style = \"text-align: right;\">1.25</td></tr><tr><td class = \"rowNumber\" style = \"font-weight: bold; text-align: right;\">3</td><td style = \"text-align: right;\">25</td><td style = \"text-align: right;\">-1.0472</td></tr><tr><td class = \"rowNumber\" style = \"font-weight: bold; text-align: right;\">4</td><td style = \"text-align: right;\">49</td><td style = \"text-align: right;\">-0.575</td></tr><tr><td class = \"rowNumber\" style = \"font-weight: bold; text-align: right;\">5</td><td style = \"text-align: right;\">81</td><td style = \"text-align: right;\">-0.0666667</td></tr><tr><td class = \"rowNumber\" style = \"font-weight: bold; text-align: right;\">6</td><td style = \"text-align: right;\">121</td><td style = \"text-align: right;\">9.33333</td></tr><tr><td class = \"rowNumber\" style = \"font-weight: bold; text-align: right;\">7</td><td style = \"text-align: right;\">169</td><td style = \"text-align: right;\">-14.2857</td></tr></tbody></table></div>"
      ],
      "text/latex": [
       "\\begin{tabular}{r|cc}\n",
       "\t& Asq & prod\\\\\n",
       "\t\\hline\n",
       "\t& Int64 & Float64\\\\\n",
       "\t\\hline\n",
       "\t1 & 1 & -3.0 \\\\\n",
       "\t2 & 9 & 1.25 \\\\\n",
       "\t3 & 25 & -1.0472 \\\\\n",
       "\t4 & 49 & -0.575 \\\\\n",
       "\t5 & 81 & -0.0666667 \\\\\n",
       "\t6 & 121 & 9.33333 \\\\\n",
       "\t7 & 169 & -14.2857 \\\\\n",
       "\\end{tabular}\n"
      ],
      "text/plain": [
       "\u001b[1m7×2 DataFrame\u001b[0m\n",
       "\u001b[1m Row \u001b[0m│\u001b[1m Asq   \u001b[0m\u001b[1m prod        \u001b[0m\n",
       "     │\u001b[90m Int64 \u001b[0m\u001b[90m Float64     \u001b[0m\n",
       "─────┼────────────────────\n",
       "   1 │     1   -3.0\n",
       "   2 │     9    1.25\n",
       "   3 │    25   -1.0472\n",
       "   4 │    49   -0.575\n",
       "   5 │    81   -0.0666667\n",
       "   6 │   121    9.33333\n",
       "   7 │   169  -14.2857"
      ]
     },
     "metadata": {},
     "output_type": "display_data"
    }
   ],
   "source": [
    "@chain data begin\n",
    "  select(:A => (a-> a.^2) => :Asq, [:C, :D] => ((c,d)-> c.*d) => :prod)\n",
    "end"
   ]
  },
  {
   "cell_type": "markdown",
   "metadata": {},
   "source": [
    "When we use `select`, only the new columns are returned.  If instead we want the original dataframe along with the new ones, we can add additional columns to it with the `transform` function"
   ]
  },
  {
   "cell_type": "code",
   "execution_count": 19,
   "metadata": {},
   "outputs": [
    {
     "data": {
      "text/html": [
       "<div><div style = \"float: left;\"><span>7×5 DataFrame</span></div><div style = \"clear: both;\"></div></div><div class = \"data-frame\" style = \"overflow-x: scroll;\"><table class = \"data-frame\" style = \"margin-bottom: 6px;\"><thead><tr class = \"header\"><th class = \"rowNumber\" style = \"font-weight: bold; text-align: right;\">Row</th><th style = \"text-align: left;\">A</th><th style = \"text-align: left;\">B</th><th style = \"text-align: left;\">C</th><th style = \"text-align: left;\">D</th><th style = \"text-align: left;\">Asq</th></tr><tr class = \"subheader headerLastRow\"><th class = \"rowNumber\" style = \"font-weight: bold; text-align: right;\"></th><th title = \"Int64\" style = \"text-align: left;\">Int64</th><th title = \"String\" style = \"text-align: left;\">String</th><th title = \"Float64\" style = \"text-align: left;\">Float64</th><th title = \"Rational{Int64}\" style = \"text-align: left;\">Rational…</th><th title = \"Int64\" style = \"text-align: left;\">Int64</th></tr></thead><tbody><tr><td class = \"rowNumber\" style = \"font-weight: bold; text-align: right;\">1</td><td style = \"text-align: right;\">1</td><td style = \"text-align: left;\">M</td><td style = \"text-align: right;\">3.0</td><td style = \"text-align: right;\">-1//1</td><td style = \"text-align: right;\">1</td></tr><tr><td class = \"rowNumber\" style = \"font-weight: bold; text-align: right;\">2</td><td style = \"text-align: right;\">3</td><td style = \"text-align: left;\">F</td><td style = \"text-align: right;\">2.5</td><td style = \"text-align: right;\">1//2</td><td style = \"text-align: right;\">9</td></tr><tr><td class = \"rowNumber\" style = \"font-weight: bold; text-align: right;\">3</td><td style = \"text-align: right;\">5</td><td style = \"text-align: left;\">F</td><td style = \"text-align: right;\">3.14159</td><td style = \"text-align: right;\">-1//3</td><td style = \"text-align: right;\">25</td></tr><tr><td class = \"rowNumber\" style = \"font-weight: bold; text-align: right;\">4</td><td style = \"text-align: right;\">7</td><td style = \"text-align: left;\">M</td><td style = \"text-align: right;\">-2.3</td><td style = \"text-align: right;\">1//4</td><td style = \"text-align: right;\">49</td></tr><tr><td class = \"rowNumber\" style = \"font-weight: bold; text-align: right;\">5</td><td style = \"text-align: right;\">9</td><td style = \"text-align: left;\">X</td><td style = \"text-align: right;\">0.333333</td><td style = \"text-align: right;\">-1//5</td><td style = \"text-align: right;\">81</td></tr><tr><td class = \"rowNumber\" style = \"font-weight: bold; text-align: right;\">6</td><td style = \"text-align: right;\">11</td><td style = \"text-align: left;\">F</td><td style = \"text-align: right;\">56.0</td><td style = \"text-align: right;\">1//6</td><td style = \"text-align: right;\">121</td></tr><tr><td class = \"rowNumber\" style = \"font-weight: bold; text-align: right;\">7</td><td style = \"text-align: right;\">13</td><td style = \"text-align: left;\">M</td><td style = \"text-align: right;\">100.0</td><td style = \"text-align: right;\">-1//7</td><td style = \"text-align: right;\">169</td></tr></tbody></table></div>"
      ],
      "text/latex": [
       "\\begin{tabular}{r|ccccc}\n",
       "\t& A & B & C & D & Asq\\\\\n",
       "\t\\hline\n",
       "\t& Int64 & String & Float64 & Rational… & Int64\\\\\n",
       "\t\\hline\n",
       "\t1 & 1 & M & 3.0 & -1 & 1 \\\\\n",
       "\t2 & 3 & F & 2.5 & 1//2 & 9 \\\\\n",
       "\t3 & 5 & F & 3.14159 & -1//3 & 25 \\\\\n",
       "\t4 & 7 & M & -2.3 & 1//4 & 49 \\\\\n",
       "\t5 & 9 & X & 0.333333 & -1//5 & 81 \\\\\n",
       "\t6 & 11 & F & 56.0 & 1//6 & 121 \\\\\n",
       "\t7 & 13 & M & 100.0 & -1//7 & 169 \\\\\n",
       "\\end{tabular}\n"
      ],
      "text/plain": [
       "\u001b[1m7×5 DataFrame\u001b[0m\n",
       "\u001b[1m Row \u001b[0m│\u001b[1m A     \u001b[0m\u001b[1m B      \u001b[0m\u001b[1m C          \u001b[0m\u001b[1m D         \u001b[0m\u001b[1m Asq   \u001b[0m\n",
       "     │\u001b[90m Int64 \u001b[0m\u001b[90m String \u001b[0m\u001b[90m Float64    \u001b[0m\u001b[90m Rational… \u001b[0m\u001b[90m Int64 \u001b[0m\n",
       "─────┼─────────────────────────────────────────────\n",
       "   1 │     1  M         3.0           -1//1      1\n",
       "   2 │     3  F         2.5            1//2      9\n",
       "   3 │     5  F         3.14159       -1//3     25\n",
       "   4 │     7  M        -2.3            1//4     49\n",
       "   5 │     9  X         0.333333      -1//5     81\n",
       "   6 │    11  F        56.0            1//6    121\n",
       "   7 │    13  M       100.0           -1//7    169"
      ]
     },
     "metadata": {},
     "output_type": "display_data"
    }
   ],
   "source": [
    "@chain data begin\n",
    "  transform(:A => (a-> a.^2) => :Asq)\n",
    "end"
   ]
  },
  {
   "cell_type": "markdown",
   "metadata": {},
   "source": [
    "#### Exercise\n",
    "\n",
    "- create a new data frame from `data` which is the square root of column C.  Use both `select` and `transform` to see the difference.\n",
    "- Using the `iris` dataframe produce a new column called `area` which is the area of a petal using the `PetalLength` and `PetalWidth` variables and the area of an ellipse. Keep the original columns with this new dataframe."
   ]
  },
  {
   "cell_type": "markdown",
   "metadata": {},
   "source": [
    "### 29.4: Sorting DataFrames"
   ]
  },
  {
   "cell_type": "markdown",
   "metadata": {},
   "source": [
    "Sorting data frames is quite helpful in many situations.  We use the `sort` function to do this.  The following sorts on column C"
   ]
  },
  {
   "cell_type": "code",
   "execution_count": 12,
   "metadata": {},
   "outputs": [
    {
     "data": {
      "text/html": [
       "<div><div style = \"float: left;\"><span>7×4 DataFrame</span></div><div style = \"clear: both;\"></div></div><div class = \"data-frame\" style = \"overflow-x: scroll;\"><table class = \"data-frame\" style = \"margin-bottom: 6px;\"><thead><tr class = \"header\"><th class = \"rowNumber\" style = \"font-weight: bold; text-align: right;\">Row</th><th style = \"text-align: left;\">A</th><th style = \"text-align: left;\">B</th><th style = \"text-align: left;\">C</th><th style = \"text-align: left;\">D</th></tr><tr class = \"subheader headerLastRow\"><th class = \"rowNumber\" style = \"font-weight: bold; text-align: right;\"></th><th title = \"Int64\" style = \"text-align: left;\">Int64</th><th title = \"String\" style = \"text-align: left;\">String</th><th title = \"Float64\" style = \"text-align: left;\">Float64</th><th title = \"Rational{Int64}\" style = \"text-align: left;\">Rational…</th></tr></thead><tbody><tr><td class = \"rowNumber\" style = \"font-weight: bold; text-align: right;\">1</td><td style = \"text-align: right;\">7</td><td style = \"text-align: left;\">M</td><td style = \"text-align: right;\">-2.3</td><td style = \"text-align: right;\">1//4</td></tr><tr><td class = \"rowNumber\" style = \"font-weight: bold; text-align: right;\">2</td><td style = \"text-align: right;\">9</td><td style = \"text-align: left;\">X</td><td style = \"text-align: right;\">0.333333</td><td style = \"text-align: right;\">-1//5</td></tr><tr><td class = \"rowNumber\" style = \"font-weight: bold; text-align: right;\">3</td><td style = \"text-align: right;\">3</td><td style = \"text-align: left;\">F</td><td style = \"text-align: right;\">2.5</td><td style = \"text-align: right;\">1//2</td></tr><tr><td class = \"rowNumber\" style = \"font-weight: bold; text-align: right;\">4</td><td style = \"text-align: right;\">1</td><td style = \"text-align: left;\">M</td><td style = \"text-align: right;\">3.0</td><td style = \"text-align: right;\">-1//1</td></tr><tr><td class = \"rowNumber\" style = \"font-weight: bold; text-align: right;\">5</td><td style = \"text-align: right;\">5</td><td style = \"text-align: left;\">F</td><td style = \"text-align: right;\">3.14159</td><td style = \"text-align: right;\">-1//3</td></tr><tr><td class = \"rowNumber\" style = \"font-weight: bold; text-align: right;\">6</td><td style = \"text-align: right;\">11</td><td style = \"text-align: left;\">F</td><td style = \"text-align: right;\">56.0</td><td style = \"text-align: right;\">1//6</td></tr><tr><td class = \"rowNumber\" style = \"font-weight: bold; text-align: right;\">7</td><td style = \"text-align: right;\">13</td><td style = \"text-align: left;\">M</td><td style = \"text-align: right;\">100.0</td><td style = \"text-align: right;\">-1//7</td></tr></tbody></table></div>"
      ],
      "text/latex": [
       "\\begin{tabular}{r|cccc}\n",
       "\t& A & B & C & D\\\\\n",
       "\t\\hline\n",
       "\t& Int64 & String & Float64 & Rational…\\\\\n",
       "\t\\hline\n",
       "\t1 & 7 & M & -2.3 & 1//4 \\\\\n",
       "\t2 & 9 & X & 0.333333 & -1//5 \\\\\n",
       "\t3 & 3 & F & 2.5 & 1//2 \\\\\n",
       "\t4 & 1 & M & 3.0 & -1 \\\\\n",
       "\t5 & 5 & F & 3.14159 & -1//3 \\\\\n",
       "\t6 & 11 & F & 56.0 & 1//6 \\\\\n",
       "\t7 & 13 & M & 100.0 & -1//7 \\\\\n",
       "\\end{tabular}\n"
      ],
      "text/plain": [
       "\u001b[1m7×4 DataFrame\u001b[0m\n",
       "\u001b[1m Row \u001b[0m│\u001b[1m A     \u001b[0m\u001b[1m B      \u001b[0m\u001b[1m C          \u001b[0m\u001b[1m D         \u001b[0m\n",
       "     │\u001b[90m Int64 \u001b[0m\u001b[90m String \u001b[0m\u001b[90m Float64    \u001b[0m\u001b[90m Rational… \u001b[0m\n",
       "─────┼──────────────────────────────────────\n",
       "   1 │     7  M        -2.3            1//4\n",
       "   2 │     9  X         0.333333      -1//5\n",
       "   3 │     3  F         2.5            1//2\n",
       "   4 │     1  M         3.0           -1//1\n",
       "   5 │     5  F         3.14159       -1//3\n",
       "   6 │    11  F        56.0            1//6\n",
       "   7 │    13  M       100.0           -1//7"
      ]
     },
     "metadata": {},
     "output_type": "display_data"
    }
   ],
   "source": [
    "@chain data begin\n",
    "  sort(:C)\n",
    "end"
   ]
  },
  {
   "cell_type": "markdown",
   "metadata": {},
   "source": [
    "And if we want to sort in reverse order"
   ]
  },
  {
   "cell_type": "code",
   "execution_count": 24,
   "metadata": {},
   "outputs": [
    {
     "data": {
      "text/html": [
       "<div><div style = \"float: left;\"><span>7×4 DataFrame</span></div><div style = \"clear: both;\"></div></div><div class = \"data-frame\" style = \"overflow-x: scroll;\"><table class = \"data-frame\" style = \"margin-bottom: 6px;\"><thead><tr class = \"header\"><th class = \"rowNumber\" style = \"font-weight: bold; text-align: right;\">Row</th><th style = \"text-align: left;\">A</th><th style = \"text-align: left;\">B</th><th style = \"text-align: left;\">C</th><th style = \"text-align: left;\">D</th></tr><tr class = \"subheader headerLastRow\"><th class = \"rowNumber\" style = \"font-weight: bold; text-align: right;\"></th><th title = \"Int64\" style = \"text-align: left;\">Int64</th><th title = \"String\" style = \"text-align: left;\">String</th><th title = \"Float64\" style = \"text-align: left;\">Float64</th><th title = \"Rational{Int64}\" style = \"text-align: left;\">Rational…</th></tr></thead><tbody><tr><td class = \"rowNumber\" style = \"font-weight: bold; text-align: right;\">1</td><td style = \"text-align: right;\">13</td><td style = \"text-align: left;\">M</td><td style = \"text-align: right;\">100.0</td><td style = \"text-align: right;\">-1//7</td></tr><tr><td class = \"rowNumber\" style = \"font-weight: bold; text-align: right;\">2</td><td style = \"text-align: right;\">11</td><td style = \"text-align: left;\">F</td><td style = \"text-align: right;\">56.0</td><td style = \"text-align: right;\">1//6</td></tr><tr><td class = \"rowNumber\" style = \"font-weight: bold; text-align: right;\">3</td><td style = \"text-align: right;\">5</td><td style = \"text-align: left;\">F</td><td style = \"text-align: right;\">3.14159</td><td style = \"text-align: right;\">-1//3</td></tr><tr><td class = \"rowNumber\" style = \"font-weight: bold; text-align: right;\">4</td><td style = \"text-align: right;\">1</td><td style = \"text-align: left;\">M</td><td style = \"text-align: right;\">3.0</td><td style = \"text-align: right;\">-1//1</td></tr><tr><td class = \"rowNumber\" style = \"font-weight: bold; text-align: right;\">5</td><td style = \"text-align: right;\">3</td><td style = \"text-align: left;\">F</td><td style = \"text-align: right;\">2.5</td><td style = \"text-align: right;\">1//2</td></tr><tr><td class = \"rowNumber\" style = \"font-weight: bold; text-align: right;\">6</td><td style = \"text-align: right;\">9</td><td style = \"text-align: left;\">X</td><td style = \"text-align: right;\">0.333333</td><td style = \"text-align: right;\">-1//5</td></tr><tr><td class = \"rowNumber\" style = \"font-weight: bold; text-align: right;\">7</td><td style = \"text-align: right;\">7</td><td style = \"text-align: left;\">M</td><td style = \"text-align: right;\">-2.3</td><td style = \"text-align: right;\">1//4</td></tr></tbody></table></div>"
      ],
      "text/latex": [
       "\\begin{tabular}{r|cccc}\n",
       "\t& A & B & C & D\\\\\n",
       "\t\\hline\n",
       "\t& Int64 & String & Float64 & Rational…\\\\\n",
       "\t\\hline\n",
       "\t1 & 13 & M & 100.0 & -1//7 \\\\\n",
       "\t2 & 11 & F & 56.0 & 1//6 \\\\\n",
       "\t3 & 5 & F & 3.14159 & -1//3 \\\\\n",
       "\t4 & 1 & M & 3.0 & -1 \\\\\n",
       "\t5 & 3 & F & 2.5 & 1//2 \\\\\n",
       "\t6 & 9 & X & 0.333333 & -1//5 \\\\\n",
       "\t7 & 7 & M & -2.3 & 1//4 \\\\\n",
       "\\end{tabular}\n"
      ],
      "text/plain": [
       "\u001b[1m7×4 DataFrame\u001b[0m\n",
       "\u001b[1m Row \u001b[0m│\u001b[1m A     \u001b[0m\u001b[1m B      \u001b[0m\u001b[1m C          \u001b[0m\u001b[1m D         \u001b[0m\n",
       "     │\u001b[90m Int64 \u001b[0m\u001b[90m String \u001b[0m\u001b[90m Float64    \u001b[0m\u001b[90m Rational… \u001b[0m\n",
       "─────┼──────────────────────────────────────\n",
       "   1 │    13  M       100.0           -1//7\n",
       "   2 │    11  F        56.0            1//6\n",
       "   3 │     5  F         3.14159       -1//3\n",
       "   4 │     1  M         3.0           -1//1\n",
       "   5 │     3  F         2.5            1//2\n",
       "   6 │     9  X         0.333333      -1//5\n",
       "   7 │     7  M        -2.3            1//4"
      ]
     },
     "metadata": {},
     "output_type": "display_data"
    }
   ],
   "source": [
    "@chain data begin\n",
    "  sort(:C, rev = true)\n",
    "end"
   ]
  },
  {
   "cell_type": "markdown",
   "metadata": {},
   "source": [
    "And sorting is done by type.  This sorts lexiographically."
   ]
  },
  {
   "cell_type": "code",
   "execution_count": 23,
   "metadata": {},
   "outputs": [
    {
     "data": {
      "text/html": [
       "<div><div style = \"float: left;\"><span>7×4 DataFrame</span></div><div style = \"clear: both;\"></div></div><div class = \"data-frame\" style = \"overflow-x: scroll;\"><table class = \"data-frame\" style = \"margin-bottom: 6px;\"><thead><tr class = \"header\"><th class = \"rowNumber\" style = \"font-weight: bold; text-align: right;\">Row</th><th style = \"text-align: left;\">A</th><th style = \"text-align: left;\">B</th><th style = \"text-align: left;\">C</th><th style = \"text-align: left;\">D</th></tr><tr class = \"subheader headerLastRow\"><th class = \"rowNumber\" style = \"font-weight: bold; text-align: right;\"></th><th title = \"Int64\" style = \"text-align: left;\">Int64</th><th title = \"String\" style = \"text-align: left;\">String</th><th title = \"Float64\" style = \"text-align: left;\">Float64</th><th title = \"Rational{Int64}\" style = \"text-align: left;\">Rational…</th></tr></thead><tbody><tr><td class = \"rowNumber\" style = \"font-weight: bold; text-align: right;\">1</td><td style = \"text-align: right;\">3</td><td style = \"text-align: left;\">F</td><td style = \"text-align: right;\">2.5</td><td style = \"text-align: right;\">1//2</td></tr><tr><td class = \"rowNumber\" style = \"font-weight: bold; text-align: right;\">2</td><td style = \"text-align: right;\">5</td><td style = \"text-align: left;\">F</td><td style = \"text-align: right;\">3.14159</td><td style = \"text-align: right;\">-1//3</td></tr><tr><td class = \"rowNumber\" style = \"font-weight: bold; text-align: right;\">3</td><td style = \"text-align: right;\">11</td><td style = \"text-align: left;\">F</td><td style = \"text-align: right;\">56.0</td><td style = \"text-align: right;\">1//6</td></tr><tr><td class = \"rowNumber\" style = \"font-weight: bold; text-align: right;\">4</td><td style = \"text-align: right;\">1</td><td style = \"text-align: left;\">M</td><td style = \"text-align: right;\">3.0</td><td style = \"text-align: right;\">-1//1</td></tr><tr><td class = \"rowNumber\" style = \"font-weight: bold; text-align: right;\">5</td><td style = \"text-align: right;\">7</td><td style = \"text-align: left;\">M</td><td style = \"text-align: right;\">-2.3</td><td style = \"text-align: right;\">1//4</td></tr><tr><td class = \"rowNumber\" style = \"font-weight: bold; text-align: right;\">6</td><td style = \"text-align: right;\">13</td><td style = \"text-align: left;\">M</td><td style = \"text-align: right;\">100.0</td><td style = \"text-align: right;\">-1//7</td></tr><tr><td class = \"rowNumber\" style = \"font-weight: bold; text-align: right;\">7</td><td style = \"text-align: right;\">9</td><td style = \"text-align: left;\">X</td><td style = \"text-align: right;\">0.333333</td><td style = \"text-align: right;\">-1//5</td></tr></tbody></table></div>"
      ],
      "text/latex": [
       "\\begin{tabular}{r|cccc}\n",
       "\t& A & B & C & D\\\\\n",
       "\t\\hline\n",
       "\t& Int64 & String & Float64 & Rational…\\\\\n",
       "\t\\hline\n",
       "\t1 & 3 & F & 2.5 & 1//2 \\\\\n",
       "\t2 & 5 & F & 3.14159 & -1//3 \\\\\n",
       "\t3 & 11 & F & 56.0 & 1//6 \\\\\n",
       "\t4 & 1 & M & 3.0 & -1 \\\\\n",
       "\t5 & 7 & M & -2.3 & 1//4 \\\\\n",
       "\t6 & 13 & M & 100.0 & -1//7 \\\\\n",
       "\t7 & 9 & X & 0.333333 & -1//5 \\\\\n",
       "\\end{tabular}\n"
      ],
      "text/plain": [
       "\u001b[1m7×4 DataFrame\u001b[0m\n",
       "\u001b[1m Row \u001b[0m│\u001b[1m A     \u001b[0m\u001b[1m B      \u001b[0m\u001b[1m C          \u001b[0m\u001b[1m D         \u001b[0m\n",
       "     │\u001b[90m Int64 \u001b[0m\u001b[90m String \u001b[0m\u001b[90m Float64    \u001b[0m\u001b[90m Rational… \u001b[0m\n",
       "─────┼──────────────────────────────────────\n",
       "   1 │     3  F         2.5            1//2\n",
       "   2 │     5  F         3.14159       -1//3\n",
       "   3 │    11  F        56.0            1//6\n",
       "   4 │     1  M         3.0           -1//1\n",
       "   5 │     7  M        -2.3            1//4\n",
       "   6 │    13  M       100.0           -1//7\n",
       "   7 │     9  X         0.333333      -1//5"
      ]
     },
     "metadata": {},
     "output_type": "display_data"
    }
   ],
   "source": [
    "@chain data begin\n",
    "  sort(:B)\n",
    "end"
   ]
  },
  {
   "cell_type": "markdown",
   "metadata": {},
   "source": [
    "If there are ties in sorting (see above), we can sort by a second column as in the following"
   ]
  },
  {
   "cell_type": "code",
   "execution_count": 25,
   "metadata": {},
   "outputs": [
    {
     "data": {
      "text/html": [
       "<div><div style = \"float: left;\"><span>7×4 DataFrame</span></div><div style = \"clear: both;\"></div></div><div class = \"data-frame\" style = \"overflow-x: scroll;\"><table class = \"data-frame\" style = \"margin-bottom: 6px;\"><thead><tr class = \"header\"><th class = \"rowNumber\" style = \"font-weight: bold; text-align: right;\">Row</th><th style = \"text-align: left;\">A</th><th style = \"text-align: left;\">B</th><th style = \"text-align: left;\">C</th><th style = \"text-align: left;\">D</th></tr><tr class = \"subheader headerLastRow\"><th class = \"rowNumber\" style = \"font-weight: bold; text-align: right;\"></th><th title = \"Int64\" style = \"text-align: left;\">Int64</th><th title = \"String\" style = \"text-align: left;\">String</th><th title = \"Float64\" style = \"text-align: left;\">Float64</th><th title = \"Rational{Int64}\" style = \"text-align: left;\">Rational…</th></tr></thead><tbody><tr><td class = \"rowNumber\" style = \"font-weight: bold; text-align: right;\">1</td><td style = \"text-align: right;\">5</td><td style = \"text-align: left;\">F</td><td style = \"text-align: right;\">3.14159</td><td style = \"text-align: right;\">-1//3</td></tr><tr><td class = \"rowNumber\" style = \"font-weight: bold; text-align: right;\">2</td><td style = \"text-align: right;\">11</td><td style = \"text-align: left;\">F</td><td style = \"text-align: right;\">56.0</td><td style = \"text-align: right;\">1//6</td></tr><tr><td class = \"rowNumber\" style = \"font-weight: bold; text-align: right;\">3</td><td style = \"text-align: right;\">3</td><td style = \"text-align: left;\">F</td><td style = \"text-align: right;\">2.5</td><td style = \"text-align: right;\">1//2</td></tr><tr><td class = \"rowNumber\" style = \"font-weight: bold; text-align: right;\">4</td><td style = \"text-align: right;\">1</td><td style = \"text-align: left;\">M</td><td style = \"text-align: right;\">3.0</td><td style = \"text-align: right;\">-1//1</td></tr><tr><td class = \"rowNumber\" style = \"font-weight: bold; text-align: right;\">5</td><td style = \"text-align: right;\">13</td><td style = \"text-align: left;\">M</td><td style = \"text-align: right;\">100.0</td><td style = \"text-align: right;\">-1//7</td></tr><tr><td class = \"rowNumber\" style = \"font-weight: bold; text-align: right;\">6</td><td style = \"text-align: right;\">7</td><td style = \"text-align: left;\">M</td><td style = \"text-align: right;\">-2.3</td><td style = \"text-align: right;\">1//4</td></tr><tr><td class = \"rowNumber\" style = \"font-weight: bold; text-align: right;\">7</td><td style = \"text-align: right;\">9</td><td style = \"text-align: left;\">X</td><td style = \"text-align: right;\">0.333333</td><td style = \"text-align: right;\">-1//5</td></tr></tbody></table></div>"
      ],
      "text/latex": [
       "\\begin{tabular}{r|cccc}\n",
       "\t& A & B & C & D\\\\\n",
       "\t\\hline\n",
       "\t& Int64 & String & Float64 & Rational…\\\\\n",
       "\t\\hline\n",
       "\t1 & 5 & F & 3.14159 & -1//3 \\\\\n",
       "\t2 & 11 & F & 56.0 & 1//6 \\\\\n",
       "\t3 & 3 & F & 2.5 & 1//2 \\\\\n",
       "\t4 & 1 & M & 3.0 & -1 \\\\\n",
       "\t5 & 13 & M & 100.0 & -1//7 \\\\\n",
       "\t6 & 7 & M & -2.3 & 1//4 \\\\\n",
       "\t7 & 9 & X & 0.333333 & -1//5 \\\\\n",
       "\\end{tabular}\n"
      ],
      "text/plain": [
       "\u001b[1m7×4 DataFrame\u001b[0m\n",
       "\u001b[1m Row \u001b[0m│\u001b[1m A     \u001b[0m\u001b[1m B      \u001b[0m\u001b[1m C          \u001b[0m\u001b[1m D         \u001b[0m\n",
       "     │\u001b[90m Int64 \u001b[0m\u001b[90m String \u001b[0m\u001b[90m Float64    \u001b[0m\u001b[90m Rational… \u001b[0m\n",
       "─────┼──────────────────────────────────────\n",
       "   1 │     5  F         3.14159       -1//3\n",
       "   2 │    11  F        56.0            1//6\n",
       "   3 │     3  F         2.5            1//2\n",
       "   4 │     1  M         3.0           -1//1\n",
       "   5 │    13  M       100.0           -1//7\n",
       "   6 │     7  M        -2.3            1//4\n",
       "   7 │     9  X         0.333333      -1//5"
      ]
     },
     "metadata": {},
     "output_type": "display_data"
    }
   ],
   "source": [
    "@chain data begin\n",
    "  sort([:B, :D])\n",
    "end"
   ]
  },
  {
   "cell_type": "markdown",
   "metadata": {},
   "source": [
    "And notice that within all rows where column B is \"F\", that the rows are sorted by column D."
   ]
  },
  {
   "cell_type": "markdown",
   "metadata": {},
   "source": [
    "### 29.5: Joining DataFrames"
   ]
  },
  {
   "cell_type": "markdown",
   "metadata": {},
   "source": [
    "Another important activity to do with data frames is joining two or more.  Typically this means that both data frame have a common piece of information on which to join.  Consider the following:"
   ]
  },
  {
   "cell_type": "code",
   "execution_count": 13,
   "metadata": {},
   "outputs": [
    {
     "data": {
      "text/html": [
       "<div><div style = \"float: left;\"><span>9×4 DataFrame</span></div><div style = \"clear: both;\"></div></div><div class = \"data-frame\" style = \"overflow-x: scroll;\"><table class = \"data-frame\" style = \"margin-bottom: 6px;\"><thead><tr class = \"header\"><th class = \"rowNumber\" style = \"font-weight: bold; text-align: right;\">Row</th><th style = \"text-align: left;\">name</th><th style = \"text-align: left;\">age</th><th style = \"text-align: left;\">current_school_grade</th><th style = \"text-align: left;\">favorite_food</th></tr><tr class = \"subheader headerLastRow\"><th class = \"rowNumber\" style = \"font-weight: bold; text-align: right;\"></th><th title = \"String\" style = \"text-align: left;\">String</th><th title = \"Int64\" style = \"text-align: left;\">Int64</th><th title = \"Union{Missing, Int64}\" style = \"text-align: left;\">Int64?</th><th title = \"Union{Missing, String}\" style = \"text-align: left;\">String?</th></tr></thead><tbody><tr><td class = \"rowNumber\" style = \"font-weight: bold; text-align: right;\">1</td><td style = \"text-align: left;\">Homer</td><td style = \"text-align: right;\">45</td><td style = \"font-style: italic; text-align: right;\">missing</td><td style = \"text-align: left;\">pork chops</td></tr><tr><td class = \"rowNumber\" style = \"font-weight: bold; text-align: right;\">2</td><td style = \"text-align: left;\">Marge</td><td style = \"text-align: right;\">42</td><td style = \"font-style: italic; text-align: right;\">missing</td><td style = \"text-align: left;\">casserole</td></tr><tr><td class = \"rowNumber\" style = \"font-weight: bold; text-align: right;\">3</td><td style = \"text-align: left;\">Lisa</td><td style = \"text-align: right;\">8</td><td style = \"text-align: right;\">2</td><td style = \"text-align: left;\">salad</td></tr><tr><td class = \"rowNumber\" style = \"font-weight: bold; text-align: right;\">4</td><td style = \"text-align: left;\">Bart</td><td style = \"text-align: right;\">10</td><td style = \"text-align: right;\">4</td><td style = \"text-align: left;\">hamburger</td></tr><tr><td class = \"rowNumber\" style = \"font-weight: bold; text-align: right;\">5</td><td style = \"text-align: left;\">Maggie</td><td style = \"text-align: right;\">1</td><td style = \"font-style: italic; text-align: right;\">missing</td><td style = \"font-style: italic; text-align: left;\">missing</td></tr><tr><td class = \"rowNumber\" style = \"font-weight: bold; text-align: right;\">6</td><td style = \"text-align: left;\">Apu</td><td style = \"text-align: right;\">38</td><td style = \"font-style: italic; text-align: right;\">missing</td><td style = \"text-align: left;\">saag paneer</td></tr><tr><td class = \"rowNumber\" style = \"font-weight: bold; text-align: right;\">7</td><td style = \"text-align: left;\">Moe</td><td style = \"text-align: right;\">59</td><td style = \"font-style: italic; text-align: right;\">missing</td><td style = \"text-align: left;\">peanuts</td></tr><tr><td class = \"rowNumber\" style = \"font-weight: bold; text-align: right;\">8</td><td style = \"text-align: left;\">Milhouse</td><td style = \"text-align: right;\">1</td><td style = \"text-align: right;\">4</td><td style = \"font-style: italic; text-align: left;\">missing</td></tr><tr><td class = \"rowNumber\" style = \"font-weight: bold; text-align: right;\">9</td><td style = \"text-align: left;\">Patty</td><td style = \"text-align: right;\">46</td><td style = \"font-style: italic; text-align: right;\">missing</td><td style = \"text-align: left;\">Lady Laramie 100s</td></tr></tbody></table></div>"
      ],
      "text/latex": [
       "\\begin{tabular}{r|cccc}\n",
       "\t& name & age & current\\_school\\_grade & favorite\\_food\\\\\n",
       "\t\\hline\n",
       "\t& String & Int64 & Int64? & String?\\\\\n",
       "\t\\hline\n",
       "\t1 & Homer & 45 & \\emph{missing} & pork chops \\\\\n",
       "\t2 & Marge & 42 & \\emph{missing} & casserole \\\\\n",
       "\t3 & Lisa & 8 & 2 & salad \\\\\n",
       "\t4 & Bart & 10 & 4 & hamburger \\\\\n",
       "\t5 & Maggie & 1 & \\emph{missing} & \\emph{missing} \\\\\n",
       "\t6 & Apu & 38 & \\emph{missing} & saag paneer \\\\\n",
       "\t7 & Moe & 59 & \\emph{missing} & peanuts \\\\\n",
       "\t8 & Milhouse & 1 & 4 & \\emph{missing} \\\\\n",
       "\t9 & Patty & 46 & \\emph{missing} & Lady Laramie 100s \\\\\n",
       "\\end{tabular}\n"
      ],
      "text/plain": [
       "\u001b[1m9×4 DataFrame\u001b[0m\n",
       "\u001b[1m Row \u001b[0m│\u001b[1m name     \u001b[0m\u001b[1m age   \u001b[0m\u001b[1m current_school_grade \u001b[0m\u001b[1m favorite_food     \u001b[0m\n",
       "     │\u001b[90m String   \u001b[0m\u001b[90m Int64 \u001b[0m\u001b[90m Int64?               \u001b[0m\u001b[90m String?           \u001b[0m\n",
       "─────┼──────────────────────────────────────────────────────────\n",
       "   1 │ Homer        45 \u001b[90m              missing \u001b[0m pork chops\n",
       "   2 │ Marge        42 \u001b[90m              missing \u001b[0m casserole\n",
       "   3 │ Lisa          8                     2  salad\n",
       "   4 │ Bart         10                     4  hamburger\n",
       "   5 │ Maggie        1 \u001b[90m              missing \u001b[0m\u001b[90m missing           \u001b[0m\n",
       "   6 │ Apu          38 \u001b[90m              missing \u001b[0m saag paneer\n",
       "   7 │ Moe          59 \u001b[90m              missing \u001b[0m peanuts\n",
       "   8 │ Milhouse      1                     4 \u001b[90m missing           \u001b[0m\n",
       "   9 │ Patty        46 \u001b[90m              missing \u001b[0m Lady Laramie 100s"
      ]
     },
     "metadata": {},
     "output_type": "display_data"
    }
   ],
   "source": [
    "simpsons = DataFrame(\n",
    "  name=[\"Homer\",\"Marge\",\"Lisa\",\"Bart\",\"Maggie\",\"Apu\",\"Moe\", \"Milhouse\", \"Patty\"],\n",
    "  age =[45,42,8,10,1,38,59, 1, 46],\n",
    "  current_school_grade = [missing, missing, 2, 4, missing, missing, missing, 4, missing],\n",
    "  favorite_food = [\"pork chops\",\"casserole\",\"salad\",\"hamburger\",missing,\"saag paneer\",\"peanuts\", missing, \"Lady Laramie 100s\"]\n",
    ")"
   ]
  },
  {
   "cell_type": "code",
   "execution_count": 14,
   "metadata": {},
   "outputs": [
    {
     "data": {
      "text/html": [
       "<div><div style = \"float: left;\"><span>6×3 DataFrame</span></div><div style = \"clear: both;\"></div></div><div class = \"data-frame\" style = \"overflow-x: scroll;\"><table class = \"data-frame\" style = \"margin-bottom: 6px;\"><thead><tr class = \"header\"><th class = \"rowNumber\" style = \"font-weight: bold; text-align: right;\">Row</th><th style = \"text-align: left;\">name</th><th style = \"text-align: left;\">job</th><th style = \"text-align: left;\">salary</th></tr><tr class = \"subheader headerLastRow\"><th class = \"rowNumber\" style = \"font-weight: bold; text-align: right;\"></th><th title = \"String\" style = \"text-align: left;\">String</th><th title = \"String\" style = \"text-align: left;\">String</th><th title = \"Union{Missing, Int64}\" style = \"text-align: left;\">Int64?</th></tr></thead><tbody><tr><td class = \"rowNumber\" style = \"font-weight: bold; text-align: right;\">1</td><td style = \"text-align: left;\">Homer</td><td style = \"text-align: left;\">nuclear technician</td><td style = \"text-align: right;\">50000</td></tr><tr><td class = \"rowNumber\" style = \"font-weight: bold; text-align: right;\">2</td><td style = \"text-align: left;\">Marge</td><td style = \"text-align: left;\">housewife</td><td style = \"text-align: right;\">25000</td></tr><tr><td class = \"rowNumber\" style = \"font-weight: bold; text-align: right;\">3</td><td style = \"text-align: left;\">Apu</td><td style = \"text-align: left;\">store owner</td><td style = \"text-align: right;\">60000</td></tr><tr><td class = \"rowNumber\" style = \"font-weight: bold; text-align: right;\">4</td><td style = \"text-align: left;\">Moe</td><td style = \"text-align: left;\">bartender</td><td style = \"text-align: right;\">15000</td></tr><tr><td class = \"rowNumber\" style = \"font-weight: bold; text-align: right;\">5</td><td style = \"text-align: left;\">Patty</td><td style = \"text-align: left;\">DMV clerk</td><td style = \"font-style: italic; text-align: right;\">missing</td></tr><tr><td class = \"rowNumber\" style = \"font-weight: bold; text-align: right;\">6</td><td style = \"text-align: left;\">Wiggam</td><td style = \"text-align: left;\">police chief</td><td style = \"text-align: right;\">75000</td></tr></tbody></table></div>"
      ],
      "text/latex": [
       "\\begin{tabular}{r|ccc}\n",
       "\t& name & job & salary\\\\\n",
       "\t\\hline\n",
       "\t& String & String & Int64?\\\\\n",
       "\t\\hline\n",
       "\t1 & Homer & nuclear technician & 50000 \\\\\n",
       "\t2 & Marge & housewife & 25000 \\\\\n",
       "\t3 & Apu & store owner & 60000 \\\\\n",
       "\t4 & Moe & bartender & 15000 \\\\\n",
       "\t5 & Patty & DMV clerk & \\emph{missing} \\\\\n",
       "\t6 & Wiggam & police chief & 75000 \\\\\n",
       "\\end{tabular}\n"
      ],
      "text/plain": [
       "\u001b[1m6×3 DataFrame\u001b[0m\n",
       "\u001b[1m Row \u001b[0m│\u001b[1m name   \u001b[0m\u001b[1m job                \u001b[0m\u001b[1m salary  \u001b[0m\n",
       "     │\u001b[90m String \u001b[0m\u001b[90m String             \u001b[0m\u001b[90m Int64?  \u001b[0m\n",
       "─────┼─────────────────────────────────────\n",
       "   1 │ Homer   nuclear technician    50000\n",
       "   2 │ Marge   housewife             25000\n",
       "   3 │ Apu     store owner           60000\n",
       "   4 │ Moe     bartender             15000\n",
       "   5 │ Patty   DMV clerk          \u001b[90m missing \u001b[0m\n",
       "   6 │ Wiggam  police chief          75000"
      ]
     },
     "metadata": {},
     "output_type": "display_data"
    }
   ],
   "source": [
    "jobs = DataFrame(\n",
    "  name = [\"Homer\",\"Marge\",\"Apu\",\"Moe\", \"Patty\", \"Wiggam\"],\n",
    "  job = [\"nuclear technician\", \"housewife\", \"store owner\", \"bartender\", \"DMV clerk\", \"police chief\"],\n",
    "  salary = [50_000, 25_000, 60_000, 15_000, missing, 75_000]\n",
    ")"
   ]
  },
  {
   "cell_type": "markdown",
   "metadata": {},
   "source": [
    "If we want to join these two dataframe, this means add columns to all or some of the rows.  We need to join them on one of the columns from each. For this, we will join on the `Name` column from both. "
   ]
  },
  {
   "cell_type": "code",
   "execution_count": 30,
   "metadata": {},
   "outputs": [
    {
     "data": {
      "text/html": [
       "<div><div style = \"float: left;\"><span>5×6 DataFrame</span></div><div style = \"clear: both;\"></div></div><div class = \"data-frame\" style = \"overflow-x: scroll;\"><table class = \"data-frame\" style = \"margin-bottom: 6px;\"><thead><tr class = \"header\"><th class = \"rowNumber\" style = \"font-weight: bold; text-align: right;\">Row</th><th style = \"text-align: left;\">name</th><th style = \"text-align: left;\">age</th><th style = \"text-align: left;\">current_school_grade</th><th style = \"text-align: left;\">favorite_food</th><th style = \"text-align: left;\">job</th><th style = \"text-align: left;\">salary</th></tr><tr class = \"subheader headerLastRow\"><th class = \"rowNumber\" style = \"font-weight: bold; text-align: right;\"></th><th title = \"String\" style = \"text-align: left;\">String</th><th title = \"Int64\" style = \"text-align: left;\">Int64</th><th title = \"Union{Missing, Int64}\" style = \"text-align: left;\">Int64?</th><th title = \"Union{Missing, String}\" style = \"text-align: left;\">String?</th><th title = \"String\" style = \"text-align: left;\">String</th><th title = \"Union{Missing, Int64}\" style = \"text-align: left;\">Int64?</th></tr></thead><tbody><tr><td class = \"rowNumber\" style = \"font-weight: bold; text-align: right;\">1</td><td style = \"text-align: left;\">Homer</td><td style = \"text-align: right;\">45</td><td style = \"font-style: italic; text-align: right;\">missing</td><td style = \"text-align: left;\">pork chops</td><td style = \"text-align: left;\">nuclear technician</td><td style = \"text-align: right;\">50000</td></tr><tr><td class = \"rowNumber\" style = \"font-weight: bold; text-align: right;\">2</td><td style = \"text-align: left;\">Marge</td><td style = \"text-align: right;\">42</td><td style = \"font-style: italic; text-align: right;\">missing</td><td style = \"text-align: left;\">casserole</td><td style = \"text-align: left;\">housewife</td><td style = \"text-align: right;\">25000</td></tr><tr><td class = \"rowNumber\" style = \"font-weight: bold; text-align: right;\">3</td><td style = \"text-align: left;\">Apu</td><td style = \"text-align: right;\">38</td><td style = \"font-style: italic; text-align: right;\">missing</td><td style = \"text-align: left;\">saag paneer</td><td style = \"text-align: left;\">store owner</td><td style = \"text-align: right;\">60000</td></tr><tr><td class = \"rowNumber\" style = \"font-weight: bold; text-align: right;\">4</td><td style = \"text-align: left;\">Moe</td><td style = \"text-align: right;\">59</td><td style = \"font-style: italic; text-align: right;\">missing</td><td style = \"text-align: left;\">peanuts</td><td style = \"text-align: left;\">bartender</td><td style = \"text-align: right;\">15000</td></tr><tr><td class = \"rowNumber\" style = \"font-weight: bold; text-align: right;\">5</td><td style = \"text-align: left;\">Patty</td><td style = \"text-align: right;\">46</td><td style = \"font-style: italic; text-align: right;\">missing</td><td style = \"text-align: left;\">Lady Laramie 100s</td><td style = \"text-align: left;\">DMV clerk</td><td style = \"font-style: italic; text-align: right;\">missing</td></tr></tbody></table></div>"
      ],
      "text/latex": [
       "\\begin{tabular}{r|cccccc}\n",
       "\t& name & age & current\\_school\\_grade & favorite\\_food & job & salary\\\\\n",
       "\t\\hline\n",
       "\t& String & Int64 & Int64? & String? & String & Int64?\\\\\n",
       "\t\\hline\n",
       "\t1 & Homer & 45 & \\emph{missing} & pork chops & nuclear technician & 50000 \\\\\n",
       "\t2 & Marge & 42 & \\emph{missing} & casserole & housewife & 25000 \\\\\n",
       "\t3 & Apu & 38 & \\emph{missing} & saag paneer & store owner & 60000 \\\\\n",
       "\t4 & Moe & 59 & \\emph{missing} & peanuts & bartender & 15000 \\\\\n",
       "\t5 & Patty & 46 & \\emph{missing} & Lady Laramie 100s & DMV clerk & \\emph{missing} \\\\\n",
       "\\end{tabular}\n"
      ],
      "text/plain": [
       "\u001b[1m5×6 DataFrame\u001b[0m\n",
       "\u001b[1m Row \u001b[0m│\u001b[1m name   \u001b[0m\u001b[1m age   \u001b[0m\u001b[1m current_school_grade \u001b[0m\u001b[1m favorite_food     \u001b[0m\u001b[1m job            \u001b[0m ⋯\n",
       "     │\u001b[90m String \u001b[0m\u001b[90m Int64 \u001b[0m\u001b[90m Int64?               \u001b[0m\u001b[90m String?           \u001b[0m\u001b[90m String         \u001b[0m ⋯\n",
       "─────┼──────────────────────────────────────────────────────────────────────────\n",
       "   1 │ Homer      45 \u001b[90m              missing \u001b[0m pork chops         nuclear technic ⋯\n",
       "   2 │ Marge      42 \u001b[90m              missing \u001b[0m casserole          housewife\n",
       "   3 │ Apu        38 \u001b[90m              missing \u001b[0m saag paneer        store owner\n",
       "   4 │ Moe        59 \u001b[90m              missing \u001b[0m peanuts            bartender\n",
       "   5 │ Patty      46 \u001b[90m              missing \u001b[0m Lady Laramie 100s  DMV clerk       ⋯\n",
       "\u001b[36m                                                               2 columns omitted\u001b[0m"
      ]
     },
     "metadata": {},
     "output_type": "display_data"
    }
   ],
   "source": [
    "innerjoin(simpsons, jobs, on = :name)"
   ]
  },
  {
   "cell_type": "markdown",
   "metadata": {},
   "source": [
    "First, the first 4 columns came from `simpsons` and the last 2 from `jobs`.   Note: if you want to join on two different columns, like `col1` from the first dataframe and `col2` from the second, use `on = :col1 => :col2` in the join. \n",
    "\n",
    "There are many different kinds of joins between dataframes and the difference depends on which rows are kept.  `innerjoin` keeps only rows in which the joining column exists in both dataframes.  Notice that the row with Milhouse is only in the first dataframe and Wiggam is only in the second.  Neither of these are in the resulting dataframe. \n",
    "\n",
    "Another join is the `outerjoin` which results in"
   ]
  },
  {
   "cell_type": "code",
   "execution_count": 31,
   "metadata": {},
   "outputs": [
    {
     "data": {
      "text/html": [
       "<div><div style = \"float: left;\"><span>10×6 DataFrame</span></div><div style = \"clear: both;\"></div></div><div class = \"data-frame\" style = \"overflow-x: scroll;\"><table class = \"data-frame\" style = \"margin-bottom: 6px;\"><thead><tr class = \"header\"><th class = \"rowNumber\" style = \"font-weight: bold; text-align: right;\">Row</th><th style = \"text-align: left;\">name</th><th style = \"text-align: left;\">age</th><th style = \"text-align: left;\">current_school_grade</th><th style = \"text-align: left;\">favorite_food</th><th style = \"text-align: left;\">job</th><th style = \"text-align: left;\">salary</th></tr><tr class = \"subheader headerLastRow\"><th class = \"rowNumber\" style = \"font-weight: bold; text-align: right;\"></th><th title = \"String\" style = \"text-align: left;\">String</th><th title = \"Union{Missing, Int64}\" style = \"text-align: left;\">Int64?</th><th title = \"Union{Missing, Int64}\" style = \"text-align: left;\">Int64?</th><th title = \"Union{Missing, String}\" style = \"text-align: left;\">String?</th><th title = \"Union{Missing, String}\" style = \"text-align: left;\">String?</th><th title = \"Union{Missing, Int64}\" style = \"text-align: left;\">Int64?</th></tr></thead><tbody><tr><td class = \"rowNumber\" style = \"font-weight: bold; text-align: right;\">1</td><td style = \"text-align: left;\">Homer</td><td style = \"text-align: right;\">45</td><td style = \"font-style: italic; text-align: right;\">missing</td><td style = \"text-align: left;\">pork chops</td><td style = \"text-align: left;\">nuclear technician</td><td style = \"text-align: right;\">50000</td></tr><tr><td class = \"rowNumber\" style = \"font-weight: bold; text-align: right;\">2</td><td style = \"text-align: left;\">Marge</td><td style = \"text-align: right;\">42</td><td style = \"font-style: italic; text-align: right;\">missing</td><td style = \"text-align: left;\">casserole</td><td style = \"text-align: left;\">housewife</td><td style = \"text-align: right;\">25000</td></tr><tr><td class = \"rowNumber\" style = \"font-weight: bold; text-align: right;\">3</td><td style = \"text-align: left;\">Apu</td><td style = \"text-align: right;\">38</td><td style = \"font-style: italic; text-align: right;\">missing</td><td style = \"text-align: left;\">saag paneer</td><td style = \"text-align: left;\">store owner</td><td style = \"text-align: right;\">60000</td></tr><tr><td class = \"rowNumber\" style = \"font-weight: bold; text-align: right;\">4</td><td style = \"text-align: left;\">Moe</td><td style = \"text-align: right;\">59</td><td style = \"font-style: italic; text-align: right;\">missing</td><td style = \"text-align: left;\">peanuts</td><td style = \"text-align: left;\">bartender</td><td style = \"text-align: right;\">15000</td></tr><tr><td class = \"rowNumber\" style = \"font-weight: bold; text-align: right;\">5</td><td style = \"text-align: left;\">Patty</td><td style = \"text-align: right;\">46</td><td style = \"font-style: italic; text-align: right;\">missing</td><td style = \"text-align: left;\">Lady Laramie 100s</td><td style = \"text-align: left;\">DMV clerk</td><td style = \"font-style: italic; text-align: right;\">missing</td></tr><tr><td class = \"rowNumber\" style = \"font-weight: bold; text-align: right;\">6</td><td style = \"text-align: left;\">Lisa</td><td style = \"text-align: right;\">8</td><td style = \"text-align: right;\">2</td><td style = \"text-align: left;\">salad</td><td style = \"font-style: italic; text-align: left;\">missing</td><td style = \"font-style: italic; text-align: right;\">missing</td></tr><tr><td class = \"rowNumber\" style = \"font-weight: bold; text-align: right;\">7</td><td style = \"text-align: left;\">Bart</td><td style = \"text-align: right;\">10</td><td style = \"text-align: right;\">4</td><td style = \"text-align: left;\">hamburger</td><td style = \"font-style: italic; text-align: left;\">missing</td><td style = \"font-style: italic; text-align: right;\">missing</td></tr><tr><td class = \"rowNumber\" style = \"font-weight: bold; text-align: right;\">8</td><td style = \"text-align: left;\">Maggie</td><td style = \"text-align: right;\">1</td><td style = \"font-style: italic; text-align: right;\">missing</td><td style = \"font-style: italic; text-align: left;\">missing</td><td style = \"font-style: italic; text-align: left;\">missing</td><td style = \"font-style: italic; text-align: right;\">missing</td></tr><tr><td class = \"rowNumber\" style = \"font-weight: bold; text-align: right;\">9</td><td style = \"text-align: left;\">Milhouse</td><td style = \"text-align: right;\">1</td><td style = \"text-align: right;\">4</td><td style = \"font-style: italic; text-align: left;\">missing</td><td style = \"font-style: italic; text-align: left;\">missing</td><td style = \"font-style: italic; text-align: right;\">missing</td></tr><tr><td class = \"rowNumber\" style = \"font-weight: bold; text-align: right;\">10</td><td style = \"text-align: left;\">Wiggam</td><td style = \"font-style: italic; text-align: right;\">missing</td><td style = \"font-style: italic; text-align: right;\">missing</td><td style = \"font-style: italic; text-align: left;\">missing</td><td style = \"text-align: left;\">police chief</td><td style = \"text-align: right;\">75000</td></tr></tbody></table></div>"
      ],
      "text/latex": [
       "\\begin{tabular}{r|cccccc}\n",
       "\t& name & age & current\\_school\\_grade & favorite\\_food & job & \\\\\n",
       "\t\\hline\n",
       "\t& String & Int64? & Int64? & String? & String? & \\\\\n",
       "\t\\hline\n",
       "\t1 & Homer & 45 & \\emph{missing} & pork chops & nuclear technician & $\\dots$ \\\\\n",
       "\t2 & Marge & 42 & \\emph{missing} & casserole & housewife & $\\dots$ \\\\\n",
       "\t3 & Apu & 38 & \\emph{missing} & saag paneer & store owner & $\\dots$ \\\\\n",
       "\t4 & Moe & 59 & \\emph{missing} & peanuts & bartender & $\\dots$ \\\\\n",
       "\t5 & Patty & 46 & \\emph{missing} & Lady Laramie 100s & DMV clerk & $\\dots$ \\\\\n",
       "\t6 & Lisa & 8 & 2 & salad & \\emph{missing} & $\\dots$ \\\\\n",
       "\t7 & Bart & 10 & 4 & hamburger & \\emph{missing} & $\\dots$ \\\\\n",
       "\t8 & Maggie & 1 & \\emph{missing} & \\emph{missing} & \\emph{missing} & $\\dots$ \\\\\n",
       "\t9 & Milhouse & 1 & 4 & \\emph{missing} & \\emph{missing} & $\\dots$ \\\\\n",
       "\t10 & Wiggam & \\emph{missing} & \\emph{missing} & \\emph{missing} & police chief & $\\dots$ \\\\\n",
       "\\end{tabular}\n"
      ],
      "text/plain": [
       "\u001b[1m10×6 DataFrame\u001b[0m\n",
       "\u001b[1m Row \u001b[0m│\u001b[1m name     \u001b[0m\u001b[1m age     \u001b[0m\u001b[1m current_school_grade \u001b[0m\u001b[1m favorite_food     \u001b[0m\u001b[1m job        \u001b[0m ⋯\n",
       "     │\u001b[90m String   \u001b[0m\u001b[90m Int64?  \u001b[0m\u001b[90m Int64?               \u001b[0m\u001b[90m String?           \u001b[0m\u001b[90m String?    \u001b[0m ⋯\n",
       "─────┼──────────────────────────────────────────────────────────────────────────\n",
       "   1 │ Homer          45 \u001b[90m              missing \u001b[0m pork chops         nuclear tec ⋯\n",
       "   2 │ Marge          42 \u001b[90m              missing \u001b[0m casserole          housewife\n",
       "   3 │ Apu            38 \u001b[90m              missing \u001b[0m saag paneer        store owner\n",
       "   4 │ Moe            59 \u001b[90m              missing \u001b[0m peanuts            bartender\n",
       "   5 │ Patty          46 \u001b[90m              missing \u001b[0m Lady Laramie 100s  DMV clerk   ⋯\n",
       "   6 │ Lisa            8                     2  salad             \u001b[90m missing    \u001b[0m\n",
       "   7 │ Bart           10                     4  hamburger         \u001b[90m missing    \u001b[0m\n",
       "   8 │ Maggie          1 \u001b[90m              missing \u001b[0m\u001b[90m missing           \u001b[0m\u001b[90m missing    \u001b[0m\n",
       "   9 │ Milhouse        1                     4 \u001b[90m missing           \u001b[0m\u001b[90m missing    \u001b[0m ⋯\n",
       "  10 │ Wiggam   \u001b[90m missing \u001b[0m\u001b[90m              missing \u001b[0m\u001b[90m missing           \u001b[0m police chie\n",
       "\u001b[36m                                                               2 columns omitted\u001b[0m"
      ]
     },
     "metadata": {},
     "output_type": "display_data"
    }
   ],
   "source": [
    "outerjoin(simpsons, jobs, on = :name)"
   ]
  },
  {
   "cell_type": "markdown",
   "metadata": {},
   "source": [
    "And notice that this keeps all rows from both dataframes.  It also inserts `missing` anywhere where a row comes from a dataframe that is only in one of the two.  Wiggam has missing data from the columsn 2-4 and Maggie and Bart are missing the last columns. "
   ]
  },
  {
   "cell_type": "markdown",
   "metadata": {},
   "source": [
    "#### Exercise\n",
    "\n",
    "1. Perform a `leftjoin` on these two dataframes.\n",
    "2. Perform a `rightjoin` on these two dataframes.\n",
    "3. What do each of them do. "
   ]
  },
  {
   "cell_type": "markdown",
   "metadata": {},
   "source": [
    "The following are the joins in the `DataFrames` package:\n",
    "\n",
    "- **innerjoin:** the output contains rows for values of the key that exist in all passed data frames.\n",
    "- **leftjoin:** the output contains rows for values of the key that exist in the first (left) argument, whether or not that value exists in the second (right) argument.\n",
    "- **rightjoin:** the output contains rows for values of the key that exist in the second (right) argument, whether or not that value exists in the first (left) argument.\n",
    "- **outerjoin:** the output contains rows for values of the key that exist in any of the passed data frames.\n",
    "- **semijoin:** Like an inner join, but output is restricted to columns from the first (left) argument.\n",
    "- **antijoin:** The output contains rows for values of the key that exist in the first (left) but not the second (right) argument. As with semijoin, output is restricted to columns from the first (left) argument.\n",
    "- **crossjoin:** The output is the cartesian product of rows from all passed data frames."
   ]
  },
  {
   "cell_type": "markdown",
   "metadata": {},
   "source": [
    "## 29.6: Summarizing Data\n",
    "\n",
    "Usually one wants to boil down a dataset to a few numbers. This is typically what the mean, median, standard deviation and quartiles are useful for.  \n",
    "\n",
    "The `combine` function in `DataFrames` will do this:"
   ]
  },
  {
   "cell_type": "code",
   "execution_count": 15,
   "metadata": {},
   "outputs": [
    {
     "data": {
      "text/html": [
       "<div><div style = \"float: left;\"><span>1×4 DataFrame</span></div><div style = \"clear: both;\"></div></div><div class = \"data-frame\" style = \"overflow-x: scroll;\"><table class = \"data-frame\" style = \"margin-bottom: 6px;\"><thead><tr class = \"header\"><th class = \"rowNumber\" style = \"font-weight: bold; text-align: right;\">Row</th><th style = \"text-align: left;\">A_mean</th><th style = \"text-align: left;\">C_sum</th><th style = \"text-align: left;\">C_std</th><th style = \"text-align: left;\">D_function</th></tr><tr class = \"subheader headerLastRow\"><th class = \"rowNumber\" style = \"font-weight: bold; text-align: right;\"></th><th title = \"Float64\" style = \"text-align: left;\">Float64</th><th title = \"Float64\" style = \"text-align: left;\">Float64</th><th title = \"Float64\" style = \"text-align: left;\">Float64</th><th title = \"Float64\" style = \"text-align: left;\">Float64</th></tr></thead><tbody><tr><td class = \"rowNumber\" style = \"font-weight: bold; text-align: right;\">1</td><td style = \"text-align: right;\">7.0</td><td style = \"text-align: right;\">162.675</td><td style = \"text-align: right;\">39.5518</td><td style = \"text-align: right;\">0.208333</td></tr></tbody></table></div>"
      ],
      "text/latex": [
       "\\begin{tabular}{r|cccc}\n",
       "\t& A\\_mean & C\\_sum & C\\_std & D\\_function\\\\\n",
       "\t\\hline\n",
       "\t& Float64 & Float64 & Float64 & Float64\\\\\n",
       "\t\\hline\n",
       "\t1 & 7.0 & 162.675 & 39.5518 & 0.208333 \\\\\n",
       "\\end{tabular}\n"
      ],
      "text/plain": [
       "\u001b[1m1×4 DataFrame\u001b[0m\n",
       "\u001b[1m Row \u001b[0m│\u001b[1m A_mean  \u001b[0m\u001b[1m C_sum   \u001b[0m\u001b[1m C_std   \u001b[0m\u001b[1m D_function \u001b[0m\n",
       "     │\u001b[90m Float64 \u001b[0m\u001b[90m Float64 \u001b[0m\u001b[90m Float64 \u001b[0m\u001b[90m Float64    \u001b[0m\n",
       "─────┼───────────────────────────────────────\n",
       "   1 │     7.0  162.675  39.5518    0.208333"
      ]
     },
     "metadata": {},
     "output_type": "display_data"
    }
   ],
   "source": [
    "combine(data, :A => mean, :C => sum, :C => std, :D => (d -> quantile(d,0.75)) )"
   ]
  },
  {
   "cell_type": "markdown",
   "metadata": {},
   "source": [
    "where the last function returns the 3rd quartile (0.75 quantile). "
   ]
  },
  {
   "cell_type": "markdown",
   "metadata": {},
   "source": [
    "We will see `combine` below in which a dataset is grouped and then computations are made on a per group basis."
   ]
  },
  {
   "cell_type": "markdown",
   "metadata": {},
   "source": [
    "### 29.7: Performing multiple steps on a Dataframe\n",
    "\n",
    "Although this is perhaps a bit of a hokie example, let's say that we want to do the following steps:\n",
    "\n",
    "1. Merge/join the simpsons and jobs DataFrames as shown above.\n",
    "2. Make a new column that is the salary column minus 400 times the age. Call it happiness.\n",
    "3. Drop any rows in which the happiness is missing.\n",
    "4. Filter out any rows with the happiness column is negative.\n",
    "5. Include only the columns name, age, favorite_food and happiness\n",
    "6. Sort the result by happiness with largest values on top.\n",
    "\n",
    "To do this, we will put all of these steps in a `@chain` block as follows:"
   ]
  },
  {
   "cell_type": "code",
   "execution_count": null,
   "metadata": {},
   "outputs": [
    {
     "data": {
      "text/html": [
       "<div><div style = \"float: left;\"><span>9×4 DataFrame</span></div><div style = \"clear: both;\"></div></div><div class = \"data-frame\" style = \"overflow-x: scroll;\"><table class = \"data-frame\" style = \"margin-bottom: 6px;\"><thead><tr class = \"header\"><th class = \"rowNumber\" style = \"font-weight: bold; text-align: right;\">Row</th><th style = \"text-align: left;\">name</th><th style = \"text-align: left;\">age</th><th style = \"text-align: left;\">current_school_grade</th><th style = \"text-align: left;\">favorite_food</th></tr><tr class = \"subheader headerLastRow\"><th class = \"rowNumber\" style = \"font-weight: bold; text-align: right;\"></th><th title = \"String\" style = \"text-align: left;\">String</th><th title = \"Int64\" style = \"text-align: left;\">Int64</th><th title = \"Union{Missing, Int64}\" style = \"text-align: left;\">Int64?</th><th title = \"Union{Missing, String}\" style = \"text-align: left;\">String?</th></tr></thead><tbody><tr><td class = \"rowNumber\" style = \"font-weight: bold; text-align: right;\">1</td><td style = \"text-align: left;\">Homer</td><td style = \"text-align: right;\">45</td><td style = \"font-style: italic; text-align: right;\">missing</td><td style = \"text-align: left;\">pork chops</td></tr><tr><td class = \"rowNumber\" style = \"font-weight: bold; text-align: right;\">2</td><td style = \"text-align: left;\">Marge</td><td style = \"text-align: right;\">42</td><td style = \"font-style: italic; text-align: right;\">missing</td><td style = \"text-align: left;\">casserole</td></tr><tr><td class = \"rowNumber\" style = \"font-weight: bold; text-align: right;\">3</td><td style = \"text-align: left;\">Lisa</td><td style = \"text-align: right;\">8</td><td style = \"text-align: right;\">2</td><td style = \"text-align: left;\">salad</td></tr><tr><td class = \"rowNumber\" style = \"font-weight: bold; text-align: right;\">4</td><td style = \"text-align: left;\">Bart</td><td style = \"text-align: right;\">10</td><td style = \"text-align: right;\">4</td><td style = \"text-align: left;\">hamburger</td></tr><tr><td class = \"rowNumber\" style = \"font-weight: bold; text-align: right;\">5</td><td style = \"text-align: left;\">Maggie</td><td style = \"text-align: right;\">1</td><td style = \"font-style: italic; text-align: right;\">missing</td><td style = \"font-style: italic; text-align: left;\">missing</td></tr><tr><td class = \"rowNumber\" style = \"font-weight: bold; text-align: right;\">6</td><td style = \"text-align: left;\">Apu</td><td style = \"text-align: right;\">38</td><td style = \"font-style: italic; text-align: right;\">missing</td><td style = \"text-align: left;\">saag paneer</td></tr><tr><td class = \"rowNumber\" style = \"font-weight: bold; text-align: right;\">7</td><td style = \"text-align: left;\">Moe</td><td style = \"text-align: right;\">59</td><td style = \"font-style: italic; text-align: right;\">missing</td><td style = \"text-align: left;\">peanuts</td></tr><tr><td class = \"rowNumber\" style = \"font-weight: bold; text-align: right;\">8</td><td style = \"text-align: left;\">Milhouse</td><td style = \"text-align: right;\">1</td><td style = \"text-align: right;\">4</td><td style = \"font-style: italic; text-align: left;\">missing</td></tr><tr><td class = \"rowNumber\" style = \"font-weight: bold; text-align: right;\">9</td><td style = \"text-align: left;\">Patty</td><td style = \"text-align: right;\">46</td><td style = \"font-style: italic; text-align: right;\">missing</td><td style = \"text-align: left;\">Lady Laramie 100s</td></tr></tbody></table></div>"
      ],
      "text/latex": [
       "\\begin{tabular}{r|cccc}\n",
       "\t& name & age & current\\_school\\_grade & favorite\\_food\\\\\n",
       "\t\\hline\n",
       "\t& String & Int64 & Int64? & String?\\\\\n",
       "\t\\hline\n",
       "\t1 & Homer & 45 & \\emph{missing} & pork chops \\\\\n",
       "\t2 & Marge & 42 & \\emph{missing} & casserole \\\\\n",
       "\t3 & Lisa & 8 & 2 & salad \\\\\n",
       "\t4 & Bart & 10 & 4 & hamburger \\\\\n",
       "\t5 & Maggie & 1 & \\emph{missing} & \\emph{missing} \\\\\n",
       "\t6 & Apu & 38 & \\emph{missing} & saag paneer \\\\\n",
       "\t7 & Moe & 59 & \\emph{missing} & peanuts \\\\\n",
       "\t8 & Milhouse & 1 & 4 & \\emph{missing} \\\\\n",
       "\t9 & Patty & 46 & \\emph{missing} & Lady Laramie 100s \\\\\n",
       "\\end{tabular}\n"
      ],
      "text/plain": [
       "\u001b[1m9×4 DataFrame\u001b[0m\n",
       "\u001b[1m Row \u001b[0m│\u001b[1m name     \u001b[0m\u001b[1m age   \u001b[0m\u001b[1m current_school_grade \u001b[0m\u001b[1m favorite_food     \u001b[0m\n",
       "     │\u001b[90m String   \u001b[0m\u001b[90m Int64 \u001b[0m\u001b[90m Int64?               \u001b[0m\u001b[90m String?           \u001b[0m\n",
       "─────┼──────────────────────────────────────────────────────────\n",
       "   1 │ Homer        45 \u001b[90m              missing \u001b[0m pork chops\n",
       "   2 │ Marge        42 \u001b[90m              missing \u001b[0m casserole\n",
       "   3 │ Lisa          8                     2  salad\n",
       "   4 │ Bart         10                     4  hamburger\n",
       "   5 │ Maggie        1 \u001b[90m              missing \u001b[0m\u001b[90m missing           \u001b[0m\n",
       "   6 │ Apu          38 \u001b[90m              missing \u001b[0m saag paneer\n",
       "   7 │ Moe          59 \u001b[90m              missing \u001b[0m peanuts\n",
       "   8 │ Milhouse      1                     4 \u001b[90m missing           \u001b[0m\n",
       "   9 │ Patty        46 \u001b[90m              missing \u001b[0m Lady Laramie 100s"
      ]
     },
     "metadata": {},
     "output_type": "display_data"
    }
   ],
   "source": [
    "@chain simpsons begin\n",
    "\n",
    "end"
   ]
  },
  {
   "cell_type": "markdown",
   "metadata": {},
   "source": [
    "###  29.8: Split-Apply-Combine\n",
    "\n",
    "A common situation with data analysis is to have a dataset and you want to compare means or standard deviations within a dataset. What needs to often happen is that you first split a dataset, do some analysis on each group then summarize. This is know as *split-apply-combine*. We will demonstrate this with an example. Let’s return to the iris dataset that we loaded at the beginning of this chapter.\n",
    "\n",
    "First, let load the dataset again with: "
   ]
  },
  {
   "cell_type": "code",
   "execution_count": 41,
   "metadata": {},
   "outputs": [
    {
     "data": {
      "text/html": [
       "<div><div style = \"float: left;\"><span>150×5 DataFrame</span></div><div style = \"float: right;\"><span style = \"font-style: italic;\">140 rows omitted</span></div><div style = \"clear: both;\"></div></div><div class = \"data-frame\" style = \"overflow-x: scroll;\"><table class = \"data-frame\" style = \"margin-bottom: 6px;\"><thead><tr class = \"header\"><th class = \"rowNumber\" style = \"font-weight: bold; text-align: right;\">Row</th><th style = \"text-align: left;\">SepalLength</th><th style = \"text-align: left;\">SepalWidth</th><th style = \"text-align: left;\">PetalLength</th><th style = \"text-align: left;\">PetalWidth</th><th style = \"text-align: left;\">Species</th></tr><tr class = \"subheader headerLastRow\"><th class = \"rowNumber\" style = \"font-weight: bold; text-align: right;\"></th><th title = \"Float64\" style = \"text-align: left;\">Float64</th><th title = \"Float64\" style = \"text-align: left;\">Float64</th><th title = \"Float64\" style = \"text-align: left;\">Float64</th><th title = \"Float64\" style = \"text-align: left;\">Float64</th><th title = \"CategoricalArrays.CategoricalValue{String, UInt8}\" style = \"text-align: left;\">Cat…</th></tr></thead><tbody><tr><td class = \"rowNumber\" style = \"font-weight: bold; text-align: right;\">1</td><td style = \"text-align: right;\">5.1</td><td style = \"text-align: right;\">3.5</td><td style = \"text-align: right;\">1.4</td><td style = \"text-align: right;\">0.2</td><td style = \"text-align: left;\">setosa</td></tr><tr><td class = \"rowNumber\" style = \"font-weight: bold; text-align: right;\">2</td><td style = \"text-align: right;\">4.9</td><td style = \"text-align: right;\">3.0</td><td style = \"text-align: right;\">1.4</td><td style = \"text-align: right;\">0.2</td><td style = \"text-align: left;\">setosa</td></tr><tr><td class = \"rowNumber\" style = \"font-weight: bold; text-align: right;\">3</td><td style = \"text-align: right;\">4.7</td><td style = \"text-align: right;\">3.2</td><td style = \"text-align: right;\">1.3</td><td style = \"text-align: right;\">0.2</td><td style = \"text-align: left;\">setosa</td></tr><tr><td class = \"rowNumber\" style = \"font-weight: bold; text-align: right;\">4</td><td style = \"text-align: right;\">4.6</td><td style = \"text-align: right;\">3.1</td><td style = \"text-align: right;\">1.5</td><td style = \"text-align: right;\">0.2</td><td style = \"text-align: left;\">setosa</td></tr><tr><td class = \"rowNumber\" style = \"font-weight: bold; text-align: right;\">5</td><td style = \"text-align: right;\">5.0</td><td style = \"text-align: right;\">3.6</td><td style = \"text-align: right;\">1.4</td><td style = \"text-align: right;\">0.2</td><td style = \"text-align: left;\">setosa</td></tr><tr><td style = \"text-align: right;\">&vellip;</td><td style = \"text-align: right;\">&vellip;</td><td style = \"text-align: right;\">&vellip;</td><td style = \"text-align: right;\">&vellip;</td><td style = \"text-align: right;\">&vellip;</td><td style = \"text-align: right;\">&vellip;</td></tr><tr><td class = \"rowNumber\" style = \"font-weight: bold; text-align: right;\">146</td><td style = \"text-align: right;\">6.7</td><td style = \"text-align: right;\">3.0</td><td style = \"text-align: right;\">5.2</td><td style = \"text-align: right;\">2.3</td><td style = \"text-align: left;\">virginica</td></tr><tr><td class = \"rowNumber\" style = \"font-weight: bold; text-align: right;\">147</td><td style = \"text-align: right;\">6.3</td><td style = \"text-align: right;\">2.5</td><td style = \"text-align: right;\">5.0</td><td style = \"text-align: right;\">1.9</td><td style = \"text-align: left;\">virginica</td></tr><tr><td class = \"rowNumber\" style = \"font-weight: bold; text-align: right;\">148</td><td style = \"text-align: right;\">6.5</td><td style = \"text-align: right;\">3.0</td><td style = \"text-align: right;\">5.2</td><td style = \"text-align: right;\">2.0</td><td style = \"text-align: left;\">virginica</td></tr><tr><td class = \"rowNumber\" style = \"font-weight: bold; text-align: right;\">149</td><td style = \"text-align: right;\">6.2</td><td style = \"text-align: right;\">3.4</td><td style = \"text-align: right;\">5.4</td><td style = \"text-align: right;\">2.3</td><td style = \"text-align: left;\">virginica</td></tr><tr><td class = \"rowNumber\" style = \"font-weight: bold; text-align: right;\">150</td><td style = \"text-align: right;\">5.9</td><td style = \"text-align: right;\">3.0</td><td style = \"text-align: right;\">5.1</td><td style = \"text-align: right;\">1.8</td><td style = \"text-align: left;\">virginica</td></tr></tbody></table></div>"
      ],
      "text/latex": [
       "\\begin{tabular}{r|ccccc}\n",
       "\t& SepalLength & SepalWidth & PetalLength & PetalWidth & Species\\\\\n",
       "\t\\hline\n",
       "\t& Float64 & Float64 & Float64 & Float64 & Cat…\\\\\n",
       "\t\\hline\n",
       "\t1 & 5.1 & 3.5 & 1.4 & 0.2 & setosa \\\\\n",
       "\t2 & 4.9 & 3.0 & 1.4 & 0.2 & setosa \\\\\n",
       "\t3 & 4.7 & 3.2 & 1.3 & 0.2 & setosa \\\\\n",
       "\t4 & 4.6 & 3.1 & 1.5 & 0.2 & setosa \\\\\n",
       "\t5 & 5.0 & 3.6 & 1.4 & 0.2 & setosa \\\\\n",
       "\t6 & 5.4 & 3.9 & 1.7 & 0.4 & setosa \\\\\n",
       "\t7 & 4.6 & 3.4 & 1.4 & 0.3 & setosa \\\\\n",
       "\t8 & 5.0 & 3.4 & 1.5 & 0.2 & setosa \\\\\n",
       "\t9 & 4.4 & 2.9 & 1.4 & 0.2 & setosa \\\\\n",
       "\t10 & 4.9 & 3.1 & 1.5 & 0.1 & setosa \\\\\n",
       "\t11 & 5.4 & 3.7 & 1.5 & 0.2 & setosa \\\\\n",
       "\t12 & 4.8 & 3.4 & 1.6 & 0.2 & setosa \\\\\n",
       "\t13 & 4.8 & 3.0 & 1.4 & 0.1 & setosa \\\\\n",
       "\t14 & 4.3 & 3.0 & 1.1 & 0.1 & setosa \\\\\n",
       "\t15 & 5.8 & 4.0 & 1.2 & 0.2 & setosa \\\\\n",
       "\t16 & 5.7 & 4.4 & 1.5 & 0.4 & setosa \\\\\n",
       "\t17 & 5.4 & 3.9 & 1.3 & 0.4 & setosa \\\\\n",
       "\t18 & 5.1 & 3.5 & 1.4 & 0.3 & setosa \\\\\n",
       "\t19 & 5.7 & 3.8 & 1.7 & 0.3 & setosa \\\\\n",
       "\t20 & 5.1 & 3.8 & 1.5 & 0.3 & setosa \\\\\n",
       "\t21 & 5.4 & 3.4 & 1.7 & 0.2 & setosa \\\\\n",
       "\t22 & 5.1 & 3.7 & 1.5 & 0.4 & setosa \\\\\n",
       "\t23 & 4.6 & 3.6 & 1.0 & 0.2 & setosa \\\\\n",
       "\t24 & 5.1 & 3.3 & 1.7 & 0.5 & setosa \\\\\n",
       "\t$\\dots$ & $\\dots$ & $\\dots$ & $\\dots$ & $\\dots$ & $\\dots$ \\\\\n",
       "\\end{tabular}\n"
      ],
      "text/plain": [
       "\u001b[1m150×5 DataFrame\u001b[0m\n",
       "\u001b[1m Row \u001b[0m│\u001b[1m SepalLength \u001b[0m\u001b[1m SepalWidth \u001b[0m\u001b[1m PetalLength \u001b[0m\u001b[1m PetalWidth \u001b[0m\u001b[1m Species   \u001b[0m\n",
       "     │\u001b[90m Float64     \u001b[0m\u001b[90m Float64    \u001b[0m\u001b[90m Float64     \u001b[0m\u001b[90m Float64    \u001b[0m\u001b[90m Cat…      \u001b[0m\n",
       "─────┼─────────────────────────────────────────────────────────────\n",
       "   1 │         5.1         3.5          1.4         0.2  setosa\n",
       "   2 │         4.9         3.0          1.4         0.2  setosa\n",
       "   3 │         4.7         3.2          1.3         0.2  setosa\n",
       "   4 │         4.6         3.1          1.5         0.2  setosa\n",
       "   5 │         5.0         3.6          1.4         0.2  setosa\n",
       "   6 │         5.4         3.9          1.7         0.4  setosa\n",
       "   7 │         4.6         3.4          1.4         0.3  setosa\n",
       "   8 │         5.0         3.4          1.5         0.2  setosa\n",
       "  ⋮  │      ⋮           ⋮            ⋮           ⋮           ⋮\n",
       " 144 │         6.8         3.2          5.9         2.3  virginica\n",
       " 145 │         6.7         3.3          5.7         2.5  virginica\n",
       " 146 │         6.7         3.0          5.2         2.3  virginica\n",
       " 147 │         6.3         2.5          5.0         1.9  virginica\n",
       " 148 │         6.5         3.0          5.2         2.0  virginica\n",
       " 149 │         6.2         3.4          5.4         2.3  virginica\n",
       " 150 │         5.9         3.0          5.1         1.8  virginica\n",
       "\u001b[36m                                                   135 rows omitted\u001b[0m"
      ]
     },
     "metadata": {},
     "output_type": "display_data"
    }
   ],
   "source": [
    "using RDatasets\n",
    "ENV[\"DATAFRAMES_ROWS\"] = 10\n",
    "iris = RDatasets.dataset(\"datasets\", \"iris\")"
   ]
  },
  {
   "cell_type": "markdown",
   "metadata": {},
   "source": [
    "The following splits the `iris` dataset by the `Species` column. (there are 3)"
   ]
  },
  {
   "cell_type": "code",
   "execution_count": 42,
   "metadata": {},
   "outputs": [
    {
     "data": {
      "text/html": [
       "<p><b>GroupedDataFrame with 3 groups based on key: Species</b></p><div><div style = \"float: left;\"><span>First Group (50 rows): Species = CategoricalArrays.CategoricalValue{String, UInt8} &quot;setosa&quot;</span></div><div style = \"float: right;\"><span style = \"font-style: italic;\">40 rows omitted</span></div><div style = \"clear: both;\"></div></div><div class = \"data-frame\" style = \"overflow-x: scroll;\"><table class = \"data-frame\" style = \"margin-bottom: 6px;\"><thead><tr class = \"header\"><th class = \"rowNumber\" style = \"font-weight: bold; text-align: right;\">Row</th><th style = \"text-align: left;\">SepalLength</th><th style = \"text-align: left;\">SepalWidth</th><th style = \"text-align: left;\">PetalLength</th><th style = \"text-align: left;\">PetalWidth</th><th style = \"text-align: left;\">Species</th></tr><tr class = \"subheader headerLastRow\"><th class = \"rowNumber\" style = \"font-weight: bold; text-align: right;\"></th><th title = \"Float64\" style = \"text-align: left;\">Float64</th><th title = \"Float64\" style = \"text-align: left;\">Float64</th><th title = \"Float64\" style = \"text-align: left;\">Float64</th><th title = \"Float64\" style = \"text-align: left;\">Float64</th><th title = \"CategoricalArrays.CategoricalValue{String, UInt8}\" style = \"text-align: left;\">Cat…</th></tr></thead><tbody><tr><td class = \"rowNumber\" style = \"font-weight: bold; text-align: right;\">1</td><td style = \"text-align: right;\">5.1</td><td style = \"text-align: right;\">3.5</td><td style = \"text-align: right;\">1.4</td><td style = \"text-align: right;\">0.2</td><td style = \"text-align: left;\">setosa</td></tr><tr><td class = \"rowNumber\" style = \"font-weight: bold; text-align: right;\">2</td><td style = \"text-align: right;\">4.9</td><td style = \"text-align: right;\">3.0</td><td style = \"text-align: right;\">1.4</td><td style = \"text-align: right;\">0.2</td><td style = \"text-align: left;\">setosa</td></tr><tr><td class = \"rowNumber\" style = \"font-weight: bold; text-align: right;\">3</td><td style = \"text-align: right;\">4.7</td><td style = \"text-align: right;\">3.2</td><td style = \"text-align: right;\">1.3</td><td style = \"text-align: right;\">0.2</td><td style = \"text-align: left;\">setosa</td></tr><tr><td class = \"rowNumber\" style = \"font-weight: bold; text-align: right;\">4</td><td style = \"text-align: right;\">4.6</td><td style = \"text-align: right;\">3.1</td><td style = \"text-align: right;\">1.5</td><td style = \"text-align: right;\">0.2</td><td style = \"text-align: left;\">setosa</td></tr><tr><td class = \"rowNumber\" style = \"font-weight: bold; text-align: right;\">5</td><td style = \"text-align: right;\">5.0</td><td style = \"text-align: right;\">3.6</td><td style = \"text-align: right;\">1.4</td><td style = \"text-align: right;\">0.2</td><td style = \"text-align: left;\">setosa</td></tr><tr><td style = \"text-align: right;\">&vellip;</td><td style = \"text-align: right;\">&vellip;</td><td style = \"text-align: right;\">&vellip;</td><td style = \"text-align: right;\">&vellip;</td><td style = \"text-align: right;\">&vellip;</td><td style = \"text-align: right;\">&vellip;</td></tr><tr><td class = \"rowNumber\" style = \"font-weight: bold; text-align: right;\">46</td><td style = \"text-align: right;\">4.8</td><td style = \"text-align: right;\">3.0</td><td style = \"text-align: right;\">1.4</td><td style = \"text-align: right;\">0.3</td><td style = \"text-align: left;\">setosa</td></tr><tr><td class = \"rowNumber\" style = \"font-weight: bold; text-align: right;\">47</td><td style = \"text-align: right;\">5.1</td><td style = \"text-align: right;\">3.8</td><td style = \"text-align: right;\">1.6</td><td style = \"text-align: right;\">0.2</td><td style = \"text-align: left;\">setosa</td></tr><tr><td class = \"rowNumber\" style = \"font-weight: bold; text-align: right;\">48</td><td style = \"text-align: right;\">4.6</td><td style = \"text-align: right;\">3.2</td><td style = \"text-align: right;\">1.4</td><td style = \"text-align: right;\">0.2</td><td style = \"text-align: left;\">setosa</td></tr><tr><td class = \"rowNumber\" style = \"font-weight: bold; text-align: right;\">49</td><td style = \"text-align: right;\">5.3</td><td style = \"text-align: right;\">3.7</td><td style = \"text-align: right;\">1.5</td><td style = \"text-align: right;\">0.2</td><td style = \"text-align: left;\">setosa</td></tr><tr><td class = \"rowNumber\" style = \"font-weight: bold; text-align: right;\">50</td><td style = \"text-align: right;\">5.0</td><td style = \"text-align: right;\">3.3</td><td style = \"text-align: right;\">1.4</td><td style = \"text-align: right;\">0.2</td><td style = \"text-align: left;\">setosa</td></tr></tbody></table></div><p>&vellip;</p><div><div style = \"float: left;\"><span>Last Group (50 rows): Species = CategoricalArrays.CategoricalValue{String, UInt8} &quot;virginica&quot;</span></div><div style = \"float: right;\"><span style = \"font-style: italic;\">40 rows omitted</span></div><div style = \"clear: both;\"></div></div><div class = \"data-frame\" style = \"overflow-x: scroll;\"><table class = \"data-frame\" style = \"margin-bottom: 6px;\"><thead><tr class = \"header\"><th class = \"rowNumber\" style = \"font-weight: bold; text-align: right;\">Row</th><th style = \"text-align: left;\">SepalLength</th><th style = \"text-align: left;\">SepalWidth</th><th style = \"text-align: left;\">PetalLength</th><th style = \"text-align: left;\">PetalWidth</th><th style = \"text-align: left;\">Species</th></tr><tr class = \"subheader headerLastRow\"><th class = \"rowNumber\" style = \"font-weight: bold; text-align: right;\"></th><th title = \"Float64\" style = \"text-align: left;\">Float64</th><th title = \"Float64\" style = \"text-align: left;\">Float64</th><th title = \"Float64\" style = \"text-align: left;\">Float64</th><th title = \"Float64\" style = \"text-align: left;\">Float64</th><th title = \"CategoricalArrays.CategoricalValue{String, UInt8}\" style = \"text-align: left;\">Cat…</th></tr></thead><tbody><tr><td class = \"rowNumber\" style = \"font-weight: bold; text-align: right;\">1</td><td style = \"text-align: right;\">6.3</td><td style = \"text-align: right;\">3.3</td><td style = \"text-align: right;\">6.0</td><td style = \"text-align: right;\">2.5</td><td style = \"text-align: left;\">virginica</td></tr><tr><td class = \"rowNumber\" style = \"font-weight: bold; text-align: right;\">2</td><td style = \"text-align: right;\">5.8</td><td style = \"text-align: right;\">2.7</td><td style = \"text-align: right;\">5.1</td><td style = \"text-align: right;\">1.9</td><td style = \"text-align: left;\">virginica</td></tr><tr><td class = \"rowNumber\" style = \"font-weight: bold; text-align: right;\">3</td><td style = \"text-align: right;\">7.1</td><td style = \"text-align: right;\">3.0</td><td style = \"text-align: right;\">5.9</td><td style = \"text-align: right;\">2.1</td><td style = \"text-align: left;\">virginica</td></tr><tr><td class = \"rowNumber\" style = \"font-weight: bold; text-align: right;\">4</td><td style = \"text-align: right;\">6.3</td><td style = \"text-align: right;\">2.9</td><td style = \"text-align: right;\">5.6</td><td style = \"text-align: right;\">1.8</td><td style = \"text-align: left;\">virginica</td></tr><tr><td class = \"rowNumber\" style = \"font-weight: bold; text-align: right;\">5</td><td style = \"text-align: right;\">6.5</td><td style = \"text-align: right;\">3.0</td><td style = \"text-align: right;\">5.8</td><td style = \"text-align: right;\">2.2</td><td style = \"text-align: left;\">virginica</td></tr><tr><td style = \"text-align: right;\">&vellip;</td><td style = \"text-align: right;\">&vellip;</td><td style = \"text-align: right;\">&vellip;</td><td style = \"text-align: right;\">&vellip;</td><td style = \"text-align: right;\">&vellip;</td><td style = \"text-align: right;\">&vellip;</td></tr><tr><td class = \"rowNumber\" style = \"font-weight: bold; text-align: right;\">46</td><td style = \"text-align: right;\">6.7</td><td style = \"text-align: right;\">3.0</td><td style = \"text-align: right;\">5.2</td><td style = \"text-align: right;\">2.3</td><td style = \"text-align: left;\">virginica</td></tr><tr><td class = \"rowNumber\" style = \"font-weight: bold; text-align: right;\">47</td><td style = \"text-align: right;\">6.3</td><td style = \"text-align: right;\">2.5</td><td style = \"text-align: right;\">5.0</td><td style = \"text-align: right;\">1.9</td><td style = \"text-align: left;\">virginica</td></tr><tr><td class = \"rowNumber\" style = \"font-weight: bold; text-align: right;\">48</td><td style = \"text-align: right;\">6.5</td><td style = \"text-align: right;\">3.0</td><td style = \"text-align: right;\">5.2</td><td style = \"text-align: right;\">2.0</td><td style = \"text-align: left;\">virginica</td></tr><tr><td class = \"rowNumber\" style = \"font-weight: bold; text-align: right;\">49</td><td style = \"text-align: right;\">6.2</td><td style = \"text-align: right;\">3.4</td><td style = \"text-align: right;\">5.4</td><td style = \"text-align: right;\">2.3</td><td style = \"text-align: left;\">virginica</td></tr><tr><td class = \"rowNumber\" style = \"font-weight: bold; text-align: right;\">50</td><td style = \"text-align: right;\">5.9</td><td style = \"text-align: right;\">3.0</td><td style = \"text-align: right;\">5.1</td><td style = \"text-align: right;\">1.8</td><td style = \"text-align: left;\">virginica</td></tr></tbody></table></div>"
      ],
      "text/latex": [
       "GroupedDataFrame with 3 groups based on key: Species\n",
       "\n",
       "First Group (50 rows): Species = CategoricalArrays.CategoricalValue\\{String, UInt8\\} \"setosa\"\n",
       "\n",
       "\\begin{tabular}{r|ccccc}\n",
       "\t& SepalLength & SepalWidth & PetalLength & PetalWidth & Species\\\\\n",
       "\t\\hline\n",
       "\t& Float64 & Float64 & Float64 & Float64 & Cat…\\\\\n",
       "\t\\hline\n",
       "\t1 & 5.1 & 3.5 & 1.4 & 0.2 & setosa \\\\\n",
       "\t2 & 4.9 & 3.0 & 1.4 & 0.2 & setosa \\\\\n",
       "\t3 & 4.7 & 3.2 & 1.3 & 0.2 & setosa \\\\\n",
       "\t4 & 4.6 & 3.1 & 1.5 & 0.2 & setosa \\\\\n",
       "\t5 & 5.0 & 3.6 & 1.4 & 0.2 & setosa \\\\\n",
       "\t6 & 5.4 & 3.9 & 1.7 & 0.4 & setosa \\\\\n",
       "\t7 & 4.6 & 3.4 & 1.4 & 0.3 & setosa \\\\\n",
       "\t8 & 5.0 & 3.4 & 1.5 & 0.2 & setosa \\\\\n",
       "\t9 & 4.4 & 2.9 & 1.4 & 0.2 & setosa \\\\\n",
       "\t10 & 4.9 & 3.1 & 1.5 & 0.1 & setosa \\\\\n",
       "\t11 & 5.4 & 3.7 & 1.5 & 0.2 & setosa \\\\\n",
       "\t12 & 4.8 & 3.4 & 1.6 & 0.2 & setosa \\\\\n",
       "\t13 & 4.8 & 3.0 & 1.4 & 0.1 & setosa \\\\\n",
       "\t14 & 4.3 & 3.0 & 1.1 & 0.1 & setosa \\\\\n",
       "\t15 & 5.8 & 4.0 & 1.2 & 0.2 & setosa \\\\\n",
       "\t16 & 5.7 & 4.4 & 1.5 & 0.4 & setosa \\\\\n",
       "\t17 & 5.4 & 3.9 & 1.3 & 0.4 & setosa \\\\\n",
       "\t18 & 5.1 & 3.5 & 1.4 & 0.3 & setosa \\\\\n",
       "\t19 & 5.7 & 3.8 & 1.7 & 0.3 & setosa \\\\\n",
       "\t20 & 5.1 & 3.8 & 1.5 & 0.3 & setosa \\\\\n",
       "\t21 & 5.4 & 3.4 & 1.7 & 0.2 & setosa \\\\\n",
       "\t22 & 5.1 & 3.7 & 1.5 & 0.4 & setosa \\\\\n",
       "\t23 & 4.6 & 3.6 & 1.0 & 0.2 & setosa \\\\\n",
       "\t24 & 5.1 & 3.3 & 1.7 & 0.5 & setosa \\\\\n",
       "\t$\\dots$ & $\\dots$ & $\\dots$ & $\\dots$ & $\\dots$ & $\\dots$ \\\\\n",
       "\\end{tabular}\n",
       "\n",
       "$\\dots$\n",
       "\n",
       "Last Group (50 rows): Species = CategoricalArrays.CategoricalValue\\{String, UInt8\\} \"virginica\"\n",
       "\n",
       "\\begin{tabular}{r|ccccc}\n",
       "\t& SepalLength & SepalWidth & PetalLength & PetalWidth & Species\\\\\n",
       "\t\\hline\n",
       "\t& Float64 & Float64 & Float64 & Float64 & Cat…\\\\\n",
       "\t\\hline\n",
       "\t1 & 6.3 & 3.3 & 6.0 & 2.5 & virginica \\\\\n",
       "\t2 & 5.8 & 2.7 & 5.1 & 1.9 & virginica \\\\\n",
       "\t3 & 7.1 & 3.0 & 5.9 & 2.1 & virginica \\\\\n",
       "\t4 & 6.3 & 2.9 & 5.6 & 1.8 & virginica \\\\\n",
       "\t5 & 6.5 & 3.0 & 5.8 & 2.2 & virginica \\\\\n",
       "\t6 & 7.6 & 3.0 & 6.6 & 2.1 & virginica \\\\\n",
       "\t7 & 4.9 & 2.5 & 4.5 & 1.7 & virginica \\\\\n",
       "\t8 & 7.3 & 2.9 & 6.3 & 1.8 & virginica \\\\\n",
       "\t9 & 6.7 & 2.5 & 5.8 & 1.8 & virginica \\\\\n",
       "\t10 & 7.2 & 3.6 & 6.1 & 2.5 & virginica \\\\\n",
       "\t11 & 6.5 & 3.2 & 5.1 & 2.0 & virginica \\\\\n",
       "\t12 & 6.4 & 2.7 & 5.3 & 1.9 & virginica \\\\\n",
       "\t13 & 6.8 & 3.0 & 5.5 & 2.1 & virginica \\\\\n",
       "\t14 & 5.7 & 2.5 & 5.0 & 2.0 & virginica \\\\\n",
       "\t15 & 5.8 & 2.8 & 5.1 & 2.4 & virginica \\\\\n",
       "\t16 & 6.4 & 3.2 & 5.3 & 2.3 & virginica \\\\\n",
       "\t17 & 6.5 & 3.0 & 5.5 & 1.8 & virginica \\\\\n",
       "\t18 & 7.7 & 3.8 & 6.7 & 2.2 & virginica \\\\\n",
       "\t19 & 7.7 & 2.6 & 6.9 & 2.3 & virginica \\\\\n",
       "\t20 & 6.0 & 2.2 & 5.0 & 1.5 & virginica \\\\\n",
       "\t21 & 6.9 & 3.2 & 5.7 & 2.3 & virginica \\\\\n",
       "\t22 & 5.6 & 2.8 & 4.9 & 2.0 & virginica \\\\\n",
       "\t23 & 7.7 & 2.8 & 6.7 & 2.0 & virginica \\\\\n",
       "\t24 & 6.3 & 2.7 & 4.9 & 1.8 & virginica \\\\\n",
       "\t$\\dots$ & $\\dots$ & $\\dots$ & $\\dots$ & $\\dots$ & $\\dots$ \\\\\n",
       "\\end{tabular}\n"
      ],
      "text/plain": [
       "GroupedDataFrame with 3 groups based on key: Species\n",
       "First Group (50 rows): Species = CategoricalArrays.CategoricalValue{String, UInt8} \"setosa\"\n",
       "\u001b[1m Row \u001b[0m│\u001b[1m SepalLength \u001b[0m\u001b[1m SepalWidth \u001b[0m\u001b[1m PetalLength \u001b[0m\u001b[1m PetalWidth \u001b[0m\u001b[1m Species \u001b[0m\n",
       "     │\u001b[90m Float64     \u001b[0m\u001b[90m Float64    \u001b[0m\u001b[90m Float64     \u001b[0m\u001b[90m Float64    \u001b[0m\u001b[90m Cat…    \u001b[0m\n",
       "─────┼───────────────────────────────────────────────────────────\n",
       "   1 │         5.1         3.5          1.4         0.2  setosa\n",
       "   2 │         4.9         3.0          1.4         0.2  setosa\n",
       "  ⋮  │      ⋮           ⋮            ⋮           ⋮          ⋮\n",
       "  49 │         5.3         3.7          1.5         0.2  setosa\n",
       "  50 │         5.0         3.3          1.4         0.2  setosa\n",
       "\u001b[36m                                                  46 rows omitted\u001b[0m\n",
       "⋮\n",
       "Last Group (50 rows): Species = CategoricalArrays.CategoricalValue{String, UInt8} \"virginica\"\n",
       "\u001b[1m Row \u001b[0m│\u001b[1m SepalLength \u001b[0m\u001b[1m SepalWidth \u001b[0m\u001b[1m PetalLength \u001b[0m\u001b[1m PetalWidth \u001b[0m\u001b[1m Species   \u001b[0m\n",
       "     │\u001b[90m Float64     \u001b[0m\u001b[90m Float64    \u001b[0m\u001b[90m Float64     \u001b[0m\u001b[90m Float64    \u001b[0m\u001b[90m Cat…      \u001b[0m\n",
       "─────┼─────────────────────────────────────────────────────────────\n",
       "   1 │         6.3         3.3          6.0         2.5  virginica\n",
       "   2 │         5.8         2.7          5.1         1.9  virginica\n",
       "  ⋮  │      ⋮           ⋮            ⋮           ⋮           ⋮\n",
       "  50 │         5.9         3.0          5.1         1.8  virginica\n",
       "\u001b[36m                                                    47 rows omitted\u001b[0m"
      ]
     },
     "metadata": {},
     "output_type": "display_data"
    }
   ],
   "source": [
    "gdf = groupby(iris, :Species)"
   ]
  },
  {
   "cell_type": "markdown",
   "metadata": {},
   "source": [
    "Notice that you see the first and last groups and it is announced that there are 3 groups.\n",
    "\n",
    "The `combine` function will summarize and result in a row per group.  Let's say we want the mean and standard deviation of the `PetalLength` variable:"
   ]
  },
  {
   "cell_type": "code",
   "execution_count": 43,
   "metadata": {},
   "outputs": [
    {
     "data": {
      "text/html": [
       "<div><div style = \"float: left;\"><span>3×3 DataFrame</span></div><div style = \"clear: both;\"></div></div><div class = \"data-frame\" style = \"overflow-x: scroll;\"><table class = \"data-frame\" style = \"margin-bottom: 6px;\"><thead><tr class = \"header\"><th class = \"rowNumber\" style = \"font-weight: bold; text-align: right;\">Row</th><th style = \"text-align: left;\">Species</th><th style = \"text-align: left;\">PetalLength_mean</th><th style = \"text-align: left;\">PetalLength_std</th></tr><tr class = \"subheader headerLastRow\"><th class = \"rowNumber\" style = \"font-weight: bold; text-align: right;\"></th><th title = \"CategoricalArrays.CategoricalValue{String, UInt8}\" style = \"text-align: left;\">Cat…</th><th title = \"Float64\" style = \"text-align: left;\">Float64</th><th title = \"Float64\" style = \"text-align: left;\">Float64</th></tr></thead><tbody><tr><td class = \"rowNumber\" style = \"font-weight: bold; text-align: right;\">1</td><td style = \"text-align: left;\">setosa</td><td style = \"text-align: right;\">1.462</td><td style = \"text-align: right;\">0.173664</td></tr><tr><td class = \"rowNumber\" style = \"font-weight: bold; text-align: right;\">2</td><td style = \"text-align: left;\">versicolor</td><td style = \"text-align: right;\">4.26</td><td style = \"text-align: right;\">0.469911</td></tr><tr><td class = \"rowNumber\" style = \"font-weight: bold; text-align: right;\">3</td><td style = \"text-align: left;\">virginica</td><td style = \"text-align: right;\">5.552</td><td style = \"text-align: right;\">0.551895</td></tr></tbody></table></div>"
      ],
      "text/latex": [
       "\\begin{tabular}{r|ccc}\n",
       "\t& Species & PetalLength\\_mean & PetalLength\\_std\\\\\n",
       "\t\\hline\n",
       "\t& Cat… & Float64 & Float64\\\\\n",
       "\t\\hline\n",
       "\t1 & setosa & 1.462 & 0.173664 \\\\\n",
       "\t2 & versicolor & 4.26 & 0.469911 \\\\\n",
       "\t3 & virginica & 5.552 & 0.551895 \\\\\n",
       "\\end{tabular}\n"
      ],
      "text/plain": [
       "\u001b[1m3×3 DataFrame\u001b[0m\n",
       "\u001b[1m Row \u001b[0m│\u001b[1m Species    \u001b[0m\u001b[1m PetalLength_mean \u001b[0m\u001b[1m PetalLength_std \u001b[0m\n",
       "     │\u001b[90m Cat…       \u001b[0m\u001b[90m Float64          \u001b[0m\u001b[90m Float64         \u001b[0m\n",
       "─────┼───────────────────────────────────────────────\n",
       "   1 │ setosa                 1.462         0.173664\n",
       "   2 │ versicolor             4.26          0.469911\n",
       "   3 │ virginica              5.552         0.551895"
      ]
     },
     "metadata": {},
     "output_type": "display_data"
    }
   ],
   "source": [
    "combine(gdf, :PetalLength => mean, :PetalLength => std)"
   ]
  },
  {
   "cell_type": "markdown",
   "metadata": {},
   "source": [
    "If we just want the number of rows in each group"
   ]
  },
  {
   "cell_type": "code",
   "execution_count": 44,
   "metadata": {},
   "outputs": [
    {
     "data": {
      "text/html": [
       "<div><div style = \"float: left;\"><span>3×2 DataFrame</span></div><div style = \"clear: both;\"></div></div><div class = \"data-frame\" style = \"overflow-x: scroll;\"><table class = \"data-frame\" style = \"margin-bottom: 6px;\"><thead><tr class = \"header\"><th class = \"rowNumber\" style = \"font-weight: bold; text-align: right;\">Row</th><th style = \"text-align: left;\">Species</th><th style = \"text-align: left;\">nrow</th></tr><tr class = \"subheader headerLastRow\"><th class = \"rowNumber\" style = \"font-weight: bold; text-align: right;\"></th><th title = \"CategoricalArrays.CategoricalValue{String, UInt8}\" style = \"text-align: left;\">Cat…</th><th title = \"Int64\" style = \"text-align: left;\">Int64</th></tr></thead><tbody><tr><td class = \"rowNumber\" style = \"font-weight: bold; text-align: right;\">1</td><td style = \"text-align: left;\">setosa</td><td style = \"text-align: right;\">50</td></tr><tr><td class = \"rowNumber\" style = \"font-weight: bold; text-align: right;\">2</td><td style = \"text-align: left;\">versicolor</td><td style = \"text-align: right;\">50</td></tr><tr><td class = \"rowNumber\" style = \"font-weight: bold; text-align: right;\">3</td><td style = \"text-align: left;\">virginica</td><td style = \"text-align: right;\">50</td></tr></tbody></table></div>"
      ],
      "text/latex": [
       "\\begin{tabular}{r|cc}\n",
       "\t& Species & nrow\\\\\n",
       "\t\\hline\n",
       "\t& Cat… & Int64\\\\\n",
       "\t\\hline\n",
       "\t1 & setosa & 50 \\\\\n",
       "\t2 & versicolor & 50 \\\\\n",
       "\t3 & virginica & 50 \\\\\n",
       "\\end{tabular}\n"
      ],
      "text/plain": [
       "\u001b[1m3×2 DataFrame\u001b[0m\n",
       "\u001b[1m Row \u001b[0m│\u001b[1m Species    \u001b[0m\u001b[1m nrow  \u001b[0m\n",
       "     │\u001b[90m Cat…       \u001b[0m\u001b[90m Int64 \u001b[0m\n",
       "─────┼───────────────────\n",
       "   1 │ setosa         50\n",
       "   2 │ versicolor     50\n",
       "   3 │ virginica      50"
      ]
     },
     "metadata": {},
     "output_type": "display_data"
    }
   ],
   "source": [
    "combine(gdf, nrow)"
   ]
  },
  {
   "cell_type": "markdown",
   "metadata": {},
   "source": [
    "Typically, there are multiple steps involved in the split-apply-combine.  Let's say that we want to split the iris data set as above, find the maximum of the `SepalLength`, the median of the `SepalWidth` and then the mean area of the petal (as found above in the exercise)"
   ]
  },
  {
   "cell_type": "code",
   "execution_count": null,
   "metadata": {},
   "outputs": [
    {
     "data": {
      "text/html": [
       "<div><div style = \"float: left;\"><span>3×4 DataFrame</span></div><div style = \"clear: both;\"></div></div><div class = \"data-frame\" style = \"overflow-x: scroll;\"><table class = \"data-frame\" style = \"margin-bottom: 6px;\"><thead><tr class = \"header\"><th class = \"rowNumber\" style = \"font-weight: bold; text-align: right;\">Row</th><th style = \"text-align: left;\">Species</th><th style = \"text-align: left;\">SepalLength_maximum</th><th style = \"text-align: left;\">SepalWidth_median</th><th style = \"text-align: left;\">PetalArea_mean</th></tr><tr class = \"subheader headerLastRow\"><th class = \"rowNumber\" style = \"font-weight: bold; text-align: right;\"></th><th title = \"CategoricalArrays.CategoricalValue{String, UInt8}\" style = \"text-align: left;\">Cat…</th><th title = \"Float64\" style = \"text-align: left;\">Float64</th><th title = \"Float64\" style = \"text-align: left;\">Float64</th><th title = \"Float64\" style = \"text-align: left;\">Float64</th></tr></thead><tbody><tr><td class = \"rowNumber\" style = \"font-weight: bold; text-align: right;\">1</td><td style = \"text-align: left;\">setosa</td><td style = \"text-align: right;\">5.8</td><td style = \"text-align: right;\">3.4</td><td style = \"text-align: right;\">1.14857</td></tr><tr><td class = \"rowNumber\" style = \"font-weight: bold; text-align: right;\">2</td><td style = \"text-align: left;\">versicolor</td><td style = \"text-align: right;\">7.0</td><td style = \"text-align: right;\">2.8</td><td style = \"text-align: right;\">17.9712</td></tr><tr><td class = \"rowNumber\" style = \"font-weight: bold; text-align: right;\">3</td><td style = \"text-align: left;\">virginica</td><td style = \"text-align: right;\">7.9</td><td style = \"text-align: right;\">3.0</td><td style = \"text-align: right;\">35.4881</td></tr></tbody></table></div>"
      ],
      "text/latex": [
       "\\begin{tabular}{r|cccc}\n",
       "\t& Species & SepalLength\\_maximum & SepalWidth\\_median & PetalArea\\_mean\\\\\n",
       "\t\\hline\n",
       "\t& Cat… & Float64 & Float64 & Float64\\\\\n",
       "\t\\hline\n",
       "\t1 & setosa & 5.8 & 3.4 & 1.14857 \\\\\n",
       "\t2 & versicolor & 7.0 & 2.8 & 17.9712 \\\\\n",
       "\t3 & virginica & 7.9 & 3.0 & 35.4881 \\\\\n",
       "\\end{tabular}\n"
      ],
      "text/plain": [
       "\u001b[1m3×4 DataFrame\u001b[0m\n",
       "\u001b[1m Row \u001b[0m│\u001b[1m Species    \u001b[0m\u001b[1m SepalLength_maximum \u001b[0m\u001b[1m SepalWidth_median \u001b[0m\u001b[1m PetalArea_mean \u001b[0m\n",
       "     │\u001b[90m Cat…       \u001b[0m\u001b[90m Float64             \u001b[0m\u001b[90m Float64           \u001b[0m\u001b[90m Float64        \u001b[0m\n",
       "─────┼────────────────────────────────────────────────────────────────────\n",
       "   1 │ setosa                      5.8                3.4         1.14857\n",
       "   2 │ versicolor                  7.0                2.8        17.9712\n",
       "   3 │ virginica                   7.9                3.0        35.4881"
      ]
     },
     "metadata": {},
     "output_type": "display_data"
    }
   ],
   "source": [
    "@chain iris begin\n",
    "  transform([:PetalWidth, :PetalLength] => ((w,l) -> pi*w.*l) => :PetalArea)\n",
    "  groupby(:Species)\n",
    "  combine(:SepalLength => maximum, :SepalWidth => median, :PetalArea => mean)\n",
    "end"
   ]
  },
  {
   "cell_type": "code",
   "execution_count": null,
   "metadata": {},
   "outputs": [],
   "source": []
  }
 ],
 "metadata": {
  "kernelspec": {
   "display_name": "Julia 1.11.1",
   "language": "julia",
   "name": "julia-1.11"
  },
  "language_info": {
   "file_extension": ".jl",
   "mimetype": "application/julia",
   "name": "julia",
   "version": "1.11.1"
  }
 },
 "nbformat": 4,
 "nbformat_minor": 2
}
