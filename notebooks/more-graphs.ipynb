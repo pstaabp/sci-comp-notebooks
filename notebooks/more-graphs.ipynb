{
 "cells": [
  {
   "cell_type": "markdown",
   "id": "449d29ac-2cd4-45b3-b571-cd6c2e4e821c",
   "metadata": {},
   "source": [
    "### More about graphs"
   ]
  },
  {
   "cell_type": "code",
   "execution_count": 6,
   "id": "9c1b9882-0ffd-40ff-9ee5-01dfa0163069",
   "metadata": {},
   "outputs": [],
   "source": [
    "using Graphs, Plots, GraphRecipes"
   ]
  },
  {
   "cell_type": "markdown",
   "id": "1e7edf2a-9c5e-4779-b161-fef1bfa78492",
   "metadata": {},
   "source": [
    "There are two things to look at here: \n",
    "1. a shortest path through a complete graph.  This is known as the Travelling Salesperson problem\n",
    "2. A shortest path between two vertices in a graph. This is known as the Shortest Path problem. "
   ]
  },
  {
   "cell_type": "markdown",
   "id": "ce8ba261-684e-4e32-b598-0a9c363f854c",
   "metadata": {},
   "source": [
    "#### Traveling Salesperson Problem"
   ]
  },
  {
   "cell_type": "markdown",
   "id": "13bf48e1-825d-4ff0-b641-2de0015d45d5",
   "metadata": {},
   "source": [
    "Consider a complete graph. We'll use one with 5 vertices as an example:"
   ]
  },
  {
   "cell_type": "code",
   "execution_count": 98,
   "id": "a94f416a-e796-4a92-89e4-c4d3d077631e",
   "metadata": {},
   "outputs": [
    {
     "data": {
      "text/plain": [
       "{5, 10} undirected simple Int64 graph"
      ]
     },
     "execution_count": 98,
     "metadata": {},
     "output_type": "execute_result"
    }
   ],
   "source": [
    "g = complete_graph(5)"
   ]
  },
  {
   "cell_type": "code",
   "execution_count": 117,
   "id": "ac8dff93-3901-4421-81aa-f75b6c91035d",
   "metadata": {},
   "outputs": [
    {
     "data": {
      "text/plain": [
       "Dict{Tuple{Int64, Int64}, Int64} with 10 entries:\n",
       "  (2, 4) => 7\n",
       "  (1, 2) => 5\n",
       "  (4, 5) => 8\n",
       "  (2, 5) => 3\n",
       "  (1, 3) => 7\n",
       "  (3, 4) => 8\n",
       "  (1, 4) => 3\n",
       "  (2, 3) => 6\n",
       "  (1, 5) => 10\n",
       "  (3, 5) => 5"
      ]
     },
     "execution_count": 117,
     "metadata": {},
     "output_type": "execute_result"
    }
   ],
   "source": [
    "g_weights = Dict(\n",
    "  (1,2) => 5,\n",
    "  (1,3) => 7,\n",
    "  (1,4) => 3,\n",
    "  (1,5) => 10,\n",
    "  (2,3) => 6,\n",
    "  (2,4) => 7,\n",
    "  (2,5) => 3,\n",
    "  (3,4) => 8,\n",
    "  (3,5) => 5,\n",
    "  (4,5) => 8,\n",
    ")"
   ]
  },
  {
   "cell_type": "code",
   "execution_count": 118,
   "id": "82ff01d3-ada9-4231-b645-f2364515383a",
   "metadata": {},
   "outputs": [
    {
     "data": {
      "image/svg+xml": [
       "<?xml version=\"1.0\" encoding=\"utf-8\"?>\n",
       "<svg xmlns=\"http://www.w3.org/2000/svg\" xmlns:xlink=\"http://www.w3.org/1999/xlink\" width=\"600\" height=\"400\" viewBox=\"0 0 2400 1600\">\n",
       "<defs>\n",
       "  <clipPath id=\"clip910\">\n",
       "    <rect x=\"0\" y=\"0\" width=\"2400\" height=\"1600\"/>\n",
       "  </clipPath>\n",
       "</defs>\n",
       "<path clip-path=\"url(#clip910)\" d=\"\n",
       "M0 1600 L2400 1600 L2400 0 L0 0  Z\n",
       "  \" fill=\"#ffffff\" fill-rule=\"evenodd\" fill-opacity=\"1\"/>\n",
       "<defs>\n",
       "  <clipPath id=\"clip911\">\n",
       "    <rect x=\"480\" y=\"0\" width=\"1681\" height=\"1600\"/>\n",
       "  </clipPath>\n",
       "</defs>\n",
       "<path clip-path=\"url(#clip910)\" d=\"\n",
       "M447.244 1552.76 L1952.76 1552.76 L1952.76 47.2441 L447.244 47.2441  Z\n",
       "  \" fill=\"#ffffff\" fill-rule=\"evenodd\" fill-opacity=\"1\"/>\n",
       "<defs>\n",
       "  <clipPath id=\"clip912\">\n",
       "    <rect x=\"447\" y=\"47\" width=\"1507\" height=\"1507\"/>\n",
       "  </clipPath>\n",
       "</defs>\n",
       "<polyline clip-path=\"url(#clip912)\" style=\"stroke:#000000; stroke-linecap:round; stroke-linejoin:round; stroke-width:4; stroke-opacity:1; fill:none\" points=\"\n",
       "  695.475,1162.77 1306.44,262.317 \n",
       "  \"/>\n",
       "<polyline clip-path=\"url(#clip912)\" style=\"stroke:#000000; stroke-linecap:round; stroke-linejoin:round; stroke-width:4; stroke-opacity:1; fill:none\" points=\"\n",
       "  695.475,1162.77 1737.68,781.174 \n",
       "  \"/>\n",
       "<polyline clip-path=\"url(#clip912)\" style=\"stroke:#000000; stroke-linecap:round; stroke-linejoin:round; stroke-width:4; stroke-opacity:1; fill:none\" points=\"\n",
       "  695.475,1162.77 662.317,498.155 \n",
       "  \"/>\n",
       "<polyline clip-path=\"url(#clip912)\" style=\"stroke:#000000; stroke-linecap:round; stroke-linejoin:round; stroke-width:4; stroke-opacity:1; fill:none\" points=\"\n",
       "  695.475,1162.77 1360.09,1337.68 \n",
       "  \"/>\n",
       "<polyline clip-path=\"url(#clip912)\" style=\"stroke:#000000; stroke-linecap:round; stroke-linejoin:round; stroke-width:4; stroke-opacity:1; fill:none\" points=\"\n",
       "  1306.44,262.317 1737.68,781.174 \n",
       "  \"/>\n",
       "<polyline clip-path=\"url(#clip912)\" style=\"stroke:#000000; stroke-linecap:round; stroke-linejoin:round; stroke-width:4; stroke-opacity:1; fill:none\" points=\"\n",
       "  1306.44,262.317 662.317,498.155 \n",
       "  \"/>\n",
       "<polyline clip-path=\"url(#clip912)\" style=\"stroke:#000000; stroke-linecap:round; stroke-linejoin:round; stroke-width:4; stroke-opacity:1; fill:none\" points=\"\n",
       "  1306.44,262.317 1360.09,1337.68 \n",
       "  \"/>\n",
       "<polyline clip-path=\"url(#clip912)\" style=\"stroke:#000000; stroke-linecap:round; stroke-linejoin:round; stroke-width:4; stroke-opacity:1; fill:none\" points=\"\n",
       "  1737.68,781.174 662.317,498.155 \n",
       "  \"/>\n",
       "<polyline clip-path=\"url(#clip912)\" style=\"stroke:#000000; stroke-linecap:round; stroke-linejoin:round; stroke-width:4; stroke-opacity:1; fill:none\" points=\"\n",
       "  1737.68,781.174 1360.09,1337.68 \n",
       "  \"/>\n",
       "<polyline clip-path=\"url(#clip912)\" style=\"stroke:#000000; stroke-linecap:round; stroke-linejoin:round; stroke-width:4; stroke-opacity:1; fill:none\" points=\"\n",
       "  662.317,498.155 1360.09,1337.68 \n",
       "  \"/>\n",
       "<path clip-path=\"url(#clip912)\" d=\"\n",
       "M978.373 748.675 L1023.54 748.675 L1023.54 676.41 L978.373 676.41 L978.373 748.675 L978.373 748.675  Z\n",
       "  \" fill=\"#ffffff\" fill-rule=\"evenodd\" fill-opacity=\"1\"/>\n",
       "<polyline clip-path=\"url(#clip912)\" style=\"stroke:#000000; stroke-linecap:round; stroke-linejoin:round; stroke-width:0; stroke-opacity:0; fill:none\" points=\"\n",
       "  978.373,748.675 1023.54,748.675 1023.54,676.41 978.373,676.41 978.373,748.675 \n",
       "  \"/>\n",
       "<path clip-path=\"url(#clip912)\" d=\"\n",
       "M1194 1008.1 L1239.16 1008.1 L1239.16 935.838 L1194 935.838 L1194 1008.1 L1194 1008.1  Z\n",
       "  \" fill=\"#ffffff\" fill-rule=\"evenodd\" fill-opacity=\"1\"/>\n",
       "<polyline clip-path=\"url(#clip912)\" style=\"stroke:#000000; stroke-linecap:round; stroke-linejoin:round; stroke-width:0; stroke-opacity:0; fill:none\" points=\"\n",
       "  1194,1008.1 1239.16,1008.1 1239.16,935.838 1194,935.838 1194,1008.1 \n",
       "  \"/>\n",
       "<path clip-path=\"url(#clip912)\" d=\"\n",
       "M656.314 866.594 L701.479 866.594 L701.479 794.329 L656.314 794.329 L656.314 866.594 L656.314 866.594  Z\n",
       "  \" fill=\"#ffffff\" fill-rule=\"evenodd\" fill-opacity=\"1\"/>\n",
       "<polyline clip-path=\"url(#clip912)\" style=\"stroke:#000000; stroke-linecap:round; stroke-linejoin:round; stroke-width:0; stroke-opacity:0; fill:none\" points=\"\n",
       "  656.314,866.594 701.479,866.594 701.479,794.329 656.314,794.329 656.314,866.594 \n",
       "  \"/>\n",
       "<path clip-path=\"url(#clip912)\" d=\"\n",
       "M988.463 1286.36 L1067.1 1286.36 L1067.1 1214.09 L988.463 1214.09 L988.463 1286.36 L988.463 1286.36  Z\n",
       "  \" fill=\"#ffffff\" fill-rule=\"evenodd\" fill-opacity=\"1\"/>\n",
       "<polyline clip-path=\"url(#clip912)\" style=\"stroke:#000000; stroke-linecap:round; stroke-linejoin:round; stroke-width:0; stroke-opacity:0; fill:none\" points=\"\n",
       "  988.463,1286.36 1067.1,1286.36 1067.1,1214.09 988.463,1214.09 988.463,1286.36 \n",
       "  \"/>\n",
       "<path clip-path=\"url(#clip912)\" d=\"\n",
       "M1499.48 557.878 L1544.64 557.878 L1544.64 485.613 L1499.48 485.613 L1499.48 557.878 L1499.48 557.878  Z\n",
       "  \" fill=\"#ffffff\" fill-rule=\"evenodd\" fill-opacity=\"1\"/>\n",
       "<polyline clip-path=\"url(#clip912)\" style=\"stroke:#000000; stroke-linecap:round; stroke-linejoin:round; stroke-width:0; stroke-opacity:0; fill:none\" points=\"\n",
       "  1499.48,557.878 1544.64,557.878 1544.64,485.613 1499.48,485.613 1499.48,557.878 \n",
       "  \"/>\n",
       "<path clip-path=\"url(#clip912)\" d=\"\n",
       "M961.794 416.369 L1006.96 416.369 L1006.96 344.104 L961.794 344.104 L961.794 416.369 L961.794 416.369  Z\n",
       "  \" fill=\"#ffffff\" fill-rule=\"evenodd\" fill-opacity=\"1\"/>\n",
       "<polyline clip-path=\"url(#clip912)\" style=\"stroke:#000000; stroke-linecap:round; stroke-linejoin:round; stroke-width:0; stroke-opacity:0; fill:none\" points=\"\n",
       "  961.794,416.369 1006.96,416.369 1006.96,344.104 961.794,344.104 961.794,416.369 \n",
       "  \"/>\n",
       "<path clip-path=\"url(#clip912)\" d=\"\n",
       "M1310.68 836.132 L1355.85 836.132 L1355.85 763.868 L1310.68 763.868 L1310.68 836.132 L1310.68 836.132  Z\n",
       "  \" fill=\"#ffffff\" fill-rule=\"evenodd\" fill-opacity=\"1\"/>\n",
       "<polyline clip-path=\"url(#clip912)\" style=\"stroke:#000000; stroke-linecap:round; stroke-linejoin:round; stroke-width:0; stroke-opacity:0; fill:none\" points=\"\n",
       "  1310.68,836.132 1355.85,836.132 1355.85,763.868 1310.68,763.868 1310.68,836.132 \n",
       "  \"/>\n",
       "<path clip-path=\"url(#clip912)\" d=\"\n",
       "M1177.42 675.797 L1222.58 675.797 L1222.58 603.532 L1177.42 603.532 L1177.42 675.797 L1177.42 675.797  Z\n",
       "  \" fill=\"#ffffff\" fill-rule=\"evenodd\" fill-opacity=\"1\"/>\n",
       "<polyline clip-path=\"url(#clip912)\" style=\"stroke:#000000; stroke-linecap:round; stroke-linejoin:round; stroke-width:0; stroke-opacity:0; fill:none\" points=\"\n",
       "  1177.42,675.797 1222.58,675.797 1222.58,603.532 1177.42,603.532 1177.42,675.797 \n",
       "  \"/>\n",
       "<path clip-path=\"url(#clip912)\" d=\"\n",
       "M1526.3 1095.56 L1571.47 1095.56 L1571.47 1023.3 L1526.3 1023.3 L1526.3 1095.56 L1526.3 1095.56  Z\n",
       "  \" fill=\"#ffffff\" fill-rule=\"evenodd\" fill-opacity=\"1\"/>\n",
       "<polyline clip-path=\"url(#clip912)\" style=\"stroke:#000000; stroke-linecap:round; stroke-linejoin:round; stroke-width:0; stroke-opacity:0; fill:none\" points=\"\n",
       "  1526.3,1095.56 1571.47,1095.56 1571.47,1023.3 1526.3,1023.3 1526.3,1095.56 \n",
       "  \"/>\n",
       "<path clip-path=\"url(#clip912)\" d=\"\n",
       "M722.575 1162.77 L709.025 1139.3 L681.926 1139.3 L668.376 1162.77 L681.926 1186.24 L709.025 1186.24 L722.575 1162.77 L722.575 1162.77  Z\n",
       "  \" fill=\"#009af9\" fill-rule=\"evenodd\" fill-opacity=\"1\"/>\n",
       "<polyline clip-path=\"url(#clip912)\" style=\"stroke:#000000; stroke-linecap:round; stroke-linejoin:round; stroke-width:4; stroke-opacity:1; fill:none\" points=\"\n",
       "  722.575,1162.77 709.025,1139.3 681.926,1139.3 668.376,1162.77 681.926,1186.24 709.025,1186.24 722.575,1162.77 \n",
       "  \"/>\n",
       "<path clip-path=\"url(#clip912)\" d=\"\n",
       "M1333.54 262.317 L1319.99 238.849 L1292.89 238.849 L1279.34 262.317 L1292.89 285.786 L1319.99 285.786 L1333.54 262.317 L1333.54 262.317  Z\n",
       "  \" fill=\"#009af9\" fill-rule=\"evenodd\" fill-opacity=\"1\"/>\n",
       "<polyline clip-path=\"url(#clip912)\" style=\"stroke:#000000; stroke-linecap:round; stroke-linejoin:round; stroke-width:4; stroke-opacity:1; fill:none\" points=\"\n",
       "  1333.54,262.317 1319.99,238.849 1292.89,238.849 1279.34,262.317 1292.89,285.786 1319.99,285.786 1333.54,262.317 \n",
       "  \"/>\n",
       "<path clip-path=\"url(#clip912)\" d=\"\n",
       "M1764.78 781.174 L1751.23 757.705 L1724.13 757.705 L1710.58 781.174 L1724.13 804.642 L1751.23 804.642 L1764.78 781.174 L1764.78 781.174  Z\n",
       "  \" fill=\"#009af9\" fill-rule=\"evenodd\" fill-opacity=\"1\"/>\n",
       "<polyline clip-path=\"url(#clip912)\" style=\"stroke:#000000; stroke-linecap:round; stroke-linejoin:round; stroke-width:4; stroke-opacity:1; fill:none\" points=\"\n",
       "  1764.78,781.174 1751.23,757.705 1724.13,757.705 1710.58,781.174 1724.13,804.642 1751.23,804.642 1764.78,781.174 \n",
       "  \"/>\n",
       "<path clip-path=\"url(#clip912)\" d=\"\n",
       "M689.416 498.155 L675.867 474.687 L648.768 474.687 L635.218 498.155 L648.768 521.624 L675.867 521.624 L689.416 498.155 L689.416 498.155  Z\n",
       "  \" fill=\"#009af9\" fill-rule=\"evenodd\" fill-opacity=\"1\"/>\n",
       "<polyline clip-path=\"url(#clip912)\" style=\"stroke:#000000; stroke-linecap:round; stroke-linejoin:round; stroke-width:4; stroke-opacity:1; fill:none\" points=\"\n",
       "  689.416,498.155 675.867,474.687 648.768,474.687 635.218,498.155 648.768,521.624 675.867,521.624 689.416,498.155 \n",
       "  \"/>\n",
       "<path clip-path=\"url(#clip912)\" d=\"\n",
       "M1387.19 1337.68 L1373.64 1314.21 L1346.54 1314.21 L1332.99 1337.68 L1346.54 1361.15 L1373.64 1361.15 L1387.19 1337.68 L1387.19 1337.68  Z\n",
       "  \" fill=\"#009af9\" fill-rule=\"evenodd\" fill-opacity=\"1\"/>\n",
       "<polyline clip-path=\"url(#clip912)\" style=\"stroke:#000000; stroke-linecap:round; stroke-linejoin:round; stroke-width:4; stroke-opacity:1; fill:none\" points=\"\n",
       "  1387.19,1337.68 1373.64,1314.21 1346.54,1314.21 1332.99,1337.68 1346.54,1361.15 1373.64,1361.15 1387.19,1337.68 \n",
       "  \"/>\n",
       "<path clip-path=\"url(#clip912)\" d=\"M695.475 1163.17 L695.129 1162.97 L695.129 1162.57 L695.475 1162.37 L695.822 1162.57 L695.822 1162.97 Z\" fill=\"#009af9\" fill-rule=\"evenodd\" fill-opacity=\"1\" stroke=\"#000000\" stroke-opacity=\"1\" stroke-width=\"3.2\"/>\n",
       "<path clip-path=\"url(#clip912)\" d=\"M1306.44 262.717 L1306.09 262.517 L1306.09 262.117 L1306.44 261.917 L1306.78 262.117 L1306.78 262.517 Z\" fill=\"#009af9\" fill-rule=\"evenodd\" fill-opacity=\"1\" stroke=\"#000000\" stroke-opacity=\"1\" stroke-width=\"3.2\"/>\n",
       "<path clip-path=\"url(#clip912)\" d=\"M1737.68 781.574 L1737.34 781.374 L1737.34 780.974 L1737.68 780.774 L1738.03 780.974 L1738.03 781.374 Z\" fill=\"#009af9\" fill-rule=\"evenodd\" fill-opacity=\"1\" stroke=\"#000000\" stroke-opacity=\"1\" stroke-width=\"3.2\"/>\n",
       "<path clip-path=\"url(#clip912)\" d=\"M662.317 498.555 L661.971 498.355 L661.971 497.955 L662.317 497.755 L662.664 497.955 L662.664 498.355 Z\" fill=\"#009af9\" fill-rule=\"evenodd\" fill-opacity=\"1\" stroke=\"#000000\" stroke-opacity=\"1\" stroke-width=\"3.2\"/>\n",
       "<path clip-path=\"url(#clip912)\" d=\"M1360.09 1338.08 L1359.74 1337.88 L1359.74 1337.48 L1360.09 1337.28 L1360.43 1337.48 L1360.43 1337.88 Z\" fill=\"#009af9\" fill-rule=\"evenodd\" fill-opacity=\"1\" stroke=\"#000000\" stroke-opacity=\"1\" stroke-width=\"3.2\"/>\n",
       "<path clip-path=\"url(#clip910)\" d=\"M992.449 697.422 L1008.51 697.422 L1008.51 700.866 L996.196 700.866 L996.196 708.279 Q997.087 707.975 997.979 707.833 Q998.87 707.671 999.761 707.671 Q1004.82 707.671 1007.78 710.446 Q1010.74 713.221 1010.74 717.961 Q1010.74 722.842 1007.7 725.556 Q1004.66 728.25 999.133 728.25 Q997.229 728.25 995.244 727.926 Q993.28 727.602 991.173 726.954 L991.173 722.842 Q992.996 723.834 994.94 724.32 Q996.885 724.807 999.052 724.807 Q1002.56 724.807 1004.6 722.963 Q1006.65 721.12 1006.65 717.961 Q1006.65 714.801 1004.6 712.958 Q1002.56 711.115 999.052 711.115 Q997.412 711.115 995.771 711.479 Q994.151 711.844 992.449 712.613 L992.449 697.422 Z\" fill=\"#000000\" fill-rule=\"evenodd\" fill-opacity=\"1\" /><path clip-path=\"url(#clip910)\" d=\"M1206.86 956.851 L1226.3 956.851 L1226.3 958.593 L1215.32 987.091 L1211.05 987.091 L1221.38 960.294 L1206.86 960.294 L1206.86 956.851 Z\" fill=\"#000000\" fill-rule=\"evenodd\" fill-opacity=\"1\" /><path clip-path=\"url(#clip910)\" d=\"M682.613 829.277 Q685.55 829.905 687.19 831.89 Q688.851 833.874 688.851 836.791 Q688.851 841.267 685.773 843.718 Q682.694 846.169 677.023 846.169 Q675.119 846.169 673.093 845.784 Q671.088 845.42 668.941 844.67 L668.941 840.72 Q670.643 841.713 672.668 842.219 Q674.693 842.726 676.901 842.726 Q680.75 842.726 682.755 841.207 Q684.78 839.688 684.78 836.791 Q684.78 834.118 682.897 832.619 Q681.033 831.1 677.691 831.1 L674.167 831.1 L674.167 827.737 L677.853 827.737 Q680.871 827.737 682.471 826.542 Q684.071 825.327 684.071 823.059 Q684.071 820.729 682.41 819.494 Q680.77 818.238 677.691 818.238 Q676.01 818.238 674.086 818.603 Q672.162 818.967 669.853 819.737 L669.853 816.091 Q672.182 815.443 674.207 815.119 Q676.253 814.795 678.056 814.795 Q682.714 814.795 685.428 816.921 Q688.142 819.028 688.142 822.633 Q688.142 825.145 686.704 826.887 Q685.266 828.608 682.613 829.277 Z\" fill=\"#000000\" fill-rule=\"evenodd\" fill-opacity=\"1\" /><path clip-path=\"url(#clip910)\" d=\"M1005.63 1261.9 L1012.32 1261.9 L1012.32 1238.83 L1005.05 1240.29 L1005.05 1236.56 L1012.28 1235.11 L1016.37 1235.11 L1016.37 1261.9 L1023.05 1261.9 L1023.05 1265.35 L1005.63 1265.35 L1005.63 1261.9 Z\" fill=\"#000000\" fill-rule=\"evenodd\" fill-opacity=\"1\" /><path clip-path=\"url(#clip910)\" d=\"M1040.07 1237.8 Q1036.91 1237.8 1035.31 1240.92 Q1033.73 1244.02 1033.73 1250.26 Q1033.73 1256.47 1035.31 1259.59 Q1036.91 1262.69 1040.07 1262.69 Q1043.25 1262.69 1044.83 1259.59 Q1046.43 1256.47 1046.43 1250.26 Q1046.43 1244.02 1044.83 1240.92 Q1043.25 1237.8 1040.07 1237.8 M1040.07 1234.56 Q1045.15 1234.56 1047.82 1238.59 Q1050.52 1242.6 1050.52 1250.26 Q1050.52 1257.89 1047.82 1261.92 Q1045.15 1265.93 1040.07 1265.93 Q1034.98 1265.93 1032.29 1261.92 Q1029.61 1257.89 1029.61 1250.26 Q1029.61 1242.6 1032.29 1238.59 Q1034.98 1234.56 1040.07 1234.56 Z\" fill=\"#000000\" fill-rule=\"evenodd\" fill-opacity=\"1\" /><path clip-path=\"url(#clip910)\" d=\"M1522.41 520.115 Q1519.66 520.115 1518.04 521.999 Q1516.44 523.882 1516.44 527.164 Q1516.44 530.425 1518.04 532.328 Q1519.66 534.212 1522.41 534.212 Q1525.17 534.212 1526.77 532.328 Q1528.39 530.425 1528.39 527.164 Q1528.39 523.882 1526.77 521.999 Q1525.17 520.115 1522.41 520.115 M1530.54 507.294 L1530.54 511.021 Q1529 510.292 1527.42 509.907 Q1525.86 509.522 1524.32 509.522 Q1520.27 509.522 1518.12 512.256 Q1515.99 514.991 1515.69 520.52 Q1516.88 518.758 1518.69 517.826 Q1520.49 516.874 1522.66 516.874 Q1527.21 516.874 1529.85 519.649 Q1532.5 522.404 1532.5 527.164 Q1532.5 531.822 1529.75 534.637 Q1526.99 537.453 1522.41 537.453 Q1517.17 537.453 1514.39 533.442 Q1511.62 529.412 1511.62 521.776 Q1511.62 514.606 1515.02 510.352 Q1518.42 506.079 1524.16 506.079 Q1525.7 506.079 1527.26 506.382 Q1528.83 506.686 1530.54 507.294 Z\" fill=\"#000000\" fill-rule=\"evenodd\" fill-opacity=\"1\" /><path clip-path=\"url(#clip910)\" d=\"M974.655 365.116 L994.099 365.116 L994.099 366.858 L983.121 395.356 L978.848 395.356 L989.177 368.56 L974.655 368.56 L974.655 365.116 Z\" fill=\"#000000\" fill-rule=\"evenodd\" fill-opacity=\"1\" /><path clip-path=\"url(#clip910)\" d=\"M1336.98 798.815 Q1339.92 799.443 1341.56 801.428 Q1343.22 803.413 1343.22 806.33 Q1343.22 810.806 1340.14 813.257 Q1337.06 815.707 1331.39 815.707 Q1329.48 815.707 1327.46 815.323 Q1325.45 814.958 1323.31 814.209 L1323.31 810.259 Q1325.01 811.251 1327.03 811.758 Q1329.06 812.264 1331.27 812.264 Q1335.12 812.264 1337.12 810.745 Q1339.15 809.226 1339.15 806.33 Q1339.15 803.656 1337.26 802.157 Q1335.4 800.638 1332.06 800.638 L1328.53 800.638 L1328.53 797.276 L1332.22 797.276 Q1335.24 797.276 1336.84 796.081 Q1338.44 794.865 1338.44 792.597 Q1338.44 790.268 1336.78 789.032 Q1335.14 787.776 1332.06 787.776 Q1330.38 787.776 1328.45 788.141 Q1326.53 788.506 1324.22 789.275 L1324.22 785.629 Q1326.55 784.981 1328.57 784.657 Q1330.62 784.333 1332.42 784.333 Q1337.08 784.333 1339.79 786.46 Q1342.51 788.566 1342.51 792.172 Q1342.51 794.683 1341.07 796.425 Q1339.63 798.147 1336.98 798.815 Z\" fill=\"#000000\" fill-rule=\"evenodd\" fill-opacity=\"1\" /><path clip-path=\"url(#clip910)\" d=\"M1200 640.424 Q1197.08 640.424 1195.4 641.984 Q1193.74 643.543 1193.74 646.278 Q1193.74 649.012 1195.4 650.572 Q1197.08 652.131 1200 652.131 Q1202.92 652.131 1204.6 650.572 Q1206.28 648.992 1206.28 646.278 Q1206.28 643.543 1204.6 641.984 Q1202.94 640.424 1200 640.424 M1195.91 638.682 Q1193.28 638.034 1191.8 636.231 Q1190.34 634.429 1190.34 631.836 Q1190.34 628.211 1192.91 626.104 Q1195.5 623.998 1200 623.998 Q1204.52 623.998 1207.09 626.104 Q1209.66 628.211 1209.66 631.836 Q1209.66 634.429 1208.18 636.231 Q1206.72 638.034 1204.11 638.682 Q1207.07 639.371 1208.71 641.376 Q1210.37 643.381 1210.37 646.278 Q1210.37 650.673 1207.68 653.022 Q1205 655.372 1200 655.372 Q1195 655.372 1192.3 653.022 Q1189.63 650.673 1189.63 646.278 Q1189.63 643.381 1191.29 641.376 Q1192.95 639.371 1195.91 638.682 M1194.41 632.221 Q1194.41 634.571 1195.87 635.887 Q1197.35 637.204 1200 637.204 Q1202.63 637.204 1204.11 635.887 Q1205.61 634.571 1205.61 632.221 Q1205.61 629.872 1204.11 628.555 Q1202.63 627.238 1200 627.238 Q1197.35 627.238 1195.87 628.555 Q1194.41 629.872 1194.41 632.221 Z\" fill=\"#000000\" fill-rule=\"evenodd\" fill-opacity=\"1\" /><path clip-path=\"url(#clip910)\" d=\"M1540.38 1044.31 L1556.44 1044.31 L1556.44 1047.75 L1544.13 1047.75 L1544.13 1055.16 Q1545.02 1054.86 1545.91 1054.72 Q1546.8 1054.56 1547.69 1054.56 Q1552.75 1054.56 1555.71 1057.33 Q1558.67 1060.11 1558.67 1064.85 Q1558.67 1069.73 1555.63 1072.44 Q1552.59 1075.14 1547.06 1075.14 Q1545.16 1075.14 1543.17 1074.81 Q1541.21 1074.49 1539.1 1073.84 L1539.1 1069.73 Q1540.93 1070.72 1542.87 1071.21 Q1544.81 1071.69 1546.98 1071.69 Q1550.49 1071.69 1552.53 1069.85 Q1554.58 1068.01 1554.58 1064.85 Q1554.58 1061.69 1552.53 1059.84 Q1550.49 1058 1546.98 1058 Q1545.34 1058 1543.7 1058.36 Q1542.08 1058.73 1540.38 1059.5 L1540.38 1044.31 Z\" fill=\"#000000\" fill-rule=\"evenodd\" fill-opacity=\"1\" /><path clip-path=\"url(#clip910)\" d=\"M695.475 1151.68 L689.926 1166.73 L701.045 1166.73 L695.475 1151.68 M693.166 1147.65 L697.805 1147.65 L709.329 1177.89 L705.076 1177.89 L702.321 1170.13 L688.69 1170.13 L685.935 1177.89 L681.621 1177.89 L693.166 1147.65 Z\" fill=\"#000000\" fill-rule=\"evenodd\" fill-opacity=\"1\" /><path clip-path=\"url(#clip910)\" d=\"M1299.8 262.996 L1299.8 274.075 L1306.37 274.075 Q1309.67 274.075 1311.25 272.718 Q1312.85 271.341 1312.85 268.525 Q1312.85 265.69 1311.25 264.353 Q1309.67 262.996 1306.37 262.996 L1299.8 262.996 M1299.8 250.559 L1299.8 259.674 L1305.86 259.674 Q1308.86 259.674 1310.32 258.56 Q1311.79 257.426 1311.79 255.117 Q1311.79 252.828 1310.32 251.694 Q1308.86 250.559 1305.86 250.559 L1299.8 250.559 M1295.71 247.197 L1306.16 247.197 Q1310.84 247.197 1313.37 249.142 Q1315.91 251.086 1315.91 254.671 Q1315.91 257.446 1314.61 259.087 Q1313.31 260.727 1310.8 261.132 Q1313.82 261.78 1315.48 263.846 Q1317.16 265.892 1317.16 268.971 Q1317.16 273.022 1314.41 275.229 Q1311.65 277.437 1306.57 277.437 L1295.71 277.437 L1295.71 247.197 Z\" fill=\"#000000\" fill-rule=\"evenodd\" fill-opacity=\"1\" /><path clip-path=\"url(#clip910)\" d=\"M1749.88 768.383 L1749.88 772.697 Q1747.81 770.773 1745.46 769.821 Q1743.13 768.869 1740.5 768.869 Q1735.31 768.869 1732.56 772.049 Q1729.8 775.209 1729.8 781.204 Q1729.8 787.179 1732.56 790.359 Q1735.31 793.519 1740.5 793.519 Q1743.13 793.519 1745.46 792.567 Q1747.81 791.615 1749.88 789.691 L1749.88 793.964 Q1747.73 795.423 1745.32 796.152 Q1742.93 796.881 1740.26 796.881 Q1733.39 796.881 1729.44 792.688 Q1725.49 788.476 1725.49 781.204 Q1725.49 773.913 1729.44 769.72 Q1733.39 765.507 1740.26 765.507 Q1742.97 765.507 1745.36 766.236 Q1747.77 766.945 1749.88 768.383 Z\" fill=\"#000000\" fill-rule=\"evenodd\" fill-opacity=\"1\" /><path clip-path=\"url(#clip910)\" d=\"M653.699 486.398 L653.699 509.913 L658.641 509.913 Q664.9 509.913 667.796 507.078 Q670.713 504.242 670.713 498.125 Q670.713 492.049 667.796 489.233 Q664.9 486.398 658.641 486.398 L653.699 486.398 M649.607 483.035 L658.013 483.035 Q666.804 483.035 670.915 486.701 Q675.027 490.347 675.027 498.125 Q675.027 505.943 670.895 509.609 Q666.763 513.275 658.013 513.275 L649.607 513.275 L649.607 483.035 Z\" fill=\"#000000\" fill-rule=\"evenodd\" fill-opacity=\"1\" /><path clip-path=\"url(#clip910)\" d=\"M1350.35 1322.56 L1369.47 1322.56 L1369.47 1326.01 L1354.44 1326.01 L1354.44 1334.96 L1368.84 1334.96 L1368.84 1338.4 L1354.44 1338.4 L1354.44 1349.36 L1369.83 1349.36 L1369.83 1352.8 L1350.35 1352.8 L1350.35 1322.56 Z\" fill=\"#000000\" fill-rule=\"evenodd\" fill-opacity=\"1\" /></svg>\n"
      ]
     },
     "execution_count": 118,
     "metadata": {},
     "output_type": "execute_result"
    }
   ],
   "source": [
    "graphplot(g, names=[\"A\",\"B\",\"C\",\"D\",\"E\"], edgelabel=g_weights, curves = false)"
   ]
  },
  {
   "cell_type": "markdown",
   "id": "afb93a70-1132-458b-bca9-8bab2985a92e",
   "metadata": {},
   "source": [
    "We're going to find a shortest path from A through all other nodes and back to A.  We will do this in a brute force manner in that we go through all paths in the graph.  Here's an example:"
   ]
  },
  {
   "cell_type": "code",
   "execution_count": 120,
   "id": "c07b7b30-7ef3-415a-920e-d8e59a864027",
   "metadata": {},
   "outputs": [
    {
     "data": {
      "text/plain": [
       "37"
      ]
     },
     "execution_count": 120,
     "metadata": {},
     "output_type": "execute_result"
    }
   ],
   "source": [
    "dist = g_weights[(1,2)]+g_weights[(2,3)]+g_weights[(3,4)]+g_weights[(4,5)]+g_weights[(1,5)]"
   ]
  },
  {
   "cell_type": "markdown",
   "id": "2f1bfb9e-7a4b-43d7-b677-8952b053a0f9",
   "metadata": {},
   "source": [
    "If we have a path in the array p, then the following will find the path"
   ]
  },
  {
   "cell_type": "code",
   "execution_count": 126,
   "id": "22dff8ff-188e-42ad-b15e-6bdb6435217e",
   "metadata": {},
   "outputs": [
    {
     "data": {
      "text/plain": [
       "pathDistance (generic function with 1 method)"
      ]
     },
     "execution_count": 126,
     "metadata": {},
     "output_type": "execute_result"
    }
   ],
   "source": [
    "function pathDistance(p::Vector{Int})\n",
    "  dist = 0\n",
    "  for i=1:length(p)-1\n",
    "    dist += haskey(g_weights,(p[i],p[i+1])) ? g_weights[(p[i],p[i+1])] : g_weights[(p[i+1],p[i])]\n",
    "  end\n",
    "  dist + (haskey(g_weights,(p[1],p[end])) ? g_weights[(p[1],p[end])] : g_weights[(p[end],p[1])])\n",
    "end"
   ]
  },
  {
   "cell_type": "code",
   "execution_count": 127,
   "id": "58771916-4a7c-41f7-ba3c-4a7aad675a07",
   "metadata": {},
   "outputs": [
    {
     "data": {
      "text/plain": [
       "37"
      ]
     },
     "execution_count": 127,
     "metadata": {},
     "output_type": "execute_result"
    }
   ],
   "source": [
    "pathDistance(collect(1:5))"
   ]
  },
  {
   "cell_type": "code",
   "execution_count": 130,
   "id": "2aba5867-69d4-41c5-a8c8-127930cec6b0",
   "metadata": {},
   "outputs": [],
   "source": [
    "using Combinatorics"
   ]
  },
  {
   "cell_type": "markdown",
   "id": "ed69bce0-735e-4661-a8a0-9dcd0b524aba",
   "metadata": {},
   "source": [
    "Now, we will find all paths, by using the permutaions of the array from 1 to 5"
   ]
  },
  {
   "cell_type": "code",
   "execution_count": 131,
   "id": "6bd20008-5f5b-4b50-a0b7-0cb5f57b306a",
   "metadata": {},
   "outputs": [
    {
     "data": {
      "text/plain": [
       "4-element Vector{Int64}:\n",
       " 1\n",
       " 2\n",
       " 3\n",
       " 4"
      ]
     },
     "execution_count": 131,
     "metadata": {},
     "output_type": "execute_result"
    }
   ],
   "source": [
    "nthperm([1,2,3,4],1)"
   ]
  },
  {
   "cell_type": "code",
   "execution_count": 132,
   "id": "518d8761-591b-4556-be4d-874643b23cbf",
   "metadata": {},
   "outputs": [
    {
     "data": {
      "text/plain": [
       "4-element Vector{Int64}:\n",
       " 1\n",
       " 2\n",
       " 4\n",
       " 3"
      ]
     },
     "execution_count": 132,
     "metadata": {},
     "output_type": "execute_result"
    }
   ],
   "source": [
    "nthperm([1,2,3,4],2)"
   ]
  },
  {
   "cell_type": "code",
   "execution_count": 134,
   "id": "b7dcc685-fb7f-4149-9edb-9bd08a9976ba",
   "metadata": {},
   "outputs": [
    {
     "data": {
      "text/plain": [
       "24-element Vector{Vector{Int64}}:\n",
       " [1, 2, 3, 4]\n",
       " [1, 2, 4, 3]\n",
       " [1, 3, 2, 4]\n",
       " [1, 3, 4, 2]\n",
       " [1, 4, 2, 3]\n",
       " [1, 4, 3, 2]\n",
       " [2, 1, 3, 4]\n",
       " [2, 1, 4, 3]\n",
       " [2, 3, 1, 4]\n",
       " [2, 3, 4, 1]\n",
       " [2, 4, 1, 3]\n",
       " [2, 4, 3, 1]\n",
       " [3, 1, 2, 4]\n",
       " [3, 1, 4, 2]\n",
       " [3, 2, 1, 4]\n",
       " [3, 2, 4, 1]\n",
       " [3, 4, 1, 2]\n",
       " [3, 4, 2, 1]\n",
       " [4, 1, 2, 3]\n",
       " [4, 1, 3, 2]\n",
       " [4, 2, 1, 3]\n",
       " [4, 2, 3, 1]\n",
       " [4, 3, 1, 2]\n",
       " [4, 3, 2, 1]"
      ]
     },
     "execution_count": 134,
     "metadata": {},
     "output_type": "execute_result"
    }
   ],
   "source": [
    "perms = map(k->nthperm([1,2,3,4],k),1:??)"
   ]
  },
  {
   "cell_type": "code",
   "execution_count": 141,
   "id": "72f023cc-8755-4521-838e-973c86b06b7b",
   "metadata": {},
   "outputs": [
    {
     "data": {
      "text/plain": [
       "120-element Vector{Int64}:\n",
       " 37\n",
       " 27\n",
       " 35\n",
       " 32\n",
       " 24\n",
       " 31\n",
       " 38\n",
       " 27\n",
       " 35\n",
       " 31\n",
       " 25\n",
       " 32\n",
       " 31\n",
       "  ⋮\n",
       " 32\n",
       " 25\n",
       " 27\n",
       " 31\n",
       " 24\n",
       " 35\n",
       " 27\n",
       " 27\n",
       " 32\n",
       " 38\n",
       " 31\n",
       " 37"
      ]
     },
     "execution_count": 141,
     "metadata": {},
     "output_type": "execute_result"
    }
   ],
   "source": [
    "dists = map(k->pathDistance(nthperm(1:5,k)),1:??)"
   ]
  },
  {
   "cell_type": "code",
   "execution_count": 142,
   "id": "d401ad3d-f813-4d18-815d-aa518e46cb7e",
   "metadata": {},
   "outputs": [
    {
     "data": {
      "text/plain": [
       "(24, 5)"
      ]
     },
     "execution_count": 142,
     "metadata": {},
     "output_type": "execute_result"
    }
   ],
   "source": [
    "findmin(dists)"
   ]
  },
  {
   "cell_type": "markdown",
   "id": "a022e06f-8c0d-49f3-af2c-c91e18deee3a",
   "metadata": {},
   "source": [
    "This shows that the 5th element of the list (5th permutatation) returns the minimum of 24."
   ]
  },
  {
   "cell_type": "code",
   "execution_count": 143,
   "id": "e693b721-b70b-4b42-be91-fe85c9b96239",
   "metadata": {},
   "outputs": [
    {
     "data": {
      "text/plain": [
       "5-element Vector{Int64}:\n",
       " 1\n",
       " 2\n",
       " 5\n",
       " 3\n",
       " 4"
      ]
     },
     "execution_count": 143,
     "metadata": {},
     "output_type": "execute_result"
    }
   ],
   "source": [
    "nthperm(1:5,5)"
   ]
  },
  {
   "cell_type": "markdown",
   "id": "90c518b0-fdef-47e4-9723-38a00174de10",
   "metadata": {},
   "source": [
    "This corresponds to A -> B -> E -> C -> D -> A"
   ]
  },
  {
   "cell_type": "markdown",
   "id": "3ea1cc9e-8540-4c47-a6bb-3e8840a5cbd9",
   "metadata": {},
   "source": [
    "### Shortest Path Problems\n",
    "\n",
    "Here, we are going to look at the shortest path through a weighted graph.  Although there are many algorithms to do this, we will use the $A^{\\star}$ method (feel free to google if interested how it works).\n",
    "\n",
    "First, let's make a graph"
   ]
  },
  {
   "cell_type": "code",
   "execution_count": 46,
   "id": "f7cb00c3-24ee-4c74-a86e-ed5049d2873f",
   "metadata": {},
   "outputs": [
    {
     "data": {
      "text/plain": [
       "true"
      ]
     },
     "execution_count": 46,
     "metadata": {},
     "output_type": "execute_result"
    }
   ],
   "source": [
    "g2 = SimpleGraph(5)\n",
    "add_edge!(g2,1,2)\n",
    "add_edge!(g2,2,3)\n",
    "add_edge!(g2,2,4)\n",
    "add_edge!(g2,3,4)\n",
    "add_edge!(g2,3,5)\n",
    "add_edge!(g2,4,5)"
   ]
  },
  {
   "cell_type": "code",
   "execution_count": null,
   "id": "73347cc4-15d8-47f4-b420-6a4333f2b6fa",
   "metadata": {},
   "outputs": [],
   "source": []
  },
  {
   "cell_type": "markdown",
   "id": "3593d060-7bf0-4aa1-b3a0-84807f74ce4a",
   "metadata": {},
   "source": [
    "And defined the weights"
   ]
  },
  {
   "cell_type": "code",
   "execution_count": 77,
   "id": "adfa57b8-562f-40bb-a185-756dd1b203bf",
   "metadata": {},
   "outputs": [
    {
     "data": {
      "text/plain": [
       "Dict{Tuple{Int64, Int64}, Int64} with 6 entries:\n",
       "  (2, 4) => 1\n",
       "  (1, 2) => 1\n",
       "  (4, 5) => 5\n",
       "  (3, 4) => 1\n",
       "  (2, 3) => 3\n",
       "  (3, 5) => 2"
      ]
     },
     "execution_count": 77,
     "metadata": {},
     "output_type": "execute_result"
    }
   ],
   "source": [
    "weights2 = Dict((1,2)=>1,(2,3)=>3,(2,4)=>1,(3,4)=>1,(3,5)=>2,(4,5)=>5)"
   ]
  },
  {
   "cell_type": "markdown",
   "id": "92bd7624-3960-4fd6-9674-a78815034796",
   "metadata": {},
   "source": [
    "These can be used to plot the graph with"
   ]
  },
  {
   "cell_type": "code",
   "execution_count": 78,
   "id": "5de26b90-462a-44da-9c89-f63c5a05e552",
   "metadata": {},
   "outputs": [
    {
     "data": {
      "image/svg+xml": [
       "<?xml version=\"1.0\" encoding=\"utf-8\"?>\n",
       "<svg xmlns=\"http://www.w3.org/2000/svg\" xmlns:xlink=\"http://www.w3.org/1999/xlink\" width=\"600\" height=\"400\" viewBox=\"0 0 2400 1600\">\n",
       "<defs>\n",
       "  <clipPath id=\"clip580\">\n",
       "    <rect x=\"0\" y=\"0\" width=\"2400\" height=\"1600\"/>\n",
       "  </clipPath>\n",
       "</defs>\n",
       "<path clip-path=\"url(#clip580)\" d=\"\n",
       "M0 1600 L2400 1600 L2400 0 L0 0  Z\n",
       "  \" fill=\"#ffffff\" fill-rule=\"evenodd\" fill-opacity=\"1\"/>\n",
       "<defs>\n",
       "  <clipPath id=\"clip581\">\n",
       "    <rect x=\"480\" y=\"0\" width=\"1681\" height=\"1600\"/>\n",
       "  </clipPath>\n",
       "</defs>\n",
       "<path clip-path=\"url(#clip580)\" d=\"\n",
       "M447.244 1552.76 L1952.76 1552.76 L1952.76 47.2441 L447.244 47.2441  Z\n",
       "  \" fill=\"#ffffff\" fill-rule=\"evenodd\" fill-opacity=\"1\"/>\n",
       "<defs>\n",
       "  <clipPath id=\"clip582\">\n",
       "    <rect x=\"447\" y=\"47\" width=\"1507\" height=\"1507\"/>\n",
       "  </clipPath>\n",
       "</defs>\n",
       "<polyline clip-path=\"url(#clip582)\" style=\"stroke:#000000; stroke-linecap:round; stroke-linejoin:round; stroke-width:4; stroke-opacity:1; fill:none\" points=\"\n",
       "  662.317,262.317 667.644,272.473 672.978,282.621 678.328,292.754 683.701,302.864 689.106,312.943 694.55,322.984 700.041,332.979 705.587,342.92 711.196,352.8 \n",
       "  716.876,362.611 722.634,372.345 728.478,381.994 734.416,391.552 740.456,401.01 746.606,410.361 752.874,419.597 759.267,428.71 765.793,437.693 772.461,446.538 \n",
       "  779.278,455.237 786.251,463.782 793.39,472.167 800.701,480.383 808.192,488.423 815.871,496.279 823.738,503.951 831.786,511.447 840.006,518.774 848.391,525.941 \n",
       "  856.932,532.954 865.623,539.821 874.455,546.55 883.42,553.149 892.511,559.625 901.719,565.987 911.038,572.24 920.458,578.395 929.972,584.457 939.573,590.435 \n",
       "  949.252,596.336 959.001,602.168 968.814,607.939 978.681,613.656 988.595,619.327 998.549,624.96 1008.53,630.562 1018.54,636.142 1028.57,641.705 1038.6,647.262 \n",
       "  \n",
       "  \"/>\n",
       "<polyline clip-path=\"url(#clip582)\" style=\"stroke:#000000; stroke-linecap:round; stroke-linejoin:round; stroke-width:4; stroke-opacity:1; fill:none\" points=\"\n",
       "  1038.6,647.262 1041.4,656.335 1044.2,665.407 1046.97,674.479 1049.7,683.548 1052.4,692.615 1055.04,701.68 1057.61,710.74 1060.11,719.797 1062.52,728.849 \n",
       "  1064.83,737.895 1067.03,746.936 1069.11,755.97 1071.06,764.996 1072.87,774.016 1074.52,783.026 1076.01,792.028 1077.33,801.021 1078.46,810.003 1079.39,818.975 \n",
       "  1080.11,827.936 1080.62,836.884 1080.89,845.821 1080.92,854.744 1080.7,863.653 1080.22,872.549 1079.48,881.43 1078.48,890.297 1077.25,899.152 1075.78,907.994 \n",
       "  1074.09,916.824 1072.2,925.643 1070.11,934.451 1067.83,943.249 1065.38,952.038 1062.76,960.818 1059.99,969.589 1057.08,978.353 1054.04,987.11 1050.87,995.86 \n",
       "  1047.6,1004.6 1044.23,1013.34 1040.77,1022.08 1037.23,1030.81 1033.63,1039.53 1029.97,1048.26 1026.27,1056.98 1022.54,1065.7 1018.78,1074.42 1015.01,1083.13 \n",
       "  \n",
       "  \"/>\n",
       "<polyline clip-path=\"url(#clip582)\" style=\"stroke:#000000; stroke-linecap:round; stroke-linejoin:round; stroke-width:4; stroke-opacity:1; fill:none\" points=\"\n",
       "  1038.6,647.262 1051.74,655.56 1064.88,663.849 1078.03,672.117 1091.19,680.354 1104.37,688.549 1117.56,696.694 1130.78,704.776 1144.02,712.786 1157.3,720.714 \n",
       "  1170.61,728.549 1183.95,736.281 1197.34,743.9 1210.77,751.395 1224.25,758.756 1237.79,765.973 1251.38,773.036 1265.03,779.933 1278.74,786.655 1292.52,793.192 \n",
       "  1306.38,799.533 1320.31,805.669 1334.31,811.587 1348.4,817.279 1362.58,822.734 1376.85,827.942 1391.2,832.904 1405.65,837.628 1420.17,842.126 1434.78,846.407 \n",
       "  1449.46,850.482 1464.21,854.362 1479.03,858.056 1493.92,861.574 1508.86,864.928 1523.86,868.128 1538.91,871.183 1554.02,874.104 1569.16,876.902 1584.35,879.586 \n",
       "  1599.58,882.167 1614.84,884.656 1630.13,887.062 1645.44,889.395 1660.78,891.668 1676.14,893.888 1691.51,896.068 1706.9,898.216 1722.29,900.344 1737.68,902.461 \n",
       "  \n",
       "  \"/>\n",
       "<polyline clip-path=\"url(#clip582)\" style=\"stroke:#000000; stroke-linecap:round; stroke-linejoin:round; stroke-width:4; stroke-opacity:1; fill:none\" points=\"\n",
       "  1015.01,1083.13 1030.56,1082.64 1046.1,1082.13 1061.64,1081.61 1077.17,1081.05 1092.69,1080.44 1108.2,1079.79 1123.69,1079.07 1139.16,1078.28 1154.61,1077.4 \n",
       "  1170.04,1076.42 1185.44,1075.34 1200.81,1074.15 1216.15,1072.82 1231.45,1071.36 1246.72,1069.74 1261.95,1067.97 1277.13,1066.03 1292.27,1063.91 1307.36,1061.59 \n",
       "  1322.4,1059.07 1337.39,1056.34 1352.32,1053.39 1367.2,1050.2 1382.01,1046.77 1396.76,1043.08 1411.44,1039.14 1426.06,1034.96 1440.63,1030.53 1455.14,1025.89 \n",
       "  1469.59,1021.03 1484,1015.97 1498.36,1010.72 1512.67,1005.29 1526.94,999.688 1541.17,993.927 1555.36,988.016 1569.52,981.967 1583.64,975.79 1597.74,969.496 \n",
       "  1611.81,963.096 1625.86,956.6 1639.88,950.019 1653.89,943.363 1667.88,936.644 1681.85,929.871 1695.82,923.056 1709.78,916.209 1723.73,909.34 1737.68,902.461 \n",
       "  \n",
       "  \"/>\n",
       "<polyline clip-path=\"url(#clip582)\" style=\"stroke:#000000; stroke-linecap:round; stroke-linejoin:round; stroke-width:4; stroke-opacity:1; fill:none\" points=\"\n",
       "  1015.01,1083.13 1028.14,1091.42 1041.27,1099.7 1054.41,1107.95 1067.56,1116.18 1080.73,1124.36 1093.91,1132.49 1107.12,1140.56 1120.35,1148.56 1133.61,1156.47 \n",
       "  1146.91,1164.29 1160.24,1172.01 1173.62,1179.62 1187.04,1187.1 1200.51,1194.45 1214.03,1201.65 1227.61,1208.7 1241.25,1215.59 1254.95,1222.3 1268.72,1228.82 \n",
       "  1282.56,1235.15 1296.47,1241.27 1310.47,1247.18 1324.55,1252.86 1338.71,1258.3 1352.97,1263.49 1367.31,1268.44 1381.74,1273.15 1396.25,1277.64 1410.85,1281.9 \n",
       "  1425.51,1285.96 1440.25,1289.83 1455.06,1293.51 1469.93,1297.02 1484.86,1300.36 1499.84,1303.54 1514.88,1306.58 1529.97,1309.49 1545.1,1312.28 1560.28,1314.95 \n",
       "  1575.49,1317.51 1590.73,1319.99 1606.01,1322.38 1621.31,1324.7 1636.63,1326.96 1651.98,1329.17 1667.34,1331.33 1682.71,1333.47 1698.08,1335.58 1713.46,1337.68 \n",
       "  \n",
       "  \"/>\n",
       "<polyline clip-path=\"url(#clip582)\" style=\"stroke:#000000; stroke-linecap:round; stroke-linejoin:round; stroke-width:4; stroke-opacity:1; fill:none\" points=\"\n",
       "  1737.68,902.461 1740.47,911.526 1743.25,920.591 1746.01,929.654 1748.74,938.715 1751.42,947.774 1754.04,956.829 1756.6,965.881 1759.09,974.929 1761.49,983.972 \n",
       "  1763.78,993.01 1765.97,1002.04 1768.04,1011.07 1769.98,1020.08 1771.77,1029.09 1773.41,1038.09 1774.89,1047.09 1776.19,1056.07 1777.3,1065.04 1778.22,1074 \n",
       "  1778.93,1082.95 1779.42,1091.89 1779.68,1100.81 1779.7,1109.72 1779.47,1118.62 1778.98,1127.5 1778.22,1136.37 1777.21,1145.22 1775.96,1154.06 1774.48,1162.89 \n",
       "  1772.78,1171.7 1770.88,1180.51 1768.77,1189.3 1766.48,1198.08 1764.02,1206.85 1761.39,1215.62 1758.61,1224.37 1755.68,1233.12 1752.63,1241.86 1749.45,1250.59 \n",
       "  1746.16,1259.32 1742.78,1268.04 1739.3,1276.75 1735.76,1285.47 1732.14,1294.17 1728.47,1302.88 1724.76,1311.58 1721.01,1320.28 1717.24,1328.98 1713.46,1337.68 \n",
       "  \n",
       "  \"/>\n",
       "<path clip-path=\"url(#clip582)\" d=\"\n",
       "M789.425 528.506 L834.59 528.506 L834.59 456.242 L789.425 456.242 L789.425 528.506 L789.425 528.506  Z\n",
       "  \" fill=\"#ffffff\" fill-rule=\"evenodd\" fill-opacity=\"1\"/>\n",
       "<polyline clip-path=\"url(#clip582)\" style=\"stroke:#000000; stroke-linecap:round; stroke-linejoin:round; stroke-width:0; stroke-opacity:0; fill:none\" points=\"\n",
       "  789.425,528.506 834.59,528.506 834.59,456.242 789.425,456.242 789.425,528.506 \n",
       "  \"/>\n",
       "<path clip-path=\"url(#clip582)\" d=\"\n",
       "M1057.91 904.235 L1103.08 904.235 L1103.08 831.971 L1057.91 831.971 L1057.91 904.235 L1057.91 904.235  Z\n",
       "  \" fill=\"#ffffff\" fill-rule=\"evenodd\" fill-opacity=\"1\"/>\n",
       "<polyline clip-path=\"url(#clip582)\" style=\"stroke:#000000; stroke-linecap:round; stroke-linejoin:round; stroke-width:0; stroke-opacity:0; fill:none\" points=\"\n",
       "  1057.91,904.235 1103.08,904.235 1103.08,831.971 1057.91,831.971 1057.91,904.235 \n",
       "  \"/>\n",
       "<path clip-path=\"url(#clip582)\" d=\"\n",
       "M1347.12 861.502 L1392.29 861.502 L1392.29 789.237 L1347.12 789.237 L1347.12 861.502 L1347.12 861.502  Z\n",
       "  \" fill=\"#ffffff\" fill-rule=\"evenodd\" fill-opacity=\"1\"/>\n",
       "<polyline clip-path=\"url(#clip582)\" style=\"stroke:#000000; stroke-linecap:round; stroke-linejoin:round; stroke-width:0; stroke-opacity:0; fill:none\" points=\"\n",
       "  1347.12,861.502 1392.29,861.502 1392.29,789.237 1347.12,789.237 1347.12,861.502 \n",
       "  \"/>\n",
       "<path clip-path=\"url(#clip582)\" d=\"\n",
       "M1366.81 1081.09 L1411.97 1081.09 L1411.97 1008.83 L1366.81 1008.83 L1366.81 1081.09 L1366.81 1081.09  Z\n",
       "  \" fill=\"#ffffff\" fill-rule=\"evenodd\" fill-opacity=\"1\"/>\n",
       "<polyline clip-path=\"url(#clip582)\" style=\"stroke:#000000; stroke-linecap:round; stroke-linejoin:round; stroke-width:0; stroke-opacity:0; fill:none\" points=\"\n",
       "  1366.81,1081.09 1411.97,1081.09 1411.97,1008.83 1366.81,1008.83 1366.81,1081.09 \n",
       "  \"/>\n",
       "<path clip-path=\"url(#clip582)\" d=\"\n",
       "M1323.24 1297.06 L1368.41 1297.06 L1368.41 1224.79 L1323.24 1224.79 L1323.24 1297.06 L1323.24 1297.06  Z\n",
       "  \" fill=\"#ffffff\" fill-rule=\"evenodd\" fill-opacity=\"1\"/>\n",
       "<polyline clip-path=\"url(#clip582)\" style=\"stroke:#000000; stroke-linecap:round; stroke-linejoin:round; stroke-width:0; stroke-opacity:0; fill:none\" points=\"\n",
       "  1323.24,1297.06 1368.41,1297.06 1368.41,1224.79 1323.24,1224.79 1323.24,1297.06 \n",
       "  \"/>\n",
       "<path clip-path=\"url(#clip582)\" d=\"\n",
       "M1756.68 1159.19 L1801.84 1159.19 L1801.84 1086.93 L1756.68 1086.93 L1756.68 1159.19 L1756.68 1159.19  Z\n",
       "  \" fill=\"#ffffff\" fill-rule=\"evenodd\" fill-opacity=\"1\"/>\n",
       "<polyline clip-path=\"url(#clip582)\" style=\"stroke:#000000; stroke-linecap:round; stroke-linejoin:round; stroke-width:0; stroke-opacity:0; fill:none\" points=\"\n",
       "  1756.68,1159.19 1801.84,1159.19 1801.84,1086.93 1756.68,1086.93 1756.68,1159.19 \n",
       "  \"/>\n",
       "<path clip-path=\"url(#clip582)\" d=\"\n",
       "M689.416 262.317 L675.867 238.849 L648.768 238.849 L635.218 262.317 L648.768 285.786 L675.867 285.786 L689.416 262.317 L689.416 262.317  Z\n",
       "  \" fill=\"#009af9\" fill-rule=\"evenodd\" fill-opacity=\"1\"/>\n",
       "<polyline clip-path=\"url(#clip582)\" style=\"stroke:#000000; stroke-linecap:round; stroke-linejoin:round; stroke-width:4; stroke-opacity:1; fill:none\" points=\"\n",
       "  689.416,262.317 675.867,238.849 648.768,238.849 635.218,262.317 648.768,285.786 675.867,285.786 689.416,262.317 \n",
       "  \"/>\n",
       "<path clip-path=\"url(#clip582)\" d=\"\n",
       "M1065.7 647.262 L1052.15 623.793 L1025.05 623.793 L1011.5 647.262 L1025.05 670.73 L1052.15 670.73 L1065.7 647.262 L1065.7 647.262  Z\n",
       "  \" fill=\"#009af9\" fill-rule=\"evenodd\" fill-opacity=\"1\"/>\n",
       "<polyline clip-path=\"url(#clip582)\" style=\"stroke:#000000; stroke-linecap:round; stroke-linejoin:round; stroke-width:4; stroke-opacity:1; fill:none\" points=\"\n",
       "  1065.7,647.262 1052.15,623.793 1025.05,623.793 1011.5,647.262 1025.05,670.73 1052.15,670.73 1065.7,647.262 \n",
       "  \"/>\n",
       "<path clip-path=\"url(#clip582)\" d=\"\n",
       "M1042.11 1083.13 L1028.56 1059.67 L1001.46 1059.67 L987.915 1083.13 L1001.46 1106.6 L1028.56 1106.6 L1042.11 1083.13 L1042.11 1083.13  Z\n",
       "  \" fill=\"#009af9\" fill-rule=\"evenodd\" fill-opacity=\"1\"/>\n",
       "<polyline clip-path=\"url(#clip582)\" style=\"stroke:#000000; stroke-linecap:round; stroke-linejoin:round; stroke-width:4; stroke-opacity:1; fill:none\" points=\"\n",
       "  1042.11,1083.13 1028.56,1059.67 1001.46,1059.67 987.915,1083.13 1001.46,1106.6 1028.56,1106.6 1042.11,1083.13 \n",
       "  \"/>\n",
       "<path clip-path=\"url(#clip582)\" d=\"\n",
       "M1764.78 902.461 L1751.23 878.993 L1724.13 878.993 L1710.58 902.461 L1724.13 925.93 L1751.23 925.93 L1764.78 902.461 L1764.78 902.461  Z\n",
       "  \" fill=\"#009af9\" fill-rule=\"evenodd\" fill-opacity=\"1\"/>\n",
       "<polyline clip-path=\"url(#clip582)\" style=\"stroke:#000000; stroke-linecap:round; stroke-linejoin:round; stroke-width:4; stroke-opacity:1; fill:none\" points=\"\n",
       "  1764.78,902.461 1751.23,878.993 1724.13,878.993 1710.58,902.461 1724.13,925.93 1751.23,925.93 1764.78,902.461 \n",
       "  \"/>\n",
       "<path clip-path=\"url(#clip582)\" d=\"\n",
       "M1740.56 1337.68 L1727.01 1314.21 L1699.91 1314.21 L1686.36 1337.68 L1699.91 1361.15 L1727.01 1361.15 L1740.56 1337.68 L1740.56 1337.68  Z\n",
       "  \" fill=\"#009af9\" fill-rule=\"evenodd\" fill-opacity=\"1\"/>\n",
       "<polyline clip-path=\"url(#clip582)\" style=\"stroke:#000000; stroke-linecap:round; stroke-linejoin:round; stroke-width:4; stroke-opacity:1; fill:none\" points=\"\n",
       "  1740.56,1337.68 1727.01,1314.21 1699.91,1314.21 1686.36,1337.68 1699.91,1361.15 1727.01,1361.15 1740.56,1337.68 \n",
       "  \"/>\n",
       "<path clip-path=\"url(#clip582)\" d=\"M662.317 262.717 L661.971 262.517 L661.971 262.117 L662.317 261.917 L662.664 262.117 L662.664 262.517 Z\" fill=\"#009af9\" fill-rule=\"evenodd\" fill-opacity=\"1\" stroke=\"#000000\" stroke-opacity=\"1\" stroke-width=\"3.2\"/>\n",
       "<path clip-path=\"url(#clip582)\" d=\"M1038.6 647.662 L1038.25 647.462 L1038.25 647.062 L1038.6 646.862 L1038.94 647.062 L1038.94 647.462 Z\" fill=\"#009af9\" fill-rule=\"evenodd\" fill-opacity=\"1\" stroke=\"#000000\" stroke-opacity=\"1\" stroke-width=\"3.2\"/>\n",
       "<path clip-path=\"url(#clip582)\" d=\"M1015.01 1083.53 L1014.67 1083.33 L1014.67 1082.93 L1015.01 1082.73 L1015.36 1082.93 L1015.36 1083.33 Z\" fill=\"#009af9\" fill-rule=\"evenodd\" fill-opacity=\"1\" stroke=\"#000000\" stroke-opacity=\"1\" stroke-width=\"3.2\"/>\n",
       "<path clip-path=\"url(#clip582)\" d=\"M1737.68 902.861 L1737.34 902.661 L1737.34 902.261 L1737.68 902.061 L1738.03 902.261 L1738.03 902.661 Z\" fill=\"#009af9\" fill-rule=\"evenodd\" fill-opacity=\"1\" stroke=\"#000000\" stroke-opacity=\"1\" stroke-width=\"3.2\"/>\n",
       "<path clip-path=\"url(#clip582)\" d=\"M1713.46 1338.08 L1713.12 1337.88 L1713.12 1337.48 L1713.46 1337.28 L1713.81 1337.48 L1713.81 1337.88 Z\" fill=\"#009af9\" fill-rule=\"evenodd\" fill-opacity=\"1\" stroke=\"#000000\" stroke-opacity=\"1\" stroke-width=\"3.2\"/>\n",
       "<path clip-path=\"url(#clip580)\" d=\"M803.592 504.051 L810.276 504.051 L810.276 480.981 L803.005 482.439 L803.005 478.713 L810.235 477.254 L814.327 477.254 L814.327 504.051 L821.011 504.051 L821.011 507.494 L803.592 507.494 L803.592 504.051 Z\" fill=\"#000000\" fill-rule=\"evenodd\" fill-opacity=\"1\" /><path clip-path=\"url(#clip580)\" d=\"M1084.21 866.918 Q1087.15 867.546 1088.79 869.531 Q1090.45 871.516 1090.45 874.432 Q1090.45 878.909 1087.37 881.359 Q1084.29 883.81 1078.62 883.81 Q1076.72 883.81 1074.69 883.425 Q1072.69 883.061 1070.54 882.311 L1070.54 878.362 Q1072.24 879.354 1074.27 879.861 Q1076.29 880.367 1078.5 880.367 Q1082.35 880.367 1084.35 878.848 Q1086.38 877.329 1086.38 874.432 Q1086.38 871.759 1084.5 870.26 Q1082.63 868.741 1079.29 868.741 L1075.77 868.741 L1075.77 865.379 L1079.45 865.379 Q1082.47 865.379 1084.07 864.184 Q1085.67 862.968 1085.67 860.7 Q1085.67 858.371 1084.01 857.135 Q1082.37 855.879 1079.29 855.879 Q1077.61 855.879 1075.69 856.244 Q1073.76 856.608 1071.45 857.378 L1071.45 853.732 Q1073.78 853.084 1075.81 852.76 Q1077.85 852.436 1079.66 852.436 Q1084.31 852.436 1087.03 854.563 Q1089.74 856.669 1089.74 860.274 Q1089.74 862.786 1088.3 864.528 Q1086.87 866.25 1084.21 866.918 Z\" fill=\"#000000\" fill-rule=\"evenodd\" fill-opacity=\"1\" /><path clip-path=\"url(#clip580)\" d=\"M1361.29 837.046 L1367.97 837.046 L1367.97 813.976 L1360.7 815.435 L1360.7 811.708 L1367.93 810.25 L1372.02 810.25 L1372.02 837.046 L1378.71 837.046 L1378.71 840.49 L1361.29 840.49 L1361.29 837.046 Z\" fill=\"#000000\" fill-rule=\"evenodd\" fill-opacity=\"1\" /><path clip-path=\"url(#clip580)\" d=\"M1380.97 1056.64 L1387.66 1056.64 L1387.66 1033.57 L1380.39 1035.03 L1380.39 1031.3 L1387.62 1029.84 L1391.71 1029.84 L1391.71 1056.64 L1398.39 1056.64 L1398.39 1060.08 L1380.97 1060.08 L1380.97 1056.64 Z\" fill=\"#000000\" fill-rule=\"evenodd\" fill-opacity=\"1\" /><path clip-path=\"url(#clip580)\" d=\"M1341.15 1272.6 L1355.43 1272.6 L1355.43 1276.05 L1336.23 1276.05 L1336.23 1272.6 Q1338.56 1270.19 1342.57 1266.14 Q1346.6 1262.07 1347.63 1260.9 Q1349.59 1258.69 1350.36 1257.17 Q1351.15 1255.63 1351.15 1254.15 Q1351.15 1251.74 1349.45 1250.22 Q1347.77 1248.7 1345.06 1248.7 Q1343.13 1248.7 1340.99 1249.37 Q1338.86 1250.04 1336.43 1251.4 L1336.43 1247.26 Q1338.9 1246.27 1341.05 1245.77 Q1343.19 1245.26 1344.98 1245.26 Q1349.68 1245.26 1352.47 1247.61 Q1355.27 1249.96 1355.27 1253.89 Q1355.27 1255.75 1354.56 1257.43 Q1353.87 1259.09 1352.03 1261.36 Q1351.52 1261.95 1348.8 1264.76 Q1346.09 1267.56 1341.15 1272.6 Z\" fill=\"#000000\" fill-rule=\"evenodd\" fill-opacity=\"1\" /><path clip-path=\"url(#clip580)\" d=\"M1770.75 1107.94 L1786.81 1107.94 L1786.81 1111.38 L1774.5 1111.38 L1774.5 1118.8 Q1775.39 1118.49 1776.28 1118.35 Q1777.17 1118.19 1778.06 1118.19 Q1783.13 1118.19 1786.08 1120.96 Q1789.04 1123.74 1789.04 1128.48 Q1789.04 1133.36 1786 1136.07 Q1782.96 1138.77 1777.44 1138.77 Q1775.53 1138.77 1773.55 1138.44 Q1771.58 1138.12 1769.48 1137.47 L1769.48 1133.36 Q1771.3 1134.35 1773.24 1134.84 Q1775.19 1135.32 1777.35 1135.32 Q1780.86 1135.32 1782.9 1133.48 Q1784.95 1131.64 1784.95 1128.48 Q1784.95 1125.32 1782.9 1123.47 Q1780.86 1121.63 1777.35 1121.63 Q1775.71 1121.63 1774.07 1122 Q1772.45 1122.36 1770.75 1123.13 L1770.75 1107.94 Z\" fill=\"#000000\" fill-rule=\"evenodd\" fill-opacity=\"1\" /><path clip-path=\"url(#clip580)\" d=\"M662.317 251.228 L656.767 266.277 L667.887 266.277 L662.317 251.228 M660.008 247.197 L664.646 247.197 L676.171 277.437 L671.918 277.437 L669.163 269.68 L655.532 269.68 L652.777 277.437 L648.463 277.437 L660.008 247.197 Z\" fill=\"#000000\" fill-rule=\"evenodd\" fill-opacity=\"1\" /><path clip-path=\"url(#clip580)\" d=\"M1031.97 647.94 L1031.97 659.019 L1038.53 659.019 Q1041.83 659.019 1043.41 657.662 Q1045.01 656.285 1045.01 653.47 Q1045.01 650.634 1043.41 649.297 Q1041.83 647.94 1038.53 647.94 L1031.97 647.94 M1031.97 635.504 L1031.97 644.618 L1038.02 644.618 Q1041.02 644.618 1042.48 643.504 Q1043.96 642.37 1043.96 640.061 Q1043.96 637.772 1042.48 636.638 Q1041.02 635.504 1038.02 635.504 L1031.97 635.504 M1027.87 632.142 L1038.32 632.142 Q1043 632.142 1045.54 634.086 Q1048.07 636.03 1048.07 639.616 Q1048.07 642.39 1046.77 644.031 Q1045.47 645.672 1042.96 646.077 Q1045.98 646.725 1047.64 648.791 Q1049.32 650.837 1049.32 653.915 Q1049.32 657.966 1046.57 660.174 Q1043.81 662.382 1038.73 662.382 L1027.87 662.382 L1027.87 632.142 Z\" fill=\"#000000\" fill-rule=\"evenodd\" fill-opacity=\"1\" /><path clip-path=\"url(#clip580)\" d=\"M1027.21 1070.34 L1027.21 1074.66 Q1025.14 1072.73 1022.79 1071.78 Q1020.46 1070.83 1017.83 1070.83 Q1012.64 1070.83 1009.89 1074.01 Q1007.13 1077.17 1007.13 1083.16 Q1007.13 1089.14 1009.89 1092.32 Q1012.64 1095.48 1017.83 1095.48 Q1020.46 1095.48 1022.79 1094.53 Q1025.14 1093.58 1027.21 1091.65 L1027.21 1095.92 Q1025.06 1097.38 1022.65 1098.11 Q1020.26 1098.84 1017.59 1098.84 Q1010.72 1098.84 1006.77 1094.65 Q1002.82 1090.44 1002.82 1083.16 Q1002.82 1075.87 1006.77 1071.68 Q1010.72 1067.47 1017.59 1067.47 Q1020.3 1067.47 1022.69 1068.2 Q1025.1 1068.91 1027.21 1070.34 Z\" fill=\"#000000\" fill-rule=\"evenodd\" fill-opacity=\"1\" /><path clip-path=\"url(#clip580)\" d=\"M1729.06 890.704 L1729.06 914.219 L1734.01 914.219 Q1740.27 914.219 1743.16 911.383 Q1746.08 908.548 1746.08 902.431 Q1746.08 896.355 1743.16 893.539 Q1740.27 890.704 1734.01 890.704 L1729.06 890.704 M1724.97 887.341 L1733.38 887.341 Q1742.17 887.341 1746.28 891.007 Q1750.39 894.653 1750.39 902.431 Q1750.39 910.249 1746.26 913.915 Q1742.13 917.581 1733.38 917.581 L1724.97 917.581 L1724.97 887.341 Z\" fill=\"#000000\" fill-rule=\"evenodd\" fill-opacity=\"1\" /><path clip-path=\"url(#clip580)\" d=\"M1703.72 1322.56 L1722.84 1322.56 L1722.84 1326.01 L1707.81 1326.01 L1707.81 1334.96 L1722.21 1334.96 L1722.21 1338.4 L1707.81 1338.4 L1707.81 1349.36 L1723.21 1349.36 L1723.21 1352.8 L1703.72 1352.8 L1703.72 1322.56 Z\" fill=\"#000000\" fill-rule=\"evenodd\" fill-opacity=\"1\" /></svg>\n"
      ]
     },
     "execution_count": 78,
     "metadata": {},
     "output_type": "execute_result"
    }
   ],
   "source": [
    "graphplot(g2, names=[\"A\",\"B\",\"C\",\"D\",\"E\"], edgelabel=weights2)"
   ]
  },
  {
   "cell_type": "markdown",
   "id": "4bc82596-30fd-4ad4-b265-ba77f01d4589",
   "metadata": {},
   "source": [
    "The function below to find the shortest path needs the weights to be stored as a matrix.  We can pull the information out of Dictionary as:"
   ]
  },
  {
   "cell_type": "code",
   "execution_count": 81,
   "id": "54361fff-63f8-44db-96bf-3a0c29e1dd06",
   "metadata": {},
   "outputs": [
    {
     "data": {
      "text/plain": [
       "5×5 Matrix{Int64}:\n",
       " 0  1  0  0  0\n",
       " 1  0  3  1  0\n",
       " 0  3  0  1  2\n",
       " 0  1  1  0  5\n",
       " 0  0  2  5  0"
      ]
     },
     "execution_count": 81,
     "metadata": {},
     "output_type": "execute_result"
    }
   ],
   "source": [
    "w = zeros(Int,5,5)\n",
    "for i=1:5\n",
    "  for j=1:5\n",
    "    if haskey(weights2,(i,j))\n",
    "      w[i,j] = weights2[(i,j)]\n",
    "      w[j,i] = weights2[(i,j)]\n",
    "    end\n",
    "  end\n",
    "end\n",
    "w"
   ]
  },
  {
   "cell_type": "markdown",
   "id": "c8ea5e5a-3a41-4ff9-b52c-2dff1d35954c",
   "metadata": {},
   "source": [
    "As an example, let's find the shortest path from vertex A to D"
   ]
  },
  {
   "cell_type": "code",
   "execution_count": 82,
   "id": "83aee56f-ccb9-4635-b31b-5950310bb902",
   "metadata": {},
   "outputs": [
    {
     "data": {
      "text/plain": [
       "2-element Vector{Graphs.SimpleGraphs.SimpleEdge{Int64}}:\n",
       " Edge 1 => 2\n",
       " Edge 2 => 4"
      ]
     },
     "execution_count": 82,
     "metadata": {},
     "output_type": "execute_result"
    }
   ],
   "source": [
    "short_path = a_star(g2,1,4,w)"
   ]
  },
  {
   "cell_type": "markdown",
   "id": "4f33dbe5-f3f8-4d3a-899c-dc13ade41a1c",
   "metadata": {},
   "source": [
    "This shows that path is 1 => 2 => 4 or A, B, D.  You'll need to pull these values out programmatically. You can do this with the .dst and .src fields"
   ]
  },
  {
   "cell_type": "code",
   "execution_count": 93,
   "id": "cadf62d3-8ac8-48c8-9ac0-e16ca4f483e4",
   "metadata": {},
   "outputs": [
    {
     "data": {
      "text/plain": [
       "(1, 2)"
      ]
     },
     "execution_count": 93,
     "metadata": {},
     "output_type": "execute_result"
    }
   ],
   "source": [
    "short_path[1].src,short_path[1].dst"
   ]
  },
  {
   "cell_type": "code",
   "execution_count": 94,
   "id": "3d75e802-1e2b-4ec4-bf72-c76b1fac346e",
   "metadata": {},
   "outputs": [
    {
     "data": {
      "text/plain": [
       "(2, 4)"
      ]
     },
     "execution_count": 94,
     "metadata": {},
     "output_type": "execute_result"
    }
   ],
   "source": [
    "short_path[2].src,short_path[2].dst"
   ]
  },
  {
   "cell_type": "markdown",
   "id": "fde20a9f-a779-443d-8173-dc01075f60dd",
   "metadata": {},
   "source": [
    "Here's the shortest path from vertex A to E:"
   ]
  },
  {
   "cell_type": "code",
   "execution_count": 97,
   "id": "c83c2a23-7cbd-4c84-ae58-b439e5ca05c5",
   "metadata": {},
   "outputs": [
    {
     "data": {
      "text/plain": [
       "4-element Vector{Graphs.SimpleGraphs.SimpleEdge{Int64}}:\n",
       " Edge 1 => 2\n",
       " Edge 2 => 4\n",
       " Edge 4 => 3\n",
       " Edge 3 => 5"
      ]
     },
     "execution_count": 97,
     "metadata": {},
     "output_type": "execute_result"
    }
   ],
   "source": [
    "short_path2 = a_star(g2,1,5, w)"
   ]
  },
  {
   "cell_type": "code",
   "execution_count": null,
   "id": "24a68194-52ff-4823-aa0b-cd16e678aa71",
   "metadata": {},
   "outputs": [],
   "source": []
  }
 ],
 "metadata": {
  "kernelspec": {
   "display_name": "Julia 1.8.3",
   "language": "julia",
   "name": "julia-1.8"
  },
  "language_info": {
   "file_extension": ".jl",
   "mimetype": "application/julia",
   "name": "julia",
   "version": "1.8.3"
  }
 },
 "nbformat": 4,
 "nbformat_minor": 5
}
