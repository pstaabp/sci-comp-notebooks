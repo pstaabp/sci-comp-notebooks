{
 "cells": [
  {
   "cell_type": "markdown",
   "id": "449d29ac-2cd4-45b3-b571-cd6c2e4e821c",
   "metadata": {},
   "source": [
    "### More about graphs"
   ]
  },
  {
   "cell_type": "code",
   "execution_count": 144,
   "id": "9c1b9882-0ffd-40ff-9ee5-01dfa0163069",
   "metadata": {},
   "outputs": [],
   "source": [
    "using Graphs, Plots, GraphRecipes"
   ]
  },
  {
   "cell_type": "markdown",
   "id": "1e7edf2a-9c5e-4779-b161-fef1bfa78492",
   "metadata": {},
   "source": [
    "There are two things to look at here: \n",
    "1. a shortest path through a complete graph.  This is known as the Travelling Salesperson problem\n",
    "2. A shortest path between two vertices in a graph. This is known as the Shortest Path problem. "
   ]
  },
  {
   "cell_type": "markdown",
   "id": "ce8ba261-684e-4e32-b598-0a9c363f854c",
   "metadata": {},
   "source": [
    "#### Traveling Salesperson Problem"
   ]
  },
  {
   "cell_type": "markdown",
   "id": "13bf48e1-825d-4ff0-b641-2de0015d45d5",
   "metadata": {},
   "source": [
    "Consider a complete graph. We'll use one with 5 vertices as an example:"
   ]
  },
  {
   "cell_type": "code",
   "execution_count": 145,
   "id": "a94f416a-e796-4a92-89e4-c4d3d077631e",
   "metadata": {},
   "outputs": [
    {
     "data": {
      "text/plain": [
       "{5, 10} undirected simple Int64 graph"
      ]
     },
     "execution_count": 145,
     "metadata": {},
     "output_type": "execute_result"
    }
   ],
   "source": [
    "g = complete_graph(5)"
   ]
  },
  {
   "cell_type": "code",
   "execution_count": 146,
   "id": "ac8dff93-3901-4421-81aa-f75b6c91035d",
   "metadata": {},
   "outputs": [
    {
     "data": {
      "text/plain": [
       "Dict{Tuple{Int64, Int64}, Int64} with 10 entries:\n",
       "  (2, 4) => 7\n",
       "  (1, 2) => 5\n",
       "  (4, 5) => 8\n",
       "  (2, 5) => 3\n",
       "  (1, 3) => 7\n",
       "  (3, 4) => 8\n",
       "  (1, 4) => 3\n",
       "  (2, 3) => 6\n",
       "  (1, 5) => 10\n",
       "  (3, 5) => 5"
      ]
     },
     "execution_count": 146,
     "metadata": {},
     "output_type": "execute_result"
    }
   ],
   "source": [
    "g_weights = Dict(\n",
    "  (1,2) => 5,\n",
    "  (1,3) => 7,\n",
    "  (1,4) => 3,\n",
    "  (1,5) => 10,\n",
    "  (2,3) => 6,\n",
    "  (2,4) => 7,\n",
    "  (2,5) => 3,\n",
    "  (3,4) => 8,\n",
    "  (3,5) => 5,\n",
    "  (4,5) => 8,\n",
    ")"
   ]
  },
  {
   "cell_type": "code",
   "execution_count": 148,
   "id": "82ff01d3-ada9-4231-b645-f2364515383a",
   "metadata": {},
   "outputs": [
    {
     "data": {
      "image/svg+xml": [
       "<?xml version=\"1.0\" encoding=\"utf-8\"?>\n",
       "<svg xmlns=\"http://www.w3.org/2000/svg\" xmlns:xlink=\"http://www.w3.org/1999/xlink\" width=\"600\" height=\"400\" viewBox=\"0 0 2400 1600\">\n",
       "<defs>\n",
       "  <clipPath id=\"clip970\">\n",
       "    <rect x=\"0\" y=\"0\" width=\"2400\" height=\"1600\"/>\n",
       "  </clipPath>\n",
       "</defs>\n",
       "<path clip-path=\"url(#clip970)\" d=\"\n",
       "M0 1600 L2400 1600 L2400 0 L0 0  Z\n",
       "  \" fill=\"#ffffff\" fill-rule=\"evenodd\" fill-opacity=\"1\"/>\n",
       "<defs>\n",
       "  <clipPath id=\"clip971\">\n",
       "    <rect x=\"480\" y=\"0\" width=\"1681\" height=\"1600\"/>\n",
       "  </clipPath>\n",
       "</defs>\n",
       "<path clip-path=\"url(#clip970)\" d=\"\n",
       "M447.244 1552.76 L1952.76 1552.76 L1952.76 47.2441 L447.244 47.2441  Z\n",
       "  \" fill=\"#ffffff\" fill-rule=\"evenodd\" fill-opacity=\"1\"/>\n",
       "<defs>\n",
       "  <clipPath id=\"clip972\">\n",
       "    <rect x=\"447\" y=\"47\" width=\"1507\" height=\"1507\"/>\n",
       "  </clipPath>\n",
       "</defs>\n",
       "<polyline clip-path=\"url(#clip972)\" style=\"stroke:#000000; stroke-linecap:round; stroke-linejoin:round; stroke-width:4; stroke-opacity:1; fill:none\" points=\"\n",
       "  1325.23,1337.68 1737.68,801.538 \n",
       "  \"/>\n",
       "<polyline clip-path=\"url(#clip972)\" style=\"stroke:#000000; stroke-linecap:round; stroke-linejoin:round; stroke-width:4; stroke-opacity:1; fill:none\" points=\"\n",
       "  1325.23,1337.68 665.064,465.208 \n",
       "  \"/>\n",
       "<polyline clip-path=\"url(#clip972)\" style=\"stroke:#000000; stroke-linecap:round; stroke-linejoin:round; stroke-width:4; stroke-opacity:1; fill:none\" points=\"\n",
       "  1325.23,1337.68 1329.67,262.317 \n",
       "  \"/>\n",
       "<polyline clip-path=\"url(#clip972)\" style=\"stroke:#000000; stroke-linecap:round; stroke-linejoin:round; stroke-width:4; stroke-opacity:1; fill:none\" points=\"\n",
       "  1325.23,1337.68 662.317,1129.83 \n",
       "  \"/>\n",
       "<polyline clip-path=\"url(#clip972)\" style=\"stroke:#000000; stroke-linecap:round; stroke-linejoin:round; stroke-width:4; stroke-opacity:1; fill:none\" points=\"\n",
       "  1737.68,801.538 665.064,465.208 \n",
       "  \"/>\n",
       "<polyline clip-path=\"url(#clip972)\" style=\"stroke:#000000; stroke-linecap:round; stroke-linejoin:round; stroke-width:4; stroke-opacity:1; fill:none\" points=\"\n",
       "  1737.68,801.538 1329.67,262.317 \n",
       "  \"/>\n",
       "<polyline clip-path=\"url(#clip972)\" style=\"stroke:#000000; stroke-linecap:round; stroke-linejoin:round; stroke-width:4; stroke-opacity:1; fill:none\" points=\"\n",
       "  1737.68,801.538 662.317,1129.83 \n",
       "  \"/>\n",
       "<polyline clip-path=\"url(#clip972)\" style=\"stroke:#000000; stroke-linecap:round; stroke-linejoin:round; stroke-width:4; stroke-opacity:1; fill:none\" points=\"\n",
       "  665.064,465.208 1329.67,262.317 \n",
       "  \"/>\n",
       "<polyline clip-path=\"url(#clip972)\" style=\"stroke:#000000; stroke-linecap:round; stroke-linejoin:round; stroke-width:4; stroke-opacity:1; fill:none\" points=\"\n",
       "  665.064,465.208 662.317,1129.83 \n",
       "  \"/>\n",
       "<polyline clip-path=\"url(#clip972)\" style=\"stroke:#000000; stroke-linecap:round; stroke-linejoin:round; stroke-width:4; stroke-opacity:1; fill:none\" points=\"\n",
       "  1329.67,262.317 662.317,1129.83 \n",
       "  \"/>\n",
       "<path clip-path=\"url(#clip972)\" d=\"\n",
       "M1508.87 1105.74 L1554.04 1105.74 L1554.04 1033.48 L1508.87 1033.48 L1508.87 1105.74 L1508.87 1105.74  Z\n",
       "  \" fill=\"#ffffff\" fill-rule=\"evenodd\" fill-opacity=\"1\"/>\n",
       "<polyline clip-path=\"url(#clip972)\" style=\"stroke:#000000; stroke-linecap:round; stroke-linejoin:round; stroke-width:0; stroke-opacity:0; fill:none\" points=\"\n",
       "  1508.87,1105.74 1554.04,1105.74 1554.04,1033.48 1508.87,1033.48 1508.87,1105.74 \n",
       "  \"/>\n",
       "<path clip-path=\"url(#clip972)\" d=\"\n",
       "M972.563 937.578 L1017.73 937.578 L1017.73 865.313 L972.563 865.313 L972.563 937.578 L972.563 937.578  Z\n",
       "  \" fill=\"#ffffff\" fill-rule=\"evenodd\" fill-opacity=\"1\"/>\n",
       "<polyline clip-path=\"url(#clip972)\" style=\"stroke:#000000; stroke-linecap:round; stroke-linejoin:round; stroke-width:0; stroke-opacity:0; fill:none\" points=\"\n",
       "  972.563,937.578 1017.73,937.578 1017.73,865.313 972.563,865.313 972.563,937.578 \n",
       "  \"/>\n",
       "<path clip-path=\"url(#clip972)\" d=\"\n",
       "M1304.86 836.132 L1350.03 836.132 L1350.03 763.868 L1304.86 763.868 L1304.86 836.132 L1304.86 836.132  Z\n",
       "  \" fill=\"#ffffff\" fill-rule=\"evenodd\" fill-opacity=\"1\"/>\n",
       "<polyline clip-path=\"url(#clip972)\" style=\"stroke:#000000; stroke-linecap:round; stroke-linejoin:round; stroke-width:0; stroke-opacity:0; fill:none\" points=\"\n",
       "  1304.86,836.132 1350.03,836.132 1350.03,763.868 1304.86,763.868 1304.86,836.132 \n",
       "  \"/>\n",
       "<path clip-path=\"url(#clip972)\" d=\"\n",
       "M954.454 1269.89 L1033.09 1269.89 L1033.09 1197.62 L954.454 1197.62 L954.454 1269.89 L954.454 1269.89  Z\n",
       "  \" fill=\"#ffffff\" fill-rule=\"evenodd\" fill-opacity=\"1\"/>\n",
       "<polyline clip-path=\"url(#clip972)\" style=\"stroke:#000000; stroke-linecap:round; stroke-linejoin:round; stroke-width:0; stroke-opacity:0; fill:none\" points=\"\n",
       "  954.454,1269.89 1033.09,1269.89 1033.09,1197.62 954.454,1197.62 954.454,1269.89 \n",
       "  \"/>\n",
       "<path clip-path=\"url(#clip972)\" d=\"\n",
       "M1178.79 669.505 L1223.96 669.505 L1223.96 597.241 L1178.79 597.241 L1178.79 669.505 L1178.79 669.505  Z\n",
       "  \" fill=\"#ffffff\" fill-rule=\"evenodd\" fill-opacity=\"1\"/>\n",
       "<polyline clip-path=\"url(#clip972)\" style=\"stroke:#000000; stroke-linecap:round; stroke-linejoin:round; stroke-width:0; stroke-opacity:0; fill:none\" points=\"\n",
       "  1178.79,669.505 1223.96,669.505 1223.96,597.241 1178.79,597.241 1178.79,669.505 \n",
       "  \"/>\n",
       "<path clip-path=\"url(#clip972)\" d=\"\n",
       "M1511.09 568.06 L1556.26 568.06 L1556.26 495.795 L1511.09 495.795 L1511.09 568.06 L1511.09 568.06  Z\n",
       "  \" fill=\"#ffffff\" fill-rule=\"evenodd\" fill-opacity=\"1\"/>\n",
       "<polyline clip-path=\"url(#clip972)\" style=\"stroke:#000000; stroke-linecap:round; stroke-linejoin:round; stroke-width:0; stroke-opacity:0; fill:none\" points=\"\n",
       "  1511.09,568.06 1556.26,568.06 1556.26,495.795 1511.09,495.795 1511.09,568.06 \n",
       "  \"/>\n",
       "<path clip-path=\"url(#clip972)\" d=\"\n",
       "M1177.42 1001.82 L1222.58 1001.82 L1222.58 929.551 L1177.42 929.551 L1177.42 1001.82 L1177.42 1001.82  Z\n",
       "  \" fill=\"#ffffff\" fill-rule=\"evenodd\" fill-opacity=\"1\"/>\n",
       "<polyline clip-path=\"url(#clip972)\" style=\"stroke:#000000; stroke-linecap:round; stroke-linejoin:round; stroke-width:0; stroke-opacity:0; fill:none\" points=\"\n",
       "  1177.42,1001.82 1222.58,1001.82 1222.58,929.551 1177.42,929.551 1177.42,1001.82 \n",
       "  \"/>\n",
       "<path clip-path=\"url(#clip972)\" d=\"\n",
       "M974.783 399.895 L1019.95 399.895 L1019.95 327.63 L974.783 327.63 L974.783 399.895 L974.783 399.895  Z\n",
       "  \" fill=\"#ffffff\" fill-rule=\"evenodd\" fill-opacity=\"1\"/>\n",
       "<polyline clip-path=\"url(#clip972)\" style=\"stroke:#000000; stroke-linecap:round; stroke-linejoin:round; stroke-width:0; stroke-opacity:0; fill:none\" points=\"\n",
       "  974.783,399.895 1019.95,399.895 1019.95,327.63 974.783,327.63 974.783,399.895 \n",
       "  \"/>\n",
       "<path clip-path=\"url(#clip972)\" d=\"\n",
       "M641.108 833.65 L686.273 833.65 L686.273 761.386 L641.108 761.386 L641.108 833.65 L641.108 833.65  Z\n",
       "  \" fill=\"#ffffff\" fill-rule=\"evenodd\" fill-opacity=\"1\"/>\n",
       "<polyline clip-path=\"url(#clip972)\" style=\"stroke:#000000; stroke-linecap:round; stroke-linejoin:round; stroke-width:0; stroke-opacity:0; fill:none\" points=\"\n",
       "  641.108,833.65 686.273,833.65 686.273,761.386 641.108,761.386 641.108,833.65 \n",
       "  \"/>\n",
       "<path clip-path=\"url(#clip972)\" d=\"\n",
       "M1352.33 1337.68 L1338.78 1314.21 L1311.68 1314.21 L1298.13 1337.68 L1311.68 1361.15 L1338.78 1361.15 L1352.33 1337.68 L1352.33 1337.68  Z\n",
       "  \" fill=\"#009af9\" fill-rule=\"evenodd\" fill-opacity=\"1\"/>\n",
       "<polyline clip-path=\"url(#clip972)\" style=\"stroke:#000000; stroke-linecap:round; stroke-linejoin:round; stroke-width:4; stroke-opacity:1; fill:none\" points=\"\n",
       "  1352.33,1337.68 1338.78,1314.21 1311.68,1314.21 1298.13,1337.68 1311.68,1361.15 1338.78,1361.15 1352.33,1337.68 \n",
       "  \"/>\n",
       "<path clip-path=\"url(#clip972)\" d=\"\n",
       "M1764.78 801.538 L1751.23 778.07 L1724.13 778.07 L1710.58 801.538 L1724.13 825.007 L1751.23 825.007 L1764.78 801.538 L1764.78 801.538  Z\n",
       "  \" fill=\"#009af9\" fill-rule=\"evenodd\" fill-opacity=\"1\"/>\n",
       "<polyline clip-path=\"url(#clip972)\" style=\"stroke:#000000; stroke-linecap:round; stroke-linejoin:round; stroke-width:4; stroke-opacity:1; fill:none\" points=\"\n",
       "  1764.78,801.538 1751.23,778.07 1724.13,778.07 1710.58,801.538 1724.13,825.007 1751.23,825.007 1764.78,801.538 \n",
       "  \"/>\n",
       "<path clip-path=\"url(#clip972)\" d=\"\n",
       "M692.164 465.208 L678.614 441.739 L651.515 441.739 L637.965 465.208 L651.515 488.676 L678.614 488.676 L692.164 465.208 L692.164 465.208  Z\n",
       "  \" fill=\"#009af9\" fill-rule=\"evenodd\" fill-opacity=\"1\"/>\n",
       "<polyline clip-path=\"url(#clip972)\" style=\"stroke:#000000; stroke-linecap:round; stroke-linejoin:round; stroke-width:4; stroke-opacity:1; fill:none\" points=\"\n",
       "  692.164,465.208 678.614,441.739 651.515,441.739 637.965,465.208 651.515,488.676 678.614,488.676 692.164,465.208 \n",
       "  \"/>\n",
       "<path clip-path=\"url(#clip972)\" d=\"\n",
       "M1356.77 262.317 L1343.22 238.849 L1316.12 238.849 L1302.57 262.317 L1316.12 285.786 L1343.22 285.786 L1356.77 262.317 L1356.77 262.317  Z\n",
       "  \" fill=\"#009af9\" fill-rule=\"evenodd\" fill-opacity=\"1\"/>\n",
       "<polyline clip-path=\"url(#clip972)\" style=\"stroke:#000000; stroke-linecap:round; stroke-linejoin:round; stroke-width:4; stroke-opacity:1; fill:none\" points=\"\n",
       "  1356.77,262.317 1343.22,238.849 1316.12,238.849 1302.57,262.317 1316.12,285.786 1343.22,285.786 1356.77,262.317 \n",
       "  \"/>\n",
       "<path clip-path=\"url(#clip972)\" d=\"\n",
       "M689.416 1129.83 L675.867 1106.36 L648.768 1106.36 L635.218 1129.83 L648.768 1153.3 L675.867 1153.3 L689.416 1129.83 L689.416 1129.83  Z\n",
       "  \" fill=\"#009af9\" fill-rule=\"evenodd\" fill-opacity=\"1\"/>\n",
       "<polyline clip-path=\"url(#clip972)\" style=\"stroke:#000000; stroke-linecap:round; stroke-linejoin:round; stroke-width:4; stroke-opacity:1; fill:none\" points=\"\n",
       "  689.416,1129.83 675.867,1106.36 648.768,1106.36 635.218,1129.83 648.768,1153.3 675.867,1153.3 689.416,1129.83 \n",
       "  \"/>\n",
       "<path clip-path=\"url(#clip972)\" d=\"M1325.23 1338.08 L1324.88 1337.88 L1324.88 1337.48 L1325.23 1337.28 L1325.57 1337.48 L1325.57 1337.88 Z\" fill=\"#009af9\" fill-rule=\"evenodd\" fill-opacity=\"1\" stroke=\"#000000\" stroke-opacity=\"1\" stroke-width=\"3.2\"/>\n",
       "<path clip-path=\"url(#clip972)\" d=\"M1737.68 801.938 L1737.34 801.738 L1737.34 801.338 L1737.68 801.138 L1738.03 801.338 L1738.03 801.738 Z\" fill=\"#009af9\" fill-rule=\"evenodd\" fill-opacity=\"1\" stroke=\"#000000\" stroke-opacity=\"1\" stroke-width=\"3.2\"/>\n",
       "<path clip-path=\"url(#clip972)\" d=\"M665.064 465.608 L664.718 465.408 L664.718 465.008 L665.064 464.808 L665.411 465.008 L665.411 465.408 Z\" fill=\"#009af9\" fill-rule=\"evenodd\" fill-opacity=\"1\" stroke=\"#000000\" stroke-opacity=\"1\" stroke-width=\"3.2\"/>\n",
       "<path clip-path=\"url(#clip972)\" d=\"M1329.67 262.717 L1329.32 262.517 L1329.32 262.117 L1329.67 261.917 L1330.01 262.117 L1330.01 262.517 Z\" fill=\"#009af9\" fill-rule=\"evenodd\" fill-opacity=\"1\" stroke=\"#000000\" stroke-opacity=\"1\" stroke-width=\"3.2\"/>\n",
       "<path clip-path=\"url(#clip972)\" d=\"M662.317 1130.23 L661.971 1130.03 L661.971 1129.63 L662.317 1129.43 L662.664 1129.63 L662.664 1130.03 Z\" fill=\"#009af9\" fill-rule=\"evenodd\" fill-opacity=\"1\" stroke=\"#000000\" stroke-opacity=\"1\" stroke-width=\"3.2\"/>\n",
       "<path clip-path=\"url(#clip970)\" d=\"M1522.95 1054.49 L1539.01 1054.49 L1539.01 1057.93 L1526.7 1057.93 L1526.7 1065.35 Q1527.59 1065.04 1528.48 1064.9 Q1529.37 1064.74 1530.26 1064.74 Q1535.32 1064.74 1538.28 1067.51 Q1541.24 1070.29 1541.24 1075.03 Q1541.24 1079.91 1538.2 1082.62 Q1535.16 1085.32 1529.63 1085.32 Q1527.73 1085.32 1525.74 1084.99 Q1523.78 1084.67 1521.67 1084.02 L1521.67 1079.91 Q1523.5 1080.9 1525.44 1081.39 Q1527.38 1081.87 1529.55 1081.87 Q1533.06 1081.87 1535.1 1080.03 Q1537.15 1078.19 1537.15 1075.03 Q1537.15 1071.87 1535.1 1070.03 Q1533.06 1068.18 1529.55 1068.18 Q1527.91 1068.18 1526.27 1068.55 Q1524.65 1068.91 1522.95 1069.68 L1522.95 1054.49 Z\" fill=\"#000000\" fill-rule=\"evenodd\" fill-opacity=\"1\" /><path clip-path=\"url(#clip970)\" d=\"M985.424 886.325 L1004.87 886.325 L1004.87 888.067 L993.89 916.565 L989.617 916.565 L999.946 889.769 L985.424 889.769 L985.424 886.325 Z\" fill=\"#000000\" fill-rule=\"evenodd\" fill-opacity=\"1\" /><path clip-path=\"url(#clip970)\" d=\"M1331.16 798.815 Q1334.1 799.443 1335.74 801.428 Q1337.4 803.413 1337.4 806.33 Q1337.4 810.806 1334.32 813.257 Q1331.25 815.707 1325.57 815.707 Q1323.67 815.707 1321.64 815.323 Q1319.64 814.958 1317.49 814.209 L1317.49 810.259 Q1319.19 811.251 1321.22 811.758 Q1323.24 812.264 1325.45 812.264 Q1329.3 812.264 1331.31 810.745 Q1333.33 809.226 1333.33 806.33 Q1333.33 803.656 1331.45 802.157 Q1329.58 800.638 1326.24 800.638 L1322.72 800.638 L1322.72 797.276 L1326.4 797.276 Q1329.42 797.276 1331.02 796.081 Q1332.62 794.865 1332.62 792.597 Q1332.62 790.268 1330.96 789.032 Q1329.32 787.776 1326.24 787.776 Q1324.56 787.776 1322.64 788.141 Q1320.71 788.506 1318.4 789.275 L1318.4 785.629 Q1320.73 784.981 1322.76 784.657 Q1324.8 784.333 1326.61 784.333 Q1331.27 784.333 1333.98 786.46 Q1336.69 788.566 1336.69 792.172 Q1336.69 794.683 1335.26 796.425 Q1333.82 798.147 1331.16 798.815 Z\" fill=\"#000000\" fill-rule=\"evenodd\" fill-opacity=\"1\" /><path clip-path=\"url(#clip970)\" d=\"M971.624 1245.43 L978.308 1245.43 L978.308 1222.36 L971.037 1223.82 L971.037 1220.09 L978.268 1218.64 L982.359 1218.64 L982.359 1245.43 L989.043 1245.43 L989.043 1248.88 L971.624 1248.88 L971.624 1245.43 Z\" fill=\"#000000\" fill-rule=\"evenodd\" fill-opacity=\"1\" /><path clip-path=\"url(#clip970)\" d=\"M1006.06 1221.33 Q1002.9 1221.33 1001.3 1224.45 Q999.717 1227.55 999.717 1233.79 Q999.717 1240 1001.3 1243.12 Q1002.9 1246.22 1006.06 1246.22 Q1009.24 1246.22 1010.82 1243.12 Q1012.42 1240 1012.42 1233.79 Q1012.42 1227.55 1010.82 1224.45 Q1009.24 1221.33 1006.06 1221.33 M1006.06 1218.09 Q1011.14 1218.09 1013.81 1222.12 Q1016.51 1226.13 1016.51 1233.79 Q1016.51 1241.42 1013.81 1245.45 Q1011.14 1249.46 1006.06 1249.46 Q1000.97 1249.46 998.279 1245.45 Q995.606 1241.42 995.606 1233.79 Q995.606 1226.13 998.279 1222.12 Q1000.97 1218.09 1006.06 1218.09 Z\" fill=\"#000000\" fill-rule=\"evenodd\" fill-opacity=\"1\" /><path clip-path=\"url(#clip970)\" d=\"M1201.73 631.743 Q1198.97 631.743 1197.35 633.626 Q1195.75 635.51 1195.75 638.791 Q1195.75 642.052 1197.35 643.956 Q1198.97 645.84 1201.73 645.84 Q1204.48 645.84 1206.08 643.956 Q1207.7 642.052 1207.7 638.791 Q1207.7 635.51 1206.08 633.626 Q1204.48 631.743 1201.73 631.743 M1209.85 618.921 L1209.85 622.648 Q1208.31 621.919 1206.73 621.534 Q1205.17 621.149 1203.63 621.149 Q1199.58 621.149 1197.43 623.884 Q1195.31 626.618 1195 632.148 Q1196.2 630.386 1198 629.454 Q1199.8 628.502 1201.97 628.502 Q1206.53 628.502 1209.16 631.277 Q1211.81 634.031 1211.81 638.791 Q1211.81 643.45 1209.06 646.265 Q1206.31 649.08 1201.73 649.08 Q1196.48 649.08 1193.71 645.07 Q1190.93 641.039 1190.93 633.403 Q1190.93 626.233 1194.34 621.98 Q1197.74 617.706 1203.47 617.706 Q1205.01 617.706 1206.57 618.01 Q1208.15 618.314 1209.85 618.921 Z\" fill=\"#000000\" fill-rule=\"evenodd\" fill-opacity=\"1\" /><path clip-path=\"url(#clip970)\" d=\"M1523.95 516.808 L1543.4 516.808 L1543.4 518.55 L1532.42 547.048 L1528.15 547.048 L1538.48 520.251 L1523.95 520.251 L1523.95 516.808 Z\" fill=\"#000000\" fill-rule=\"evenodd\" fill-opacity=\"1\" /><path clip-path=\"url(#clip970)\" d=\"M1203.72 964.498 Q1206.65 965.126 1208.29 967.111 Q1209.96 969.096 1209.96 972.013 Q1209.96 976.489 1206.88 978.94 Q1203.8 981.39 1198.13 981.39 Q1196.22 981.39 1194.2 981.006 Q1192.19 980.641 1190.04 979.892 L1190.04 975.942 Q1191.75 976.934 1193.77 977.441 Q1195.8 977.947 1198 977.947 Q1201.85 977.947 1203.86 976.428 Q1205.88 974.909 1205.88 972.013 Q1205.88 969.339 1204 967.84 Q1202.14 966.321 1198.79 966.321 L1195.27 966.321 L1195.27 962.959 L1198.96 962.959 Q1201.97 962.959 1203.57 961.764 Q1205.18 960.548 1205.18 958.28 Q1205.18 955.951 1203.51 954.715 Q1201.87 953.459 1198.79 953.459 Q1197.11 953.459 1195.19 953.824 Q1193.27 954.189 1190.96 954.958 L1190.96 951.312 Q1193.29 950.664 1195.31 950.34 Q1197.36 950.016 1199.16 950.016 Q1203.82 950.016 1206.53 952.143 Q1209.25 954.249 1209.25 957.855 Q1209.25 960.366 1207.81 962.108 Q1206.37 963.83 1203.72 964.498 Z\" fill=\"#000000\" fill-rule=\"evenodd\" fill-opacity=\"1\" /><path clip-path=\"url(#clip970)\" d=\"M997.366 364.522 Q994.449 364.522 992.768 366.082 Q991.107 367.641 991.107 370.376 Q991.107 373.11 992.768 374.67 Q994.449 376.229 997.366 376.229 Q1000.28 376.229 1001.96 374.67 Q1003.64 373.09 1003.64 370.376 Q1003.64 367.641 1001.96 366.082 Q1000.3 364.522 997.366 364.522 M993.274 362.78 Q990.641 362.132 989.163 360.329 Q987.704 358.527 987.704 355.934 Q987.704 352.309 990.277 350.202 Q992.869 348.096 997.366 348.096 Q1001.88 348.096 1004.45 350.202 Q1007.03 352.309 1007.03 355.934 Q1007.03 358.527 1005.55 360.329 Q1004.09 362.132 1001.48 362.78 Q1004.43 363.469 1006.08 365.474 Q1007.74 367.479 1007.74 370.376 Q1007.74 374.771 1005.04 377.12 Q1002.37 379.47 997.366 379.47 Q992.363 379.47 989.669 377.12 Q986.995 374.771 986.995 370.376 Q986.995 367.479 988.656 365.474 Q990.317 363.469 993.274 362.78 M991.775 356.319 Q991.775 358.669 993.234 359.985 Q994.712 361.302 997.366 361.302 Q999.999 361.302 1001.48 359.985 Q1002.98 358.669 1002.98 356.319 Q1002.98 353.969 1001.48 352.653 Q999.999 351.336 997.366 351.336 Q994.712 351.336 993.234 352.653 Q991.775 353.969 991.775 356.319 Z\" fill=\"#000000\" fill-rule=\"evenodd\" fill-opacity=\"1\" /><path clip-path=\"url(#clip970)\" d=\"M655.184 782.398 L671.246 782.398 L671.246 785.841 L658.931 785.841 L658.931 793.254 Q659.822 792.95 660.713 792.809 Q661.605 792.647 662.496 792.647 Q667.559 792.647 670.517 795.421 Q673.474 798.196 673.474 802.936 Q673.474 807.817 670.436 810.531 Q667.397 813.225 661.868 813.225 Q659.964 813.225 657.979 812.901 Q656.014 812.577 653.908 811.929 L653.908 807.817 Q655.731 808.81 657.675 809.296 Q659.62 809.782 661.787 809.782 Q665.291 809.782 667.337 807.939 Q669.382 806.096 669.382 802.936 Q669.382 799.776 667.337 797.933 Q665.291 796.09 661.787 796.09 Q660.146 796.09 658.506 796.454 Q656.885 796.819 655.184 797.589 L655.184 782.398 Z\" fill=\"#000000\" fill-rule=\"evenodd\" fill-opacity=\"1\" /><path clip-path=\"url(#clip970)\" d=\"M1325.23 1326.59 L1319.68 1341.64 L1330.8 1341.64 L1325.23 1326.59 M1322.92 1322.56 L1327.56 1322.56 L1339.08 1352.8 L1334.83 1352.8 L1332.07 1345.05 L1318.44 1345.05 L1315.69 1352.8 L1311.37 1352.8 L1322.92 1322.56 Z\" fill=\"#000000\" fill-rule=\"evenodd\" fill-opacity=\"1\" /><path clip-path=\"url(#clip970)\" d=\"M1731.05 802.217 L1731.05 813.296 L1737.61 813.296 Q1740.91 813.296 1742.49 811.939 Q1744.09 810.562 1744.09 807.746 Q1744.09 804.911 1742.49 803.574 Q1740.91 802.217 1737.61 802.217 L1731.05 802.217 M1731.05 789.781 L1731.05 798.895 L1737.11 798.895 Q1740.1 798.895 1741.56 797.781 Q1743.04 796.647 1743.04 794.338 Q1743.04 792.049 1741.56 790.915 Q1740.1 789.781 1737.11 789.781 L1731.05 789.781 M1726.96 786.418 L1737.41 786.418 Q1742.09 786.418 1744.62 788.363 Q1747.15 790.307 1747.15 793.892 Q1747.15 796.667 1745.86 798.308 Q1744.56 799.948 1742.05 800.353 Q1745.07 801.002 1746.73 803.067 Q1748.41 805.113 1748.41 808.192 Q1748.41 812.243 1745.65 814.451 Q1742.9 816.658 1737.81 816.658 L1726.96 816.658 L1726.96 786.418 Z\" fill=\"#000000\" fill-rule=\"evenodd\" fill-opacity=\"1\" /><path clip-path=\"url(#clip970)\" d=\"M677.258 452.417 L677.258 456.731 Q675.192 454.807 672.842 453.855 Q670.513 452.903 667.88 452.903 Q662.695 452.903 659.94 456.083 Q657.185 459.243 657.185 465.238 Q657.185 471.213 659.94 474.393 Q662.695 477.553 667.88 477.553 Q670.513 477.553 672.842 476.601 Q675.192 475.649 677.258 473.725 L677.258 477.999 Q675.111 479.457 672.7 480.186 Q670.31 480.915 667.637 480.915 Q660.77 480.915 656.821 476.723 Q652.871 472.51 652.871 465.238 Q652.871 457.947 656.821 453.754 Q660.77 449.541 667.637 449.541 Q670.351 449.541 672.741 450.27 Q675.151 450.979 677.258 452.417 Z\" fill=\"#000000\" fill-rule=\"evenodd\" fill-opacity=\"1\" /><path clip-path=\"url(#clip970)\" d=\"M1321.05 250.559 L1321.05 274.075 L1325.99 274.075 Q1332.25 274.075 1335.15 271.239 Q1338.06 268.404 1338.06 262.287 Q1338.06 256.21 1335.15 253.395 Q1332.25 250.559 1325.99 250.559 L1321.05 250.559 M1316.96 247.197 L1325.36 247.197 Q1334.15 247.197 1338.27 250.863 Q1342.38 254.509 1342.38 262.287 Q1342.38 270.105 1338.24 273.771 Q1334.11 277.437 1325.36 277.437 L1316.96 277.437 L1316.96 247.197 Z\" fill=\"#000000\" fill-rule=\"evenodd\" fill-opacity=\"1\" /><path clip-path=\"url(#clip970)\" d=\"M652.575 1114.71 L671.695 1114.71 L671.695 1118.15 L656.666 1118.15 L656.666 1127.1 L671.067 1127.1 L671.067 1130.55 L656.666 1130.55 L656.666 1141.5 L672.06 1141.5 L672.06 1144.95 L652.575 1144.95 L652.575 1114.71 Z\" fill=\"#000000\" fill-rule=\"evenodd\" fill-opacity=\"1\" /></svg>\n"
      ]
     },
     "execution_count": 148,
     "metadata": {},
     "output_type": "execute_result"
    }
   ],
   "source": [
    "graphplot(g, names=[\"A\",\"B\",\"C\",\"D\",\"E\"], edgelabel=g_weights, curves = false)"
   ]
  },
  {
   "cell_type": "markdown",
   "id": "afb93a70-1132-458b-bca9-8bab2985a92e",
   "metadata": {},
   "source": [
    "We're going to find a shortest path from A through all other nodes and back to A.  We will do this in a brute force manner in that we go through all paths in the graph.  Here's an example:"
   ]
  },
  {
   "cell_type": "code",
   "execution_count": 149,
   "id": "c07b7b30-7ef3-415a-920e-d8e59a864027",
   "metadata": {},
   "outputs": [
    {
     "data": {
      "text/plain": [
       "37"
      ]
     },
     "execution_count": 149,
     "metadata": {},
     "output_type": "execute_result"
    }
   ],
   "source": [
    "dist = g_weights[(1,2)]+g_weights[(2,3)]+g_weights[(3,4)]+g_weights[(4,5)]+g_weights[(1,5)]"
   ]
  },
  {
   "cell_type": "markdown",
   "id": "2f1bfb9e-7a4b-43d7-b677-8952b053a0f9",
   "metadata": {},
   "source": [
    "If we have a path in the array p, then the following will find the path"
   ]
  },
  {
   "cell_type": "code",
   "execution_count": 150,
   "id": "22dff8ff-188e-42ad-b15e-6bdb6435217e",
   "metadata": {},
   "outputs": [
    {
     "data": {
      "text/plain": [
       "pathDistance (generic function with 1 method)"
      ]
     },
     "execution_count": 150,
     "metadata": {},
     "output_type": "execute_result"
    }
   ],
   "source": [
    "function pathDistance(p::Vector{Int})\n",
    "  dist = 0\n",
    "  for i=1:length(p)-1\n",
    "    dist += haskey(g_weights,(p[i],p[i+1])) ? g_weights[(p[i],p[i+1])] : g_weights[(p[i+1],p[i])]\n",
    "  end\n",
    "  dist + (haskey(g_weights,(p[1],p[end])) ? g_weights[(p[1],p[end])] : g_weights[(p[end],p[1])])\n",
    "end"
   ]
  },
  {
   "cell_type": "code",
   "execution_count": 151,
   "id": "58771916-4a7c-41f7-ba3c-4a7aad675a07",
   "metadata": {},
   "outputs": [
    {
     "data": {
      "text/plain": [
       "37"
      ]
     },
     "execution_count": 151,
     "metadata": {},
     "output_type": "execute_result"
    }
   ],
   "source": [
    "pathDistance(collect(1:5))"
   ]
  },
  {
   "cell_type": "code",
   "execution_count": 152,
   "id": "69fb55ea-180c-4862-ac7b-3907c18a1605",
   "metadata": {},
   "outputs": [
    {
     "data": {
      "text/plain": [
       "31"
      ]
     },
     "execution_count": 152,
     "metadata": {},
     "output_type": "execute_result"
    }
   ],
   "source": [
    "pathDistance([3,1,2,5,4])"
   ]
  },
  {
   "cell_type": "code",
   "execution_count": 153,
   "id": "2aba5867-69d4-41c5-a8c8-127930cec6b0",
   "metadata": {},
   "outputs": [],
   "source": [
    "using Combinatorics"
   ]
  },
  {
   "cell_type": "markdown",
   "id": "ed69bce0-735e-4661-a8a0-9dcd0b524aba",
   "metadata": {},
   "source": [
    "Now, we will find all paths, by using the permutaions of the array from 1 to 5"
   ]
  },
  {
   "cell_type": "code",
   "execution_count": 154,
   "id": "6bd20008-5f5b-4b50-a0b7-0cb5f57b306a",
   "metadata": {},
   "outputs": [
    {
     "data": {
      "text/plain": [
       "4-element Vector{Int64}:\n",
       " 1\n",
       " 2\n",
       " 3\n",
       " 4"
      ]
     },
     "execution_count": 154,
     "metadata": {},
     "output_type": "execute_result"
    }
   ],
   "source": [
    "nthperm([1,2,3,4],1)"
   ]
  },
  {
   "cell_type": "code",
   "execution_count": 155,
   "id": "518d8761-591b-4556-be4d-874643b23cbf",
   "metadata": {},
   "outputs": [
    {
     "data": {
      "text/plain": [
       "4-element Vector{Int64}:\n",
       " 1\n",
       " 2\n",
       " 4\n",
       " 3"
      ]
     },
     "execution_count": 155,
     "metadata": {},
     "output_type": "execute_result"
    }
   ],
   "source": [
    "nthperm([1,2,3,4],2)"
   ]
  },
  {
   "cell_type": "code",
   "execution_count": 156,
   "id": "b7dcc685-fb7f-4149-9edb-9bd08a9976ba",
   "metadata": {},
   "outputs": [
    {
     "data": {
      "text/plain": [
       "24-element Vector{Vector{Int64}}:\n",
       " [1, 2, 3, 4]\n",
       " [1, 2, 4, 3]\n",
       " [1, 3, 2, 4]\n",
       " [1, 3, 4, 2]\n",
       " [1, 4, 2, 3]\n",
       " [1, 4, 3, 2]\n",
       " [2, 1, 3, 4]\n",
       " [2, 1, 4, 3]\n",
       " [2, 3, 1, 4]\n",
       " [2, 3, 4, 1]\n",
       " [2, 4, 1, 3]\n",
       " [2, 4, 3, 1]\n",
       " [3, 1, 2, 4]\n",
       " [3, 1, 4, 2]\n",
       " [3, 2, 1, 4]\n",
       " [3, 2, 4, 1]\n",
       " [3, 4, 1, 2]\n",
       " [3, 4, 2, 1]\n",
       " [4, 1, 2, 3]\n",
       " [4, 1, 3, 2]\n",
       " [4, 2, 1, 3]\n",
       " [4, 2, 3, 1]\n",
       " [4, 3, 1, 2]\n",
       " [4, 3, 2, 1]"
      ]
     },
     "execution_count": 156,
     "metadata": {},
     "output_type": "execute_result"
    }
   ],
   "source": [
    "perms = map(k->nthperm([1,2,3,4],k),1:24)"
   ]
  },
  {
   "cell_type": "code",
   "execution_count": 157,
   "id": "72f023cc-8755-4521-838e-973c86b06b7b",
   "metadata": {},
   "outputs": [
    {
     "data": {
      "text/plain": [
       "120-element Vector{Int64}:\n",
       " 37\n",
       " 27\n",
       " 35\n",
       " 32\n",
       " 24\n",
       " 31\n",
       " 38\n",
       " 27\n",
       " 35\n",
       " 31\n",
       " 25\n",
       " 32\n",
       " 31\n",
       "  ⋮\n",
       " 32\n",
       " 25\n",
       " 27\n",
       " 31\n",
       " 24\n",
       " 35\n",
       " 27\n",
       " 27\n",
       " 32\n",
       " 38\n",
       " 31\n",
       " 37"
      ]
     },
     "execution_count": 157,
     "metadata": {},
     "output_type": "execute_result"
    }
   ],
   "source": [
    "dists = map(k->pathDistance(nthperm(1:5,k)),1:factorial(5))"
   ]
  },
  {
   "cell_type": "code",
   "execution_count": 158,
   "id": "d401ad3d-f813-4d18-815d-aa518e46cb7e",
   "metadata": {},
   "outputs": [
    {
     "data": {
      "text/plain": [
       "(24, 5)"
      ]
     },
     "execution_count": 158,
     "metadata": {},
     "output_type": "execute_result"
    }
   ],
   "source": [
    "findmin(dists)"
   ]
  },
  {
   "cell_type": "markdown",
   "id": "a022e06f-8c0d-49f3-af2c-c91e18deee3a",
   "metadata": {},
   "source": [
    "This shows that the 5th element of the list (5th permutatation) returns the minimum of 24."
   ]
  },
  {
   "cell_type": "code",
   "execution_count": 159,
   "id": "e693b721-b70b-4b42-be91-fe85c9b96239",
   "metadata": {},
   "outputs": [
    {
     "data": {
      "text/plain": [
       "5-element Vector{Int64}:\n",
       " 1\n",
       " 2\n",
       " 5\n",
       " 3\n",
       " 4"
      ]
     },
     "execution_count": 159,
     "metadata": {},
     "output_type": "execute_result"
    }
   ],
   "source": [
    "nthperm(1:5,5)"
   ]
  },
  {
   "cell_type": "markdown",
   "id": "90c518b0-fdef-47e4-9723-38a00174de10",
   "metadata": {},
   "source": [
    "This corresponds to A -> B -> E -> C -> D -> A"
   ]
  },
  {
   "cell_type": "markdown",
   "id": "3ea1cc9e-8540-4c47-a6bb-3e8840a5cbd9",
   "metadata": {},
   "source": [
    "### Shortest Path Problems\n",
    "\n",
    "Here, we are going to look at the shortest path through a weighted graph.  Although there are many algorithms to do this, we will use the $A^{\\star}$ method (feel free to google if interested how it works).\n",
    "\n",
    "First, let's make a graph"
   ]
  },
  {
   "cell_type": "code",
   "execution_count": 160,
   "id": "f7cb00c3-24ee-4c74-a86e-ed5049d2873f",
   "metadata": {},
   "outputs": [
    {
     "data": {
      "text/plain": [
       "true"
      ]
     },
     "execution_count": 160,
     "metadata": {},
     "output_type": "execute_result"
    }
   ],
   "source": [
    "g2 = SimpleGraph(5)\n",
    "add_edge!(g2,1,2)\n",
    "add_edge!(g2,2,3)\n",
    "add_edge!(g2,2,4)\n",
    "add_edge!(g2,3,4)\n",
    "add_edge!(g2,3,5)\n",
    "add_edge!(g2,4,5)"
   ]
  },
  {
   "cell_type": "code",
   "execution_count": null,
   "id": "73347cc4-15d8-47f4-b420-6a4333f2b6fa",
   "metadata": {},
   "outputs": [],
   "source": []
  },
  {
   "cell_type": "markdown",
   "id": "3593d060-7bf0-4aa1-b3a0-84807f74ce4a",
   "metadata": {},
   "source": [
    "And defined the weights"
   ]
  },
  {
   "cell_type": "code",
   "execution_count": 161,
   "id": "adfa57b8-562f-40bb-a185-756dd1b203bf",
   "metadata": {},
   "outputs": [
    {
     "data": {
      "text/plain": [
       "Dict{Tuple{Int64, Int64}, Int64} with 6 entries:\n",
       "  (2, 4) => 1\n",
       "  (1, 2) => 1\n",
       "  (4, 5) => 5\n",
       "  (3, 4) => 1\n",
       "  (2, 3) => 3\n",
       "  (3, 5) => 2"
      ]
     },
     "execution_count": 161,
     "metadata": {},
     "output_type": "execute_result"
    }
   ],
   "source": [
    "weights2 = Dict((1,2)=>1,(2,3)=>3,(2,4)=>1,(3,4)=>1,(3,5)=>2,(4,5)=>5)"
   ]
  },
  {
   "cell_type": "markdown",
   "id": "92bd7624-3960-4fd6-9674-a78815034796",
   "metadata": {},
   "source": [
    "These can be used to plot the graph with"
   ]
  },
  {
   "cell_type": "code",
   "execution_count": 162,
   "id": "5de26b90-462a-44da-9c89-f63c5a05e552",
   "metadata": {},
   "outputs": [
    {
     "data": {
      "image/svg+xml": [
       "<?xml version=\"1.0\" encoding=\"utf-8\"?>\n",
       "<svg xmlns=\"http://www.w3.org/2000/svg\" xmlns:xlink=\"http://www.w3.org/1999/xlink\" width=\"600\" height=\"400\" viewBox=\"0 0 2400 1600\">\n",
       "<defs>\n",
       "  <clipPath id=\"clip000\">\n",
       "    <rect x=\"0\" y=\"0\" width=\"2400\" height=\"1600\"/>\n",
       "  </clipPath>\n",
       "</defs>\n",
       "<path clip-path=\"url(#clip000)\" d=\"\n",
       "M0 1600 L2400 1600 L2400 0 L0 0  Z\n",
       "  \" fill=\"#ffffff\" fill-rule=\"evenodd\" fill-opacity=\"1\"/>\n",
       "<defs>\n",
       "  <clipPath id=\"clip001\">\n",
       "    <rect x=\"480\" y=\"0\" width=\"1681\" height=\"1600\"/>\n",
       "  </clipPath>\n",
       "</defs>\n",
       "<path clip-path=\"url(#clip000)\" d=\"\n",
       "M447.244 1552.76 L1952.76 1552.76 L1952.76 47.2441 L447.244 47.2441  Z\n",
       "  \" fill=\"#ffffff\" fill-rule=\"evenodd\" fill-opacity=\"1\"/>\n",
       "<defs>\n",
       "  <clipPath id=\"clip002\">\n",
       "    <rect x=\"447\" y=\"47\" width=\"1507\" height=\"1507\"/>\n",
       "  </clipPath>\n",
       "</defs>\n",
       "<polyline clip-path=\"url(#clip002)\" style=\"stroke:#000000; stroke-linecap:round; stroke-linejoin:round; stroke-width:4; stroke-opacity:1; fill:none\" points=\"\n",
       "  1521.7,1337.68 1515.23,1331.15 1508.77,1324.62 1502.33,1318.07 1495.92,1311.52 1489.55,1304.94 1483.23,1298.35 1476.97,1291.72 1470.78,1285.07 1464.67,1278.38 \n",
       "  1458.65,1271.65 1452.73,1264.88 1446.92,1258.06 1441.24,1251.18 1435.68,1244.25 1430.26,1237.26 1425,1230.19 1419.89,1223.06 1414.96,1215.86 1410.2,1208.57 \n",
       "  1405.64,1201.2 1401.28,1193.74 1397.13,1186.19 1393.19,1178.54 1389.5,1170.79 1386.04,1162.94 1382.82,1154.97 1379.83,1146.91 1377.06,1138.75 1374.51,1130.5 \n",
       "  1372.15,1122.15 1369.99,1113.73 1368,1105.22 1366.19,1096.64 1364.53,1087.99 1363.03,1079.27 1361.67,1070.49 1360.44,1061.66 1359.33,1052.77 1358.33,1043.83 \n",
       "  1357.43,1034.84 1356.62,1025.82 1355.89,1016.76 1355.23,1007.67 1354.63,998.557 1354.08,989.42 1353.57,980.264 1353.1,971.095 1352.64,961.918 1352.19,952.736 \n",
       "  \n",
       "  \"/>\n",
       "<polyline clip-path=\"url(#clip002)\" style=\"stroke:#000000; stroke-linecap:round; stroke-linejoin:round; stroke-width:4; stroke-opacity:1; fill:none\" points=\"\n",
       "  1352.19,952.736 1362.34,947.491 1372.49,942.238 1382.62,936.969 1392.73,931.676 1402.81,926.352 1412.85,920.989 1422.85,915.578 1432.79,910.112 1442.67,904.583 \n",
       "  1452.48,898.983 1462.21,893.304 1471.86,887.539 1481.42,881.679 1490.89,875.716 1500.24,869.643 1509.48,863.452 1518.6,857.135 1527.58,850.683 1536.43,844.09 \n",
       "  1545.14,837.347 1553.69,830.446 1562.09,823.38 1570.31,816.14 1578.36,808.719 1586.23,801.109 1593.91,793.31 1601.42,785.33 1608.76,777.176 1615.95,768.857 \n",
       "  1622.97,760.38 1629.86,751.754 1636.6,742.985 1643.22,734.082 1649.72,725.054 1656.1,715.907 1662.37,706.649 1668.54,697.29 1674.63,687.835 1680.63,678.294 \n",
       "  1686.55,668.674 1692.4,658.983 1698.2,649.229 1703.94,639.42 1709.63,629.563 1715.29,619.667 1720.91,609.74 1726.52,599.789 1732.1,589.822 1737.68,579.847 \n",
       "  \n",
       "  \"/>\n",
       "<polyline clip-path=\"url(#clip002)\" style=\"stroke:#000000; stroke-linecap:round; stroke-linejoin:round; stroke-width:4; stroke-opacity:1; fill:none\" points=\"\n",
       "  1352.19,952.736 1336.73,949.23 1321.28,945.714 1305.84,942.179 1290.41,938.613 1275,935.008 1259.61,931.352 1244.25,927.637 1228.92,923.853 1213.63,919.988 \n",
       "  1198.38,916.034 1183.17,911.981 1168.02,907.817 1152.92,903.535 1137.88,899.122 1122.91,894.571 1108,889.87 1093.17,885.009 1078.42,879.98 1063.74,874.77 \n",
       "  1049.16,869.372 1034.67,863.775 1020.27,857.968 1005.98,851.942 991.788,845.687 977.709,839.194 963.74,832.462 949.876,825.501 936.114,818.32 922.448,810.931 \n",
       "  908.875,803.342 895.388,795.564 881.984,787.607 868.658,779.481 855.406,771.195 842.222,762.759 829.103,754.185 816.044,745.48 803.04,736.657 790.086,727.723 \n",
       "  777.178,718.69 764.312,709.568 751.482,700.366 738.684,691.094 725.914,681.762 713.167,672.38 700.439,662.959 687.724,653.508 675.018,644.037 662.317,634.555 \n",
       "  \n",
       "  \"/>\n",
       "<polyline clip-path=\"url(#clip002)\" style=\"stroke:#000000; stroke-linecap:round; stroke-linejoin:round; stroke-width:4; stroke-opacity:1; fill:none\" points=\"\n",
       "  1737.68,579.847 1715.9,584.249 1694.12,588.641 1672.34,593.01 1650.56,597.347 1628.78,601.64 1606.99,605.878 1585.2,610.05 1563.4,614.146 1541.6,618.154 \n",
       "  1519.8,622.063 1497.99,625.863 1476.17,629.542 1454.35,633.09 1432.52,636.496 1410.68,639.748 1388.84,642.836 1366.98,645.748 1345.12,648.475 1323.25,651.004 \n",
       "  1301.36,653.325 1279.46,655.427 1257.56,657.299 1235.64,658.93 1213.7,660.308 1191.76,661.425 1169.8,662.279 1147.83,662.881 1125.84,663.242 1103.84,663.373 \n",
       "  1081.84,663.285 1059.82,662.989 1037.79,662.496 1015.75,661.816 993.706,660.961 971.651,659.942 949.589,658.77 927.519,657.455 905.442,656.008 883.359,654.442 \n",
       "  861.271,652.765 839.178,650.99 817.08,649.128 794.978,647.188 772.873,645.183 750.765,643.123 728.655,641.02 706.543,638.883 684.431,636.725 662.317,634.555 \n",
       "  \n",
       "  \"/>\n",
       "<polyline clip-path=\"url(#clip002)\" style=\"stroke:#000000; stroke-linecap:round; stroke-linejoin:round; stroke-width:4; stroke-opacity:1; fill:none\" points=\"\n",
       "  1737.68,579.847 1722.23,576.355 1706.79,572.854 1691.35,569.332 1675.93,565.781 1660.53,562.189 1645.15,558.548 1629.79,554.847 1614.47,551.077 1599.19,547.226 \n",
       "  1583.95,543.286 1568.75,539.246 1553.6,535.097 1538.51,530.828 1523.48,526.43 1508.51,521.892 1493.61,517.205 1478.79,512.358 1464.04,507.342 1449.38,502.147 \n",
       "  1434.8,496.762 1420.31,491.178 1405.92,485.385 1391.64,479.373 1377.45,473.131 1363.38,466.651 1349.42,459.932 1335.56,452.984 1321.8,445.817 1308.14,438.44 \n",
       "  1294.57,430.865 1281.09,423.1 1267.69,415.155 1254.37,407.042 1241.12,398.768 1227.94,390.346 1214.83,381.784 1201.78,373.092 1188.78,364.281 1175.83,355.36 \n",
       "  1162.92,346.34 1150.06,337.23 1137.23,328.04 1124.44,318.781 1111.68,309.461 1098.93,300.092 1086.21,290.683 1073.5,281.245 1060.8,271.786 1048.1,262.317 \n",
       "  \n",
       "  \"/>\n",
       "<polyline clip-path=\"url(#clip002)\" style=\"stroke:#000000; stroke-linecap:round; stroke-linejoin:round; stroke-width:4; stroke-opacity:1; fill:none\" points=\"\n",
       "  662.317,634.555 672.475,629.326 682.625,624.089 692.76,618.837 702.872,613.56 712.953,608.252 722.996,602.905 732.994,597.51 742.938,592.06 752.822,586.547 \n",
       "  762.637,580.963 772.375,575.299 782.03,569.549 791.594,563.705 801.058,557.757 810.416,551.699 819.66,545.523 828.782,539.221 837.774,532.784 846.629,526.205 \n",
       "  855.34,519.476 863.898,512.59 872.297,505.537 880.527,498.311 888.583,490.904 896.456,483.307 904.147,475.521 911.662,467.554 919.01,459.413 926.198,451.106 \n",
       "  933.233,442.641 940.124,434.027 946.878,425.27 953.503,416.379 960.005,407.362 966.393,398.227 972.675,388.981 978.858,379.632 984.949,370.188 990.956,360.658 \n",
       "  996.887,351.049 1002.75,341.369 1008.55,331.626 1014.3,321.827 1020,311.981 1025.67,302.096 1031.3,292.179 1036.91,282.238 1042.51,272.282 1048.1,262.317 \n",
       "  \n",
       "  \"/>\n",
       "<path clip-path=\"url(#clip002)\" d=\"\n",
       "M1365.15 1203.01 L1410.32 1203.01 L1410.32 1130.75 L1365.15 1130.75 L1365.15 1203.01 L1365.15 1203.01  Z\n",
       "  \" fill=\"#ffffff\" fill-rule=\"evenodd\" fill-opacity=\"1\"/>\n",
       "<polyline clip-path=\"url(#clip002)\" style=\"stroke:#000000; stroke-linecap:round; stroke-linejoin:round; stroke-width:0; stroke-opacity:0; fill:none\" points=\"\n",
       "  1365.15,1203.01 1410.32,1203.01 1410.32,1130.75 1365.15,1130.75 1365.15,1203.01 \n",
       "  \"/>\n",
       "<path clip-path=\"url(#clip002)\" d=\"\n",
       "M1559.74 841.07 L1604.9 841.07 L1604.9 768.806 L1559.74 768.806 L1559.74 841.07 L1559.74 841.07  Z\n",
       "  \" fill=\"#ffffff\" fill-rule=\"evenodd\" fill-opacity=\"1\"/>\n",
       "<polyline clip-path=\"url(#clip002)\" style=\"stroke:#000000; stroke-linecap:round; stroke-linejoin:round; stroke-width:0; stroke-opacity:0; fill:none\" points=\"\n",
       "  1559.74,841.07 1604.9,841.07 1604.9,768.806 1559.74,768.806 1559.74,841.07 \n",
       "  \"/>\n",
       "<path clip-path=\"url(#clip002)\" d=\"\n",
       "M962.152 878.603 L1007.32 878.603 L1007.32 806.339 L962.152 806.339 L962.152 878.603 L962.152 878.603  Z\n",
       "  \" fill=\"#ffffff\" fill-rule=\"evenodd\" fill-opacity=\"1\"/>\n",
       "<polyline clip-path=\"url(#clip002)\" style=\"stroke:#000000; stroke-linecap:round; stroke-linejoin:round; stroke-width:0; stroke-opacity:0; fill:none\" points=\"\n",
       "  962.152,878.603 1007.32,878.603 1007.32,806.339 962.152,806.339 962.152,878.603 \n",
       "  \"/>\n",
       "<path clip-path=\"url(#clip002)\" d=\"\n",
       "M1180.15 697.032 L1225.31 697.032 L1225.31 624.768 L1180.15 624.768 L1180.15 697.032 L1180.15 697.032  Z\n",
       "  \" fill=\"#ffffff\" fill-rule=\"evenodd\" fill-opacity=\"1\"/>\n",
       "<polyline clip-path=\"url(#clip002)\" style=\"stroke:#000000; stroke-linecap:round; stroke-linejoin:round; stroke-width:0; stroke-opacity:0; fill:none\" points=\"\n",
       "  1180.15,697.032 1225.31,697.032 1225.31,624.768 1180.15,624.768 1180.15,697.032 \n",
       "  \"/>\n",
       "<path clip-path=\"url(#clip002)\" d=\"\n",
       "M1347.82 506.054 L1392.98 506.054 L1392.98 433.789 L1347.82 433.789 L1347.82 506.054 L1347.82 506.054  Z\n",
       "  \" fill=\"#ffffff\" fill-rule=\"evenodd\" fill-opacity=\"1\"/>\n",
       "<polyline clip-path=\"url(#clip002)\" style=\"stroke:#000000; stroke-linecap:round; stroke-linejoin:round; stroke-width:0; stroke-opacity:0; fill:none\" points=\"\n",
       "  1347.82,506.054 1392.98,506.054 1392.98,433.789 1347.82,433.789 1347.82,506.054 \n",
       "  \"/>\n",
       "<path clip-path=\"url(#clip002)\" d=\"\n",
       "M869.96 523.262 L915.125 523.262 L915.125 450.997 L869.96 450.997 L869.96 523.262 L869.96 523.262  Z\n",
       "  \" fill=\"#ffffff\" fill-rule=\"evenodd\" fill-opacity=\"1\"/>\n",
       "<polyline clip-path=\"url(#clip002)\" style=\"stroke:#000000; stroke-linecap:round; stroke-linejoin:round; stroke-width:0; stroke-opacity:0; fill:none\" points=\"\n",
       "  869.96,523.262 915.125,523.262 915.125,450.997 869.96,450.997 869.96,523.262 \n",
       "  \"/>\n",
       "<path clip-path=\"url(#clip002)\" d=\"\n",
       "M1548.8 1337.68 L1535.25 1314.21 L1508.15 1314.21 L1494.6 1337.68 L1508.15 1361.15 L1535.25 1361.15 L1548.8 1337.68 L1548.8 1337.68  Z\n",
       "  \" fill=\"#009af9\" fill-rule=\"evenodd\" fill-opacity=\"1\"/>\n",
       "<polyline clip-path=\"url(#clip002)\" style=\"stroke:#000000; stroke-linecap:round; stroke-linejoin:round; stroke-width:4; stroke-opacity:1; fill:none\" points=\"\n",
       "  1548.8,1337.68 1535.25,1314.21 1508.15,1314.21 1494.6,1337.68 1508.15,1361.15 1535.25,1361.15 1548.8,1337.68 \n",
       "  \"/>\n",
       "<path clip-path=\"url(#clip002)\" d=\"\n",
       "M1379.29 952.736 L1365.74 929.267 L1338.64 929.267 L1325.09 952.736 L1338.64 976.204 L1365.74 976.204 L1379.29 952.736 L1379.29 952.736  Z\n",
       "  \" fill=\"#009af9\" fill-rule=\"evenodd\" fill-opacity=\"1\"/>\n",
       "<polyline clip-path=\"url(#clip002)\" style=\"stroke:#000000; stroke-linecap:round; stroke-linejoin:round; stroke-width:4; stroke-opacity:1; fill:none\" points=\"\n",
       "  1379.29,952.736 1365.74,929.267 1338.64,929.267 1325.09,952.736 1338.64,976.204 1365.74,976.204 1379.29,952.736 \n",
       "  \"/>\n",
       "<path clip-path=\"url(#clip002)\" d=\"\n",
       "M1764.78 579.847 L1751.23 556.378 L1724.13 556.378 L1710.58 579.847 L1724.13 603.316 L1751.23 603.316 L1764.78 579.847 L1764.78 579.847  Z\n",
       "  \" fill=\"#009af9\" fill-rule=\"evenodd\" fill-opacity=\"1\"/>\n",
       "<polyline clip-path=\"url(#clip002)\" style=\"stroke:#000000; stroke-linecap:round; stroke-linejoin:round; stroke-width:4; stroke-opacity:1; fill:none\" points=\"\n",
       "  1764.78,579.847 1751.23,556.378 1724.13,556.378 1710.58,579.847 1724.13,603.316 1751.23,603.316 1764.78,579.847 \n",
       "  \"/>\n",
       "<path clip-path=\"url(#clip002)\" d=\"\n",
       "M689.416 634.555 L675.867 611.087 L648.768 611.087 L635.218 634.555 L648.768 658.024 L675.867 658.024 L689.416 634.555 L689.416 634.555  Z\n",
       "  \" fill=\"#009af9\" fill-rule=\"evenodd\" fill-opacity=\"1\"/>\n",
       "<polyline clip-path=\"url(#clip002)\" style=\"stroke:#000000; stroke-linecap:round; stroke-linejoin:round; stroke-width:4; stroke-opacity:1; fill:none\" points=\"\n",
       "  689.416,634.555 675.867,611.087 648.768,611.087 635.218,634.555 648.768,658.024 675.867,658.024 689.416,634.555 \n",
       "  \"/>\n",
       "<path clip-path=\"url(#clip002)\" d=\"\n",
       "M1075.2 262.317 L1061.65 238.849 L1034.55 238.849 L1021 262.317 L1034.55 285.786 L1061.65 285.786 L1075.2 262.317 L1075.2 262.317  Z\n",
       "  \" fill=\"#009af9\" fill-rule=\"evenodd\" fill-opacity=\"1\"/>\n",
       "<polyline clip-path=\"url(#clip002)\" style=\"stroke:#000000; stroke-linecap:round; stroke-linejoin:round; stroke-width:4; stroke-opacity:1; fill:none\" points=\"\n",
       "  1075.2,262.317 1061.65,238.849 1034.55,238.849 1021,262.317 1034.55,285.786 1061.65,285.786 1075.2,262.317 \n",
       "  \"/>\n",
       "<path clip-path=\"url(#clip002)\" d=\"M1521.7 1338.08 L1521.35 1337.88 L1521.35 1337.48 L1521.7 1337.28 L1522.04 1337.48 L1522.04 1337.88 Z\" fill=\"#009af9\" fill-rule=\"evenodd\" fill-opacity=\"1\" stroke=\"#000000\" stroke-opacity=\"1\" stroke-width=\"3.2\"/>\n",
       "<path clip-path=\"url(#clip002)\" d=\"M1352.19 953.136 L1351.84 952.936 L1351.84 952.536 L1352.19 952.336 L1352.54 952.536 L1352.54 952.936 Z\" fill=\"#009af9\" fill-rule=\"evenodd\" fill-opacity=\"1\" stroke=\"#000000\" stroke-opacity=\"1\" stroke-width=\"3.2\"/>\n",
       "<path clip-path=\"url(#clip002)\" d=\"M1737.68 580.247 L1737.34 580.047 L1737.34 579.647 L1737.68 579.447 L1738.03 579.647 L1738.03 580.047 Z\" fill=\"#009af9\" fill-rule=\"evenodd\" fill-opacity=\"1\" stroke=\"#000000\" stroke-opacity=\"1\" stroke-width=\"3.2\"/>\n",
       "<path clip-path=\"url(#clip002)\" d=\"M662.317 634.955 L661.971 634.755 L661.971 634.355 L662.317 634.155 L662.664 634.355 L662.664 634.755 Z\" fill=\"#009af9\" fill-rule=\"evenodd\" fill-opacity=\"1\" stroke=\"#000000\" stroke-opacity=\"1\" stroke-width=\"3.2\"/>\n",
       "<path clip-path=\"url(#clip002)\" d=\"M1048.1 262.717 L1047.75 262.517 L1047.75 262.117 L1048.1 261.917 L1048.44 262.117 L1048.44 262.517 Z\" fill=\"#009af9\" fill-rule=\"evenodd\" fill-opacity=\"1\" stroke=\"#000000\" stroke-opacity=\"1\" stroke-width=\"3.2\"/>\n",
       "<path clip-path=\"url(#clip000)\" d=\"M1379.32 1178.55 L1386 1178.55 L1386 1155.48 L1378.73 1156.94 L1378.73 1153.22 L1385.96 1151.76 L1390.05 1151.76 L1390.05 1178.55 L1396.74 1178.55 L1396.74 1182 L1379.32 1182 L1379.32 1178.55 Z\" fill=\"#000000\" fill-rule=\"evenodd\" fill-opacity=\"1\" /><path clip-path=\"url(#clip000)\" d=\"M1586.04 803.753 Q1588.97 804.381 1590.61 806.366 Q1592.27 808.351 1592.27 811.267 Q1592.27 815.744 1589.2 818.194 Q1586.12 820.645 1580.45 820.645 Q1578.54 820.645 1576.52 820.26 Q1574.51 819.896 1572.36 819.146 L1572.36 815.197 Q1574.07 816.189 1576.09 816.696 Q1578.12 817.202 1580.32 817.202 Q1584.17 817.202 1586.18 815.683 Q1588.2 814.164 1588.2 811.267 Q1588.2 808.594 1586.32 807.095 Q1584.46 805.576 1581.11 805.576 L1577.59 805.576 L1577.59 802.214 L1581.28 802.214 Q1584.29 802.214 1585.89 801.019 Q1587.49 799.803 1587.49 797.535 Q1587.49 795.206 1585.83 793.97 Q1584.19 792.714 1581.11 792.714 Q1579.43 792.714 1577.51 793.079 Q1575.58 793.443 1573.28 794.213 L1573.28 790.567 Q1575.6 789.919 1577.63 789.595 Q1579.68 789.271 1581.48 789.271 Q1586.14 789.271 1588.85 791.398 Q1591.57 793.504 1591.57 797.11 Q1591.57 799.621 1590.13 801.363 Q1588.69 803.085 1586.04 803.753 Z\" fill=\"#000000\" fill-rule=\"evenodd\" fill-opacity=\"1\" /><path clip-path=\"url(#clip000)\" d=\"M976.319 854.148 L983.003 854.148 L983.003 831.078 L975.731 832.536 L975.731 828.809 L982.962 827.351 L987.053 827.351 L987.053 854.148 L993.737 854.148 L993.737 857.591 L976.319 857.591 L976.319 854.148 Z\" fill=\"#000000\" fill-rule=\"evenodd\" fill-opacity=\"1\" /><path clip-path=\"url(#clip000)\" d=\"M1194.32 672.577 L1201 672.577 L1201 649.507 L1193.73 650.965 L1193.73 647.238 L1200.96 645.78 L1205.05 645.78 L1205.05 672.577 L1211.74 672.577 L1211.74 676.02 L1194.32 676.02 L1194.32 672.577 Z\" fill=\"#000000\" fill-rule=\"evenodd\" fill-opacity=\"1\" /><path clip-path=\"url(#clip000)\" d=\"M1365.72 481.598 L1380 481.598 L1380 485.041 L1360.8 485.041 L1360.8 481.598 Q1363.13 479.188 1367.14 475.137 Q1371.17 471.066 1372.2 469.891 Q1374.17 467.683 1374.94 466.164 Q1375.73 464.625 1375.73 463.146 Q1375.73 460.736 1374.03 459.217 Q1372.35 457.698 1369.63 457.698 Q1367.71 457.698 1365.56 458.366 Q1363.43 459.035 1361 460.392 L1361 456.26 Q1363.47 455.267 1365.62 454.761 Q1367.77 454.255 1369.55 454.255 Q1374.25 454.255 1377.05 456.604 Q1379.84 458.954 1379.84 462.883 Q1379.84 464.746 1379.13 466.428 Q1378.44 468.088 1376.6 470.357 Q1376.09 470.944 1373.38 473.76 Q1370.67 476.555 1365.72 481.598 Z\" fill=\"#000000\" fill-rule=\"evenodd\" fill-opacity=\"1\" /><path clip-path=\"url(#clip000)\" d=\"M884.036 472.009 L900.097 472.009 L900.097 475.453 L887.783 475.453 L887.783 482.866 Q888.674 482.562 889.565 482.42 Q890.456 482.258 891.347 482.258 Q896.411 482.258 899.368 485.033 Q902.325 487.808 902.325 492.547 Q902.325 497.429 899.287 500.143 Q896.249 502.837 890.72 502.837 Q888.816 502.837 886.831 502.513 Q884.866 502.189 882.76 501.54 L882.76 497.429 Q884.582 498.421 886.527 498.907 Q888.471 499.393 890.639 499.393 Q894.143 499.393 896.188 497.55 Q898.234 495.707 898.234 492.547 Q898.234 489.388 896.188 487.545 Q894.143 485.701 890.639 485.701 Q888.998 485.701 887.357 486.066 Q885.737 486.431 884.036 487.2 L884.036 472.009 Z\" fill=\"#000000\" fill-rule=\"evenodd\" fill-opacity=\"1\" /><path clip-path=\"url(#clip000)\" d=\"M1521.7 1326.59 L1516.15 1341.64 L1527.27 1341.64 L1521.7 1326.59 M1519.39 1322.56 L1524.03 1322.56 L1535.55 1352.8 L1531.3 1352.8 L1528.54 1345.05 L1514.91 1345.05 L1512.16 1352.8 L1507.84 1352.8 L1519.39 1322.56 Z\" fill=\"#000000\" fill-rule=\"evenodd\" fill-opacity=\"1\" /><path clip-path=\"url(#clip000)\" d=\"M1345.56 953.414 L1345.56 964.494 L1352.12 964.494 Q1355.42 964.494 1357 963.137 Q1358.6 961.759 1358.6 958.944 Q1358.6 956.108 1357 954.771 Q1355.42 953.414 1352.12 953.414 L1345.56 953.414 M1345.56 940.978 L1345.56 950.093 L1351.61 950.093 Q1354.61 950.093 1356.07 948.979 Q1357.55 947.844 1357.55 945.535 Q1357.55 943.247 1356.07 942.112 Q1354.61 940.978 1351.61 940.978 L1345.56 940.978 M1341.46 937.616 L1351.92 937.616 Q1356.59 937.616 1359.13 939.56 Q1361.66 941.505 1361.66 945.09 Q1361.66 947.865 1360.36 949.505 Q1359.07 951.146 1356.55 951.551 Q1359.57 952.199 1361.23 954.265 Q1362.91 956.311 1362.91 959.389 Q1362.91 963.44 1360.16 965.648 Q1357.41 967.856 1352.32 967.856 L1341.46 967.856 L1341.46 937.616 Z\" fill=\"#000000\" fill-rule=\"evenodd\" fill-opacity=\"1\" /><path clip-path=\"url(#clip000)\" d=\"M1749.88 567.056 L1749.88 571.37 Q1747.81 569.446 1745.46 568.494 Q1743.13 567.542 1740.5 567.542 Q1735.31 567.542 1732.56 570.722 Q1729.8 573.882 1729.8 579.877 Q1729.8 585.852 1732.56 589.032 Q1735.31 592.192 1740.5 592.192 Q1743.13 592.192 1745.46 591.24 Q1747.81 590.288 1749.88 588.364 L1749.88 592.638 Q1747.73 594.096 1745.32 594.825 Q1742.93 595.554 1740.26 595.554 Q1733.39 595.554 1729.44 591.362 Q1725.49 587.149 1725.49 579.877 Q1725.49 572.586 1729.44 568.393 Q1733.39 564.18 1740.26 564.18 Q1742.97 564.18 1745.36 564.909 Q1747.77 565.618 1749.88 567.056 Z\" fill=\"#000000\" fill-rule=\"evenodd\" fill-opacity=\"1\" /><path clip-path=\"url(#clip000)\" d=\"M653.699 622.798 L653.699 646.313 L658.641 646.313 Q664.9 646.313 667.796 643.478 Q670.713 640.642 670.713 634.525 Q670.713 628.449 667.796 625.633 Q664.9 622.798 658.641 622.798 L653.699 622.798 M649.607 619.435 L658.013 619.435 Q666.804 619.435 670.915 623.102 Q675.027 626.747 675.027 634.525 Q675.027 642.343 670.895 646.009 Q666.763 649.675 658.013 649.675 L649.607 649.675 L649.607 619.435 Z\" fill=\"#000000\" fill-rule=\"evenodd\" fill-opacity=\"1\" /><path clip-path=\"url(#clip000)\" d=\"M1038.36 247.197 L1057.48 247.197 L1057.48 250.64 L1042.45 250.64 L1042.45 259.593 L1056.85 259.593 L1056.85 263.036 L1042.45 263.036 L1042.45 273.994 L1057.84 273.994 L1057.84 277.437 L1038.36 277.437 L1038.36 247.197 Z\" fill=\"#000000\" fill-rule=\"evenodd\" fill-opacity=\"1\" /></svg>\n"
      ]
     },
     "execution_count": 162,
     "metadata": {},
     "output_type": "execute_result"
    }
   ],
   "source": [
    "graphplot(g2, names=[\"A\",\"B\",\"C\",\"D\",\"E\"], edgelabel=weights2)"
   ]
  },
  {
   "cell_type": "markdown",
   "id": "4bc82596-30fd-4ad4-b265-ba77f01d4589",
   "metadata": {},
   "source": [
    "The function below to find the shortest path needs the weights to be stored as a matrix.  We can pull the information out of Dictionary as:"
   ]
  },
  {
   "cell_type": "code",
   "execution_count": 163,
   "id": "54361fff-63f8-44db-96bf-3a0c29e1dd06",
   "metadata": {},
   "outputs": [
    {
     "data": {
      "text/plain": [
       "5×5 Matrix{Int64}:\n",
       " 0  1  0  0  0\n",
       " 1  0  3  1  0\n",
       " 0  3  0  1  2\n",
       " 0  1  1  0  5\n",
       " 0  0  2  5  0"
      ]
     },
     "execution_count": 163,
     "metadata": {},
     "output_type": "execute_result"
    }
   ],
   "source": [
    "w = zeros(Int,5,5)\n",
    "for i=1:5\n",
    "  for j=1:5\n",
    "    if haskey(weights2,(i,j))\n",
    "      w[i,j] = weights2[(i,j)]\n",
    "      w[j,i] = weights2[(i,j)]\n",
    "    end\n",
    "  end\n",
    "end\n",
    "w"
   ]
  },
  {
   "cell_type": "markdown",
   "id": "c8ea5e5a-3a41-4ff9-b52c-2dff1d35954c",
   "metadata": {},
   "source": [
    "As an example, let's find the shortest path from vertex A to D"
   ]
  },
  {
   "cell_type": "code",
   "execution_count": 164,
   "id": "83aee56f-ccb9-4635-b31b-5950310bb902",
   "metadata": {},
   "outputs": [
    {
     "data": {
      "text/plain": [
       "2-element Vector{Graphs.SimpleGraphs.SimpleEdge{Int64}}:\n",
       " Edge 1 => 2\n",
       " Edge 2 => 4"
      ]
     },
     "execution_count": 164,
     "metadata": {},
     "output_type": "execute_result"
    }
   ],
   "source": [
    "short_path = a_star(g2,1,4,w)"
   ]
  },
  {
   "cell_type": "markdown",
   "id": "4f33dbe5-f3f8-4d3a-899c-dc13ade41a1c",
   "metadata": {},
   "source": [
    "This shows that path is 1 => 2 => 4 or A, B, D.  You'll need to pull these values out programmatically. You can do this with the .dst and .src fields"
   ]
  },
  {
   "cell_type": "code",
   "execution_count": 165,
   "id": "cadf62d3-8ac8-48c8-9ac0-e16ca4f483e4",
   "metadata": {},
   "outputs": [
    {
     "data": {
      "text/plain": [
       "(1, 2)"
      ]
     },
     "execution_count": 165,
     "metadata": {},
     "output_type": "execute_result"
    }
   ],
   "source": [
    "short_path[1].src,short_path[1].dst"
   ]
  },
  {
   "cell_type": "code",
   "execution_count": 166,
   "id": "3d75e802-1e2b-4ec4-bf72-c76b1fac346e",
   "metadata": {},
   "outputs": [
    {
     "data": {
      "text/plain": [
       "(2, 4)"
      ]
     },
     "execution_count": 166,
     "metadata": {},
     "output_type": "execute_result"
    }
   ],
   "source": [
    "short_path[2].src,short_path[2].dst"
   ]
  },
  {
   "cell_type": "markdown",
   "id": "fde20a9f-a779-443d-8173-dc01075f60dd",
   "metadata": {},
   "source": [
    "Here's the shortest path from vertex A to E:"
   ]
  },
  {
   "cell_type": "code",
   "execution_count": 167,
   "id": "c83c2a23-7cbd-4c84-ae58-b439e5ca05c5",
   "metadata": {},
   "outputs": [
    {
     "data": {
      "text/plain": [
       "4-element Vector{Graphs.SimpleGraphs.SimpleEdge{Int64}}:\n",
       " Edge 1 => 2\n",
       " Edge 2 => 4\n",
       " Edge 4 => 3\n",
       " Edge 3 => 5"
      ]
     },
     "execution_count": 167,
     "metadata": {},
     "output_type": "execute_result"
    }
   ],
   "source": [
    "short_path2 = a_star(g2,1,5, w)"
   ]
  },
  {
   "cell_type": "code",
   "execution_count": null,
   "id": "24a68194-52ff-4823-aa0b-cd16e678aa71",
   "metadata": {},
   "outputs": [],
   "source": []
  }
 ],
 "metadata": {
  "kernelspec": {
   "display_name": "Julia 1.8.3",
   "language": "julia",
   "name": "julia-1.8"
  },
  "language_info": {
   "file_extension": ".jl",
   "mimetype": "application/julia",
   "name": "julia",
   "version": "1.8.3"
  }
 },
 "nbformat": 4,
 "nbformat_minor": 5
}
