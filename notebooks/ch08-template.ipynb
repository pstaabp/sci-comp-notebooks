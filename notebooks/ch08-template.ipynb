{
 "cells": [
  {
   "cell_type": "markdown",
   "metadata": {},
   "source": [
    "## Chapter 8: Number Theory"
   ]
  },
  {
   "cell_type": "markdown",
   "metadata": {},
   "source": [
    "This chapter uses number theory to investigate more ideas about scientific computation.  We'll solve some problems related to prime numbers and other interesting this in number theory like perfect numbers and happy numbers. This chapter is used as an example of some of the ideas in scientific computing applied to number theory."
   ]
  },
  {
   "cell_type": "markdown",
   "metadata": {},
   "source": [
    "### 8.1: Prime Numbers"
   ]
  },
  {
   "cell_type": "markdown",
   "metadata": {},
   "source": [
    "Recall that a prime number is an integer greater than 1 whose only factors are 1 and itself."
   ]
  },
  {
   "cell_type": "code",
   "execution_count": null,
   "metadata": {},
   "outputs": [],
   "source": [
    "function findAllFactors(n::Integer) \n",
    "  local factors = [1]\n",
    "  for i=2:n-1\n",
    "    if mod(n,i)==0 \n",
    "      push!(factors,i)\n",
    "    end\n",
    "  end\n",
    "  push!(factors,n) # n is always a factor of itself \n",
    "end"
   ]
  },
  {
   "cell_type": "markdown",
   "metadata": {},
   "source": [
    "This function finds all of the factors of an integer. The result is an array of all of the factors: "
   ]
  },
  {
   "cell_type": "code",
   "execution_count": null,
   "metadata": {},
   "outputs": [],
   "source": [
    "findAllFactors(24)"
   ]
  },
  {
   "cell_type": "code",
   "execution_count": null,
   "metadata": {},
   "outputs": [],
   "source": [
    "findAllFactors(50)"
   ]
  },
  {
   "cell_type": "markdown",
   "metadata": {},
   "source": [
    "Try to find a function `isPrime` that determines if its input is prime or not:"
   ]
  },
  {
   "cell_type": "code",
   "execution_count": null,
   "metadata": {},
   "outputs": [],
   "source": [
    "function isPrime(n::Integer)\n",
    "  factors = findAllFactors(n)\n",
    "  if length(factors) == 2\n",
    "    return true\n",
    "  else\n",
    "    return false\n",
    "  end\n",
    "end"
   ]
  },
  {
   "cell_type": "code",
   "execution_count": null,
   "metadata": {},
   "outputs": [],
   "source": [
    "isPrime(13)"
   ]
  },
  {
   "cell_type": "code",
   "execution_count": null,
   "metadata": {},
   "outputs": [],
   "source": [
    "isPrime(15)"
   ]
  },
  {
   "cell_type": "markdown",
   "metadata": {},
   "source": [
    "Write a more compact version of `isPrime`"
   ]
  },
  {
   "cell_type": "code",
   "execution_count": null,
   "metadata": {},
   "outputs": [],
   "source": [
    "function isPrime(n::Integer)\n",
    "\n",
    "end"
   ]
  },
  {
   "cell_type": "markdown",
   "metadata": {},
   "source": [
    "### 8.2: Finding Primes"
   ]
  },
  {
   "cell_type": "markdown",
   "metadata": {},
   "source": [
    "It's also helpful to perhaps have a function that produce the next prime given any number:"
   ]
  },
  {
   "cell_type": "code",
   "execution_count": null,
   "metadata": {},
   "outputs": [],
   "source": [
    "nextPrime(n::Integer) = isPrime(n+1) ? n+1 : nextPrime(n+1)"
   ]
  },
  {
   "cell_type": "markdown",
   "metadata": {},
   "source": [
    "This is recursive.  It first's test if the next integer `n+1` is prime, if so, return `n+1`, else return `nextPrime(n+1)`"
   ]
  },
  {
   "cell_type": "markdown",
   "metadata": {},
   "source": [
    "Let's test this a bit:"
   ]
  },
  {
   "cell_type": "code",
   "execution_count": null,
   "metadata": {},
   "outputs": [],
   "source": [
    "nextPrime(10)"
   ]
  },
  {
   "cell_type": "code",
   "execution_count": null,
   "metadata": {},
   "outputs": [],
   "source": [
    "nextPrime(47)"
   ]
  },
  {
   "cell_type": "code",
   "execution_count": null,
   "metadata": {},
   "outputs": [],
   "source": [
    "nextPrime(1_000_000)"
   ]
  },
  {
   "cell_type": "code",
   "execution_count": null,
   "metadata": {},
   "outputs": [],
   "source": []
  },
  {
   "cell_type": "code",
   "execution_count": null,
   "metadata": {},
   "outputs": [],
   "source": [
    "function nextPrime(n::Integer)\n",
    "    while !isPrime(n+1)\n",
    "        n+=1\n",
    "    end\n",
    "    n+1    \n",
    "end"
   ]
  },
  {
   "cell_type": "code",
   "execution_count": null,
   "metadata": {},
   "outputs": [],
   "source": [
    "nextPrime(47)"
   ]
  },
  {
   "cell_type": "code",
   "execution_count": null,
   "metadata": {},
   "outputs": [],
   "source": [
    "nextPrime(1_000_000)"
   ]
  },
  {
   "cell_type": "code",
   "execution_count": null,
   "metadata": {},
   "outputs": [],
   "source": [
    "using Primes"
   ]
  },
  {
   "cell_type": "code",
   "execution_count": null,
   "metadata": {},
   "outputs": [],
   "source": [
    "nextprime(1_000_000_000_000)"
   ]
  },
  {
   "cell_type": "markdown",
   "metadata": {},
   "source": [
    "### 8.3 Perfect Numbers"
   ]
  },
  {
   "cell_type": "markdown",
   "metadata": {},
   "source": [
    "A number is perfect if the sum of its factors (except itself) is itself.  For example, 6 is perfect because it factors are 1,2,3,6 and the sum of the first 3 numbers is 6. We seek to write a function `isPerfect` to test this."
   ]
  },
  {
   "cell_type": "code",
   "execution_count": null,
   "metadata": {},
   "outputs": [],
   "source": [
    "function isPerfect(n::Integer)\n",
    "  # find the factors of n and check the sum\n",
    "end"
   ]
  },
  {
   "cell_type": "code",
   "execution_count": null,
   "metadata": {},
   "outputs": [],
   "source": [
    "isPerfect(6)"
   ]
  },
  {
   "cell_type": "code",
   "execution_count": null,
   "metadata": {},
   "outputs": [],
   "source": [
    "isPerfect(28)"
   ]
  },
  {
   "cell_type": "code",
   "execution_count": null,
   "metadata": {},
   "outputs": [],
   "source": [
    "isPerfect(10)"
   ]
  },
  {
   "cell_type": "code",
   "execution_count": null,
   "metadata": {},
   "outputs": [],
   "source": [
    "filter(isPerfect,1:100)"
   ]
  },
  {
   "cell_type": "code",
   "execution_count": null,
   "metadata": {},
   "outputs": [],
   "source": [
    "isPerfect2(n::Integer) = "
   ]
  },
  {
   "cell_type": "markdown",
   "metadata": {},
   "source": [
    "Let's time these two functions to see which is faster.  "
   ]
  },
  {
   "cell_type": "code",
   "execution_count": null,
   "metadata": {},
   "outputs": [],
   "source": [
    "@time isPerfect(10_000)"
   ]
  },
  {
   "cell_type": "code",
   "execution_count": null,
   "metadata": {},
   "outputs": [],
   "source": [
    "@time isPerfect2(10_000)"
   ]
  },
  {
   "cell_type": "markdown",
   "metadata": {},
   "source": [
    "Notice that `@time` macro is reporting, we're going to use a package called `BenchmarkTools`.  We just did a tutorial for package managing in julia.  If you need a refresher see Appendix B of the textbook."
   ]
  },
  {
   "cell_type": "code",
   "execution_count": null,
   "metadata": {},
   "outputs": [],
   "source": [
    "using BenchmarkTools"
   ]
  },
  {
   "cell_type": "code",
   "execution_count": null,
   "metadata": {},
   "outputs": [],
   "source": [
    "@btime isPerfect(10_000)"
   ]
  },
  {
   "cell_type": "code",
   "execution_count": null,
   "metadata": {},
   "outputs": [],
   "source": [
    "@btime isPerfect2(10_000)"
   ]
  },
  {
   "cell_type": "markdown",
   "metadata": {},
   "source": [
    "The `@btime` macro runs the command a number of times and reports the average.  This helps in that since other things are happening on your computer, this is more accurate. Also, is using milliseconds (ms), microseconds (μs) and nanoseconds (ns). "
   ]
  },
  {
   "cell_type": "code",
   "execution_count": null,
   "metadata": {},
   "outputs": [],
   "source": []
  },
  {
   "cell_type": "markdown",
   "metadata": {},
   "source": [
    "### Happy Numbers"
   ]
  },
  {
   "cell_type": "markdown",
   "metadata": {},
   "source": [
    "Here’s another fun example. A number n is called happy if you perform the following steps:\n",
    "1. Take the digits of n and square each one.\n",
    "2. Sum the squares.\n",
    "3. If the sum is 1, then the number is happy. If not repeat these steps.\n",
    "\n",
    "* 13 is happy\n",
    "* 19 is happy\n",
    "* 4 is not happy"
   ]
  },
  {
   "cell_type": "code",
   "execution_count": null,
   "metadata": {},
   "outputs": [],
   "source": [
    "function isHappy(n::Integer)\n",
    "  if n==1\n",
    "    return true\n",
    "  elseif n==4 \n",
    "    return false\n",
    "  else \n",
    "    local d = digits(n)\n",
    "    local sum = 0\n",
    "    for i=1:length(d)\n",
    "      sum += d[i]^2\n",
    "    end\n",
    "    return isHappy(sum)\n",
    "  end\n",
    "end"
   ]
  },
  {
   "cell_type": "code",
   "execution_count": null,
   "metadata": {},
   "outputs": [],
   "source": [
    "isHappy(10)"
   ]
  },
  {
   "cell_type": "code",
   "execution_count": null,
   "metadata": {},
   "outputs": [],
   "source": [
    "isHappy(11)"
   ]
  },
  {
   "cell_type": "code",
   "execution_count": null,
   "metadata": {},
   "outputs": [],
   "source": [
    "isHappy(58)"
   ]
  },
  {
   "cell_type": "code",
   "execution_count": null,
   "metadata": {},
   "outputs": [],
   "source": [
    "function isHappy2(n::Integer)\n",
    "  if n==1\n",
    "    return true\n",
    "  elseif n==4 \n",
    "    return false\n",
    "  else \n",
    "    return isHappy2(sum(x->x^2,digits(n)))\n",
    "  end\n",
    "end"
   ]
  },
  {
   "cell_type": "code",
   "execution_count": null,
   "metadata": {},
   "outputs": [],
   "source": [
    "isHappy2(10)"
   ]
  },
  {
   "cell_type": "code",
   "execution_count": null,
   "metadata": {},
   "outputs": [],
   "source": [
    "isHappy2(11)"
   ]
  },
  {
   "cell_type": "code",
   "execution_count": null,
   "metadata": {},
   "outputs": [],
   "source": [
    "function isHappy3(n::Integer)\n",
    "  n == 1 ? true : (n == 4 ? false : isHappy3(sum(x->x^2,digits(n))))\n",
    "end"
   ]
  },
  {
   "cell_type": "code",
   "execution_count": null,
   "metadata": {},
   "outputs": [],
   "source": [
    "isHappy3(10)"
   ]
  },
  {
   "cell_type": "code",
   "execution_count": null,
   "metadata": {},
   "outputs": [],
   "source": [
    "isHappy3(11)"
   ]
  },
  {
   "cell_type": "markdown",
   "metadata": {},
   "source": [
    "You will time this in your homework using the Benchmark tools"
   ]
  },
  {
   "cell_type": "markdown",
   "metadata": {},
   "source": [
    "Let's find which of the first 100 whole numbers are happy."
   ]
  },
  {
   "cell_type": "code",
   "execution_count": null,
   "metadata": {},
   "outputs": [],
   "source": [
    "[isHappy(n) for n=1:100]"
   ]
  },
  {
   "cell_type": "markdown",
   "metadata": {},
   "source": [
    "Although, you can figured it out a bit (the 1s mean the number is happy, 0 means it's not).  The following is a big easier:"
   ]
  },
  {
   "cell_type": "code",
   "execution_count": null,
   "metadata": {},
   "outputs": [],
   "source": [
    "filter(isHappy, 1:100)"
   ]
  },
  {
   "cell_type": "markdown",
   "metadata": {},
   "source": [
    "Remember what just happened here.  The numbers 1 to 100 (as a range) are filtered with only those that are true with the `isHappy` command."
   ]
  },
  {
   "cell_type": "markdown",
   "metadata": {},
   "source": [
    "### 8.5: Primes can be big!!"
   ]
  },
  {
   "cell_type": "markdown",
   "metadata": {},
   "source": [
    "The following is a prime number:"
   ]
  },
  {
   "cell_type": "code",
   "execution_count": null,
   "metadata": {},
   "outputs": [],
   "source": [
    "n = big(2)^89-1"
   ]
  },
  {
   "cell_type": "markdown",
   "metadata": {},
   "source": [
    "which doesn't fit in `Int64`, which is why we used a `BigInt`.   Don't try to run `isPrime` on this number though. Trust me it won't finish because our algorithm isn't very good.  The largest known prime (as of mid 2020) is 24,862,048 digits long. "
   ]
  },
  {
   "cell_type": "markdown",
   "metadata": {},
   "source": [
    "### 8.6 speeding up our algorithms"
   ]
  },
  {
   "cell_type": "markdown",
   "metadata": {},
   "source": [
    "If we benchmark time our original `isPrime` function on a reasonably sized prime number (but 1 million is tiny in prime number land), we get:"
   ]
  },
  {
   "cell_type": "code",
   "execution_count": null,
   "metadata": {},
   "outputs": [],
   "source": [
    "using BenchmarkTools"
   ]
  },
  {
   "cell_type": "code",
   "execution_count": null,
   "metadata": {},
   "outputs": [],
   "source": [
    "@btime isPrime(1_000_003)"
   ]
  },
  {
   "cell_type": "markdown",
   "metadata": {},
   "source": [
    "#### Speeding up `findAllFactors`"
   ]
  },
  {
   "cell_type": "markdown",
   "metadata": {},
   "source": [
    "Since `isPrime` just uses `findAllFactors`, we should first concentrate on improving `findAllFactors`.  First, we note that we don't need to check all numbers for factors.  For a given number $n$, the biggest factor (other than $n$), can be $n/2$.  Let's stop at this point:"
   ]
  },
  {
   "cell_type": "code",
   "execution_count": null,
   "metadata": {},
   "outputs": [],
   "source": [
    "function findAllFactors2(n::Integer)\n",
    "  factors = [1]\n",
    "  for i=2:n/2\n",
    "    if mod(n,i)==0\n",
    "      push!(factors,i)\n",
    "    end\n",
    "  end\n",
    "  push!(factors,n)\n",
    "end"
   ]
  },
  {
   "cell_type": "markdown",
   "metadata": {},
   "source": [
    "Let's time this versus the previous `findAllFactors`:"
   ]
  },
  {
   "cell_type": "code",
   "execution_count": null,
   "metadata": {},
   "outputs": [],
   "source": [
    "@btime findAllFactors(10_000);"
   ]
  },
  {
   "cell_type": "markdown",
   "metadata": {},
   "source": [
    "Note that we have supressed the output using the ; because we're more interested in the timing of the function rather than the result."
   ]
  },
  {
   "cell_type": "code",
   "execution_count": null,
   "metadata": {},
   "outputs": [],
   "source": [
    "@btime findAllFactors2(10_000);"
   ]
  },
  {
   "cell_type": "markdown",
   "metadata": {},
   "source": [
    "This may be surprising that it is slower.  The reason why is because if we do `n/2`, the result is a Float and all calculations with floating points are always slower than with integers. Let's replace `n/2` with integer division:"
   ]
  },
  {
   "cell_type": "code",
   "execution_count": null,
   "metadata": {},
   "outputs": [],
   "source": [
    "function findAllFactors3(n::Integer)\n",
    "  factors = [1]\n",
    "  for i=2:div(n,2)\n",
    "    if mod(n,i)==0\n",
    "      push!(factors,i)\n",
    "    end\n",
    "  end\n",
    "  push!(factors,n)\n",
    "end"
   ]
  },
  {
   "cell_type": "code",
   "execution_count": null,
   "metadata": {},
   "outputs": [],
   "source": [
    "@btime findAllFactors3(10_000);"
   ]
  },
  {
   "cell_type": "markdown",
   "metadata": {},
   "source": [
    "Note that now we has sped up the result by about a factor of 50%, which is to be expected because we've cut down on number of checks. "
   ]
  },
  {
   "cell_type": "markdown",
   "metadata": {},
   "source": [
    "#### keep eliminating factors:"
   ]
  },
  {
   "cell_type": "markdown",
   "metadata": {},
   "source": [
    "Factors nearly always come in pairs.  Consider all factors of 200:\n",
    "\n",
    "```\n",
    "1    2    4   5   8   10  \n",
    "200  100  50  40  25  20\n",
    "```\n"
   ]
  },
  {
   "cell_type": "code",
   "execution_count": null,
   "metadata": {},
   "outputs": [],
   "source": [
    "function findAllFactors4(n::Integer)\n",
    "  local x = round(Int,sqrt(n)) # closest integer to sqrt(n)\n",
    "  local factors = [1,n]\n",
    "  local j=2 # keep track where to insert elements\n",
    "  for k=2:x\n",
    "    if n%k==0\n",
    "      # insert the new factors in the middle of the factors array\n",
    "      splice!(factors,j:(j-1),[k,div(n,k)])\n",
    "      j+=1\n",
    "    end\n",
    "  end\n",
    "  unique(factors)\n",
    "end"
   ]
  },
  {
   "cell_type": "code",
   "execution_count": null,
   "metadata": {},
   "outputs": [],
   "source": [
    "findAllFactors4(200)"
   ]
  },
  {
   "cell_type": "code",
   "execution_count": null,
   "metadata": {},
   "outputs": [],
   "source": [
    "@btime findAllFactors4(10_000);"
   ]
  },
  {
   "cell_type": "markdown",
   "metadata": {},
   "source": [
    "This shows a speed up of about 12 for this example.  This doesn't scale linearly because we stop at $\\sqrt{n}$"
   ]
  },
  {
   "cell_type": "markdown",
   "metadata": {},
   "source": [
    "Let's now check the various `isPrime` functions"
   ]
  },
  {
   "cell_type": "code",
   "execution_count": null,
   "metadata": {},
   "outputs": [],
   "source": [
    "function isPrime(n::Integer)\n",
    "  return length(findAllFactors(n))==2\n",
    "end"
   ]
  },
  {
   "cell_type": "code",
   "execution_count": null,
   "metadata": {},
   "outputs": [],
   "source": [
    "function isPrime2(n::Integer)\n",
    "  return length(findAllFactors3(n))==2\n",
    "end"
   ]
  },
  {
   "cell_type": "code",
   "execution_count": null,
   "metadata": {},
   "outputs": [],
   "source": [
    "function isPrime3(n::Integer)\n",
    "  return length(findAllFactors4(n))==2\n",
    "end"
   ]
  },
  {
   "cell_type": "code",
   "execution_count": null,
   "metadata": {},
   "outputs": [],
   "source": [
    "@btime isPrime(1_000_003)"
   ]
  },
  {
   "cell_type": "code",
   "execution_count": null,
   "metadata": {},
   "outputs": [],
   "source": [
    "@btime isPrime2(1_000_003)"
   ]
  },
  {
   "cell_type": "code",
   "execution_count": null,
   "metadata": {},
   "outputs": [],
   "source": [
    "@btime isPrime3(1_000_003)"
   ]
  },
  {
   "cell_type": "markdown",
   "metadata": {},
   "source": [
    "#### if we are determining primeness, why find all factors"
   ]
  },
  {
   "cell_type": "markdown",
   "metadata": {},
   "source": [
    "Let's just walk through all integers up to $\\sqrt{n}$ and stop if we find a factor"
   ]
  },
  {
   "cell_type": "code",
   "execution_count": null,
   "metadata": {},
   "outputs": [],
   "source": [
    "function isPrime4(n::Integer)\n",
    "  if n==1\n",
    "    return false\n",
    "  end\n",
    "  local x = round(Int,sqrt(n)) # find integer nearest sqrt(n)\n",
    "  for k=2:x\n",
    "    if n%k==0\n",
    "      return false\n",
    "    end\n",
    "  end\n",
    "  true\n",
    "end"
   ]
  },
  {
   "cell_type": "markdown",
   "metadata": {},
   "source": [
    "Let's check this with a larger prime:"
   ]
  },
  {
   "cell_type": "code",
   "execution_count": null,
   "metadata": {},
   "outputs": [],
   "source": [
    "@btime isPrime3(100_000_007)"
   ]
  },
  {
   "cell_type": "code",
   "execution_count": null,
   "metadata": {},
   "outputs": [],
   "source": [
    "@btime isPrime4(100_000_007)"
   ]
  },
  {
   "cell_type": "markdown",
   "metadata": {},
   "source": [
    "These look to be nearly the same.  Note that `isPrime3` uses an array but still is about as fast."
   ]
  },
  {
   "cell_type": "markdown",
   "metadata": {},
   "source": [
    "We can cut down a bit more, by only checking odd numbers. "
   ]
  },
  {
   "cell_type": "code",
   "execution_count": null,
   "metadata": {},
   "outputs": [],
   "source": [
    "function isPrime5(n::Integer)\n",
    "  if n%2==0\n",
    "    return false\n",
    "  end\n",
    "  for k=3:2:round(Int,sqrt(n))\n",
    "    if n%k==0\n",
    "      return false\n",
    "    end\n",
    "  end\n",
    "  true\n",
    "end"
   ]
  },
  {
   "cell_type": "code",
   "execution_count": null,
   "metadata": {},
   "outputs": [],
   "source": [
    "@btime isPrime5(100_000_007)"
   ]
  },
  {
   "cell_type": "code",
   "execution_count": null,
   "metadata": {},
   "outputs": [],
   "source": [
    "function getPrimes(n::Integer) ## return all primes up to n using the sieve of erathones\n",
    "  local is_prime=trues(n) ## assume all are prime\n",
    "  local k=2\n",
    "  while true\n",
    "    is_prime[2*k:k:n] .= false\n",
    "    k = findnext(is_prime,k+1) # find the next prime after k\n",
    "    if isnothing(k)\n",
    "      return findall(is_prime)[2:end]\n",
    "    end\n",
    "  end\n",
    "end"
   ]
  },
  {
   "cell_type": "markdown",
   "metadata": {},
   "source": [
    "#### using the Primes package"
   ]
  },
  {
   "cell_type": "code",
   "execution_count": null,
   "metadata": {},
   "outputs": [],
   "source": [
    "using Primes"
   ]
  },
  {
   "cell_type": "code",
   "execution_count": null,
   "metadata": {},
   "outputs": [],
   "source": [
    "@btime isprime(100_000_007)"
   ]
  },
  {
   "cell_type": "code",
   "execution_count": null,
   "metadata": {},
   "outputs": [],
   "source": [
    "@btime isPrime(100_000_007)"
   ]
  },
  {
   "cell_type": "code",
   "execution_count": null,
   "metadata": {},
   "outputs": [],
   "source": [
    "@btime isprime(big(2)^89-1)"
   ]
  },
  {
   "cell_type": "code",
   "execution_count": null,
   "metadata": {},
   "outputs": [],
   "source": [
    "filter(isPrime5,1_000_000_000_000:1_000_000_000_100)"
   ]
  },
  {
   "cell_type": "code",
   "execution_count": null,
   "metadata": {},
   "outputs": [],
   "source": []
  }
 ],
 "metadata": {
  "kernelspec": {
   "display_name": "Julia 1.8.0",
   "language": "julia",
   "name": "julia-1.8"
  },
  "language_info": {
   "file_extension": ".jl",
   "mimetype": "application/julia",
   "name": "julia",
   "version": "1.8.0"
  }
 },
 "nbformat": 4,
 "nbformat_minor": 4
}
