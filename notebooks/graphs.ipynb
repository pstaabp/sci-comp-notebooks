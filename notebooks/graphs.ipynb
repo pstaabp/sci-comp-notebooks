{
 "cells": [
  {
   "cell_type": "markdown",
   "id": "9cc52fbf-f839-4b5c-aa95-eb3d87baedff",
   "metadata": {},
   "source": [
    "## Graphs"
   ]
  },
  {
   "cell_type": "markdown",
   "id": "b3ad5787-b2f2-44a7-ae56-e2ec948e721a",
   "metadata": {},
   "source": [
    "This is mainly for the shortest path project, but is helpful in general. There are both information here for existing modules (packages) and a user-defined one. \n",
    "\n",
    "First, let's look at the Graph package"
   ]
  },
  {
   "cell_type": "code",
   "execution_count": 11,
   "id": "3dfd7b6d-eb76-42e2-b2a5-8094ea5b8f6a",
   "metadata": {},
   "outputs": [
    {
     "name": "stderr",
     "output_type": "stream",
     "text": [
      "WARNING: using Graphs.Edge in module Main conflicts with an existing identifier.\n"
     ]
    }
   ],
   "source": [
    "using Graphs, Plots, GraphRecipes"
   ]
  },
  {
   "cell_type": "code",
   "execution_count": 14,
   "id": "d50ae830-9cd3-42f4-95dc-80f6166950fe",
   "metadata": {},
   "outputs": [
    {
     "data": {
      "text/plain": [
       "{10, 45} undirected simple Int64 graph"
      ]
     },
     "execution_count": 14,
     "metadata": {},
     "output_type": "execute_result"
    }
   ],
   "source": [
    "g3 = complete_graph(10)"
   ]
  },
  {
   "cell_type": "code",
   "execution_count": 16,
   "id": "fa33beef-4e09-4634-9a99-50a850be2f04",
   "metadata": {},
   "outputs": [
    {
     "data": {
      "image/svg+xml": [
       "<?xml version=\"1.0\" encoding=\"utf-8\"?>\n",
       "<svg xmlns=\"http://www.w3.org/2000/svg\" xmlns:xlink=\"http://www.w3.org/1999/xlink\" width=\"600\" height=\"400\" viewBox=\"0 0 2400 1600\">\n",
       "<defs>\n",
       "  <clipPath id=\"clip110\">\n",
       "    <rect x=\"0\" y=\"0\" width=\"2400\" height=\"1600\"/>\n",
       "  </clipPath>\n",
       "</defs>\n",
       "<path clip-path=\"url(#clip110)\" d=\"\n",
       "M0 1600 L2400 1600 L2400 0 L0 0  Z\n",
       "  \" fill=\"#ffffff\" fill-rule=\"evenodd\" fill-opacity=\"1\"/>\n",
       "<defs>\n",
       "  <clipPath id=\"clip111\">\n",
       "    <rect x=\"480\" y=\"0\" width=\"1681\" height=\"1600\"/>\n",
       "  </clipPath>\n",
       "</defs>\n",
       "<path clip-path=\"url(#clip110)\" d=\"\n",
       "M447.244 1552.76 L1952.76 1552.76 L1952.76 47.2441 L447.244 47.2441  Z\n",
       "  \" fill=\"#ffffff\" fill-rule=\"evenodd\" fill-opacity=\"1\"/>\n",
       "<defs>\n",
       "  <clipPath id=\"clip112\">\n",
       "    <rect x=\"447\" y=\"47\" width=\"1507\" height=\"1507\"/>\n",
       "  </clipPath>\n",
       "</defs>\n",
       "<polyline clip-path=\"url(#clip112)\" style=\"stroke:#000000; stroke-linecap:round; stroke-linejoin:round; stroke-width:4; stroke-opacity:1; fill:none\" points=\"\n",
       "  662.317,921.09 702.507,547.617 \n",
       "  \"/>\n",
       "<polyline clip-path=\"url(#clip112)\" style=\"stroke:#000000; stroke-linecap:round; stroke-linejoin:round; stroke-width:4; stroke-opacity:1; fill:none\" points=\"\n",
       "  662.317,921.09 1572.64,1185.88 \n",
       "  \"/>\n",
       "<polyline clip-path=\"url(#clip112)\" style=\"stroke:#000000; stroke-linecap:round; stroke-linejoin:round; stroke-width:4; stroke-opacity:1; fill:none\" points=\"\n",
       "  662.317,921.09 1193.64,789.759 \n",
       "  \"/>\n",
       "<polyline clip-path=\"url(#clip112)\" style=\"stroke:#000000; stroke-linecap:round; stroke-linejoin:round; stroke-width:4; stroke-opacity:1; fill:none\" points=\"\n",
       "  662.317,921.09 870.743,1233.11 \n",
       "  \"/>\n",
       "<polyline clip-path=\"url(#clip112)\" style=\"stroke:#000000; stroke-linecap:round; stroke-linejoin:round; stroke-width:4; stroke-opacity:1; fill:none\" points=\"\n",
       "  662.317,921.09 1345.98,262.317 \n",
       "  \"/>\n",
       "<polyline clip-path=\"url(#clip112)\" style=\"stroke:#000000; stroke-linecap:round; stroke-linejoin:round; stroke-width:4; stroke-opacity:1; fill:none\" points=\"\n",
       "  662.317,921.09 1737.68,848.725 \n",
       "  \"/>\n",
       "<polyline clip-path=\"url(#clip112)\" style=\"stroke:#000000; stroke-linecap:round; stroke-linejoin:round; stroke-width:4; stroke-opacity:1; fill:none\" points=\"\n",
       "  662.317,921.09 1648.17,483.984 \n",
       "  \"/>\n",
       "<polyline clip-path=\"url(#clip112)\" style=\"stroke:#000000; stroke-linecap:round; stroke-linejoin:round; stroke-width:4; stroke-opacity:1; fill:none\" points=\"\n",
       "  662.317,921.09 1230.26,1337.68 \n",
       "  \"/>\n",
       "<polyline clip-path=\"url(#clip112)\" style=\"stroke:#000000; stroke-linecap:round; stroke-linejoin:round; stroke-width:4; stroke-opacity:1; fill:none\" points=\"\n",
       "  662.317,921.09 972.508,287.447 \n",
       "  \"/>\n",
       "<polyline clip-path=\"url(#clip112)\" style=\"stroke:#000000; stroke-linecap:round; stroke-linejoin:round; stroke-width:4; stroke-opacity:1; fill:none\" points=\"\n",
       "  702.507,547.617 1572.64,1185.88 \n",
       "  \"/>\n",
       "<polyline clip-path=\"url(#clip112)\" style=\"stroke:#000000; stroke-linecap:round; stroke-linejoin:round; stroke-width:4; stroke-opacity:1; fill:none\" points=\"\n",
       "  702.507,547.617 1193.64,789.759 \n",
       "  \"/>\n",
       "<polyline clip-path=\"url(#clip112)\" style=\"stroke:#000000; stroke-linecap:round; stroke-linejoin:round; stroke-width:4; stroke-opacity:1; fill:none\" points=\"\n",
       "  702.507,547.617 870.743,1233.11 \n",
       "  \"/>\n",
       "<polyline clip-path=\"url(#clip112)\" style=\"stroke:#000000; stroke-linecap:round; stroke-linejoin:round; stroke-width:4; stroke-opacity:1; fill:none\" points=\"\n",
       "  702.507,547.617 1345.98,262.317 \n",
       "  \"/>\n",
       "<polyline clip-path=\"url(#clip112)\" style=\"stroke:#000000; stroke-linecap:round; stroke-linejoin:round; stroke-width:4; stroke-opacity:1; fill:none\" points=\"\n",
       "  702.507,547.617 1737.68,848.725 \n",
       "  \"/>\n",
       "<polyline clip-path=\"url(#clip112)\" style=\"stroke:#000000; stroke-linecap:round; stroke-linejoin:round; stroke-width:4; stroke-opacity:1; fill:none\" points=\"\n",
       "  702.507,547.617 1648.17,483.984 \n",
       "  \"/>\n",
       "<polyline clip-path=\"url(#clip112)\" style=\"stroke:#000000; stroke-linecap:round; stroke-linejoin:round; stroke-width:4; stroke-opacity:1; fill:none\" points=\"\n",
       "  702.507,547.617 1230.26,1337.68 \n",
       "  \"/>\n",
       "<polyline clip-path=\"url(#clip112)\" style=\"stroke:#000000; stroke-linecap:round; stroke-linejoin:round; stroke-width:4; stroke-opacity:1; fill:none\" points=\"\n",
       "  702.507,547.617 972.508,287.447 \n",
       "  \"/>\n",
       "<polyline clip-path=\"url(#clip112)\" style=\"stroke:#000000; stroke-linecap:round; stroke-linejoin:round; stroke-width:4; stroke-opacity:1; fill:none\" points=\"\n",
       "  1572.64,1185.88 1193.64,789.759 \n",
       "  \"/>\n",
       "<polyline clip-path=\"url(#clip112)\" style=\"stroke:#000000; stroke-linecap:round; stroke-linejoin:round; stroke-width:4; stroke-opacity:1; fill:none\" points=\"\n",
       "  1572.64,1185.88 870.743,1233.11 \n",
       "  \"/>\n",
       "<polyline clip-path=\"url(#clip112)\" style=\"stroke:#000000; stroke-linecap:round; stroke-linejoin:round; stroke-width:4; stroke-opacity:1; fill:none\" points=\"\n",
       "  1572.64,1185.88 1345.98,262.317 \n",
       "  \"/>\n",
       "<polyline clip-path=\"url(#clip112)\" style=\"stroke:#000000; stroke-linecap:round; stroke-linejoin:round; stroke-width:4; stroke-opacity:1; fill:none\" points=\"\n",
       "  1572.64,1185.88 1737.68,848.725 \n",
       "  \"/>\n",
       "<polyline clip-path=\"url(#clip112)\" style=\"stroke:#000000; stroke-linecap:round; stroke-linejoin:round; stroke-width:4; stroke-opacity:1; fill:none\" points=\"\n",
       "  1572.64,1185.88 1648.17,483.984 \n",
       "  \"/>\n",
       "<polyline clip-path=\"url(#clip112)\" style=\"stroke:#000000; stroke-linecap:round; stroke-linejoin:round; stroke-width:4; stroke-opacity:1; fill:none\" points=\"\n",
       "  1572.64,1185.88 1230.26,1337.68 \n",
       "  \"/>\n",
       "<polyline clip-path=\"url(#clip112)\" style=\"stroke:#000000; stroke-linecap:round; stroke-linejoin:round; stroke-width:4; stroke-opacity:1; fill:none\" points=\"\n",
       "  1572.64,1185.88 972.508,287.447 \n",
       "  \"/>\n",
       "<polyline clip-path=\"url(#clip112)\" style=\"stroke:#000000; stroke-linecap:round; stroke-linejoin:round; stroke-width:4; stroke-opacity:1; fill:none\" points=\"\n",
       "  1193.64,789.759 870.743,1233.11 \n",
       "  \"/>\n",
       "<polyline clip-path=\"url(#clip112)\" style=\"stroke:#000000; stroke-linecap:round; stroke-linejoin:round; stroke-width:4; stroke-opacity:1; fill:none\" points=\"\n",
       "  1193.64,789.759 1345.98,262.317 \n",
       "  \"/>\n",
       "<polyline clip-path=\"url(#clip112)\" style=\"stroke:#000000; stroke-linecap:round; stroke-linejoin:round; stroke-width:4; stroke-opacity:1; fill:none\" points=\"\n",
       "  1193.64,789.759 1737.68,848.725 \n",
       "  \"/>\n",
       "<polyline clip-path=\"url(#clip112)\" style=\"stroke:#000000; stroke-linecap:round; stroke-linejoin:round; stroke-width:4; stroke-opacity:1; fill:none\" points=\"\n",
       "  1193.64,789.759 1648.17,483.984 \n",
       "  \"/>\n",
       "<polyline clip-path=\"url(#clip112)\" style=\"stroke:#000000; stroke-linecap:round; stroke-linejoin:round; stroke-width:4; stroke-opacity:1; fill:none\" points=\"\n",
       "  1193.64,789.759 1230.26,1337.68 \n",
       "  \"/>\n",
       "<polyline clip-path=\"url(#clip112)\" style=\"stroke:#000000; stroke-linecap:round; stroke-linejoin:round; stroke-width:4; stroke-opacity:1; fill:none\" points=\"\n",
       "  1193.64,789.759 972.508,287.447 \n",
       "  \"/>\n",
       "<polyline clip-path=\"url(#clip112)\" style=\"stroke:#000000; stroke-linecap:round; stroke-linejoin:round; stroke-width:4; stroke-opacity:1; fill:none\" points=\"\n",
       "  870.743,1233.11 1345.98,262.317 \n",
       "  \"/>\n",
       "<polyline clip-path=\"url(#clip112)\" style=\"stroke:#000000; stroke-linecap:round; stroke-linejoin:round; stroke-width:4; stroke-opacity:1; fill:none\" points=\"\n",
       "  870.743,1233.11 1737.68,848.725 \n",
       "  \"/>\n",
       "<polyline clip-path=\"url(#clip112)\" style=\"stroke:#000000; stroke-linecap:round; stroke-linejoin:round; stroke-width:4; stroke-opacity:1; fill:none\" points=\"\n",
       "  870.743,1233.11 1648.17,483.984 \n",
       "  \"/>\n",
       "<polyline clip-path=\"url(#clip112)\" style=\"stroke:#000000; stroke-linecap:round; stroke-linejoin:round; stroke-width:4; stroke-opacity:1; fill:none\" points=\"\n",
       "  870.743,1233.11 1230.26,1337.68 \n",
       "  \"/>\n",
       "<polyline clip-path=\"url(#clip112)\" style=\"stroke:#000000; stroke-linecap:round; stroke-linejoin:round; stroke-width:4; stroke-opacity:1; fill:none\" points=\"\n",
       "  870.743,1233.11 972.508,287.447 \n",
       "  \"/>\n",
       "<polyline clip-path=\"url(#clip112)\" style=\"stroke:#000000; stroke-linecap:round; stroke-linejoin:round; stroke-width:4; stroke-opacity:1; fill:none\" points=\"\n",
       "  1345.98,262.317 1737.68,848.725 \n",
       "  \"/>\n",
       "<polyline clip-path=\"url(#clip112)\" style=\"stroke:#000000; stroke-linecap:round; stroke-linejoin:round; stroke-width:4; stroke-opacity:1; fill:none\" points=\"\n",
       "  1345.98,262.317 1648.17,483.984 \n",
       "  \"/>\n",
       "<polyline clip-path=\"url(#clip112)\" style=\"stroke:#000000; stroke-linecap:round; stroke-linejoin:round; stroke-width:4; stroke-opacity:1; fill:none\" points=\"\n",
       "  1345.98,262.317 1230.26,1337.68 \n",
       "  \"/>\n",
       "<polyline clip-path=\"url(#clip112)\" style=\"stroke:#000000; stroke-linecap:round; stroke-linejoin:round; stroke-width:4; stroke-opacity:1; fill:none\" points=\"\n",
       "  1345.98,262.317 972.508,287.447 \n",
       "  \"/>\n",
       "<polyline clip-path=\"url(#clip112)\" style=\"stroke:#000000; stroke-linecap:round; stroke-linejoin:round; stroke-width:4; stroke-opacity:1; fill:none\" points=\"\n",
       "  1737.68,848.725 1648.17,483.984 \n",
       "  \"/>\n",
       "<polyline clip-path=\"url(#clip112)\" style=\"stroke:#000000; stroke-linecap:round; stroke-linejoin:round; stroke-width:4; stroke-opacity:1; fill:none\" points=\"\n",
       "  1737.68,848.725 1230.26,1337.68 \n",
       "  \"/>\n",
       "<polyline clip-path=\"url(#clip112)\" style=\"stroke:#000000; stroke-linecap:round; stroke-linejoin:round; stroke-width:4; stroke-opacity:1; fill:none\" points=\"\n",
       "  1737.68,848.725 972.508,287.447 \n",
       "  \"/>\n",
       "<polyline clip-path=\"url(#clip112)\" style=\"stroke:#000000; stroke-linecap:round; stroke-linejoin:round; stroke-width:4; stroke-opacity:1; fill:none\" points=\"\n",
       "  1648.17,483.984 1230.26,1337.68 \n",
       "  \"/>\n",
       "<polyline clip-path=\"url(#clip112)\" style=\"stroke:#000000; stroke-linecap:round; stroke-linejoin:round; stroke-width:4; stroke-opacity:1; fill:none\" points=\"\n",
       "  1648.17,483.984 972.508,287.447 \n",
       "  \"/>\n",
       "<polyline clip-path=\"url(#clip112)\" style=\"stroke:#000000; stroke-linecap:round; stroke-linejoin:round; stroke-width:4; stroke-opacity:1; fill:none\" points=\"\n",
       "  1230.26,1337.68 972.508,287.447 \n",
       "  \"/>\n",
       "<path clip-path=\"url(#clip112)\" d=\"\n",
       "M683.825 921.09 L673.071 902.464 L651.564 902.464 L640.81 921.09 L651.564 939.716 L673.071 939.716 L683.825 921.09 L683.825 921.09  Z\n",
       "  \" fill=\"#009af9\" fill-rule=\"evenodd\" fill-opacity=\"1\"/>\n",
       "<polyline clip-path=\"url(#clip112)\" style=\"stroke:#000000; stroke-linecap:round; stroke-linejoin:round; stroke-width:4; stroke-opacity:1; fill:none\" points=\"\n",
       "  683.825,921.09 673.071,902.464 651.564,902.464 640.81,921.09 651.564,939.716 673.071,939.716 683.825,921.09 \n",
       "  \"/>\n",
       "<path clip-path=\"url(#clip112)\" d=\"\n",
       "M724.015 547.617 L713.261 528.991 L691.754 528.991 L681 547.617 L691.754 566.243 L713.261 566.243 L724.015 547.617 L724.015 547.617  Z\n",
       "  \" fill=\"#009af9\" fill-rule=\"evenodd\" fill-opacity=\"1\"/>\n",
       "<polyline clip-path=\"url(#clip112)\" style=\"stroke:#000000; stroke-linecap:round; stroke-linejoin:round; stroke-width:4; stroke-opacity:1; fill:none\" points=\"\n",
       "  724.015,547.617 713.261,528.991 691.754,528.991 681,547.617 691.754,566.243 713.261,566.243 724.015,547.617 \n",
       "  \"/>\n",
       "<path clip-path=\"url(#clip112)\" d=\"\n",
       "M1594.14 1185.88 L1583.39 1167.25 L1561.88 1167.25 L1551.13 1185.88 L1561.88 1204.5 L1583.39 1204.5 L1594.14 1185.88 L1594.14 1185.88  Z\n",
       "  \" fill=\"#009af9\" fill-rule=\"evenodd\" fill-opacity=\"1\"/>\n",
       "<polyline clip-path=\"url(#clip112)\" style=\"stroke:#000000; stroke-linecap:round; stroke-linejoin:round; stroke-width:4; stroke-opacity:1; fill:none\" points=\"\n",
       "  1594.14,1185.88 1583.39,1167.25 1561.88,1167.25 1551.13,1185.88 1561.88,1204.5 1583.39,1204.5 1594.14,1185.88 \n",
       "  \"/>\n",
       "<path clip-path=\"url(#clip112)\" d=\"\n",
       "M1215.14 789.759 L1204.39 771.133 L1182.88 771.133 L1172.13 789.759 L1182.88 808.385 L1204.39 808.385 L1215.14 789.759 L1215.14 789.759  Z\n",
       "  \" fill=\"#009af9\" fill-rule=\"evenodd\" fill-opacity=\"1\"/>\n",
       "<polyline clip-path=\"url(#clip112)\" style=\"stroke:#000000; stroke-linecap:round; stroke-linejoin:round; stroke-width:4; stroke-opacity:1; fill:none\" points=\"\n",
       "  1215.14,789.759 1204.39,771.133 1182.88,771.133 1172.13,789.759 1182.88,808.385 1204.39,808.385 1215.14,789.759 \n",
       "  \"/>\n",
       "<path clip-path=\"url(#clip112)\" d=\"\n",
       "M892.25 1233.11 L881.496 1214.49 L859.989 1214.49 L849.235 1233.11 L859.989 1251.74 L881.496 1251.74 L892.25 1233.11 L892.25 1233.11  Z\n",
       "  \" fill=\"#009af9\" fill-rule=\"evenodd\" fill-opacity=\"1\"/>\n",
       "<polyline clip-path=\"url(#clip112)\" style=\"stroke:#000000; stroke-linecap:round; stroke-linejoin:round; stroke-width:4; stroke-opacity:1; fill:none\" points=\"\n",
       "  892.25,1233.11 881.496,1214.49 859.989,1214.49 849.235,1233.11 859.989,1251.74 881.496,1251.74 892.25,1233.11 \n",
       "  \"/>\n",
       "<path clip-path=\"url(#clip112)\" d=\"\n",
       "M1367.49 262.317 L1356.73 243.691 L1335.23 243.691 L1324.47 262.317 L1335.23 280.943 L1356.73 280.943 L1367.49 262.317 L1367.49 262.317  Z\n",
       "  \" fill=\"#009af9\" fill-rule=\"evenodd\" fill-opacity=\"1\"/>\n",
       "<polyline clip-path=\"url(#clip112)\" style=\"stroke:#000000; stroke-linecap:round; stroke-linejoin:round; stroke-width:4; stroke-opacity:1; fill:none\" points=\"\n",
       "  1367.49,262.317 1356.73,243.691 1335.23,243.691 1324.47,262.317 1335.23,280.943 1356.73,280.943 1367.49,262.317 \n",
       "  \"/>\n",
       "<path clip-path=\"url(#clip112)\" d=\"\n",
       "M1759.19 848.725 L1748.44 830.099 L1726.93 830.099 L1716.18 848.725 L1726.93 867.351 L1748.44 867.351 L1759.19 848.725 L1759.19 848.725  Z\n",
       "  \" fill=\"#009af9\" fill-rule=\"evenodd\" fill-opacity=\"1\"/>\n",
       "<polyline clip-path=\"url(#clip112)\" style=\"stroke:#000000; stroke-linecap:round; stroke-linejoin:round; stroke-width:4; stroke-opacity:1; fill:none\" points=\"\n",
       "  1759.19,848.725 1748.44,830.099 1726.93,830.099 1716.18,848.725 1726.93,867.351 1748.44,867.351 1759.19,848.725 \n",
       "  \"/>\n",
       "<path clip-path=\"url(#clip112)\" d=\"\n",
       "M1669.68 483.984 L1658.92 465.358 L1637.42 465.358 L1626.66 483.984 L1637.42 502.61 L1658.92 502.61 L1669.68 483.984 L1669.68 483.984  Z\n",
       "  \" fill=\"#009af9\" fill-rule=\"evenodd\" fill-opacity=\"1\"/>\n",
       "<polyline clip-path=\"url(#clip112)\" style=\"stroke:#000000; stroke-linecap:round; stroke-linejoin:round; stroke-width:4; stroke-opacity:1; fill:none\" points=\"\n",
       "  1669.68,483.984 1658.92,465.358 1637.42,465.358 1626.66,483.984 1637.42,502.61 1658.92,502.61 1669.68,483.984 \n",
       "  \"/>\n",
       "<path clip-path=\"url(#clip112)\" d=\"\n",
       "M1251.76 1337.68 L1241.01 1319.06 L1219.5 1319.06 L1208.75 1337.68 L1219.5 1356.31 L1241.01 1356.31 L1251.76 1337.68 L1251.76 1337.68  Z\n",
       "  \" fill=\"#009af9\" fill-rule=\"evenodd\" fill-opacity=\"1\"/>\n",
       "<polyline clip-path=\"url(#clip112)\" style=\"stroke:#000000; stroke-linecap:round; stroke-linejoin:round; stroke-width:4; stroke-opacity:1; fill:none\" points=\"\n",
       "  1251.76,1337.68 1241.01,1319.06 1219.5,1319.06 1208.75,1337.68 1219.5,1356.31 1241.01,1356.31 1251.76,1337.68 \n",
       "  \"/>\n",
       "<path clip-path=\"url(#clip112)\" d=\"\n",
       "M994.015 287.447 L983.262 268.821 L961.754 268.821 L951.001 287.447 L961.754 306.072 L983.262 306.072 L994.015 287.447 L994.015 287.447  Z\n",
       "  \" fill=\"#009af9\" fill-rule=\"evenodd\" fill-opacity=\"1\"/>\n",
       "<polyline clip-path=\"url(#clip112)\" style=\"stroke:#000000; stroke-linecap:round; stroke-linejoin:round; stroke-width:4; stroke-opacity:1; fill:none\" points=\"\n",
       "  994.015,287.447 983.262,268.821 961.754,268.821 951.001,287.447 961.754,306.072 983.262,306.072 994.015,287.447 \n",
       "  \"/>\n",
       "<path clip-path=\"url(#clip112)\" d=\"M662.317 921.49 L661.971 921.29 L661.971 920.89 L662.317 920.69 L662.664 920.89 L662.664 921.29 Z\" fill=\"#009af9\" fill-rule=\"evenodd\" fill-opacity=\"1\" stroke=\"#000000\" stroke-opacity=\"1\" stroke-width=\"3.2\"/>\n",
       "<path clip-path=\"url(#clip112)\" d=\"M702.507 548.017 L702.161 547.817 L702.161 547.417 L702.507 547.217 L702.854 547.417 L702.854 547.817 Z\" fill=\"#009af9\" fill-rule=\"evenodd\" fill-opacity=\"1\" stroke=\"#000000\" stroke-opacity=\"1\" stroke-width=\"3.2\"/>\n",
       "<path clip-path=\"url(#clip112)\" d=\"M1572.64 1186.28 L1572.29 1186.08 L1572.29 1185.68 L1572.64 1185.48 L1572.98 1185.68 L1572.98 1186.08 Z\" fill=\"#009af9\" fill-rule=\"evenodd\" fill-opacity=\"1\" stroke=\"#000000\" stroke-opacity=\"1\" stroke-width=\"3.2\"/>\n",
       "<path clip-path=\"url(#clip112)\" d=\"M1193.64 790.159 L1193.29 789.959 L1193.29 789.559 L1193.64 789.359 L1193.98 789.559 L1193.98 789.959 Z\" fill=\"#009af9\" fill-rule=\"evenodd\" fill-opacity=\"1\" stroke=\"#000000\" stroke-opacity=\"1\" stroke-width=\"3.2\"/>\n",
       "<path clip-path=\"url(#clip112)\" d=\"M870.743 1233.51 L870.396 1233.31 L870.396 1232.91 L870.743 1232.71 L871.089 1232.91 L871.089 1233.31 Z\" fill=\"#009af9\" fill-rule=\"evenodd\" fill-opacity=\"1\" stroke=\"#000000\" stroke-opacity=\"1\" stroke-width=\"3.2\"/>\n",
       "<path clip-path=\"url(#clip112)\" d=\"M1345.98 262.717 L1345.63 262.517 L1345.63 262.117 L1345.98 261.917 L1346.33 262.117 L1346.33 262.517 Z\" fill=\"#009af9\" fill-rule=\"evenodd\" fill-opacity=\"1\" stroke=\"#000000\" stroke-opacity=\"1\" stroke-width=\"3.2\"/>\n",
       "<path clip-path=\"url(#clip112)\" d=\"M1737.68 849.125 L1737.34 848.925 L1737.34 848.525 L1737.68 848.325 L1738.03 848.525 L1738.03 848.925 Z\" fill=\"#009af9\" fill-rule=\"evenodd\" fill-opacity=\"1\" stroke=\"#000000\" stroke-opacity=\"1\" stroke-width=\"3.2\"/>\n",
       "<path clip-path=\"url(#clip112)\" d=\"M1648.17 484.384 L1647.82 484.184 L1647.82 483.784 L1648.17 483.584 L1648.52 483.784 L1648.52 484.184 Z\" fill=\"#009af9\" fill-rule=\"evenodd\" fill-opacity=\"1\" stroke=\"#000000\" stroke-opacity=\"1\" stroke-width=\"3.2\"/>\n",
       "<path clip-path=\"url(#clip112)\" d=\"M1230.26 1338.08 L1229.91 1337.88 L1229.91 1337.48 L1230.26 1337.28 L1230.6 1337.48 L1230.6 1337.88 Z\" fill=\"#009af9\" fill-rule=\"evenodd\" fill-opacity=\"1\" stroke=\"#000000\" stroke-opacity=\"1\" stroke-width=\"3.2\"/>\n",
       "<path clip-path=\"url(#clip112)\" d=\"M972.508 287.847 L972.162 287.647 L972.162 287.247 L972.508 287.047 L972.854 287.247 L972.854 287.647 Z\" fill=\"#009af9\" fill-rule=\"evenodd\" fill-opacity=\"1\" stroke=\"#000000\" stroke-opacity=\"1\" stroke-width=\"3.2\"/>\n",
       "</svg>\n"
      ]
     },
     "execution_count": 16,
     "metadata": {},
     "output_type": "execute_result"
    }
   ],
   "source": [
    "graphplot(g3, curves=false)"
   ]
  },
  {
   "cell_type": "code",
   "execution_count": 37,
   "id": "2e5b024a-03c2-4dce-8f16-4b657fb0baef",
   "metadata": {},
   "outputs": [
    {
     "data": {
      "text/plain": [
       "{0, 0} undirected simple Int64 graph"
      ]
     },
     "execution_count": 37,
     "metadata": {},
     "output_type": "execute_result"
    }
   ],
   "source": [
    "g2 = SimpleGraph()"
   ]
  },
  {
   "cell_type": "code",
   "execution_count": 38,
   "id": "dfe8def4-d51c-4ea0-ac1a-e0fbb78b5638",
   "metadata": {},
   "outputs": [
    {
     "ename": "LoadError",
     "evalue": "MethodError: reducing over an empty collection is not allowed; consider supplying `init` to the reducer",
     "output_type": "error",
     "traceback": [
      "MethodError: reducing over an empty collection is not allowed; consider supplying `init` to the reducer",
      "",
      "Stacktrace:",
      "  [1] mapreduce_empty(#unused#::typeof(identity), op::Function, T::Type)",
      "    @ Base ./reduce.jl:367",
      "  [2] reduce_empty(op::Base.MappingRF{typeof(identity), typeof(max)}, #unused#::Type{Int64})",
      "    @ Base ./reduce.jl:356",
      "  [3] reduce_empty_iter",
      "    @ ./reduce.jl:379 [inlined]",
      "  [4] mapreduce_empty_iter(f::Function, op::Function, itr::Vector{Int64}, ItrEltype::Base.HasEltype)",
      "    @ Base ./reduce.jl:375",
      "  [5] _mapreduce",
      "    @ ./reduce.jl:427 [inlined]",
      "  [6] _mapreduce_dim",
      "    @ ./reducedim.jl:365 [inlined]",
      "  [7] #mapreduce#765",
      "    @ ./reducedim.jl:357 [inlined]",
      "  [8] mapreduce",
      "    @ ./reducedim.jl:357 [inlined]",
      "  [9] #_maximum#783",
      "    @ ./reducedim.jl:999 [inlined]",
      " [10] _maximum",
      "    @ ./reducedim.jl:999 [inlined]",
      " [11] #_maximum#782",
      "    @ ./reducedim.jl:998 [inlined]",
      " [12] _maximum",
      "    @ ./reducedim.jl:998 [inlined]",
      " [13] #maximum#780",
      "    @ ./reducedim.jl:994 [inlined]",
      " [14] maximum",
      "    @ ./reducedim.jl:994 [inlined]",
      " [15] _broadcast_getindex_evalf",
      "    @ ./broadcast.jl:670 [inlined]",
      " [16] _broadcast_getindex",
      "    @ ./broadcast.jl:643 [inlined]",
      " [17] #29",
      "    @ ./broadcast.jl:1075 [inlined]",
      " [18] ntuple",
      "    @ ./ntuple.jl:49 [inlined]",
      " [19] copy(bc::Base.Broadcast.Broadcasted{Base.Broadcast.Style{Tuple}, Nothing, typeof(maximum), Tuple{Tuple{Vector{Int64}, Vector{Int64}}}})",
      "    @ Base.Broadcast ./broadcast.jl:1075",
      " [20] materialize",
      "    @ ./broadcast.jl:860 [inlined]",
      " [21] infer_size_from(::Vector{Int64}, ::Vararg{Vector{Int64}})",
      "    @ GraphRecipes ~/.julia/packages/GraphRecipes/rzVTu/src/graph_layouts.jl:3",
      " [22] macro expansion",
      "    @ ~/.julia/packages/GraphRecipes/rzVTu/src/graphs.jl:432 [inlined]",
      " [23] apply_recipe(plotattributes::AbstractDict{Symbol, Any}, g::GraphRecipes.GraphPlot)",
      "    @ GraphRecipes ~/.julia/packages/RecipesBase/6AijY/src/RecipesBase.jl:299",
      " [24] _process_userrecipes!(plt::Any, plotattributes::Any, args::Any)",
      "    @ RecipesPipeline ~/.julia/packages/RecipesPipeline/XxUHt/src/user_recipe.jl:38",
      " [25] recipe_pipeline!(plt::Any, plotattributes::Any, args::Any)",
      "    @ RecipesPipeline ~/.julia/packages/RecipesPipeline/XxUHt/src/RecipesPipeline.jl:72",
      " [26] _plot!(plt::Plots.Plot, plotattributes::Any, args::Any)",
      "    @ Plots ~/.julia/packages/Plots/Pn7Zn/src/plot.jl:223",
      " [27] plot(args::Any; kw::Base.Pairs{Symbol, V, Tuple{Vararg{Symbol, N}}, NamedTuple{names, T}} where {V, N, names, T<:Tuple{Vararg{Any, N}}})",
      "    @ Plots ~/.julia/packages/Plots/Pn7Zn/src/plot.jl:102",
      " [28] plot",
      "    @ ~/.julia/packages/Plots/Pn7Zn/src/plot.jl:93 [inlined]",
      " [29] #graphplot#80",
      "    @ ~/.julia/packages/RecipesBase/6AijY/src/RecipesBase.jl:379 [inlined]",
      " [30] graphplot(args::SimpleGraph{Int64})",
      "    @ GraphRecipes ~/.julia/packages/RecipesBase/6AijY/src/RecipesBase.jl:379",
      " [31] top-level scope",
      "    @ In[38]:1",
      " [32] eval",
      "    @ ./boot.jl:368 [inlined]",
      " [33] include_string(mapexpr::typeof(REPL.softscope), mod::Module, code::String, filename::String)",
      "    @ Base ./loading.jl:1428"
     ]
    }
   ],
   "source": [
    "graphplot(g2)"
   ]
  },
  {
   "cell_type": "code",
   "execution_count": 39,
   "id": "e7353b1b-6494-44a8-8f85-149ebb1b013b",
   "metadata": {},
   "outputs": [
    {
     "data": {
      "text/plain": [
       "true"
      ]
     },
     "execution_count": 39,
     "metadata": {},
     "output_type": "execute_result"
    }
   ],
   "source": [
    "add_vertices!(g2,3)\n",
    "add_edge!(g2,1,2)\n",
    "add_edge!(g2,2,3)\n",
    "add_edge!(g2,3,1)"
   ]
  },
  {
   "cell_type": "code",
   "execution_count": 40,
   "id": "f32fab16-539a-4787-8ee9-01f7c46ebeee",
   "metadata": {},
   "outputs": [
    {
     "data": {
      "image/svg+xml": [
       "<?xml version=\"1.0\" encoding=\"utf-8\"?>\n",
       "<svg xmlns=\"http://www.w3.org/2000/svg\" xmlns:xlink=\"http://www.w3.org/1999/xlink\" width=\"600\" height=\"400\" viewBox=\"0 0 2400 1600\">\n",
       "<defs>\n",
       "  <clipPath id=\"clip360\">\n",
       "    <rect x=\"0\" y=\"0\" width=\"2400\" height=\"1600\"/>\n",
       "  </clipPath>\n",
       "</defs>\n",
       "<path clip-path=\"url(#clip360)\" d=\"\n",
       "M0 1600 L2400 1600 L2400 0 L0 0  Z\n",
       "  \" fill=\"#ffffff\" fill-rule=\"evenodd\" fill-opacity=\"1\"/>\n",
       "<defs>\n",
       "  <clipPath id=\"clip361\">\n",
       "    <rect x=\"480\" y=\"0\" width=\"1681\" height=\"1600\"/>\n",
       "  </clipPath>\n",
       "</defs>\n",
       "<path clip-path=\"url(#clip360)\" d=\"\n",
       "M447.244 1552.76 L1952.76 1552.76 L1952.76 47.2441 L447.244 47.2441  Z\n",
       "  \" fill=\"#ffffff\" fill-rule=\"evenodd\" fill-opacity=\"1\"/>\n",
       "<defs>\n",
       "  <clipPath id=\"clip362\">\n",
       "    <rect x=\"447\" y=\"47\" width=\"1507\" height=\"1507\"/>\n",
       "  </clipPath>\n",
       "</defs>\n",
       "<polyline clip-path=\"url(#clip362)\" style=\"stroke:#000000; stroke-linecap:round; stroke-linejoin:round; stroke-width:4; stroke-opacity:1; fill:none\" points=\"\n",
       "  662.317,508.257 675.094,527.384 687.88,546.504 700.682,565.609 713.508,584.692 726.367,603.746 739.266,622.763 752.215,641.736 765.22,660.658 778.291,679.521 \n",
       "  791.435,698.318 804.661,717.042 817.977,735.685 831.39,754.24 844.91,772.7 858.543,791.057 872.299,809.304 886.185,827.434 900.21,845.439 914.382,863.312 \n",
       "  928.709,881.045 943.199,898.632 957.86,916.065 972.701,933.336 987.729,950.439 1002.95,967.366 1018.37,984.117 1033.98,1000.7 1049.76,1017.12 1065.72,1033.39 \n",
       "  1081.84,1049.51 1098.12,1065.49 1114.54,1081.34 1131.1,1097.06 1147.79,1112.67 1164.6,1128.17 1181.53,1143.56 1198.57,1158.86 1215.7,1174.07 1232.92,1189.2 \n",
       "  1250.22,1204.26 1267.6,1219.25 1285.04,1234.18 1302.54,1249.06 1320.08,1263.9 1337.67,1278.7 1355.29,1293.47 1372.94,1308.22 1390.6,1322.96 1408.27,1337.68 \n",
       "  \n",
       "  \"/>\n",
       "<polyline clip-path=\"url(#clip362)\" style=\"stroke:#000000; stroke-linecap:round; stroke-linejoin:round; stroke-width:4; stroke-opacity:1; fill:none\" points=\"\n",
       "  662.317,508.257 684.997,506.445 707.674,504.623 730.347,502.779 753.012,500.903 775.667,498.984 798.31,497.012 820.939,494.975 843.55,492.864 866.142,490.667 \n",
       "  888.711,488.374 911.257,485.974 933.775,483.456 956.264,480.811 978.721,478.026 1001.14,475.091 1023.53,471.996 1045.88,468.73 1068.18,465.282 1090.44,461.642 \n",
       "  1112.66,457.798 1134.83,453.741 1156.94,449.459 1179,444.942 1201.01,440.179 1222.95,435.16 1244.84,429.885 1266.67,424.363 1288.45,418.607 1310.18,412.626 \n",
       "  1331.85,406.431 1353.48,400.033 1375.07,393.442 1396.62,386.67 1418.12,379.727 1439.59,372.623 1461.03,365.369 1482.43,357.977 1503.8,350.456 1525.15,342.818 \n",
       "  1546.47,335.072 1567.78,327.231 1589.06,319.304 1610.32,311.302 1631.57,303.236 1652.81,295.116 1674.03,286.954 1695.25,278.759 1716.47,270.544 1737.68,262.317 \n",
       "  \n",
       "  \"/>\n",
       "<polyline clip-path=\"url(#clip362)\" style=\"stroke:#000000; stroke-linecap:round; stroke-linejoin:round; stroke-width:4; stroke-opacity:1; fill:none\" points=\"\n",
       "  1408.27,1337.68 1418.14,1316.7 1428,1295.71 1437.83,1274.72 1447.64,1253.72 1457.4,1232.71 1467.12,1211.67 1476.76,1190.62 1486.34,1169.55 1495.83,1148.45 \n",
       "  1505.23,1127.33 1514.52,1106.17 1523.69,1084.97 1532.74,1063.74 1541.66,1042.46 1550.43,1021.14 1559.04,999.777 1567.48,978.357 1575.74,956.883 1583.82,935.351 \n",
       "  1591.69,913.758 1599.36,892.101 1606.8,870.376 1614.02,848.581 1620.99,826.712 1627.72,804.765 1634.19,782.742 1640.42,760.645 1646.42,738.477 1652.2,716.242 \n",
       "  1657.77,693.943 1663.14,671.582 1668.32,649.164 1673.32,626.691 1678.16,604.166 1682.83,581.594 1687.37,558.976 1691.76,536.317 1696.03,513.619 1700.18,490.886 \n",
       "  1704.23,468.121 1708.19,445.326 1712.06,422.506 1715.85,399.664 1719.59,376.802 1723.27,353.925 1726.91,331.034 1730.52,308.134 1734.11,285.227 1737.68,262.317 \n",
       "  \n",
       "  \"/>\n",
       "<path clip-path=\"url(#clip362)\" d=\"\n",
       "M708.916 508.257 L685.617 467.901 L639.018 467.901 L615.718 508.257 L639.018 548.613 L685.617 548.613 L708.916 508.257 L708.916 508.257  Z\n",
       "  \" fill=\"#009af9\" fill-rule=\"evenodd\" fill-opacity=\"1\"/>\n",
       "<polyline clip-path=\"url(#clip362)\" style=\"stroke:#000000; stroke-linecap:round; stroke-linejoin:round; stroke-width:4; stroke-opacity:1; fill:none\" points=\"\n",
       "  708.916,508.257 685.617,467.901 639.018,467.901 615.718,508.257 639.018,548.613 685.617,548.613 708.916,508.257 \n",
       "  \"/>\n",
       "<path clip-path=\"url(#clip362)\" d=\"\n",
       "M1454.87 1337.68 L1431.57 1297.33 L1384.97 1297.33 L1361.67 1337.68 L1384.97 1378.04 L1431.57 1378.04 L1454.87 1337.68 L1454.87 1337.68  Z\n",
       "  \" fill=\"#009af9\" fill-rule=\"evenodd\" fill-opacity=\"1\"/>\n",
       "<polyline clip-path=\"url(#clip362)\" style=\"stroke:#000000; stroke-linecap:round; stroke-linejoin:round; stroke-width:4; stroke-opacity:1; fill:none\" points=\"\n",
       "  1454.87,1337.68 1431.57,1297.33 1384.97,1297.33 1361.67,1337.68 1384.97,1378.04 1431.57,1378.04 1454.87,1337.68 \n",
       "  \"/>\n",
       "<path clip-path=\"url(#clip362)\" d=\"\n",
       "M1784.28 262.317 L1760.98 221.961 L1714.38 221.961 L1691.08 262.317 L1714.38 302.673 L1760.98 302.673 L1784.28 262.317 L1784.28 262.317  Z\n",
       "  \" fill=\"#009af9\" fill-rule=\"evenodd\" fill-opacity=\"1\"/>\n",
       "<polyline clip-path=\"url(#clip362)\" style=\"stroke:#000000; stroke-linecap:round; stroke-linejoin:round; stroke-width:4; stroke-opacity:1; fill:none\" points=\"\n",
       "  1784.28,262.317 1760.98,221.961 1714.38,221.961 1691.08,262.317 1714.38,302.673 1760.98,302.673 1784.28,262.317 \n",
       "  \"/>\n",
       "<path clip-path=\"url(#clip362)\" d=\"M662.317 508.657 L661.971 508.457 L661.971 508.057 L662.317 507.857 L662.664 508.057 L662.664 508.457 Z\" fill=\"#009af9\" fill-rule=\"evenodd\" fill-opacity=\"1\" stroke=\"#000000\" stroke-opacity=\"1\" stroke-width=\"3.2\"/>\n",
       "<path clip-path=\"url(#clip362)\" d=\"M1408.27 1338.08 L1407.92 1337.88 L1407.92 1337.48 L1408.27 1337.28 L1408.62 1337.48 L1408.62 1337.88 Z\" fill=\"#009af9\" fill-rule=\"evenodd\" fill-opacity=\"1\" stroke=\"#000000\" stroke-opacity=\"1\" stroke-width=\"3.2\"/>\n",
       "<path clip-path=\"url(#clip362)\" d=\"M1737.68 262.717 L1737.34 262.517 L1737.34 262.117 L1737.68 261.917 L1738.03 262.117 L1738.03 262.517 Z\" fill=\"#009af9\" fill-rule=\"evenodd\" fill-opacity=\"1\" stroke=\"#000000\" stroke-opacity=\"1\" stroke-width=\"3.2\"/>\n",
       "</svg>\n"
      ]
     },
     "execution_count": 40,
     "metadata": {},
     "output_type": "execute_result"
    }
   ],
   "source": [
    "graphplot(g2)"
   ]
  },
  {
   "cell_type": "markdown",
   "id": "7f5f5a6f-dee6-432c-91b1-1b461eba91c2",
   "metadata": {},
   "source": [
    "Now we will use a user-defined package to handle weighted graphs. Take a look at the code."
   ]
  },
  {
   "cell_type": "code",
   "execution_count": 3,
   "id": "90be380d-e935-4044-a3fa-ece4675bb6e6",
   "metadata": {
    "tags": []
   },
   "outputs": [],
   "source": [
    "using Revise"
   ]
  },
  {
   "cell_type": "code",
   "execution_count": 4,
   "id": "42b79e80-1ae0-41ef-907c-e7b98c79a8da",
   "metadata": {},
   "outputs": [],
   "source": [
    "includet(\"../julia-files/WeightedGraphs.jl\")\n",
    "using .WeightedGraphs"
   ]
  },
  {
   "cell_type": "markdown",
   "id": "1579ad3d-6121-45df-9eb7-f094c5c314eb",
   "metadata": {},
   "source": [
    "The package has a Vertex, which has a name (as a Symbol)"
   ]
  },
  {
   "cell_type": "code",
   "execution_count": 5,
   "id": "079f0609-1402-4cf1-8afa-d4443d08dbdf",
   "metadata": {},
   "outputs": [
    {
     "data": {
      "text/plain": [
       "Vertex(:C)"
      ]
     },
     "execution_count": 5,
     "metadata": {},
     "output_type": "execute_result"
    }
   ],
   "source": [
    "v1 = Vertex(:A)\n",
    "v2 = Vertex(:B)\n",
    "v3 = Vertex(:C)"
   ]
  },
  {
   "cell_type": "markdown",
   "id": "76eff765-eb9c-4710-b673-0e8fab980884",
   "metadata": {},
   "source": [
    "Consider a `WeightedGraph`"
   ]
  },
  {
   "cell_type": "code",
   "execution_count": 6,
   "id": "764048ff-269c-498e-a0e9-fc9b0b3c15cb",
   "metadata": {},
   "outputs": [
    {
     "data": {
      "text/plain": [
       "WeightedGraph(Vertex[], Edge[], Graphs.SimpleGraphs.SimpleGraph{Int64}(0, Vector{Int64}[]))"
      ]
     },
     "execution_count": 6,
     "metadata": {},
     "output_type": "execute_result"
    }
   ],
   "source": [
    "g = WeightedGraph()"
   ]
  },
  {
   "cell_type": "markdown",
   "id": "74fb05a0-ad2e-4995-bcb4-7a05c5a195b3",
   "metadata": {},
   "source": [
    "Add the three vertices defined above."
   ]
  },
  {
   "cell_type": "code",
   "execution_count": 7,
   "id": "0d74bca6-fcb2-4b5d-8612-37cd26164ca3",
   "metadata": {},
   "outputs": [
    {
     "data": {
      "text/plain": [
       "3-element Vector{Vertex}:\n",
       " Vertex(:A)\n",
       " Vertex(:B)\n",
       " Vertex(:C)"
      ]
     },
     "execution_count": 7,
     "metadata": {},
     "output_type": "execute_result"
    }
   ],
   "source": [
    "addVertex!(g,v1)\n",
    "addVertex!(g,v2)\n",
    "addVertex!(g,v3)"
   ]
  },
  {
   "cell_type": "markdown",
   "id": "b3b17fa3-e906-4208-9e11-3c910621181b",
   "metadata": {},
   "source": [
    "Since `Edge` is also in the `Graphs` package, we clarify that we want the one in the `WeightedGraphs` package:"
   ]
  },
  {
   "cell_type": "code",
   "execution_count": 8,
   "id": "f1aaa369-e742-4d07-a6a6-720a8ce59884",
   "metadata": {},
   "outputs": [
    {
     "data": {
      "text/plain": [
       "Edge(:C, :A, 7)"
      ]
     },
     "execution_count": 8,
     "metadata": {},
     "output_type": "execute_result"
    }
   ],
   "source": [
    "e1 = WeightedGraphs.Edge(:A,:B,3)\n",
    "e2 = WeightedGraphs.Edge(:B,:C,5)\n",
    "e3 = WeightedGraphs.Edge(:C,:A,7)"
   ]
  },
  {
   "cell_type": "markdown",
   "id": "7ccd2c84-96f0-4ce6-8140-c45297aaa629",
   "metadata": {},
   "source": [
    "Add the three edges"
   ]
  },
  {
   "cell_type": "code",
   "execution_count": 9,
   "id": "d76c6cad-3ceb-45cd-9735-304b28ac87b0",
   "metadata": {},
   "outputs": [
    {
     "data": {
      "text/plain": [
       "true"
      ]
     },
     "execution_count": 9,
     "metadata": {},
     "output_type": "execute_result"
    }
   ],
   "source": [
    "addEdge!(g,e1)\n",
    "addEdge!(g,e2)\n",
    "addEdge!(g,e3)"
   ]
  },
  {
   "cell_type": "code",
   "execution_count": 13,
   "id": "6cca4339-2627-4ddb-a2f5-89f30ab49586",
   "metadata": {},
   "outputs": [
    {
     "data": {
      "image/svg+xml": [
       "<?xml version=\"1.0\" encoding=\"utf-8\"?>\n",
       "<svg xmlns=\"http://www.w3.org/2000/svg\" xmlns:xlink=\"http://www.w3.org/1999/xlink\" width=\"600\" height=\"400\" viewBox=\"0 0 2400 1600\">\n",
       "<defs>\n",
       "  <clipPath id=\"clip050\">\n",
       "    <rect x=\"0\" y=\"0\" width=\"2400\" height=\"1600\"/>\n",
       "  </clipPath>\n",
       "</defs>\n",
       "<path clip-path=\"url(#clip050)\" d=\"\n",
       "M0 1600 L2400 1600 L2400 0 L0 0  Z\n",
       "  \" fill=\"#ffffff\" fill-rule=\"evenodd\" fill-opacity=\"1\"/>\n",
       "<defs>\n",
       "  <clipPath id=\"clip051\">\n",
       "    <rect x=\"480\" y=\"0\" width=\"1681\" height=\"1600\"/>\n",
       "  </clipPath>\n",
       "</defs>\n",
       "<path clip-path=\"url(#clip050)\" d=\"\n",
       "M447.244 1552.76 L1952.76 1552.76 L1952.76 47.2441 L447.244 47.2441  Z\n",
       "  \" fill=\"#ffffff\" fill-rule=\"evenodd\" fill-opacity=\"1\"/>\n",
       "<defs>\n",
       "  <clipPath id=\"clip052\">\n",
       "    <rect x=\"447\" y=\"47\" width=\"1507\" height=\"1507\"/>\n",
       "  </clipPath>\n",
       "</defs>\n",
       "<polyline clip-path=\"url(#clip052)\" style=\"stroke:#000000; stroke-linecap:round; stroke-linejoin:round; stroke-width:4; stroke-opacity:1; fill:none\" points=\"\n",
       "  1009.55,1337.68 999.329,1316.75 989.122,1295.81 978.936,1274.86 968.782,1253.91 958.669,1232.94 948.608,1211.95 938.61,1190.95 928.685,1169.92 918.844,1148.86 \n",
       "  909.096,1127.77 899.453,1106.65 889.924,1085.5 880.521,1064.3 871.254,1043.06 862.133,1021.77 853.168,1000.43 844.37,979.033 835.75,957.582 827.318,936.07 \n",
       "  819.084,914.495 811.058,892.852 803.252,871.138 795.676,849.35 788.34,827.484 781.253,805.538 774.417,783.511 767.821,761.407 761.454,739.228 755.307,716.979 \n",
       "  749.368,694.662 743.628,672.281 738.076,649.839 732.701,627.341 727.493,604.788 722.442,582.184 717.536,559.534 712.767,536.84 708.123,514.105 703.593,491.333 \n",
       "  699.168,468.528 694.837,445.692 690.589,422.829 686.415,399.942 682.303,377.036 678.243,354.112 674.225,331.175 670.238,308.228 666.273,285.274 662.317,262.317 \n",
       "  \n",
       "  \"/>\n",
       "<polyline clip-path=\"url(#clip052)\" style=\"stroke:#000000; stroke-linecap:round; stroke-linejoin:round; stroke-width:4; stroke-opacity:1; fill:none\" points=\"\n",
       "  1009.55,1337.68 1026.9,1322.51 1044.25,1307.34 1061.58,1292.15 1078.89,1276.94 1096.16,1261.7 1113.39,1246.42 1130.57,1231.11 1147.7,1215.74 1164.76,1200.31 \n",
       "  1181.74,1184.82 1198.64,1169.26 1215.44,1153.62 1232.15,1137.9 1248.75,1122.08 1265.23,1106.16 1281.59,1090.14 1297.81,1074 1313.9,1057.73 1329.83,1041.34 \n",
       "  1345.61,1024.82 1361.21,1008.15 1376.65,991.332 1391.9,974.356 1406.96,957.216 1421.82,939.905 1436.48,922.423 1450.95,904.776 1465.23,886.973 1479.34,869.019 \n",
       "  1493.29,850.922 1507.08,832.69 1520.71,814.329 1534.21,795.846 1547.57,777.25 1560.81,758.546 1573.93,739.742 1586.94,720.845 1599.85,701.862 1612.68,682.801 \n",
       "  1625.41,663.669 1638.08,644.472 1650.67,625.218 1663.21,605.914 1675.7,586.567 1688.15,567.184 1700.56,547.773 1712.95,528.34 1725.32,508.893 1737.68,489.439 \n",
       "  \n",
       "  \"/>\n",
       "<polyline clip-path=\"url(#clip052)\" style=\"stroke:#000000; stroke-linecap:round; stroke-linejoin:round; stroke-width:4; stroke-opacity:1; fill:none\" points=\"\n",
       "  662.317,262.317 683.584,270.171 704.852,278.015 726.125,285.837 747.405,293.627 768.694,301.374 789.995,309.067 811.309,316.696 832.638,324.25 853.986,331.718 \n",
       "  875.355,339.089 896.746,346.353 918.162,353.499 939.605,360.516 961.077,367.394 982.582,374.121 1004.12,380.687 1025.69,387.082 1047.31,393.294 1068.96,399.313 \n",
       "  1090.66,405.129 1112.4,410.729 1134.19,416.104 1156.03,421.243 1177.92,426.136 1199.87,430.771 1221.87,435.149 1243.92,439.28 1266.02,443.175 1288.17,446.845 \n",
       "  1310.37,450.3 1332.61,453.551 1354.89,456.609 1377.21,459.485 1399.56,462.189 1421.95,464.732 1444.37,467.124 1466.82,469.377 1489.29,471.502 1511.8,473.508 \n",
       "  1534.32,475.407 1556.86,477.209 1579.43,478.926 1602.01,480.567 1624.6,482.144 1647.2,483.668 1669.81,485.148 1692.43,486.596 1715.06,488.023 1737.68,489.439 \n",
       "  \n",
       "  \"/>\n",
       "<path clip-path=\"url(#clip052)\" d=\"\n",
       "M762.182 852.654 L807.347 852.654 L807.347 780.389 L762.182 780.389 L762.182 852.654 L762.182 852.654  Z\n",
       "  \" fill=\"#ffffff\" fill-rule=\"evenodd\" fill-opacity=\"1\"/>\n",
       "<polyline clip-path=\"url(#clip052)\" style=\"stroke:#000000; stroke-linecap:round; stroke-linejoin:round; stroke-width:0; stroke-opacity:0; fill:none\" points=\"\n",
       "  762.182,852.654 807.347,852.654 807.347,780.389 762.182,780.389 762.182,852.654 \n",
       "  \"/>\n",
       "<path clip-path=\"url(#clip052)\" d=\"\n",
       "M1391.83 984.715 L1437 984.715 L1437 912.45 L1391.83 912.45 L1391.83 984.715 L1391.83 984.715  Z\n",
       "  \" fill=\"#ffffff\" fill-rule=\"evenodd\" fill-opacity=\"1\"/>\n",
       "<polyline clip-path=\"url(#clip052)\" style=\"stroke:#000000; stroke-linecap:round; stroke-linejoin:round; stroke-width:0; stroke-opacity:0; fill:none\" points=\"\n",
       "  1391.83,984.715 1437,984.715 1437,912.45 1391.83,912.45 1391.83,984.715 \n",
       "  \"/>\n",
       "<path clip-path=\"url(#clip052)\" d=\"\n",
       "M1166.31 464.618 L1211.47 464.618 L1211.47 392.354 L1166.31 392.354 L1166.31 464.618 L1166.31 464.618  Z\n",
       "  \" fill=\"#ffffff\" fill-rule=\"evenodd\" fill-opacity=\"1\"/>\n",
       "<polyline clip-path=\"url(#clip052)\" style=\"stroke:#000000; stroke-linecap:round; stroke-linejoin:round; stroke-width:0; stroke-opacity:0; fill:none\" points=\"\n",
       "  1166.31,464.618 1211.47,464.618 1211.47,392.354 1166.31,392.354 1166.31,464.618 \n",
       "  \"/>\n",
       "<path clip-path=\"url(#clip052)\" d=\"\n",
       "M1048.69 1337.68 L1029.12 1303.78 L989.974 1303.78 L970.403 1337.68 L989.974 1371.58 L1029.12 1371.58 L1048.69 1337.68 L1048.69 1337.68  Z\n",
       "  \" fill=\"#009af9\" fill-rule=\"evenodd\" fill-opacity=\"1\"/>\n",
       "<polyline clip-path=\"url(#clip052)\" style=\"stroke:#000000; stroke-linecap:round; stroke-linejoin:round; stroke-width:4; stroke-opacity:1; fill:none\" points=\"\n",
       "  1048.69,1337.68 1029.12,1303.78 989.974,1303.78 970.403,1337.68 989.974,1371.58 1029.12,1371.58 1048.69,1337.68 \n",
       "  \"/>\n",
       "<path clip-path=\"url(#clip052)\" d=\"\n",
       "M701.461 262.317 L681.889 228.418 L642.746 228.418 L623.174 262.317 L642.746 296.216 L681.889 296.216 L701.461 262.317 L701.461 262.317  Z\n",
       "  \" fill=\"#009af9\" fill-rule=\"evenodd\" fill-opacity=\"1\"/>\n",
       "<polyline clip-path=\"url(#clip052)\" style=\"stroke:#000000; stroke-linecap:round; stroke-linejoin:round; stroke-width:4; stroke-opacity:1; fill:none\" points=\"\n",
       "  701.461,262.317 681.889,228.418 642.746,228.418 623.174,262.317 642.746,296.216 681.889,296.216 701.461,262.317 \n",
       "  \"/>\n",
       "<path clip-path=\"url(#clip052)\" d=\"\n",
       "M1776.83 489.439 L1757.25 455.54 L1718.11 455.54 L1698.54 489.439 L1718.11 523.338 L1757.25 523.338 L1776.83 489.439 L1776.83 489.439  Z\n",
       "  \" fill=\"#009af9\" fill-rule=\"evenodd\" fill-opacity=\"1\"/>\n",
       "<polyline clip-path=\"url(#clip052)\" style=\"stroke:#000000; stroke-linecap:round; stroke-linejoin:round; stroke-width:4; stroke-opacity:1; fill:none\" points=\"\n",
       "  1776.83,489.439 1757.25,455.54 1718.11,455.54 1698.54,489.439 1718.11,523.338 1757.25,523.338 1776.83,489.439 \n",
       "  \"/>\n",
       "<path clip-path=\"url(#clip052)\" d=\"M1009.55 1338.08 L1009.2 1337.88 L1009.2 1337.48 L1009.55 1337.28 L1009.89 1337.48 L1009.89 1337.88 Z\" fill=\"#009af9\" fill-rule=\"evenodd\" fill-opacity=\"1\" stroke=\"#000000\" stroke-opacity=\"1\" stroke-width=\"3.2\"/>\n",
       "<path clip-path=\"url(#clip052)\" d=\"M662.317 262.717 L661.971 262.517 L661.971 262.117 L662.317 261.917 L662.664 262.117 L662.664 262.517 Z\" fill=\"#009af9\" fill-rule=\"evenodd\" fill-opacity=\"1\" stroke=\"#000000\" stroke-opacity=\"1\" stroke-width=\"3.2\"/>\n",
       "<path clip-path=\"url(#clip052)\" d=\"M1737.68 489.839 L1737.34 489.639 L1737.34 489.239 L1737.68 489.039 L1738.03 489.239 L1738.03 489.639 Z\" fill=\"#009af9\" fill-rule=\"evenodd\" fill-opacity=\"1\" stroke=\"#000000\" stroke-opacity=\"1\" stroke-width=\"3.2\"/>\n",
       "<path clip-path=\"url(#clip050)\" d=\"M788.481 815.337 Q791.418 815.965 793.059 817.949 Q794.72 819.934 794.72 822.851 Q794.72 827.327 791.641 829.778 Q788.562 832.229 782.891 832.229 Q780.987 832.229 778.962 831.844 Q776.957 831.479 774.81 830.73 L774.81 826.78 Q776.511 827.773 778.536 828.279 Q780.562 828.786 782.77 828.786 Q786.618 828.786 788.623 827.267 Q790.649 825.747 790.649 822.851 Q790.649 820.177 788.765 818.679 Q786.901 817.16 783.559 817.16 L780.035 817.16 L780.035 813.797 L783.722 813.797 Q786.739 813.797 788.34 812.602 Q789.94 811.387 789.94 809.118 Q789.94 806.789 788.279 805.554 Q786.638 804.298 783.559 804.298 Q781.878 804.298 779.954 804.663 Q778.03 805.027 775.721 805.797 L775.721 802.151 Q778.05 801.503 780.076 801.179 Q782.121 800.855 783.924 800.855 Q788.583 800.855 791.297 802.981 Q794.011 805.088 794.011 808.693 Q794.011 811.205 792.573 812.947 Q791.135 814.668 788.481 815.337 Z\" fill=\"#000000\" fill-rule=\"evenodd\" fill-opacity=\"1\" /><path clip-path=\"url(#clip050)\" d=\"M1404.69 933.463 L1424.14 933.463 L1424.14 935.205 L1413.16 963.703 L1408.88 963.703 L1419.21 936.906 L1404.69 936.906 L1404.69 933.463 Z\" fill=\"#000000\" fill-rule=\"evenodd\" fill-opacity=\"1\" /><path clip-path=\"url(#clip050)\" d=\"M1180.38 413.366 L1196.44 413.366 L1196.44 416.809 L1184.13 416.809 L1184.13 424.222 Q1185.02 423.919 1185.91 423.777 Q1186.8 423.615 1187.69 423.615 Q1192.76 423.615 1195.71 426.39 Q1198.67 429.164 1198.67 433.904 Q1198.67 438.785 1195.63 441.499 Q1192.6 444.193 1187.07 444.193 Q1185.16 444.193 1183.18 443.869 Q1181.21 443.545 1179.11 442.897 L1179.11 438.785 Q1180.93 439.778 1182.87 440.264 Q1184.82 440.75 1186.99 440.75 Q1190.49 440.75 1192.53 438.907 Q1194.58 437.064 1194.58 433.904 Q1194.58 430.744 1192.53 428.901 Q1190.49 427.058 1186.99 427.058 Q1185.34 427.058 1183.7 427.423 Q1182.08 427.787 1180.38 428.557 L1180.38 413.366 Z\" fill=\"#000000\" fill-rule=\"evenodd\" fill-opacity=\"1\" /><path clip-path=\"url(#clip050)\" d=\"M1009.55 1326.59 L1004 1341.64 L1015.12 1341.64 L1009.55 1326.59 M1007.24 1322.56 L1011.88 1322.56 L1023.4 1352.8 L1019.15 1352.8 L1016.39 1345.05 L1002.76 1345.05 L1000.01 1352.8 L995.692 1352.8 L1007.24 1322.56 Z\" fill=\"#000000\" fill-rule=\"evenodd\" fill-opacity=\"1\" /><path clip-path=\"url(#clip050)\" d=\"M655.684 262.996 L655.684 274.075 L662.246 274.075 Q665.548 274.075 667.128 272.718 Q668.728 271.341 668.728 268.525 Q668.728 265.69 667.128 264.353 Q665.548 262.996 662.246 262.996 L655.684 262.996 M655.684 250.559 L655.684 259.674 L661.74 259.674 Q664.738 259.674 666.196 258.56 Q667.675 257.426 667.675 255.117 Q667.675 252.828 666.196 251.694 Q664.738 250.559 661.74 250.559 L655.684 250.559 M651.592 247.197 L662.044 247.197 Q666.723 247.197 669.254 249.142 Q671.786 251.086 671.786 254.671 Q671.786 257.446 670.49 259.087 Q669.194 260.727 666.682 261.132 Q669.7 261.78 671.361 263.846 Q673.042 265.892 673.042 268.971 Q673.042 273.022 670.287 275.229 Q667.533 277.437 662.449 277.437 L651.592 277.437 L651.592 247.197 Z\" fill=\"#000000\" fill-rule=\"evenodd\" fill-opacity=\"1\" /><path clip-path=\"url(#clip050)\" d=\"M1749.88 476.648 L1749.88 480.963 Q1747.81 479.039 1745.46 478.087 Q1743.13 477.135 1740.5 477.135 Q1735.31 477.135 1732.56 480.315 Q1729.8 483.474 1729.8 489.47 Q1729.8 495.445 1732.56 498.625 Q1735.31 501.784 1740.5 501.784 Q1743.13 501.784 1745.46 500.832 Q1747.81 499.88 1749.88 497.956 L1749.88 502.23 Q1747.73 503.688 1745.32 504.417 Q1742.93 505.147 1740.26 505.147 Q1733.39 505.147 1729.44 500.954 Q1725.49 496.741 1725.49 489.47 Q1725.49 482.178 1729.44 477.985 Q1733.39 473.772 1740.26 473.772 Q1742.97 473.772 1745.36 474.502 Q1747.77 475.21 1749.88 476.648 Z\" fill=\"#000000\" fill-rule=\"evenodd\" fill-opacity=\"1\" /></svg>\n"
      ]
     },
     "execution_count": 13,
     "metadata": {},
     "output_type": "execute_result"
    }
   ],
   "source": [
    "graphplot(g.graph, names=[\"A\",\"B\",\"C\"], edgelabel = Dict((1,2)=>3,(2,3)=>5,(1,3) => 7))"
   ]
  },
  {
   "cell_type": "markdown",
   "id": "27796611-83dc-4dc0-b853-8f10016c6611",
   "metadata": {},
   "source": [
    "One of the things to do in the project is to plot a graph with `plotgraph(g)` and it should add the vertex labels and the edge labels."
   ]
  },
  {
   "cell_type": "code",
   "execution_count": null,
   "id": "2e1afb95-a6ec-4192-9662-46ce0d79921f",
   "metadata": {},
   "outputs": [],
   "source": []
  }
 ],
 "metadata": {
  "kernelspec": {
   "display_name": "Julia 1.8.3",
   "language": "julia",
   "name": "julia-1.8"
  },
  "language_info": {
   "file_extension": ".jl",
   "mimetype": "application/julia",
   "name": "julia",
   "version": "1.8.3"
  }
 },
 "nbformat": 4,
 "nbformat_minor": 5
}
