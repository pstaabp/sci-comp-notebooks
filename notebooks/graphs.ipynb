{
 "cells": [
  {
   "cell_type": "markdown",
   "id": "9cc52fbf-f839-4b5c-aa95-eb3d87baedff",
   "metadata": {},
   "source": [
    "## Graphs"
   ]
  },
  {
   "cell_type": "markdown",
   "id": "b3ad5787-b2f2-44a7-ae56-e2ec948e721a",
   "metadata": {},
   "source": [
    "This is mainly for the shortest path project, but is helpful in general. There are both information here for existing modules (packages) and a user-defined one. \n",
    "\n",
    "First, let's look at the Graph package"
   ]
  },
  {
   "cell_type": "code",
   "execution_count": 1,
   "id": "3dfd7b6d-eb76-42e2-b2a5-8094ea5b8f6a",
   "metadata": {},
   "outputs": [],
   "source": [
    "using Graphs, Plots, GraphRecipes"
   ]
  },
  {
   "cell_type": "code",
   "execution_count": 2,
   "id": "d50ae830-9cd3-42f4-95dc-80f6166950fe",
   "metadata": {},
   "outputs": [
    {
     "data": {
      "text/plain": [
       "{5, 10} undirected simple Int64 graph"
      ]
     },
     "execution_count": 2,
     "metadata": {},
     "output_type": "execute_result"
    }
   ],
   "source": [
    "g = complete_graph(5)"
   ]
  },
  {
   "cell_type": "code",
   "execution_count": 3,
   "id": "fa33beef-4e09-4634-9a99-50a850be2f04",
   "metadata": {},
   "outputs": [
    {
     "data": {
      "image/svg+xml": [
       "<?xml version=\"1.0\" encoding=\"utf-8\"?>\n",
       "<svg xmlns=\"http://www.w3.org/2000/svg\" xmlns:xlink=\"http://www.w3.org/1999/xlink\" width=\"600\" height=\"400\" viewBox=\"0 0 2400 1600\">\n",
       "<defs>\n",
       "  <clipPath id=\"clip180\">\n",
       "    <rect x=\"0\" y=\"0\" width=\"2400\" height=\"1600\"/>\n",
       "  </clipPath>\n",
       "</defs>\n",
       "<path clip-path=\"url(#clip180)\" d=\"\n",
       "M0 1600 L2400 1600 L2400 0 L0 0  Z\n",
       "  \" fill=\"#ffffff\" fill-rule=\"evenodd\" fill-opacity=\"1\"/>\n",
       "<defs>\n",
       "  <clipPath id=\"clip181\">\n",
       "    <rect x=\"480\" y=\"0\" width=\"1681\" height=\"1600\"/>\n",
       "  </clipPath>\n",
       "</defs>\n",
       "<path clip-path=\"url(#clip180)\" d=\"\n",
       "M447.244 1552.76 L1952.76 1552.76 L1952.76 47.2441 L447.244 47.2441  Z\n",
       "  \" fill=\"#ffffff\" fill-rule=\"evenodd\" fill-opacity=\"1\"/>\n",
       "<defs>\n",
       "  <clipPath id=\"clip182\">\n",
       "    <rect x=\"447\" y=\"47\" width=\"1507\" height=\"1507\"/>\n",
       "  </clipPath>\n",
       "</defs>\n",
       "<polyline clip-path=\"url(#clip182)\" style=\"stroke:#000000; stroke-linecap:round; stroke-linejoin:round; stroke-width:4; stroke-opacity:1; fill:none\" points=\"\n",
       "  662.317,911.615 1737.68,951.711 \n",
       "  \"/>\n",
       "<polyline clip-path=\"url(#clip182)\" style=\"stroke:#000000; stroke-linecap:round; stroke-linejoin:round; stroke-width:4; stroke-opacity:1; fill:none\" points=\"\n",
       "  662.317,911.615 890.369,262.317 \n",
       "  \"/>\n",
       "<polyline clip-path=\"url(#clip182)\" style=\"stroke:#000000; stroke-linecap:round; stroke-linejoin:round; stroke-width:4; stroke-opacity:1; fill:none\" points=\"\n",
       "  662.317,911.615 1554.98,287.098 \n",
       "  \"/>\n",
       "<polyline clip-path=\"url(#clip182)\" style=\"stroke:#000000; stroke-linecap:round; stroke-linejoin:round; stroke-width:4; stroke-opacity:1; fill:none\" points=\"\n",
       "  662.317,911.615 1185.99,1337.68 \n",
       "  \"/>\n",
       "<polyline clip-path=\"url(#clip182)\" style=\"stroke:#000000; stroke-linecap:round; stroke-linejoin:round; stroke-width:4; stroke-opacity:1; fill:none\" points=\"\n",
       "  1737.68,951.711 890.369,262.317 \n",
       "  \"/>\n",
       "<polyline clip-path=\"url(#clip182)\" style=\"stroke:#000000; stroke-linecap:round; stroke-linejoin:round; stroke-width:4; stroke-opacity:1; fill:none\" points=\"\n",
       "  1737.68,951.711 1554.98,287.098 \n",
       "  \"/>\n",
       "<polyline clip-path=\"url(#clip182)\" style=\"stroke:#000000; stroke-linecap:round; stroke-linejoin:round; stroke-width:4; stroke-opacity:1; fill:none\" points=\"\n",
       "  1737.68,951.711 1185.99,1337.68 \n",
       "  \"/>\n",
       "<polyline clip-path=\"url(#clip182)\" style=\"stroke:#000000; stroke-linecap:round; stroke-linejoin:round; stroke-width:4; stroke-opacity:1; fill:none\" points=\"\n",
       "  890.369,262.317 1554.98,287.098 \n",
       "  \"/>\n",
       "<polyline clip-path=\"url(#clip182)\" style=\"stroke:#000000; stroke-linecap:round; stroke-linejoin:round; stroke-width:4; stroke-opacity:1; fill:none\" points=\"\n",
       "  890.369,262.317 1185.99,1337.68 \n",
       "  \"/>\n",
       "<polyline clip-path=\"url(#clip182)\" style=\"stroke:#000000; stroke-linecap:round; stroke-linejoin:round; stroke-width:4; stroke-opacity:1; fill:none\" points=\"\n",
       "  1554.98,287.098 1185.99,1337.68 \n",
       "  \"/>\n",
       "<path clip-path=\"url(#clip182)\" d=\"\n",
       "M694.578 911.615 L678.448 883.676 L646.187 883.676 L630.056 911.615 L646.187 939.553 L678.448 939.553 L694.578 911.615 L694.578 911.615  Z\n",
       "  \" fill=\"#009af9\" fill-rule=\"evenodd\" fill-opacity=\"1\"/>\n",
       "<polyline clip-path=\"url(#clip182)\" style=\"stroke:#000000; stroke-linecap:round; stroke-linejoin:round; stroke-width:4; stroke-opacity:1; fill:none\" points=\"\n",
       "  694.578,911.615 678.448,883.676 646.187,883.676 630.056,911.615 646.187,939.553 678.448,939.553 694.578,911.615 \n",
       "  \"/>\n",
       "<path clip-path=\"url(#clip182)\" d=\"\n",
       "M1769.94 951.711 L1753.81 923.772 L1721.55 923.772 L1705.42 951.711 L1721.55 979.65 L1753.81 979.65 L1769.94 951.711 L1769.94 951.711  Z\n",
       "  \" fill=\"#009af9\" fill-rule=\"evenodd\" fill-opacity=\"1\"/>\n",
       "<polyline clip-path=\"url(#clip182)\" style=\"stroke:#000000; stroke-linecap:round; stroke-linejoin:round; stroke-width:4; stroke-opacity:1; fill:none\" points=\"\n",
       "  1769.94,951.711 1753.81,923.772 1721.55,923.772 1705.42,951.711 1721.55,979.65 1753.81,979.65 1769.94,951.711 \n",
       "  \"/>\n",
       "<path clip-path=\"url(#clip182)\" d=\"\n",
       "M922.63 262.317 L906.5 234.378 L874.239 234.378 L858.108 262.317 L874.239 290.256 L906.5 290.256 L922.63 262.317 L922.63 262.317  Z\n",
       "  \" fill=\"#009af9\" fill-rule=\"evenodd\" fill-opacity=\"1\"/>\n",
       "<polyline clip-path=\"url(#clip182)\" style=\"stroke:#000000; stroke-linecap:round; stroke-linejoin:round; stroke-width:4; stroke-opacity:1; fill:none\" points=\"\n",
       "  922.63,262.317 906.5,234.378 874.239,234.378 858.108,262.317 874.239,290.256 906.5,290.256 922.63,262.317 \n",
       "  \"/>\n",
       "<path clip-path=\"url(#clip182)\" d=\"\n",
       "M1587.24 287.098 L1571.11 259.159 L1538.85 259.159 L1522.72 287.098 L1538.85 315.037 L1571.11 315.037 L1587.24 287.098 L1587.24 287.098  Z\n",
       "  \" fill=\"#009af9\" fill-rule=\"evenodd\" fill-opacity=\"1\"/>\n",
       "<polyline clip-path=\"url(#clip182)\" style=\"stroke:#000000; stroke-linecap:round; stroke-linejoin:round; stroke-width:4; stroke-opacity:1; fill:none\" points=\"\n",
       "  1587.24,287.098 1571.11,259.159 1538.85,259.159 1522.72,287.098 1538.85,315.037 1571.11,315.037 1587.24,287.098 \n",
       "  \"/>\n",
       "<path clip-path=\"url(#clip182)\" d=\"\n",
       "M1218.25 1337.68 L1202.12 1309.74 L1169.86 1309.74 L1153.72 1337.68 L1169.86 1365.62 L1202.12 1365.62 L1218.25 1337.68 L1218.25 1337.68  Z\n",
       "  \" fill=\"#009af9\" fill-rule=\"evenodd\" fill-opacity=\"1\"/>\n",
       "<polyline clip-path=\"url(#clip182)\" style=\"stroke:#000000; stroke-linecap:round; stroke-linejoin:round; stroke-width:4; stroke-opacity:1; fill:none\" points=\"\n",
       "  1218.25,1337.68 1202.12,1309.74 1169.86,1309.74 1153.72,1337.68 1169.86,1365.62 1202.12,1365.62 1218.25,1337.68 \n",
       "  \"/>\n",
       "<path clip-path=\"url(#clip182)\" d=\"M662.317 912.015 L661.971 911.815 L661.971 911.415 L662.317 911.215 L662.664 911.415 L662.664 911.815 Z\" fill=\"#009af9\" fill-rule=\"evenodd\" fill-opacity=\"1\" stroke=\"#000000\" stroke-opacity=\"1\" stroke-width=\"3.2\"/>\n",
       "<path clip-path=\"url(#clip182)\" d=\"M1737.68 952.111 L1737.34 951.911 L1737.34 951.511 L1737.68 951.311 L1738.03 951.511 L1738.03 951.911 Z\" fill=\"#009af9\" fill-rule=\"evenodd\" fill-opacity=\"1\" stroke=\"#000000\" stroke-opacity=\"1\" stroke-width=\"3.2\"/>\n",
       "<path clip-path=\"url(#clip182)\" d=\"M890.369 262.717 L890.023 262.517 L890.023 262.117 L890.369 261.917 L890.716 262.117 L890.716 262.517 Z\" fill=\"#009af9\" fill-rule=\"evenodd\" fill-opacity=\"1\" stroke=\"#000000\" stroke-opacity=\"1\" stroke-width=\"3.2\"/>\n",
       "<path clip-path=\"url(#clip182)\" d=\"M1554.98 287.498 L1554.64 287.298 L1554.64 286.898 L1554.98 286.698 L1555.33 286.898 L1555.33 287.298 Z\" fill=\"#009af9\" fill-rule=\"evenodd\" fill-opacity=\"1\" stroke=\"#000000\" stroke-opacity=\"1\" stroke-width=\"3.2\"/>\n",
       "<path clip-path=\"url(#clip182)\" d=\"M1185.99 1338.08 L1185.64 1337.88 L1185.64 1337.48 L1185.99 1337.28 L1186.33 1337.48 L1186.33 1337.88 Z\" fill=\"#009af9\" fill-rule=\"evenodd\" fill-opacity=\"1\" stroke=\"#000000\" stroke-opacity=\"1\" stroke-width=\"3.2\"/>\n",
       "</svg>\n"
      ]
     },
     "execution_count": 3,
     "metadata": {},
     "output_type": "execute_result"
    }
   ],
   "source": [
    "graphplot(g, curves=false)"
   ]
  },
  {
   "cell_type": "code",
   "execution_count": 4,
   "id": "2e5b024a-03c2-4dce-8f16-4b657fb0baef",
   "metadata": {},
   "outputs": [
    {
     "data": {
      "text/plain": [
       "{0, 0} undirected simple Int64 graph"
      ]
     },
     "execution_count": 4,
     "metadata": {},
     "output_type": "execute_result"
    }
   ],
   "source": [
    "g2 = SimpleGraph()"
   ]
  },
  {
   "cell_type": "code",
   "execution_count": 5,
   "id": "dfe8def4-d51c-4ea0-ac1a-e0fbb78b5638",
   "metadata": {},
   "outputs": [
    {
     "ename": "LoadError",
     "evalue": "MethodError: reducing over an empty collection is not allowed; consider supplying `init` to the reducer",
     "output_type": "error",
     "traceback": [
      "MethodError: reducing over an empty collection is not allowed; consider supplying `init` to the reducer",
      "",
      "Stacktrace:",
      "  [1] mapreduce_empty(#unused#::typeof(identity), op::Function, T::Type)",
      "    @ Base ./reduce.jl:367",
      "  [2] reduce_empty(op::Base.MappingRF{typeof(identity), typeof(max)}, #unused#::Type{Int64})",
      "    @ Base ./reduce.jl:356",
      "  [3] reduce_empty_iter",
      "    @ ./reduce.jl:379 [inlined]",
      "  [4] mapreduce_empty_iter(f::Function, op::Function, itr::Vector{Int64}, ItrEltype::Base.HasEltype)",
      "    @ Base ./reduce.jl:375",
      "  [5] _mapreduce",
      "    @ ./reduce.jl:427 [inlined]",
      "  [6] _mapreduce_dim",
      "    @ ./reducedim.jl:365 [inlined]",
      "  [7] #mapreduce#765",
      "    @ ./reducedim.jl:357 [inlined]",
      "  [8] mapreduce",
      "    @ ./reducedim.jl:357 [inlined]",
      "  [9] #_maximum#783",
      "    @ ./reducedim.jl:999 [inlined]",
      " [10] _maximum",
      "    @ ./reducedim.jl:999 [inlined]",
      " [11] #_maximum#782",
      "    @ ./reducedim.jl:998 [inlined]",
      " [12] _maximum",
      "    @ ./reducedim.jl:998 [inlined]",
      " [13] #maximum#780",
      "    @ ./reducedim.jl:994 [inlined]",
      " [14] maximum",
      "    @ ./reducedim.jl:994 [inlined]",
      " [15] _broadcast_getindex_evalf",
      "    @ ./broadcast.jl:670 [inlined]",
      " [16] _broadcast_getindex",
      "    @ ./broadcast.jl:643 [inlined]",
      " [17] #29",
      "    @ ./broadcast.jl:1075 [inlined]",
      " [18] ntuple",
      "    @ ./ntuple.jl:49 [inlined]",
      " [19] copy(bc::Base.Broadcast.Broadcasted{Base.Broadcast.Style{Tuple}, Nothing, typeof(maximum), Tuple{Tuple{Vector{Int64}, Vector{Int64}}}})",
      "    @ Base.Broadcast ./broadcast.jl:1075",
      " [20] materialize",
      "    @ ./broadcast.jl:860 [inlined]",
      " [21] infer_size_from(::Vector{Int64}, ::Vararg{Vector{Int64}})",
      "    @ GraphRecipes ~/.julia/packages/GraphRecipes/rzVTu/src/graph_layouts.jl:3",
      " [22] macro expansion",
      "    @ ~/.julia/packages/GraphRecipes/rzVTu/src/graphs.jl:432 [inlined]",
      " [23] apply_recipe(plotattributes::AbstractDict{Symbol, Any}, g::GraphRecipes.GraphPlot)",
      "    @ GraphRecipes ~/.julia/packages/RecipesBase/6AijY/src/RecipesBase.jl:299",
      " [24] _process_userrecipes!(plt::Any, plotattributes::Any, args::Any)",
      "    @ RecipesPipeline ~/.julia/packages/RecipesPipeline/XxUHt/src/user_recipe.jl:38",
      " [25] recipe_pipeline!(plt::Any, plotattributes::Any, args::Any)",
      "    @ RecipesPipeline ~/.julia/packages/RecipesPipeline/XxUHt/src/RecipesPipeline.jl:72",
      " [26] _plot!(plt::Plots.Plot, plotattributes::Any, args::Any)",
      "    @ Plots ~/.julia/packages/Plots/Pn7Zn/src/plot.jl:223",
      " [27] plot(args::Any; kw::Base.Pairs{Symbol, V, Tuple{Vararg{Symbol, N}}, NamedTuple{names, T}} where {V, N, names, T<:Tuple{Vararg{Any, N}}})",
      "    @ Plots ~/.julia/packages/Plots/Pn7Zn/src/plot.jl:102",
      " [28] plot",
      "    @ ~/.julia/packages/Plots/Pn7Zn/src/plot.jl:93 [inlined]",
      " [29] #graphplot#80",
      "    @ ~/.julia/packages/RecipesBase/6AijY/src/RecipesBase.jl:379 [inlined]",
      " [30] graphplot(args::SimpleGraph{Int64})",
      "    @ GraphRecipes ~/.julia/packages/RecipesBase/6AijY/src/RecipesBase.jl:379",
      " [31] top-level scope",
      "    @ In[5]:1",
      " [32] eval",
      "    @ ./boot.jl:368 [inlined]",
      " [33] include_string(mapexpr::typeof(REPL.softscope), mod::Module, code::String, filename::String)",
      "    @ Base ./loading.jl:1428"
     ]
    }
   ],
   "source": [
    "graphplot(g2)"
   ]
  },
  {
   "cell_type": "code",
   "execution_count": 6,
   "id": "e7353b1b-6494-44a8-8f85-149ebb1b013b",
   "metadata": {},
   "outputs": [
    {
     "data": {
      "text/plain": [
       "true"
      ]
     },
     "execution_count": 6,
     "metadata": {},
     "output_type": "execute_result"
    }
   ],
   "source": [
    "add_vertices!(g2,3)\n",
    "add_edge!(g2,1,2)\n",
    "add_edge!(g2,2,3)\n",
    "add_edge!(g2,3,1)"
   ]
  },
  {
   "cell_type": "code",
   "execution_count": 7,
   "id": "f32fab16-539a-4787-8ee9-01f7c46ebeee",
   "metadata": {},
   "outputs": [
    {
     "data": {
      "image/svg+xml": [
       "<?xml version=\"1.0\" encoding=\"utf-8\"?>\n",
       "<svg xmlns=\"http://www.w3.org/2000/svg\" xmlns:xlink=\"http://www.w3.org/1999/xlink\" width=\"600\" height=\"400\" viewBox=\"0 0 2400 1600\">\n",
       "<defs>\n",
       "  <clipPath id=\"clip210\">\n",
       "    <rect x=\"0\" y=\"0\" width=\"2400\" height=\"1600\"/>\n",
       "  </clipPath>\n",
       "</defs>\n",
       "<path clip-path=\"url(#clip210)\" d=\"\n",
       "M0 1600 L2400 1600 L2400 0 L0 0  Z\n",
       "  \" fill=\"#ffffff\" fill-rule=\"evenodd\" fill-opacity=\"1\"/>\n",
       "<defs>\n",
       "  <clipPath id=\"clip211\">\n",
       "    <rect x=\"480\" y=\"0\" width=\"1681\" height=\"1600\"/>\n",
       "  </clipPath>\n",
       "</defs>\n",
       "<path clip-path=\"url(#clip210)\" d=\"\n",
       "M447.244 1552.76 L1952.76 1552.76 L1952.76 47.2441 L447.244 47.2441  Z\n",
       "  \" fill=\"#ffffff\" fill-rule=\"evenodd\" fill-opacity=\"1\"/>\n",
       "<defs>\n",
       "  <clipPath id=\"clip212\">\n",
       "    <rect x=\"447\" y=\"47\" width=\"1507\" height=\"1507\"/>\n",
       "  </clipPath>\n",
       "</defs>\n",
       "<polyline clip-path=\"url(#clip212)\" style=\"stroke:#000000; stroke-linecap:round; stroke-linejoin:round; stroke-width:4; stroke-opacity:1; fill:none\" points=\"\n",
       "  835.387,262.317 851.823,278.8 868.265,295.275 884.721,311.731 901.197,328.162 917.699,344.557 934.234,360.909 950.809,377.208 967.43,393.446 984.104,409.613 \n",
       "  1000.84,425.702 1017.64,441.703 1034.51,457.607 1051.46,473.407 1068.49,489.092 1085.62,504.655 1102.85,520.086 1120.18,535.377 1137.63,550.519 1155.19,565.504 \n",
       "  1172.88,580.321 1190.7,594.964 1208.66,609.422 1226.77,623.688 1245.02,637.752 1263.44,651.606 1282.01,665.25 1300.73,678.692 1319.6,691.941 1338.61,705.007 \n",
       "  1357.75,717.897 1377.01,730.621 1396.4,743.187 1415.89,755.604 1435.49,767.88 1455.19,780.025 1474.98,792.048 1494.86,803.956 1514.82,815.76 1534.85,827.467 \n",
       "  1554.94,839.086 1575.1,850.626 1595.31,862.096 1615.56,873.505 1635.85,884.862 1656.18,896.174 1676.53,907.452 1696.9,918.703 1717.29,929.936 1737.68,941.161 \n",
       "  \n",
       "  \"/>\n",
       "<polyline clip-path=\"url(#clip212)\" style=\"stroke:#000000; stroke-linecap:round; stroke-linejoin:round; stroke-width:4; stroke-opacity:1; fill:none\" points=\"\n",
       "  835.387,262.317 835.103,284.786 834.808,307.254 834.492,329.717 834.143,352.176 833.751,374.627 833.305,397.07 832.794,419.503 832.207,441.923 831.534,464.329 \n",
       "  830.763,486.72 829.883,509.093 828.885,531.447 827.756,553.78 826.487,576.09 825.066,598.376 823.483,620.636 821.727,642.868 819.786,665.071 817.651,687.242 \n",
       "  815.309,709.38 812.751,731.483 809.966,753.549 806.943,775.577 803.67,797.565 800.138,819.511 796.347,841.416 792.306,863.28 788.027,885.106 783.521,906.896 \n",
       "  778.798,928.65 773.87,950.372 768.746,972.062 763.439,993.722 757.958,1015.35 752.315,1036.96 746.52,1058.54 740.584,1080.1 734.518,1101.64 728.334,1123.16 \n",
       "  722.041,1144.66 715.65,1166.15 709.173,1187.62 702.62,1209.08 696.002,1230.53 689.33,1251.97 682.615,1273.41 675.867,1294.83 669.098,1316.26 662.317,1337.68 \n",
       "  \n",
       "  \"/>\n",
       "<polyline clip-path=\"url(#clip212)\" style=\"stroke:#000000; stroke-linecap:round; stroke-linejoin:round; stroke-width:4; stroke-opacity:1; fill:none\" points=\"\n",
       "  1737.68,941.161 1716.87,952.34 1696.06,963.509 1675.24,974.658 1654.41,985.775 1633.57,996.851 1612.7,1007.88 1591.81,1018.84 1570.9,1029.73 1549.96,1040.54 \n",
       "  1528.98,1051.26 1507.96,1061.87 1486.9,1072.37 1465.8,1082.75 1444.64,1092.99 1423.44,1103.09 1402.17,1113.03 1380.85,1122.81 1359.46,1132.41 1338.01,1141.83 \n",
       "  1316.48,1151.06 1294.87,1160.08 1273.19,1168.88 1251.42,1177.45 1229.56,1185.79 1207.62,1193.88 1185.58,1201.73 1163.46,1209.34 1141.25,1216.72 1118.96,1223.89 \n",
       "  1096.6,1230.85 1074.16,1237.61 1051.66,1244.19 1029.09,1250.6 1006.46,1256.84 983.773,1262.93 961.034,1268.87 938.246,1274.68 915.412,1280.36 892.536,1285.93 \n",
       "  869.622,1291.4 846.674,1296.78 823.696,1302.07 800.691,1307.29 777.664,1312.45 754.617,1317.56 731.555,1322.63 708.482,1327.66 685.402,1332.68 662.317,1337.68 \n",
       "  \n",
       "  \"/>\n",
       "<path clip-path=\"url(#clip212)\" d=\"\n",
       "M881.986 262.317 L858.686 221.961 L812.087 221.961 L788.787 262.317 L812.087 302.673 L858.686 302.673 L881.986 262.317 L881.986 262.317  Z\n",
       "  \" fill=\"#009af9\" fill-rule=\"evenodd\" fill-opacity=\"1\"/>\n",
       "<polyline clip-path=\"url(#clip212)\" style=\"stroke:#000000; stroke-linecap:round; stroke-linejoin:round; stroke-width:4; stroke-opacity:1; fill:none\" points=\"\n",
       "  881.986,262.317 858.686,221.961 812.087,221.961 788.787,262.317 812.087,302.673 858.686,302.673 881.986,262.317 \n",
       "  \"/>\n",
       "<path clip-path=\"url(#clip212)\" d=\"\n",
       "M1784.28 941.161 L1760.98 900.805 L1714.38 900.805 L1691.08 941.161 L1714.38 981.517 L1760.98 981.517 L1784.28 941.161 L1784.28 941.161  Z\n",
       "  \" fill=\"#009af9\" fill-rule=\"evenodd\" fill-opacity=\"1\"/>\n",
       "<polyline clip-path=\"url(#clip212)\" style=\"stroke:#000000; stroke-linecap:round; stroke-linejoin:round; stroke-width:4; stroke-opacity:1; fill:none\" points=\"\n",
       "  1784.28,941.161 1760.98,900.805 1714.38,900.805 1691.08,941.161 1714.38,981.517 1760.98,981.517 1784.28,941.161 \n",
       "  \"/>\n",
       "<path clip-path=\"url(#clip212)\" d=\"\n",
       "M708.916 1337.68 L685.617 1297.33 L639.018 1297.33 L615.718 1337.68 L639.018 1378.04 L685.617 1378.04 L708.916 1337.68 L708.916 1337.68  Z\n",
       "  \" fill=\"#009af9\" fill-rule=\"evenodd\" fill-opacity=\"1\"/>\n",
       "<polyline clip-path=\"url(#clip212)\" style=\"stroke:#000000; stroke-linecap:round; stroke-linejoin:round; stroke-width:4; stroke-opacity:1; fill:none\" points=\"\n",
       "  708.916,1337.68 685.617,1297.33 639.018,1297.33 615.718,1337.68 639.018,1378.04 685.617,1378.04 708.916,1337.68 \n",
       "  \"/>\n",
       "<path clip-path=\"url(#clip212)\" d=\"M835.387 262.717 L835.04 262.517 L835.04 262.117 L835.387 261.917 L835.733 262.117 L835.733 262.517 Z\" fill=\"#009af9\" fill-rule=\"evenodd\" fill-opacity=\"1\" stroke=\"#000000\" stroke-opacity=\"1\" stroke-width=\"3.2\"/>\n",
       "<path clip-path=\"url(#clip212)\" d=\"M1737.68 941.561 L1737.34 941.361 L1737.34 940.961 L1737.68 940.761 L1738.03 940.961 L1738.03 941.361 Z\" fill=\"#009af9\" fill-rule=\"evenodd\" fill-opacity=\"1\" stroke=\"#000000\" stroke-opacity=\"1\" stroke-width=\"3.2\"/>\n",
       "<path clip-path=\"url(#clip212)\" d=\"M662.317 1338.08 L661.971 1337.88 L661.971 1337.48 L662.317 1337.28 L662.664 1337.48 L662.664 1337.88 Z\" fill=\"#009af9\" fill-rule=\"evenodd\" fill-opacity=\"1\" stroke=\"#000000\" stroke-opacity=\"1\" stroke-width=\"3.2\"/>\n",
       "</svg>\n"
      ]
     },
     "execution_count": 7,
     "metadata": {},
     "output_type": "execute_result"
    }
   ],
   "source": [
    "graphplot(g2)"
   ]
  },
  {
   "cell_type": "markdown",
   "id": "7f5f5a6f-dee6-432c-91b1-1b461eba91c2",
   "metadata": {},
   "source": [
    "Now we will use a user-defined package to handle weighted graphs. Take a look at the code."
   ]
  },
  {
   "cell_type": "code",
   "execution_count": 24,
   "id": "90be380d-e935-4044-a3fa-ece4675bb6e6",
   "metadata": {
    "tags": []
   },
   "outputs": [],
   "source": [
    "using Revise"
   ]
  },
  {
   "cell_type": "code",
   "execution_count": 25,
   "id": "42b79e80-1ae0-41ef-907c-e7b98c79a8da",
   "metadata": {},
   "outputs": [],
   "source": [
    "includet(\"../julia-files/WeightedGraphs.jl\")\n",
    "using .WeightedGraphs"
   ]
  },
  {
   "cell_type": "markdown",
   "id": "1579ad3d-6121-45df-9eb7-f094c5c314eb",
   "metadata": {},
   "source": [
    "The package has a Vertex, which has a name (as a Symbol)"
   ]
  },
  {
   "cell_type": "code",
   "execution_count": 26,
   "id": "079f0609-1402-4cf1-8afa-d4443d08dbdf",
   "metadata": {},
   "outputs": [
    {
     "data": {
      "text/plain": [
       "Vertex(:C)"
      ]
     },
     "execution_count": 26,
     "metadata": {},
     "output_type": "execute_result"
    }
   ],
   "source": [
    "v1 = Vertex(:A)\n",
    "v2 = Vertex(:B)\n",
    "v3 = Vertex(:C)"
   ]
  },
  {
   "cell_type": "markdown",
   "id": "76eff765-eb9c-4710-b673-0e8fab980884",
   "metadata": {},
   "source": [
    "Consider a `WeightedGraph`"
   ]
  },
  {
   "cell_type": "code",
   "execution_count": 27,
   "id": "764048ff-269c-498e-a0e9-fc9b0b3c15cb",
   "metadata": {},
   "outputs": [
    {
     "data": {
      "text/plain": [
       "WeightedGraph(Vertex[], Main.WeightedGraphs.Edge[], SimpleGraph{Int64}(0, Vector{Int64}[]))"
      ]
     },
     "execution_count": 27,
     "metadata": {},
     "output_type": "execute_result"
    }
   ],
   "source": [
    "g = WeightedGraph()"
   ]
  },
  {
   "cell_type": "markdown",
   "id": "74fb05a0-ad2e-4995-bcb4-7a05c5a195b3",
   "metadata": {},
   "source": [
    "Add the three vertices defined above."
   ]
  },
  {
   "cell_type": "code",
   "execution_count": 28,
   "id": "0d74bca6-fcb2-4b5d-8612-37cd26164ca3",
   "metadata": {},
   "outputs": [
    {
     "data": {
      "text/plain": [
       "3-element Vector{Vertex}:\n",
       " Vertex(:A)\n",
       " Vertex(:B)\n",
       " Vertex(:C)"
      ]
     },
     "execution_count": 28,
     "metadata": {},
     "output_type": "execute_result"
    }
   ],
   "source": [
    "addVertex!(g,v1)\n",
    "addVertex!(g,v2)\n",
    "addVertex!(g,v3)"
   ]
  },
  {
   "cell_type": "markdown",
   "id": "b3b17fa3-e906-4208-9e11-3c910621181b",
   "metadata": {},
   "source": [
    "Since `Edge` is also in the `Graphs` package, we clarify that we want the one in the `WeightedGraphs` package:"
   ]
  },
  {
   "cell_type": "code",
   "execution_count": 21,
   "id": "f1aaa369-e742-4d07-a6a6-720a8ce59884",
   "metadata": {},
   "outputs": [
    {
     "data": {
      "text/plain": [
       "Main.WeightedGraphs.Edge(:C, :A, 7)"
      ]
     },
     "execution_count": 21,
     "metadata": {},
     "output_type": "execute_result"
    }
   ],
   "source": [
    "e1 = WeightedGraphs.Edge(:A,:B,3)\n",
    "e2 = WeightedGraphs.Edge(:B,:C,5)\n",
    "e3 = WeightedGraphs.Edge(:C,:A,7)"
   ]
  },
  {
   "cell_type": "markdown",
   "id": "7ccd2c84-96f0-4ce6-8140-c45297aaa629",
   "metadata": {},
   "source": [
    "Add the three edges"
   ]
  },
  {
   "cell_type": "code",
   "execution_count": 29,
   "id": "d76c6cad-3ceb-45cd-9735-304b28ac87b0",
   "metadata": {},
   "outputs": [
    {
     "data": {
      "text/plain": [
       "true"
      ]
     },
     "execution_count": 29,
     "metadata": {},
     "output_type": "execute_result"
    }
   ],
   "source": [
    "addEdge!(g,e1)\n",
    "addEdge!(g,e2)\n",
    "addEdge!(g,e3)"
   ]
  },
  {
   "cell_type": "code",
   "execution_count": 30,
   "id": "6cca4339-2627-4ddb-a2f5-89f30ab49586",
   "metadata": {},
   "outputs": [
    {
     "data": {
      "image/svg+xml": [
       "<?xml version=\"1.0\" encoding=\"utf-8\"?>\n",
       "<svg xmlns=\"http://www.w3.org/2000/svg\" xmlns:xlink=\"http://www.w3.org/1999/xlink\" width=\"600\" height=\"400\" viewBox=\"0 0 2400 1600\">\n",
       "<defs>\n",
       "  <clipPath id=\"clip270\">\n",
       "    <rect x=\"0\" y=\"0\" width=\"2400\" height=\"1600\"/>\n",
       "  </clipPath>\n",
       "</defs>\n",
       "<path clip-path=\"url(#clip270)\" d=\"\n",
       "M0 1600 L2400 1600 L2400 0 L0 0  Z\n",
       "  \" fill=\"#ffffff\" fill-rule=\"evenodd\" fill-opacity=\"1\"/>\n",
       "<defs>\n",
       "  <clipPath id=\"clip271\">\n",
       "    <rect x=\"480\" y=\"0\" width=\"1681\" height=\"1600\"/>\n",
       "  </clipPath>\n",
       "</defs>\n",
       "<path clip-path=\"url(#clip270)\" d=\"\n",
       "M447.244 1552.76 L1952.76 1552.76 L1952.76 47.2441 L447.244 47.2441  Z\n",
       "  \" fill=\"#ffffff\" fill-rule=\"evenodd\" fill-opacity=\"1\"/>\n",
       "<defs>\n",
       "  <clipPath id=\"clip272\">\n",
       "    <rect x=\"447\" y=\"47\" width=\"1507\" height=\"1507\"/>\n",
       "  </clipPath>\n",
       "</defs>\n",
       "<polyline clip-path=\"url(#clip272)\" style=\"stroke:#000000; stroke-linecap:round; stroke-linejoin:round; stroke-width:4; stroke-opacity:1; fill:none\" points=\"\n",
       "  966.529,1337.68 957.154,1316.63 947.791,1295.58 938.448,1274.52 929.137,1253.45 919.868,1232.37 910.652,1211.27 901.5,1190.16 892.421,1169.03 883.427,1147.87 \n",
       "  874.527,1126.68 865.734,1105.47 857.056,1084.22 848.505,1062.94 840.091,1041.62 831.825,1020.25 823.717,998.842 815.778,977.386 808.019,955.878 800.45,934.317 \n",
       "  793.081,912.699 785.923,891.021 778.987,869.281 772.283,847.475 765.821,825.6 759.613,803.654 753.657,781.636 747.945,759.55 742.464,737.398 737.205,715.183 \n",
       "  732.157,692.908 727.31,670.577 722.653,648.192 718.175,625.756 713.866,603.273 709.715,580.744 705.712,558.174 701.846,535.565 698.107,512.92 694.484,490.243 \n",
       "  690.966,467.535 687.544,444.801 684.206,422.043 680.942,399.264 677.741,376.467 674.593,353.655 671.487,330.831 668.413,307.998 665.36,285.159 662.317,262.317 \n",
       "  \n",
       "  \"/>\n",
       "<polyline clip-path=\"url(#clip272)\" style=\"stroke:#000000; stroke-linecap:round; stroke-linejoin:round; stroke-width:4; stroke-opacity:1; fill:none\" points=\"\n",
       "  966.529,1337.68 984.64,1323.56 1002.74,1309.44 1020.83,1295.3 1038.9,1281.13 1056.93,1266.94 1074.92,1252.71 1092.87,1238.43 1110.76,1224.1 1128.58,1209.71 \n",
       "  1146.34,1195.25 1164.01,1180.71 1181.6,1166.09 1199.1,1151.38 1216.49,1136.57 1233.77,1121.66 1250.93,1106.63 1267.97,1091.47 1284.87,1076.19 1301.63,1060.78 \n",
       "  1318.23,1045.22 1334.68,1029.5 1350.97,1013.63 1367.08,997.59 1383,981.376 1398.74,964.979 1414.29,948.401 1429.66,931.647 1444.85,914.727 1459.87,897.647 \n",
       "  1474.74,880.416 1489.46,863.04 1504.03,845.527 1518.47,827.885 1532.79,810.122 1546.98,792.244 1561.07,774.261 1575.05,756.178 1588.94,738.005 1602.74,719.748 \n",
       "  1616.46,701.415 1630.1,683.013 1643.69,664.551 1657.22,646.036 1670.7,627.475 1684.15,608.876 1697.56,590.247 1710.95,571.595 1724.32,552.928 1737.68,534.253 \n",
       "  \n",
       "  \"/>\n",
       "<polyline clip-path=\"url(#clip272)\" style=\"stroke:#000000; stroke-linecap:round; stroke-linejoin:round; stroke-width:4; stroke-opacity:1; fill:none\" points=\"\n",
       "  662.317,262.317 683.457,271.057 704.599,279.785 725.747,288.493 746.903,297.168 768.069,305.802 789.249,314.381 810.445,322.898 831.66,331.339 852.897,339.696 \n",
       "  874.157,347.957 895.445,356.111 916.762,364.149 938.111,372.059 959.496,379.831 980.918,387.453 1002.38,394.917 1023.89,402.21 1045.44,409.322 1067.04,416.243 \n",
       "  1088.69,422.962 1110.39,429.469 1132.15,435.752 1153.97,441.801 1175.85,447.605 1197.8,453.155 1219.81,458.45 1241.88,463.5 1264.01,468.317 1286.2,472.91 \n",
       "  1308.44,477.29 1330.74,481.469 1353.08,485.456 1375.47,489.262 1397.9,492.898 1420.37,496.374 1442.87,499.702 1465.42,502.891 1487.99,505.953 1510.6,508.898 \n",
       "  1533.23,511.737 1555.89,514.479 1578.56,517.137 1601.26,519.721 1623.97,522.24 1646.7,524.706 1669.44,527.13 1692.18,529.522 1714.93,531.893 1737.68,534.253 \n",
       "  \n",
       "  \"/>\n",
       "<path clip-path=\"url(#clip272)\" d=\"\n",
       "M740.102 850.768 L785.268 850.768 L785.268 778.504 L740.102 778.504 L740.102 850.768 L740.102 850.768  Z\n",
       "  \" fill=\"#ffffff\" fill-rule=\"evenodd\" fill-opacity=\"1\"/>\n",
       "<polyline clip-path=\"url(#clip272)\" style=\"stroke:#000000; stroke-linecap:round; stroke-linejoin:round; stroke-width:0; stroke-opacity:0; fill:none\" points=\"\n",
       "  740.102,850.768 785.268,850.768 785.268,778.504 740.102,778.504 740.102,850.768 \n",
       "  \"/>\n",
       "<path clip-path=\"url(#clip272)\" d=\"\n",
       "M1368.31 1009.33 L1413.48 1009.33 L1413.48 937.068 L1368.31 937.068 L1368.31 1009.33 L1368.31 1009.33  Z\n",
       "  \" fill=\"#ffffff\" fill-rule=\"evenodd\" fill-opacity=\"1\"/>\n",
       "<polyline clip-path=\"url(#clip272)\" style=\"stroke:#000000; stroke-linecap:round; stroke-linejoin:round; stroke-width:0; stroke-opacity:0; fill:none\" points=\"\n",
       "  1368.31,1009.33 1413.48,1009.33 1413.48,937.068 1368.31,937.068 1368.31,1009.33 \n",
       "  \"/>\n",
       "<path clip-path=\"url(#clip272)\" d=\"\n",
       "M1164.24 486.545 L1209.4 486.545 L1209.4 414.28 L1164.24 414.28 L1164.24 486.545 L1164.24 486.545  Z\n",
       "  \" fill=\"#ffffff\" fill-rule=\"evenodd\" fill-opacity=\"1\"/>\n",
       "<polyline clip-path=\"url(#clip272)\" style=\"stroke:#000000; stroke-linecap:round; stroke-linejoin:round; stroke-width:0; stroke-opacity:0; fill:none\" points=\"\n",
       "  1164.24,486.545 1209.4,486.545 1209.4,414.28 1164.24,414.28 1164.24,486.545 \n",
       "  \"/>\n",
       "<path clip-path=\"url(#clip272)\" d=\"\n",
       "M1005.67 1337.68 L986.1 1303.78 L946.957 1303.78 L927.385 1337.68 L946.957 1371.58 L986.1 1371.58 L1005.67 1337.68 L1005.67 1337.68  Z\n",
       "  \" fill=\"#009af9\" fill-rule=\"evenodd\" fill-opacity=\"1\"/>\n",
       "<polyline clip-path=\"url(#clip272)\" style=\"stroke:#000000; stroke-linecap:round; stroke-linejoin:round; stroke-width:4; stroke-opacity:1; fill:none\" points=\"\n",
       "  1005.67,1337.68 986.1,1303.78 946.957,1303.78 927.385,1337.68 946.957,1371.58 986.1,1371.58 1005.67,1337.68 \n",
       "  \"/>\n",
       "<path clip-path=\"url(#clip272)\" d=\"\n",
       "M701.461 262.317 L681.889 228.418 L642.746 228.418 L623.174 262.317 L642.746 296.216 L681.889 296.216 L701.461 262.317 L701.461 262.317  Z\n",
       "  \" fill=\"#009af9\" fill-rule=\"evenodd\" fill-opacity=\"1\"/>\n",
       "<polyline clip-path=\"url(#clip272)\" style=\"stroke:#000000; stroke-linecap:round; stroke-linejoin:round; stroke-width:4; stroke-opacity:1; fill:none\" points=\"\n",
       "  701.461,262.317 681.889,228.418 642.746,228.418 623.174,262.317 642.746,296.216 681.889,296.216 701.461,262.317 \n",
       "  \"/>\n",
       "<path clip-path=\"url(#clip272)\" d=\"\n",
       "M1776.83 534.253 L1757.25 500.354 L1718.11 500.354 L1698.54 534.253 L1718.11 568.152 L1757.25 568.152 L1776.83 534.253 L1776.83 534.253  Z\n",
       "  \" fill=\"#009af9\" fill-rule=\"evenodd\" fill-opacity=\"1\"/>\n",
       "<polyline clip-path=\"url(#clip272)\" style=\"stroke:#000000; stroke-linecap:round; stroke-linejoin:round; stroke-width:4; stroke-opacity:1; fill:none\" points=\"\n",
       "  1776.83,534.253 1757.25,500.354 1718.11,500.354 1698.54,534.253 1718.11,568.152 1757.25,568.152 1776.83,534.253 \n",
       "  \"/>\n",
       "<path clip-path=\"url(#clip272)\" d=\"M966.529 1338.08 L966.182 1337.88 L966.182 1337.48 L966.529 1337.28 L966.875 1337.48 L966.875 1337.88 Z\" fill=\"#009af9\" fill-rule=\"evenodd\" fill-opacity=\"1\" stroke=\"#000000\" stroke-opacity=\"1\" stroke-width=\"3.2\"/>\n",
       "<path clip-path=\"url(#clip272)\" d=\"M662.317 262.717 L661.971 262.517 L661.971 262.117 L662.317 261.917 L662.664 262.117 L662.664 262.517 Z\" fill=\"#009af9\" fill-rule=\"evenodd\" fill-opacity=\"1\" stroke=\"#000000\" stroke-opacity=\"1\" stroke-width=\"3.2\"/>\n",
       "<path clip-path=\"url(#clip272)\" d=\"M1737.68 534.653 L1737.34 534.453 L1737.34 534.053 L1737.68 533.853 L1738.03 534.053 L1738.03 534.453 Z\" fill=\"#009af9\" fill-rule=\"evenodd\" fill-opacity=\"1\" stroke=\"#000000\" stroke-opacity=\"1\" stroke-width=\"3.2\"/>\n",
       "<path clip-path=\"url(#clip270)\" d=\"M766.402 813.451 Q769.339 814.079 770.979 816.064 Q772.64 818.049 772.64 820.966 Q772.64 825.442 769.561 827.893 Q766.483 830.344 760.811 830.344 Q758.908 830.344 756.882 829.959 Q754.877 829.594 752.73 828.845 L752.73 824.895 Q754.431 825.888 756.457 826.394 Q758.482 826.9 760.69 826.9 Q764.538 826.9 766.543 825.381 Q768.569 823.862 768.569 820.966 Q768.569 818.292 766.685 816.793 Q764.822 815.274 761.48 815.274 L757.956 815.274 L757.956 811.912 L761.642 811.912 Q764.66 811.912 766.26 810.717 Q767.86 809.502 767.86 807.233 Q767.86 804.904 766.199 803.668 Q764.559 802.413 761.48 802.413 Q759.799 802.413 757.875 802.777 Q755.95 803.142 753.641 803.911 L753.641 800.266 Q755.971 799.617 757.996 799.293 Q760.042 798.969 761.844 798.969 Q766.503 798.969 769.217 801.096 Q771.931 803.203 771.931 806.808 Q771.931 809.319 770.493 811.061 Q769.055 812.783 766.402 813.451 Z\" fill=\"#000000\" fill-rule=\"evenodd\" fill-opacity=\"1\" /><path clip-path=\"url(#clip270)\" d=\"M1381.17 958.081 L1400.62 958.081 L1400.62 959.822 L1389.64 988.321 L1385.37 988.321 L1395.7 961.524 L1381.17 961.524 L1381.17 958.081 Z\" fill=\"#000000\" fill-rule=\"evenodd\" fill-opacity=\"1\" /><path clip-path=\"url(#clip270)\" d=\"M1178.31 435.292 L1194.37 435.292 L1194.37 438.736 L1182.06 438.736 L1182.06 446.149 Q1182.95 445.845 1183.84 445.703 Q1184.73 445.541 1185.62 445.541 Q1190.69 445.541 1193.64 448.316 Q1196.6 451.091 1196.6 455.83 Q1196.6 460.712 1193.56 463.426 Q1190.52 466.12 1185 466.12 Q1183.09 466.12 1181.11 465.796 Q1179.14 465.472 1177.04 464.823 L1177.04 460.712 Q1178.86 461.704 1180.8 462.19 Q1182.75 462.677 1184.91 462.677 Q1188.42 462.677 1190.46 460.833 Q1192.51 458.99 1192.51 455.83 Q1192.51 452.671 1190.46 450.828 Q1188.42 448.984 1184.91 448.984 Q1183.27 448.984 1181.63 449.349 Q1180.01 449.714 1178.31 450.483 L1178.31 435.292 Z\" fill=\"#000000\" fill-rule=\"evenodd\" fill-opacity=\"1\" /><path clip-path=\"url(#clip270)\" d=\"M966.529 1326.59 L960.979 1341.64 L972.099 1341.64 L966.529 1326.59 M964.22 1322.56 L968.858 1322.56 L980.383 1352.8 L976.129 1352.8 L973.375 1345.05 L959.743 1345.05 L956.989 1352.8 L952.674 1352.8 L964.22 1322.56 Z\" fill=\"#000000\" fill-rule=\"evenodd\" fill-opacity=\"1\" /><path clip-path=\"url(#clip270)\" d=\"M655.684 262.996 L655.684 274.075 L662.246 274.075 Q665.548 274.075 667.128 272.718 Q668.728 271.341 668.728 268.525 Q668.728 265.69 667.128 264.353 Q665.548 262.996 662.246 262.996 L655.684 262.996 M655.684 250.559 L655.684 259.674 L661.74 259.674 Q664.738 259.674 666.196 258.56 Q667.675 257.426 667.675 255.117 Q667.675 252.828 666.196 251.694 Q664.738 250.559 661.74 250.559 L655.684 250.559 M651.592 247.197 L662.044 247.197 Q666.723 247.197 669.254 249.142 Q671.786 251.086 671.786 254.671 Q671.786 257.446 670.49 259.087 Q669.194 260.727 666.682 261.132 Q669.7 261.78 671.361 263.846 Q673.042 265.892 673.042 268.971 Q673.042 273.022 670.287 275.229 Q667.533 277.437 662.449 277.437 L651.592 277.437 L651.592 247.197 Z\" fill=\"#000000\" fill-rule=\"evenodd\" fill-opacity=\"1\" /><path clip-path=\"url(#clip270)\" d=\"M1749.88 521.462 L1749.88 525.776 Q1747.81 523.852 1745.46 522.9 Q1743.13 521.948 1740.5 521.948 Q1735.31 521.948 1732.56 525.128 Q1729.8 528.288 1729.8 534.283 Q1729.8 540.258 1732.56 543.438 Q1735.31 546.598 1740.5 546.598 Q1743.13 546.598 1745.46 545.646 Q1747.81 544.694 1749.88 542.77 L1749.88 547.043 Q1747.73 548.502 1745.32 549.231 Q1742.93 549.96 1740.26 549.96 Q1733.39 549.96 1729.44 545.767 Q1725.49 541.555 1725.49 534.283 Q1725.49 526.992 1729.44 522.799 Q1733.39 518.586 1740.26 518.586 Q1742.97 518.586 1745.36 519.315 Q1747.77 520.024 1749.88 521.462 Z\" fill=\"#000000\" fill-rule=\"evenodd\" fill-opacity=\"1\" /></svg>\n"
      ]
     },
     "execution_count": 30,
     "metadata": {},
     "output_type": "execute_result"
    }
   ],
   "source": [
    "graphplot(g.graph, names=[\"A\",\"B\",\"C\"], edgelabel = Dict((1,2)=>3,(2,3)=>5,(1,3) => 7))"
   ]
  },
  {
   "cell_type": "markdown",
   "id": "27796611-83dc-4dc0-b853-8f10016c6611",
   "metadata": {},
   "source": [
    "One of the things to do in the project is to plot a graph with `plotgraph(g)` and it should add the vertex labels and the edge labels."
   ]
  },
  {
   "cell_type": "code",
   "execution_count": null,
   "id": "2e1afb95-a6ec-4192-9662-46ce0d79921f",
   "metadata": {},
   "outputs": [],
   "source": []
  }
 ],
 "metadata": {
  "kernelspec": {
   "display_name": "Julia 1.8.3",
   "language": "julia",
   "name": "julia-1.8"
  },
  "language_info": {
   "file_extension": ".jl",
   "mimetype": "application/julia",
   "name": "julia",
   "version": "1.8.3"
  }
 },
 "nbformat": 4,
 "nbformat_minor": 5
}
