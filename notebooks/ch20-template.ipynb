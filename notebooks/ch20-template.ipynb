{
 "cells": [
  {
   "cell_type": "markdown",
   "metadata": {},
   "source": [
    "## Chapter 20: Simulating Poker Hands"
   ]
  },
  {
   "cell_type": "markdown",
   "metadata": {},
   "source": [
    "This chapter uses the ideas from the previous two chapters to study the probability that certain poker hands arise.  "
   ]
  },
  {
   "cell_type": "markdown",
   "metadata": {},
   "source": [
    "In this chapter, we are only concerned with 5 cards with no jokers and just determining if a hand satisfies one of the following:\n",
    "\n",
    "* _Royal Flush_: the ranks of the cards are 10, J, Q, K, A and all cards have the same suit.\n",
    "* _Straight Flush_: the ranks are sequential and all cards have the same suit. We will allow Ace to be both high (as in a Royal Flush) and low, like, A, 2, 3, 4, 5.\n",
    "* _Flush_: All cards have the same suit. We will exclude straight flushes.\n",
    "* _Straight_: The ranks of the 5 cards are sequential and ace can be high or low. Again, we will exclude straight flushes.\n",
    "* _Four of a kind_: four of the cards have the same rank\n",
    "* _Full House_: two cards have the same rank, the other three cards have the same rank. The suit doesn’t matter.\n",
    "* _Three of a kind_: three of the cards have the same rank. The other two cards do not have the same rank. The suit of the cards doesn’t matter and also, make sure that the other two cards are not a pair or that would be a full house.\n",
    "* _Two pairs_: Two cards have the same rank. Two of the remaining cards have the same rank, but different than the first two pair. The 5th card does not make it a full house.\n",
    "* One pair: two cards have the same rank. The remaining cards do not make it a different type of hand (full house, three of a kind, etc.)\n",
    "* _No pair_ or _nothing_: the cards don’t form any other hand. This is also called _High Card_, in that if comparing hands, the highest card in the hand is important."
   ]
  },
  {
   "cell_type": "markdown",
   "metadata": {},
   "source": [
    "The following will load in a package that I made.  We will see how to create a package shortly.  Note: because the package is local (instead of being fetched from the internet), the name of the package in the `using` statement is proceded by a . "
   ]
  },
  {
   "cell_type": "code",
   "execution_count": null,
   "metadata": {},
   "outputs": [],
   "source": [
    "include(\"../julia-files/PlayingCards.jl\")\n",
    "using .PlayingCards"
   ]
  },
  {
   "cell_type": "markdown",
   "metadata": {},
   "source": [
    "Here's a list of those hands above using a different Hand constructor."
   ]
  },
  {
   "cell_type": "code",
   "execution_count": null,
   "metadata": {},
   "outputs": [],
   "source": [
    "royal_flush_1 = Hand(\"T♠,J♠,Q♠,K♠,A♠\")"
   ]
  },
  {
   "cell_type": "markdown",
   "metadata": {},
   "source": [
    "The suits can be entered in by typing `\\heartsuit` or `\\spadesuit`, etc.  then hit TAB. "
   ]
  },
  {
   "cell_type": "code",
   "execution_count": null,
   "metadata": {},
   "outputs": [],
   "source": [
    "straight_flush_1 = Hand(\"2♡,3♡,4♡,5♡,6♡\")"
   ]
  },
  {
   "cell_type": "code",
   "execution_count": null,
   "metadata": {},
   "outputs": [],
   "source": [
    "flush_1 = Hand(\"2♣,7♣,T♣,3♣,A♣\")"
   ]
  },
  {
   "cell_type": "code",
   "execution_count": null,
   "metadata": {},
   "outputs": [],
   "source": [
    "straight_1 = Hand(\"4♣,5♠,6♠,7♢,8♣\")"
   ]
  },
  {
   "cell_type": "code",
   "execution_count": null,
   "metadata": {},
   "outputs": [],
   "source": [
    "four_of_a_kind_1 = Hand(\"2♠,5♠,5♢,5♣,5♡\")"
   ]
  },
  {
   "cell_type": "code",
   "execution_count": null,
   "metadata": {},
   "outputs": [],
   "source": [
    "full_house_1 = Hand(\"4♣,4♢,4♠,7♣,7♢\")\n",
    "full_house_2 = Hand(\"4♣,4♢,7♠,7♣,7♢\")"
   ]
  },
  {
   "cell_type": "code",
   "execution_count": null,
   "metadata": {},
   "outputs": [],
   "source": [
    "three_of_a_kind_1 = Hand(\"4♠,4♢,4♣,A♠,7♡\")"
   ]
  },
  {
   "cell_type": "code",
   "execution_count": null,
   "metadata": {},
   "outputs": [],
   "source": [
    "two_pair_1 = Hand(\"4♣,4♢,5♠,7♣,7♢\")"
   ]
  },
  {
   "cell_type": "code",
   "execution_count": null,
   "metadata": {},
   "outputs": [],
   "source": [
    "one_pair_1 = Hand(\"2♠,2♢,5♣,8♢,Q♣\")"
   ]
  },
  {
   "cell_type": "code",
   "execution_count": null,
   "metadata": {},
   "outputs": [],
   "source": [
    "nothing_hand = Hand(\"T♣,4♢,Q♠,3♣,6♢\")"
   ]
  },
  {
   "cell_type": "markdown",
   "metadata": {},
   "source": [
    "If we are to study the probability that poker hands arise, then we will want functions that test a hand.  For example, let's look a one that tests for a full house.  This hand is probably the easiest to test because it takes all 5 cards and there are special cases (like straights, straight flushes, royal flushes)"
   ]
  },
  {
   "cell_type": "code",
   "execution_count": null,
   "metadata": {},
   "outputs": [],
   "source": [
    "function isFullHouse(h::Hand)\n",
    "\n",
    "end"
   ]
  },
  {
   "cell_type": "code",
   "execution_count": null,
   "metadata": {},
   "outputs": [],
   "source": [
    "isFullHouse(full_house_1)"
   ]
  },
  {
   "cell_type": "code",
   "execution_count": null,
   "metadata": {},
   "outputs": [],
   "source": [
    "isFullHouse(full_house_2)"
   ]
  },
  {
   "cell_type": "code",
   "execution_count": null,
   "metadata": {},
   "outputs": [],
   "source": [
    "isFullHouse(Hand(\"2♠,5♢,2♣,5♠,5♡\"))"
   ]
  },
  {
   "cell_type": "code",
   "execution_count": null,
   "metadata": {},
   "outputs": [],
   "source": [
    "isFullHouse(Hand(\"5♠,5♢,5♣,4♠,5♡\"))"
   ]
  },
  {
   "cell_type": "markdown",
   "metadata": {},
   "source": [
    "Let's now test some other hands: "
   ]
  },
  {
   "cell_type": "code",
   "execution_count": null,
   "metadata": {},
   "outputs": [],
   "source": [
    "isFullHouse(four_of_a_kind_1),isFullHouse(flush_1),isFullHouse(three_of_a_kind_1)"
   ]
  },
  {
   "cell_type": "markdown",
   "metadata": {},
   "source": [
    "### 20.2: Simulating Poker Hands"
   ]
  },
  {
   "cell_type": "markdown",
   "metadata": {},
   "source": [
    "We are probably interested in determining how often a given poker hand comes up.  There are counting techniques to do this, but we will do a simulation instead.  Here's the idea:\n",
    "\n",
    "1. Take a deck and shuffle it. \n",
    "2. Use the top 5 cards as a hand\n",
    "3. test if the hand is a full house, straight, etc. \n",
    "4. if it is, tally that. \n",
    "5. Repeat this a large number of times.\n",
    "\n",
    "The following will do this."
   ]
  },
  {
   "cell_type": "code",
   "execution_count": null,
   "metadata": {},
   "outputs": [],
   "source": [
    "function runTrials(f::Function, trials::Integer)\n",
    "\n",
    "end"
   ]
  },
  {
   "cell_type": "markdown",
   "metadata": {},
   "source": [
    "We can now run this on the `isFullHouse` function"
   ]
  },
  {
   "cell_type": "code",
   "execution_count": null,
   "metadata": {},
   "outputs": [],
   "source": [
    "runTrials(isFullHouse,10_000_000)"
   ]
  },
  {
   "cell_type": "markdown",
   "metadata": {},
   "source": [
    "Check out the [wikipedia page on Poker Probabilities](https://en.wikipedia.org/wiki/Poker_probability). Using counting techniques (that is determining the total number of full house hands divided by the total number of 5 card hands), it is 0.1441%. "
   ]
  },
  {
   "cell_type": "markdown",
   "metadata": {},
   "source": [
    "#### 20.3: Probabilities of Other Hands"
   ]
  },
  {
   "cell_type": "markdown",
   "metadata": {},
   "source": [
    "I mentioned above that some of the hands are difficult to determine because you need to exclude some other hands.  For example, a flush has all the same suit (but is not a straight flush or royal flush). To help with this, we're going to produce two functions that test all the same suit, and if there is a run. "
   ]
  },
  {
   "cell_type": "code",
   "execution_count": null,
   "metadata": {},
   "outputs": [],
   "source": [
    "function isOneSuit(h::Hand)\n",
    "  local s = map(c->c.suit,h.cards)\n",
    "  s[1]==s[2]==s[3]==s[4]==s[5]\n",
    "end"
   ]
  },
  {
   "cell_type": "code",
   "execution_count": null,
   "metadata": {},
   "outputs": [],
   "source": [
    "isOneSuit(flush_1)"
   ]
  },
  {
   "cell_type": "code",
   "execution_count": null,
   "metadata": {},
   "outputs": [],
   "source": [
    "isOneSuit(Hand(\"2♣,6♣,A♣,J♣,3♠\"))"
   ]
  },
  {
   "cell_type": "code",
   "execution_count": null,
   "metadata": {},
   "outputs": [],
   "source": [
    "function isRun(h::Hand)\n",
    "  local r = sort(map(c->c.rank,h.cards))\n",
    "  r[2]==r[1]+1 && r[3]==r[2]+1 && r[4]==r[3]+1 && r[5]==r[4]+1 ||\n",
    "  r[1]==1 && r[2]==10 && r[3]==11 && r[4]==12 && r[5]==13 ## ace high run\n",
    "end"
   ]
  },
  {
   "cell_type": "code",
   "execution_count": null,
   "metadata": {},
   "outputs": [],
   "source": [
    "isRun(Hand(\"A♣,2♣,3♢,4♡,5♡\"))"
   ]
  },
  {
   "cell_type": "markdown",
   "metadata": {},
   "source": [
    "Write an `isRoyalFlush` function that tests for a royal flush."
   ]
  },
  {
   "cell_type": "code",
   "execution_count": null,
   "metadata": {},
   "outputs": [],
   "source": [
    "function isRoyalFlush(h::Hand)\n",
    "\n",
    "end"
   ]
  },
  {
   "cell_type": "code",
   "execution_count": null,
   "metadata": {},
   "outputs": [],
   "source": [
    "royal_flush_1"
   ]
  },
  {
   "cell_type": "code",
   "execution_count": null,
   "metadata": {},
   "outputs": [],
   "source": [
    "isRoyalFlush(royal_flush_1)"
   ]
  },
  {
   "cell_type": "code",
   "execution_count": null,
   "metadata": {},
   "outputs": [],
   "source": [
    "isRoyalFlush(straight_flush_1)"
   ]
  },
  {
   "cell_type": "code",
   "execution_count": null,
   "metadata": {},
   "outputs": [],
   "source": [
    "@time runTrials(isRoyalFlush,10_000_000)"
   ]
  },
  {
   "cell_type": "markdown",
   "metadata": {},
   "source": [
    "The actual probability is 0.00000154 (or 0.000154%)"
   ]
  },
  {
   "cell_type": "markdown",
   "metadata": {},
   "source": [
    "#### Exerise: Two-Pair Function\n",
    "\n",
    "Write an `isTwoPair` function that takes in a `Hand` and returns true if this is a two-pair hand. "
   ]
  },
  {
   "cell_type": "code",
   "execution_count": null,
   "metadata": {},
   "outputs": [],
   "source": [
    "function isTwoPair(h::Hand)\n",
    "\n",
    "end"
   ]
  },
  {
   "cell_type": "code",
   "execution_count": null,
   "metadata": {},
   "outputs": [],
   "source": [
    "two_pair_1"
   ]
  },
  {
   "cell_type": "code",
   "execution_count": null,
   "metadata": {},
   "outputs": [],
   "source": [
    "isTwoPair(two_pair_1)"
   ]
  },
  {
   "cell_type": "code",
   "execution_count": null,
   "metadata": {},
   "outputs": [],
   "source": [
    "isTwoPair(four_of_a_kind_1)"
   ]
  },
  {
   "cell_type": "code",
   "execution_count": null,
   "metadata": {},
   "outputs": [],
   "source": [
    "isTwoPair(full_house_1)"
   ]
  },
  {
   "cell_type": "markdown",
   "metadata": {},
   "source": [
    "Note that if you have a four of a kind this should not work:"
   ]
  },
  {
   "cell_type": "code",
   "execution_count": null,
   "metadata": {},
   "outputs": [],
   "source": [
    "isTwoPair(four_of_a_kind_1)"
   ]
  }
 ],
 "metadata": {
  "kernelspec": {
   "display_name": "Julia 1.11.1",
   "language": "julia",
   "name": "julia-1.11"
  },
  "language_info": {
   "file_extension": ".jl",
   "mimetype": "application/julia",
   "name": "julia",
   "version": "1.11.1"
  }
 },
 "nbformat": 4,
 "nbformat_minor": 4
}
