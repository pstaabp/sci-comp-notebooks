{
 "cells": [
  {
   "cell_type": "markdown",
   "metadata": {},
   "source": [
    "## Chapter 32: Traveling Salesperson and Shortest Path problems"
   ]
  },
  {
   "cell_type": "code",
   "execution_count": null,
   "metadata": {},
   "outputs": [],
   "source": [
    "using LightGraphs, SimpleWeightedGraphs, Plots, GraphRecipes, Combinatorics, HTTP, JSON"
   ]
  },
  {
   "cell_type": "markdown",
   "metadata": {},
   "source": [
    "The Traveling Salesperson Problem (TSP) is based on an example in which a salesperson must travel to visit a set of cities and return home.  The goal is to find the shortest path (could be shortest distance or time) for the entire trip.\n",
    "\n",
    "Mathematically, this problem is thought of as a graph.  Consider the following: "
   ]
  },
  {
   "cell_type": "code",
   "execution_count": null,
   "metadata": {},
   "outputs": [],
   "source": [
    "g = SimpleWeightedGraph(5)\n",
    "add_edge!(g, 1, 2, 13)\n",
    "add_edge!(g, 1, 3, 15)\n",
    "add_edge!(g, 1, 4, 9)\n",
    "add_edge!(g, 1, 5, 13)\n",
    "add_edge!(g, 2, 3, 8)\n",
    "add_edge!(g, 2, 4, 12)\n",
    "add_edge!(g, 2, 5, 20)\n",
    "add_edge!(g, 3, 4, 17)\n",
    "add_edge!(g, 3, 5, 15)\n",
    "add_edge!(g, 4, 5, 18)\n",
    "\n",
    "edge_labels = Dict()\n",
    "dmatrix=zeros(Float64,5,5)\n",
    "for i=1:5\n",
    "  for j=1:5\n",
    "    dmatrix[i,j]= get_weight(g,i,j)\n",
    "    if dmatrix[i,j] > 0 \n",
    "      edge_labels[(i,j)] = dmatrix[i,j]\n",
    "    end\n",
    "  end\n",
    "end"
   ]
  },
  {
   "cell_type": "code",
   "execution_count": null,
   "metadata": {},
   "outputs": [],
   "source": [
    "graphplot(g,names=1:5,edgelabel=edge_labels)"
   ]
  },
  {
   "cell_type": "markdown",
   "metadata": {},
   "source": [
    "Imagine that the salesperson is at any one of the node (vertices) and needs to visit any node.  For example, consider the path `1-->2-->3-->4-->5-->1` which has a total distance of $13+8+17+18+13=69$. "
   ]
  },
  {
   "cell_type": "markdown",
   "metadata": {},
   "source": [
    "We'll solve this by exhaustive search.  For a TSP problem with $n$ cities, there are a total of $(n-1)!$ paths to check."
   ]
  },
  {
   "cell_type": "markdown",
   "metadata": {},
   "source": [
    "First, an array of all of the weights (distances) of the graph was generated above:"
   ]
  },
  {
   "cell_type": "code",
   "execution_count": null,
   "metadata": {},
   "outputs": [],
   "source": [
    "dmatrix"
   ]
  },
  {
   "cell_type": "markdown",
   "metadata": {},
   "source": [
    "where the distance between nodes $i$ and $j$ is in the array at both row $i$, column $j$ and row $i$, column $j$."
   ]
  },
  {
   "cell_type": "markdown",
   "metadata": {},
   "source": [
    "We can then use a path to sum up the distances.  Here's a function to do that:"
   ]
  },
  {
   "cell_type": "code",
   "execution_count": null,
   "metadata": {},
   "outputs": [],
   "source": [
    "function totalDistance(path::Vector{T1}, distances::Array{T2,2}) where {T1 <: Real, T2 <: Real}\n",
    "    local dist = distances[path[end],path[1]]\n",
    "    for i=1:length(path)-1\n",
    "        dist += distances[path[i],path[i+1]]\n",
    "    end\n",
    "    dist\n",
    "end     "
   ]
  },
  {
   "cell_type": "markdown",
   "metadata": {},
   "source": [
    "We can find the distance of the path $1\\rightarrow2\\rightarrow3\\rightarrow4\\rightarrow5\\rightarrow1$ with"
   ]
  },
  {
   "cell_type": "code",
   "execution_count": null,
   "metadata": {},
   "outputs": [],
   "source": [
    "totalDistance([1,2,3,4,5],dmatrix)"
   ]
  },
  {
   "cell_type": "markdown",
   "metadata": {},
   "source": [
    "We can find the distance of the path $2\\rightarrow1\\rightarrow4\\rightarrow3\\rightarrow5\\rightarrow2$ with"
   ]
  },
  {
   "cell_type": "code",
   "execution_count": null,
   "metadata": {},
   "outputs": [],
   "source": [
    "totalDistance([2,1,4,3,5],dmatrix)"
   ]
  },
  {
   "cell_type": "markdown",
   "metadata": {},
   "source": [
    "One way to find the path with the shortest distance is to go through all of the possible paths, which is a permutation of the vector `[1,2,3,4,5]`.  The function `nthperm` returns a permutation of the first argument (an array) and the integer $n$.  This function is in the `Combinatorics` package.  Here's it applied to an array of strings:"
   ]
  },
  {
   "cell_type": "code",
   "execution_count": null,
   "metadata": {},
   "outputs": [],
   "source": [
    "for i=1:24\n",
    "  p = nthperm([\"horse\",\"zebra\",\"camel\",\"whale\"],i)\n",
    "  @show p\n",
    "end"
   ]
  },
  {
   "cell_type": "code",
   "execution_count": null,
   "metadata": {},
   "outputs": [],
   "source": [
    "nthperm(1:5,2)"
   ]
  },
  {
   "cell_type": "code",
   "execution_count": null,
   "metadata": {},
   "outputs": [],
   "source": [
    "nthperm(1:5,30)"
   ]
  },
  {
   "cell_type": "markdown",
   "metadata": {},
   "source": [
    "To find the shortest path by brute-force calculation:"
   ]
  },
  {
   "cell_type": "code",
   "execution_count": null,
   "metadata": {},
   "outputs": [],
   "source": [
    "d=map(k->totalDistance(nthperm(1:5,k),dmatrix),1:factorial(5))"
   ]
  },
  {
   "cell_type": "code",
   "execution_count": null,
   "metadata": {},
   "outputs": [],
   "source": [
    "findmin(d)"
   ]
  },
  {
   "cell_type": "markdown",
   "metadata": {},
   "source": [
    "This shows that the minimum is 57 and is located at index 13.  The order of nodes is: "
   ]
  },
  {
   "cell_type": "code",
   "execution_count": null,
   "metadata": {},
   "outputs": [],
   "source": [
    "nthperm(1:5,findmin(d)[2])"
   ]
  },
  {
   "cell_type": "markdown",
   "metadata": {},
   "source": [
    "This shows that the minimum path starting at 1 is $1\\rightarrow4\\rightarrow2\\rightarrow3\\rightarrow5\\rightarrow1$ has a total distance of 57"
   ]
  },
  {
   "cell_type": "markdown",
   "metadata": {},
   "source": [
    "#### Minimizing distances between cities:\n",
    "\n",
    "We showed earlier how to fetch distances between a set of cities.  Here's that code again"
   ]
  },
  {
   "cell_type": "code",
   "execution_count": null,
   "metadata": {},
   "outputs": [],
   "source": [
    "mapquest_key = \"WL9lkNndull1hszCbog4MicH6ZRPGEEO\" ## add your key here. "
   ]
  },
  {
   "cell_type": "code",
   "execution_count": null,
   "metadata": {},
   "outputs": [],
   "source": [
    "towns = Dict(\n",
    "    \"locations\"=>[\"Fitchburg, MA\",\"Boston, MA\",\"Providence, RI\",\"Nashua, NH\",\"Portland, ME\", \"Concord, NH\"],\n",
    "      \"options\" => Dict(\"allToAll\"=>true))"
   ]
  },
  {
   "cell_type": "code",
   "execution_count": null,
   "metadata": {},
   "outputs": [],
   "source": [
    "req2 = HTTP.request(\"POST\",\"http://www.mapquestapi.com/directions/v2/routematrix?key=$mapquest_key\",[],JSON.json(towns));"
   ]
  },
  {
   "cell_type": "code",
   "execution_count": null,
   "metadata": {},
   "outputs": [],
   "source": [
    "distance_dict = JSON.parse(String(req2.body))\n",
    "dist_array = collect(transpose(reshape(collect(Iterators.flatten(distance_dict[\"distance\"])),(6,6))))"
   ]
  },
  {
   "cell_type": "markdown",
   "metadata": {},
   "source": [
    "Now let's find all routes through the towns:"
   ]
  },
  {
   "cell_type": "code",
   "execution_count": null,
   "metadata": {},
   "outputs": [],
   "source": [
    "d=map(k->totalDistance(nthperm(1:6,k),dist_array),1:factorial(5));"
   ]
  },
  {
   "cell_type": "code",
   "execution_count": null,
   "metadata": {},
   "outputs": [],
   "source": [
    "findmin(d)"
   ]
  },
  {
   "cell_type": "code",
   "execution_count": null,
   "metadata": {},
   "outputs": [],
   "source": [
    "nthperm(1:6,71)"
   ]
  },
  {
   "cell_type": "markdown",
   "metadata": {},
   "source": [
    "The cities in order are:"
   ]
  },
  {
   "cell_type": "code",
   "execution_count": null,
   "metadata": {},
   "outputs": [],
   "source": [
    "towns[\"locations\"][nthperm(1:6,71)]"
   ]
  },
  {
   "cell_type": "markdown",
   "metadata": {},
   "source": [
    "### Simulated Annealing\n",
    "\n",
    "As the number of towns increase, the brute force method of finding all routes is not possible.  This grows as a factorial. Alternatively, we will use randomness to solve this problem.  Here's the idea:\n",
    "\n",
    "1. Start with any route.  Calculate the distance of the route\n",
    "2. randomly swap two towns in the route and calculate the distance. \n",
    "3. If the distance decreases, replace the route with the new route and the distance with the new distance. \n",
    "4. Repeat steps 2 and 3 as many times as possible."
   ]
  },
  {
   "cell_type": "code",
   "execution_count": null,
   "metadata": {},
   "outputs": [],
   "source": [
    "route = collect(1:6)"
   ]
  },
  {
   "cell_type": "code",
   "execution_count": null,
   "metadata": {},
   "outputs": [],
   "source": [
    "dist = totalDistance(route, dist_array)"
   ]
  },
  {
   "cell_type": "code",
   "execution_count": null,
   "metadata": {},
   "outputs": [],
   "source": [
    "i=rand(1:6)\n",
    "j=rand(1:6)"
   ]
  },
  {
   "cell_type": "code",
   "execution_count": null,
   "metadata": {},
   "outputs": [],
   "source": [
    "route[[i,j]] = route[[j,i]]"
   ]
  },
  {
   "cell_type": "code",
   "execution_count": null,
   "metadata": {},
   "outputs": [],
   "source": [
    "new_dist = totalDistance(route,dist_array)"
   ]
  },
  {
   "cell_type": "code",
   "execution_count": null,
   "metadata": {},
   "outputs": [],
   "source": [
    "function TSP_simulated_annealing(distances::Array{T,2},iter::Int) where T<: Real\n",
    "    ###This will run simulated annealing on the TSP and return the shortest distance after iter iterations\n",
    " \n",
    "    local N = size(distances,1)\n",
    "    local path = collect(1:N)\n",
    "    local min_dist = totalDistance(path,distances)\n",
    "    local min_path = copy(path)  ## you need to do the copy to make a copy of the contents.\n",
    "  \n",
    "    for i=1:iter\n",
    "        k=rand(1:N)\n",
    "        j=rand(1:N)\n",
    "        path[[j,k]]=path[[k,j]]  ## swap the elements at j and k\n",
    "        dist=totalDistance(path,distances)\n",
    "        if dist<min_dist\n",
    "            min_dist = dist\n",
    "            min_path = copy(path)\n",
    "        end\n",
    "    end\n",
    "    (min_path,min_dist)\n",
    "end"
   ]
  },
  {
   "cell_type": "code",
   "execution_count": null,
   "metadata": {},
   "outputs": [],
   "source": [
    "soln = TSP_simulated_annealing(dist_array,100_000)"
   ]
  },
  {
   "cell_type": "code",
   "execution_count": null,
   "metadata": {},
   "outputs": [],
   "source": [
    "towns[\"locations\"][soln[1]]"
   ]
  },
  {
   "cell_type": "markdown",
   "metadata": {},
   "source": [
    "#### Let's say we have more towns:"
   ]
  },
  {
   "cell_type": "markdown",
   "metadata": {},
   "source": [
    "The following will generate some fake data for distances:"
   ]
  },
  {
   "cell_type": "code",
   "execution_count": null,
   "metadata": {},
   "outputs": [],
   "source": [
    "A = 25*ones(10,10)+25*rand(10,10)\n",
    "dist10 = A + transpose(A);\n",
    "for i=1:10\n",
    "  dist10[i,i]= 0 \n",
    "end\n",
    "dist10"
   ]
  },
  {
   "cell_type": "code",
   "execution_count": null,
   "metadata": {},
   "outputs": [],
   "source": [
    "find_TSP(dist10,10_000_000)"
   ]
  },
  {
   "cell_type": "markdown",
   "metadata": {},
   "source": [
    "### Shortest Path Problems:"
   ]
  },
  {
   "cell_type": "markdown",
   "metadata": {},
   "source": [
    "Similar to the traveling salesperson problem, a shortest path problem also occurs on a weighted graph.  Consider the following: "
   ]
  },
  {
   "cell_type": "code",
   "execution_count": null,
   "metadata": {},
   "outputs": [],
   "source": [
    "g = SimpleWeightedGraph(6)\n",
    "add_edge!(g, 1, 2, 9)\n",
    "add_edge!(g, 1, 4, 11)\n",
    "add_edge!(g, 1, 5, 16)\n",
    "add_edge!(g, 2, 3, 15)\n",
    "add_edge!(g, 2, 5, 4)\n",
    "add_edge!(g, 3, 5, 10)\n",
    "add_edge!(g, 3, 6, 6)\n",
    "add_edge!(g, 4, 5, 20)\n",
    "add_edge!(g, 5, 6, 17)\n",
    "\n",
    "edge_labels = Dict()\n",
    "wts=zeros(Float64,6,6)\n",
    "for i=1:6\n",
    "  for j=1:6\n",
    "    wts[i,j]= get_weight(g,i,j)\n",
    "    if wts[i,j] > 0 \n",
    "      edge_labels[(i,j)] = wts[i,j]\n",
    "    end\n",
    "  end\n",
    "end"
   ]
  },
  {
   "cell_type": "markdown",
   "metadata": {},
   "source": [
    "We can plot the graph with: "
   ]
  },
  {
   "cell_type": "code",
   "execution_count": null,
   "metadata": {},
   "outputs": [],
   "source": [
    "graphplot(g,names=[\"A\",\"B\",\"C\",\"D\",\"E\",\"F\"],edgelabel=edge_labels)"
   ]
  },
  {
   "cell_type": "markdown",
   "metadata": {},
   "source": [
    "In a shortest path problem, we wish to go from one node to another one.  This is actually an easier problem to solve that the traveling salesperson problem.  There are a few standard algorithms including [Dijkstra's Algorithm](https://en.wikipedia.org/wiki/Dijkstra%27s_algorithm) and [$A^{\\star}$ search algorithm](https://en.wikipedia.org/wiki/A%2A_search_algorithm)"
   ]
  },
  {
   "cell_type": "markdown",
   "metadata": {},
   "source": [
    "Here's the shortest path from node 1 to 3 (A to C):"
   ]
  },
  {
   "cell_type": "code",
   "execution_count": null,
   "metadata": {},
   "outputs": [],
   "source": [
    "enumerate_paths(dijkstra_shortest_paths(g, 1), 3)"
   ]
  },
  {
   "cell_type": "code",
   "execution_count": null,
   "metadata": {},
   "outputs": [],
   "source": [
    "enumerate_paths(dijkstra_shortest_paths(g,5),6)"
   ]
  },
  {
   "cell_type": "code",
   "execution_count": null,
   "metadata": {},
   "outputs": [],
   "source": [
    "enumerate_paths(dijkstra_shortest_paths(g, 1), 5)"
   ]
  },
  {
   "cell_type": "code",
   "execution_count": null,
   "metadata": {},
   "outputs": [],
   "source": [
    "enumerate_paths(dijkstra_shortest_paths(g, 1), 6)"
   ]
  },
  {
   "cell_type": "markdown",
   "metadata": {},
   "source": [
    "If needed, you can find the shortest path from any node:"
   ]
  },
  {
   "cell_type": "code",
   "execution_count": null,
   "metadata": {},
   "outputs": [],
   "source": [
    "enumerate_paths(dijkstra_shortest_paths(g,5))"
   ]
  },
  {
   "cell_type": "markdown",
   "metadata": {},
   "source": [
    "This algorithm can be combined with real distances between points in a city (say places or intersections) to determine shortest paths similar to mapping apps like google maps or Apple Maps. "
   ]
  },
  {
   "cell_type": "code",
   "execution_count": null,
   "metadata": {},
   "outputs": [],
   "source": []
  }
 ],
 "metadata": {
  "kernelspec": {
   "display_name": "Julia 1.8.3",
   "language": "julia",
   "name": "julia-1.8"
  },
  "language_info": {
   "file_extension": ".jl",
   "mimetype": "application/julia",
   "name": "julia",
   "version": "1.8.3"
  }
 },
 "nbformat": 4,
 "nbformat_minor": 4
}
