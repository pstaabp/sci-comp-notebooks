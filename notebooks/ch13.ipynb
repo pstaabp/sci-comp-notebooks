{
 "cells": [
  {
   "cell_type": "markdown",
   "metadata": {},
   "source": [
    "## Chapter 13: Probability and Random Numbers\n",
    "\n",
    "This shows some basic probability and random numbers. Let's start with doing some basic probability defintions:"
   ]
  },
  {
   "cell_type": "markdown",
   "metadata": {},
   "source": [
    "#### Definitions\n",
    "* An __experiment__ is something that produces outcomes. \n",
    "* The __sample space__ of an experiment is the set of all possible outcomes."
   ]
  },
  {
   "cell_type": "markdown",
   "metadata": {},
   "source": [
    "#### Example\n",
    "What is the sample space of flipping 3 coins?"
   ]
  },
  {
   "cell_type": "markdown",
   "metadata": {},
   "source": [
    "$\\{HHH,TTT,TTH,THT,HTT,HHT,HTH,THH\\}$"
   ]
  },
  {
   "cell_type": "markdown",
   "metadata": {},
   "source": [
    "#### Defintion\n",
    "An __event__ is a subset of the sample space.\n",
    "\n",
    "#### Example\n",
    "Write down the event of getting 2 heads of the above sample space.\n",
    "\n",
    "$$\\{HHT,HTH,THH\\}$$"
   ]
  },
  {
   "cell_type": "markdown",
   "metadata": {},
   "source": [
    "If the number of elements in a sample space is finite and denoted $n(S)$, then we can find the probability that an event $A$ occurs with\n",
    "$$P(A) = \\frac{n(A)}{n(S)}$$\n",
    "where $n(A)$ returns the number of elements in the set/event $A$.  Note: each element of the sample is equally-likely to occur"
   ]
  },
  {
   "cell_type": "markdown",
   "metadata": {},
   "source": [
    "#### Defintion\n",
    "A __random variable__ is a function from the sample space S to a real number."
   ]
  },
  {
   "cell_type": "markdown",
   "metadata": {},
   "source": [
    "#### Example\n",
    "Consider a 6-sided die.  The sample space is the set of the 6 sides that appear up on a roll.  Let $X$ be the number of dots on each die.  Since $X$ is a function from the sample space to the integers (subset of the reals), $X$ is a random variable.\n"
   ]
  },
  {
   "cell_type": "markdown",
   "metadata": {},
   "source": [
    "#### Example\n",
    "Let the sample space be that of the 3 coin flips from above. Let $X$ be the number of $H$ in each coin flip. $X$ is a random variable."
   ]
  },
  {
   "cell_type": "markdown",
   "metadata": {},
   "source": [
    "#### Example\n",
    "Consider an experiment in which the amount of rain (in either inches or cm) is measured in your hometown on a given day.  The sample space is $\\{ x \\geq 0 \\; | \\; x \\in \\mathbb{R}\\}$ or nonnegative real numbers.  A random variable for this could simply be the amount of rain in the day.  \n"
   ]
  },
  {
   "cell_type": "markdown",
   "metadata": {},
   "source": [
    "#### Defintion\n",
    "If a random variable is discrete, that is, the underlying sample space is discrete, the __probability distribution__ or __probability density function__ or pdf is a function $f(x)$ defined by $p(x) = P(X=x)$ for all $x \\in S$, the sample space. \n"
   ]
  },
  {
   "cell_type": "markdown",
   "metadata": {},
   "source": [
    "#### Example\n",
    "Consider the six-sided die. If the die is fair then the probability of each die coming up are the same.  \n",
    "\n",
    "$$p(x) = 1/6 \\qquad \\text{for all $x \\in \\{1,2,3,4,5,6\\}$.}$$\n"
   ]
  },
  {
   "cell_type": "code",
   "execution_count": 1,
   "metadata": {},
   "outputs": [],
   "source": [
    "using Plots"
   ]
  },
  {
   "cell_type": "markdown",
   "metadata": {},
   "source": [
    "Consider a single die and the probability distribution of a single number coming up has the probability 1/6.  This is called the *probability distribution*. The following is a plot of this."
   ]
  },
  {
   "cell_type": "code",
   "execution_count": 20,
   "metadata": {},
   "outputs": [
    {
     "data": {
      "text/plain": [
       "6-element Vector{Rational{Int64}}:\n",
       " 1//6\n",
       " 1//6\n",
       " 1//6\n",
       " 1//6\n",
       " 1//6\n",
       " 1//6"
      ]
     },
     "execution_count": 20,
     "metadata": {},
     "output_type": "execute_result"
    }
   ],
   "source": [
    "[1//6 for i=1:6]"
   ]
  },
  {
   "cell_type": "code",
   "execution_count": 3,
   "metadata": {},
   "outputs": [
    {
     "data": {
      "image/svg+xml": [
       "<?xml version=\"1.0\" encoding=\"utf-8\"?>\n",
       "<svg xmlns=\"http://www.w3.org/2000/svg\" xmlns:xlink=\"http://www.w3.org/1999/xlink\" width=\"600\" height=\"400\" viewBox=\"0 0 2400 1600\">\n",
       "<defs>\n",
       "  <clipPath id=\"clip630\">\n",
       "    <rect x=\"0\" y=\"0\" width=\"2400\" height=\"1600\"/>\n",
       "  </clipPath>\n",
       "</defs>\n",
       "<path clip-path=\"url(#clip630)\" d=\"\n",
       "M0 1600 L2400 1600 L2400 0 L0 0  Z\n",
       "  \" fill=\"#ffffff\" fill-rule=\"evenodd\" fill-opacity=\"1\"/>\n",
       "<defs>\n",
       "  <clipPath id=\"clip631\">\n",
       "    <rect x=\"480\" y=\"0\" width=\"1681\" height=\"1600\"/>\n",
       "  </clipPath>\n",
       "</defs>\n",
       "<path clip-path=\"url(#clip630)\" d=\"\n",
       "M186.274 1486.45 L2352.76 1486.45 L2352.76 47.2441 L186.274 47.2441  Z\n",
       "  \" fill=\"#ffffff\" fill-rule=\"evenodd\" fill-opacity=\"1\"/>\n",
       "<defs>\n",
       "  <clipPath id=\"clip632\">\n",
       "    <rect x=\"186\" y=\"47\" width=\"2167\" height=\"1440\"/>\n",
       "  </clipPath>\n",
       "</defs>\n",
       "<polyline clip-path=\"url(#clip632)\" style=\"stroke:#000000; stroke-linecap:round; stroke-linejoin:round; stroke-width:2; stroke-opacity:0.1; fill:none\" points=\"\n",
       "  438.411,1486.45 438.411,47.2441 \n",
       "  \"/>\n",
       "<polyline clip-path=\"url(#clip632)\" style=\"stroke:#000000; stroke-linecap:round; stroke-linejoin:round; stroke-width:2; stroke-opacity:0.1; fill:none\" points=\"\n",
       "  770.853,1486.45 770.853,47.2441 \n",
       "  \"/>\n",
       "<polyline clip-path=\"url(#clip632)\" style=\"stroke:#000000; stroke-linecap:round; stroke-linejoin:round; stroke-width:2; stroke-opacity:0.1; fill:none\" points=\"\n",
       "  1103.29,1486.45 1103.29,47.2441 \n",
       "  \"/>\n",
       "<polyline clip-path=\"url(#clip632)\" style=\"stroke:#000000; stroke-linecap:round; stroke-linejoin:round; stroke-width:2; stroke-opacity:0.1; fill:none\" points=\"\n",
       "  1435.74,1486.45 1435.74,47.2441 \n",
       "  \"/>\n",
       "<polyline clip-path=\"url(#clip632)\" style=\"stroke:#000000; stroke-linecap:round; stroke-linejoin:round; stroke-width:2; stroke-opacity:0.1; fill:none\" points=\"\n",
       "  1768.18,1486.45 1768.18,47.2441 \n",
       "  \"/>\n",
       "<polyline clip-path=\"url(#clip632)\" style=\"stroke:#000000; stroke-linecap:round; stroke-linejoin:round; stroke-width:2; stroke-opacity:0.1; fill:none\" points=\"\n",
       "  2100.62,1486.45 2100.62,47.2441 \n",
       "  \"/>\n",
       "<polyline clip-path=\"url(#clip630)\" style=\"stroke:#000000; stroke-linecap:round; stroke-linejoin:round; stroke-width:4; stroke-opacity:1; fill:none\" points=\"\n",
       "  186.274,1486.45 2352.76,1486.45 \n",
       "  \"/>\n",
       "<polyline clip-path=\"url(#clip630)\" style=\"stroke:#000000; stroke-linecap:round; stroke-linejoin:round; stroke-width:4; stroke-opacity:1; fill:none\" points=\"\n",
       "  438.411,1486.45 438.411,1467.55 \n",
       "  \"/>\n",
       "<polyline clip-path=\"url(#clip630)\" style=\"stroke:#000000; stroke-linecap:round; stroke-linejoin:round; stroke-width:4; stroke-opacity:1; fill:none\" points=\"\n",
       "  770.853,1486.45 770.853,1467.55 \n",
       "  \"/>\n",
       "<polyline clip-path=\"url(#clip630)\" style=\"stroke:#000000; stroke-linecap:round; stroke-linejoin:round; stroke-width:4; stroke-opacity:1; fill:none\" points=\"\n",
       "  1103.29,1486.45 1103.29,1467.55 \n",
       "  \"/>\n",
       "<polyline clip-path=\"url(#clip630)\" style=\"stroke:#000000; stroke-linecap:round; stroke-linejoin:round; stroke-width:4; stroke-opacity:1; fill:none\" points=\"\n",
       "  1435.74,1486.45 1435.74,1467.55 \n",
       "  \"/>\n",
       "<polyline clip-path=\"url(#clip630)\" style=\"stroke:#000000; stroke-linecap:round; stroke-linejoin:round; stroke-width:4; stroke-opacity:1; fill:none\" points=\"\n",
       "  1768.18,1486.45 1768.18,1467.55 \n",
       "  \"/>\n",
       "<polyline clip-path=\"url(#clip630)\" style=\"stroke:#000000; stroke-linecap:round; stroke-linejoin:round; stroke-width:4; stroke-opacity:1; fill:none\" points=\"\n",
       "  2100.62,1486.45 2100.62,1467.55 \n",
       "  \"/>\n",
       "<path clip-path=\"url(#clip630)\" d=\"M428.793 1544.91 L436.432 1544.91 L436.432 1518.55 L428.122 1520.21 L428.122 1515.95 L436.386 1514.29 L441.061 1514.29 L441.061 1544.91 L448.7 1544.91 L448.7 1548.85 L428.793 1548.85 L428.793 1544.91 Z\" fill=\"#000000\" fill-rule=\"evenodd\" fill-opacity=\"1\" /><path clip-path=\"url(#clip630)\" d=\"M765.505 1544.91 L781.825 1544.91 L781.825 1548.85 L759.88 1548.85 L759.88 1544.91 Q762.542 1542.16 767.126 1537.53 Q771.732 1532.88 772.913 1531.53 Q775.158 1529.01 776.038 1527.27 Q776.941 1525.51 776.941 1523.82 Q776.941 1521.07 774.996 1519.33 Q773.075 1517.6 769.973 1517.6 Q767.774 1517.6 765.32 1518.36 Q762.89 1519.13 760.112 1520.68 L760.112 1515.95 Q762.936 1514.82 765.39 1514.24 Q767.843 1513.66 769.88 1513.66 Q775.251 1513.66 778.445 1516.35 Q781.64 1519.03 781.64 1523.52 Q781.64 1525.65 780.829 1527.57 Q780.042 1529.47 777.936 1532.07 Q777.357 1532.74 774.255 1535.95 Q771.154 1539.15 765.505 1544.91 Z\" fill=\"#000000\" fill-rule=\"evenodd\" fill-opacity=\"1\" /><path clip-path=\"url(#clip630)\" d=\"M1107.54 1530.21 Q1110.9 1530.93 1112.77 1533.2 Q1114.67 1535.47 1114.67 1538.8 Q1114.67 1543.92 1111.15 1546.72 Q1107.63 1549.52 1101.15 1549.52 Q1098.98 1549.52 1096.66 1549.08 Q1094.37 1548.66 1091.92 1547.81 L1091.92 1543.29 Q1093.86 1544.43 1096.18 1545.01 Q1098.49 1545.58 1101.01 1545.58 Q1105.41 1545.58 1107.7 1543.85 Q1110.02 1542.11 1110.02 1538.8 Q1110.02 1535.75 1107.87 1534.03 Q1105.74 1532.3 1101.92 1532.3 L1097.89 1532.3 L1097.89 1528.45 L1102.1 1528.45 Q1105.55 1528.45 1107.38 1527.09 Q1109.21 1525.7 1109.21 1523.11 Q1109.21 1520.45 1107.31 1519.03 Q1105.44 1517.6 1101.92 1517.6 Q1100 1517.6 1097.8 1518.01 Q1095.6 1518.43 1092.96 1519.31 L1092.96 1515.14 Q1095.62 1514.4 1097.94 1514.03 Q1100.27 1513.66 1102.33 1513.66 Q1107.66 1513.66 1110.76 1516.09 Q1113.86 1518.5 1113.86 1522.62 Q1113.86 1525.49 1112.22 1527.48 Q1110.57 1529.45 1107.54 1530.21 Z\" fill=\"#000000\" fill-rule=\"evenodd\" fill-opacity=\"1\" /><path clip-path=\"url(#clip630)\" d=\"M1438.74 1518.36 L1426.94 1536.81 L1438.74 1536.81 L1438.74 1518.36 M1437.52 1514.29 L1443.4 1514.29 L1443.4 1536.81 L1448.33 1536.81 L1448.33 1540.7 L1443.4 1540.7 L1443.4 1548.85 L1438.74 1548.85 L1438.74 1540.7 L1423.14 1540.7 L1423.14 1536.19 L1437.52 1514.29 Z\" fill=\"#000000\" fill-rule=\"evenodd\" fill-opacity=\"1\" /><path clip-path=\"url(#clip630)\" d=\"M1758.46 1514.29 L1776.81 1514.29 L1776.81 1518.22 L1762.74 1518.22 L1762.74 1526.7 Q1763.76 1526.35 1764.77 1526.19 Q1765.79 1526 1766.81 1526 Q1772.6 1526 1775.98 1529.17 Q1779.36 1532.34 1779.36 1537.76 Q1779.36 1543.34 1775.89 1546.44 Q1772.41 1549.52 1766.09 1549.52 Q1763.92 1549.52 1761.65 1549.15 Q1759.4 1548.78 1757 1548.04 L1757 1543.34 Q1759.08 1544.47 1761.3 1545.03 Q1763.52 1545.58 1766 1545.58 Q1770.01 1545.58 1772.34 1543.48 Q1774.68 1541.37 1774.68 1537.76 Q1774.68 1534.15 1772.34 1532.04 Q1770.01 1529.94 1766 1529.94 Q1764.13 1529.94 1762.25 1530.35 Q1760.4 1530.77 1758.46 1531.65 L1758.46 1514.29 Z\" fill=\"#000000\" fill-rule=\"evenodd\" fill-opacity=\"1\" /><path clip-path=\"url(#clip630)\" d=\"M2101.02 1529.7 Q2097.88 1529.7 2096.02 1531.86 Q2094.2 1534.01 2094.2 1537.76 Q2094.2 1541.49 2096.02 1543.66 Q2097.88 1545.82 2101.02 1545.82 Q2104.17 1545.82 2106 1543.66 Q2107.85 1541.49 2107.85 1537.76 Q2107.85 1534.01 2106 1531.86 Q2104.17 1529.7 2101.02 1529.7 M2110.31 1515.05 L2110.31 1519.31 Q2108.55 1518.48 2106.74 1518.04 Q2104.96 1517.6 2103.2 1517.6 Q2098.57 1517.6 2096.12 1520.72 Q2093.69 1523.85 2093.34 1530.17 Q2094.7 1528.15 2096.76 1527.09 Q2098.82 1526 2101.3 1526 Q2106.51 1526 2109.52 1529.17 Q2112.55 1532.32 2112.55 1537.76 Q2112.55 1543.08 2109.4 1546.3 Q2106.26 1549.52 2101.02 1549.52 Q2095.03 1549.52 2091.86 1544.94 Q2088.69 1540.33 2088.69 1531.6 Q2088.69 1523.41 2092.57 1518.55 Q2096.46 1513.66 2103.01 1513.66 Q2104.77 1513.66 2106.56 1514.01 Q2108.36 1514.36 2110.31 1515.05 Z\" fill=\"#000000\" fill-rule=\"evenodd\" fill-opacity=\"1\" /><polyline clip-path=\"url(#clip632)\" style=\"stroke:#000000; stroke-linecap:round; stroke-linejoin:round; stroke-width:2; stroke-opacity:0.1; fill:none\" points=\"\n",
       "  186.274,1445.72 2352.76,1445.72 \n",
       "  \"/>\n",
       "<polyline clip-path=\"url(#clip632)\" style=\"stroke:#000000; stroke-linecap:round; stroke-linejoin:round; stroke-width:2; stroke-opacity:0.1; fill:none\" points=\"\n",
       "  186.274,1038.39 2352.76,1038.39 \n",
       "  \"/>\n",
       "<polyline clip-path=\"url(#clip632)\" style=\"stroke:#000000; stroke-linecap:round; stroke-linejoin:round; stroke-width:2; stroke-opacity:0.1; fill:none\" points=\"\n",
       "  186.274,631.072 2352.76,631.072 \n",
       "  \"/>\n",
       "<polyline clip-path=\"url(#clip632)\" style=\"stroke:#000000; stroke-linecap:round; stroke-linejoin:round; stroke-width:2; stroke-opacity:0.1; fill:none\" points=\"\n",
       "  186.274,223.75 2352.76,223.75 \n",
       "  \"/>\n",
       "<polyline clip-path=\"url(#clip630)\" style=\"stroke:#000000; stroke-linecap:round; stroke-linejoin:round; stroke-width:4; stroke-opacity:1; fill:none\" points=\"\n",
       "  186.274,1486.45 186.274,47.2441 \n",
       "  \"/>\n",
       "<polyline clip-path=\"url(#clip630)\" style=\"stroke:#000000; stroke-linecap:round; stroke-linejoin:round; stroke-width:4; stroke-opacity:1; fill:none\" points=\"\n",
       "  186.274,1445.72 205.172,1445.72 \n",
       "  \"/>\n",
       "<polyline clip-path=\"url(#clip630)\" style=\"stroke:#000000; stroke-linecap:round; stroke-linejoin:round; stroke-width:4; stroke-opacity:1; fill:none\" points=\"\n",
       "  186.274,1038.39 205.172,1038.39 \n",
       "  \"/>\n",
       "<polyline clip-path=\"url(#clip630)\" style=\"stroke:#000000; stroke-linecap:round; stroke-linejoin:round; stroke-width:4; stroke-opacity:1; fill:none\" points=\"\n",
       "  186.274,631.072 205.172,631.072 \n",
       "  \"/>\n",
       "<polyline clip-path=\"url(#clip630)\" style=\"stroke:#000000; stroke-linecap:round; stroke-linejoin:round; stroke-width:4; stroke-opacity:1; fill:none\" points=\"\n",
       "  186.274,223.75 205.172,223.75 \n",
       "  \"/>\n",
       "<path clip-path=\"url(#clip630)\" d=\"M62.9365 1431.51 Q59.3254 1431.51 57.4967 1435.08 Q55.6912 1438.62 55.6912 1445.75 Q55.6912 1452.86 57.4967 1456.42 Q59.3254 1459.96 62.9365 1459.96 Q66.5707 1459.96 68.3763 1456.42 Q70.205 1452.86 70.205 1445.75 Q70.205 1438.62 68.3763 1435.08 Q66.5707 1431.51 62.9365 1431.51 M62.9365 1427.81 Q68.7467 1427.81 71.8022 1432.42 Q74.8809 1437 74.8809 1445.75 Q74.8809 1454.48 71.8022 1459.08 Q68.7467 1463.67 62.9365 1463.67 Q57.1264 1463.67 54.0477 1459.08 Q50.9921 1454.48 50.9921 1445.75 Q50.9921 1437 54.0477 1432.42 Q57.1264 1427.81 62.9365 1427.81 Z\" fill=\"#000000\" fill-rule=\"evenodd\" fill-opacity=\"1\" /><path clip-path=\"url(#clip630)\" d=\"M83.0984 1457.12 L87.9827 1457.12 L87.9827 1463 L83.0984 1463 L83.0984 1457.12 Z\" fill=\"#000000\" fill-rule=\"evenodd\" fill-opacity=\"1\" /><path clip-path=\"url(#clip630)\" d=\"M108.168 1431.51 Q104.557 1431.51 102.728 1435.08 Q100.922 1438.62 100.922 1445.75 Q100.922 1452.86 102.728 1456.42 Q104.557 1459.96 108.168 1459.96 Q111.802 1459.96 113.608 1456.42 Q115.436 1452.86 115.436 1445.75 Q115.436 1438.62 113.608 1435.08 Q111.802 1431.51 108.168 1431.51 M108.168 1427.81 Q113.978 1427.81 117.033 1432.42 Q120.112 1437 120.112 1445.75 Q120.112 1454.48 117.033 1459.08 Q113.978 1463.67 108.168 1463.67 Q102.358 1463.67 99.2789 1459.08 Q96.2234 1454.48 96.2234 1445.75 Q96.2234 1437 99.2789 1432.42 Q102.358 1427.81 108.168 1427.81 Z\" fill=\"#000000\" fill-rule=\"evenodd\" fill-opacity=\"1\" /><path clip-path=\"url(#clip630)\" d=\"M138.33 1431.51 Q134.719 1431.51 132.89 1435.08 Q131.084 1438.62 131.084 1445.75 Q131.084 1452.86 132.89 1456.42 Q134.719 1459.96 138.33 1459.96 Q141.964 1459.96 143.769 1456.42 Q145.598 1452.86 145.598 1445.75 Q145.598 1438.62 143.769 1435.08 Q141.964 1431.51 138.33 1431.51 M138.33 1427.81 Q144.14 1427.81 147.195 1432.42 Q150.274 1437 150.274 1445.75 Q150.274 1454.48 147.195 1459.08 Q144.14 1463.67 138.33 1463.67 Q132.519 1463.67 129.441 1459.08 Q126.385 1454.48 126.385 1445.75 Q126.385 1437 129.441 1432.42 Q132.519 1427.81 138.33 1427.81 Z\" fill=\"#000000\" fill-rule=\"evenodd\" fill-opacity=\"1\" /><path clip-path=\"url(#clip630)\" d=\"M63.9319 1024.19 Q60.3208 1024.19 58.4921 1027.76 Q56.6865 1031.3 56.6865 1038.43 Q56.6865 1045.54 58.4921 1049.1 Q60.3208 1052.64 63.9319 1052.64 Q67.5661 1052.64 69.3717 1049.1 Q71.2004 1045.54 71.2004 1038.43 Q71.2004 1031.3 69.3717 1027.76 Q67.5661 1024.19 63.9319 1024.19 M63.9319 1020.49 Q69.742 1020.49 72.7976 1025.1 Q75.8763 1029.68 75.8763 1038.43 Q75.8763 1047.16 72.7976 1051.76 Q69.742 1056.35 63.9319 1056.35 Q58.1217 1056.35 55.043 1051.76 Q51.9875 1047.16 51.9875 1038.43 Q51.9875 1029.68 55.043 1025.1 Q58.1217 1020.49 63.9319 1020.49 Z\" fill=\"#000000\" fill-rule=\"evenodd\" fill-opacity=\"1\" /><path clip-path=\"url(#clip630)\" d=\"M84.0938 1049.79 L88.978 1049.79 L88.978 1055.67 L84.0938 1055.67 L84.0938 1049.79 Z\" fill=\"#000000\" fill-rule=\"evenodd\" fill-opacity=\"1\" /><path clip-path=\"url(#clip630)\" d=\"M109.163 1024.19 Q105.552 1024.19 103.723 1027.76 Q101.918 1031.3 101.918 1038.43 Q101.918 1045.54 103.723 1049.1 Q105.552 1052.64 109.163 1052.64 Q112.797 1052.64 114.603 1049.1 Q116.432 1045.54 116.432 1038.43 Q116.432 1031.3 114.603 1027.76 Q112.797 1024.19 109.163 1024.19 M109.163 1020.49 Q114.973 1020.49 118.029 1025.1 Q121.107 1029.68 121.107 1038.43 Q121.107 1047.16 118.029 1051.76 Q114.973 1056.35 109.163 1056.35 Q103.353 1056.35 100.274 1051.76 Q97.2187 1047.16 97.2187 1038.43 Q97.2187 1029.68 100.274 1025.1 Q103.353 1020.49 109.163 1020.49 Z\" fill=\"#000000\" fill-rule=\"evenodd\" fill-opacity=\"1\" /><path clip-path=\"url(#clip630)\" d=\"M129.371 1021.11 L147.728 1021.11 L147.728 1025.05 L133.654 1025.05 L133.654 1033.52 Q134.672 1033.17 135.691 1033.01 Q136.709 1032.83 137.728 1032.83 Q143.515 1032.83 146.894 1036 Q150.274 1039.17 150.274 1044.59 Q150.274 1050.16 146.802 1053.27 Q143.33 1056.35 137.01 1056.35 Q134.834 1056.35 132.566 1055.97 Q130.32 1055.6 127.913 1054.86 L127.913 1050.16 Q129.996 1051.3 132.219 1051.85 Q134.441 1052.41 136.918 1052.41 Q140.922 1052.41 143.26 1050.3 Q145.598 1048.2 145.598 1044.59 Q145.598 1040.97 143.26 1038.87 Q140.922 1036.76 136.918 1036.76 Q135.043 1036.76 133.168 1037.18 Q131.316 1037.6 129.371 1038.47 L129.371 1021.11 Z\" fill=\"#000000\" fill-rule=\"evenodd\" fill-opacity=\"1\" /><path clip-path=\"url(#clip630)\" d=\"M62.9365 616.871 Q59.3254 616.871 57.4967 620.436 Q55.6912 623.977 55.6912 631.107 Q55.6912 638.213 57.4967 641.778 Q59.3254 645.32 62.9365 645.32 Q66.5707 645.32 68.3763 641.778 Q70.205 638.213 70.205 631.107 Q70.205 623.977 68.3763 620.436 Q66.5707 616.871 62.9365 616.871 M62.9365 613.167 Q68.7467 613.167 71.8022 617.774 Q74.8809 622.357 74.8809 631.107 Q74.8809 639.834 71.8022 644.44 Q68.7467 649.023 62.9365 649.023 Q57.1264 649.023 54.0477 644.44 Q50.9921 639.834 50.9921 631.107 Q50.9921 622.357 54.0477 617.774 Q57.1264 613.167 62.9365 613.167 Z\" fill=\"#000000\" fill-rule=\"evenodd\" fill-opacity=\"1\" /><path clip-path=\"url(#clip630)\" d=\"M83.0984 642.472 L87.9827 642.472 L87.9827 648.352 L83.0984 648.352 L83.0984 642.472 Z\" fill=\"#000000\" fill-rule=\"evenodd\" fill-opacity=\"1\" /><path clip-path=\"url(#clip630)\" d=\"M98.978 644.417 L106.617 644.417 L106.617 618.051 L98.3067 619.718 L98.3067 615.459 L106.571 613.792 L111.246 613.792 L111.246 644.417 L118.885 644.417 L118.885 648.352 L98.978 648.352 L98.978 644.417 Z\" fill=\"#000000\" fill-rule=\"evenodd\" fill-opacity=\"1\" /><path clip-path=\"url(#clip630)\" d=\"M138.33 616.871 Q134.719 616.871 132.89 620.436 Q131.084 623.977 131.084 631.107 Q131.084 638.213 132.89 641.778 Q134.719 645.32 138.33 645.32 Q141.964 645.32 143.769 641.778 Q145.598 638.213 145.598 631.107 Q145.598 623.977 143.769 620.436 Q141.964 616.871 138.33 616.871 M138.33 613.167 Q144.14 613.167 147.195 617.774 Q150.274 622.357 150.274 631.107 Q150.274 639.834 147.195 644.44 Q144.14 649.023 138.33 649.023 Q132.519 649.023 129.441 644.44 Q126.385 639.834 126.385 631.107 Q126.385 622.357 129.441 617.774 Q132.519 613.167 138.33 613.167 Z\" fill=\"#000000\" fill-rule=\"evenodd\" fill-opacity=\"1\" /><path clip-path=\"url(#clip630)\" d=\"M63.9319 209.549 Q60.3208 209.549 58.4921 213.114 Q56.6865 216.655 56.6865 223.785 Q56.6865 230.891 58.4921 234.456 Q60.3208 237.998 63.9319 237.998 Q67.5661 237.998 69.3717 234.456 Q71.2004 230.891 71.2004 223.785 Q71.2004 216.655 69.3717 213.114 Q67.5661 209.549 63.9319 209.549 M63.9319 205.845 Q69.742 205.845 72.7976 210.452 Q75.8763 215.035 75.8763 223.785 Q75.8763 232.512 72.7976 237.118 Q69.742 241.702 63.9319 241.702 Q58.1217 241.702 55.043 237.118 Q51.9875 232.512 51.9875 223.785 Q51.9875 215.035 55.043 210.452 Q58.1217 205.845 63.9319 205.845 Z\" fill=\"#000000\" fill-rule=\"evenodd\" fill-opacity=\"1\" /><path clip-path=\"url(#clip630)\" d=\"M84.0938 235.151 L88.978 235.151 L88.978 241.03 L84.0938 241.03 L84.0938 235.151 Z\" fill=\"#000000\" fill-rule=\"evenodd\" fill-opacity=\"1\" /><path clip-path=\"url(#clip630)\" d=\"M99.9733 237.095 L107.612 237.095 L107.612 210.729 L99.3021 212.396 L99.3021 208.137 L107.566 206.47 L112.242 206.47 L112.242 237.095 L119.881 237.095 L119.881 241.03 L99.9733 241.03 L99.9733 237.095 Z\" fill=\"#000000\" fill-rule=\"evenodd\" fill-opacity=\"1\" /><path clip-path=\"url(#clip630)\" d=\"M129.371 206.47 L147.728 206.47 L147.728 210.405 L133.654 210.405 L133.654 218.878 Q134.672 218.53 135.691 218.368 Q136.709 218.183 137.728 218.183 Q143.515 218.183 146.894 221.354 Q150.274 224.526 150.274 229.942 Q150.274 235.521 146.802 238.623 Q143.33 241.702 137.01 241.702 Q134.834 241.702 132.566 241.331 Q130.32 240.961 127.913 240.22 L127.913 235.521 Q129.996 236.655 132.219 237.211 Q134.441 237.766 136.918 237.766 Q140.922 237.766 143.26 235.66 Q145.598 233.553 145.598 229.942 Q145.598 226.331 143.26 224.225 Q140.922 222.118 136.918 222.118 Q135.043 222.118 133.168 222.535 Q131.316 222.952 129.371 223.831 L129.371 206.47 Z\" fill=\"#000000\" fill-rule=\"evenodd\" fill-opacity=\"1\" /><path clip-path=\"url(#clip632)\" d=\"\n",
       "M305.434 87.9763 L305.434 1445.72 L571.388 1445.72 L571.388 87.9763 L305.434 87.9763 L305.434 87.9763  Z\n",
       "  \" fill=\"#009af9\" fill-rule=\"evenodd\" fill-opacity=\"1\"/>\n",
       "<polyline clip-path=\"url(#clip632)\" style=\"stroke:#000000; stroke-linecap:round; stroke-linejoin:round; stroke-width:4; stroke-opacity:1; fill:none\" points=\"\n",
       "  305.434,87.9763 305.434,1445.72 571.388,1445.72 571.388,87.9763 305.434,87.9763 \n",
       "  \"/>\n",
       "<path clip-path=\"url(#clip632)\" d=\"\n",
       "M637.876 87.9763 L637.876 1445.72 L903.829 1445.72 L903.829 87.9763 L637.876 87.9763 L637.876 87.9763  Z\n",
       "  \" fill=\"#009af9\" fill-rule=\"evenodd\" fill-opacity=\"1\"/>\n",
       "<polyline clip-path=\"url(#clip632)\" style=\"stroke:#000000; stroke-linecap:round; stroke-linejoin:round; stroke-width:4; stroke-opacity:1; fill:none\" points=\"\n",
       "  637.876,87.9763 637.876,1445.72 903.829,1445.72 903.829,87.9763 637.876,87.9763 \n",
       "  \"/>\n",
       "<path clip-path=\"url(#clip632)\" d=\"\n",
       "M970.318 87.9763 L970.318 1445.72 L1236.27 1445.72 L1236.27 87.9763 L970.318 87.9763 L970.318 87.9763  Z\n",
       "  \" fill=\"#009af9\" fill-rule=\"evenodd\" fill-opacity=\"1\"/>\n",
       "<polyline clip-path=\"url(#clip632)\" style=\"stroke:#000000; stroke-linecap:round; stroke-linejoin:round; stroke-width:4; stroke-opacity:1; fill:none\" points=\"\n",
       "  970.318,87.9763 970.318,1445.72 1236.27,1445.72 1236.27,87.9763 970.318,87.9763 \n",
       "  \"/>\n",
       "<path clip-path=\"url(#clip632)\" d=\"\n",
       "M1302.76 87.9763 L1302.76 1445.72 L1568.71 1445.72 L1568.71 87.9763 L1302.76 87.9763 L1302.76 87.9763  Z\n",
       "  \" fill=\"#009af9\" fill-rule=\"evenodd\" fill-opacity=\"1\"/>\n",
       "<polyline clip-path=\"url(#clip632)\" style=\"stroke:#000000; stroke-linecap:round; stroke-linejoin:round; stroke-width:4; stroke-opacity:1; fill:none\" points=\"\n",
       "  1302.76,87.9763 1302.76,1445.72 1568.71,1445.72 1568.71,87.9763 1302.76,87.9763 \n",
       "  \"/>\n",
       "<path clip-path=\"url(#clip632)\" d=\"\n",
       "M1635.2 87.9763 L1635.2 1445.72 L1901.15 1445.72 L1901.15 87.9763 L1635.2 87.9763 L1635.2 87.9763  Z\n",
       "  \" fill=\"#009af9\" fill-rule=\"evenodd\" fill-opacity=\"1\"/>\n",
       "<polyline clip-path=\"url(#clip632)\" style=\"stroke:#000000; stroke-linecap:round; stroke-linejoin:round; stroke-width:4; stroke-opacity:1; fill:none\" points=\"\n",
       "  1635.2,87.9763 1635.2,1445.72 1901.15,1445.72 1901.15,87.9763 1635.2,87.9763 \n",
       "  \"/>\n",
       "<path clip-path=\"url(#clip632)\" d=\"\n",
       "M1967.64 87.9763 L1967.64 1445.72 L2233.6 1445.72 L2233.6 87.9763 L1967.64 87.9763 L1967.64 87.9763  Z\n",
       "  \" fill=\"#009af9\" fill-rule=\"evenodd\" fill-opacity=\"1\"/>\n",
       "<polyline clip-path=\"url(#clip632)\" style=\"stroke:#000000; stroke-linecap:round; stroke-linejoin:round; stroke-width:4; stroke-opacity:1; fill:none\" points=\"\n",
       "  1967.64,87.9763 1967.64,1445.72 2233.6,1445.72 2233.6,87.9763 1967.64,87.9763 \n",
       "  \"/>\n",
       "<circle clip-path=\"url(#clip632)\" style=\"fill:#009af9; stroke:none; fill-opacity:0\" cx=\"438.411\" cy=\"87.9763\" r=\"2\"/>\n",
       "<circle clip-path=\"url(#clip632)\" style=\"fill:#009af9; stroke:none; fill-opacity:0\" cx=\"770.853\" cy=\"87.9763\" r=\"2\"/>\n",
       "<circle clip-path=\"url(#clip632)\" style=\"fill:#009af9; stroke:none; fill-opacity:0\" cx=\"1103.29\" cy=\"87.9763\" r=\"2\"/>\n",
       "<circle clip-path=\"url(#clip632)\" style=\"fill:#009af9; stroke:none; fill-opacity:0\" cx=\"1435.74\" cy=\"87.9763\" r=\"2\"/>\n",
       "<circle clip-path=\"url(#clip632)\" style=\"fill:#009af9; stroke:none; fill-opacity:0\" cx=\"1768.18\" cy=\"87.9763\" r=\"2\"/>\n",
       "<circle clip-path=\"url(#clip632)\" style=\"fill:#009af9; stroke:none; fill-opacity:0\" cx=\"2100.62\" cy=\"87.9763\" r=\"2\"/>\n",
       "</svg>\n"
      ]
     },
     "execution_count": 3,
     "metadata": {},
     "output_type": "execute_result"
    }
   ],
   "source": [
    "bar(1:6,[1//6 for i=1:6], legend=false)"
   ]
  },
  {
   "cell_type": "markdown",
   "metadata": {},
   "source": [
    "Let's look at flipping a coin 3 times and counting the number of heads that appear.  We can determine the probability distribution of the number of heads that appear by writing down all possible coin flips:\n",
    "\n",
    "* HHH\n",
    "* HHT\n",
    "* HTH\n",
    "* HTT\n",
    "* THH\n",
    "* THT\n",
    "* TTH\n",
    "* TTT\n",
    "\n",
    "The results show the probability that $n$ heads appear is:\n",
    "\n",
    "* $P(0)=1/8$\n",
    "* $P(1)=3/8$\n",
    "* $P(2)=3/8$\n",
    "* $P(3)=1/8$"
   ]
  },
  {
   "cell_type": "markdown",
   "metadata": {},
   "source": [
    "We can plot the distribution using:"
   ]
  },
  {
   "cell_type": "code",
   "execution_count": 4,
   "metadata": {},
   "outputs": [
    {
     "data": {
      "image/svg+xml": [
       "<?xml version=\"1.0\" encoding=\"utf-8\"?>\n",
       "<svg xmlns=\"http://www.w3.org/2000/svg\" xmlns:xlink=\"http://www.w3.org/1999/xlink\" width=\"600\" height=\"400\" viewBox=\"0 0 2400 1600\">\n",
       "<defs>\n",
       "  <clipPath id=\"clip670\">\n",
       "    <rect x=\"0\" y=\"0\" width=\"2400\" height=\"1600\"/>\n",
       "  </clipPath>\n",
       "</defs>\n",
       "<path clip-path=\"url(#clip670)\" d=\"\n",
       "M0 1600 L2400 1600 L2400 0 L0 0  Z\n",
       "  \" fill=\"#ffffff\" fill-rule=\"evenodd\" fill-opacity=\"1\"/>\n",
       "<defs>\n",
       "  <clipPath id=\"clip671\">\n",
       "    <rect x=\"480\" y=\"0\" width=\"1681\" height=\"1600\"/>\n",
       "  </clipPath>\n",
       "</defs>\n",
       "<path clip-path=\"url(#clip670)\" d=\"\n",
       "M156.112 1486.45 L2352.76 1486.45 L2352.76 47.2441 L156.112 47.2441  Z\n",
       "  \" fill=\"#ffffff\" fill-rule=\"evenodd\" fill-opacity=\"1\"/>\n",
       "<defs>\n",
       "  <clipPath id=\"clip672\">\n",
       "    <rect x=\"156\" y=\"47\" width=\"2198\" height=\"1440\"/>\n",
       "  </clipPath>\n",
       "</defs>\n",
       "<polyline clip-path=\"url(#clip672)\" style=\"stroke:#000000; stroke-linecap:round; stroke-linejoin:round; stroke-width:2; stroke-opacity:0.1; fill:none\" points=\"\n",
       "  482.721,1486.45 482.721,47.2441 \n",
       "  \"/>\n",
       "<polyline clip-path=\"url(#clip672)\" style=\"stroke:#000000; stroke-linecap:round; stroke-linejoin:round; stroke-width:2; stroke-opacity:0.1; fill:none\" points=\"\n",
       "  997.196,1486.45 997.196,47.2441 \n",
       "  \"/>\n",
       "<polyline clip-path=\"url(#clip672)\" style=\"stroke:#000000; stroke-linecap:round; stroke-linejoin:round; stroke-width:2; stroke-opacity:0.1; fill:none\" points=\"\n",
       "  1511.67,1486.45 1511.67,47.2441 \n",
       "  \"/>\n",
       "<polyline clip-path=\"url(#clip672)\" style=\"stroke:#000000; stroke-linecap:round; stroke-linejoin:round; stroke-width:2; stroke-opacity:0.1; fill:none\" points=\"\n",
       "  2026.15,1486.45 2026.15,47.2441 \n",
       "  \"/>\n",
       "<polyline clip-path=\"url(#clip670)\" style=\"stroke:#000000; stroke-linecap:round; stroke-linejoin:round; stroke-width:4; stroke-opacity:1; fill:none\" points=\"\n",
       "  156.112,1486.45 2352.76,1486.45 \n",
       "  \"/>\n",
       "<polyline clip-path=\"url(#clip670)\" style=\"stroke:#000000; stroke-linecap:round; stroke-linejoin:round; stroke-width:4; stroke-opacity:1; fill:none\" points=\"\n",
       "  482.721,1486.45 482.721,1467.55 \n",
       "  \"/>\n",
       "<polyline clip-path=\"url(#clip670)\" style=\"stroke:#000000; stroke-linecap:round; stroke-linejoin:round; stroke-width:4; stroke-opacity:1; fill:none\" points=\"\n",
       "  997.196,1486.45 997.196,1467.55 \n",
       "  \"/>\n",
       "<polyline clip-path=\"url(#clip670)\" style=\"stroke:#000000; stroke-linecap:round; stroke-linejoin:round; stroke-width:4; stroke-opacity:1; fill:none\" points=\"\n",
       "  1511.67,1486.45 1511.67,1467.55 \n",
       "  \"/>\n",
       "<polyline clip-path=\"url(#clip670)\" style=\"stroke:#000000; stroke-linecap:round; stroke-linejoin:round; stroke-width:4; stroke-opacity:1; fill:none\" points=\"\n",
       "  2026.15,1486.45 2026.15,1467.55 \n",
       "  \"/>\n",
       "<path clip-path=\"url(#clip670)\" d=\"M482.721 1517.37 Q479.11 1517.37 477.282 1520.93 Q475.476 1524.47 475.476 1531.6 Q475.476 1538.71 477.282 1542.27 Q479.11 1545.82 482.721 1545.82 Q486.356 1545.82 488.161 1542.27 Q489.99 1538.71 489.99 1531.6 Q489.99 1524.47 488.161 1520.93 Q486.356 1517.37 482.721 1517.37 M482.721 1513.66 Q488.532 1513.66 491.587 1518.27 Q494.666 1522.85 494.666 1531.6 Q494.666 1540.33 491.587 1544.94 Q488.532 1549.52 482.721 1549.52 Q476.911 1549.52 473.833 1544.94 Q470.777 1540.33 470.777 1531.6 Q470.777 1522.85 473.833 1518.27 Q476.911 1513.66 482.721 1513.66 Z\" fill=\"#000000\" fill-rule=\"evenodd\" fill-opacity=\"1\" /><path clip-path=\"url(#clip670)\" d=\"M987.578 1544.91 L995.217 1544.91 L995.217 1518.55 L986.907 1520.21 L986.907 1515.95 L995.171 1514.29 L999.847 1514.29 L999.847 1544.91 L1007.49 1544.91 L1007.49 1548.85 L987.578 1548.85 L987.578 1544.91 Z\" fill=\"#000000\" fill-rule=\"evenodd\" fill-opacity=\"1\" /><path clip-path=\"url(#clip670)\" d=\"M1506.32 1544.91 L1522.64 1544.91 L1522.64 1548.85 L1500.7 1548.85 L1500.7 1544.91 Q1503.36 1542.16 1507.94 1537.53 Q1512.55 1532.88 1513.73 1531.53 Q1515.98 1529.01 1516.86 1527.27 Q1517.76 1525.51 1517.76 1523.82 Q1517.76 1521.07 1515.82 1519.33 Q1513.89 1517.6 1510.79 1517.6 Q1508.59 1517.6 1506.14 1518.36 Q1503.71 1519.13 1500.93 1520.68 L1500.93 1515.95 Q1503.75 1514.82 1506.21 1514.24 Q1508.66 1513.66 1510.7 1513.66 Q1516.07 1513.66 1519.26 1516.35 Q1522.46 1519.03 1522.46 1523.52 Q1522.46 1525.65 1521.65 1527.57 Q1520.86 1529.47 1518.75 1532.07 Q1518.18 1532.74 1515.07 1535.95 Q1511.97 1539.15 1506.32 1544.91 Z\" fill=\"#000000\" fill-rule=\"evenodd\" fill-opacity=\"1\" /><path clip-path=\"url(#clip670)\" d=\"M2030.39 1530.21 Q2033.75 1530.93 2035.63 1533.2 Q2037.52 1535.47 2037.52 1538.8 Q2037.52 1543.92 2034.01 1546.72 Q2030.49 1549.52 2024.01 1549.52 Q2021.83 1549.52 2019.51 1549.08 Q2017.22 1548.66 2014.77 1547.81 L2014.77 1543.29 Q2016.71 1544.43 2019.03 1545.01 Q2021.34 1545.58 2023.87 1545.58 Q2028.26 1545.58 2030.56 1543.85 Q2032.87 1542.11 2032.87 1538.8 Q2032.87 1535.75 2030.72 1534.03 Q2028.59 1532.3 2024.77 1532.3 L2020.74 1532.3 L2020.74 1528.45 L2024.95 1528.45 Q2028.4 1528.45 2030.23 1527.09 Q2032.06 1525.7 2032.06 1523.11 Q2032.06 1520.45 2030.16 1519.03 Q2028.29 1517.6 2024.77 1517.6 Q2022.85 1517.6 2020.65 1518.01 Q2018.45 1518.43 2015.81 1519.31 L2015.81 1515.14 Q2018.47 1514.4 2020.79 1514.03 Q2023.13 1513.66 2025.19 1513.66 Q2030.51 1513.66 2033.61 1516.09 Q2036.71 1518.5 2036.71 1522.62 Q2036.71 1525.49 2035.07 1527.48 Q2033.43 1529.45 2030.39 1530.21 Z\" fill=\"#000000\" fill-rule=\"evenodd\" fill-opacity=\"1\" /><polyline clip-path=\"url(#clip672)\" style=\"stroke:#000000; stroke-linecap:round; stroke-linejoin:round; stroke-width:2; stroke-opacity:0.1; fill:none\" points=\"\n",
       "  156.112,1445.72 2352.76,1445.72 \n",
       "  \"/>\n",
       "<polyline clip-path=\"url(#clip672)\" style=\"stroke:#000000; stroke-linecap:round; stroke-linejoin:round; stroke-width:2; stroke-opacity:0.1; fill:none\" points=\"\n",
       "  156.112,1083.65 2352.76,1083.65 \n",
       "  \"/>\n",
       "<polyline clip-path=\"url(#clip672)\" style=\"stroke:#000000; stroke-linecap:round; stroke-linejoin:round; stroke-width:2; stroke-opacity:0.1; fill:none\" points=\"\n",
       "  156.112,721.588 2352.76,721.588 \n",
       "  \"/>\n",
       "<polyline clip-path=\"url(#clip672)\" style=\"stroke:#000000; stroke-linecap:round; stroke-linejoin:round; stroke-width:2; stroke-opacity:0.1; fill:none\" points=\"\n",
       "  156.112,359.524 2352.76,359.524 \n",
       "  \"/>\n",
       "<polyline clip-path=\"url(#clip670)\" style=\"stroke:#000000; stroke-linecap:round; stroke-linejoin:round; stroke-width:4; stroke-opacity:1; fill:none\" points=\"\n",
       "  156.112,1486.45 156.112,47.2441 \n",
       "  \"/>\n",
       "<polyline clip-path=\"url(#clip670)\" style=\"stroke:#000000; stroke-linecap:round; stroke-linejoin:round; stroke-width:4; stroke-opacity:1; fill:none\" points=\"\n",
       "  156.112,1445.72 175.01,1445.72 \n",
       "  \"/>\n",
       "<polyline clip-path=\"url(#clip670)\" style=\"stroke:#000000; stroke-linecap:round; stroke-linejoin:round; stroke-width:4; stroke-opacity:1; fill:none\" points=\"\n",
       "  156.112,1083.65 175.01,1083.65 \n",
       "  \"/>\n",
       "<polyline clip-path=\"url(#clip670)\" style=\"stroke:#000000; stroke-linecap:round; stroke-linejoin:round; stroke-width:4; stroke-opacity:1; fill:none\" points=\"\n",
       "  156.112,721.588 175.01,721.588 \n",
       "  \"/>\n",
       "<polyline clip-path=\"url(#clip670)\" style=\"stroke:#000000; stroke-linecap:round; stroke-linejoin:round; stroke-width:4; stroke-opacity:1; fill:none\" points=\"\n",
       "  156.112,359.524 175.01,359.524 \n",
       "  \"/>\n",
       "<path clip-path=\"url(#clip670)\" d=\"M62.9365 1431.51 Q59.3254 1431.51 57.4967 1435.08 Q55.6912 1438.62 55.6912 1445.75 Q55.6912 1452.86 57.4967 1456.42 Q59.3254 1459.96 62.9365 1459.96 Q66.5707 1459.96 68.3763 1456.42 Q70.205 1452.86 70.205 1445.75 Q70.205 1438.62 68.3763 1435.08 Q66.5707 1431.51 62.9365 1431.51 M62.9365 1427.81 Q68.7467 1427.81 71.8022 1432.42 Q74.8809 1437 74.8809 1445.75 Q74.8809 1454.48 71.8022 1459.08 Q68.7467 1463.67 62.9365 1463.67 Q57.1264 1463.67 54.0477 1459.08 Q50.9921 1454.48 50.9921 1445.75 Q50.9921 1437 54.0477 1432.42 Q57.1264 1427.81 62.9365 1427.81 Z\" fill=\"#000000\" fill-rule=\"evenodd\" fill-opacity=\"1\" /><path clip-path=\"url(#clip670)\" d=\"M83.0984 1457.12 L87.9827 1457.12 L87.9827 1463 L83.0984 1463 L83.0984 1457.12 Z\" fill=\"#000000\" fill-rule=\"evenodd\" fill-opacity=\"1\" /><path clip-path=\"url(#clip670)\" d=\"M108.168 1431.51 Q104.557 1431.51 102.728 1435.08 Q100.922 1438.62 100.922 1445.75 Q100.922 1452.86 102.728 1456.42 Q104.557 1459.96 108.168 1459.96 Q111.802 1459.96 113.608 1456.42 Q115.436 1452.86 115.436 1445.75 Q115.436 1438.62 113.608 1435.08 Q111.802 1431.51 108.168 1431.51 M108.168 1427.81 Q113.978 1427.81 117.033 1432.42 Q120.112 1437 120.112 1445.75 Q120.112 1454.48 117.033 1459.08 Q113.978 1463.67 108.168 1463.67 Q102.358 1463.67 99.2789 1459.08 Q96.2234 1454.48 96.2234 1445.75 Q96.2234 1437 99.2789 1432.42 Q102.358 1427.81 108.168 1427.81 Z\" fill=\"#000000\" fill-rule=\"evenodd\" fill-opacity=\"1\" /><path clip-path=\"url(#clip670)\" d=\"M64.1634 1069.45 Q60.5523 1069.45 58.7236 1073.02 Q56.918 1076.56 56.918 1083.69 Q56.918 1090.79 58.7236 1094.36 Q60.5523 1097.9 64.1634 1097.9 Q67.7976 1097.9 69.6031 1094.36 Q71.4318 1090.79 71.4318 1083.69 Q71.4318 1076.56 69.6031 1073.02 Q67.7976 1069.45 64.1634 1069.45 M64.1634 1065.75 Q69.9735 1065.75 73.029 1070.35 Q76.1077 1074.94 76.1077 1083.69 Q76.1077 1092.41 73.029 1097.02 Q69.9735 1101.6 64.1634 1101.6 Q58.3532 1101.6 55.2745 1097.02 Q52.219 1092.41 52.219 1083.69 Q52.219 1074.94 55.2745 1070.35 Q58.3532 1065.75 64.1634 1065.75 Z\" fill=\"#000000\" fill-rule=\"evenodd\" fill-opacity=\"1\" /><path clip-path=\"url(#clip670)\" d=\"M84.3253 1095.05 L89.2095 1095.05 L89.2095 1100.93 L84.3253 1100.93 L84.3253 1095.05 Z\" fill=\"#000000\" fill-rule=\"evenodd\" fill-opacity=\"1\" /><path clip-path=\"url(#clip670)\" d=\"M100.205 1097 L107.844 1097 L107.844 1070.63 L99.5335 1072.3 L99.5335 1068.04 L107.797 1066.37 L112.473 1066.37 L112.473 1097 L120.112 1097 L120.112 1100.93 L100.205 1100.93 L100.205 1097 Z\" fill=\"#000000\" fill-rule=\"evenodd\" fill-opacity=\"1\" /><path clip-path=\"url(#clip670)\" d=\"M64.5337 707.387 Q60.9226 707.387 59.0939 710.951 Q57.2884 714.493 57.2884 721.623 Q57.2884 728.729 59.0939 732.294 Q60.9226 735.836 64.5337 735.836 Q68.168 735.836 69.9735 732.294 Q71.8022 728.729 71.8022 721.623 Q71.8022 714.493 69.9735 710.951 Q68.168 707.387 64.5337 707.387 M64.5337 703.683 Q70.3439 703.683 73.3994 708.289 Q76.4781 712.873 76.4781 721.623 Q76.4781 730.35 73.3994 734.956 Q70.3439 739.539 64.5337 739.539 Q58.7236 739.539 55.6449 734.956 Q52.5893 730.35 52.5893 721.623 Q52.5893 712.873 55.6449 708.289 Q58.7236 703.683 64.5337 703.683 Z\" fill=\"#000000\" fill-rule=\"evenodd\" fill-opacity=\"1\" /><path clip-path=\"url(#clip670)\" d=\"M84.6956 732.988 L89.5799 732.988 L89.5799 738.868 L84.6956 738.868 L84.6956 732.988 Z\" fill=\"#000000\" fill-rule=\"evenodd\" fill-opacity=\"1\" /><path clip-path=\"url(#clip670)\" d=\"M103.793 734.933 L120.112 734.933 L120.112 738.868 L98.1678 738.868 L98.1678 734.933 Q100.83 732.178 105.413 727.549 Q110.02 722.896 111.2 721.553 Q113.445 719.03 114.325 717.294 Q115.228 715.535 115.228 713.845 Q115.228 711.09 113.283 709.354 Q111.362 707.618 108.26 707.618 Q106.061 707.618 103.608 708.382 Q101.177 709.146 98.3993 710.697 L98.3993 705.975 Q101.223 704.84 103.677 704.262 Q106.131 703.683 108.168 703.683 Q113.538 703.683 116.733 706.368 Q119.927 709.053 119.927 713.544 Q119.927 715.674 119.117 717.595 Q118.33 719.493 116.223 722.086 Q115.645 722.757 112.543 725.975 Q109.441 729.169 103.793 734.933 Z\" fill=\"#000000\" fill-rule=\"evenodd\" fill-opacity=\"1\" /><path clip-path=\"url(#clip670)\" d=\"M63.5847 345.323 Q59.9736 345.323 58.1449 348.888 Q56.3393 352.429 56.3393 359.559 Q56.3393 366.665 58.1449 370.23 Q59.9736 373.772 63.5847 373.772 Q67.2189 373.772 69.0244 370.23 Q70.8531 366.665 70.8531 359.559 Q70.8531 352.429 69.0244 348.888 Q67.2189 345.323 63.5847 345.323 M63.5847 341.619 Q69.3948 341.619 72.4503 346.226 Q75.529 350.809 75.529 359.559 Q75.529 368.286 72.4503 372.892 Q69.3948 377.475 63.5847 377.475 Q57.7745 377.475 54.6958 372.892 Q51.6403 368.286 51.6403 359.559 Q51.6403 350.809 54.6958 346.226 Q57.7745 341.619 63.5847 341.619 Z\" fill=\"#000000\" fill-rule=\"evenodd\" fill-opacity=\"1\" /><path clip-path=\"url(#clip670)\" d=\"M83.7466 370.925 L88.6308 370.925 L88.6308 376.804 L83.7466 376.804 L83.7466 370.925 Z\" fill=\"#000000\" fill-rule=\"evenodd\" fill-opacity=\"1\" /><path clip-path=\"url(#clip670)\" d=\"M112.983 358.17 Q116.339 358.888 118.214 361.156 Q120.112 363.425 120.112 366.758 Q120.112 371.874 116.594 374.675 Q113.075 377.475 106.594 377.475 Q104.418 377.475 102.103 377.036 Q99.8113 376.619 97.3576 375.762 L97.3576 371.249 Q99.3021 372.383 101.617 372.962 Q103.932 373.54 106.455 373.54 Q110.853 373.54 113.145 371.804 Q115.459 370.068 115.459 366.758 Q115.459 363.702 113.307 361.989 Q111.177 360.253 107.358 360.253 L103.33 360.253 L103.33 356.411 L107.543 356.411 Q110.992 356.411 112.82 355.045 Q114.649 353.656 114.649 351.064 Q114.649 348.402 112.751 346.99 Q110.876 345.554 107.358 345.554 Q105.436 345.554 103.237 345.971 Q101.038 346.388 98.3993 347.267 L98.3993 343.101 Q101.061 342.36 103.376 341.99 Q105.714 341.619 107.774 341.619 Q113.098 341.619 116.2 344.05 Q119.302 346.457 119.302 350.577 Q119.302 353.448 117.658 355.439 Q116.015 357.406 112.983 358.17 Z\" fill=\"#000000\" fill-rule=\"evenodd\" fill-opacity=\"1\" /><path clip-path=\"url(#clip672)\" d=\"\n",
       "M276.931 993.136 L276.931 1445.72 L688.511 1445.72 L688.511 993.136 L276.931 993.136 L276.931 993.136  Z\n",
       "  \" fill=\"#009af9\" fill-rule=\"evenodd\" fill-opacity=\"1\"/>\n",
       "<polyline clip-path=\"url(#clip672)\" style=\"stroke:#000000; stroke-linecap:round; stroke-linejoin:round; stroke-width:4; stroke-opacity:1; fill:none\" points=\"\n",
       "  276.931,993.136 276.931,1445.72 688.511,1445.72 688.511,993.136 276.931,993.136 \n",
       "  \"/>\n",
       "<path clip-path=\"url(#clip672)\" d=\"\n",
       "M791.406 87.9763 L791.406 1445.72 L1202.99 1445.72 L1202.99 87.9763 L791.406 87.9763 L791.406 87.9763  Z\n",
       "  \" fill=\"#009af9\" fill-rule=\"evenodd\" fill-opacity=\"1\"/>\n",
       "<polyline clip-path=\"url(#clip672)\" style=\"stroke:#000000; stroke-linecap:round; stroke-linejoin:round; stroke-width:4; stroke-opacity:1; fill:none\" points=\"\n",
       "  791.406,87.9763 791.406,1445.72 1202.99,1445.72 1202.99,87.9763 791.406,87.9763 \n",
       "  \"/>\n",
       "<path clip-path=\"url(#clip672)\" d=\"\n",
       "M1305.88 87.9763 L1305.88 1445.72 L1717.46 1445.72 L1717.46 87.9763 L1305.88 87.9763 L1305.88 87.9763  Z\n",
       "  \" fill=\"#009af9\" fill-rule=\"evenodd\" fill-opacity=\"1\"/>\n",
       "<polyline clip-path=\"url(#clip672)\" style=\"stroke:#000000; stroke-linecap:round; stroke-linejoin:round; stroke-width:4; stroke-opacity:1; fill:none\" points=\"\n",
       "  1305.88,87.9763 1305.88,1445.72 1717.46,1445.72 1717.46,87.9763 1305.88,87.9763 \n",
       "  \"/>\n",
       "<path clip-path=\"url(#clip672)\" d=\"\n",
       "M1820.36 993.136 L1820.36 1445.72 L2231.94 1445.72 L2231.94 993.136 L1820.36 993.136 L1820.36 993.136  Z\n",
       "  \" fill=\"#009af9\" fill-rule=\"evenodd\" fill-opacity=\"1\"/>\n",
       "<polyline clip-path=\"url(#clip672)\" style=\"stroke:#000000; stroke-linecap:round; stroke-linejoin:round; stroke-width:4; stroke-opacity:1; fill:none\" points=\"\n",
       "  1820.36,993.136 1820.36,1445.72 2231.94,1445.72 2231.94,993.136 1820.36,993.136 \n",
       "  \"/>\n",
       "<circle clip-path=\"url(#clip672)\" style=\"fill:#009af9; stroke:none; fill-opacity:0\" cx=\"482.721\" cy=\"993.136\" r=\"2\"/>\n",
       "<circle clip-path=\"url(#clip672)\" style=\"fill:#009af9; stroke:none; fill-opacity:0\" cx=\"997.196\" cy=\"87.9763\" r=\"2\"/>\n",
       "<circle clip-path=\"url(#clip672)\" style=\"fill:#009af9; stroke:none; fill-opacity:0\" cx=\"1511.67\" cy=\"87.9763\" r=\"2\"/>\n",
       "<circle clip-path=\"url(#clip672)\" style=\"fill:#009af9; stroke:none; fill-opacity:0\" cx=\"2026.15\" cy=\"993.136\" r=\"2\"/>\n",
       "</svg>\n"
      ]
     },
     "execution_count": 4,
     "metadata": {},
     "output_type": "execute_result"
    }
   ],
   "source": [
    "bar(0:3, [1/8,3/8,3/8,1/8], legend=false)"
   ]
  },
  {
   "cell_type": "markdown",
   "metadata": {},
   "source": [
    "### Properties of a Discrete Probability Distribution\n",
    "A function let $x_i$ be the domain of a discrete random variable.  The function $p(x)$ is a probability density function if\n",
    "\n",
    "- $p(X=x_i) \\geq 0$ for all $x_i$.\n",
    "- $p(x_1)+p(x_2) + \\cdots + p(x_n) = 1$\n",
    "\n"
   ]
  },
  {
   "cell_type": "markdown",
   "metadata": {},
   "source": [
    "### Probability Distribution of rolling two dice\n",
    "\n",
    "We know that the probability of rolling a single dice and any number appearing is $1/6$.  The total number of different rolls is 36 and the following table gives the results as a point with the numbers on the two dice:\n",
    "\n",
    "```\n",
    "-------------------------------------------------\n",
    "| (1,1) | (1,2) | (1,3) | (1,4) | (1,5) | (1,6) |\n",
    "-------------------------------------------------\n",
    "| (2,1) | (2,2) | (2,3) | (2,4) | (2,5) | (2,6) |\n",
    "-------------------------------------------------\n",
    "| (3,1) | (3,2) | (3,3) | (3,4) | (3,5) | (3,6) |\n",
    "-------------------------------------------------\n",
    "| (4,1) | (4,2) | (4,3) | (4,4) | (4,5) | (4,6) |\n",
    "-------------------------------------------------\n",
    "| (5,1) | (5,2) | (5,3) | (5,4) | (5,5) | (5,6) |\n",
    "-------------------------------------------------\n",
    "| (6,1) | (6,2) | (6,3) | (6,4) | (6,5) | (6,6) |\n",
    "-------------------------------------------------\n",
    "```\n",
    "\n",
    "If we are seeking a probability distribution the the sum of the numbers on the dice:\n",
    "\n",
    "* $P(2)=1/36$\n",
    "* $P(3)=2/36$\n",
    "* $P(4)=3/36$\n",
    "* $P(5)=4/36$\n",
    "* $P(6)=5/36$\n",
    "* $P(7)=6/36$\n",
    "* $P(8)=5/36$\n",
    "* $P(9)=4/36$\n",
    "* $P(10)=3/36$\n",
    "* $P(11)=2/36$\n",
    "* $P(12)=1/36$\n"
   ]
  },
  {
   "cell_type": "markdown",
   "metadata": {},
   "source": [
    "The following is the distribution of two dice:"
   ]
  },
  {
   "cell_type": "code",
   "execution_count": 5,
   "metadata": {},
   "outputs": [
    {
     "data": {
      "text/plain": [
       "11-element Vector{Rational{Int64}}:\n",
       " 1//36\n",
       " 1//18\n",
       " 1//12\n",
       " 1//9\n",
       " 5//36\n",
       " 1//6\n",
       " 5//36\n",
       " 1//9\n",
       " 1//12\n",
       " 1//18\n",
       " 1//36"
      ]
     },
     "execution_count": 5,
     "metadata": {},
     "output_type": "execute_result"
    }
   ],
   "source": [
    "dice2dist = [(6-abs(i-7))//36 for i=2:12]"
   ]
  },
  {
   "cell_type": "code",
   "execution_count": 6,
   "metadata": {},
   "outputs": [
    {
     "data": {
      "image/svg+xml": [
       "<?xml version=\"1.0\" encoding=\"utf-8\"?>\n",
       "<svg xmlns=\"http://www.w3.org/2000/svg\" xmlns:xlink=\"http://www.w3.org/1999/xlink\" width=\"600\" height=\"400\" viewBox=\"0 0 2400 1600\">\n",
       "<defs>\n",
       "  <clipPath id=\"clip710\">\n",
       "    <rect x=\"0\" y=\"0\" width=\"2400\" height=\"1600\"/>\n",
       "  </clipPath>\n",
       "</defs>\n",
       "<path clip-path=\"url(#clip710)\" d=\"\n",
       "M0 1600 L2400 1600 L2400 0 L0 0  Z\n",
       "  \" fill=\"#ffffff\" fill-rule=\"evenodd\" fill-opacity=\"1\"/>\n",
       "<defs>\n",
       "  <clipPath id=\"clip711\">\n",
       "    <rect x=\"480\" y=\"0\" width=\"1681\" height=\"1600\"/>\n",
       "  </clipPath>\n",
       "</defs>\n",
       "<path clip-path=\"url(#clip710)\" d=\"\n",
       "M186.274 1486.45 L2352.76 1486.45 L2352.76 47.2441 L186.274 47.2441  Z\n",
       "  \" fill=\"#ffffff\" fill-rule=\"evenodd\" fill-opacity=\"1\"/>\n",
       "<defs>\n",
       "  <clipPath id=\"clip712\">\n",
       "    <rect x=\"186\" y=\"47\" width=\"2167\" height=\"1440\"/>\n",
       "  </clipPath>\n",
       "</defs>\n",
       "<polyline clip-path=\"url(#clip712)\" style=\"stroke:#000000; stroke-linecap:round; stroke-linejoin:round; stroke-width:2; stroke-opacity:0.1; fill:none\" points=\"\n",
       "  376.848,1486.45 376.848,47.2441 \n",
       "  \"/>\n",
       "<polyline clip-path=\"url(#clip712)\" style=\"stroke:#000000; stroke-linecap:round; stroke-linejoin:round; stroke-width:2; stroke-opacity:0.1; fill:none\" points=\"\n",
       "  555.381,1486.45 555.381,47.2441 \n",
       "  \"/>\n",
       "<polyline clip-path=\"url(#clip712)\" style=\"stroke:#000000; stroke-linecap:round; stroke-linejoin:round; stroke-width:2; stroke-opacity:0.1; fill:none\" points=\"\n",
       "  733.915,1486.45 733.915,47.2441 \n",
       "  \"/>\n",
       "<polyline clip-path=\"url(#clip712)\" style=\"stroke:#000000; stroke-linecap:round; stroke-linejoin:round; stroke-width:2; stroke-opacity:0.1; fill:none\" points=\"\n",
       "  912.448,1486.45 912.448,47.2441 \n",
       "  \"/>\n",
       "<polyline clip-path=\"url(#clip712)\" style=\"stroke:#000000; stroke-linecap:round; stroke-linejoin:round; stroke-width:2; stroke-opacity:0.1; fill:none\" points=\"\n",
       "  1090.98,1486.45 1090.98,47.2441 \n",
       "  \"/>\n",
       "<polyline clip-path=\"url(#clip712)\" style=\"stroke:#000000; stroke-linecap:round; stroke-linejoin:round; stroke-width:2; stroke-opacity:0.1; fill:none\" points=\"\n",
       "  1269.51,1486.45 1269.51,47.2441 \n",
       "  \"/>\n",
       "<polyline clip-path=\"url(#clip712)\" style=\"stroke:#000000; stroke-linecap:round; stroke-linejoin:round; stroke-width:2; stroke-opacity:0.1; fill:none\" points=\"\n",
       "  1448.05,1486.45 1448.05,47.2441 \n",
       "  \"/>\n",
       "<polyline clip-path=\"url(#clip712)\" style=\"stroke:#000000; stroke-linecap:round; stroke-linejoin:round; stroke-width:2; stroke-opacity:0.1; fill:none\" points=\"\n",
       "  1626.58,1486.45 1626.58,47.2441 \n",
       "  \"/>\n",
       "<polyline clip-path=\"url(#clip712)\" style=\"stroke:#000000; stroke-linecap:round; stroke-linejoin:round; stroke-width:2; stroke-opacity:0.1; fill:none\" points=\"\n",
       "  1805.12,1486.45 1805.12,47.2441 \n",
       "  \"/>\n",
       "<polyline clip-path=\"url(#clip712)\" style=\"stroke:#000000; stroke-linecap:round; stroke-linejoin:round; stroke-width:2; stroke-opacity:0.1; fill:none\" points=\"\n",
       "  1983.65,1486.45 1983.65,47.2441 \n",
       "  \"/>\n",
       "<polyline clip-path=\"url(#clip712)\" style=\"stroke:#000000; stroke-linecap:round; stroke-linejoin:round; stroke-width:2; stroke-opacity:0.1; fill:none\" points=\"\n",
       "  2162.18,1486.45 2162.18,47.2441 \n",
       "  \"/>\n",
       "<polyline clip-path=\"url(#clip710)\" style=\"stroke:#000000; stroke-linecap:round; stroke-linejoin:round; stroke-width:4; stroke-opacity:1; fill:none\" points=\"\n",
       "  186.274,1486.45 2352.76,1486.45 \n",
       "  \"/>\n",
       "<polyline clip-path=\"url(#clip710)\" style=\"stroke:#000000; stroke-linecap:round; stroke-linejoin:round; stroke-width:4; stroke-opacity:1; fill:none\" points=\"\n",
       "  376.848,1486.45 376.848,1467.55 \n",
       "  \"/>\n",
       "<polyline clip-path=\"url(#clip710)\" style=\"stroke:#000000; stroke-linecap:round; stroke-linejoin:round; stroke-width:4; stroke-opacity:1; fill:none\" points=\"\n",
       "  555.381,1486.45 555.381,1467.55 \n",
       "  \"/>\n",
       "<polyline clip-path=\"url(#clip710)\" style=\"stroke:#000000; stroke-linecap:round; stroke-linejoin:round; stroke-width:4; stroke-opacity:1; fill:none\" points=\"\n",
       "  733.915,1486.45 733.915,1467.55 \n",
       "  \"/>\n",
       "<polyline clip-path=\"url(#clip710)\" style=\"stroke:#000000; stroke-linecap:round; stroke-linejoin:round; stroke-width:4; stroke-opacity:1; fill:none\" points=\"\n",
       "  912.448,1486.45 912.448,1467.55 \n",
       "  \"/>\n",
       "<polyline clip-path=\"url(#clip710)\" style=\"stroke:#000000; stroke-linecap:round; stroke-linejoin:round; stroke-width:4; stroke-opacity:1; fill:none\" points=\"\n",
       "  1090.98,1486.45 1090.98,1467.55 \n",
       "  \"/>\n",
       "<polyline clip-path=\"url(#clip710)\" style=\"stroke:#000000; stroke-linecap:round; stroke-linejoin:round; stroke-width:4; stroke-opacity:1; fill:none\" points=\"\n",
       "  1269.51,1486.45 1269.51,1467.55 \n",
       "  \"/>\n",
       "<polyline clip-path=\"url(#clip710)\" style=\"stroke:#000000; stroke-linecap:round; stroke-linejoin:round; stroke-width:4; stroke-opacity:1; fill:none\" points=\"\n",
       "  1448.05,1486.45 1448.05,1467.55 \n",
       "  \"/>\n",
       "<polyline clip-path=\"url(#clip710)\" style=\"stroke:#000000; stroke-linecap:round; stroke-linejoin:round; stroke-width:4; stroke-opacity:1; fill:none\" points=\"\n",
       "  1626.58,1486.45 1626.58,1467.55 \n",
       "  \"/>\n",
       "<polyline clip-path=\"url(#clip710)\" style=\"stroke:#000000; stroke-linecap:round; stroke-linejoin:round; stroke-width:4; stroke-opacity:1; fill:none\" points=\"\n",
       "  1805.12,1486.45 1805.12,1467.55 \n",
       "  \"/>\n",
       "<polyline clip-path=\"url(#clip710)\" style=\"stroke:#000000; stroke-linecap:round; stroke-linejoin:round; stroke-width:4; stroke-opacity:1; fill:none\" points=\"\n",
       "  1983.65,1486.45 1983.65,1467.55 \n",
       "  \"/>\n",
       "<polyline clip-path=\"url(#clip710)\" style=\"stroke:#000000; stroke-linecap:round; stroke-linejoin:round; stroke-width:4; stroke-opacity:1; fill:none\" points=\"\n",
       "  2162.18,1486.45 2162.18,1467.55 \n",
       "  \"/>\n",
       "<path clip-path=\"url(#clip710)\" d=\"M371.501 1544.91 L387.82 1544.91 L387.82 1548.85 L365.876 1548.85 L365.876 1544.91 Q368.538 1542.16 373.121 1537.53 Q377.727 1532.88 378.908 1531.53 Q381.153 1529.01 382.033 1527.27 Q382.936 1525.51 382.936 1523.82 Q382.936 1521.07 380.991 1519.33 Q379.07 1517.6 375.968 1517.6 Q373.769 1517.6 371.315 1518.36 Q368.885 1519.13 366.107 1520.68 L366.107 1515.95 Q368.931 1514.82 371.385 1514.24 Q373.838 1513.66 375.876 1513.66 Q381.246 1513.66 384.44 1516.35 Q387.635 1519.03 387.635 1523.52 Q387.635 1525.65 386.825 1527.57 Q386.038 1529.47 383.931 1532.07 Q383.352 1532.74 380.25 1535.95 Q377.149 1539.15 371.501 1544.91 Z\" fill=\"#000000\" fill-rule=\"evenodd\" fill-opacity=\"1\" /><path clip-path=\"url(#clip710)\" d=\"M559.629 1530.21 Q562.985 1530.93 564.86 1533.2 Q566.758 1535.47 566.758 1538.8 Q566.758 1543.92 563.24 1546.72 Q559.721 1549.52 553.24 1549.52 Q551.064 1549.52 548.749 1549.08 Q546.458 1548.66 544.004 1547.81 L544.004 1543.29 Q545.948 1544.43 548.263 1545.01 Q550.578 1545.58 553.101 1545.58 Q557.499 1545.58 559.791 1543.85 Q562.106 1542.11 562.106 1538.8 Q562.106 1535.75 559.953 1534.03 Q557.823 1532.3 554.004 1532.3 L549.976 1532.3 L549.976 1528.45 L554.189 1528.45 Q557.638 1528.45 559.467 1527.09 Q561.296 1525.7 561.296 1523.11 Q561.296 1520.45 559.397 1519.03 Q557.522 1517.6 554.004 1517.6 Q552.083 1517.6 549.884 1518.01 Q547.684 1518.43 545.046 1519.31 L545.046 1515.14 Q547.708 1514.4 550.022 1514.03 Q552.36 1513.66 554.421 1513.66 Q559.745 1513.66 562.846 1516.09 Q565.948 1518.5 565.948 1522.62 Q565.948 1525.49 564.305 1527.48 Q562.661 1529.45 559.629 1530.21 Z\" fill=\"#000000\" fill-rule=\"evenodd\" fill-opacity=\"1\" /><path clip-path=\"url(#clip710)\" d=\"M736.924 1518.36 L725.118 1536.81 L736.924 1536.81 L736.924 1518.36 M735.697 1514.29 L741.577 1514.29 L741.577 1536.81 L746.507 1536.81 L746.507 1540.7 L741.577 1540.7 L741.577 1548.85 L736.924 1548.85 L736.924 1540.7 L721.322 1540.7 L721.322 1536.19 L735.697 1514.29 Z\" fill=\"#000000\" fill-rule=\"evenodd\" fill-opacity=\"1\" /><path clip-path=\"url(#clip710)\" d=\"M902.726 1514.29 L921.082 1514.29 L921.082 1518.22 L907.008 1518.22 L907.008 1526.7 Q908.027 1526.35 909.045 1526.19 Q910.064 1526 911.082 1526 Q916.869 1526 920.249 1529.17 Q923.629 1532.34 923.629 1537.76 Q923.629 1543.34 920.156 1546.44 Q916.684 1549.52 910.365 1549.52 Q908.189 1549.52 905.92 1549.15 Q903.675 1548.78 901.268 1548.04 L901.268 1543.34 Q903.351 1544.47 905.573 1545.03 Q907.795 1545.58 910.272 1545.58 Q914.277 1545.58 916.615 1543.48 Q918.953 1541.37 918.953 1537.76 Q918.953 1534.15 916.615 1532.04 Q914.277 1529.94 910.272 1529.94 Q908.397 1529.94 906.522 1530.35 Q904.67 1530.77 902.726 1531.65 L902.726 1514.29 Z\" fill=\"#000000\" fill-rule=\"evenodd\" fill-opacity=\"1\" /><path clip-path=\"url(#clip710)\" d=\"M1091.39 1529.7 Q1088.24 1529.7 1086.39 1531.86 Q1084.56 1534.01 1084.56 1537.76 Q1084.56 1541.49 1086.39 1543.66 Q1088.24 1545.82 1091.39 1545.82 Q1094.53 1545.82 1096.36 1543.66 Q1098.22 1541.49 1098.22 1537.76 Q1098.22 1534.01 1096.36 1531.86 Q1094.53 1529.7 1091.39 1529.7 M1100.67 1515.05 L1100.67 1519.31 Q1098.91 1518.48 1097.1 1518.04 Q1095.32 1517.6 1093.56 1517.6 Q1088.93 1517.6 1086.48 1520.72 Q1084.05 1523.85 1083.7 1530.17 Q1085.07 1528.15 1087.13 1527.09 Q1089.19 1526 1091.66 1526 Q1096.87 1526 1099.88 1529.17 Q1102.91 1532.32 1102.91 1537.76 Q1102.91 1543.08 1099.77 1546.3 Q1096.62 1549.52 1091.39 1549.52 Q1085.39 1549.52 1082.22 1544.94 Q1079.05 1540.33 1079.05 1531.6 Q1079.05 1523.41 1082.94 1518.55 Q1086.83 1513.66 1093.38 1513.66 Q1095.14 1513.66 1096.92 1514.01 Q1098.72 1514.36 1100.67 1515.05 Z\" fill=\"#000000\" fill-rule=\"evenodd\" fill-opacity=\"1\" /><path clip-path=\"url(#clip710)\" d=\"M1258.4 1514.29 L1280.63 1514.29 L1280.63 1516.28 L1268.08 1548.85 L1263.2 1548.85 L1275 1518.22 L1258.4 1518.22 L1258.4 1514.29 Z\" fill=\"#000000\" fill-rule=\"evenodd\" fill-opacity=\"1\" /><path clip-path=\"url(#clip710)\" d=\"M1448.05 1532.44 Q1444.72 1532.44 1442.79 1534.22 Q1440.9 1536 1440.9 1539.13 Q1440.9 1542.25 1442.79 1544.03 Q1444.72 1545.82 1448.05 1545.82 Q1451.38 1545.82 1453.3 1544.03 Q1455.22 1542.23 1455.22 1539.13 Q1455.22 1536 1453.3 1534.22 Q1451.4 1532.44 1448.05 1532.44 M1443.37 1530.45 Q1440.36 1529.7 1438.67 1527.64 Q1437.01 1525.58 1437.01 1522.62 Q1437.01 1518.48 1439.95 1516.07 Q1442.91 1513.66 1448.05 1513.66 Q1453.21 1513.66 1456.15 1516.07 Q1459.09 1518.48 1459.09 1522.62 Q1459.09 1525.58 1457.4 1527.64 Q1455.73 1529.7 1452.75 1530.45 Q1456.13 1531.23 1458 1533.52 Q1459.9 1535.82 1459.9 1539.13 Q1459.9 1544.15 1456.82 1546.83 Q1453.77 1549.52 1448.05 1549.52 Q1442.33 1549.52 1439.25 1546.83 Q1436.2 1544.15 1436.2 1539.13 Q1436.2 1535.82 1438.09 1533.52 Q1439.99 1531.23 1443.37 1530.45 M1441.66 1523.06 Q1441.66 1525.75 1443.33 1527.25 Q1445.02 1528.76 1448.05 1528.76 Q1451.06 1528.76 1452.75 1527.25 Q1454.46 1525.75 1454.46 1523.06 Q1454.46 1520.38 1452.75 1518.87 Q1451.06 1517.37 1448.05 1517.37 Q1445.02 1517.37 1443.33 1518.87 Q1441.66 1520.38 1441.66 1523.06 Z\" fill=\"#000000\" fill-rule=\"evenodd\" fill-opacity=\"1\" /><path clip-path=\"url(#clip710)\" d=\"M1616.88 1548.13 L1616.88 1543.87 Q1618.64 1544.7 1620.45 1545.14 Q1622.25 1545.58 1623.99 1545.58 Q1628.62 1545.58 1631.05 1542.48 Q1633.5 1539.36 1633.85 1533.01 Q1632.51 1535.01 1630.45 1536.07 Q1628.39 1537.13 1625.89 1537.13 Q1620.7 1537.13 1617.67 1534.01 Q1614.66 1530.86 1614.66 1525.42 Q1614.66 1520.1 1617.81 1516.88 Q1620.96 1513.66 1626.19 1513.66 Q1632.18 1513.66 1635.33 1518.27 Q1638.5 1522.85 1638.5 1531.6 Q1638.5 1539.77 1634.61 1544.66 Q1630.75 1549.52 1624.2 1549.52 Q1622.44 1549.52 1620.63 1549.17 Q1618.83 1548.82 1616.88 1548.13 M1626.19 1533.48 Q1629.34 1533.48 1631.17 1531.32 Q1633.02 1529.17 1633.02 1525.42 Q1633.02 1521.7 1631.17 1519.54 Q1629.34 1517.37 1626.19 1517.37 Q1623.04 1517.37 1621.19 1519.54 Q1619.36 1521.7 1619.36 1525.42 Q1619.36 1529.17 1621.19 1531.32 Q1623.04 1533.48 1626.19 1533.48 Z\" fill=\"#000000\" fill-rule=\"evenodd\" fill-opacity=\"1\" /><path clip-path=\"url(#clip710)\" d=\"M1779.8 1544.91 L1787.44 1544.91 L1787.44 1518.55 L1779.13 1520.21 L1779.13 1515.95 L1787.4 1514.29 L1792.07 1514.29 L1792.07 1544.91 L1799.71 1544.91 L1799.71 1548.85 L1779.8 1548.85 L1779.8 1544.91 Z\" fill=\"#000000\" fill-rule=\"evenodd\" fill-opacity=\"1\" /><path clip-path=\"url(#clip710)\" d=\"M1819.15 1517.37 Q1815.54 1517.37 1813.71 1520.93 Q1811.91 1524.47 1811.91 1531.6 Q1811.91 1538.71 1813.71 1542.27 Q1815.54 1545.82 1819.15 1545.82 Q1822.79 1545.82 1824.59 1542.27 Q1826.42 1538.71 1826.42 1531.6 Q1826.42 1524.47 1824.59 1520.93 Q1822.79 1517.37 1819.15 1517.37 M1819.15 1513.66 Q1824.96 1513.66 1828.02 1518.27 Q1831.1 1522.85 1831.1 1531.6 Q1831.1 1540.33 1828.02 1544.94 Q1824.96 1549.52 1819.15 1549.52 Q1813.34 1549.52 1810.27 1544.94 Q1807.21 1540.33 1807.21 1531.6 Q1807.21 1522.85 1810.27 1518.27 Q1813.34 1513.66 1819.15 1513.66 Z\" fill=\"#000000\" fill-rule=\"evenodd\" fill-opacity=\"1\" /><path clip-path=\"url(#clip710)\" d=\"M1958.95 1544.91 L1966.59 1544.91 L1966.59 1518.55 L1958.28 1520.21 L1958.28 1515.95 L1966.54 1514.29 L1971.22 1514.29 L1971.22 1544.91 L1978.86 1544.91 L1978.86 1548.85 L1958.95 1548.85 L1958.95 1544.91 Z\" fill=\"#000000\" fill-rule=\"evenodd\" fill-opacity=\"1\" /><path clip-path=\"url(#clip710)\" d=\"M1989.11 1544.91 L1996.75 1544.91 L1996.75 1518.55 L1988.44 1520.21 L1988.44 1515.95 L1996.7 1514.29 L2001.38 1514.29 L2001.38 1544.91 L2009.02 1544.91 L2009.02 1548.85 L1989.11 1548.85 L1989.11 1544.91 Z\" fill=\"#000000\" fill-rule=\"evenodd\" fill-opacity=\"1\" /><path clip-path=\"url(#clip710)\" d=\"M2137.67 1544.91 L2145.31 1544.91 L2145.31 1518.55 L2137 1520.21 L2137 1515.95 L2145.26 1514.29 L2149.94 1514.29 L2149.94 1544.91 L2157.58 1544.91 L2157.58 1548.85 L2137.67 1548.85 L2137.67 1544.91 Z\" fill=\"#000000\" fill-rule=\"evenodd\" fill-opacity=\"1\" /><path clip-path=\"url(#clip710)\" d=\"M2171.05 1544.91 L2187.37 1544.91 L2187.37 1548.85 L2165.42 1548.85 L2165.42 1544.91 Q2168.08 1542.16 2172.67 1537.53 Q2177.27 1532.88 2178.46 1531.53 Q2180.7 1529.01 2181.58 1527.27 Q2182.48 1525.51 2182.48 1523.82 Q2182.48 1521.07 2180.54 1519.33 Q2178.62 1517.6 2175.52 1517.6 Q2173.32 1517.6 2170.86 1518.36 Q2168.43 1519.13 2165.65 1520.68 L2165.65 1515.95 Q2168.48 1514.82 2170.93 1514.24 Q2173.39 1513.66 2175.42 1513.66 Q2180.79 1513.66 2183.99 1516.35 Q2187.18 1519.03 2187.18 1523.52 Q2187.18 1525.65 2186.37 1527.57 Q2185.58 1529.47 2183.48 1532.07 Q2182.9 1532.74 2179.8 1535.95 Q2176.7 1539.15 2171.05 1544.91 Z\" fill=\"#000000\" fill-rule=\"evenodd\" fill-opacity=\"1\" /><polyline clip-path=\"url(#clip712)\" style=\"stroke:#000000; stroke-linecap:round; stroke-linejoin:round; stroke-width:2; stroke-opacity:0.1; fill:none\" points=\"\n",
       "  186.274,1445.72 2352.76,1445.72 \n",
       "  \"/>\n",
       "<polyline clip-path=\"url(#clip712)\" style=\"stroke:#000000; stroke-linecap:round; stroke-linejoin:round; stroke-width:2; stroke-opacity:0.1; fill:none\" points=\"\n",
       "  186.274,1038.39 2352.76,1038.39 \n",
       "  \"/>\n",
       "<polyline clip-path=\"url(#clip712)\" style=\"stroke:#000000; stroke-linecap:round; stroke-linejoin:round; stroke-width:2; stroke-opacity:0.1; fill:none\" points=\"\n",
       "  186.274,631.072 2352.76,631.072 \n",
       "  \"/>\n",
       "<polyline clip-path=\"url(#clip712)\" style=\"stroke:#000000; stroke-linecap:round; stroke-linejoin:round; stroke-width:2; stroke-opacity:0.1; fill:none\" points=\"\n",
       "  186.274,223.75 2352.76,223.75 \n",
       "  \"/>\n",
       "<polyline clip-path=\"url(#clip710)\" style=\"stroke:#000000; stroke-linecap:round; stroke-linejoin:round; stroke-width:4; stroke-opacity:1; fill:none\" points=\"\n",
       "  186.274,1486.45 186.274,47.2441 \n",
       "  \"/>\n",
       "<polyline clip-path=\"url(#clip710)\" style=\"stroke:#000000; stroke-linecap:round; stroke-linejoin:round; stroke-width:4; stroke-opacity:1; fill:none\" points=\"\n",
       "  186.274,1445.72 205.172,1445.72 \n",
       "  \"/>\n",
       "<polyline clip-path=\"url(#clip710)\" style=\"stroke:#000000; stroke-linecap:round; stroke-linejoin:round; stroke-width:4; stroke-opacity:1; fill:none\" points=\"\n",
       "  186.274,1038.39 205.172,1038.39 \n",
       "  \"/>\n",
       "<polyline clip-path=\"url(#clip710)\" style=\"stroke:#000000; stroke-linecap:round; stroke-linejoin:round; stroke-width:4; stroke-opacity:1; fill:none\" points=\"\n",
       "  186.274,631.072 205.172,631.072 \n",
       "  \"/>\n",
       "<polyline clip-path=\"url(#clip710)\" style=\"stroke:#000000; stroke-linecap:round; stroke-linejoin:round; stroke-width:4; stroke-opacity:1; fill:none\" points=\"\n",
       "  186.274,223.75 205.172,223.75 \n",
       "  \"/>\n",
       "<path clip-path=\"url(#clip710)\" d=\"M62.9365 1431.51 Q59.3254 1431.51 57.4967 1435.08 Q55.6912 1438.62 55.6912 1445.75 Q55.6912 1452.86 57.4967 1456.42 Q59.3254 1459.96 62.9365 1459.96 Q66.5707 1459.96 68.3763 1456.42 Q70.205 1452.86 70.205 1445.75 Q70.205 1438.62 68.3763 1435.08 Q66.5707 1431.51 62.9365 1431.51 M62.9365 1427.81 Q68.7467 1427.81 71.8022 1432.42 Q74.8809 1437 74.8809 1445.75 Q74.8809 1454.48 71.8022 1459.08 Q68.7467 1463.67 62.9365 1463.67 Q57.1264 1463.67 54.0477 1459.08 Q50.9921 1454.48 50.9921 1445.75 Q50.9921 1437 54.0477 1432.42 Q57.1264 1427.81 62.9365 1427.81 Z\" fill=\"#000000\" fill-rule=\"evenodd\" fill-opacity=\"1\" /><path clip-path=\"url(#clip710)\" d=\"M83.0984 1457.12 L87.9827 1457.12 L87.9827 1463 L83.0984 1463 L83.0984 1457.12 Z\" fill=\"#000000\" fill-rule=\"evenodd\" fill-opacity=\"1\" /><path clip-path=\"url(#clip710)\" d=\"M108.168 1431.51 Q104.557 1431.51 102.728 1435.08 Q100.922 1438.62 100.922 1445.75 Q100.922 1452.86 102.728 1456.42 Q104.557 1459.96 108.168 1459.96 Q111.802 1459.96 113.608 1456.42 Q115.436 1452.86 115.436 1445.75 Q115.436 1438.62 113.608 1435.08 Q111.802 1431.51 108.168 1431.51 M108.168 1427.81 Q113.978 1427.81 117.033 1432.42 Q120.112 1437 120.112 1445.75 Q120.112 1454.48 117.033 1459.08 Q113.978 1463.67 108.168 1463.67 Q102.358 1463.67 99.2789 1459.08 Q96.2234 1454.48 96.2234 1445.75 Q96.2234 1437 99.2789 1432.42 Q102.358 1427.81 108.168 1427.81 Z\" fill=\"#000000\" fill-rule=\"evenodd\" fill-opacity=\"1\" /><path clip-path=\"url(#clip710)\" d=\"M138.33 1431.51 Q134.719 1431.51 132.89 1435.08 Q131.084 1438.62 131.084 1445.75 Q131.084 1452.86 132.89 1456.42 Q134.719 1459.96 138.33 1459.96 Q141.964 1459.96 143.769 1456.42 Q145.598 1452.86 145.598 1445.75 Q145.598 1438.62 143.769 1435.08 Q141.964 1431.51 138.33 1431.51 M138.33 1427.81 Q144.14 1427.81 147.195 1432.42 Q150.274 1437 150.274 1445.75 Q150.274 1454.48 147.195 1459.08 Q144.14 1463.67 138.33 1463.67 Q132.519 1463.67 129.441 1459.08 Q126.385 1454.48 126.385 1445.75 Q126.385 1437 129.441 1432.42 Q132.519 1427.81 138.33 1427.81 Z\" fill=\"#000000\" fill-rule=\"evenodd\" fill-opacity=\"1\" /><path clip-path=\"url(#clip710)\" d=\"M63.9319 1024.19 Q60.3208 1024.19 58.4921 1027.76 Q56.6865 1031.3 56.6865 1038.43 Q56.6865 1045.54 58.4921 1049.1 Q60.3208 1052.64 63.9319 1052.64 Q67.5661 1052.64 69.3717 1049.1 Q71.2004 1045.54 71.2004 1038.43 Q71.2004 1031.3 69.3717 1027.76 Q67.5661 1024.19 63.9319 1024.19 M63.9319 1020.49 Q69.742 1020.49 72.7976 1025.1 Q75.8763 1029.68 75.8763 1038.43 Q75.8763 1047.16 72.7976 1051.76 Q69.742 1056.35 63.9319 1056.35 Q58.1217 1056.35 55.043 1051.76 Q51.9875 1047.16 51.9875 1038.43 Q51.9875 1029.68 55.043 1025.1 Q58.1217 1020.49 63.9319 1020.49 Z\" fill=\"#000000\" fill-rule=\"evenodd\" fill-opacity=\"1\" /><path clip-path=\"url(#clip710)\" d=\"M84.0938 1049.79 L88.978 1049.79 L88.978 1055.67 L84.0938 1055.67 L84.0938 1049.79 Z\" fill=\"#000000\" fill-rule=\"evenodd\" fill-opacity=\"1\" /><path clip-path=\"url(#clip710)\" d=\"M109.163 1024.19 Q105.552 1024.19 103.723 1027.76 Q101.918 1031.3 101.918 1038.43 Q101.918 1045.54 103.723 1049.1 Q105.552 1052.64 109.163 1052.64 Q112.797 1052.64 114.603 1049.1 Q116.432 1045.54 116.432 1038.43 Q116.432 1031.3 114.603 1027.76 Q112.797 1024.19 109.163 1024.19 M109.163 1020.49 Q114.973 1020.49 118.029 1025.1 Q121.107 1029.68 121.107 1038.43 Q121.107 1047.16 118.029 1051.76 Q114.973 1056.35 109.163 1056.35 Q103.353 1056.35 100.274 1051.76 Q97.2187 1047.16 97.2187 1038.43 Q97.2187 1029.68 100.274 1025.1 Q103.353 1020.49 109.163 1020.49 Z\" fill=\"#000000\" fill-rule=\"evenodd\" fill-opacity=\"1\" /><path clip-path=\"url(#clip710)\" d=\"M129.371 1021.11 L147.728 1021.11 L147.728 1025.05 L133.654 1025.05 L133.654 1033.52 Q134.672 1033.17 135.691 1033.01 Q136.709 1032.83 137.728 1032.83 Q143.515 1032.83 146.894 1036 Q150.274 1039.17 150.274 1044.59 Q150.274 1050.16 146.802 1053.27 Q143.33 1056.35 137.01 1056.35 Q134.834 1056.35 132.566 1055.97 Q130.32 1055.6 127.913 1054.86 L127.913 1050.16 Q129.996 1051.3 132.219 1051.85 Q134.441 1052.41 136.918 1052.41 Q140.922 1052.41 143.26 1050.3 Q145.598 1048.2 145.598 1044.59 Q145.598 1040.97 143.26 1038.87 Q140.922 1036.76 136.918 1036.76 Q135.043 1036.76 133.168 1037.18 Q131.316 1037.6 129.371 1038.47 L129.371 1021.11 Z\" fill=\"#000000\" fill-rule=\"evenodd\" fill-opacity=\"1\" /><path clip-path=\"url(#clip710)\" d=\"M62.9365 616.871 Q59.3254 616.871 57.4967 620.436 Q55.6912 623.977 55.6912 631.107 Q55.6912 638.213 57.4967 641.778 Q59.3254 645.32 62.9365 645.32 Q66.5707 645.32 68.3763 641.778 Q70.205 638.213 70.205 631.107 Q70.205 623.977 68.3763 620.436 Q66.5707 616.871 62.9365 616.871 M62.9365 613.167 Q68.7467 613.167 71.8022 617.774 Q74.8809 622.357 74.8809 631.107 Q74.8809 639.834 71.8022 644.44 Q68.7467 649.023 62.9365 649.023 Q57.1264 649.023 54.0477 644.44 Q50.9921 639.834 50.9921 631.107 Q50.9921 622.357 54.0477 617.774 Q57.1264 613.167 62.9365 613.167 Z\" fill=\"#000000\" fill-rule=\"evenodd\" fill-opacity=\"1\" /><path clip-path=\"url(#clip710)\" d=\"M83.0984 642.472 L87.9827 642.472 L87.9827 648.352 L83.0984 648.352 L83.0984 642.472 Z\" fill=\"#000000\" fill-rule=\"evenodd\" fill-opacity=\"1\" /><path clip-path=\"url(#clip710)\" d=\"M98.978 644.417 L106.617 644.417 L106.617 618.051 L98.3067 619.718 L98.3067 615.459 L106.571 613.792 L111.246 613.792 L111.246 644.417 L118.885 644.417 L118.885 648.352 L98.978 648.352 L98.978 644.417 Z\" fill=\"#000000\" fill-rule=\"evenodd\" fill-opacity=\"1\" /><path clip-path=\"url(#clip710)\" d=\"M138.33 616.871 Q134.719 616.871 132.89 620.436 Q131.084 623.977 131.084 631.107 Q131.084 638.213 132.89 641.778 Q134.719 645.32 138.33 645.32 Q141.964 645.32 143.769 641.778 Q145.598 638.213 145.598 631.107 Q145.598 623.977 143.769 620.436 Q141.964 616.871 138.33 616.871 M138.33 613.167 Q144.14 613.167 147.195 617.774 Q150.274 622.357 150.274 631.107 Q150.274 639.834 147.195 644.44 Q144.14 649.023 138.33 649.023 Q132.519 649.023 129.441 644.44 Q126.385 639.834 126.385 631.107 Q126.385 622.357 129.441 617.774 Q132.519 613.167 138.33 613.167 Z\" fill=\"#000000\" fill-rule=\"evenodd\" fill-opacity=\"1\" /><path clip-path=\"url(#clip710)\" d=\"M63.9319 209.549 Q60.3208 209.549 58.4921 213.114 Q56.6865 216.655 56.6865 223.785 Q56.6865 230.891 58.4921 234.456 Q60.3208 237.998 63.9319 237.998 Q67.5661 237.998 69.3717 234.456 Q71.2004 230.891 71.2004 223.785 Q71.2004 216.655 69.3717 213.114 Q67.5661 209.549 63.9319 209.549 M63.9319 205.845 Q69.742 205.845 72.7976 210.452 Q75.8763 215.035 75.8763 223.785 Q75.8763 232.512 72.7976 237.118 Q69.742 241.702 63.9319 241.702 Q58.1217 241.702 55.043 237.118 Q51.9875 232.512 51.9875 223.785 Q51.9875 215.035 55.043 210.452 Q58.1217 205.845 63.9319 205.845 Z\" fill=\"#000000\" fill-rule=\"evenodd\" fill-opacity=\"1\" /><path clip-path=\"url(#clip710)\" d=\"M84.0938 235.151 L88.978 235.151 L88.978 241.03 L84.0938 241.03 L84.0938 235.151 Z\" fill=\"#000000\" fill-rule=\"evenodd\" fill-opacity=\"1\" /><path clip-path=\"url(#clip710)\" d=\"M99.9733 237.095 L107.612 237.095 L107.612 210.729 L99.3021 212.396 L99.3021 208.137 L107.566 206.47 L112.242 206.47 L112.242 237.095 L119.881 237.095 L119.881 241.03 L99.9733 241.03 L99.9733 237.095 Z\" fill=\"#000000\" fill-rule=\"evenodd\" fill-opacity=\"1\" /><path clip-path=\"url(#clip710)\" d=\"M129.371 206.47 L147.728 206.47 L147.728 210.405 L133.654 210.405 L133.654 218.878 Q134.672 218.53 135.691 218.368 Q136.709 218.183 137.728 218.183 Q143.515 218.183 146.894 221.354 Q150.274 224.526 150.274 229.942 Q150.274 235.521 146.802 238.623 Q143.33 241.702 137.01 241.702 Q134.834 241.702 132.566 241.331 Q130.32 240.961 127.913 240.22 L127.913 235.521 Q129.996 236.655 132.219 237.211 Q134.441 237.766 136.918 237.766 Q140.922 237.766 143.26 235.66 Q145.598 233.553 145.598 229.942 Q145.598 226.331 143.26 224.225 Q140.922 222.118 136.918 222.118 Q135.043 222.118 133.168 222.535 Q131.316 222.952 129.371 223.831 L129.371 206.47 Z\" fill=\"#000000\" fill-rule=\"evenodd\" fill-opacity=\"1\" /><path clip-path=\"url(#clip712)\" d=\"\n",
       "M305.434 1219.43 L305.434 1445.72 L448.261 1445.72 L448.261 1219.43 L305.434 1219.43 L305.434 1219.43  Z\n",
       "  \" fill=\"#009af9\" fill-rule=\"evenodd\" fill-opacity=\"1\"/>\n",
       "<polyline clip-path=\"url(#clip712)\" style=\"stroke:#000000; stroke-linecap:round; stroke-linejoin:round; stroke-width:4; stroke-opacity:1; fill:none\" points=\"\n",
       "  305.434,1219.43 305.434,1445.72 448.261,1445.72 448.261,1219.43 305.434,1219.43 \n",
       "  \"/>\n",
       "<path clip-path=\"url(#clip712)\" d=\"\n",
       "M483.968 993.136 L483.968 1445.72 L626.795 1445.72 L626.795 993.136 L483.968 993.136 L483.968 993.136  Z\n",
       "  \" fill=\"#009af9\" fill-rule=\"evenodd\" fill-opacity=\"1\"/>\n",
       "<polyline clip-path=\"url(#clip712)\" style=\"stroke:#000000; stroke-linecap:round; stroke-linejoin:round; stroke-width:4; stroke-opacity:1; fill:none\" points=\"\n",
       "  483.968,993.136 483.968,1445.72 626.795,1445.72 626.795,993.136 483.968,993.136 \n",
       "  \"/>\n",
       "<path clip-path=\"url(#clip712)\" d=\"\n",
       "M662.501 766.846 L662.501 1445.72 L805.328 1445.72 L805.328 766.846 L662.501 766.846 L662.501 766.846  Z\n",
       "  \" fill=\"#009af9\" fill-rule=\"evenodd\" fill-opacity=\"1\"/>\n",
       "<polyline clip-path=\"url(#clip712)\" style=\"stroke:#000000; stroke-linecap:round; stroke-linejoin:round; stroke-width:4; stroke-opacity:1; fill:none\" points=\"\n",
       "  662.501,766.846 662.501,1445.72 805.328,1445.72 805.328,766.846 662.501,766.846 \n",
       "  \"/>\n",
       "<path clip-path=\"url(#clip712)\" d=\"\n",
       "M841.035 540.556 L841.035 1445.72 L983.861 1445.72 L983.861 540.556 L841.035 540.556 L841.035 540.556  Z\n",
       "  \" fill=\"#009af9\" fill-rule=\"evenodd\" fill-opacity=\"1\"/>\n",
       "<polyline clip-path=\"url(#clip712)\" style=\"stroke:#000000; stroke-linecap:round; stroke-linejoin:round; stroke-width:4; stroke-opacity:1; fill:none\" points=\"\n",
       "  841.035,540.556 841.035,1445.72 983.861,1445.72 983.861,540.556 841.035,540.556 \n",
       "  \"/>\n",
       "<path clip-path=\"url(#clip712)\" d=\"\n",
       "M1019.57 314.266 L1019.57 1445.72 L1162.39 1445.72 L1162.39 314.266 L1019.57 314.266 L1019.57 314.266  Z\n",
       "  \" fill=\"#009af9\" fill-rule=\"evenodd\" fill-opacity=\"1\"/>\n",
       "<polyline clip-path=\"url(#clip712)\" style=\"stroke:#000000; stroke-linecap:round; stroke-linejoin:round; stroke-width:4; stroke-opacity:1; fill:none\" points=\"\n",
       "  1019.57,314.266 1019.57,1445.72 1162.39,1445.72 1162.39,314.266 1019.57,314.266 \n",
       "  \"/>\n",
       "<path clip-path=\"url(#clip712)\" d=\"\n",
       "M1198.1 87.9763 L1198.1 1445.72 L1340.93 1445.72 L1340.93 87.9763 L1198.1 87.9763 L1198.1 87.9763  Z\n",
       "  \" fill=\"#009af9\" fill-rule=\"evenodd\" fill-opacity=\"1\"/>\n",
       "<polyline clip-path=\"url(#clip712)\" style=\"stroke:#000000; stroke-linecap:round; stroke-linejoin:round; stroke-width:4; stroke-opacity:1; fill:none\" points=\"\n",
       "  1198.1,87.9763 1198.1,1445.72 1340.93,1445.72 1340.93,87.9763 1198.1,87.9763 \n",
       "  \"/>\n",
       "<path clip-path=\"url(#clip712)\" d=\"\n",
       "M1376.64 314.266 L1376.64 1445.72 L1519.46 1445.72 L1519.46 314.266 L1376.64 314.266 L1376.64 314.266  Z\n",
       "  \" fill=\"#009af9\" fill-rule=\"evenodd\" fill-opacity=\"1\"/>\n",
       "<polyline clip-path=\"url(#clip712)\" style=\"stroke:#000000; stroke-linecap:round; stroke-linejoin:round; stroke-width:4; stroke-opacity:1; fill:none\" points=\"\n",
       "  1376.64,314.266 1376.64,1445.72 1519.46,1445.72 1519.46,314.266 1376.64,314.266 \n",
       "  \"/>\n",
       "<path clip-path=\"url(#clip712)\" d=\"\n",
       "M1555.17 540.556 L1555.17 1445.72 L1698 1445.72 L1698 540.556 L1555.17 540.556 L1555.17 540.556  Z\n",
       "  \" fill=\"#009af9\" fill-rule=\"evenodd\" fill-opacity=\"1\"/>\n",
       "<polyline clip-path=\"url(#clip712)\" style=\"stroke:#000000; stroke-linecap:round; stroke-linejoin:round; stroke-width:4; stroke-opacity:1; fill:none\" points=\"\n",
       "  1555.17,540.556 1555.17,1445.72 1698,1445.72 1698,540.556 1555.17,540.556 \n",
       "  \"/>\n",
       "<path clip-path=\"url(#clip712)\" d=\"\n",
       "M1733.7 766.846 L1733.7 1445.72 L1876.53 1445.72 L1876.53 766.846 L1733.7 766.846 L1733.7 766.846  Z\n",
       "  \" fill=\"#009af9\" fill-rule=\"evenodd\" fill-opacity=\"1\"/>\n",
       "<polyline clip-path=\"url(#clip712)\" style=\"stroke:#000000; stroke-linecap:round; stroke-linejoin:round; stroke-width:4; stroke-opacity:1; fill:none\" points=\"\n",
       "  1733.7,766.846 1733.7,1445.72 1876.53,1445.72 1876.53,766.846 1733.7,766.846 \n",
       "  \"/>\n",
       "<path clip-path=\"url(#clip712)\" d=\"\n",
       "M1912.24 993.136 L1912.24 1445.72 L2055.06 1445.72 L2055.06 993.136 L1912.24 993.136 L1912.24 993.136  Z\n",
       "  \" fill=\"#009af9\" fill-rule=\"evenodd\" fill-opacity=\"1\"/>\n",
       "<polyline clip-path=\"url(#clip712)\" style=\"stroke:#000000; stroke-linecap:round; stroke-linejoin:round; stroke-width:4; stroke-opacity:1; fill:none\" points=\"\n",
       "  1912.24,993.136 1912.24,1445.72 2055.06,1445.72 2055.06,993.136 1912.24,993.136 \n",
       "  \"/>\n",
       "<path clip-path=\"url(#clip712)\" d=\"\n",
       "M2090.77 1219.43 L2090.77 1445.72 L2233.6 1445.72 L2233.6 1219.43 L2090.77 1219.43 L2090.77 1219.43  Z\n",
       "  \" fill=\"#009af9\" fill-rule=\"evenodd\" fill-opacity=\"1\"/>\n",
       "<polyline clip-path=\"url(#clip712)\" style=\"stroke:#000000; stroke-linecap:round; stroke-linejoin:round; stroke-width:4; stroke-opacity:1; fill:none\" points=\"\n",
       "  2090.77,1219.43 2090.77,1445.72 2233.6,1445.72 2233.6,1219.43 2090.77,1219.43 \n",
       "  \"/>\n",
       "<circle clip-path=\"url(#clip712)\" style=\"fill:#009af9; stroke:none; fill-opacity:0\" cx=\"376.848\" cy=\"1219.43\" r=\"2\"/>\n",
       "<circle clip-path=\"url(#clip712)\" style=\"fill:#009af9; stroke:none; fill-opacity:0\" cx=\"555.381\" cy=\"993.136\" r=\"2\"/>\n",
       "<circle clip-path=\"url(#clip712)\" style=\"fill:#009af9; stroke:none; fill-opacity:0\" cx=\"733.915\" cy=\"766.846\" r=\"2\"/>\n",
       "<circle clip-path=\"url(#clip712)\" style=\"fill:#009af9; stroke:none; fill-opacity:0\" cx=\"912.448\" cy=\"540.556\" r=\"2\"/>\n",
       "<circle clip-path=\"url(#clip712)\" style=\"fill:#009af9; stroke:none; fill-opacity:0\" cx=\"1090.98\" cy=\"314.266\" r=\"2\"/>\n",
       "<circle clip-path=\"url(#clip712)\" style=\"fill:#009af9; stroke:none; fill-opacity:0\" cx=\"1269.51\" cy=\"87.9763\" r=\"2\"/>\n",
       "<circle clip-path=\"url(#clip712)\" style=\"fill:#009af9; stroke:none; fill-opacity:0\" cx=\"1448.05\" cy=\"314.266\" r=\"2\"/>\n",
       "<circle clip-path=\"url(#clip712)\" style=\"fill:#009af9; stroke:none; fill-opacity:0\" cx=\"1626.58\" cy=\"540.556\" r=\"2\"/>\n",
       "<circle clip-path=\"url(#clip712)\" style=\"fill:#009af9; stroke:none; fill-opacity:0\" cx=\"1805.12\" cy=\"766.846\" r=\"2\"/>\n",
       "<circle clip-path=\"url(#clip712)\" style=\"fill:#009af9; stroke:none; fill-opacity:0\" cx=\"1983.65\" cy=\"993.136\" r=\"2\"/>\n",
       "<circle clip-path=\"url(#clip712)\" style=\"fill:#009af9; stroke:none; fill-opacity:0\" cx=\"2162.18\" cy=\"1219.43\" r=\"2\"/>\n",
       "</svg>\n"
      ]
     },
     "execution_count": 6,
     "metadata": {},
     "output_type": "execute_result"
    }
   ],
   "source": [
    "bar(2:12, dice2dist, xticks=2:12,legend=false)"
   ]
  },
  {
   "cell_type": "markdown",
   "metadata": {},
   "source": [
    "#### Example\n",
    "Find the probability of rolling at most a 5 on the sum of the dice?"
   ]
  },
  {
   "cell_type": "code",
   "execution_count": 7,
   "metadata": {},
   "outputs": [
    {
     "data": {
      "text/plain": [
       "0.2777777777777778"
      ]
     },
     "execution_count": 7,
     "metadata": {},
     "output_type": "execute_result"
    }
   ],
   "source": [
    "1/36+2/36+3/36+4/36"
   ]
  },
  {
   "cell_type": "code",
   "execution_count": 8,
   "metadata": {},
   "outputs": [
    {
     "data": {
      "text/plain": [
       "5//18"
      ]
     },
     "execution_count": 8,
     "metadata": {},
     "output_type": "execute_result"
    }
   ],
   "source": [
    "sum(dice2dist[1:4])"
   ]
  },
  {
   "cell_type": "markdown",
   "metadata": {},
   "source": [
    "#### Exercise\n",
    "Find the probability of rolling a 7,8, 9, 10.  Find the probability of rolling an even number?"
   ]
  },
  {
   "cell_type": "code",
   "execution_count": 9,
   "metadata": {},
   "outputs": [
    {
     "data": {
      "text/plain": [
       "1//2"
      ]
     },
     "execution_count": 9,
     "metadata": {},
     "output_type": "execute_result"
    }
   ],
   "source": [
    "sum(dice2dist[6:9])"
   ]
  },
  {
   "cell_type": "code",
   "execution_count": 10,
   "metadata": {},
   "outputs": [
    {
     "data": {
      "text/plain": [
       "1//2"
      ]
     },
     "execution_count": 10,
     "metadata": {},
     "output_type": "execute_result"
    }
   ],
   "source": [
    "sum(dice2dist[1:2:11])"
   ]
  },
  {
   "cell_type": "markdown",
   "metadata": {},
   "source": [
    "### 13.4: Continuous Random Variables\n",
    "\n",
    "#### Definition\n",
    "If a random variable is not discrete it is called a __continuous random variable__ and generally occurs if the values it takes on are subsets of the real line.\n",
    "\n",
    "#### Examples\n",
    "- The amount of rain in Fitchburg on a given day as we saw above.\n",
    "- The length of time a cell phone battery will last until it “dies.”\n",
    "- The amount of contaminant that a brewery dumps into the Nashua River.\n",
    "\n",
    "#### Calculus of Continuous probability distributions\n",
    "\n",
    "The probability distribution function or __pdf__ is a function, $f$ defined on a set $S$ with the following properties:\n",
    "$$f(x) \\geq 0 \\qquad \\text{for all $x \\in S$}$$\n",
    "$$\\int_S f(x) \\,dx = 1$$\n",
    "\n",
    "where the set $S$ is generally a real interval or the infinite or semi-infinite line. \n",
    "\n",
    "\n",
    "Also, if $f$ is a continuous pdf, then the probability that a random variable $X$ takes on a value in the set $A$ is \n",
    "\n",
    "$$ P(A) = \\int_A f(x) \\, dx$$"
   ]
  },
  {
   "cell_type": "markdown",
   "metadata": {},
   "source": [
    "#### Standard Distibutions"
   ]
  },
  {
   "cell_type": "code",
   "execution_count": 3,
   "metadata": {},
   "outputs": [],
   "source": [
    "using Pkg"
   ]
  },
  {
   "cell_type": "code",
   "execution_count": 4,
   "metadata": {},
   "outputs": [
    {
     "name": "stdout",
     "output_type": "stream",
     "text": [
      "\u001b[32m\u001b[1mStatus\u001b[22m\u001b[39m `~/.julia/environments/v1.8/Project.toml`\n",
      " \u001b[90m [6e4b80f9] \u001b[39mBenchmarkTools v1.3.1\n",
      " \u001b[90m [5d742f6a] \u001b[39mCSVFiles v1.0.2\n",
      " \u001b[90m [8be319e6] \u001b[39mChain v0.5.0\n",
      " \u001b[90m [a93c6f00] \u001b[39mDataFrames v1.4.1\n",
      " \u001b[90m [1313f7d8] \u001b[39mDataFramesMeta v0.12.0\n",
      " \u001b[90m [31c24e10] \u001b[39mDistributions v0.25.76\n",
      " \u001b[90m [7a1cc6ca] \u001b[39mFFTW v1.5.0\n",
      " \u001b[90m [f6369f11] \u001b[39mForwardDiff v0.10.32\n",
      " \u001b[90m [bd48cda9] \u001b[39mGraphRecipes v0.5.12\n",
      " \u001b[90m [86223c79] \u001b[39mGraphs v1.7.4\n",
      " \u001b[90m [0bc81568] \u001b[39mHAML v0.3.5\n",
      " \u001b[90m [7073ff75] \u001b[39mIJulia v1.23.3\n",
      " \u001b[90m [d0351b0e] \u001b[39mInspectDR v0.4.3\n",
      " \u001b[90m [b6b21f68] \u001b[39mIpopt v1.1.0\n",
      " \u001b[90m [4076af6c] \u001b[39mJuMP v1.3.1\n",
      " \u001b[90m [2fda8390] \u001b[39mLsqFit v0.13.0\n",
      " \u001b[90m [442fdcdd] \u001b[39mMeasures v0.3.1\n",
      " \u001b[90m [8314cec4] \u001b[39mPGFPlotsX v1.5.1\n",
      " \u001b[90m [58dd65bb] \u001b[39mPlotly v0.4.1\n",
      " \u001b[90m [a03496cd] \u001b[39mPlotlyBase v0.8.19\n",
      " \u001b[90m [f0f68f2c] \u001b[39mPlotlyJS v0.18.10\n",
      " \u001b[90m [f2990250] \u001b[39mPlotlyKaleido v1.0.0\n",
      "\u001b[32m⌃\u001b[39m\u001b[90m [91a5bcdd] \u001b[39mPlots v1.35.2\n",
      " \u001b[90m [27ebfcd6] \u001b[39mPrimes v0.5.3\n",
      " \u001b[90m [d330b81b] \u001b[39mPyPlot v2.11.0\n",
      " \u001b[90m [1a8c2f83] \u001b[39mQuery v1.0.0\n",
      " \u001b[90m [ce6b1742] \u001b[39mRDatasets v0.7.7\n",
      " \u001b[90m [3cdcf5f2] \u001b[39mRecipesBase v1.3.1\n",
      "\u001b[32m⌃\u001b[39m\u001b[90m [01d81517] \u001b[39mRecipesPipeline v0.6.5\n",
      " \u001b[90m [295af30f] \u001b[39mRevise v3.4.0\n",
      " \u001b[90m [0aa819cd] \u001b[39mSQLite v1.4.2\n",
      " \u001b[90m [2913bbd2] \u001b[39mStatsBase v0.33.21\n",
      " \u001b[90m [f3b207a7] \u001b[39mStatsPlots v0.15.4\n",
      " \u001b[90m [b8865327] \u001b[39mUnicodePlots v3.1.4\n",
      " \u001b[90m [0f1e0344] \u001b[39mWebIO v0.8.18\n",
      " \u001b[90m [fdbf4ff8] \u001b[39mXLSX v0.8.4\n",
      "\u001b[36m\u001b[1mInfo\u001b[22m\u001b[39m Packages marked with \u001b[32m⌃\u001b[39m have new versions available and may be upgradable.\n"
     ]
    }
   ],
   "source": [
    "Pkg.status()"
   ]
  },
  {
   "cell_type": "code",
   "execution_count": 1,
   "metadata": {},
   "outputs": [],
   "source": [
    "using Distributions, Plots"
   ]
  },
  {
   "cell_type": "code",
   "execution_count": 5,
   "metadata": {},
   "outputs": [
    {
     "ename": "LoadError",
     "evalue": "Cannot convert Normal{Float64} to series data for plotting",
     "output_type": "error",
     "traceback": [
      "Cannot convert Normal{Float64} to series data for plotting",
      "",
      "Stacktrace:",
      "  [1] error(s::String)",
      "    @ Base ./error.jl:35",
      "  [2] _prepare_series_data(x::Normal{Float64})",
      "    @ RecipesPipeline ~/.julia/packages/RecipesPipeline/xbjN0/src/series.jl:8",
      "  [3] _series_data_vector(x::Normal{Float64}, plotattributes::Dict{Symbol, Any})",
      "    @ RecipesPipeline ~/.julia/packages/RecipesPipeline/xbjN0/src/series.jl:35",
      "  [4] macro expansion",
      "    @ ~/.julia/packages/RecipesPipeline/xbjN0/src/series.jl:135 [inlined]",
      "  [5] apply_recipe(plotattributes::AbstractDict{Symbol, Any}, #unused#::Type{RecipesPipeline.SliceIt}, x::Any, y::Any, z::Any)",
      "    @ RecipesPipeline ~/.julia/packages/RecipesBase/6AijY/src/RecipesBase.jl:299",
      "  [6] _process_userrecipes!(plt::Any, plotattributes::Any, args::Any)",
      "    @ RecipesPipeline ~/.julia/packages/RecipesPipeline/xbjN0/src/user_recipe.jl:36",
      "  [7] recipe_pipeline!(plt::Any, plotattributes::Any, args::Any)",
      "    @ RecipesPipeline ~/.julia/packages/RecipesPipeline/xbjN0/src/RecipesPipeline.jl:72",
      "  [8] _plot!(plt::Plots.Plot, plotattributes::Any, args::Any)",
      "    @ Plots ~/.julia/packages/Plots/CUQan/src/plot.jl:232",
      "  [9] plot(args::Any; kw::Base.Pairs{Symbol, V, Tuple{Vararg{Symbol, N}}, NamedTuple{names, T}} where {V, N, names, T<:Tuple{Vararg{Any, N}}})",
      "    @ Plots ~/.julia/packages/Plots/CUQan/src/plot.jl:107",
      " [10] plot(args::Any)",
      "    @ Plots ~/.julia/packages/Plots/CUQan/src/plot.jl:98",
      " [11] top-level scope",
      "    @ In[5]:1",
      " [12] eval",
      "    @ ./boot.jl:368 [inlined]",
      " [13] include_string(mapexpr::typeof(REPL.softscope), mod::Module, code::String, filename::String)",
      "    @ Base ./loading.jl:1428"
     ]
    }
   ],
   "source": [
    "plot(Normal())"
   ]
  },
  {
   "cell_type": "code",
   "execution_count": 2,
   "metadata": {},
   "outputs": [
    {
     "ename": "LoadError",
     "evalue": "Cannot convert Uniform{Float64} to series data for plotting",
     "output_type": "error",
     "traceback": [
      "Cannot convert Uniform{Float64} to series data for plotting",
      "",
      "Stacktrace:",
      "  [1] error(s::String)",
      "    @ Base ./error.jl:35",
      "  [2] _prepare_series_data(x::Uniform{Float64})",
      "    @ RecipesPipeline ~/.julia/packages/RecipesPipeline/xbjN0/src/series.jl:8",
      "  [3] _series_data_vector(x::Uniform{Float64}, plotattributes::Dict{Symbol, Any})",
      "    @ RecipesPipeline ~/.julia/packages/RecipesPipeline/xbjN0/src/series.jl:35",
      "  [4] macro expansion",
      "    @ ~/.julia/packages/RecipesPipeline/xbjN0/src/series.jl:135 [inlined]",
      "  [5] apply_recipe(plotattributes::AbstractDict{Symbol, Any}, #unused#::Type{RecipesPipeline.SliceIt}, x::Any, y::Any, z::Any)",
      "    @ RecipesPipeline ~/.julia/packages/RecipesBase/6AijY/src/RecipesBase.jl:299",
      "  [6] _process_userrecipes!(plt::Any, plotattributes::Any, args::Any)",
      "    @ RecipesPipeline ~/.julia/packages/RecipesPipeline/xbjN0/src/user_recipe.jl:36",
      "  [7] recipe_pipeline!(plt::Any, plotattributes::Any, args::Any)",
      "    @ RecipesPipeline ~/.julia/packages/RecipesPipeline/xbjN0/src/RecipesPipeline.jl:72",
      "  [8] _plot!(plt::Plots.Plot, plotattributes::Any, args::Any)",
      "    @ Plots ~/.julia/packages/Plots/CUQan/src/plot.jl:232",
      "  [9] plot(args::Any; kw::Base.Pairs{Symbol, V, Tuple{Vararg{Symbol, N}}, NamedTuple{names, T}} where {V, N, names, T<:Tuple{Vararg{Any, N}}})",
      "    @ Plots ~/.julia/packages/Plots/CUQan/src/plot.jl:107",
      " [10] plot(args::Any)",
      "    @ Plots ~/.julia/packages/Plots/CUQan/src/plot.jl:98",
      " [11] top-level scope",
      "    @ In[2]:1",
      " [12] eval",
      "    @ ./boot.jl:368 [inlined]",
      " [13] include_string(mapexpr::typeof(REPL.softscope), mod::Module, code::String, filename::String)",
      "    @ Base ./loading.jl:1428"
     ]
    }
   ],
   "source": [
    "plot(Uniform())"
   ]
  },
  {
   "cell_type": "code",
   "execution_count": 12,
   "metadata": {},
   "outputs": [
    {
     "ename": "LoadError",
     "evalue": "Cannot convert Uniform{Float64} to series data for plotting",
     "output_type": "error",
     "traceback": [
      "Cannot convert Uniform{Float64} to series data for plotting",
      "",
      "Stacktrace:",
      "  [1] error(s::String)",
      "    @ Base ./error.jl:35",
      "  [2] _prepare_series_data(x::Uniform{Float64})",
      "    @ RecipesPipeline ~/.julia/packages/RecipesPipeline/o2vnV/src/series.jl:8",
      "  [3] _series_data_vector(x::Uniform{Float64}, plotattributes::Dict{Symbol, Any})",
      "    @ RecipesPipeline ~/.julia/packages/RecipesPipeline/o2vnV/src/series.jl:35",
      "  [4] macro expansion",
      "    @ ~/.julia/packages/RecipesPipeline/o2vnV/src/series.jl:135 [inlined]",
      "  [5] apply_recipe(plotattributes::AbstractDict{Symbol, Any}, #unused#::Type{RecipesPipeline.SliceIt}, x::Any, y::Any, z::Any)",
      "    @ RecipesPipeline ~/.julia/packages/RecipesBase/6AijY/src/RecipesBase.jl:299",
      "  [6] _process_userrecipes!(plt::Any, plotattributes::Any, args::Any)",
      "    @ RecipesPipeline ~/.julia/packages/RecipesPipeline/o2vnV/src/user_recipe.jl:38",
      "  [7] recipe_pipeline!(plt::Any, plotattributes::Any, args::Any)",
      "    @ RecipesPipeline ~/.julia/packages/RecipesPipeline/o2vnV/src/RecipesPipeline.jl:72",
      "  [8] _plot!(plt::Plots.Plot, plotattributes::Any, args::Any)",
      "    @ Plots ~/.julia/packages/Plots/fw4rv/src/plot.jl:227",
      "  [9] #plot#169",
      "    @ ~/.julia/packages/Plots/fw4rv/src/plot.jl:102 [inlined]",
      " [10] top-level scope",
      "    @ In[12]:1",
      " [11] eval",
      "    @ ./boot.jl:368 [inlined]",
      " [12] include_string(mapexpr::typeof(REPL.softscope), mod::Module, code::String, filename::String)",
      "    @ Base ./loading.jl:1428"
     ]
    }
   ],
   "source": [
    "plot(Uniform(),ylim=(0,1.25), xlim=(-1,2), legend=false)"
   ]
  },
  {
   "cell_type": "code",
   "execution_count": 13,
   "metadata": {},
   "outputs": [
    {
     "ename": "LoadError",
     "evalue": "Cannot convert Uniform{Float64} to series data for plotting",
     "output_type": "error",
     "traceback": [
      "Cannot convert Uniform{Float64} to series data for plotting",
      "",
      "Stacktrace:",
      "  [1] error(s::String)",
      "    @ Base ./error.jl:35",
      "  [2] _prepare_series_data(x::Uniform{Float64})",
      "    @ RecipesPipeline ~/.julia/packages/RecipesPipeline/o2vnV/src/series.jl:8",
      "  [3] _series_data_vector(x::Uniform{Float64}, plotattributes::Dict{Symbol, Any})",
      "    @ RecipesPipeline ~/.julia/packages/RecipesPipeline/o2vnV/src/series.jl:35",
      "  [4] macro expansion",
      "    @ ~/.julia/packages/RecipesPipeline/o2vnV/src/series.jl:135 [inlined]",
      "  [5] apply_recipe(plotattributes::AbstractDict{Symbol, Any}, #unused#::Type{RecipesPipeline.SliceIt}, x::Any, y::Any, z::Any)",
      "    @ RecipesPipeline ~/.julia/packages/RecipesBase/6AijY/src/RecipesBase.jl:299",
      "  [6] _process_userrecipes!(plt::Any, plotattributes::Any, args::Any)",
      "    @ RecipesPipeline ~/.julia/packages/RecipesPipeline/o2vnV/src/user_recipe.jl:38",
      "  [7] recipe_pipeline!(plt::Any, plotattributes::Any, args::Any)",
      "    @ RecipesPipeline ~/.julia/packages/RecipesPipeline/o2vnV/src/RecipesPipeline.jl:72",
      "  [8] _plot!(plt::Plots.Plot, plotattributes::Any, args::Any)",
      "    @ Plots ~/.julia/packages/Plots/fw4rv/src/plot.jl:227",
      "  [9] #plot#169",
      "    @ ~/.julia/packages/Plots/fw4rv/src/plot.jl:102 [inlined]",
      " [10] top-level scope",
      "    @ In[13]:1",
      " [11] eval",
      "    @ ./boot.jl:368 [inlined]",
      " [12] include_string(mapexpr::typeof(REPL.softscope), mod::Module, code::String, filename::String)",
      "    @ Base ./loading.jl:1428"
     ]
    }
   ],
   "source": [
    "plot(Uniform(1,4),ylim=(0,1.25),xlim=(0,5))"
   ]
  },
  {
   "cell_type": "markdown",
   "metadata": {},
   "source": [
    "### The Normal Distribution\n",
    "The normal distribution is the most important continuous distribution.  The pdf has the form:\n",
    "$$f(x \\, | \\, \\mu, \\sigma) = \\frac{1}{\\sqrt{2\\pi \\sigma^2}} e^{-(x-\\mu)^2/(2\\sigma^2)}$$\n",
    "where $\\mu$ and $\\sigma$ are the mean and standard deviations of the distribution"
   ]
  },
  {
   "cell_type": "code",
   "execution_count": 14,
   "metadata": {},
   "outputs": [
    {
     "ename": "LoadError",
     "evalue": "Cannot convert Normal{Float64} to series data for plotting",
     "output_type": "error",
     "traceback": [
      "Cannot convert Normal{Float64} to series data for plotting",
      "",
      "Stacktrace:",
      "  [1] error(s::String)",
      "    @ Base ./error.jl:35",
      "  [2] _prepare_series_data(x::Normal{Float64})",
      "    @ RecipesPipeline ~/.julia/packages/RecipesPipeline/o2vnV/src/series.jl:8",
      "  [3] _series_data_vector(x::Normal{Float64}, plotattributes::Dict{Symbol, Any})",
      "    @ RecipesPipeline ~/.julia/packages/RecipesPipeline/o2vnV/src/series.jl:35",
      "  [4] macro expansion",
      "    @ ~/.julia/packages/RecipesPipeline/o2vnV/src/series.jl:135 [inlined]",
      "  [5] apply_recipe(plotattributes::AbstractDict{Symbol, Any}, #unused#::Type{RecipesPipeline.SliceIt}, x::Any, y::Any, z::Any)",
      "    @ RecipesPipeline ~/.julia/packages/RecipesBase/6AijY/src/RecipesBase.jl:299",
      "  [6] _process_userrecipes!(plt::Any, plotattributes::Any, args::Any)",
      "    @ RecipesPipeline ~/.julia/packages/RecipesPipeline/o2vnV/src/user_recipe.jl:38",
      "  [7] recipe_pipeline!(plt::Any, plotattributes::Any, args::Any)",
      "    @ RecipesPipeline ~/.julia/packages/RecipesPipeline/o2vnV/src/RecipesPipeline.jl:72",
      "  [8] _plot!(plt::Plots.Plot, plotattributes::Any, args::Any)",
      "    @ Plots ~/.julia/packages/Plots/fw4rv/src/plot.jl:227",
      "  [9] plot(args::Any; kw::Base.Pairs{Symbol, V, Tuple{Vararg{Symbol, N}}, NamedTuple{names, T}} where {V, N, names, T<:Tuple{Vararg{Any, N}}})",
      "    @ Plots ~/.julia/packages/Plots/fw4rv/src/plot.jl:102",
      " [10] plot(args::Any)",
      "    @ Plots ~/.julia/packages/Plots/fw4rv/src/plot.jl:93",
      " [11] top-level scope",
      "    @ In[14]:1",
      " [12] eval",
      "    @ ./boot.jl:368 [inlined]",
      " [13] include_string(mapexpr::typeof(REPL.softscope), mod::Module, code::String, filename::String)",
      "    @ Base ./loading.jl:1428"
     ]
    }
   ],
   "source": [
    "plot(Normal())"
   ]
  },
  {
   "cell_type": "markdown",
   "metadata": {},
   "source": [
    "The following plots the normal curve with $\\mu=1$ and $\\sigma=0.5$"
   ]
  },
  {
   "cell_type": "code",
   "execution_count": 15,
   "metadata": {},
   "outputs": [
    {
     "ename": "LoadError",
     "evalue": "Cannot convert Normal{Float64} to series data for plotting",
     "output_type": "error",
     "traceback": [
      "Cannot convert Normal{Float64} to series data for plotting",
      "",
      "Stacktrace:",
      "  [1] error(s::String)",
      "    @ Base ./error.jl:35",
      "  [2] _prepare_series_data(x::Normal{Float64})",
      "    @ RecipesPipeline ~/.julia/packages/RecipesPipeline/o2vnV/src/series.jl:8",
      "  [3] _series_data_vector(x::Normal{Float64}, plotattributes::Dict{Symbol, Any})",
      "    @ RecipesPipeline ~/.julia/packages/RecipesPipeline/o2vnV/src/series.jl:35",
      "  [4] macro expansion",
      "    @ ~/.julia/packages/RecipesPipeline/o2vnV/src/series.jl:135 [inlined]",
      "  [5] apply_recipe(plotattributes::AbstractDict{Symbol, Any}, #unused#::Type{RecipesPipeline.SliceIt}, x::Any, y::Any, z::Any)",
      "    @ RecipesPipeline ~/.julia/packages/RecipesBase/6AijY/src/RecipesBase.jl:299",
      "  [6] _process_userrecipes!(plt::Any, plotattributes::Any, args::Any)",
      "    @ RecipesPipeline ~/.julia/packages/RecipesPipeline/o2vnV/src/user_recipe.jl:38",
      "  [7] recipe_pipeline!(plt::Any, plotattributes::Any, args::Any)",
      "    @ RecipesPipeline ~/.julia/packages/RecipesPipeline/o2vnV/src/RecipesPipeline.jl:72",
      "  [8] _plot!(plt::Plots.Plot, plotattributes::Any, args::Any)",
      "    @ Plots ~/.julia/packages/Plots/fw4rv/src/plot.jl:227",
      "  [9] plot(args::Any; kw::Base.Pairs{Symbol, V, Tuple{Vararg{Symbol, N}}, NamedTuple{names, T}} where {V, N, names, T<:Tuple{Vararg{Any, N}}})",
      "    @ Plots ~/.julia/packages/Plots/fw4rv/src/plot.jl:102",
      " [10] plot(args::Any)",
      "    @ Plots ~/.julia/packages/Plots/fw4rv/src/plot.jl:93",
      " [11] top-level scope",
      "    @ In[15]:1",
      " [12] eval",
      "    @ ./boot.jl:368 [inlined]",
      " [13] include_string(mapexpr::typeof(REPL.softscope), mod::Module, code::String, filename::String)",
      "    @ Base ./loading.jl:1428"
     ]
    }
   ],
   "source": [
    "plot(Normal(1,0.5))"
   ]
  },
  {
   "cell_type": "markdown",
   "metadata": {},
   "source": [
    "#### Exercise\n",
    "- Plot the normal curves for $\\sigma=1$ and $\\mu=-2,0,2$ on the same axes and make a legend.  Hint: use `plot!`"
   ]
  },
  {
   "cell_type": "markdown",
   "metadata": {},
   "source": [
    "#### 13.6: Pseudorandom numbers\n",
    "\n",
    "True random numbers are difficult to find, but a pseudorandom number is generally good enough.  A pseudorandom number is a function that generates a sequence of numbers with properties that we wish for a random number.\n",
    "\n",
    "Consider a sequence of pseudorandom numbers to generate die rolls (uniformly distribution from 1 to 6).   Call the sequence $\\{a_n\\}$. Here are the properties that we wish you have for this: \n",
    "- any number in the range 1 to 6 is equally likely to occur.\n",
    "- Take $N$ random numbers and let $s_n$ be the number of times the\n",
    "  number $n$ occurs. The fraction $s_n/N$ should go to 1/6 in the\n",
    "  limit as $n\\rightarrow \\infty$.\n",
    "-  Knowing the sequence $s_1, s_2, \\ldots, s_k$ does not allow us to\n",
    "  predict $s_{k+1}$\n"
   ]
  },
  {
   "cell_type": "markdown",
   "metadata": {},
   "source": [
    "We will set the seed, so we can have reproducible results in the following way. "
   ]
  },
  {
   "cell_type": "code",
   "execution_count": 16,
   "metadata": {},
   "outputs": [
    {
     "data": {
      "text/plain": [
       "TaskLocalRNG()"
      ]
     },
     "execution_count": 16,
     "metadata": {},
     "output_type": "execute_result"
    }
   ],
   "source": [
    "using Random\n",
    "Random.seed!(1234)"
   ]
  },
  {
   "cell_type": "markdown",
   "metadata": {},
   "source": [
    "#### 13.6.2: Simulating the rolling of a die"
   ]
  },
  {
   "cell_type": "markdown",
   "metadata": {},
   "source": [
    "This will roll a die 100 times.  This will select 100 values from 1 to 6. "
   ]
  },
  {
   "cell_type": "code",
   "execution_count": 17,
   "metadata": {},
   "outputs": [
    {
     "data": {
      "text/plain": [
       "100000-element Vector{Int64}:\n",
       " 2\n",
       " 4\n",
       " 2\n",
       " 6\n",
       " 3\n",
       " 3\n",
       " 6\n",
       " 5\n",
       " 3\n",
       " 5\n",
       " 4\n",
       " 5\n",
       " 1\n",
       " ⋮\n",
       " 3\n",
       " 4\n",
       " 6\n",
       " 6\n",
       " 5\n",
       " 1\n",
       " 3\n",
       " 1\n",
       " 5\n",
       " 6\n",
       " 1\n",
       " 4"
      ]
     },
     "execution_count": 17,
     "metadata": {},
     "output_type": "execute_result"
    }
   ],
   "source": [
    "S100 = rand(1:6,100_000)"
   ]
  },
  {
   "cell_type": "markdown",
   "metadata": {},
   "source": [
    "This randomly picks 20 numbers from the array [1,4,8,9,50]"
   ]
  },
  {
   "cell_type": "code",
   "execution_count": 18,
   "metadata": {},
   "outputs": [
    {
     "data": {
      "text/plain": [
       "20-element Vector{Int64}:\n",
       "  1\n",
       "  8\n",
       "  4\n",
       "  9\n",
       "  1\n",
       "  8\n",
       "  1\n",
       "  4\n",
       "  4\n",
       "  8\n",
       "  8\n",
       " 50\n",
       "  4\n",
       "  4\n",
       "  8\n",
       "  1\n",
       "  4\n",
       "  9\n",
       "  8\n",
       "  4"
      ]
     },
     "execution_count": 18,
     "metadata": {},
     "output_type": "execute_result"
    }
   ],
   "source": [
    "rand([1,4,8,9,50],20)"
   ]
  },
  {
   "cell_type": "code",
   "execution_count": 19,
   "metadata": {},
   "outputs": [
    {
     "data": {
      "text/plain": [
       "7776"
      ]
     },
     "execution_count": 19,
     "metadata": {},
     "output_type": "execute_result"
    }
   ],
   "source": [
    "6^5"
   ]
  },
  {
   "cell_type": "code",
   "execution_count": null,
   "metadata": {},
   "outputs": [],
   "source": []
  }
 ],
 "metadata": {
  "kernelspec": {
   "display_name": "Julia 1.8.2",
   "language": "julia",
   "name": "julia-1.8"
  },
  "language_info": {
   "file_extension": ".jl",
   "mimetype": "application/julia",
   "name": "julia",
   "version": "1.8.2"
  }
 },
 "nbformat": 4,
 "nbformat_minor": 4
}
