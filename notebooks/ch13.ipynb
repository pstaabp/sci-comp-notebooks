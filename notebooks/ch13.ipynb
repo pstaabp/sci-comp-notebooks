{
 "cells": [
  {
   "cell_type": "markdown",
   "metadata": {},
   "source": [
    "## Chapter 13: Probability and Random Numbers\n",
    "\n",
    "This shows some basic probability and random numbers. "
   ]
  },
  {
   "cell_type": "code",
   "execution_count": null,
   "metadata": {},
   "outputs": [],
   "source": [
    "using Plots"
   ]
  },
  {
   "cell_type": "markdown",
   "metadata": {},
   "source": [
    "Consider a single die and the probability distribution of a single number coming up has the probability 1/6.  This is called the *probability distribution*. The following is a plot of this."
   ]
  },
  {
   "cell_type": "code",
   "execution_count": null,
   "metadata": {},
   "outputs": [],
   "source": [
    "bar(1:6,[1/6 for i=1:6], legend=false)"
   ]
  },
  {
   "cell_type": "markdown",
   "metadata": {},
   "source": [
    "Let's look at flipping a coin 3 times and counting the number of heads that appear.  We can determine the probability distribution of the number of heads that appear by writing down all possible coin flips:\n",
    "\n",
    "* HHH\n",
    "* HHT\n",
    "* HTH\n",
    "* HTT\n",
    "* THH\n",
    "* THT\n",
    "* TTH\n",
    "* TTT\n",
    "\n",
    "The results show the probability that $n$ heads appear is:\n",
    "\n",
    "* $P(0)=1/8$\n",
    "* $P(1)=3/8$\n",
    "* $P(2)=3/8$\n",
    "* $P(3)=1/8$"
   ]
  },
  {
   "cell_type": "markdown",
   "metadata": {},
   "source": [
    "We can plot the distribution using:"
   ]
  },
  {
   "cell_type": "code",
   "execution_count": null,
   "metadata": {},
   "outputs": [],
   "source": [
    "bar(0:3, [1/8,3/8,3/8,1/8], legend=false)"
   ]
  },
  {
   "cell_type": "markdown",
   "metadata": {},
   "source": [
    "### Probability Distribution of rolling two dice\n",
    "\n",
    "We know that the probability of rolling a single dice and any number appearing is $1/6$.  The total number of different rolls is 36 and the following table gives the results as a point with the numbers on the two dice:\n",
    "\n",
    "```\n",
    "-------------------------------------------------\n",
    "| (1,1) | (1,2) | (1,3) | (1,4) | (1,5) | (1,6) |\n",
    "-------------------------------------------------\n",
    "| (2,1) | (2,2) | (2,3) | (2,4) | (2,5) | (2,6) |\n",
    "-------------------------------------------------\n",
    "| (3,1) | (3,2) | (3,3) | (3,4) | (3,5) | (3,6) |\n",
    "-------------------------------------------------\n",
    "| (4,1) | (4,2) | (4,3) | (4,4) | (4,5) | (4,6) |\n",
    "-------------------------------------------------\n",
    "| (5,1) | (5,2) | (5,3) | (5,4) | (5,5) | (5,6) |\n",
    "-------------------------------------------------\n",
    "| (6,1) | (6,2) | (6,3) | (6,4) | (6,5) | (6,6) |\n",
    "-------------------------------------------------\n",
    "```\n",
    "\n",
    "If we are seeking a probability distribution the the sum of the numbers on the dice:\n",
    "\n",
    "* $P(2)=1/36$\n",
    "* $P(3)=2/36$\n",
    "* $P(4)=3/36$\n",
    "* $P(5)=4/36$\n",
    "* $P(6)=5/36$\n",
    "* $P(7)=6/36$\n",
    "* $P(8)=5/36$\n",
    "* $P(9)=4/36$\n",
    "* $P(10)=3/36$\n",
    "* $P(11)=2/36$\n",
    "* $P(12)=1/36$\n"
   ]
  },
  {
   "cell_type": "markdown",
   "metadata": {},
   "source": [
    "The following is the distribution of two dice:"
   ]
  },
  {
   "cell_type": "code",
   "execution_count": null,
   "metadata": {},
   "outputs": [],
   "source": [
    "bar(2:12,[(6-abs(i-7))/36 for i=2:12], xticks=2:12,legend=false)"
   ]
  },
  {
   "cell_type": "markdown",
   "metadata": {},
   "source": [
    "#### 13.6: Pseudorandom numbers\n",
    "\n",
    "True random numbers are difficult to find, but a pseudorandom number is generally good enough.  A pseudorandom number is a function that generates a sequence of numbers.\n",
    "\n",
    "Consider a sequence of pseudorandom numbers to generate die rolls (uniformly distribution from 1 to 6).  Call the sequence $\\{a_n\\}$. For each value $1 \\leq k \\leq 6$, we want the fraction of values in $\\{a_n\\}$ to be about 1/6.  As the length of the sequence gets larger, the fraction should approach (in a limiting sense) 1/6.  "
   ]
  },
  {
   "cell_type": "markdown",
   "metadata": {},
   "source": [
    "We will set the set, so we can have reproducible results"
   ]
  },
  {
   "cell_type": "code",
   "execution_count": null,
   "metadata": {},
   "outputs": [],
   "source": [
    "using Random\n",
    "Random.seed!(1234)"
   ]
  },
  {
   "cell_type": "markdown",
   "metadata": {},
   "source": [
    "#### 13.6.2: Simulating the rolling of a die"
   ]
  },
  {
   "cell_type": "markdown",
   "metadata": {},
   "source": [
    "This will roll a die 100 times.  This will select 100 values from 1 to 6. "
   ]
  },
  {
   "cell_type": "code",
   "execution_count": null,
   "metadata": {},
   "outputs": [],
   "source": [
    "S100 = rand(1:6,100)"
   ]
  },
  {
   "cell_type": "markdown",
   "metadata": {},
   "source": [
    "This randomly picks 20 numbers from the array [1,4,8,9,50]"
   ]
  },
  {
   "cell_type": "code",
   "execution_count": null,
   "metadata": {},
   "outputs": [],
   "source": [
    "rand([1,4,8,9,50],20)"
   ]
  },
  {
   "cell_type": "markdown",
   "metadata": {},
   "source": [
    "### Continuous Distributions"
   ]
  },
  {
   "cell_type": "markdown",
   "metadata": {},
   "source": [
    "The most basic continuous distribution is the uniform distribution.  The `rand` function does this. For example, if we want a vector (1D array) with the uniform distribution between 0 and 1, "
   ]
  },
  {
   "cell_type": "code",
   "execution_count": null,
   "metadata": {},
   "outputs": [],
   "source": [
    "uniform10 = rand(10)"
   ]
  },
  {
   "cell_type": "code",
   "execution_count": null,
   "metadata": {},
   "outputs": [],
   "source": [
    "using Distributions, StatsPlots"
   ]
  },
  {
   "cell_type": "markdown",
   "metadata": {},
   "source": [
    "### Other Distributions"
   ]
  },
  {
   "cell_type": "markdown",
   "metadata": {},
   "source": [
    "There are many other distributions you may have remembered from a Stats class.  For example, the Normal distribution.  Using the `Distributions` package:"
   ]
  },
  {
   "cell_type": "code",
   "execution_count": null,
   "metadata": {},
   "outputs": [],
   "source": [
    "d = Normal()"
   ]
  },
  {
   "cell_type": "markdown",
   "metadata": {},
   "source": [
    "Here's a plot of that distribution"
   ]
  },
  {
   "cell_type": "code",
   "execution_count": null,
   "metadata": {},
   "outputs": [],
   "source": [
    "plot(d)"
   ]
  },
  {
   "cell_type": "markdown",
   "metadata": {},
   "source": [
    "Here's a plot of the normal distribution with standard deviations of 1/2,1 and 2"
   ]
  },
  {
   "cell_type": "code",
   "execution_count": null,
   "metadata": {},
   "outputs": [],
   "source": [
    "plot([Normal(0,1/2),Normal(0,1),Normal(0,2)],label=[\"std dev = 1/2\" \"std dev = 1\" \"std dev = 2\"])"
   ]
  },
  {
   "cell_type": "markdown",
   "metadata": {},
   "source": [
    "And here's a plot of the normal curve for different means:"
   ]
  },
  {
   "cell_type": "code",
   "execution_count": null,
   "metadata": {},
   "outputs": [],
   "source": [
    "plot([Normal(-1,1),Normal(0,1),Normal(1,1)],label=[\"mean = -1\" \"mean = 0\" \"mean = 1\"])"
   ]
  },
  {
   "cell_type": "markdown",
   "metadata": {},
   "source": [
    "This is an array of random numbers with a normal distribution"
   ]
  },
  {
   "cell_type": "code",
   "execution_count": null,
   "metadata": {},
   "outputs": [],
   "source": [
    "rand(Normal(),10)"
   ]
  },
  {
   "cell_type": "code",
   "execution_count": null,
   "metadata": {},
   "outputs": [],
   "source": []
  }
 ],
 "metadata": {
  "kernelspec": {
   "display_name": "Julia 1.8.2",
   "language": "julia",
   "name": "julia-1.8"
  },
  "language_info": {
   "file_extension": ".jl",
   "mimetype": "application/julia",
   "name": "julia",
   "version": "1.8.2"
  }
 },
 "nbformat": 4,
 "nbformat_minor": 4
}
