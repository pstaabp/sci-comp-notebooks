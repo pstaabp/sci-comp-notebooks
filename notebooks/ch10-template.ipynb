{
 "cells": [
  {
   "cell_type": "markdown",
   "metadata": {},
   "source": [
    "## Chapter 10: Algorithm Analysis"
   ]
  },
  {
   "cell_type": "markdown",
   "metadata": {},
   "source": [
    "*Definition*: Consider two functions $f$ and $g$. We say that $f(n)$ is $O(g(n))$ or “big-O” of $g(n)$ if\n",
    "\n",
    "$$\\lim_{n \\rightarrow \\infty}\\frac{f(n)}{g(n)} = C$$\n",
    "\n",
    "for some $0<C<\\infty$\n",
    "\n",
    "Generally, $g(n)$ is a simple function, like a power, exponential or a power times a log."
   ]
  },
  {
   "cell_type": "markdown",
   "metadata": {},
   "source": [
    "It's a good time to know how fast functions grow relative to each other.  List the following in lowest to highest growth. $f(n)$ grows faster than $g(n)$ if $\\lim_{n \\rightarrow \\infty} f(n)/g(n) = \\infty$.\n",
    "- $e^n$\n",
    "- $n^2$ \n",
    "- $e^{n^2}$\n",
    "- $n^2 \\ln(n)$\n",
    "- $n!$"
   ]
  },
  {
   "cell_type": "code",
   "execution_count": null,
   "metadata": {},
   "outputs": [],
   "source": [
    "fig, ax = lines(0..10, n->exp(n), label = \"e^n\")\n",
    "lines!(ax, 0..10, n->n^2, label = \"n^2\")\n",
    "axislegend(ax, position = :lt)\n",
    "fig"
   ]
  },
  {
   "cell_type": "markdown",
   "metadata": {},
   "source": [
    "Find big-O for the following:\n",
    "* $n^2+e^n$\n",
    "* $3n^2+e^{-n}$\n",
    "* $n + n \\ln (n)$"
   ]
  },
  {
   "cell_type": "markdown",
   "metadata": {},
   "source": [
    "### Polynomial Evaluation"
   ]
  },
  {
   "cell_type": "markdown",
   "metadata": {},
   "source": [
    "Recall that a polynomial is\n",
    "\n",
    "$$p(x) = a_0 + a_1 x + a_2 x^2 + a_3 x^3 + \\cdots + a_n x^n$$\n",
    "\n",
    "For example, a quadratic is a polynomial like $q(x)= 3x^2+7x-2$\n",
    "\n",
    "The simple way to evaluate the polynomial is to find each power of x and then multiply by the coefficient.  Here's a function that takes an array of coefficients and a value $x$ and calculates $p(x)$.  "
   ]
  },
  {
   "cell_type": "code",
   "execution_count": null,
   "metadata": {},
   "outputs": [],
   "source": [
    "function polyEval(coeffs::Vector{T}, x::S) where {T <: Number, S <: Number}\n",
    "  local sum = zero(T)\n",
    "\n",
    "  # we will use a simple power function that is not very efficient:\n",
    "  function pow(x::T,n::Int) where T <: Number\n",
    "    local prod = one(T)\n",
    "    for j=1:n\n",
    "      prod *=x\n",
    "    end\n",
    "    prod\n",
    "  end\n",
    "\n",
    "  # then we have the sum of all of the terms:\n",
    "  for n=1:length(coeffs)\n",
    "    sum += coeffs[n]*pow(x,n-1)\n",
    "  end\n",
    "  sum\n",
    "end"
   ]
  },
  {
   "cell_type": "markdown",
   "metadata": {},
   "source": [
    "note: we will be explaining the `where {T <: Number, S <: Number}` later.  This allows the ability to evaluate polynomials at any type of number. \n",
    "\n",
    "The following evaluates $q(1.5)$ for the quadratic above"
   ]
  },
  {
   "cell_type": "code",
   "execution_count": null,
   "metadata": {},
   "outputs": [],
   "source": [
    "polyEval([-2,7,3],1.5)"
   ]
  },
  {
   "cell_type": "code",
   "execution_count": null,
   "metadata": {},
   "outputs": [],
   "source": [
    "-2+7*(1.5)+3*(1.5)^2"
   ]
  },
  {
   "cell_type": "markdown",
   "metadata": {},
   "source": [
    "And here is the polynomial $p(x)=1+2x+3x^2+4x^3$ evaluated at $x=4$"
   ]
  },
  {
   "cell_type": "code",
   "execution_count": null,
   "metadata": {},
   "outputs": [],
   "source": [
    "polyEval([1,2,3,4],4)"
   ]
  },
  {
   "cell_type": "markdown",
   "metadata": {},
   "source": [
    "We want to see how polynomial evaluation occurs for a given value of $n$, the degree of the polynomial.  We can do this two different ways:\n",
    "\n",
    "1. Use some analytic techniques\n",
    "2. Run some code and analyze."
   ]
  },
  {
   "cell_type": "markdown",
   "metadata": {},
   "source": [
    "For #1, we note that the number of multiplications for evaluating a polynomial of degree $n$ is\n",
    "\n",
    "$$0+1+2+3+4+\\cdots+(n+1)= \\frac{(n+1)(n+2)}{2}$$\n",
    "\n",
    "The number of additions is $n$. Overall the number of operations then is\n",
    "\n",
    "$$\\frac{(n+1)(n+2)}{2} +n$$\n",
    "\n",
    "What is the order (big-o) of this?"
   ]
  },
  {
   "cell_type": "markdown",
   "metadata": {},
   "source": [
    "For #2, we will do the following.  First need to load (and probably add) some packages"
   ]
  },
  {
   "cell_type": "code",
   "execution_count": null,
   "metadata": {},
   "outputs": [],
   "source": [
    "using BenchmarkTools, CairoMakie, LsqFit, Random\n",
    "CairoMakie.activate!()\n",
    "Makie.inline!(true)"
   ]
  },
  {
   "cell_type": "code",
   "execution_count": null,
   "metadata": {},
   "outputs": [],
   "source": [
    "Random.seed!(132)"
   ]
  },
  {
   "cell_type": "markdown",
   "metadata": {},
   "source": [
    "The following make an array of times that store the evaluate times of the polynomial evaluation.  Although we only fill part of the array so it doesn't take foreever."
   ]
  },
  {
   "cell_type": "code",
   "execution_count": 10,
   "metadata": {},
   "outputs": [],
   "source": [
    "times = zeros(351)\n",
    "r = 1:50:351\n",
    "for i=r\n",
    "  coeffs = rand(i+1)\n",
    "  times[i] = @belapsed polyEval($coeffs,1/3)\n",
    "end"
   ]
  },
  {
   "cell_type": "code",
   "execution_count": null,
   "metadata": {},
   "outputs": [],
   "source": [
    "fig, ax = scatter(r,times[r])"
   ]
  },
  {
   "cell_type": "markdown",
   "metadata": {},
   "source": [
    "Although this looks quadratic, let's see if it is.  We can find the data to a quadratic using the following:"
   ]
  },
  {
   "cell_type": "code",
   "execution_count": null,
   "metadata": {},
   "outputs": [],
   "source": [
    " model(t, p) = p[1].+p[2].*t.+p[3].*t.^2"
   ]
  },
  {
   "cell_type": "code",
   "execution_count": 14,
   "metadata": {},
   "outputs": [],
   "source": [
    "fit = curve_fit(model, r, times[r], [1e-8,1e-8,1e-8]);"
   ]
  },
  {
   "cell_type": "markdown",
   "metadata": {},
   "source": [
    "And if we want the parameters"
   ]
  },
  {
   "cell_type": "code",
   "execution_count": null,
   "metadata": {},
   "outputs": [],
   "source": [
    "fit.param"
   ]
  },
  {
   "cell_type": "markdown",
   "metadata": {},
   "source": [
    "The following is the confidence intervals for each of the paramters. "
   ]
  },
  {
   "cell_type": "code",
   "execution_count": null,
   "metadata": {},
   "outputs": [],
   "source": [
    "confidence_interval(fit, 0.05)"
   ]
  },
  {
   "cell_type": "markdown",
   "metadata": {},
   "source": [
    "Because the first two contain 0, we don't include them and remodel using only the $t^2$ term: "
   ]
  },
  {
   "cell_type": "code",
   "execution_count": 17,
   "metadata": {},
   "outputs": [],
   "source": [
    "fit2 = curve_fit((t,p)->p[1].*t.^2,r,times[r],[1e-8]);"
   ]
  },
  {
   "cell_type": "code",
   "execution_count": null,
   "metadata": {},
   "outputs": [],
   "source": [
    "lines!(ax, 0..375,n->fit2.param[1]*n^2)\n",
    "fig"
   ]
  },
  {
   "cell_type": "markdown",
   "metadata": {},
   "source": [
    "### Horner's Method\n",
    "Next, we are going to do an alternative way of evaluating a polynomial.  This is called Horner's form. \n",
    "\n",
    "The polynomial\n",
    "\n",
    "$$p(x) = a_0 + a_1 x + a_2 x^2 + a_3 x^3 + \\cdots + a_n x^n$$\n",
    "\n",
    "can be written:\n",
    "\n",
    "$$(a_n x +a_{n-1})x + a_{n-2})x + \\cdots + a_2)x^2 + a_1)x + a_0$$ \n",
    "\n",
    "and the result is that there are $n$ multiplications and $n$ additions. So this should be faster."
   ]
  },
  {
   "cell_type": "code",
   "execution_count": null,
   "metadata": {},
   "outputs": [],
   "source": [
    "function horner(coeffs::Vector{T},x::S) where {T <: Number, S <: Number}\n",
    "  result = coeffs[end]\n",
    "  for i=length(coeffs)-1:-1:1\n",
    "    result = x*result+coeffs[i]\n",
    "  end\n",
    "  result\n",
    "end"
   ]
  },
  {
   "cell_type": "code",
   "execution_count": 24,
   "metadata": {},
   "outputs": [],
   "source": [
    "htimes = zeros(Float64,351)\n",
    "for i=r\n",
    "  coeffs = rand(Float64,i)\n",
    "  htimes[i] = @belapsed horner($coeffs,1/3)\n",
    "end"
   ]
  },
  {
   "cell_type": "code",
   "execution_count": null,
   "metadata": {},
   "outputs": [],
   "source": [
    "fig, ax = scatter(r,htimes[r])"
   ]
  },
  {
   "cell_type": "code",
   "execution_count": 26,
   "metadata": {},
   "outputs": [],
   "source": [
    "fit3 = curve_fit(model, r, htimes[r], [1e-8,1e-8,1e-8]);"
   ]
  },
  {
   "cell_type": "code",
   "execution_count": null,
   "metadata": {},
   "outputs": [],
   "source": [
    "fit3.param"
   ]
  },
  {
   "cell_type": "code",
   "execution_count": null,
   "metadata": {},
   "outputs": [],
   "source": [
    "confidence_interval(fit3)"
   ]
  },
  {
   "cell_type": "markdown",
   "metadata": {},
   "source": [
    "Only the 2nd parameter (the linear one) is significant so generate a new model with just that term:"
   ]
  },
  {
   "cell_type": "code",
   "execution_count": 29,
   "metadata": {},
   "outputs": [],
   "source": [
    "fit4 = curve_fit((t,p)->p[1].*t,r,htimes[r],[1e-8]);"
   ]
  },
  {
   "cell_type": "code",
   "execution_count": null,
   "metadata": {},
   "outputs": [],
   "source": [
    "lines!(ax,0..375, n->fit4.param[1]*n)\n",
    "fig"
   ]
  },
  {
   "cell_type": "code",
   "execution_count": null,
   "metadata": {},
   "outputs": [],
   "source": [
    "fig, ax = scatter(r,times[r])\n",
    "scatter!(ax, r,htimes[r])\n",
    "fig"
   ]
  },
  {
   "cell_type": "markdown",
   "metadata": {},
   "source": [
    "### Testing the speed of Primes"
   ]
  },
  {
   "cell_type": "markdown",
   "metadata": {},
   "source": [
    "From Chapter 9, we developed the following function that tests for being prime.  In this section, we will determine the order of this algorithm:"
   ]
  },
  {
   "cell_type": "code",
   "execution_count": null,
   "metadata": {},
   "outputs": [],
   "source": [
    "function isPrime5(n::Integer)\n",
    "  if n%2==0\n",
    "    return true\n",
    "  end\n",
    "  for k=3:2:round(Int,sqrt(n))\n",
    "    if n%k==0\n",
    "      return false\n",
    "    end\n",
    "  end\n",
    "  true\n",
    "end"
   ]
  },
  {
   "cell_type": "code",
   "execution_count": 37,
   "metadata": {},
   "outputs": [],
   "source": [
    "using Primes"
   ]
  },
  {
   "cell_type": "markdown",
   "metadata": {},
   "source": [
    "The following generates an array of prime numbers and then determines the elasped time  to determine whether or not each is a prime number.  Note: we are only going to check primes, because these are the worst-case. The function will bail out early (less time) if the number is not prime. "
   ]
  },
  {
   "cell_type": "code",
   "execution_count": null,
   "metadata": {},
   "outputs": [],
   "source": [
    "the_primes = map(nextprime,5_000_000:5_000_000:100_000_000)"
   ]
  },
  {
   "cell_type": "code",
   "execution_count": 39,
   "metadata": {},
   "outputs": [],
   "source": [
    "prime_times=Float64[]\n",
    "for p in the_primes\n",
    "  push!(prime_times,@belapsed isPrime5($p))\n",
    "end"
   ]
  },
  {
   "cell_type": "code",
   "execution_count": null,
   "metadata": {},
   "outputs": [],
   "source": [
    "fig, ax = scatter(the_primes,prime_times)"
   ]
  },
  {
   "cell_type": "markdown",
   "metadata": {},
   "source": [
    "Let's build a model with just a constant term, a square root and a log term based on the plot:"
   ]
  },
  {
   "cell_type": "code",
   "execution_count": 41,
   "metadata": {},
   "outputs": [],
   "source": [
    "fit5 = curve_fit((t, p) -> p[1].+p[2].*sqrt.(t).+p[3]*log.(t),the_primes, prime_times, [1e-4, 1e-4,1e-4]);"
   ]
  },
  {
   "cell_type": "code",
   "execution_count": null,
   "metadata": {},
   "outputs": [],
   "source": [
    "fit5.param"
   ]
  },
  {
   "cell_type": "code",
   "execution_count": null,
   "metadata": {},
   "outputs": [],
   "source": [
    "confidence_interval(fit5)"
   ]
  },
  {
   "cell_type": "markdown",
   "metadata": {},
   "source": [
    "Only the $\\sqrt{n}$ term is significant.  Let's fit the model to just that one:"
   ]
  },
  {
   "cell_type": "code",
   "execution_count": 44,
   "metadata": {},
   "outputs": [],
   "source": [
    "fit6 = curve_fit((t,p) -> p[1].*sqrt.(t),the_primes,prime_times,[1e-6]);"
   ]
  },
  {
   "cell_type": "code",
   "execution_count": null,
   "metadata": {},
   "outputs": [],
   "source": [
    "fit6.param"
   ]
  },
  {
   "cell_type": "code",
   "execution_count": null,
   "metadata": {},
   "outputs": [],
   "source": [
    "lines!(ax,1..100_000_000,t->fit6.param[1]*sqrt(t))\n",
    "fig"
   ]
  },
  {
   "cell_type": "markdown",
   "metadata": {},
   "source": [
    "This shows using some data that the order of operations (big-O) of finding prime numbers using this algorithm is $O(\\sqrt{n})$"
   ]
  },
  {
   "cell_type": "code",
   "execution_count": null,
   "metadata": {},
   "outputs": [],
   "source": []
  }
 ],
 "metadata": {
  "kernelspec": {
   "display_name": "Julia 1.11.0-rc4",
   "language": "julia",
   "name": "julia-1.11"
  },
  "language_info": {
   "file_extension": ".jl",
   "mimetype": "application/julia",
   "name": "julia",
   "version": "1.11.0-rc4"
  }
 },
 "nbformat": 4,
 "nbformat_minor": 4
}
