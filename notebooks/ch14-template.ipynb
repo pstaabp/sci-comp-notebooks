{
 "cells": [
  {
   "cell_type": "markdown",
   "metadata": {},
   "source": [
    "## Chapter 14: Plotting in Makie"
   ]
  },
  {
   "cell_type": "markdown",
   "metadata": {},
   "source": [
    "### 14.1: Basic Plotting\n",
    "\n"
   ]
  },
  {
   "cell_type": "code",
   "execution_count": null,
   "metadata": {},
   "outputs": [],
   "source": [
    "using Makie, CairoMakie\n",
    "CairoMakie.activate!()\n",
    "Makie.inline!(true)"
   ]
  },
  {
   "cell_type": "markdown",
   "metadata": {},
   "source": [
    "#### Scatter Plot"
   ]
  },
  {
   "cell_type": "code",
   "execution_count": null,
   "metadata": {},
   "outputs": [],
   "source": [
    "x = 1:10\n",
    "y = rand(-5:5,10)\n",
    "scatter(x,y)"
   ]
  },
  {
   "cell_type": "markdown",
   "metadata": {},
   "source": [
    "### Line Plot"
   ]
  },
  {
   "cell_type": "code",
   "execution_count": null,
   "metadata": {},
   "outputs": [],
   "source": [
    "lines(x,y)"
   ]
  },
  {
   "cell_type": "markdown",
   "metadata": {},
   "source": [
    "### Function Plot\n",
    "\n",
    "You can make a line plot with a lot of values"
   ]
  },
  {
   "cell_type": "code",
   "execution_count": 5,
   "metadata": {},
   "outputs": [],
   "source": [
    "x=-2:0.01:2\n",
    "y = x.^2;"
   ]
  },
  {
   "cell_type": "code",
   "execution_count": null,
   "metadata": {},
   "outputs": [],
   "source": [
    "lines(x,y)"
   ]
  },
  {
   "cell_type": "markdown",
   "metadata": {},
   "source": [
    "Or instead apply a function to a plotting domain"
   ]
  },
  {
   "cell_type": "code",
   "execution_count": null,
   "metadata": {},
   "outputs": [],
   "source": [
    "lines(-2..2,x->x^2)"
   ]
  },
  {
   "cell_type": "markdown",
   "metadata": {},
   "source": [
    "### 14.2 Figures and Grid layout of Axes\n",
    "\n",
    "This section shows how to build a plot from various pieces (axes) as well as apply attributes to axes."
   ]
  },
  {
   "cell_type": "code",
   "execution_count": null,
   "metadata": {},
   "outputs": [],
   "source": [
    "fig = Figure()"
   ]
  },
  {
   "cell_type": "markdown",
   "metadata": {},
   "source": [
    "Now put an axis on the figure"
   ]
  },
  {
   "cell_type": "code",
   "execution_count": null,
   "metadata": {},
   "outputs": [],
   "source": [
    "ax = Axis(fig[1,1])"
   ]
  },
  {
   "cell_type": "markdown",
   "metadata": {},
   "source": [
    "Nothing happened but if we show the figure again..."
   ]
  },
  {
   "cell_type": "code",
   "execution_count": null,
   "metadata": {},
   "outputs": [],
   "source": [
    "fig"
   ]
  },
  {
   "cell_type": "markdown",
   "metadata": {},
   "source": [
    "Build a Figure with a 2 by 2 grid of axes"
   ]
  },
  {
   "cell_type": "markdown",
   "metadata": {},
   "source": [
    "Build a Figure with a axis on the top half and 3 axes on the bottom."
   ]
  },
  {
   "cell_type": "markdown",
   "metadata": {},
   "source": [
    "### 14.3 Axis options\n",
    "\n",
    "Recall that we can change attributes of axis (title, labels, legends, limits), however these are separate from the plots that go on the Axes.  Here we change axes attributes"
   ]
  },
  {
   "cell_type": "code",
   "execution_count": null,
   "metadata": {},
   "outputs": [],
   "source": [
    "fig = Figure()\n",
    "ax = Axis(fig[1,1], title=\"Seriously Cool Plot\", xlabel = \"x\", ylabel = \"y\", limits = (-10,15,-5,25))\n",
    "fig"
   ]
  },
  {
   "cell_type": "markdown",
   "metadata": {},
   "source": [
    "#### Exercise\n",
    "\n"
   ]
  },
  {
   "cell_type": "markdown",
   "metadata": {},
   "source": [
    "### 14.4 Adding plots to Axes\n",
    "\n",
    "Unless a plot is very simple, we generally create a Figure, then an Axis object with the desired properties, then add a plot to it.  Here's the same scatter plot above with some Axis attributes"
   ]
  },
  {
   "cell_type": "markdown",
   "metadata": {},
   "source": [
    "Note that the `scatter!` is used because we are altering the axis (first argument).  We can also add a function plot (or anything else) with the following:"
   ]
  },
  {
   "cell_type": "markdown",
   "metadata": {},
   "source": [
    "And then add an additional plot to the existing axes. Let's add $sin(x)$ with `lines!`. "
   ]
  },
  {
   "cell_type": "markdown",
   "metadata": {},
   "source": [
    "If we wish to add plots to different axes, here's an example using the axes that we saw above:\n"
   ]
  },
  {
   "cell_type": "code",
   "execution_count": null,
   "metadata": {},
   "outputs": [],
   "source": [
    "fig = Figure()\n",
    "ax1 = Axis(fig[1,1], title=\"Axis 1\")\n",
    "ax2 = Axis(fig[2,1][1,1], title = \"Axis 2\")\n",
    "ax3 = Axis(fig[2,1][1,2], title = \"Axis 3\")\n",
    "lines!(ax1, 0..10,sin)\n",
    "barplot!(ax2, 0:10, rand(5:10,11))\n",
    "scatter!(ax3, 0:10, 10*rand(11))\n",
    "fig"
   ]
  },
  {
   "cell_type": "markdown",
   "metadata": {},
   "source": [
    "### 14.5 Plotting Data\n",
    "\n",
    "we'll cover this later in the course"
   ]
  },
  {
   "cell_type": "markdown",
   "metadata": {},
   "source": [
    "### 14.6 Implicit and Contour Plots\n",
    "\n",
    "An implicit plot in 2D is the set of points $(x,y)$ that satisfy $f(x,y)=C$, for some function and some constant $C$. The classic example is that of a circle.  The following is relatively complicated to just plot a circle."
   ]
  },
  {
   "cell_type": "code",
   "execution_count": null,
   "metadata": {},
   "outputs": [],
   "source": [
    "xpts = ypts = -1.5:0.1:1.5\n",
    "f = [x^2+y^2 for x in xpts, y in ypts ]\n",
    "\n",
    "fig = Figure()\n",
    "ax = Axis(fig[1,1], aspect = 1)\n",
    "contour!(ax, xpts, ypts, f, levels=[1])\n",
    "fig"
   ]
  },
  {
   "cell_type": "markdown",
   "metadata": {},
   "source": [
    "We used the `contour!` method above to plot this and set the `levels` attribute to only plot the `C=1` level.  If we remove that and let the levels be determined automatically then:\n"
   ]
  },
  {
   "cell_type": "code",
   "execution_count": null,
   "metadata": {},
   "outputs": [],
   "source": [
    "xpts = ypts = -1.5:0.1:1.5\n",
    "f = [x^2+y^2 for x in xpts, y in ypts ]\n",
    "\n",
    "fig = Figure()\n",
    "ax = Axis(fig[1,1], aspect = 1)\n",
    "contour!(ax, xpts, ypts, f)\n",
    "fig"
   ]
  },
  {
   "cell_type": "code",
   "execution_count": null,
   "metadata": {},
   "outputs": [],
   "source": [
    "surface(xpts, ypts, f)"
   ]
  },
  {
   "cell_type": "markdown",
   "metadata": {},
   "source": [
    "### More contour plots\n",
    "\n",
    " $$f(x,y) = \\sin\\left(\\frac{1}{2}x^2-\\frac{1}{4}y^2+2\\right)\\cos(x+y)$$\n",
    "\n",
    " A basic contour plot has "
   ]
  },
  {
   "cell_type": "code",
   "execution_count": null,
   "metadata": {},
   "outputs": [],
   "source": [
    "x = y = LinRange(0,pi,101)\n",
    "g(x,y) = sin(0.5x^2-0.25y^2+2)*cos(x+y)\n",
    "contour(x,y,g)\n"
   ]
  },
  {
   "cell_type": "markdown",
   "metadata": {},
   "source": [
    "Increasing the number of levels and adding labels"
   ]
  },
  {
   "cell_type": "code",
   "execution_count": null,
   "metadata": {},
   "outputs": [],
   "source": [
    "contour(x, y, g, levels = 11, labels = true)"
   ]
  },
  {
   "cell_type": "markdown",
   "metadata": {},
   "source": [
    "A filled contour plot uses `contourf`"
   ]
  },
  {
   "cell_type": "code",
   "execution_count": null,
   "metadata": {},
   "outputs": [],
   "source": [
    "contourf(x, y, g, levels = 11)"
   ]
  },
  {
   "cell_type": "markdown",
   "metadata": {},
   "source": [
    "And we can add a colorbar to help with the colors:"
   ]
  },
  {
   "cell_type": "code",
   "execution_count": null,
   "metadata": {},
   "outputs": [],
   "source": [
    "\n",
    "fig, ax, hm = contourf(x, y, g, levels = 11)\n",
    "Colorbar(fig[1,2], hm)\n",
    "fig"
   ]
  },
  {
   "cell_type": "markdown",
   "metadata": {},
   "source": [
    "### Backends for Makie\n",
    "\n",
    "- **CairoMakie** uses the <c>Cairo</c> drawing engine underneath and excels at high-quality 2D drawings that are non-interactive. The output in generally either an SVG or PDF and since these are vector-based drawing formats, these will produce high-quality graphs for print (and the screen).\n",
    "\n",
    "- **GLMakie** is the native, desktop-based backend, and is the most feature-complete. It requires an OpenGL enabled graphics card with OpenGL version 3.3 or higher. It appears that almost all graphics cards support OpenGL and thus GLMakie should work for nearly all computers.\n",
    "\n",
    "- **RPRMakie** is an experimental ray tracing backend using AMDs RadeonProRender. While it's created by AMD and tailored to Radeon GPUs, it still works just as well for NVidia and Intel GPUs using OpenCL. It also works on the CPU and even has a hybrid modus to use GPUs and CPUs in tandem to render images.\n",
    "\n",
    "- **WGLMakie** is the web-based backend, which is mostly implemented in Julia right now. WGLMakie uses Bonito to generate the HTML and JavaScript for displaying the plots. On the JavaScript side, we use ThreeJS and WebGL to render the plots. Moving more of the implementation to JavaScript is currently the goal and will give us a better JavaScript API, and more interaction without a running Julia server."
   ]
  },
  {
   "cell_type": "markdown",
   "metadata": {},
   "source": [
    "### Summary\n",
    "\n",
    "- To plot using Makie, you need to activate the proper backend and to get plots in VS code do `Makie.inline!(true)`\n",
    "- Basic plots include `lines` and `scatter`. \n",
    "- Makie has a robust subplot layout system.  It's very helpful for complex plots, but necessary to ensure that even simpler plots are laid out correctly.\n",
    "- Examples of contour and surface plots are shown. \n",
    "- There are a ton of other plotting functions on the Makie website. \n",
    "- All of the examples here use `CairoMakie`, but there are other backends available.  Feel free to experiment. "
   ]
  },
  {
   "cell_type": "markdown",
   "metadata": {},
   "source": []
  }
 ],
 "metadata": {
  "kernelspec": {
   "display_name": "Julia 1.11.0",
   "language": "julia",
   "name": "julia-1.11"
  },
  "language_info": {
   "file_extension": ".jl",
   "mimetype": "application/julia",
   "name": "julia",
   "version": "1.11.0"
  }
 },
 "nbformat": 4,
 "nbformat_minor": 2
}
