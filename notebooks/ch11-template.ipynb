{
 "cells": [
  {
   "cell_type": "markdown",
   "metadata": {},
   "source": [
    "## Chapter 11: Rootfinding"
   ]
  },
  {
   "cell_type": "markdown",
   "metadata": {},
   "source": [
    "A **root** of a function $f(x)$ is a number $x^{\\star}$ such that $f(x^{\\star})=0$.\n",
    "\n",
    "For example, if $f(x)=x^2-4x+3$, then $x=1$ is a root because $f(1)=0$\n",
    "\n",
    "With some functions (linear, quadratic), we can find the roots using standard mathematical techniques, however, in many cases, say if $g(x) = x \\cos x$, we can't. "
   ]
  },
  {
   "cell_type": "markdown",
   "metadata": {},
   "source": [
    "This chapter goes over approximations to roots, errors and how to find roots."
   ]
  },
  {
   "cell_type": "markdown",
   "metadata": {},
   "source": [
    "### 11.1 Absolute and Relative Errors"
   ]
  },
  {
   "cell_type": "markdown",
   "metadata": {},
   "source": [
    "Consider some algorithm tries to find the value $x^{\\star}$.  If the actual value that the algorithm returns is $x$, there there is an error.  The **absolute error** is defined as\n",
    "\n",
    "$$|x-x^{\\star}|$$\n",
    "\n",
    "and the **relative error** is \n",
    "\n",
    "$$\\left|\\frac{x-x^{\\star}}{x^{\\star}}\\right|$$\n",
    "\n",
    "Also, the **percent error** is often used as well and it is the relative error times 100."
   ]
  },
  {
   "cell_type": "markdown",
   "metadata": {},
   "source": [
    "Consider the example if $x^{\\star} = 0.150$ and $x=0.153$, find the absolute, relative and percent error."
   ]
  },
  {
   "cell_type": "code",
   "execution_count": null,
   "metadata": {},
   "outputs": [],
   "source": [
    "xstar = 0.150\n",
    "x = 0.153\n",
    "abs(x-xstar)"
   ]
  },
  {
   "cell_type": "code",
   "execution_count": null,
   "metadata": {},
   "outputs": [],
   "source": [
    "abs((x-xstar)/xstar)"
   ]
  },
  {
   "cell_type": "code",
   "execution_count": null,
   "metadata": {},
   "outputs": [],
   "source": [
    "100*abs((x-xstar)/xstar)"
   ]
  },
  {
   "cell_type": "markdown",
   "metadata": {},
   "source": [
    "To simplify things in this chapter we will define:"
   ]
  },
  {
   "cell_type": "code",
   "execution_count": null,
   "metadata": {},
   "outputs": [],
   "source": [
    "absErr(x::Real,xstar::Real) = abs(x-xstar)\n",
    "relErr(x::Real,xstar::Real) = abs((x-xstar)/xstar)"
   ]
  },
  {
   "cell_type": "code",
   "execution_count": null,
   "metadata": {},
   "outputs": [],
   "source": [
    "absErr(0.153,0.15)"
   ]
  },
  {
   "cell_type": "code",
   "execution_count": null,
   "metadata": {},
   "outputs": [],
   "source": [
    "relErr(0.153,0.15)"
   ]
  },
  {
   "cell_type": "code",
   "execution_count": null,
   "metadata": {},
   "outputs": [],
   "source": [
    "100*relErr(0.153,0.15)"
   ]
  },
  {
   "cell_type": "markdown",
   "metadata": {},
   "source": [
    "### 11.2 Errors in the Quadratic Formula"
   ]
  },
  {
   "cell_type": "markdown",
   "metadata": {},
   "source": [
    "Consider a quadratic function $q(x)=ax^2+bx+c$, we know that the quadratic formula:\n",
    "\n",
    "$$x=\\frac{-b \\pm \\sqrt{b^{2}-4ac} } {2a}$$\n",
    "\n",
    "returns the roots of $q(x)$"
   ]
  },
  {
   "cell_type": "markdown",
   "metadata": {},
   "source": [
    "A simple function that solves this is:"
   ]
  },
  {
   "cell_type": "code",
   "execution_count": null,
   "metadata": {},
   "outputs": [],
   "source": [
    "function quad(a::Real,b::Real,c::Real)\n",
    "  d=sqrt(b^2-4*a*c)\n",
    "  (-b+d)/(2*a),(-b-d)/(2*a)\n",
    "end"
   ]
  },
  {
   "cell_type": "markdown",
   "metadata": {},
   "source": [
    "Let's use this to solve $12.242x^2+42.382x+0.0012=0$ using the quadratic formula"
   ]
  },
  {
   "cell_type": "code",
   "execution_count": null,
   "metadata": {},
   "outputs": [],
   "source": [
    "x64a,x64b = quad(12.242,42.382,0.0012)"
   ]
  },
  {
   "cell_type": "markdown",
   "metadata": {},
   "source": [
    "If instead we used 16-bit floating point numbers then"
   ]
  },
  {
   "cell_type": "code",
   "execution_count": null,
   "metadata": {},
   "outputs": [],
   "source": [
    "x16a,x16b = quad(Float16(12.242),Float16(42.382),Float16(0.0012))"
   ]
  },
  {
   "cell_type": "markdown",
   "metadata": {},
   "source": [
    "If we assume that 64-bit roots are exact and the 16-bit roots are approximations, then the absolute errors are:"
   ]
  },
  {
   "cell_type": "code",
   "execution_count": null,
   "metadata": {},
   "outputs": [],
   "source": [
    "absErr(x16a,x64a),absErr(x16b,x64b)"
   ]
  },
  {
   "cell_type": "markdown",
   "metadata": {},
   "source": [
    "And the relative errors are:"
   ]
  },
  {
   "cell_type": "code",
   "execution_count": null,
   "metadata": {},
   "outputs": [],
   "source": [
    "relErr(x16a,x64a),relErr(x16b,x64b)"
   ]
  },
  {
   "cell_type": "markdown",
   "metadata": {},
   "source": [
    "What happened?   In the example of the quadratic formula: $12.242x^2+42.382x+0.0012=0$, then $b=42.382$ and $\\sqrt{b^2-4ac}$ is"
   ]
  },
  {
   "cell_type": "code",
   "execution_count": null,
   "metadata": {},
   "outputs": [],
   "source": []
  },
  {
   "cell_type": "markdown",
   "metadata": {},
   "source": [
    "Is very close to $b$ so we they are subtracted you get round off."
   ]
  },
  {
   "cell_type": "markdown",
   "metadata": {},
   "source": [
    "#### Exercise\n",
    "Find the solution to $12.242x^2+42.382x+0.0012=0$ using BigFloats and treat them like exact values.  What are the relative errors of the 64-bit versions?"
   ]
  },
  {
   "cell_type": "markdown",
   "metadata": {},
   "source": [
    "### 11.3: Revisting the Quadratic Equation"
   ]
  },
  {
   "cell_type": "markdown",
   "metadata": {},
   "source": [
    "Does the above example mean that we can't use the quadratic equation?  Well, no.  Here's how we can rewrite the quadratic.\n",
    "\n",
    "Assume that $b>0$, then root from the quadratic formula that is most problematic is:\n",
    "\n",
    "$$\\frac{-b+\\sqrt{b^2-4ac}}{2a}$$\n",
    "\n",
    "We can rearrange this to switch to an addition problem."
   ]
  },
  {
   "cell_type": "code",
   "execution_count": null,
   "metadata": {},
   "outputs": [],
   "source": [
    "function quad2(a::Real,b::Real,c::Real)\n",
    "\n",
    "end"
   ]
  },
  {
   "cell_type": "code",
   "execution_count": null,
   "metadata": {},
   "outputs": [],
   "source": [
    "x64c,x64d = quad2(12.242,42.382,0.12)"
   ]
  },
  {
   "cell_type": "code",
   "execution_count": null,
   "metadata": {},
   "outputs": [],
   "source": [
    "x16c,x16d = quad2(Float16(12.24),Float16(42.382),Float16(0.12))"
   ]
  },
  {
   "cell_type": "code",
   "execution_count": null,
   "metadata": {},
   "outputs": [],
   "source": [
    "absErr(x16c,x64c),absErr(x16d,x64d)"
   ]
  },
  {
   "cell_type": "code",
   "execution_count": null,
   "metadata": {},
   "outputs": [],
   "source": [
    "relErr(x16c,x64c),relErr(x16d,x64d)"
   ]
  },
  {
   "cell_type": "markdown",
   "metadata": {},
   "source": [
    "Note that the first solution is quite close, but this time the second one has error of about 11%."
   ]
  },
  {
   "cell_type": "markdown",
   "metadata": {},
   "source": [
    "In your homework, you will write a function that chooses which of the two quadratic formulas to select to get a good result."
   ]
  },
  {
   "cell_type": "markdown",
   "metadata": {},
   "source": [
    "### Searching for roots of functions that are hard to find:"
   ]
  },
  {
   "cell_type": "code",
   "execution_count": null,
   "metadata": {},
   "outputs": [],
   "source": [
    "using CairoMakie\n",
    "CairoMakie.activate!()\n",
    "Makie.inline!(true)"
   ]
  },
  {
   "cell_type": "code",
   "execution_count": null,
   "metadata": {},
   "outputs": [],
   "source": [
    "fig, ax = lines(0..2, x->0)\n",
    "lines!(ax,0..2, x->x-cos(x))\n",
    "fig"
   ]
  },
  {
   "cell_type": "code",
   "execution_count": null,
   "metadata": {},
   "outputs": [],
   "source": [
    "function bisect(f::Function,a::Real,b::Real)\n",
    "  local mid = 0.5*(a+b)  # find the midpoint\n",
    "  abs(b-a) < 1e-6 ?  mid : (f(a)*f(mid) < 0  ? bisect(f,a,mid) : bisect(f,mid,b) )\n",
    "end"
   ]
  },
  {
   "cell_type": "code",
   "execution_count": null,
   "metadata": {},
   "outputs": [],
   "source": [
    "bisect(x->x-cos(x),0,2)"
   ]
  },
  {
   "cell_type": "markdown",
   "metadata": {},
   "source": [
    "### 11.4: Newton's method"
   ]
  },
  {
   "cell_type": "markdown",
   "metadata": {},
   "source": [
    "Newton's method is a common method used to find roots of equations.  You probably saw Newton's method in Calculus and the idea is to approximate the root by using the tangent line (and finding the root).  This is repeatedly done.  In short, this results in the following iterative formula:\n",
    "\n",
    "$$x_{n+1} = x_n - \\frac{f(x_n)}{f'(x_n)}$$"
   ]
  },
  {
   "cell_type": "markdown",
   "metadata": {},
   "source": [
    "We can write this as a julia function with:"
   ]
  },
  {
   "cell_type": "code",
   "execution_count": null,
   "metadata": {},
   "outputs": [],
   "source": [
    "function newton(f::Function, df::Function, x0::Real)\n",
    "\n",
    "end"
   ]
  },
  {
   "cell_type": "markdown",
   "metadata": {},
   "source": [
    "Find all roots of the function $f(x)=15x^3-143x^2+226x+280$"
   ]
  },
  {
   "cell_type": "code",
   "execution_count": null,
   "metadata": {},
   "outputs": [],
   "source": [
    "f(x::Real) = 15x^3-143x^2+226x+280"
   ]
  },
  {
   "cell_type": "code",
   "execution_count": null,
   "metadata": {},
   "outputs": [],
   "source": [
    "fig, ax = lines(-2..10, x->0)\n",
    "lines!(ax,-2..10, f)\n",
    "fig"
   ]
  },
  {
   "cell_type": "markdown",
   "metadata": {},
   "source": [
    "#### Exercise\n",
    "Find the other two roots of $f(x)$."
   ]
  },
  {
   "cell_type": "markdown",
   "metadata": {},
   "source": [
    "### 11.4.2: Automatic Differentiation"
   ]
  },
  {
   "cell_type": "markdown",
   "metadata": {},
   "source": [
    "It's a bit of a pain to have to put in the derivative as well.  Fortunately, there is a nice technique called **automatic differentiation** to find the exact value of derivative at a point.  It's not symbolic differentiation, which would generate a function, but it works perfectly for Newton's method.  Here's how this works. \n",
    "\n",
    "First, add the `ForwardDiff` package if you haven't"
   ]
  },
  {
   "cell_type": "code",
   "execution_count": null,
   "metadata": {},
   "outputs": [],
   "source": [
    "using ForwardDiff, Plots"
   ]
  },
  {
   "cell_type": "code",
   "execution_count": null,
   "metadata": {},
   "outputs": [],
   "source": [
    "ForwardDiff.derivative(x->x^2,3)"
   ]
  },
  {
   "cell_type": "code",
   "execution_count": null,
   "metadata": {},
   "outputs": [],
   "source": [
    "h(x)=exp(x^2+cos(sqrt(x)))"
   ]
  },
  {
   "cell_type": "code",
   "execution_count": null,
   "metadata": {},
   "outputs": [],
   "source": [
    "ForwardDiff.derivative(h,0.5)"
   ]
  },
  {
   "cell_type": "code",
   "execution_count": null,
   "metadata": {},
   "outputs": [],
   "source": [
    "plot(h,-1,1,aspect_ratio=:equal)"
   ]
  },
  {
   "cell_type": "markdown",
   "metadata": {},
   "source": [
    "#### Exercise\n",
    "Find $g'(-\\pi/4)$ if \n",
    "$$g(x) = \\frac{x^2}{\\sqrt{1+e^{\\cos x}}}$$"
   ]
  },
  {
   "cell_type": "markdown",
   "metadata": {},
   "source": [
    "### Adding Automatic Differentiation to Newton's method"
   ]
  },
  {
   "cell_type": "code",
   "execution_count": null,
   "metadata": {},
   "outputs": [],
   "source": [
    "function newton(f::Function, x0::Real)\n",
    "\n",
    "end"
   ]
  },
  {
   "cell_type": "markdown",
   "metadata": {},
   "source": [
    "Find all three roots of"
   ]
  },
  {
   "cell_type": "code",
   "execution_count": null,
   "metadata": {},
   "outputs": [],
   "source": [
    "newton(f,-2),newton(f,3),newton(f,5)"
   ]
  },
  {
   "cell_type": "markdown",
   "metadata": {},
   "source": [
    "#### Exercise\n",
    " - Find the smallest positive value of $x$ where $\\tan x = x$.\n",
    " - Run Newton's method on $f(x)=x^2+2$.  What happened?"
   ]
  },
  {
   "cell_type": "markdown",
   "metadata": {},
   "source": [
    "We need to fix the second problem.  In the while loop, we need to have a max number of steps.  Let's say 10."
   ]
  },
  {
   "cell_type": "code",
   "execution_count": null,
   "metadata": {},
   "outputs": [],
   "source": [
    "function newton2(f::Function, x0::Real)\n",
    "\n",
    "end"
   ]
  },
  {
   "cell_type": "code",
   "execution_count": null,
   "metadata": {},
   "outputs": [],
   "source": [
    "newton2(x->x^2+2,0.1)"
   ]
  },
  {
   "cell_type": "markdown",
   "metadata": {},
   "source": [
    "Note: this still isn't great.  If one runs the `newton2` function, then a number is returned.  How does one know if this is accurate or just stopped due to the maximum number of steps.  \n",
    "\n",
    "Let's rewrite this with the `error` function that is called if the max number of steps is called. "
   ]
  },
  {
   "cell_type": "code",
   "execution_count": null,
   "metadata": {},
   "outputs": [],
   "source": [
    "function newton3(f::Function, x0::Real)\n",
    "\n",
    "end"
   ]
  },
  {
   "cell_type": "code",
   "execution_count": null,
   "metadata": {},
   "outputs": [],
   "source": [
    "newton3(x->x^2+1,0.1)"
   ]
  },
  {
   "cell_type": "markdown",
   "metadata": {},
   "source": [
    "Note: This is better but not great.  Do we want this to just stop--that's what an error signifies? We will create a new Data Type that handles this in a better and we will later see how to make and throw Exceptions. "
   ]
  },
  {
   "cell_type": "code",
   "execution_count": null,
   "metadata": {},
   "outputs": [],
   "source": []
  }
 ],
 "metadata": {
  "kernelspec": {
   "display_name": "Julia 1.11.0-rc4",
   "language": "julia",
   "name": "julia-1.11"
  },
  "language_info": {
   "file_extension": ".jl",
   "mimetype": "application/julia",
   "name": "julia",
   "version": "1.11.0-rc4"
  }
 },
 "nbformat": 4,
 "nbformat_minor": 4
}
