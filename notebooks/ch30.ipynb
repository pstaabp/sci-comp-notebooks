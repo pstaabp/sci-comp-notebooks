{
 "cells": [
  {
   "cell_type": "markdown",
   "metadata": {},
   "source": [
    "## Chapter 30: Newton's Method in the Complex Plane"
   ]
  },
  {
   "cell_type": "code",
   "execution_count": null,
   "metadata": {},
   "outputs": [],
   "source": []
  },
  {
   "cell_type": "code",
   "execution_count": 4,
   "metadata": {},
   "outputs": [
    {
     "data": {
      "text/plain": [
       "newton (generic function with 1 method)"
      ]
     },
     "execution_count": 4,
     "metadata": {},
     "output_type": "execute_result"
    }
   ],
   "source": [
    "function newton(f::Function,df::Function,z0::Complex; max_steps=10, tol=1e-6)\n",
    "  local dz=f(z0)/df(z0)\n",
    "  local n = 0\n",
    "  while abs(dz)>tol && n < max_steps\n",
    "    z0 -= dz\n",
    "    dz = f(z0)/df(z0)\n",
    "    n+=1\n",
    "  end\n",
    "  z0\n",
    "end"
   ]
  },
  {
   "cell_type": "code",
   "execution_count": 5,
   "metadata": {},
   "outputs": [
    {
     "data": {
      "text/plain": [
       "-1.0000000004541594 - 1.7833965698829635e-10im"
      ]
     },
     "execution_count": 5,
     "metadata": {},
     "output_type": "execute_result"
    }
   ],
   "source": [
    "newton(z->z^3+1,z->3z^2,3.0+0.1im)"
   ]
  },
  {
   "cell_type": "code",
   "execution_count": 6,
   "metadata": {},
   "outputs": [
    {
     "data": {
      "text/plain": [
       "newton (generic function with 2 methods)"
      ]
     },
     "execution_count": 6,
     "metadata": {},
     "output_type": "execute_result"
    }
   ],
   "source": [
    "function newton(f::Function,df::Function,z0::Array{Complex{T},2}; max_steps=20) where T <: Real\n",
    "  for i=1:max_steps\n",
    "    z0 += -f.(z0)./df.(z0)\n",
    "  end\n",
    "  z0\n",
    "end"
   ]
  },
  {
   "cell_type": "code",
   "execution_count": 7,
   "metadata": {},
   "outputs": [
    {
     "data": {
      "text/plain": [
       "5×5 Array{Complex{Int64},2}:\n",
       " -2-2im  -2-1im  -2+0im  -2+1im  -2+2im\n",
       " -1-2im  -1-1im  -1+0im  -1+1im  -1+2im\n",
       "  0-2im   0-1im   0+0im   0+1im   0+2im\n",
       "  1-2im   1-1im   1+0im   1+1im   1+2im\n",
       "  2-2im   2-1im   2+0im   2+1im   2+2im"
      ]
     },
     "execution_count": 7,
     "metadata": {},
     "output_type": "execute_result"
    }
   ],
   "source": [
    "arr = [complex(-2+i,-2+j) for i=0:4,j=0:4]"
   ]
  },
  {
   "cell_type": "code",
   "execution_count": 8,
   "metadata": {},
   "outputs": [
    {
     "data": {
      "text/plain": [
       "5×5 Array{Complex{Float64},2}:\n",
       "    -1.0+0.0im          -1.0+0.0im       …     -1.0+0.0im\n",
       " -1.0005-0.000624543im  -1.0+0.0im          -1.0005+0.000624543im\n",
       "     0.5-0.866025im      0.5-0.866025im         0.5+0.866025im\n",
       "     0.5-0.866025im      0.5-0.866025im         0.5+0.866025im\n",
       "     0.5-0.866025im      0.5-0.866025im         0.5+0.866025im"
      ]
     },
     "execution_count": 8,
     "metadata": {},
     "output_type": "execute_result"
    }
   ],
   "source": [
    "Z=newton(z->z^3+1,z->3z^2,arr)"
   ]
  },
  {
   "cell_type": "code",
   "execution_count": 9,
   "metadata": {},
   "outputs": [
    {
     "data": {
      "text/plain": [
       "5×5 Array{Float64,2}:\n",
       " 180.0    180.0  180.0  180.0  180.0\n",
       " 180.036  180.0  180.0  180.0  179.964\n",
       " 300.0    300.0  NaN     60.0   60.0\n",
       " 300.0    300.0  180.0   60.0   60.0\n",
       " 300.0    300.0  180.0   60.0   60.0"
      ]
     },
     "execution_count": 9,
     "metadata": {},
     "output_type": "execute_result"
    }
   ],
   "source": [
    "ang = map(z->mod(z,360),180/pi*angle.(Z))"
   ]
  },
  {
   "cell_type": "code",
   "execution_count": 10,
   "metadata": {},
   "outputs": [
    {
     "data": {
      "text/plain": [
       "1-element Array{CartesianIndex{2},1}:\n",
       " CartesianIndex(3, 3)"
      ]
     },
     "execution_count": 10,
     "metadata": {},
     "output_type": "execute_result"
    }
   ],
   "source": [
    "findall(isnan,ang)"
   ]
  },
  {
   "cell_type": "code",
   "execution_count": 11,
   "metadata": {},
   "outputs": [
    {
     "data": {
      "text/plain": [
       "1-element view(::Array{Float64,2}, CartesianIndex{2}[CartesianIndex(3, 3)]) with eltype Float64:\n",
       " 60.0"
      ]
     },
     "execution_count": 11,
     "metadata": {},
     "output_type": "execute_result"
    }
   ],
   "source": [
    "ang[findall(isnan,ang)] .= 60.0"
   ]
  },
  {
   "cell_type": "code",
   "execution_count": 12,
   "metadata": {},
   "outputs": [
    {
     "data": {
      "text/plain": [
       "5×5 Array{Float64,2}:\n",
       " 180.0    180.0  180.0  180.0  180.0\n",
       " 180.036  180.0  180.0  180.0  179.964\n",
       " 300.0    300.0   60.0   60.0   60.0\n",
       " 300.0    300.0  180.0   60.0   60.0\n",
       " 300.0    300.0  180.0   60.0   60.0"
      ]
     },
     "execution_count": 12,
     "metadata": {},
     "output_type": "execute_result"
    }
   ],
   "source": [
    "ang"
   ]
  },
  {
   "cell_type": "code",
   "execution_count": 13,
   "metadata": {},
   "outputs": [
    {
     "data": {
      "text/plain": [
       "5×5 Array{Int64,2}:\n",
       " 2  2  2  2  2\n",
       " 2  2  2  2  2\n",
       " 3  3  1  1  1\n",
       " 3  3  2  1  1\n",
       " 3  3  2  1  1"
      ]
     },
     "execution_count": 13,
     "metadata": {},
     "output_type": "execute_result"
    }
   ],
   "source": [
    "index = round.(Int,(ang.-60)/120).+1"
   ]
  },
  {
   "cell_type": "code",
   "execution_count": 14,
   "metadata": {},
   "outputs": [
    {
     "data": {
      "text/plain": [
       "rootIndex (generic function with 1 method)"
      ]
     },
     "execution_count": 14,
     "metadata": {},
     "output_type": "execute_result"
    }
   ],
   "source": [
    "function rootIndex(Z::Array{Complex{T},2}) where T <: Real\n",
    "  local ang = map(z->mod(z,360),180/pi*angle.(Z))\n",
    "  ang[findall(isnan,ang)] .= 60.0\n",
    "  index = round.(Int,(ang.-60)/120).+1\n",
    "end"
   ]
  },
  {
   "cell_type": "code",
   "execution_count": 17,
   "metadata": {},
   "outputs": [
    {
     "data": {
      "image/svg+xml": [
       "<?xml version=\"1.0\" encoding=\"UTF-8\"?>\n",
       "<!DOCTYPE svg PUBLIC \"-//W3C//DTD SVG 1.1//EN\"\n",
       " \"http://www.w3.org/Graphics/SVG/1.1/DTD/svg11.dtd\">\n",
       "<svg xmlns=\"http://www.w3.org/2000/svg\" version=\"1.1\"\n",
       "     width=\"125mm\" height=\"125mm\"\n",
       "     viewBox=\"0 0 5 5\" preserveAspectRatio=\"none\"\n",
       "     shape-rendering=\"crispEdges\" stroke=\"none\">\n",
       "<rect width=\".96\" height=\".96\" x=\"0\" y=\"0\" fill=\"#008000\" />\n",
       "<rect width=\".96\" height=\".96\" x=\"1\" y=\"0\" fill=\"#008000\" />\n",
       "<rect width=\".96\" height=\".96\" x=\"2\" y=\"0\" fill=\"#008000\" />\n",
       "<rect width=\".96\" height=\".96\" x=\"3\" y=\"0\" fill=\"#008000\" />\n",
       "<rect width=\".96\" height=\".96\" x=\"4\" y=\"0\" fill=\"#008000\" />\n",
       "<rect width=\".96\" height=\".96\" x=\"0\" y=\"1\" fill=\"#008000\" />\n",
       "<rect width=\".96\" height=\".96\" x=\"1\" y=\"1\" fill=\"#008000\" />\n",
       "<rect width=\".96\" height=\".96\" x=\"2\" y=\"1\" fill=\"#008000\" />\n",
       "<rect width=\".96\" height=\".96\" x=\"3\" y=\"1\" fill=\"#008000\" />\n",
       "<rect width=\".96\" height=\".96\" x=\"4\" y=\"1\" fill=\"#008000\" />\n",
       "<rect width=\".96\" height=\".96\" x=\"0\" y=\"2\" fill=\"#FFFF00\" />\n",
       "<rect width=\".96\" height=\".96\" x=\"1\" y=\"2\" fill=\"#FFFF00\" />\n",
       "<rect width=\".96\" height=\".96\" x=\"2\" y=\"2\" fill=\"#FF0000\" />\n",
       "<rect width=\".96\" height=\".96\" x=\"3\" y=\"2\" fill=\"#FF0000\" />\n",
       "<rect width=\".96\" height=\".96\" x=\"4\" y=\"2\" fill=\"#FF0000\" />\n",
       "<rect width=\".96\" height=\".96\" x=\"0\" y=\"3\" fill=\"#FFFF00\" />\n",
       "<rect width=\".96\" height=\".96\" x=\"1\" y=\"3\" fill=\"#FFFF00\" />\n",
       "<rect width=\".96\" height=\".96\" x=\"2\" y=\"3\" fill=\"#008000\" />\n",
       "<rect width=\".96\" height=\".96\" x=\"3\" y=\"3\" fill=\"#FF0000\" />\n",
       "<rect width=\".96\" height=\".96\" x=\"4\" y=\"3\" fill=\"#FF0000\" />\n",
       "<rect width=\".96\" height=\".96\" x=\"0\" y=\"4\" fill=\"#FFFF00\" />\n",
       "<rect width=\".96\" height=\".96\" x=\"1\" y=\"4\" fill=\"#FFFF00\" />\n",
       "<rect width=\".96\" height=\".96\" x=\"2\" y=\"4\" fill=\"#008000\" />\n",
       "<rect width=\".96\" height=\".96\" x=\"3\" y=\"4\" fill=\"#FF0000\" />\n",
       "<rect width=\".96\" height=\".96\" x=\"4\" y=\"4\" fill=\"#FF0000\" />\n",
       "</svg>"
      ],
      "text/plain": [
       "5×5 IndirectArray{RGB{FixedPointNumbers.Normed{UInt8,8}},2,Array{Int64,2},Array{RGB{FixedPointNumbers.Normed{UInt8,8}},1}}:\n",
       " RGB{N0f8}(0.0,0.502,0.0)  …  RGB{N0f8}(0.0,0.502,0.0)\n",
       " RGB{N0f8}(0.0,0.502,0.0)     RGB{N0f8}(0.0,0.502,0.0)\n",
       " RGB{N0f8}(1.0,1.0,0.0)       RGB{N0f8}(1.0,0.0,0.0)\n",
       " RGB{N0f8}(1.0,1.0,0.0)       RGB{N0f8}(1.0,0.0,0.0)\n",
       " RGB{N0f8}(1.0,1.0,0.0)       RGB{N0f8}(1.0,0.0,0.0)"
      ]
     },
     "execution_count": 17,
     "metadata": {},
     "output_type": "execute_result"
    }
   ],
   "source": [
    "using IndirectArrays, Colors\n",
    "colors = [colorant\"red\",colorant\"green\",colorant\"yellow\"]\n",
    "A = IndirectArray(rootIndex(Z), colors)"
   ]
  },
  {
   "cell_type": "code",
   "execution_count": 71,
   "metadata": {},
   "outputs": [
    {
     "name": "stderr",
     "output_type": "stream",
     "text": [
      "┌ Info: Precompiling ImageIO [82e4d734-157c-48bb-816b-45c225c6df19]\n",
      "└ @ Base loading.jl:1278\n",
      "┌ Info: Precompiling PNGFiles [f57f5aa1-a3ce-4bc8-8ab9-96f992907883]\n",
      "└ @ Base loading.jl:1278\n"
     ]
    },
    {
     "data": {
      "text/plain": [
       "0"
      ]
     },
     "execution_count": 71,
     "metadata": {},
     "output_type": "execute_result"
    }
   ],
   "source": [
    "save(\"test.png\", A)"
   ]
  },
  {
   "cell_type": "code",
   "execution_count": 28,
   "metadata": {},
   "outputs": [],
   "source": [
    "using FileIO, ImageShow, Images"
   ]
  },
  {
   "cell_type": "code",
   "execution_count": 19,
   "metadata": {},
   "outputs": [
    {
     "data": {
      "text/plain": [
       "buildGrid (generic function with 1 method)"
      ]
     },
     "execution_count": 19,
     "metadata": {},
     "output_type": "execute_result"
    }
   ],
   "source": [
    "function buildGrid(;xmin=-2,xmax=2,ymin=-2,ymax=2,N=101)\n",
    "  dx=(xmax-xmin)/(N-1)\n",
    "  dy=(ymax-ymin)/(N-1)\n",
    "  [complex(xmin+i*dx,ymax-j*dx) for j=0:N-1,i=0:N-1]\n",
    "end"
   ]
  },
  {
   "cell_type": "code",
   "execution_count": 20,
   "metadata": {},
   "outputs": [
    {
     "data": {
      "text/plain": [
       "401×401 Array{Complex{Float64},2}:\n",
       " -2.0+2.0im   -1.99+2.0im   -1.98+2.0im   …  1.99+2.0im   2.0+2.0im\n",
       " -2.0+1.99im  -1.99+1.99im  -1.98+1.99im     1.99+1.99im  2.0+1.99im\n",
       " -2.0+1.98im  -1.99+1.98im  -1.98+1.98im     1.99+1.98im  2.0+1.98im\n",
       " -2.0+1.97im  -1.99+1.97im  -1.98+1.97im     1.99+1.97im  2.0+1.97im\n",
       " -2.0+1.96im  -1.99+1.96im  -1.98+1.96im     1.99+1.96im  2.0+1.96im\n",
       " -2.0+1.95im  -1.99+1.95im  -1.98+1.95im  …  1.99+1.95im  2.0+1.95im\n",
       " -2.0+1.94im  -1.99+1.94im  -1.98+1.94im     1.99+1.94im  2.0+1.94im\n",
       " -2.0+1.93im  -1.99+1.93im  -1.98+1.93im     1.99+1.93im  2.0+1.93im\n",
       " -2.0+1.92im  -1.99+1.92im  -1.98+1.92im     1.99+1.92im  2.0+1.92im\n",
       " -2.0+1.91im  -1.99+1.91im  -1.98+1.91im     1.99+1.91im  2.0+1.91im\n",
       " -2.0+1.9im   -1.99+1.9im   -1.98+1.9im   …  1.99+1.9im   2.0+1.9im\n",
       " -2.0+1.89im  -1.99+1.89im  -1.98+1.89im     1.99+1.89im  2.0+1.89im\n",
       " -2.0+1.88im  -1.99+1.88im  -1.98+1.88im     1.99+1.88im  2.0+1.88im\n",
       "     ⋮                                    ⋱                  ⋮\n",
       " -2.0-1.89im  -1.99-1.89im  -1.98-1.89im     1.99-1.89im  2.0-1.89im\n",
       " -2.0-1.9im   -1.99-1.9im   -1.98-1.9im   …  1.99-1.9im   2.0-1.9im\n",
       " -2.0-1.91im  -1.99-1.91im  -1.98-1.91im     1.99-1.91im  2.0-1.91im\n",
       " -2.0-1.92im  -1.99-1.92im  -1.98-1.92im     1.99-1.92im  2.0-1.92im\n",
       " -2.0-1.93im  -1.99-1.93im  -1.98-1.93im     1.99-1.93im  2.0-1.93im\n",
       " -2.0-1.94im  -1.99-1.94im  -1.98-1.94im     1.99-1.94im  2.0-1.94im\n",
       " -2.0-1.95im  -1.99-1.95im  -1.98-1.95im  …  1.99-1.95im  2.0-1.95im\n",
       " -2.0-1.96im  -1.99-1.96im  -1.98-1.96im     1.99-1.96im  2.0-1.96im\n",
       " -2.0-1.97im  -1.99-1.97im  -1.98-1.97im     1.99-1.97im  2.0-1.97im\n",
       " -2.0-1.98im  -1.99-1.98im  -1.98-1.98im     1.99-1.98im  2.0-1.98im\n",
       " -2.0-1.99im  -1.99-1.99im  -1.98-1.99im     1.99-1.99im  2.0-1.99im\n",
       " -2.0-2.0im   -1.99-2.0im   -1.98-2.0im   …  1.99-2.0im   2.0-2.0im"
      ]
     },
     "execution_count": 20,
     "metadata": {},
     "output_type": "execute_result"
    }
   ],
   "source": [
    "Z0 = buildGrid(N=401)"
   ]
  },
  {
   "cell_type": "code",
   "execution_count": 21,
   "metadata": {},
   "outputs": [
    {
     "data": {
      "text/plain": [
       "401×401 Array{Complex{Float64},2}:\n",
       " -1.0+0.0im  -1.0+0.0im  -1.0+0.0im  …  0.5+0.866025im  0.5+0.866025im\n",
       " -1.0+0.0im  -1.0+0.0im  -1.0+0.0im     0.5+0.866025im  0.5+0.866025im\n",
       " -1.0+0.0im  -1.0+0.0im  -1.0+0.0im     0.5+0.866025im  0.5+0.866025im\n",
       " -1.0+0.0im  -1.0+0.0im  -1.0+0.0im     0.5+0.866025im  0.5+0.866025im\n",
       " -1.0+0.0im  -1.0+0.0im  -1.0+0.0im     0.5+0.866025im  0.5+0.866025im\n",
       " -1.0+0.0im  -1.0+0.0im  -1.0+0.0im  …  0.5+0.866025im  0.5+0.866025im\n",
       " -1.0+0.0im  -1.0+0.0im  -1.0+0.0im     0.5+0.866025im  0.5+0.866025im\n",
       " -1.0+0.0im  -1.0+0.0im  -1.0+0.0im     0.5+0.866025im  0.5+0.866025im\n",
       " -1.0+0.0im  -1.0+0.0im  -1.0+0.0im     0.5+0.866025im  0.5+0.866025im\n",
       " -1.0+0.0im  -1.0+0.0im  -1.0+0.0im     0.5+0.866025im  0.5+0.866025im\n",
       " -1.0+0.0im  -1.0+0.0im  -1.0+0.0im  …  0.5+0.866025im  0.5+0.866025im\n",
       " -1.0+0.0im  -1.0+0.0im  -1.0+0.0im     0.5+0.866025im  0.5+0.866025im\n",
       " -1.0+0.0im  -1.0+0.0im  -1.0+0.0im     0.5+0.866025im  0.5+0.866025im\n",
       "     ⋮                               ⋱                     ⋮\n",
       " -1.0+0.0im  -1.0+0.0im  -1.0+0.0im     0.5-0.866025im  0.5-0.866025im\n",
       " -1.0+0.0im  -1.0+0.0im  -1.0+0.0im  …  0.5-0.866025im  0.5-0.866025im\n",
       " -1.0+0.0im  -1.0+0.0im  -1.0+0.0im     0.5-0.866025im  0.5-0.866025im\n",
       " -1.0+0.0im  -1.0+0.0im  -1.0+0.0im     0.5-0.866025im  0.5-0.866025im\n",
       " -1.0+0.0im  -1.0+0.0im  -1.0+0.0im     0.5-0.866025im  0.5-0.866025im\n",
       " -1.0+0.0im  -1.0+0.0im  -1.0+0.0im     0.5-0.866025im  0.5-0.866025im\n",
       " -1.0+0.0im  -1.0+0.0im  -1.0+0.0im  …  0.5-0.866025im  0.5-0.866025im\n",
       " -1.0+0.0im  -1.0+0.0im  -1.0+0.0im     0.5-0.866025im  0.5-0.866025im\n",
       " -1.0+0.0im  -1.0+0.0im  -1.0+0.0im     0.5-0.866025im  0.5-0.866025im\n",
       " -1.0+0.0im  -1.0+0.0im  -1.0+0.0im     0.5-0.866025im  0.5-0.866025im\n",
       " -1.0+0.0im  -1.0+0.0im  -1.0+0.0im     0.5-0.866025im  0.5-0.866025im\n",
       " -1.0+0.0im  -1.0+0.0im  -1.0+0.0im  …  0.5-0.866025im  0.5-0.866025im"
      ]
     },
     "execution_count": 21,
     "metadata": {},
     "output_type": "execute_result"
    }
   ],
   "source": [
    "Z=newton(z->z^3+1,z->3z^2,Z0)"
   ]
  },
  {
   "cell_type": "code",
   "execution_count": 23,
   "metadata": {},
   "outputs": [
    {
     "name": "stderr",
     "output_type": "stream",
     "text": [
      "┌ Info: Precompiling ImageIO [82e4d734-157c-48bb-816b-45c225c6df19]\n",
      "└ @ Base loading.jl:1278\n",
      "┌ Info: Precompiling PNGFiles [f57f5aa1-a3ce-4bc8-8ab9-96f992907883]\n",
      "└ @ Base loading.jl:1278\n",
      "┌ Info: Precompiling QuartzImageIO [dca85d43-d64c-5e67-8c65-017450d5d020]\n",
      "└ @ Base loading.jl:1278\n"
     ]
    },
    {
     "data": {
      "image/png": "[encoded data removed]",
      "text/plain": [
       "401×401 IndirectArray{RGB{FixedPointNumbers.Normed{UInt8,8}},2,Array{Int64,2},Array{RGB{FixedPointNumbers.Normed{UInt8,8}},1}}:\n",
       " RGB{N0f8}(0.0,0.502,0.0)  …  RGB{N0f8}(1.0,0.0,0.0)\n",
       " RGB{N0f8}(0.0,0.502,0.0)     RGB{N0f8}(1.0,0.0,0.0)\n",
       " RGB{N0f8}(0.0,0.502,0.0)     RGB{N0f8}(1.0,0.0,0.0)\n",
       " RGB{N0f8}(0.0,0.502,0.0)     RGB{N0f8}(1.0,0.0,0.0)\n",
       " RGB{N0f8}(0.0,0.502,0.0)     RGB{N0f8}(1.0,0.0,0.0)\n",
       " RGB{N0f8}(0.0,0.502,0.0)  …  RGB{N0f8}(1.0,0.0,0.0)\n",
       " RGB{N0f8}(0.0,0.502,0.0)     RGB{N0f8}(1.0,0.0,0.0)\n",
       " RGB{N0f8}(0.0,0.502,0.0)     RGB{N0f8}(1.0,0.0,0.0)\n",
       " RGB{N0f8}(0.0,0.502,0.0)     RGB{N0f8}(1.0,0.0,0.0)\n",
       " RGB{N0f8}(0.0,0.502,0.0)     RGB{N0f8}(1.0,0.0,0.0)\n",
       " RGB{N0f8}(0.0,0.502,0.0)  …  RGB{N0f8}(1.0,0.0,0.0)\n",
       " RGB{N0f8}(0.0,0.502,0.0)     RGB{N0f8}(1.0,0.0,0.0)\n",
       " RGB{N0f8}(0.0,0.502,0.0)     RGB{N0f8}(1.0,0.0,0.0)\n",
       " ⋮                         ⋱  ⋮\n",
       " RGB{N0f8}(0.0,0.502,0.0)     RGB{N0f8}(1.0,1.0,0.0)\n",
       " RGB{N0f8}(0.0,0.502,0.0)  …  RGB{N0f8}(1.0,1.0,0.0)\n",
       " RGB{N0f8}(0.0,0.502,0.0)     RGB{N0f8}(1.0,1.0,0.0)\n",
       " RGB{N0f8}(0.0,0.502,0.0)     RGB{N0f8}(1.0,1.0,0.0)\n",
       " RGB{N0f8}(0.0,0.502,0.0)     RGB{N0f8}(1.0,1.0,0.0)\n",
       " RGB{N0f8}(0.0,0.502,0.0)     RGB{N0f8}(1.0,1.0,0.0)\n",
       " RGB{N0f8}(0.0,0.502,0.0)  …  RGB{N0f8}(1.0,1.0,0.0)\n",
       " RGB{N0f8}(0.0,0.502,0.0)     RGB{N0f8}(1.0,1.0,0.0)\n",
       " RGB{N0f8}(0.0,0.502,0.0)     RGB{N0f8}(1.0,1.0,0.0)\n",
       " RGB{N0f8}(0.0,0.502,0.0)     RGB{N0f8}(1.0,1.0,0.0)\n",
       " RGB{N0f8}(0.0,0.502,0.0)     RGB{N0f8}(1.0,1.0,0.0)\n",
       " RGB{N0f8}(0.0,0.502,0.0)  …  RGB{N0f8}(1.0,1.0,0.0)"
      ]
     },
     "execution_count": 23,
     "metadata": {},
     "output_type": "execute_result"
    }
   ],
   "source": [
    "A = IndirectArray(rootIndex(Z), colors)"
   ]
  },
  {
   "cell_type": "code",
   "execution_count": 29,
   "metadata": {},
   "outputs": [
    {
     "data": {
      "image/png": "[encoded data removed]",
      "text/plain": [
       "1201×1201 IndirectArray{RGB{Normed{UInt8,8}},2,Array{Int64,2},Array{RGB{Normed{UInt8,8}},1}}:\n",
       " RGB{N0f8}(0.0,0.502,0.0)  …  RGB{N0f8}(1.0,0.0,0.0)\n",
       " RGB{N0f8}(0.0,0.502,0.0)     RGB{N0f8}(1.0,0.0,0.0)\n",
       " RGB{N0f8}(0.0,0.502,0.0)     RGB{N0f8}(1.0,0.0,0.0)\n",
       " RGB{N0f8}(0.0,0.502,0.0)     RGB{N0f8}(1.0,0.0,0.0)\n",
       " RGB{N0f8}(0.0,0.502,0.0)     RGB{N0f8}(1.0,0.0,0.0)\n",
       " RGB{N0f8}(0.0,0.502,0.0)  …  RGB{N0f8}(1.0,0.0,0.0)\n",
       " RGB{N0f8}(0.0,0.502,0.0)     RGB{N0f8}(1.0,0.0,0.0)\n",
       " RGB{N0f8}(0.0,0.502,0.0)     RGB{N0f8}(1.0,0.0,0.0)\n",
       " RGB{N0f8}(0.0,0.502,0.0)     RGB{N0f8}(1.0,0.0,0.0)\n",
       " RGB{N0f8}(0.0,0.502,0.0)     RGB{N0f8}(1.0,0.0,0.0)\n",
       " RGB{N0f8}(0.0,0.502,0.0)  …  RGB{N0f8}(1.0,0.0,0.0)\n",
       " RGB{N0f8}(0.0,0.502,0.0)     RGB{N0f8}(1.0,0.0,0.0)\n",
       " RGB{N0f8}(0.0,0.502,0.0)     RGB{N0f8}(1.0,0.0,0.0)\n",
       " ⋮                         ⋱  ⋮\n",
       " RGB{N0f8}(0.0,0.502,0.0)     RGB{N0f8}(1.0,1.0,0.0)\n",
       " RGB{N0f8}(0.0,0.502,0.0)  …  RGB{N0f8}(1.0,1.0,0.0)\n",
       " RGB{N0f8}(0.0,0.502,0.0)     RGB{N0f8}(1.0,1.0,0.0)\n",
       " RGB{N0f8}(0.0,0.502,0.0)     RGB{N0f8}(1.0,1.0,0.0)\n",
       " RGB{N0f8}(0.0,0.502,0.0)     RGB{N0f8}(1.0,1.0,0.0)\n",
       " RGB{N0f8}(0.0,0.502,0.0)     RGB{N0f8}(1.0,1.0,0.0)\n",
       " RGB{N0f8}(0.0,0.502,0.0)  …  RGB{N0f8}(1.0,1.0,0.0)\n",
       " RGB{N0f8}(0.0,0.502,0.0)     RGB{N0f8}(1.0,1.0,0.0)\n",
       " RGB{N0f8}(0.0,0.502,0.0)     RGB{N0f8}(1.0,1.0,0.0)\n",
       " RGB{N0f8}(0.0,0.502,0.0)     RGB{N0f8}(1.0,1.0,0.0)\n",
       " RGB{N0f8}(0.0,0.502,0.0)     RGB{N0f8}(1.0,1.0,0.0)\n",
       " RGB{N0f8}(0.0,0.502,0.0)  …  RGB{N0f8}(1.0,1.0,0.0)"
      ]
     },
     "execution_count": 29,
     "metadata": {},
     "output_type": "execute_result"
    }
   ],
   "source": [
    "Z0 = buildGrid(N=1201)\n",
    "Z=newton(z->z^3+1,z->3z^2,Z0)\n",
    "A = IndirectArray(rootIndex(Z), colors)"
   ]
  },
  {
   "cell_type": "code",
   "execution_count": null,
   "metadata": {},
   "outputs": [],
   "source": []
  }
 ],
 "metadata": {
  "kernelspec": {
   "display_name": "Julia 1.8.3",
   "language": "julia",
   "name": "julia-1.8"
  },
  "language_info": {
   "file_extension": ".jl",
   "mimetype": "application/julia",
   "name": "julia",
   "version": "1.8.3"
  }
 },
 "nbformat": 4,
 "nbformat_minor": 4
}
