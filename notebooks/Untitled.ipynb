{
 "cells": [
  {
   "cell_type": "code",
   "execution_count": 1,
   "id": "67d3afe8-2adb-4fc8-b129-3efc38577dda",
   "metadata": {},
   "outputs": [],
   "source": [
    "struct Point2D\n",
    "  x::Real\n",
    "  y::Real\n",
    "end"
   ]
  },
  {
   "cell_type": "code",
   "execution_count": 2,
   "id": "8b67a055-3a38-452a-b173-9155ca121f37",
   "metadata": {},
   "outputs": [],
   "source": [
    "struct Circle\n",
    "  center::Point2D\n",
    "  radius::Real\n",
    "end"
   ]
  },
  {
   "cell_type": "code",
   "execution_count": 7,
   "id": "25e33364-df33-497b-8461-20a29e4fe519",
   "metadata": {},
   "outputs": [
    {
     "data": {
      "text/plain": [
       "Circle(Point2D(1, 2), 3)"
      ]
     },
     "execution_count": 7,
     "metadata": {},
     "output_type": "execute_result"
    }
   ],
   "source": [
    "c1 = Circle(Point2D(1,2),3)"
   ]
  },
  {
   "cell_type": "code",
   "execution_count": 9,
   "id": "bd14a677-4ad4-49ec-8446-6d01ec059e30",
   "metadata": {},
   "outputs": [
    {
     "data": {
      "text/plain": [
       "Circle(Point2D(1.0, 2.0), 3.0)"
      ]
     },
     "execution_count": 9,
     "metadata": {},
     "output_type": "execute_result"
    }
   ],
   "source": [
    "c2 = Circle(Point2D(1.0,2.0),3.0)"
   ]
  },
  {
   "cell_type": "code",
   "execution_count": 10,
   "id": "88cc2057-59bc-4f48-b937-4e45d08aa077",
   "metadata": {},
   "outputs": [
    {
     "data": {
      "text/plain": [
       "false"
      ]
     },
     "execution_count": 10,
     "metadata": {},
     "output_type": "execute_result"
    }
   ],
   "source": [
    "c1 == c2"
   ]
  },
  {
   "cell_type": "code",
   "execution_count": 11,
   "id": "64d28837-638a-4d08-ac8c-e1def7a445ec",
   "metadata": {},
   "outputs": [
    {
     "ename": "LoadError",
     "evalue": "MethodError: no method matching isapprox(::Circle, ::Circle)\n\u001b[0mClosest candidates are:\n\u001b[0m  isapprox(\u001b[91m::Missing\u001b[39m, ::Any; kwargs...) at missing.jl:90\n\u001b[0m  isapprox(::Any; kwargs...) at floatfuncs.jl:316\n\u001b[0m  isapprox(::Any, \u001b[91m::Missing\u001b[39m; kwargs...) at missing.jl:91",
     "output_type": "error",
     "traceback": [
      "MethodError: no method matching isapprox(::Circle, ::Circle)\n\u001b[0mClosest candidates are:\n\u001b[0m  isapprox(\u001b[91m::Missing\u001b[39m, ::Any; kwargs...) at missing.jl:90\n\u001b[0m  isapprox(::Any; kwargs...) at floatfuncs.jl:316\n\u001b[0m  isapprox(::Any, \u001b[91m::Missing\u001b[39m; kwargs...) at missing.jl:91",
      "",
      "Stacktrace:",
      " [1] top-level scope",
      "   @ In[11]:1",
      " [2] eval",
      "   @ ./boot.jl:368 [inlined]",
      " [3] include_string(mapexpr::typeof(REPL.softscope), mod::Module, code::String, filename::String)",
      "   @ Base ./loading.jl:1428"
     ]
    }
   ],
   "source": [
    "isapprox(c1,c2)"
   ]
  },
  {
   "cell_type": "code",
   "execution_count": 13,
   "id": "dec34733-766f-48a6-a186-8695212482e4",
   "metadata": {},
   "outputs": [],
   "source": [
    "import Base.=="
   ]
  },
  {
   "cell_type": "code",
   "execution_count": 14,
   "id": "83bf3215-13b3-41ac-97d4-c115ee3a007e",
   "metadata": {},
   "outputs": [
    {
     "data": {
      "text/plain": [
       "== (generic function with 175 methods)"
      ]
     },
     "execution_count": 14,
     "metadata": {},
     "output_type": "execute_result"
    }
   ],
   "source": [
    "==(c1::Circle,c2::Circle) = isapprox(c1.center.x,c2.center.x) && isapprox(c1.center.y,c2.center.y) && isapprox(c1.radius,c2.radius)"
   ]
  },
  {
   "cell_type": "code",
   "execution_count": 15,
   "id": "7ed2e4bc-dbb7-4f39-89dc-888eebbaa496",
   "metadata": {},
   "outputs": [
    {
     "data": {
      "text/plain": [
       "true"
      ]
     },
     "execution_count": 15,
     "metadata": {},
     "output_type": "execute_result"
    }
   ],
   "source": [
    "c1 == c2"
   ]
  },
  {
   "cell_type": "markdown",
   "id": "8e66d2fb-0c59-4cf9-b1ba-cc4ae05fa16a",
   "metadata": {},
   "source": [
    "This makes a circle with a center point and a radius..... \n",
    "\n",
    "```\n",
    "hello\n",
    "```\n",
    "\n",
    "The code `Circle(Point2D(1,2),3)` makes a circled centered at $(1,2)$, and radius 3."
   ]
  },
  {
   "cell_type": "code",
   "execution_count": 4,
   "id": "dd06b3ce-b149-489e-b284-b0b08d834026",
   "metadata": {},
   "outputs": [
    {
     "ename": "LoadError",
     "evalue": "LoadError: UndefVarError: @test not defined\nin expression starting at In[4]:1",
     "output_type": "error",
     "traceback": [
      "LoadError: UndefVarError: @test not defined\nin expression starting at In[4]:1",
      "",
      "Stacktrace:",
      " [1] top-level scope",
      "   @ :0",
      " [2] eval",
      "   @ ./boot.jl:368 [inlined]",
      " [3] include_string(mapexpr::typeof(REPL.softscope), mod::Module, code::String, filename::String)",
      "   @ Base ./loading.jl:1428"
     ]
    }
   ],
   "source": [
    "@test ispprox(area(area),2*pi)\n",
    "@test .... 1+2+sqrt(5)"
   ]
  },
  {
   "cell_type": "code",
   "execution_count": null,
   "id": "033b7ed7-0e2f-452a-9735-6efe8f3281ac",
   "metadata": {},
   "outputs": [],
   "source": [
    "circleArea(cir1)"
   ]
  },
  {
   "cell_type": "code",
   "execution_count": 18,
   "id": "16c3bc4a-7ab4-4f91-9209-6ee142c22276",
   "metadata": {},
   "outputs": [
    {
     "data": {
      "text/plain": [
       "simpsonsRule (generic function with 1 method)"
      ]
     },
     "execution_count": 18,
     "metadata": {},
     "output_type": "execute_result"
    }
   ],
   "source": [
    "function simpsonsRule(f::Function, a::Real, b::Real, n::Integer)\n",
    "  n > 0      || throw(ArgumentError(\"The number of subintervals, n, must be positive.\")) \n",
    "  n % 2 == 0 || throw(ArgumentError(\"The number of subintervals, n, must be even.\")) \n",
    "  a < b      || throw(ArgumentError(\"The left endpoint must be less than the right endpoint.\"))\n",
    "  local h = (b-a)/n\n",
    "  xpts = LinRange(a,b,n+1)\n",
    "  (h/3)*(f(a)+f(b) + 4*sum(f,xpts[2:2:end-1]) + 2*sum(f,xpts[3:2:end-2]))\n",
    "end"
   ]
  },
  {
   "cell_type": "code",
   "execution_count": 19,
   "id": "f9dc9da1-2e42-4795-b6a9-188a9f2ba4d3",
   "metadata": {},
   "outputs": [
    {
     "data": {
      "text/plain": [
       "41.87318519785593"
      ]
     },
     "execution_count": 19,
     "metadata": {},
     "output_type": "execute_result"
    }
   ],
   "source": [
    "simpsonsRule(x->2pi*x*(sin(x)-cos(x)),pi/4,5pi/4,1000)"
   ]
  },
  {
   "cell_type": "code",
   "execution_count": 25,
   "id": "532f7cea-a442-4a66-ac46-bc2e95a7133e",
   "metadata": {},
   "outputs": [
    {
     "data": {
      "text/plain": [
       "41.87318519783328"
      ]
     },
     "execution_count": 25,
     "metadata": {},
     "output_type": "execute_result"
    }
   ],
   "source": [
    "3*pi^2*sqrt(2)"
   ]
  },
  {
   "cell_type": "code",
   "execution_count": 23,
   "id": "09993c31-b37d-45b8-bd5f-360e7180ee9f",
   "metadata": {},
   "outputs": [
    {
     "data": {
      "text/plain": [
       "g (generic function with 1 method)"
      ]
     },
     "execution_count": 23,
     "metadata": {},
     "output_type": "execute_result"
    }
   ],
   "source": [
    "g(x::Real)= -x*(cos(x)+sin(x))+sin(x)-cos(x)"
   ]
  },
  {
   "cell_type": "code",
   "execution_count": 24,
   "id": "bbb30ca5-9444-4dfd-a381-a00a8c3e1712",
   "metadata": {},
   "outputs": [
    {
     "data": {
      "text/plain": [
       "41.87318519783328"
      ]
     },
     "execution_count": 24,
     "metadata": {},
     "output_type": "execute_result"
    }
   ],
   "source": [
    "2*pi*(g(5pi/4)-g(pi/4))"
   ]
  },
  {
   "cell_type": "code",
   "execution_count": 3,
   "id": "2b477709-42f1-44a7-8763-f647f1e3f2eb",
   "metadata": {},
   "outputs": [],
   "source": [
    "using NumericalIntegration"
   ]
  },
  {
   "cell_type": "code",
   "execution_count": 27,
   "id": "d3887259-3753-4628-a02f-dc06cb27e5c3",
   "metadata": {},
   "outputs": [],
   "source": [
    "t=collect(LinRange(0,pi/2,33))\n",
    "f = 15*sqrt.(sin.(t).^2 .*cos.(t).^4 + cos.(t).^2 .* sin.(t).^4);"
   ]
  },
  {
   "cell_type": "code",
   "execution_count": 25,
   "id": "0231e402-e187-4090-bc4a-afee9c1d0aa2",
   "metadata": {},
   "outputs": [
    {
     "name": "stderr",
     "output_type": "stream",
     "text": [
      "┌ Warning: RombergEven :: final step reached, but accuracy not: 7.500000061080156 > 1.0e-12\n",
      "└ @ NumericalIntegration /Users/pstaab/.julia/packages/NumericalIntegration/3mVSe/src/NumericalIntegration.jl:175\n"
     ]
    },
    {
     "data": {
      "text/plain": [
       "29.99999991880935"
      ]
     },
     "execution_count": 25,
     "metadata": {},
     "output_type": "execute_result"
    }
   ],
   "source": [
    "4*integrate(t,f,RombergEven())"
   ]
  },
  {
   "cell_type": "code",
   "execution_count": 10,
   "id": "2696c646-b7c7-484f-8ca1-4206e12fb100",
   "metadata": {},
   "outputs": [
    {
     "data": {
      "text/plain": [
       "28.284271247461902"
      ]
     },
     "execution_count": 10,
     "metadata": {},
     "output_type": "execute_result"
    }
   ],
   "source": [
    "4*5*sqrt(2)"
   ]
  },
  {
   "cell_type": "code",
   "execution_count": 5,
   "id": "8fd2190d-b965-4a54-94d6-5c4fbb0bc2b7",
   "metadata": {},
   "outputs": [],
   "source": [
    "using CSVFiles, DataFrames"
   ]
  },
  {
   "cell_type": "code",
   "execution_count": 2,
   "id": "fccdb34c-cc89-40ab-ae32-27d2c63ab173",
   "metadata": {},
   "outputs": [
    {
     "name": "stdout",
     "output_type": "stream",
     "text": [
      "search: \u001b[0m\u001b[1ml\u001b[22m\u001b[0m\u001b[1mo\u001b[22m\u001b[0m\u001b[1ma\u001b[22m\u001b[0m\u001b[1md\u001b[22m \u001b[0m\u001b[1mL\u001b[22m\u001b[0m\u001b[1mo\u001b[22m\u001b[0m\u001b[1ma\u001b[22m\u001b[0m\u001b[1md\u001b[22mError \u001b[0m\u001b[1mL\u001b[22m\u001b[0m\u001b[1mO\u001b[22m\u001b[0m\u001b[1mA\u001b[22m\u001b[0m\u001b[1mD\u001b[22m_PATH down\u001b[0m\u001b[1ml\u001b[22m\u001b[0m\u001b[1mo\u001b[22m\u001b[0m\u001b[1ma\u001b[22m\u001b[0m\u001b[1md\u001b[22m unsafe_\u001b[0m\u001b[1ml\u001b[22m\u001b[0m\u001b[1mo\u001b[22m\u001b[0m\u001b[1ma\u001b[22m\u001b[0m\u001b[1md\u001b[22m c\u001b[0m\u001b[1ml\u001b[22mipb\u001b[0m\u001b[1mo\u001b[22m\u001b[0m\u001b[1ma\u001b[22mr\u001b[0m\u001b[1md\u001b[22m @a\u001b[0m\u001b[1ml\u001b[22ml\u001b[0m\u001b[1mo\u001b[22mc\u001b[0m\u001b[1ma\u001b[22mte\u001b[0m\u001b[1md\u001b[22m f\u001b[0m\u001b[1ml\u001b[22m\u001b[0m\u001b[1mo\u001b[22m\u001b[0m\u001b[1ma\u001b[22mt\n",
      "\n"
     ]
    },
    {
     "data": {
      "text/latex": [
       "\\begin{itemize}\n",
       "\\item \\texttt{load(filename)} loads the contents of a formatted file, trying to infer the format from \\texttt{filename} and/or magic bytes in the file (see \\href{@ref}{\\texttt{query}}).\n",
       "\n",
       "\n",
       "\\item \\texttt{load(strm)} loads from an \\texttt{IOStream} or similar object. In this case, there is no filename extension, so we rely on the magic bytes for format identification.\n",
       "\n",
       "\n",
       "\\item \\texttt{load(File\\{format\"PNG\"\\}(filename))} specifies the format directly, and bypasses the format \\href{@ref}{\\texttt{query}}.\n",
       "\n",
       "\n",
       "\\item \\texttt{load(Stream\\{format\"PNG\"\\}(io))} specifies the format directly, and bypasses the format \\href{@ref}{\\texttt{query}}.\n",
       "\n",
       "\n",
       "\\item \\texttt{load(f; options...)} passes keyword arguments on to the loader.\n",
       "\n",
       "\\end{itemize}\n"
      ],
      "text/markdown": [
       "  * `load(filename)` loads the contents of a formatted file, trying to infer the format from `filename` and/or magic bytes in the file (see [`query`](@ref)).\n",
       "  * `load(strm)` loads from an `IOStream` or similar object. In this case, there is no filename extension, so we rely on the magic bytes for format identification.\n",
       "  * `load(File{format\"PNG\"}(filename))` specifies the format directly, and bypasses the format [`query`](@ref).\n",
       "  * `load(Stream{format\"PNG\"}(io))` specifies the format directly, and bypasses the format [`query`](@ref).\n",
       "  * `load(f; options...)` passes keyword arguments on to the loader.\n"
      ],
      "text/plain": [
       "    •  \u001b[36mload(filename)\u001b[39m loads the contents of a formatted file, trying to\n",
       "       infer the format from \u001b[36mfilename\u001b[39m and/or magic bytes in the file (see\n",
       "       \u001b[36mquery\u001b[39m).\n",
       "\n",
       "    •  \u001b[36mload(strm)\u001b[39m loads from an \u001b[36mIOStream\u001b[39m or similar object. In this case,\n",
       "       there is no filename extension, so we rely on the magic bytes for\n",
       "       format identification.\n",
       "\n",
       "    •  \u001b[36mload(File{format\"PNG\"}(filename))\u001b[39m specifies the format directly,\n",
       "       and bypasses the format \u001b[36mquery\u001b[39m.\n",
       "\n",
       "    •  \u001b[36mload(Stream{format\"PNG\"}(io))\u001b[39m specifies the format directly, and\n",
       "       bypasses the format \u001b[36mquery\u001b[39m.\n",
       "\n",
       "    •  \u001b[36mload(f; options...)\u001b[39m passes keyword arguments on to the loader."
      ]
     },
     "execution_count": 2,
     "metadata": {},
     "output_type": "execute_result"
    }
   ],
   "source": [
    "?load"
   ]
  },
  {
   "cell_type": "code",
   "execution_count": 14,
   "id": "b40384b7-29ae-4404-82b4-3544fe9a0be2",
   "metadata": {},
   "outputs": [
    {
     "ename": "LoadError",
     "evalue": "File has multiple column headers with the same name, specify `colnames` by hand\nalong with `header_exists=false`",
     "output_type": "error",
     "traceback": [
      "File has multiple column headers with the same name, specify `colnames` by hand\nalong with `header_exists=false`",
      "",
      "Stacktrace:",
      "  [1] error(s::String)",
      "    @ Base ./error.jl:35",
      "  [2] _csvread_internal(str::TextParse.VectorBackedUTF8String, delim::Char; spacedelim::Bool, quotechar::Char, escapechar::Char, commentchar::Nothing, stringtype::Type, stringarraytype::Type, noresize::Bool, rowno::Int64, prevheaders::Nothing, pooledstrings::Nothing, skiplines_begin::Int64, samecols::Nothing, header_exists::Bool, nastrings::Vector{String}, colnames::Vector{String}, colspool::OrderedCollections.OrderedDict{Union{Int64, String}, Union{Nothing, AbstractVector}}, row_estimate::Int64, prev_parsers::Nothing, colparsers::Vector{Any}, filename::String, type_detect_rows::Int64)",
      "    @ TextParse ~/.julia/packages/TextParse/gNKVx/src/csv.jl:246",
      "  [3] (::TextParse.var\"#34#36\"{Base.Pairs{Symbol, Any, Tuple{Symbol, Symbol}, NamedTuple{(:stringarraytype, :skiplines_begin), Tuple{UnionAll, Int64}}}, String, Char})(io::IOStream)",
      "    @ TextParse ~/.julia/packages/TextParse/gNKVx/src/csv.jl:117",
      "  [4] open(::TextParse.var\"#34#36\"{Base.Pairs{Symbol, Any, Tuple{Symbol, Symbol}, NamedTuple{(:stringarraytype, :skiplines_begin), Tuple{UnionAll, Int64}}}, String, Char}, ::String, ::Vararg{String}; kwargs::Base.Pairs{Symbol, Union{}, Tuple{}, NamedTuple{(), Tuple{}}})",
      "    @ Base ./io.jl:384",
      "  [5] open",
      "    @ ./io.jl:381 [inlined]",
      "  [6] #_csvread_f#32",
      "    @ ~/.julia/packages/TextParse/gNKVx/src/csv.jl:114 [inlined]",
      "  [7] csvread(file::String, delim::Char; kwargs::Base.Pairs{Symbol, Any, Tuple{Symbol, Symbol}, NamedTuple{(:stringarraytype, :skiplines_begin), Tuple{UnionAll, Int64}}})",
      "    @ TextParse ~/.julia/packages/TextParse/gNKVx/src/csv.jl:80",
      "  [8] _loaddata(file::CSVFiles.CSVFile)",
      "    @ CSVFiles ~/.julia/packages/CSVFiles/mNmS7/src/CSVFiles.jl:103",
      "  [9] get_columns_copy_using_missing(file::CSVFiles.CSVFile)",
      "    @ CSVFiles ~/.julia/packages/CSVFiles/mNmS7/src/CSVFiles.jl:116",
      " [10] columns",
      "    @ ~/.julia/packages/Tables/T7rHm/src/fallbacks.jl:259 [inlined]",
      " [11] DataFrame(x::CSVFiles.CSVFile; copycols::Nothing)",
      "    @ DataFrames ~/.julia/packages/DataFrames/dgZn3/src/other/tables.jl:57",
      " [12] DataFrame(x::CSVFiles.CSVFile)",
      "    @ DataFrames ~/.julia/packages/DataFrames/dgZn3/src/other/tables.jl:48",
      " [13] top-level scope",
      "    @ In[14]:1",
      " [14] eval",
      "    @ ./boot.jl:368 [inlined]",
      " [15] include_string(mapexpr::typeof(REPL.softscope), mod::Module, code::String, filename::String)",
      "    @ Base ./loading.jl:1428"
     ]
    }
   ],
   "source": [
    "data = DataFrame(load(\"../data/olympics-winter.csv\", skiplines_begin = 54))"
   ]
  },
  {
   "cell_type": "code",
   "execution_count": 12,
   "id": "1374fb89-55da-4919-b0cc-28c8344dab20",
   "metadata": {},
   "outputs": [
    {
     "data": {
      "text/plain": [
       "5770-element Vector{Int64}:\n",
       " 1924\n",
       " 1924\n",
       " 1924\n",
       " 1924\n",
       " 1924\n",
       " 1924\n",
       " 1924\n",
       " 1924\n",
       " 1924\n",
       " 1924\n",
       " 1924\n",
       " 1924\n",
       " 1924\n",
       "    ⋮\n",
       " 2014\n",
       " 2014\n",
       " 2014\n",
       " 2014\n",
       " 2014\n",
       " 2014\n",
       " 2014\n",
       " 2014\n",
       " 2014\n",
       " 2014\n",
       " 2014\n",
       " 2014"
      ]
     },
     "execution_count": 12,
     "metadata": {},
     "output_type": "execute_result"
    }
   ],
   "source": [
    "data.Year"
   ]
  },
  {
   "cell_type": "code",
   "execution_count": null,
   "id": "386eeea7-9e43-46bc-af51-7e93e4269f8a",
   "metadata": {},
   "outputs": [],
   "source": []
  }
 ],
 "metadata": {
  "kernelspec": {
   "display_name": "Julia 1.8.3",
   "language": "julia",
   "name": "julia-1.8"
  },
  "language_info": {
   "file_extension": ".jl",
   "mimetype": "application/julia",
   "name": "julia",
   "version": "1.8.3"
  }
 },
 "nbformat": 4,
 "nbformat_minor": 5
}
