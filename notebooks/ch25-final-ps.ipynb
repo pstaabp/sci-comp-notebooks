{
 "cells": [
  {
   "cell_type": "markdown",
   "metadata": {},
   "source": [
    "## Chapter 25: Regular Expressions\n",
    "\n",
    "A common task in handling data or other places is to take a string (perhaps from a file) and parse it into various pieces (aka into an object). There are a number of features of Julia (and other languages) to do this.  One important way to do this is using regular expressions, which in short will match a string with various features and often extra substrings. "
   ]
  },
  {
   "cell_type": "markdown",
   "metadata": {},
   "source": [
    "### 25.1: Simple Patten Matching\n",
    "\n",
    "If we are searching through a string for a specific substring, we have some built-in methods to do this including `occursin`, `startswith`, `endswith`. \n",
    "\n",
    "Let's search for the string \"cat\" inside of some larger strings. "
   ]
  },
  {
   "cell_type": "code",
   "execution_count": 1,
   "metadata": {},
   "outputs": [
    {
     "data": {
      "text/plain": [
       "\"housecat\""
      ]
     },
     "metadata": {},
     "output_type": "display_data"
    }
   ],
   "source": [
    "str1 = \"catalog\"\n",
    "str2 = \"complication\"\n",
    "str3 = \"housecat\""
   ]
  },
  {
   "cell_type": "code",
   "execution_count": 2,
   "metadata": {},
   "outputs": [
    {
     "data": {
      "text/plain": [
       "(true, true, true)"
      ]
     },
     "metadata": {},
     "output_type": "display_data"
    }
   ],
   "source": [
    "occursin(\"cat\", str1), occursin(\"cat\", str2), occursin(\"cat\", str3)"
   ]
  },
  {
   "cell_type": "markdown",
   "metadata": {},
   "source": [
    "We can test these also in the following way:"
   ]
  },
  {
   "cell_type": "code",
   "execution_count": 3,
   "metadata": {},
   "outputs": [
    {
     "data": {
      "text/plain": [
       "(true, true, true)"
      ]
     },
     "metadata": {},
     "output_type": "display_data"
    }
   ],
   "source": [
    "map(s -> occursin(\"cat\", s), (\"catalog\", \"complication\", \"housecat\"))"
   ]
  },
  {
   "cell_type": "markdown",
   "metadata": {},
   "source": [
    "The `startswith` function matches the beginning of the string.  Note: the order of arguments is different. :("
   ]
  },
  {
   "cell_type": "code",
   "execution_count": 4,
   "metadata": {},
   "outputs": [
    {
     "data": {
      "text/plain": [
       "(true, false, false)"
      ]
     },
     "metadata": {},
     "output_type": "display_data"
    }
   ],
   "source": [
    "map(s -> startswith(s, \"cat\"), (\"catalog\", \"complication\", \"housecat\"))"
   ]
  },
  {
   "cell_type": "markdown",
   "metadata": {},
   "source": [
    "And the `endswith` method matches the end. "
   ]
  },
  {
   "cell_type": "code",
   "execution_count": 5,
   "metadata": {},
   "outputs": [
    {
     "data": {
      "text/plain": [
       "(false, false, true)"
      ]
     },
     "metadata": {},
     "output_type": "display_data"
    }
   ],
   "source": [
    "map(s -> endswith(s, \"cat\"), (\"catalog\", \"complication\", \"housecat\"))"
   ]
  },
  {
   "cell_type": "markdown",
   "metadata": {},
   "source": [
    "### Regular Expressions\n",
    "\n",
    "We can test all three of these with a regular expression and the `occursin` method.  To maka a regular expression, we prepend the string with an `r`.  The regular expression `r\"cat\"` will match anywhere in the string. "
   ]
  },
  {
   "cell_type": "code",
   "execution_count": 6,
   "metadata": {},
   "outputs": [
    {
     "data": {
      "text/plain": [
       "(true, true, true)"
      ]
     },
     "metadata": {},
     "output_type": "display_data"
    }
   ],
   "source": [
    "map(s -> occursin(r\"cat\",s), (\"catalog\", \"complication\", \"housecat\"))"
   ]
  },
  {
   "cell_type": "markdown",
   "metadata": {},
   "source": [
    "If we put a `^` at the front of a regular expression, then this will match \"cat\" only at the start of the string. "
   ]
  },
  {
   "cell_type": "code",
   "execution_count": 7,
   "metadata": {},
   "outputs": [
    {
     "data": {
      "text/plain": [
       "(true, false, false)"
      ]
     },
     "metadata": {},
     "output_type": "display_data"
    }
   ],
   "source": [
    "map(s -> occursin(r\"^cat\",s), (\"catalog\", \"complication\", \"housecat\"))"
   ]
  },
  {
   "cell_type": "markdown",
   "metadata": {},
   "source": [
    "If we put a `$` at the end of a regular expression, then this will match \"cat\" only at the end of the string. "
   ]
  },
  {
   "cell_type": "code",
   "execution_count": 8,
   "metadata": {},
   "outputs": [
    {
     "data": {
      "text/plain": [
       "(false, false, true)"
      ]
     },
     "metadata": {},
     "output_type": "display_data"
    }
   ],
   "source": [
    "map(s -> occursin(r\"cat$\",s), (\"catalog\", \"complication\", \"housecat\"))"
   ]
  },
  {
   "cell_type": "markdown",
   "metadata": {},
   "source": [
    "The characters in a regular expression are either a **regular character** or a **special character**. So far, the alphabetic characters are regular and the `^` and `$` are special.  They have a meaning separate from their character.  Most of understanding regular expressions and how to use them are how to handle special characters. \n",
    "\n",
    "We often use both `^` and `$` in a regular expression to match an entire string.  Without these, a regular expression can match a substring. "
   ]
  },
  {
   "cell_type": "code",
   "execution_count": 9,
   "metadata": {},
   "outputs": [
    {
     "data": {
      "text/plain": [
       "(true, false, false, false)"
      ]
     },
     "metadata": {},
     "output_type": "display_data"
    }
   ],
   "source": [
    "map(s->occursin(r\"^cat$\",s), (\"cat\", \"catalog\", \"complication\", \"housecat\"))"
   ]
  },
  {
   "cell_type": "markdown",
   "metadata": {},
   "source": [
    "Note: to match a special character, you may have to escape it with a `\\`.  "
   ]
  },
  {
   "cell_type": "code",
   "execution_count": 10,
   "metadata": {},
   "outputs": [
    {
     "data": {
      "text/plain": [
       "(false, true, false)"
      ]
     },
     "metadata": {},
     "output_type": "display_data"
    }
   ],
   "source": [
    "map(s->occursin(r\"\\^\",s), (\"cat\", \"^^^\", \"&*()\"))"
   ]
  },
  {
   "cell_type": "markdown",
   "metadata": {},
   "source": [
    "#### Character Class and Ranges\n",
    "\n",
    "What if instead of matching \"cat\", we'd also like to match \"cot\" and \"cut\".  Instead of building three different regular expressions, \"c[aou]t\" will match between a \"c\" and a \"t\" either \"a\", \"o\" or \"u\".  "
   ]
  },
  {
   "cell_type": "code",
   "execution_count": 11,
   "metadata": {},
   "outputs": [
    {
     "data": {
      "text/plain": [
       "(true, true, true, false)"
      ]
     },
     "metadata": {},
     "output_type": "display_data"
    }
   ],
   "source": [
    "map(s -> occursin(r\"c[aou]t\",s), (\"catalog\", \"cotangent\", \"scuttle\", \"facet\"))"
   ]
  },
  {
   "cell_type": "markdown",
   "metadata": {},
   "source": [
    "If a `^` occurs inside a `[]`, then it negates the characters inside.  So `r\"c[^aou]t\"` will match anything except \"cat\", \"cot\" or \"cut\""
   ]
  },
  {
   "cell_type": "code",
   "execution_count": 12,
   "metadata": {},
   "outputs": [
    {
     "data": {
      "text/plain": [
       "(false, false, false, true)"
      ]
     },
     "metadata": {},
     "output_type": "display_data"
    }
   ],
   "source": [
    "map(s -> occursin(r\"c[^aou]t\",s), (\"catalog\", \"cotangent\", \"scuttle\", \"facet\"))"
   ]
  },
  {
   "cell_type": "markdown",
   "metadata": {},
   "source": [
    "We can also match ranges of characters with the `[]` notation.  If we use `c[a-f]t`, will match \"cat\", \"cbt\", \"cct\", \"cdt\", \"cet\", \"cft\":"
   ]
  },
  {
   "cell_type": "code",
   "execution_count": 13,
   "metadata": {},
   "outputs": [
    {
     "data": {
      "text/plain": [
       "(true, false, false, true)"
      ]
     },
     "metadata": {},
     "output_type": "display_data"
    }
   ],
   "source": [
    "map(s -> occursin(r\"c[a-f]t\",s), (\"catalog\", \"cotangent\", \"scuttle\", \"facet\"))"
   ]
  },
  {
   "cell_type": "markdown",
   "metadata": {},
   "source": [
    "Another important special character is a `.` which matches any character.  "
   ]
  },
  {
   "cell_type": "code",
   "execution_count": 14,
   "metadata": {},
   "outputs": [
    {
     "data": {
      "text/plain": [
       "(true, true, true, true, false)"
      ]
     },
     "metadata": {},
     "output_type": "display_data"
    }
   ],
   "source": [
    "map(s -> occursin(r\"c.t\",s), (\"catalog\", \"cotangent\", \"scuttle\", \"facet\", \"tact\"))"
   ]
  },
  {
   "cell_type": "markdown",
   "metadata": {},
   "source": [
    "#### Exercise\n",
    "\n",
    "Develop a regular expression that matches a string with d, any character, then g at the front of the string.  Test your results."
   ]
  },
  {
   "cell_type": "code",
   "execution_count": 16,
   "metadata": {},
   "outputs": [
    {
     "data": {
      "text/plain": [
       "(true, false, true, false)"
      ]
     },
     "metadata": {},
     "output_type": "display_data"
    }
   ],
   "source": [
    "map(s -> occursin(r\"^d.g\", s), (\"dogma\", \"catdog\", \"dig dug\", \"fred\"))"
   ]
  },
  {
   "cell_type": "markdown",
   "metadata": {},
   "source": [
    "### Optional substrings\n",
    "\n",
    "We often want to match either this or that, and can do that with the special character `|`. Consider"
   ]
  },
  {
   "cell_type": "code",
   "execution_count": 17,
   "metadata": {},
   "outputs": [
    {
     "data": {
      "text/plain": [
       "(false, true, true, false)"
      ]
     },
     "metadata": {},
     "output_type": "display_data"
    }
   ],
   "source": [
    "map(s -> occursin(r\"(mega|giga)byte\",s), (\"kilobyte\", \"megabyte\", \"gigabyte\", \"terabyte\"))"
   ]
  },
  {
   "cell_type": "markdown",
   "metadata": {},
   "source": [
    "Note that we surround the option with a set of `()`.  This is only needed to separate the option from the string `byte`"
   ]
  },
  {
   "cell_type": "markdown",
   "metadata": {},
   "source": [
    "### Alphabetic characters\n",
    "\n",
    "It is very common to want to match any alphabetic character.  In this section, we'll show how to use them. \n",
    "\n",
    "First, if we want the alphabetic characters for the Latin alphabet (the standard one in the U.S.), we typically use a character range.  "
   ]
  },
  {
   "cell_type": "code",
   "execution_count": 18,
   "metadata": {},
   "outputs": [
    {
     "data": {
      "text/plain": [
       "(true, false, false)"
      ]
     },
     "metadata": {},
     "output_type": "display_data"
    }
   ],
   "source": [
    "map(s -> occursin(r\"^[a-z]\",s), (\"catalog\", \"Catalog\", \"1234\"))"
   ]
  },
  {
   "cell_type": "markdown",
   "metadata": {},
   "source": [
    "If we want both upper and lower case, we can change the `[a-z]` to `[A-Za-z]`:"
   ]
  },
  {
   "cell_type": "code",
   "execution_count": 19,
   "metadata": {},
   "outputs": [
    {
     "data": {
      "text/plain": [
       "(true, true, false)"
      ]
     },
     "metadata": {},
     "output_type": "display_data"
    }
   ],
   "source": [
    "map(s -> occursin(r\"^[A-Za-z]\",s), (\"catalog\", \"Catalog\", \"1234\"))"
   ]
  },
  {
   "cell_type": "markdown",
   "metadata": {},
   "source": [
    "If we want to break out of the Latin alphabet, we can use the `[:alpha:]` class.  This will also other characters, like letters with accents and greek letters"
   ]
  },
  {
   "cell_type": "code",
   "execution_count": 21,
   "metadata": {},
   "outputs": [
    {
     "data": {
      "text/plain": [
       "(true, true, true, true, false)"
      ]
     },
     "metadata": {},
     "output_type": "display_data"
    }
   ],
   "source": [
    "map(s -> occursin(r\"^[[:alpha:]]\",s), (\"catalog\", \"Catalog\", \"αβγ\", \"é\", \"1234\"))"
   ]
  },
  {
   "cell_type": "markdown",
   "metadata": {},
   "source": [
    "### Numeric Characters\n",
    "\n",
    "The `\\d` special character matches a decimal.  Basically is it is a shorthand for `[0-9]`."
   ]
  },
  {
   "cell_type": "code",
   "execution_count": 22,
   "metadata": {},
   "outputs": [
    {
     "data": {
      "text/plain": [
       "(false, false, true)"
      ]
     },
     "metadata": {},
     "output_type": "display_data"
    }
   ],
   "source": [
    "map(s -> occursin(r\"^[0-9]\",s), (\"catalog\", \"Catalog\", \"1234\"))"
   ]
  },
  {
   "cell_type": "code",
   "execution_count": 23,
   "metadata": {},
   "outputs": [
    {
     "data": {
      "text/plain": [
       "(false, false, true)"
      ]
     },
     "metadata": {},
     "output_type": "display_data"
    }
   ],
   "source": [
    "map(s -> occursin(r\"^\\d\",s), (\"catalog\", \"Catalog\", \"1234\"))"
   ]
  },
  {
   "cell_type": "markdown",
   "metadata": {},
   "source": [
    "One other common related special character is a word character, `\\w`. This matches any alpha-numeric or `_`.  The tradition for this is typically programming related in that these are the characters that can be used for variable and function names. "
   ]
  },
  {
   "cell_type": "code",
   "execution_count": 24,
   "metadata": {},
   "outputs": [
    {
     "data": {
      "text/plain": [
       "(true, true, true, false)"
      ]
     },
     "metadata": {},
     "output_type": "display_data"
    }
   ],
   "source": [
    "map(s -> occursin(r\"^\\w\",s), (\"catalog\", \"1234\", \"_varname\", \"!@#\"))"
   ]
  },
  {
   "cell_type": "markdown",
   "metadata": {},
   "source": [
    "#### Exercise\n",
    "\n",
    "1. Write a regular expression that matches strings of 3-digit numbers.  Test with 2-, 3- and 4-digits numbers as well as strings with alphabetic characters. \n",
    "2. Write a regular expression that detects a phone number in the form \"xxx-xxx-xxxx\", where x is a digit. "
   ]
  },
  {
   "cell_type": "code",
   "execution_count": 26,
   "metadata": {},
   "outputs": [
    {
     "data": {
      "text/plain": [
       "(false, true, false, false)"
      ]
     },
     "metadata": {},
     "output_type": "display_data"
    }
   ],
   "source": [
    "map(s -> occursin(r\"^\\d\\d\\d$\",s), (\"12\", \"123\", \"1234\", \"hello\"))"
   ]
  },
  {
   "cell_type": "markdown",
   "metadata": {},
   "source": [
    "### Matching spaces\n",
    "\n",
    "Often a space is a desireable character to match.  The specical character `\\s` matches a space, a tab and other less common characters like line and form feeds.  \n",
    "\n",
    "A common place for using these are within the `split` method.  Recall, this takes a string and splits according to a character, but can also split on a regular expression."
   ]
  },
  {
   "cell_type": "code",
   "execution_count": 27,
   "metadata": {},
   "outputs": [
    {
     "data": {
      "text/plain": [
       "5-element Vector{SubString{String}}:\n",
       " \"Julia\"\n",
       " \"is\"\n",
       " \"a\"\n",
       " \"rockin'\"\n",
       " \"language.\""
      ]
     },
     "metadata": {},
     "output_type": "display_data"
    }
   ],
   "source": [
    "split(\"Julia is a rockin' language.\", r\"\\s\")"
   ]
  },
  {
   "cell_type": "markdown",
   "metadata": {},
   "source": [
    "And although it is difficult to see, there are both spaces and tabs in the string above. "
   ]
  },
  {
   "cell_type": "markdown",
   "metadata": {},
   "source": [
    "#### Exercise\n",
    "\n",
    "Split the string `\"1,2,3;4,5|6;7|8,9\"` by either a `,`, `;` or `|`. "
   ]
  },
  {
   "cell_type": "markdown",
   "metadata": {},
   "source": [
    "### Quantifiers\n",
    "\n",
    "Above, we wrote regular expressions to detect a phone number.  We had to repeat `\\d` a number of times.  There is a way to do this with quantifiers. "
   ]
  },
  {
   "cell_type": "code",
   "execution_count": 28,
   "metadata": {},
   "outputs": [
    {
     "data": {
      "text/plain": [
       "true"
      ]
     },
     "metadata": {},
     "output_type": "display_data"
    }
   ],
   "source": [
    "occursin(r\"^\\d{3}-\\d{3}-\\d{4}$\", \"978-555-1234\")"
   ]
  },
  {
   "cell_type": "markdown",
   "metadata": {},
   "source": [
    "If we want a range of possible character matches, we can do `{m,n}` will match between m and n times. "
   ]
  },
  {
   "cell_type": "code",
   "execution_count": 29,
   "metadata": {},
   "outputs": [
    {
     "data": {
      "text/plain": [
       "(false, true, true, true)"
      ]
     },
     "metadata": {},
     "output_type": "display_data"
    }
   ],
   "source": [
    "map(s->occursin(r\"o{2,4}\",s), (\"honey\", \"moon\", \"sooon\", \"ooooo\"))"
   ]
  },
  {
   "cell_type": "markdown",
   "metadata": {},
   "source": [
    "If you want up to some number, say 3, use `{,3}` and if you want above some number, say 2, use `{2,}`\n",
    "\n",
    "There are a couple of special cases with quantifier because they are used often.  `+` matches one or more times, `*` matches 0 or more times and `?` matches 0 or 1 times. "
   ]
  },
  {
   "cell_type": "code",
   "execution_count": 30,
   "metadata": {},
   "outputs": [
    {
     "data": {
      "text/plain": [
       "(false, true, true, true, true)"
      ]
     },
     "metadata": {},
     "output_type": "display_data"
    }
   ],
   "source": [
    "map(s->occursin(r\"o+\",s), (\"cat\", \"honey\", \"moon\", \"sooon\", \"ooooo\"))"
   ]
  },
  {
   "cell_type": "code",
   "execution_count": 31,
   "metadata": {},
   "outputs": [
    {
     "data": {
      "text/plain": [
       "(true, true, true, true, true)"
      ]
     },
     "metadata": {},
     "output_type": "display_data"
    }
   ],
   "source": [
    "map(s->occursin(r\"o*\",s), (\"cat\", \"honey\", \"moon\", \"sooon\", \"ooooo\"))"
   ]
  },
  {
   "cell_type": "code",
   "execution_count": 32,
   "metadata": {},
   "outputs": [
    {
     "data": {
      "text/plain": [
       "(true, true, false)"
      ]
     },
     "metadata": {},
     "output_type": "display_data"
    }
   ],
   "source": [
    "map(s->occursin(r\"ca?t\",s), (\"catalog\", \"lactose\", \"caat\"))"
   ]
  },
  {
   "cell_type": "markdown",
   "metadata": {},
   "source": [
    "### Parsing strings and extracting substrings\n",
    "\n",
    "A bigger use of regular expressions is for extracting substrings and parsing those substrings.  We first examine the `match` method to extract information. \n",
    "\n",
    "If we want to match a string with 3 words separated by spaces, we can use the regular expression `r\"\\w+\\s+\\w+\\s+\\w+\"` for example:"
   ]
  },
  {
   "cell_type": "code",
   "execution_count": 33,
   "metadata": {},
   "outputs": [
    {
     "data": {
      "text/plain": [
       "true"
      ]
     },
     "metadata": {},
     "output_type": "display_data"
    }
   ],
   "source": [
    "occursin(r\"\\w+\\s+\\w+\\s+\\w+\", \"Three big pigs\")"
   ]
  },
  {
   "cell_type": "markdown",
   "metadata": {},
   "source": [
    "Now this just tells us if the string matches.  However lets say that we want to extract the three strings. We can do that first of all by surrounding the `\\w+` with `()`, which makes a grouping.  "
   ]
  },
  {
   "cell_type": "code",
   "execution_count": 34,
   "metadata": {},
   "outputs": [
    {
     "data": {
      "text/plain": [
       "true"
      ]
     },
     "metadata": {},
     "output_type": "display_data"
    }
   ],
   "source": [
    "occursin(r\"(\\w+)\\s+(\\w+)\\s+(\\w+)\", \"Three big pigs\")"
   ]
  },
  {
   "cell_type": "markdown",
   "metadata": {},
   "source": [
    "And now we will use `match` instead of `occursin`:"
   ]
  },
  {
   "cell_type": "code",
   "execution_count": 35,
   "metadata": {},
   "outputs": [
    {
     "data": {
      "text/plain": [
       "RegexMatch(\"Three big pigs\", 1=\"Three\", 2=\"big\", 3=\"pigs\")"
      ]
     },
     "metadata": {},
     "output_type": "display_data"
    }
   ],
   "source": [
    "m = match(r\"(\\w+)\\s+(\\w+)\\s+(\\w+)\", \"Three big pigs\")"
   ]
  },
  {
   "cell_type": "markdown",
   "metadata": {},
   "source": [
    "This returns a `RegexMatch` object, which returns the matched string (the whole thing) and the three groupings.  We can next get the groups with `m[1]`, `m[2]` and `m[3]`:"
   ]
  },
  {
   "cell_type": "code",
   "execution_count": 36,
   "metadata": {},
   "outputs": [
    {
     "data": {
      "text/plain": [
       "(\"Three\", \"big\", \"pigs\")"
      ]
     },
     "metadata": {},
     "output_type": "display_data"
    }
   ],
   "source": [
    "m[1], m[2], m[3]"
   ]
  },
  {
   "cell_type": "markdown",
   "metadata": {},
   "source": [
    "### Exercise\n",
    "\n",
    "Let's say there are sports scores like `78-75` or `5-3` where the first number is the home team, the second is the visitor team.  Extract the scores.  Test with a few options. "
   ]
  },
  {
   "cell_type": "code",
   "execution_count": null,
   "metadata": {},
   "outputs": [
    {
     "data": {
      "text/plain": [
       "r\"^(\\d+)-(\\d+)$\""
      ]
     },
     "metadata": {},
     "output_type": "display_data"
    }
   ],
   "source": [
    "score_re = r\"^(\\d+)-(\\d+)$\""
   ]
  },
  {
   "cell_type": "code",
   "execution_count": 46,
   "metadata": {},
   "outputs": [
    {
     "data": {
      "text/plain": [
       "RegexMatch(\"78-75\", 1=\"78\", 2=\"75\")"
      ]
     },
     "metadata": {},
     "output_type": "display_data"
    }
   ],
   "source": [
    "match(score_re, \"78-75\")"
   ]
  },
  {
   "cell_type": "code",
   "execution_count": 47,
   "metadata": {},
   "outputs": [
    {
     "data": {
      "text/plain": [
       "RegexMatch(\"5-3\", 1=\"5\", 2=\"3\")"
      ]
     },
     "metadata": {},
     "output_type": "display_data"
    }
   ],
   "source": [
    "match(score_re, \"5-3\")"
   ]
  },
  {
   "cell_type": "code",
   "execution_count": 48,
   "metadata": {},
   "outputs": [
    {
     "data": {
      "text/plain": [
       "RegexMatch(\"126-94\", 1=\"126\", 2=\"94\")"
      ]
     },
     "metadata": {},
     "output_type": "display_data"
    }
   ],
   "source": [
    "match(score_re, \"126-94\")"
   ]
  },
  {
   "cell_type": "markdown",
   "metadata": {},
   "source": [
    "### Matching Integers and Decimal Numbers\n",
    "\n",
    "A good use of regular expressions in scientific computation is that of parsing a string into a decimal or integer.  There are methods to do this, but often we may either need to first detect one or extract a number from a larger string. This section will discuss this. \n",
    "\n",
    "An integer is a sequence of digits with a sign `-` prepended.  "
   ]
  },
  {
   "cell_type": "code",
   "execution_count": 49,
   "metadata": {},
   "outputs": [
    {
     "data": {
      "text/plain": [
       "(true, true, false)"
      ]
     },
     "metadata": {},
     "output_type": "display_data"
    }
   ],
   "source": [
    "map(s->occursin(r\"^-?\\d+$\",s), (\"1234\",\"-1234\", \"12.34\"))"
   ]
  },
  {
   "cell_type": "markdown",
   "metadata": {},
   "source": [
    "And note that we have put a `^` in front and `$` in back to make sure that it matches the entire string. "
   ]
  },
  {
   "cell_type": "markdown",
   "metadata": {},
   "source": [
    "For example, a way to use this is to write a for loop that goes through possible strings and parse only integers. "
   ]
  },
  {
   "cell_type": "code",
   "execution_count": 50,
   "metadata": {},
   "outputs": [
    {
     "data": {
      "text/plain": [
       "2-element Vector{Int64}:\n",
       "  1234\n",
       " -1234"
      ]
     },
     "metadata": {},
     "output_type": "display_data"
    }
   ],
   "source": [
    "ints = Int[]\n",
    "for s in (\"1234\",\"-1234\", \"12.34\", \"housecat\")\n",
    "  if occursin(r\"^-?\\d+$\", s)\n",
    "    push!(ints, parse(Int, s))\n",
    "  end\n",
    "end\n",
    "ints"
   ]
  },
  {
   "cell_type": "markdown",
   "metadata": {},
   "source": [
    "Before going on, we're going to use a test suite for this in \"test-numbers.jl\".  "
   ]
  },
  {
   "cell_type": "code",
   "execution_count": 51,
   "metadata": {},
   "outputs": [
    {
     "name": "stdout",
     "output_type": "stream",
     "text": [
      "\u001b[0m\u001b[1mTest Summary:     | \u001b[22m\u001b[32m\u001b[1mPass  \u001b[22m\u001b[39m\u001b[36m\u001b[1mTotal  \u001b[22m\u001b[39m\u001b[0m\u001b[1mTime\u001b[22m\n",
      "Matching Integers | \u001b[32m   6  \u001b[39m\u001b[36m    6  \u001b[39m\u001b[0m0.3s\n",
      "\u001b[0m\u001b[1mTest Summary: | \u001b[22m\u001b[32m\u001b[1mPass  \u001b[22m\u001b[39m\u001b[36m\u001b[1mTotal  \u001b[22m\u001b[39m\u001b[0m\u001b[1mTime\u001b[22m\n",
      "Non-integers  | \u001b[32m   4  \u001b[39m\u001b[36m    4  \u001b[39m\u001b[0m0.0s\n",
      "\u001b[0m\u001b[1mTest Summary:     | \u001b[22m\u001b[33m\u001b[1mBroken  \u001b[22m\u001b[39m\u001b[36m\u001b[1mTotal  \u001b[22m\u001b[39m\u001b[0m\u001b[1mTime\u001b[22m\n",
      "Matching Decimals | \u001b[33m    10  \u001b[39m\u001b[36m   10  \u001b[39m\u001b[0m0.0s\n",
      "\u001b[0m\u001b[1mTest Summary: | \u001b[22m\u001b[33m\u001b[1mBroken  \u001b[22m\u001b[39m\u001b[36m\u001b[1mTotal  \u001b[22m\u001b[39m\u001b[0m\u001b[1mTime\u001b[22m\n",
      "Non decimals  | \u001b[33m     2  \u001b[39m\u001b[36m    2  \u001b[39m\u001b[0m0.0s\n",
      "\u001b[0m\u001b[1mTest Summary:  | \u001b[22m\u001b[33m\u001b[1mBroken  \u001b[22m\u001b[39m\u001b[36m\u001b[1mTotal  \u001b[22m\u001b[39m\u001b[0m\u001b[1mTime\u001b[22m\n",
      "Parse integers | \u001b[33m     6  \u001b[39m\u001b[36m    6  \u001b[39m\u001b[0m0.0s\n",
      "\u001b[0m\u001b[1mTest Summary:  | \u001b[22m\u001b[33m\u001b[1mBroken  \u001b[22m\u001b[39m\u001b[36m\u001b[1mTotal  \u001b[22m\u001b[39m\u001b[0m\u001b[1mTime\u001b[22m\n",
      "Parse Decimals | \u001b[33m    10  \u001b[39m\u001b[36m   10  \u001b[39m\u001b[0m0.0s\n"
     ]
    }
   ],
   "source": [
    "include(\"test-numbers.jl\");"
   ]
  },
  {
   "cell_type": "markdown",
   "metadata": {},
   "source": [
    "Note: we have included some decimal tests as well here and have a flag whether or not to run these.  At this point, just look at the top two test suites. \n",
    "\n",
    "Decimals are a bit more difficult.  We'll build this up though. First of all, we'll try the Test Driven Development, so make a test suite first.  To run the decimal test, change the variable `run_dec_test` in the file to `true`.  We also need to define a `dec_re` that must be a regular expression. \n",
    "\n",
    "Let's start with a regular expression that matches one or more digits before a decimal point and 0 or more after. "
   ]
  },
  {
   "cell_type": "code",
   "execution_count": 2,
   "metadata": {},
   "outputs": [
    {
     "data": {
      "text/plain": [
       "r\"\\d+\\.(\\d+)\""
      ]
     },
     "metadata": {},
     "output_type": "display_data"
    }
   ],
   "source": [
    "dec_re = r\"\\d+\\.(\\d+)\""
   ]
  },
  {
   "cell_type": "markdown",
   "metadata": {},
   "source": [
    "And then rerun the test suite. "
   ]
  },
  {
   "cell_type": "code",
   "execution_count": 3,
   "metadata": {},
   "outputs": [
    {
     "name": "stdout",
     "output_type": "stream",
     "text": [
      "\u001b[0m\u001b[1mTest Summary:     | \u001b[22m\u001b[32m\u001b[1mPass  \u001b[22m\u001b[39m\u001b[36m\u001b[1mTotal  \u001b[22m\u001b[39m\u001b[0m\u001b[1mTime\u001b[22m\n",
      "Matching Integers | \u001b[32m   6  \u001b[39m\u001b[36m    6  \u001b[39m\u001b[0m0.0s\n",
      "\u001b[0m\u001b[1mTest Summary: | \u001b[22m\u001b[32m\u001b[1mPass  \u001b[22m\u001b[39m\u001b[36m\u001b[1mTotal  \u001b[22m\u001b[39m\u001b[0m\u001b[1mTime\u001b[22m\n",
      "Non-integers  | \u001b[32m   4  \u001b[39m\u001b[36m    4  \u001b[39m\u001b[0m0.0s\n",
      "Matching Decimals: \u001b[91m\u001b[1mTest Failed\u001b[22m\u001b[39m at \u001b[39m\u001b[1m/Users/pstaab/code/sci-comp-notebooks/notebooks/test-numbers.jl:28\u001b[22m\n",
      "  Expression: occursin(dec_re, \".1234\")\n",
      "   Evaluated: occursin(r\"\\d+\\.(\\d+)\", \".1234\")\n",
      "\n",
      "Stacktrace:\n",
      " [1] \u001b[0m\u001b[1mmacro expansion\u001b[22m\n",
      "\u001b[90m   @\u001b[39m \u001b[90m~/.julia/juliaup/julia-1.11.1+0.aarch64.apple.darwin14/share/julia/stdlib/v1.11/Test/src/\u001b[39m\u001b[90m\u001b[4mTest.jl:679\u001b[24m\u001b[39m\u001b[90m [inlined]\u001b[39m\n",
      " [2] \u001b[0m\u001b[1mmacro expansion\u001b[22m\n",
      "\u001b[90m   @\u001b[39m \u001b[90m~/code/sci-comp-notebooks/notebooks/\u001b[39m\u001b[90m\u001b[4mtest-numbers.jl:28\u001b[24m\u001b[39m\u001b[90m [inlined]\u001b[39m\n",
      " [3] \u001b[0m\u001b[1mmacro expansion\u001b[22m\n",
      "\u001b[90m   @\u001b[39m \u001b[90m~/.julia/juliaup/julia-1.11.1+0.aarch64.apple.darwin14/share/julia/stdlib/v1.11/Test/src/\u001b[39m\u001b[90m\u001b[4mTest.jl:1700\u001b[24m\u001b[39m\u001b[90m [inlined]\u001b[39m\n",
      " [4] top-level scope\n",
      "\u001b[90m   @\u001b[39m \u001b[90m~/code/sci-comp-notebooks/notebooks/\u001b[39m\u001b[90m\u001b[4mtest-numbers.jl:24\u001b[24m\u001b[39m\n",
      "Matching Decimals: \u001b[91m\u001b[1mTest Failed\u001b[22m\u001b[39m at \u001b[39m\u001b[1m/Users/pstaab/code/sci-comp-notebooks/notebooks/test-numbers.jl:29\u001b[22m\n",
      "  Expression: occursin(dec_re, \"-.1234\")\n",
      "   Evaluated: occursin(r\"\\d+\\.(\\d+)\", \"-.1234\")\n",
      "\n",
      "Stacktrace:\n",
      " [1] \u001b[0m\u001b[1mmacro expansion\u001b[22m\n",
      "\u001b[90m   @\u001b[39m \u001b[90m~/.julia/juliaup/julia-1.11.1+0.aarch64.apple.darwin14/share/julia/stdlib/v1.11/Test/src/\u001b[39m\u001b[90m\u001b[4mTest.jl:679\u001b[24m\u001b[39m\u001b[90m [inlined]\u001b[39m\n",
      " [2] \u001b[0m\u001b[1mmacro expansion\u001b[22m\n",
      "\u001b[90m   @\u001b[39m \u001b[90m~/code/sci-comp-notebooks/notebooks/\u001b[39m\u001b[90m\u001b[4mtest-numbers.jl:29\u001b[24m\u001b[39m\u001b[90m [inlined]\u001b[39m\n",
      " [3] \u001b[0m\u001b[1mmacro expansion\u001b[22m\n",
      "\u001b[90m   @\u001b[39m \u001b[90m~/.julia/juliaup/julia-1.11.1+0.aarch64.apple.darwin14/share/julia/stdlib/v1.11/Test/src/\u001b[39m\u001b[90m\u001b[4mTest.jl:1700\u001b[24m\u001b[39m\u001b[90m [inlined]\u001b[39m\n",
      " [4] top-level scope\n",
      "\u001b[90m   @\u001b[39m \u001b[90m~/code/sci-comp-notebooks/notebooks/\u001b[39m\u001b[90m\u001b[4mtest-numbers.jl:24\u001b[24m\u001b[39m\n",
      "Matching Decimals: \u001b[91m\u001b[1mTest Failed\u001b[22m\u001b[39m at \u001b[39m\u001b[1m/Users/pstaab/code/sci-comp-notebooks/notebooks/test-numbers.jl:31\u001b[22m\n",
      "  Expression: occursin(dec_re, \"12.\")\n",
      "   Evaluated: occursin(r\"\\d+\\.(\\d+)\", \"12.\")\n",
      "\n",
      "Stacktrace:\n",
      " [1] \u001b[0m\u001b[1mmacro expansion\u001b[22m\n",
      "\u001b[90m   @\u001b[39m \u001b[90m~/.julia/juliaup/julia-1.11.1+0.aarch64.apple.darwin14/share/julia/stdlib/v1.11/Test/src/\u001b[39m\u001b[90m\u001b[4mTest.jl:679\u001b[24m\u001b[39m\u001b[90m [inlined]\u001b[39m\n",
      " [2] \u001b[0m\u001b[1mmacro expansion\u001b[22m\n",
      "\u001b[90m   @\u001b[39m \u001b[90m~/code/sci-comp-notebooks/notebooks/\u001b[39m\u001b[90m\u001b[4mtest-numbers.jl:31\u001b[24m\u001b[39m\u001b[90m [inlined]\u001b[39m\n",
      " [3] \u001b[0m\u001b[1mmacro expansion\u001b[22m\n",
      "\u001b[90m   @\u001b[39m \u001b[90m~/.julia/juliaup/julia-1.11.1+0.aarch64.apple.darwin14/share/julia/stdlib/v1.11/Test/src/\u001b[39m\u001b[90m\u001b[4mTest.jl:1700\u001b[24m\u001b[39m\u001b[90m [inlined]\u001b[39m\n",
      " [4] top-level scope\n",
      "\u001b[90m   @\u001b[39m \u001b[90m~/code/sci-comp-notebooks/notebooks/\u001b[39m\u001b[90m\u001b[4mtest-numbers.jl:24\u001b[24m\u001b[39m\n",
      "Matching Decimals: \u001b[91m\u001b[1mTest Failed\u001b[22m\u001b[39m at \u001b[39m\u001b[1m/Users/pstaab/code/sci-comp-notebooks/notebooks/test-numbers.jl:33\u001b[22m\n",
      "  Expression: occursin(dec_re, \"-12.\")\n",
      "   Evaluated: occursin(r\"\\d+\\.(\\d+)\", \"-12.\")\n",
      "\n",
      "Stacktrace:\n",
      " [1] \u001b[0m\u001b[1mmacro expansion\u001b[22m\n",
      "\u001b[90m   @\u001b[39m \u001b[90m~/.julia/juliaup/julia-1.11.1+0.aarch64.apple.darwin14/share/julia/stdlib/v1.11/Test/src/\u001b[39m\u001b[90m\u001b[4mTest.jl:679\u001b[24m\u001b[39m\u001b[90m [inlined]\u001b[39m\n",
      " [2] \u001b[0m\u001b[1mmacro expansion\u001b[22m\n",
      "\u001b[90m   @\u001b[39m \u001b[90m~/code/sci-comp-notebooks/notebooks/\u001b[39m\u001b[90m\u001b[4mtest-numbers.jl:33\u001b[24m\u001b[39m\u001b[90m [inlined]\u001b[39m\n",
      " [3] \u001b[0m\u001b[1mmacro expansion\u001b[22m\n",
      "\u001b[90m   @\u001b[39m \u001b[90m~/.julia/juliaup/julia-1.11.1+0.aarch64.apple.darwin14/share/julia/stdlib/v1.11/Test/src/\u001b[39m\u001b[90m\u001b[4mTest.jl:1700\u001b[24m\u001b[39m\u001b[90m [inlined]\u001b[39m\n",
      " [4] top-level scope\n",
      "\u001b[90m   @\u001b[39m \u001b[90m~/code/sci-comp-notebooks/notebooks/\u001b[39m\u001b[90m\u001b[4mtest-numbers.jl:24\u001b[24m\u001b[39m\n",
      "\u001b[0m\u001b[1mTest Summary:     | \u001b[22m\u001b[32m\u001b[1mPass  \u001b[22m\u001b[39m\u001b[91m\u001b[1mFail  \u001b[22m\u001b[39m\u001b[36m\u001b[1mTotal  \u001b[22m\u001b[39m\u001b[0m\u001b[1mTime\u001b[22m\n",
      "Matching Decimals | \u001b[32m   6  \u001b[39m\u001b[91m   4  \u001b[39m\u001b[36m   10  \u001b[39m\u001b[0m0.8s\n"
     ]
    },
    {
     "ename": "LoadError",
     "evalue": "LoadError: Some tests did not pass: 6 passed, 4 failed, 0 errored, 0 broken.\nin expression starting at /Users/pstaab/code/sci-comp-notebooks/notebooks/test-numbers.jl:23",
     "output_type": "error",
     "traceback": [
      "LoadError: Some tests did not pass: 6 passed, 4 failed, 0 errored, 0 broken.\n",
      "in expression starting at /Users/pstaab/code/sci-comp-notebooks/notebooks/test-numbers.jl:23\n",
      "\n",
      "Stacktrace:\n",
      " [1] finish(ts::Test.DefaultTestSet; print_results::Bool)\n",
      "   @ Test ~/.julia/juliaup/julia-1.11.1+0.aarch64.apple.darwin14/share/julia/stdlib/v1.11/Test/src/Test.jl:1254\n",
      " [2] finish(ts::Test.DefaultTestSet)\n",
      "   @ Test ~/.julia/juliaup/julia-1.11.1+0.aarch64.apple.darwin14/share/julia/stdlib/v1.11/Test/src/Test.jl:1229\n",
      " [3] macro expansion\n",
      "   @ ~/.julia/juliaup/julia-1.11.1+0.aarch64.apple.darwin14/share/julia/stdlib/v1.11/Test/src/Test.jl:1716 [inlined]\n",
      " [4] top-level scope\n",
      "   @ ~/code/sci-comp-notebooks/notebooks/test-numbers.jl:24"
     ]
    }
   ],
   "source": [
    "include(\"test-numbers.jl\");"
   ]
  },
  {
   "cell_type": "markdown",
   "metadata": {},
   "source": [
    "First, recall that since `.` is a special character, we need to escape it (write `\\.` to match the character `.`). \n",
    "\n",
    "However, will this work with \".1234\", let's try:"
   ]
  },
  {
   "cell_type": "markdown",
   "metadata": {},
   "source": [
    "And the answer is clearly no because the `\\d+` means we need to match a decimal one or more times. We could change this to `\\d*` to fix this, but let's do more.  Most decimals if less than one have a leading 0 (but not necessary), but not more than one.  To detect a single leading zero, we can add: "
   ]
  },
  {
   "cell_type": "code",
   "execution_count": 4,
   "metadata": {},
   "outputs": [
    {
     "data": {
      "text/plain": [
       "r\"[+-]?\\d*\\.\\d+|[+-]?\\d+\\.\\d*\""
      ]
     },
     "metadata": {},
     "output_type": "display_data"
    }
   ],
   "source": [
    "dec_re = r\"[+-]?\\d*\\.\\d+|[+-]?\\d+\\.\\d*\""
   ]
  },
  {
   "cell_type": "code",
   "execution_count": 5,
   "metadata": {},
   "outputs": [
    {
     "name": "stdout",
     "output_type": "stream",
     "text": [
      "\u001b[0m\u001b[1mTest Summary:     | \u001b[22m\u001b[32m\u001b[1mPass  \u001b[22m\u001b[39m\u001b[36m\u001b[1mTotal  \u001b[22m\u001b[39m\u001b[0m\u001b[1mTime\u001b[22m\n",
      "Matching Integers | \u001b[32m   6  \u001b[39m\u001b[36m    6  \u001b[39m\u001b[0m0.0s\n",
      "\u001b[0m\u001b[1mTest Summary: | \u001b[22m\u001b[32m\u001b[1mPass  \u001b[22m\u001b[39m\u001b[36m\u001b[1mTotal  \u001b[22m\u001b[39m\u001b[0m\u001b[1mTime\u001b[22m\n",
      "Non-integers  | \u001b[32m   4  \u001b[39m\u001b[36m    4  \u001b[39m\u001b[0m0.0s\n",
      "\u001b[0m\u001b[1mTest Summary:     | \u001b[22m\u001b[32m\u001b[1mPass  \u001b[22m\u001b[39m\u001b[36m\u001b[1mTotal  \u001b[22m\u001b[39m\u001b[0m\u001b[1mTime\u001b[22m\n",
      "Matching Decimals | \u001b[32m  10  \u001b[39m\u001b[36m   10  \u001b[39m\u001b[0m0.0s\n",
      "\u001b[0m\u001b[1mTest Summary: | \u001b[22m\u001b[32m\u001b[1mPass  \u001b[22m\u001b[39m\u001b[36m\u001b[1mTotal  \u001b[22m\u001b[39m\u001b[0m\u001b[1mTime\u001b[22m\n",
      "Non decimals  | \u001b[32m   3  \u001b[39m\u001b[36m    3  \u001b[39m\u001b[0m0.0s\n",
      "Parse integers: \u001b[91m\u001b[1mError During Test\u001b[22m\u001b[39m at \u001b[39m\u001b[1m/Users/pstaab/code/sci-comp-notebooks/notebooks/test-numbers.jl:45\u001b[22m\n",
      "  Test threw exception\n",
      "  Expression: parseIntOrDec(\"1234\") == 1234\n",
      "  UndefVarError: `parseIntOrDec` not defined in `Main`\n",
      "  Suggestion: check for spelling errors or missing imports.\n",
      "  Stacktrace:\n",
      "   [1] \u001b[0m\u001b[1mmacro expansion\u001b[22m\n",
      "  \u001b[90m   @\u001b[39m \u001b[90m~/.julia/juliaup/julia-1.11.1+0.aarch64.apple.darwin14/share/julia/stdlib/v1.11/Test/src/\u001b[39m\u001b[90m\u001b[4mTest.jl:676\u001b[24m\u001b[39m\u001b[90m [inlined]\u001b[39m\n",
      "   [2] \u001b[0m\u001b[1mmacro expansion\u001b[22m\n",
      "  \u001b[90m   @\u001b[39m \u001b[90m~/code/sci-comp-notebooks/notebooks/\u001b[39m\u001b[90m\u001b[4mtest-numbers.jl:45\u001b[24m\u001b[39m\u001b[90m [inlined]\u001b[39m\n",
      "   [3] \u001b[0m\u001b[1mmacro expansion\u001b[22m\n",
      "  \u001b[90m   @\u001b[39m \u001b[90m~/.julia/juliaup/julia-1.11.1+0.aarch64.apple.darwin14/share/julia/stdlib/v1.11/Test/src/\u001b[39m\u001b[90m\u001b[4mTest.jl:1700\u001b[24m\u001b[39m\u001b[90m [inlined]\u001b[39m\n",
      "   [4] top-level scope\n",
      "  \u001b[90m   @\u001b[39m \u001b[90m~/code/sci-comp-notebooks/notebooks/\u001b[39m\u001b[90m\u001b[4mtest-numbers.jl:45\u001b[24m\u001b[39m\n",
      "Parse integers: \u001b[91m\u001b[1mError During Test\u001b[22m\u001b[39m at \u001b[39m\u001b[1m/Users/pstaab/code/sci-comp-notebooks/notebooks/test-numbers.jl:46\u001b[22m\n",
      "  Test threw exception\n",
      "  Expression: parseIntOrDec(\"-1234\") == -1234\n",
      "  UndefVarError: `parseIntOrDec` not defined in `Main`\n",
      "  Suggestion: check for spelling errors or missing imports.\n",
      "  Stacktrace:\n",
      "   [1] \u001b[0m\u001b[1mmacro expansion\u001b[22m\n",
      "  \u001b[90m   @\u001b[39m \u001b[90m~/.julia/juliaup/julia-1.11.1+0.aarch64.apple.darwin14/share/julia/stdlib/v1.11/Test/src/\u001b[39m\u001b[90m\u001b[4mTest.jl:676\u001b[24m\u001b[39m\u001b[90m [inlined]\u001b[39m\n",
      "   [2] \u001b[0m\u001b[1mmacro expansion\u001b[22m\n",
      "  \u001b[90m   @\u001b[39m \u001b[90m~/code/sci-comp-notebooks/notebooks/\u001b[39m\u001b[90m\u001b[4mtest-numbers.jl:46\u001b[24m\u001b[39m\u001b[90m [inlined]\u001b[39m\n",
      "   [3] \u001b[0m\u001b[1mmacro expansion\u001b[22m\n",
      "  \u001b[90m   @\u001b[39m \u001b[90m~/.julia/juliaup/julia-1.11.1+0.aarch64.apple.darwin14/share/julia/stdlib/v1.11/Test/src/\u001b[39m\u001b[90m\u001b[4mTest.jl:1700\u001b[24m\u001b[39m\u001b[90m [inlined]\u001b[39m\n",
      "   [4] top-level scope\n",
      "  \u001b[90m   @\u001b[39m \u001b[90m~/code/sci-comp-notebooks/notebooks/\u001b[39m\u001b[90m\u001b[4mtest-numbers.jl:45\u001b[24m\u001b[39m\n",
      "Parse integers: \u001b[91m\u001b[1mError During Test\u001b[22m\u001b[39m at \u001b[39m\u001b[1m/Users/pstaab/code/sci-comp-notebooks/notebooks/test-numbers.jl:47\u001b[22m\n",
      "  Test threw exception\n",
      "  Expression: parseIntOrDec(\"+1234\") == 1234\n",
      "  UndefVarError: `parseIntOrDec` not defined in `Main`\n",
      "  Suggestion: check for spelling errors or missing imports.\n",
      "  Stacktrace:\n",
      "   [1] \u001b[0m\u001b[1mmacro expansion\u001b[22m\n",
      "  \u001b[90m   @\u001b[39m \u001b[90m~/.julia/juliaup/julia-1.11.1+0.aarch64.apple.darwin14/share/julia/stdlib/v1.11/Test/src/\u001b[39m\u001b[90m\u001b[4mTest.jl:676\u001b[24m\u001b[39m\u001b[90m [inlined]\u001b[39m\n",
      "   [2] \u001b[0m\u001b[1mmacro expansion\u001b[22m\n",
      "  \u001b[90m   @\u001b[39m \u001b[90m~/code/sci-comp-notebooks/notebooks/\u001b[39m\u001b[90m\u001b[4mtest-numbers.jl:47\u001b[24m\u001b[39m\u001b[90m [inlined]\u001b[39m\n",
      "   [3] \u001b[0m\u001b[1mmacro expansion\u001b[22m\n",
      "  \u001b[90m   @\u001b[39m \u001b[90m~/.julia/juliaup/julia-1.11.1+0.aarch64.apple.darwin14/share/julia/stdlib/v1.11/Test/src/\u001b[39m\u001b[90m\u001b[4mTest.jl:1700\u001b[24m\u001b[39m\u001b[90m [inlined]\u001b[39m\n",
      "   [4] top-level scope\n",
      "  \u001b[90m   @\u001b[39m \u001b[90m~/code/sci-comp-notebooks/notebooks/\u001b[39m\u001b[90m\u001b[4mtest-numbers.jl:45\u001b[24m\u001b[39m\n",
      "Parse integers: \u001b[91m\u001b[1mError During Test\u001b[22m\u001b[39m at \u001b[39m\u001b[1m/Users/pstaab/code/sci-comp-notebooks/notebooks/test-numbers.jl:48\u001b[22m\n",
      "  Test threw exception\n",
      "  Expression: parseIntOrDec(\"0123\") == 123\n",
      "  UndefVarError: `parseIntOrDec` not defined in `Main`\n",
      "  Suggestion: check for spelling errors or missing imports.\n",
      "  Stacktrace:\n",
      "   [1] \u001b[0m\u001b[1mmacro expansion\u001b[22m\n",
      "  \u001b[90m   @\u001b[39m \u001b[90m~/.julia/juliaup/julia-1.11.1+0.aarch64.apple.darwin14/share/julia/stdlib/v1.11/Test/src/\u001b[39m\u001b[90m\u001b[4mTest.jl:676\u001b[24m\u001b[39m\u001b[90m [inlined]\u001b[39m\n",
      "   [2] \u001b[0m\u001b[1mmacro expansion\u001b[22m\n",
      "  \u001b[90m   @\u001b[39m \u001b[90m~/code/sci-comp-notebooks/notebooks/\u001b[39m\u001b[90m\u001b[4mtest-numbers.jl:48\u001b[24m\u001b[39m\u001b[90m [inlined]\u001b[39m\n",
      "   [3] \u001b[0m\u001b[1mmacro expansion\u001b[22m\n",
      "  \u001b[90m   @\u001b[39m \u001b[90m~/.julia/juliaup/julia-1.11.1+0.aarch64.apple.darwin14/share/julia/stdlib/v1.11/Test/src/\u001b[39m\u001b[90m\u001b[4mTest.jl:1700\u001b[24m\u001b[39m\u001b[90m [inlined]\u001b[39m\n",
      "   [4] top-level scope\n",
      "  \u001b[90m   @\u001b[39m \u001b[90m~/code/sci-comp-notebooks/notebooks/\u001b[39m\u001b[90m\u001b[4mtest-numbers.jl:45\u001b[24m\u001b[39m\n",
      "Parse integers: \u001b[91m\u001b[1mError During Test\u001b[22m\u001b[39m at \u001b[39m\u001b[1m/Users/pstaab/code/sci-comp-notebooks/notebooks/test-numbers.jl:49\u001b[22m\n",
      "  Test threw exception\n",
      "  Expression: parseIntOrDec(\"-999\") == -999\n",
      "  UndefVarError: `parseIntOrDec` not defined in `Main`\n",
      "  Suggestion: check for spelling errors or missing imports.\n",
      "  Stacktrace:\n",
      "   [1] \u001b[0m\u001b[1mmacro expansion\u001b[22m\n",
      "  \u001b[90m   @\u001b[39m \u001b[90m~/.julia/juliaup/julia-1.11.1+0.aarch64.apple.darwin14/share/julia/stdlib/v1.11/Test/src/\u001b[39m\u001b[90m\u001b[4mTest.jl:676\u001b[24m\u001b[39m\u001b[90m [inlined]\u001b[39m\n",
      "   [2] \u001b[0m\u001b[1mmacro expansion\u001b[22m\n",
      "  \u001b[90m   @\u001b[39m \u001b[90m~/code/sci-comp-notebooks/notebooks/\u001b[39m\u001b[90m\u001b[4mtest-numbers.jl:49\u001b[24m\u001b[39m\u001b[90m [inlined]\u001b[39m\n",
      "   [3] \u001b[0m\u001b[1mmacro expansion\u001b[22m\n",
      "  \u001b[90m   @\u001b[39m \u001b[90m~/.julia/juliaup/julia-1.11.1+0.aarch64.apple.darwin14/share/julia/stdlib/v1.11/Test/src/\u001b[39m\u001b[90m\u001b[4mTest.jl:1700\u001b[24m\u001b[39m\u001b[90m [inlined]\u001b[39m\n",
      "   [4] top-level scope\n",
      "  \u001b[90m   @\u001b[39m \u001b[90m~/code/sci-comp-notebooks/notebooks/\u001b[39m\u001b[90m\u001b[4mtest-numbers.jl:45\u001b[24m\u001b[39m\n",
      "Parse integers: \u001b[91m\u001b[1mError During Test\u001b[22m\u001b[39m at \u001b[39m\u001b[1m/Users/pstaab/code/sci-comp-notebooks/notebooks/test-numbers.jl:50\u001b[22m\n",
      "  Test threw exception\n",
      "  Expression: parseIntOrDec(\"+9\") == 9\n",
      "  UndefVarError: `parseIntOrDec` not defined in `Main`\n",
      "  Suggestion: check for spelling errors or missing imports.\n",
      "  Stacktrace:\n",
      "   [1] \u001b[0m\u001b[1mmacro expansion\u001b[22m\n",
      "  \u001b[90m   @\u001b[39m \u001b[90m~/.julia/juliaup/julia-1.11.1+0.aarch64.apple.darwin14/share/julia/stdlib/v1.11/Test/src/\u001b[39m\u001b[90m\u001b[4mTest.jl:676\u001b[24m\u001b[39m\u001b[90m [inlined]\u001b[39m\n",
      "   [2] \u001b[0m\u001b[1mmacro expansion\u001b[22m\n",
      "  \u001b[90m   @\u001b[39m \u001b[90m~/code/sci-comp-notebooks/notebooks/\u001b[39m\u001b[90m\u001b[4mtest-numbers.jl:50\u001b[24m\u001b[39m\u001b[90m [inlined]\u001b[39m\n",
      "   [3] \u001b[0m\u001b[1mmacro expansion\u001b[22m\n",
      "  \u001b[90m   @\u001b[39m \u001b[90m~/.julia/juliaup/julia-1.11.1+0.aarch64.apple.darwin14/share/julia/stdlib/v1.11/Test/src/\u001b[39m\u001b[90m\u001b[4mTest.jl:1700\u001b[24m\u001b[39m\u001b[90m [inlined]\u001b[39m\n",
      "   [4] top-level scope\n",
      "  \u001b[90m   @\u001b[39m \u001b[90m~/code/sci-comp-notebooks/notebooks/\u001b[39m\u001b[90m\u001b[4mtest-numbers.jl:45\u001b[24m\u001b[39m\n",
      "\u001b[0m\u001b[1mTest Summary:  | \u001b[22m\u001b[91m\u001b[1mError  \u001b[22m\u001b[39m\u001b[36m\u001b[1mTotal  \u001b[22m\u001b[39m\u001b[0m\u001b[1mTime\u001b[22m\n",
      "Parse integers | \u001b[91m    6  \u001b[39m\u001b[36m    6  \u001b[39m\u001b[0m0.0s\n"
     ]
    },
    {
     "ename": "LoadError",
     "evalue": "LoadError: Some tests did not pass: 0 passed, 0 failed, 6 errored, 0 broken.\nin expression starting at /Users/pstaab/code/sci-comp-notebooks/notebooks/test-numbers.jl:44",
     "output_type": "error",
     "traceback": [
      "LoadError: Some tests did not pass: 0 passed, 0 failed, 6 errored, 0 broken.\n",
      "in expression starting at /Users/pstaab/code/sci-comp-notebooks/notebooks/test-numbers.jl:44\n",
      "\n",
      "Stacktrace:\n",
      " [1] finish(ts::Test.DefaultTestSet; print_results::Bool)\n",
      "   @ Test ~/.julia/juliaup/julia-1.11.1+0.aarch64.apple.darwin14/share/julia/stdlib/v1.11/Test/src/Test.jl:1254\n",
      " [2] finish(ts::Test.DefaultTestSet)\n",
      "   @ Test ~/.julia/juliaup/julia-1.11.1+0.aarch64.apple.darwin14/share/julia/stdlib/v1.11/Test/src/Test.jl:1229\n",
      " [3] macro expansion\n",
      "   @ ~/.julia/juliaup/julia-1.11.1+0.aarch64.apple.darwin14/share/julia/stdlib/v1.11/Test/src/Test.jl:1716 [inlined]\n",
      " [4] top-level scope\n",
      "   @ ~/code/sci-comp-notebooks/notebooks/test-numbers.jl:45"
     ]
    }
   ],
   "source": [
    "include(\"test-numbers.jl\");"
   ]
  },
  {
   "cell_type": "markdown",
   "metadata": {},
   "source": [
    "### Matching any number type\n",
    "\n",
    "We have a way to detect either integers or decimals above, however to effectively parse with these, we'd have to test any possible number against both and then `parse` based on that. We can combine the two by putting an option `?` on the decimal part of the number"
   ]
  },
  {
   "cell_type": "code",
   "execution_count": 6,
   "metadata": {},
   "outputs": [
    {
     "data": {
      "text/plain": [
       "r\"([+-]?\\d*)?(\\.\\d*)?\""
      ]
     },
     "metadata": {},
     "output_type": "display_data"
    }
   ],
   "source": [
    "num_re = r\"([+-]?\\d*)?(\\.\\d*)?\""
   ]
  },
  {
   "cell_type": "code",
   "execution_count": 7,
   "metadata": {},
   "outputs": [
    {
     "data": {
      "text/plain": [
       "(RegexMatch(\"1234\", 1=\"1234\", 2=nothing), RegexMatch(\"-1234\", 1=\"-1234\", 2=nothing), RegexMatch(\"12.34\", 1=\"12\", 2=\".34\"), RegexMatch(\".1234\", 1=\"\", 2=\".1234\"), RegexMatch(\"123.\", 1=\"123\", 2=\".\"))"
      ]
     },
     "metadata": {},
     "output_type": "display_data"
    }
   ],
   "source": [
    "map(s-> match(num_re, s), (\"1234\", \"-1234\", \"12.34\", \".1234\",\"123.\"))"
   ]
  },
  {
   "cell_type": "code",
   "execution_count": 8,
   "metadata": {},
   "outputs": [
    {
     "data": {
      "text/plain": [
       "RegexMatch(\"12.34\", 1=\"12\", 2=\".34\")"
      ]
     },
     "metadata": {},
     "output_type": "display_data"
    }
   ],
   "source": [
    "match(num_re, \"12.34\")"
   ]
  },
  {
   "cell_type": "code",
   "execution_count": 9,
   "metadata": {},
   "outputs": [],
   "source": []
  },
  {
   "cell_type": "code",
   "execution_count": 10,
   "metadata": {},
   "outputs": [
    {
     "data": {
      "text/plain": [
       "parseIntOrDec (generic function with 1 method)"
      ]
     },
     "metadata": {},
     "output_type": "display_data"
    }
   ],
   "source": [
    "function parseIntOrDec(str::String)\n",
    "  m = match(r\"^([+-]?\\d*)?(\\.\\d*)?$\", str)\n",
    "  m == nothing && throw(ArgumentError(\"The string: $str is not an integer or decimal number\"))\n",
    "  m[2] != nothing ? parse(Float64, \"$(m[1])$(m[2])\") : parse(Int, m[1])\n",
    "end"
   ]
  },
  {
   "cell_type": "code",
   "execution_count": 11,
   "metadata": {},
   "outputs": [
    {
     "data": {
      "text/plain": [
       "1234.0"
      ]
     },
     "metadata": {},
     "output_type": "display_data"
    }
   ],
   "source": [
    "parseIntOrDec(\"1234.\")"
   ]
  },
  {
   "cell_type": "code",
   "execution_count": 12,
   "metadata": {},
   "outputs": [
    {
     "data": {
      "text/plain": [
       "0.1234"
      ]
     },
     "metadata": {},
     "output_type": "display_data"
    }
   ],
   "source": [
    "parseIntOrDec(\".1234\")"
   ]
  },
  {
   "cell_type": "code",
   "execution_count": 13,
   "metadata": {},
   "outputs": [
    {
     "data": {
      "text/plain": [
       "1234"
      ]
     },
     "metadata": {},
     "output_type": "display_data"
    }
   ],
   "source": [
    "parseIntOrDec(\"1234\")"
   ]
  },
  {
   "cell_type": "code",
   "execution_count": 14,
   "metadata": {},
   "outputs": [
    {
     "name": "stdout",
     "output_type": "stream",
     "text": [
      "\u001b[0m\u001b[1mTest Summary:     | \u001b[22m\u001b[32m\u001b[1mPass  \u001b[22m\u001b[39m\u001b[36m\u001b[1mTotal  \u001b[22m\u001b[39m\u001b[0m\u001b[1mTime\u001b[22m\n",
      "Matching Integers | \u001b[32m   6  \u001b[39m\u001b[36m    6  \u001b[39m\u001b[0m0.0s\n",
      "\u001b[0m\u001b[1mTest Summary: | \u001b[22m\u001b[32m\u001b[1mPass  \u001b[22m\u001b[39m\u001b[36m\u001b[1mTotal  \u001b[22m\u001b[39m\u001b[0m\u001b[1mTime\u001b[22m\n",
      "Non-integers  | \u001b[32m   4  \u001b[39m\u001b[36m    4  \u001b[39m\u001b[0m0.0s\n",
      "\u001b[0m\u001b[1mTest Summary:     | \u001b[22m\u001b[32m\u001b[1mPass  \u001b[22m\u001b[39m\u001b[36m\u001b[1mTotal  \u001b[22m\u001b[39m\u001b[0m\u001b[1mTime\u001b[22m\n",
      "Matching Decimals | \u001b[32m  10  \u001b[39m\u001b[36m   10  \u001b[39m\u001b[0m0.0s\n",
      "\u001b[0m\u001b[1mTest Summary: | \u001b[22m\u001b[32m\u001b[1mPass  \u001b[22m\u001b[39m\u001b[36m\u001b[1mTotal  \u001b[22m\u001b[39m\u001b[0m\u001b[1mTime\u001b[22m\n",
      "Non decimals  | \u001b[32m   3  \u001b[39m\u001b[36m    3  \u001b[39m\u001b[0m0.0s\n",
      "\u001b[0m\u001b[1mTest Summary:  | \u001b[22m\u001b[32m\u001b[1mPass  \u001b[22m\u001b[39m\u001b[36m\u001b[1mTotal  \u001b[22m\u001b[39m\u001b[0m\u001b[1mTime\u001b[22m\n",
      "Parse integers | \u001b[32m   6  \u001b[39m\u001b[36m    6  \u001b[39m\u001b[0m0.0s\n",
      "\u001b[0m\u001b[1mTest Summary:  | \u001b[22m\u001b[32m\u001b[1mPass  \u001b[22m\u001b[39m\u001b[36m\u001b[1mTotal  \u001b[22m\u001b[39m\u001b[0m\u001b[1mTime\u001b[22m\n",
      "Parse Decimals | \u001b[32m  10  \u001b[39m\u001b[36m   10  \u001b[39m\u001b[0m0.0s\n"
     ]
    }
   ],
   "source": [
    "include(\"test-numbers.jl\");"
   ]
  },
  {
   "cell_type": "code",
   "execution_count": null,
   "metadata": {},
   "outputs": [],
   "source": []
  }
 ],
 "metadata": {
  "kernelspec": {
   "display_name": "Julia 1.11.1",
   "language": "julia",
   "name": "julia-1.11"
  },
  "language_info": {
   "file_extension": ".jl",
   "mimetype": "application/julia",
   "name": "julia",
   "version": "1.11.1"
  }
 },
 "nbformat": 4,
 "nbformat_minor": 2
}
