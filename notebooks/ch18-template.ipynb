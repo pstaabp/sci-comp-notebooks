{
 "cells": [
  {
   "cell_type": "markdown",
   "metadata": {},
   "source": [
    "## Chapter 18: Probability and Random Numbers\n",
    "\n",
    "This shows some basic probability and random numbers. Let's start with doing some basic probability defintions:"
   ]
  },
  {
   "cell_type": "markdown",
   "metadata": {},
   "source": [
    "#### Definitions\n",
    "* An __experiment__ is something that produces outcomes. \n",
    "* The __sample space__ of an experiment is the set of all possible outcomes."
   ]
  },
  {
   "cell_type": "markdown",
   "metadata": {},
   "source": [
    "#### Example\n",
    "What is the sample space of flipping 3 coins?"
   ]
  },
  {
   "cell_type": "markdown",
   "metadata": {},
   "source": [
    "$\\{HHH,TTT,TTH,THT,HTT,HHT,HTH,THH\\}$"
   ]
  },
  {
   "cell_type": "markdown",
   "metadata": {},
   "source": [
    "#### Defintion\n",
    "An __event__ is a subset of the sample space.\n",
    "\n",
    "#### Example\n",
    "Write down the event of getting 2 heads of the above sample space.\n",
    "\n",
    "$$\\{HHT,HTH,THH\\}$$"
   ]
  },
  {
   "cell_type": "markdown",
   "metadata": {},
   "source": [
    "If the number of elements in a sample space is finite and denoted $n(S)$, then we can find the probability that an event $A$ occurs with\n",
    "$$P(A) = \\frac{n(A)}{n(S)}$$\n",
    "where $n(A)$ returns the number of elements in the set/event $A$.  Note: each element of the sample is equally-likely to occur"
   ]
  },
  {
   "cell_type": "markdown",
   "metadata": {},
   "source": [
    "#### Defintion\n",
    "A __random variable__ is a function from the sample space S to a real number."
   ]
  },
  {
   "cell_type": "markdown",
   "metadata": {},
   "source": [
    "#### Example\n",
    "Consider a 6-sided die.  The sample space is the set of the 6 sides that appear up on a roll.  Let $X$ be the number of dots on each die.  Since $X$ is a function from the sample space to the integers (subset of the reals), $X$ is a random variable.\n"
   ]
  },
  {
   "cell_type": "markdown",
   "metadata": {},
   "source": [
    "#### Example\n",
    "Let the sample space be that of the 3 coin flips from above. Let $X$ be the number of $H$ in each coin flip. $X$ is a random variable."
   ]
  },
  {
   "cell_type": "markdown",
   "metadata": {},
   "source": [
    "#### Example\n",
    "Consider an experiment in which the amount of rain (in either inches or cm) is measured in your hometown on a given day.  The sample space is $\\{ x \\geq 0 \\; | \\; x \\in \\mathbb{R}\\}$ or nonnegative real numbers.  A random variable for this could simply be the amount of rain in the day.  \n"
   ]
  },
  {
   "cell_type": "markdown",
   "metadata": {},
   "source": [
    "#### Defintion\n",
    "If a random variable is discrete, that is, the underlying sample space is discrete, the __probability distribution__ or __probability density function__ or pdf is a function $f(x)$ defined by $p(x) = P(X=x)$ for all $x \\in S$, the sample space. \n"
   ]
  },
  {
   "cell_type": "markdown",
   "metadata": {},
   "source": [
    "#### Example\n",
    "Consider the six-sided die. If the die is fair then the probability of each die coming up are the same.  \n",
    "\n",
    "$$p(x) = 1/6 \\qquad \\text{for all $x \\in \\{1,2,3,4,5,6\\}$.}$$\n"
   ]
  },
  {
   "cell_type": "code",
   "execution_count": null,
   "metadata": {},
   "outputs": [],
   "source": [
    "using CairoMakie\n",
    "CairoMakie.activate!()\n",
    "Makie.inline!(true)"
   ]
  },
  {
   "cell_type": "markdown",
   "metadata": {},
   "source": [
    "Consider a single die and the probability distribution of a single number coming up has the probability 1/6.  This is called the *probability distribution*. The following is a plot of this."
   ]
  },
  {
   "cell_type": "code",
   "execution_count": null,
   "metadata": {},
   "outputs": [],
   "source": [
    "[1//6 for i=1:6]"
   ]
  },
  {
   "cell_type": "code",
   "execution_count": null,
   "metadata": {},
   "outputs": [],
   "source": [
    "barplot(1:6,[1//6 for i=1:6])"
   ]
  },
  {
   "cell_type": "markdown",
   "metadata": {},
   "source": [
    "Let's look at flipping a coin 3 times and counting the number of heads that appear.  We can determine the probability distribution of the number of heads that appear by writing down all possible coin flips:\n",
    "\n",
    "* HHH\n",
    "* HHT\n",
    "* HTH\n",
    "* HTT\n",
    "* THH\n",
    "* THT\n",
    "* TTH\n",
    "* TTT\n",
    "\n",
    "The results show the probability that $n$ heads appear is:\n",
    "\n",
    "* $P(0)=1/8$\n",
    "* $P(1)=3/8$\n",
    "* $P(2)=3/8$\n",
    "* $P(3)=1/8$"
   ]
  },
  {
   "cell_type": "markdown",
   "metadata": {},
   "source": [
    "We can plot the distribution using:"
   ]
  },
  {
   "cell_type": "code",
   "execution_count": null,
   "metadata": {},
   "outputs": [],
   "source": [
    "barplot(0:3, [1/8,3/8,3/8,1/8])"
   ]
  },
  {
   "cell_type": "markdown",
   "metadata": {},
   "source": [
    "### Properties of a Discrete Probability Distribution\n",
    "A function let $x_i$ be the domain of a discrete random variable.  The function $p(x)$ is a probability density function if\n",
    "\n",
    "- $p(X=x_i) \\geq 0$ for all $x_i$.\n",
    "- $p(x_1)+p(x_2) + \\cdots + p(x_n) = 1$\n",
    "\n"
   ]
  },
  {
   "cell_type": "markdown",
   "metadata": {},
   "source": [
    "### Probability Distribution of rolling two dice\n",
    "\n",
    "We know that the probability of rolling a single dice and any number appearing is $1/6$.  The total number of different rolls is 36 and the following table gives the results as a point with the numbers on the two dice:\n",
    "\n",
    "```\n",
    "-------------------------------------------------\n",
    "| (1,1) | (1,2) | (1,3) | (1,4) | (1,5) | (1,6) |\n",
    "-------------------------------------------------\n",
    "| (2,1) | (2,2) | (2,3) | (2,4) | (2,5) | (2,6) |\n",
    "-------------------------------------------------\n",
    "| (3,1) | (3,2) | (3,3) | (3,4) | (3,5) | (3,6) |\n",
    "-------------------------------------------------\n",
    "| (4,1) | (4,2) | (4,3) | (4,4) | (4,5) | (4,6) |\n",
    "-------------------------------------------------\n",
    "| (5,1) | (5,2) | (5,3) | (5,4) | (5,5) | (5,6) |\n",
    "-------------------------------------------------\n",
    "| (6,1) | (6,2) | (6,3) | (6,4) | (6,5) | (6,6) |\n",
    "-------------------------------------------------\n",
    "```\n",
    "\n",
    "If we are seeking a probability distribution the the sum of the numbers on the dice:\n",
    "\n",
    "* $P(2)=1/36$\n",
    "* $P(3)=2/36$\n",
    "* $P(4)=3/36$\n",
    "* $P(5)=4/36$\n",
    "* $P(6)=5/36$\n",
    "* $P(7)=6/36$\n",
    "* $P(8)=5/36$\n",
    "* $P(9)=4/36$\n",
    "* $P(10)=3/36$\n",
    "* $P(11)=2/36$\n",
    "* $P(12)=1/36$\n"
   ]
  },
  {
   "cell_type": "markdown",
   "metadata": {},
   "source": [
    "The following is the distribution of two dice:"
   ]
  },
  {
   "cell_type": "code",
   "execution_count": null,
   "metadata": {},
   "outputs": [],
   "source": [
    "dice2dist = [(6-abs(i-7))//36 for i=2:12]"
   ]
  },
  {
   "cell_type": "code",
   "execution_count": null,
   "metadata": {},
   "outputs": [],
   "source": [
    "fig = Figure()\n",
    "ax = Axis(fig[1,1], xticks=2:2:12 )\n",
    "barplot!(ax, 2:12, dice2dist)\n",
    "fig"
   ]
  },
  {
   "cell_type": "markdown",
   "metadata": {},
   "source": [
    "#### Example\n",
    "Find the probability of rolling at most a 5 on the sum of the dice?"
   ]
  },
  {
   "cell_type": "code",
   "execution_count": null,
   "metadata": {},
   "outputs": [],
   "source": [
    "1/36+2/36+3/36+4/36"
   ]
  },
  {
   "cell_type": "code",
   "execution_count": null,
   "metadata": {},
   "outputs": [],
   "source": [
    "sum(dice2dist[1:4])"
   ]
  },
  {
   "cell_type": "markdown",
   "metadata": {},
   "source": [
    "#### Exercise\n",
    "Find the probability of rolling a 7,8, 9, 10.  Find the probability of rolling an even number?"
   ]
  },
  {
   "cell_type": "code",
   "execution_count": null,
   "metadata": {},
   "outputs": [],
   "source": []
  },
  {
   "cell_type": "code",
   "execution_count": null,
   "metadata": {},
   "outputs": [],
   "source": []
  },
  {
   "cell_type": "markdown",
   "metadata": {},
   "source": [
    "### 18.4: Continuous Random Variables\n",
    "\n",
    "#### Definition\n",
    "If a random variable is not discrete it is called a __continuous random variable__ and generally occurs if the values it takes on are subsets of the real line.\n",
    "\n",
    "#### Examples\n",
    "- The amount of rain in Fitchburg on a given day as we saw above.\n",
    "- The length of time a cell phone battery will last until it “dies.”\n",
    "- The amount of contaminant that a brewery dumps into the Nashua River.\n",
    "\n",
    "#### Calculus of Continuous probability distributions\n",
    "\n",
    "The probability distribution function or __pdf__ is a function, $f$ defined on a set $S$ with the following properties:\n",
    "$$f(x) \\geq 0 \\qquad \\text{for all $x \\in S$}$$\n",
    "$$\\int_S f(x) \\,dx = 1$$\n",
    "\n",
    "where the set $S$ is generally a real interval or the infinite or semi-infinite line. \n",
    "\n",
    "\n",
    "Also, if $f$ is a continuous pdf, then the probability that a random variable $X$ takes on a value in the set $A$ is \n",
    "\n",
    "$$ P(A) = \\int_A f(x) \\, dx$$"
   ]
  },
  {
   "cell_type": "markdown",
   "metadata": {},
   "source": [
    "#### Standard Distibutions"
   ]
  },
  {
   "cell_type": "code",
   "execution_count": 12,
   "metadata": {},
   "outputs": [],
   "source": [
    "using Distributions"
   ]
  },
  {
   "cell_type": "code",
   "execution_count": null,
   "metadata": {},
   "outputs": [],
   "source": [
    "plot(Normal())"
   ]
  },
  {
   "cell_type": "code",
   "execution_count": null,
   "metadata": {},
   "outputs": [],
   "source": [
    "plot(Uniform())"
   ]
  },
  {
   "cell_type": "code",
   "execution_count": null,
   "metadata": {},
   "outputs": [],
   "source": [
    "plot(Uniform(1,4))"
   ]
  },
  {
   "cell_type": "markdown",
   "metadata": {},
   "source": [
    "### The Normal Distribution\n",
    "The normal distribution is the most important continuous distribution.  The pdf has the form:\n",
    "$$f(x \\, | \\, \\mu, \\sigma) = \\frac{1}{\\sqrt{2\\pi \\sigma^2}} e^{-(x-\\mu)^2/(2\\sigma^2)}$$\n",
    "where $\\mu$ and $\\sigma$ are the mean and standard deviations of the distribution"
   ]
  },
  {
   "cell_type": "code",
   "execution_count": null,
   "metadata": {},
   "outputs": [],
   "source": [
    "plot(Normal())"
   ]
  },
  {
   "cell_type": "markdown",
   "metadata": {},
   "source": [
    "The following plots the normal curve with $\\mu=1$ and $\\sigma=0.5$"
   ]
  },
  {
   "cell_type": "code",
   "execution_count": null,
   "metadata": {},
   "outputs": [],
   "source": [
    "plot(Normal(1,0.5))"
   ]
  },
  {
   "cell_type": "markdown",
   "metadata": {},
   "source": [
    "#### Exercise\n",
    "- Plot the normal curves for $\\sigma=1$ and $\\mu=-2,0,2$ on the same axes and make a legend. You can use `plot!` for this."
   ]
  },
  {
   "cell_type": "markdown",
   "metadata": {},
   "source": [
    "#### 18.6: Pseudorandom numbers\n",
    "\n",
    "True random numbers are difficult to find, but a pseudorandom number is generally good enough.  A pseudorandom number is a function that generates a sequence of numbers with properties that we wish for a random number.\n",
    "\n",
    "Consider a sequence of pseudorandom numbers to generate die rolls (uniformly distribution from 1 to 6).   Call the sequence $\\{a_n\\}$. Here are the properties that we wish you have for this: \n",
    "- any number in the range 1 to 6 is equally likely to occur.\n",
    "- Take $N$ random numbers and let $s_n$ be the number of times the\n",
    "  number $n$ occurs. The fraction $s_n/N$ should go to 1/6 in the\n",
    "  limit as $n\\rightarrow \\infty$.\n",
    "-  Knowing the sequence $s_1, s_2, \\ldots, s_k$ does not allow us to\n",
    "  predict $s_{k+1}$\n"
   ]
  },
  {
   "cell_type": "markdown",
   "metadata": {},
   "source": [
    "We will set the seed, so we can have reproducible results in the following way. "
   ]
  },
  {
   "cell_type": "code",
   "execution_count": null,
   "metadata": {},
   "outputs": [],
   "source": [
    "using Random\n",
    "Random.seed!(1234)"
   ]
  },
  {
   "cell_type": "markdown",
   "metadata": {},
   "source": [
    "#### 13.6.2: Simulating the rolling of a die"
   ]
  },
  {
   "cell_type": "markdown",
   "metadata": {},
   "source": [
    "This will roll a die 100 times.  This will select 100 values from 1 to 6. "
   ]
  },
  {
   "cell_type": "code",
   "execution_count": null,
   "metadata": {},
   "outputs": [],
   "source": [
    "S100 = rand(1:6,100)"
   ]
  },
  {
   "cell_type": "markdown",
   "metadata": {},
   "source": [
    "This randomly picks 20 numbers from the array [1,4,8,9,50]"
   ]
  },
  {
   "cell_type": "code",
   "execution_count": null,
   "metadata": {},
   "outputs": [],
   "source": [
    "rand([1,4,8,9,50],20)"
   ]
  },
  {
   "cell_type": "code",
   "execution_count": null,
   "metadata": {},
   "outputs": [],
   "source": []
  }
 ],
 "metadata": {
  "kernelspec": {
   "display_name": "Julia 1.11.1",
   "language": "julia",
   "name": "julia-1.11"
  },
  "language_info": {
   "file_extension": ".jl",
   "mimetype": "application/julia",
   "name": "julia",
   "version": "1.11.1"
  }
 },
 "nbformat": 4,
 "nbformat_minor": 4
}
