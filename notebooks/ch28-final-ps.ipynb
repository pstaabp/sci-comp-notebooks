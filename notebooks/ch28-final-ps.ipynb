{
 "cells": [
  {
   "cell_type": "markdown",
   "metadata": {},
   "source": [
    "## Chapter 28: Data Analysis"
   ]
  },
  {
   "cell_type": "markdown",
   "metadata": {},
   "source": [
    "This chapter covers the introduction to some data analysis.  We will load data from existing datasets (that are from a package), do some plotting and some analysis of the dataset. "
   ]
  },
  {
   "cell_type": "markdown",
   "metadata": {},
   "source": [
    "Let's load the following packages."
   ]
  },
  {
   "cell_type": "code",
   "execution_count": 1,
   "metadata": {},
   "outputs": [],
   "source": [
    "using RDatasets, StatsBase, Statistics, DataFrames"
   ]
  },
  {
   "cell_type": "markdown",
   "metadata": {},
   "source": [
    "The RDatasets package is a bunch of datasets that are built-in to the R language, a statistics language that is quite popular.  The following shows all of the data packages:"
   ]
  },
  {
   "cell_type": "code",
   "execution_count": 2,
   "metadata": {},
   "outputs": [
    {
     "data": {
      "text/html": [
       "<div><div style = \"float: left;\"><span>34×2 DataFrame</span></div><div style = \"float: right;\"><span style = \"font-style: italic;\">9 rows omitted</span></div><div style = \"clear: both;\"></div></div><div class = \"data-frame\" style = \"overflow-x: scroll;\"><table class = \"data-frame\" style = \"margin-bottom: 6px;\"><thead><tr class = \"header\"><th class = \"rowNumber\" style = \"font-weight: bold; text-align: right;\">Row</th><th style = \"text-align: left;\">Package</th><th style = \"text-align: left;\">Title</th></tr><tr class = \"subheader headerLastRow\"><th class = \"rowNumber\" style = \"font-weight: bold; text-align: right;\"></th><th title = \"InlineStrings.String15\" style = \"text-align: left;\">String15</th><th title = \"String\" style = \"text-align: left;\">String</th></tr></thead><tbody><tr><td class = \"rowNumber\" style = \"font-weight: bold; text-align: right;\">1</td><td style = \"text-align: left;\">COUNT</td><td style = \"text-align: left;\">Functions, data and code for count data.</td></tr><tr><td class = \"rowNumber\" style = \"font-weight: bold; text-align: right;\">2</td><td style = \"text-align: left;\">Ecdat</td><td style = \"text-align: left;\">Data sets for econometrics</td></tr><tr><td class = \"rowNumber\" style = \"font-weight: bold; text-align: right;\">3</td><td style = \"text-align: left;\">HSAUR</td><td style = \"text-align: left;\">A Handbook of Statistical Analyses Using R (1st Edition)</td></tr><tr><td class = \"rowNumber\" style = \"font-weight: bold; text-align: right;\">4</td><td style = \"text-align: left;\">HistData</td><td style = \"text-align: left;\">Data sets from the history of statistics and data visualization</td></tr><tr><td class = \"rowNumber\" style = \"font-weight: bold; text-align: right;\">5</td><td style = \"text-align: left;\">ISLR</td><td style = \"text-align: left;\">Data for An Introduction to Statistical Learning with Applications in R</td></tr><tr><td class = \"rowNumber\" style = \"font-weight: bold; text-align: right;\">6</td><td style = \"text-align: left;\">KMsurv</td><td style = \"text-align: left;\">Data sets from Klein and Moeschberger (1997), Survival Analysis</td></tr><tr><td class = \"rowNumber\" style = \"font-weight: bold; text-align: right;\">7</td><td style = \"text-align: left;\">MASS</td><td style = \"text-align: left;\">Support Functions and Datasets for Venables and Ripley&apos;s MASS</td></tr><tr><td class = \"rowNumber\" style = \"font-weight: bold; text-align: right;\">8</td><td style = \"text-align: left;\">SASmixed</td><td style = \"text-align: left;\">Data sets from &quot;SAS System for Mixed Models&quot;</td></tr><tr><td class = \"rowNumber\" style = \"font-weight: bold; text-align: right;\">9</td><td style = \"text-align: left;\">Zelig</td><td style = \"text-align: left;\">Everyone&apos;s Statistical Software</td></tr><tr><td class = \"rowNumber\" style = \"font-weight: bold; text-align: right;\">10</td><td style = \"text-align: left;\">adehabitatLT</td><td style = \"text-align: left;\">Analysis of Animal Movements</td></tr><tr><td class = \"rowNumber\" style = \"font-weight: bold; text-align: right;\">11</td><td style = \"text-align: left;\">boot</td><td style = \"text-align: left;\">Bootstrap Functions (Originally by Angelo Canty for S)</td></tr><tr><td class = \"rowNumber\" style = \"font-weight: bold; text-align: right;\">12</td><td style = \"text-align: left;\">car</td><td style = \"text-align: left;\">Companion to Applied Regression</td></tr><tr><td class = \"rowNumber\" style = \"font-weight: bold; text-align: right;\">13</td><td style = \"text-align: left;\">cluster</td><td style = \"text-align: left;\">Cluster Analysis Extended Rousseeuw et al.</td></tr><tr><td style = \"text-align: right;\">&vellip;</td><td style = \"text-align: right;\">&vellip;</td><td style = \"text-align: right;\">&vellip;</td></tr><tr><td class = \"rowNumber\" style = \"font-weight: bold; text-align: right;\">23</td><td style = \"text-align: left;\">plm</td><td style = \"text-align: left;\">Linear Models for Panel Data</td></tr><tr><td class = \"rowNumber\" style = \"font-weight: bold; text-align: right;\">24</td><td style = \"text-align: left;\">plyr</td><td style = \"text-align: left;\">Tools for splitting, applying and combining data</td></tr><tr><td class = \"rowNumber\" style = \"font-weight: bold; text-align: right;\">25</td><td style = \"text-align: left;\">pscl</td><td style = \"text-align: left;\">Political Science Computational Laboratory, Stanford University</td></tr><tr><td class = \"rowNumber\" style = \"font-weight: bold; text-align: right;\">26</td><td style = \"text-align: left;\">psych</td><td style = \"text-align: left;\">Procedures for Psychological, Psychometric, and Personality Research</td></tr><tr><td class = \"rowNumber\" style = \"font-weight: bold; text-align: right;\">27</td><td style = \"text-align: left;\">quantreg</td><td style = \"text-align: left;\">Quantile Regression</td></tr><tr><td class = \"rowNumber\" style = \"font-weight: bold; text-align: right;\">28</td><td style = \"text-align: left;\">reshape2</td><td style = \"text-align: left;\">Flexibly Reshape Data: A Reboot of the Reshape Package.</td></tr><tr><td class = \"rowNumber\" style = \"font-weight: bold; text-align: right;\">29</td><td style = \"text-align: left;\">robustbase</td><td style = \"text-align: left;\">Basic Robust Statistics</td></tr><tr><td class = \"rowNumber\" style = \"font-weight: bold; text-align: right;\">30</td><td style = \"text-align: left;\">rpart</td><td style = \"text-align: left;\">Recursive Partitioning and Regression Trees</td></tr><tr><td class = \"rowNumber\" style = \"font-weight: bold; text-align: right;\">31</td><td style = \"text-align: left;\">sandwich</td><td style = \"text-align: left;\">Robust Covariance Matrix Estimators</td></tr><tr><td class = \"rowNumber\" style = \"font-weight: bold; text-align: right;\">32</td><td style = \"text-align: left;\">sem</td><td style = \"text-align: left;\">Structural Equation Models</td></tr><tr><td class = \"rowNumber\" style = \"font-weight: bold; text-align: right;\">33</td><td style = \"text-align: left;\">survival</td><td style = \"text-align: left;\">Survival Analysis</td></tr><tr><td class = \"rowNumber\" style = \"font-weight: bold; text-align: right;\">34</td><td style = \"text-align: left;\">vcd</td><td style = \"text-align: left;\">Visualizing Categorical Data</td></tr></tbody></table></div>"
      ],
      "text/latex": [
       "\\begin{tabular}{r|cc}\n",
       "\t& Package & Title\\\\\n",
       "\t\\hline\n",
       "\t& String15 & String\\\\\n",
       "\t\\hline\n",
       "\t1 & COUNT & Functions, data and code for count data. \\\\\n",
       "\t2 & Ecdat & Data sets for econometrics \\\\\n",
       "\t3 & HSAUR & A Handbook of Statistical Analyses Using R (1st Edition) \\\\\n",
       "\t4 & HistData & Data sets from the history of statistics and data visualization \\\\\n",
       "\t5 & ISLR & Data for An Introduction to Statistical Learning with Applications in R \\\\\n",
       "\t6 & KMsurv & Data sets from Klein and Moeschberger (1997), Survival Analysis \\\\\n",
       "\t7 & MASS & Support Functions and Datasets for Venables and Ripley's MASS \\\\\n",
       "\t8 & SASmixed & Data sets from \"SAS System for Mixed Models\" \\\\\n",
       "\t9 & Zelig & Everyone's Statistical Software \\\\\n",
       "\t10 & adehabitatLT & Analysis of Animal Movements \\\\\n",
       "\t11 & boot & Bootstrap Functions (Originally by Angelo Canty for S) \\\\\n",
       "\t12 & car & Companion to Applied Regression \\\\\n",
       "\t13 & cluster & Cluster Analysis Extended Rousseeuw et al. \\\\\n",
       "\t14 & datasets & The R Datasets Package \\\\\n",
       "\t15 & gamair & Datasets used in the book Generalized Additive Models: An Introduction with R \\\\\n",
       "\t16 & gap & Genetic analysis package \\\\\n",
       "\t17 & ggplot2 & An Implementation of the Grammar of Graphics \\\\\n",
       "\t18 & lattice & Lattice Graphics \\\\\n",
       "\t19 & lme4 & Linear mixed-effects models using Eigen and S4 \\\\\n",
       "\t20 & mgcv & Mixed GAM Computation Vehicle with GCV/AIC/REML smoothness estimation \\\\\n",
       "\t21 & mlmRev & Examples from Multilevel Modelling Software Review \\\\\n",
       "\t22 & nlreg & Higher Order Inference for Nonlinear Heteroscedastic Models \\\\\n",
       "\t23 & plm & Linear Models for Panel Data \\\\\n",
       "\t24 & plyr & Tools for splitting, applying and combining data \\\\\n",
       "\t$\\dots$ & $\\dots$ & $\\dots$ \\\\\n",
       "\\end{tabular}\n"
      ],
      "text/plain": [
       "\u001b[1m34×2 DataFrame\u001b[0m\n",
       "\u001b[1m Row \u001b[0m│\u001b[1m Package      \u001b[0m\u001b[1m Title                             \u001b[0m\n",
       "     │\u001b[90m String15     \u001b[0m\u001b[90m String                            \u001b[0m\n",
       "─────┼─────────────────────────────────────────────────\n",
       "   1 │ COUNT         Functions, data and code for cou…\n",
       "   2 │ Ecdat         Data sets for econometrics\n",
       "   3 │ HSAUR         A Handbook of Statistical Analys…\n",
       "   4 │ HistData      Data sets from the history of st…\n",
       "   5 │ ISLR          Data for An Introduction to Stat…\n",
       "   6 │ KMsurv        Data sets from Klein and Moeschb…\n",
       "   7 │ MASS          Support Functions and Datasets f…\n",
       "   8 │ SASmixed      Data sets from \"SAS System for M…\n",
       "  ⋮  │      ⋮                        ⋮\n",
       "  28 │ reshape2      Flexibly Reshape Data: A Reboot …\n",
       "  29 │ robustbase    Basic Robust Statistics\n",
       "  30 │ rpart         Recursive Partitioning and Regre…\n",
       "  31 │ sandwich      Robust Covariance Matrix Estimat…\n",
       "  32 │ sem           Structural Equation Models\n",
       "  33 │ survival      Survival Analysis\n",
       "  34 │ vcd           Visualizing Categorical Data\n",
       "\u001b[36m                                        19 rows omitted\u001b[0m"
      ]
     },
     "metadata": {},
     "output_type": "display_data"
    }
   ],
   "source": [
    "RDatasets.packages()"
   ]
  },
  {
   "cell_type": "markdown",
   "metadata": {},
   "source": [
    "Each package as a set of datasets within it.  Here's the datasets in the `datasets` package. "
   ]
  },
  {
   "cell_type": "code",
   "execution_count": 3,
   "metadata": {},
   "outputs": [
    {
     "data": {
      "text/html": [
       "<div><div style = \"float: left;\"><span>50×5 DataFrame</span></div><div style = \"float: right;\"><span style = \"font-style: italic;\">25 rows omitted</span></div><div style = \"clear: both;\"></div></div><div class = \"data-frame\" style = \"overflow-x: scroll;\"><table class = \"data-frame\" style = \"margin-bottom: 6px;\"><thead><tr class = \"header\"><th class = \"rowNumber\" style = \"font-weight: bold; text-align: right;\">Row</th><th style = \"text-align: left;\">Package</th><th style = \"text-align: left;\">Dataset</th><th style = \"text-align: left;\">Title</th><th style = \"text-align: left;\">Rows</th><th style = \"text-align: left;\">Columns</th></tr><tr class = \"subheader headerLastRow\"><th class = \"rowNumber\" style = \"font-weight: bold; text-align: right;\"></th><th title = \"InlineStrings.String15\" style = \"text-align: left;\">String15</th><th title = \"InlineStrings.String31\" style = \"text-align: left;\">String31</th><th title = \"String\" style = \"text-align: left;\">String</th><th title = \"Int64\" style = \"text-align: left;\">Int64</th><th title = \"Int64\" style = \"text-align: left;\">Int64</th></tr></thead><tbody><tr><td class = \"rowNumber\" style = \"font-weight: bold; text-align: right;\">1</td><td style = \"text-align: left;\">datasets</td><td style = \"text-align: left;\">BOD</td><td style = \"text-align: left;\">Biochemical Oxygen Demand</td><td style = \"text-align: right;\">6</td><td style = \"text-align: right;\">2</td></tr><tr><td class = \"rowNumber\" style = \"font-weight: bold; text-align: right;\">2</td><td style = \"text-align: left;\">datasets</td><td style = \"text-align: left;\">CO2</td><td style = \"text-align: left;\">Carbon Dioxide Uptake in Grass Plants</td><td style = \"text-align: right;\">84</td><td style = \"text-align: right;\">5</td></tr><tr><td class = \"rowNumber\" style = \"font-weight: bold; text-align: right;\">3</td><td style = \"text-align: left;\">datasets</td><td style = \"text-align: left;\">Formaldehyde</td><td style = \"text-align: left;\">Determination of Formaldehyde</td><td style = \"text-align: right;\">6</td><td style = \"text-align: right;\">2</td></tr><tr><td class = \"rowNumber\" style = \"font-weight: bold; text-align: right;\">4</td><td style = \"text-align: left;\">datasets</td><td style = \"text-align: left;\">HairEyeColor</td><td style = \"text-align: left;\">Hair and Eye Color of Statistics Students</td><td style = \"text-align: right;\">32</td><td style = \"text-align: right;\">4</td></tr><tr><td class = \"rowNumber\" style = \"font-weight: bold; text-align: right;\">5</td><td style = \"text-align: left;\">datasets</td><td style = \"text-align: left;\">InsectSprays</td><td style = \"text-align: left;\">Effectiveness of Insect Sprays</td><td style = \"text-align: right;\">72</td><td style = \"text-align: right;\">2</td></tr><tr><td class = \"rowNumber\" style = \"font-weight: bold; text-align: right;\">6</td><td style = \"text-align: left;\">datasets</td><td style = \"text-align: left;\">LifeCycleSavings</td><td style = \"text-align: left;\">Intercountry Life-Cycle Savings Data</td><td style = \"text-align: right;\">50</td><td style = \"text-align: right;\">6</td></tr><tr><td class = \"rowNumber\" style = \"font-weight: bold; text-align: right;\">7</td><td style = \"text-align: left;\">datasets</td><td style = \"text-align: left;\">Loblolly</td><td style = \"text-align: left;\">Growth of Loblolly pine trees</td><td style = \"text-align: right;\">84</td><td style = \"text-align: right;\">4</td></tr><tr><td class = \"rowNumber\" style = \"font-weight: bold; text-align: right;\">8</td><td style = \"text-align: left;\">datasets</td><td style = \"text-align: left;\">OrchardSprays</td><td style = \"text-align: left;\">Potency of Orchard Sprays</td><td style = \"text-align: right;\">64</td><td style = \"text-align: right;\">4</td></tr><tr><td class = \"rowNumber\" style = \"font-weight: bold; text-align: right;\">9</td><td style = \"text-align: left;\">datasets</td><td style = \"text-align: left;\">PlantGrowth</td><td style = \"text-align: left;\">Results from an Experiment on Plant Growth</td><td style = \"text-align: right;\">30</td><td style = \"text-align: right;\">2</td></tr><tr><td class = \"rowNumber\" style = \"font-weight: bold; text-align: right;\">10</td><td style = \"text-align: left;\">datasets</td><td style = \"text-align: left;\">Puromycin</td><td style = \"text-align: left;\">Reaction Velocity of an Enzymatic Reaction</td><td style = \"text-align: right;\">23</td><td style = \"text-align: right;\">3</td></tr><tr><td class = \"rowNumber\" style = \"font-weight: bold; text-align: right;\">11</td><td style = \"text-align: left;\">datasets</td><td style = \"text-align: left;\">Theoph</td><td style = \"text-align: left;\">Pharmacokinetics of Theophylline</td><td style = \"text-align: right;\">132</td><td style = \"text-align: right;\">5</td></tr><tr><td class = \"rowNumber\" style = \"font-weight: bold; text-align: right;\">12</td><td style = \"text-align: left;\">datasets</td><td style = \"text-align: left;\">Titanic</td><td style = \"text-align: left;\">Survival of passengers on the Titanic</td><td style = \"text-align: right;\">32</td><td style = \"text-align: right;\">5</td></tr><tr><td class = \"rowNumber\" style = \"font-weight: bold; text-align: right;\">13</td><td style = \"text-align: left;\">datasets</td><td style = \"text-align: left;\">ToothGrowth</td><td style = \"text-align: left;\">The Effect of Vitamin C on Tooth Growth in Guinea Pigs</td><td style = \"text-align: right;\">60</td><td style = \"text-align: right;\">3</td></tr><tr><td style = \"text-align: right;\">&vellip;</td><td style = \"text-align: right;\">&vellip;</td><td style = \"text-align: right;\">&vellip;</td><td style = \"text-align: right;\">&vellip;</td><td style = \"text-align: right;\">&vellip;</td><td style = \"text-align: right;\">&vellip;</td></tr><tr><td class = \"rowNumber\" style = \"font-weight: bold; text-align: right;\">39</td><td style = \"text-align: left;\">datasets</td><td style = \"text-align: left;\">pressure</td><td style = \"text-align: left;\">Vapor Pressure of Mercury as a Function of Temperature</td><td style = \"text-align: right;\">19</td><td style = \"text-align: right;\">2</td></tr><tr><td class = \"rowNumber\" style = \"font-weight: bold; text-align: right;\">40</td><td style = \"text-align: left;\">datasets</td><td style = \"text-align: left;\">quakes</td><td style = \"text-align: left;\">Locations of Earthquakes off Fiji</td><td style = \"text-align: right;\">1000</td><td style = \"text-align: right;\">5</td></tr><tr><td class = \"rowNumber\" style = \"font-weight: bold; text-align: right;\">41</td><td style = \"text-align: left;\">datasets</td><td style = \"text-align: left;\">randu</td><td style = \"text-align: left;\">Random Numbers from Congruential Generator RANDU</td><td style = \"text-align: right;\">400</td><td style = \"text-align: right;\">3</td></tr><tr><td class = \"rowNumber\" style = \"font-weight: bold; text-align: right;\">42</td><td style = \"text-align: left;\">datasets</td><td style = \"text-align: left;\">rivers</td><td style = \"text-align: left;\">Lengths of Major North American Rivers</td><td style = \"text-align: right;\">141</td><td style = \"text-align: right;\">1</td></tr><tr><td class = \"rowNumber\" style = \"font-weight: bold; text-align: right;\">43</td><td style = \"text-align: left;\">datasets</td><td style = \"text-align: left;\">rock</td><td style = \"text-align: left;\">Measurements on Petroleum Rock Samples</td><td style = \"text-align: right;\">48</td><td style = \"text-align: right;\">4</td></tr><tr><td class = \"rowNumber\" style = \"font-weight: bold; text-align: right;\">44</td><td style = \"text-align: left;\">datasets</td><td style = \"text-align: left;\">sleep</td><td style = \"text-align: left;\">Student&apos;s Sleep Data</td><td style = \"text-align: right;\">20</td><td style = \"text-align: right;\">3</td></tr><tr><td class = \"rowNumber\" style = \"font-weight: bold; text-align: right;\">45</td><td style = \"text-align: left;\">datasets</td><td style = \"text-align: left;\">stackloss</td><td style = \"text-align: left;\">Brownlee&apos;s Stack Loss Plant Data</td><td style = \"text-align: right;\">21</td><td style = \"text-align: right;\">4</td></tr><tr><td class = \"rowNumber\" style = \"font-weight: bold; text-align: right;\">46</td><td style = \"text-align: left;\">datasets</td><td style = \"text-align: left;\">swiss</td><td style = \"text-align: left;\">Swiss Fertility and Socioeconomic Indicators (1888) Data</td><td style = \"text-align: right;\">47</td><td style = \"text-align: right;\">7</td></tr><tr><td class = \"rowNumber\" style = \"font-weight: bold; text-align: right;\">47</td><td style = \"text-align: left;\">datasets</td><td style = \"text-align: left;\">trees</td><td style = \"text-align: left;\">Girth, Height and Volume for Black Cherry Trees</td><td style = \"text-align: right;\">31</td><td style = \"text-align: right;\">3</td></tr><tr><td class = \"rowNumber\" style = \"font-weight: bold; text-align: right;\">48</td><td style = \"text-align: left;\">datasets</td><td style = \"text-align: left;\">volcano</td><td style = \"text-align: left;\">Topographic Information on Auckland&apos;s Maunga Whau Volcano</td><td style = \"text-align: right;\">87</td><td style = \"text-align: right;\">61</td></tr><tr><td class = \"rowNumber\" style = \"font-weight: bold; text-align: right;\">49</td><td style = \"text-align: left;\">datasets</td><td style = \"text-align: left;\">warpbreaks</td><td style = \"text-align: left;\">The Number of Breaks in Yarn during Weaving</td><td style = \"text-align: right;\">54</td><td style = \"text-align: right;\">3</td></tr><tr><td class = \"rowNumber\" style = \"font-weight: bold; text-align: right;\">50</td><td style = \"text-align: left;\">datasets</td><td style = \"text-align: left;\">women</td><td style = \"text-align: left;\">Average Heights and Weights for American Women</td><td style = \"text-align: right;\">15</td><td style = \"text-align: right;\">2</td></tr></tbody></table></div>"
      ],
      "text/latex": [
       "\\begin{tabular}{r|cccc}\n",
       "\t& Package & Dataset & Title & \\\\\n",
       "\t\\hline\n",
       "\t& String15 & String31 & String & \\\\\n",
       "\t\\hline\n",
       "\t1 & datasets & BOD & Biochemical Oxygen Demand & $\\dots$ \\\\\n",
       "\t2 & datasets & CO2 & Carbon Dioxide Uptake in Grass Plants & $\\dots$ \\\\\n",
       "\t3 & datasets & Formaldehyde & Determination of Formaldehyde & $\\dots$ \\\\\n",
       "\t4 & datasets & HairEyeColor & Hair and Eye Color of Statistics Students & $\\dots$ \\\\\n",
       "\t5 & datasets & InsectSprays & Effectiveness of Insect Sprays & $\\dots$ \\\\\n",
       "\t6 & datasets & LifeCycleSavings & Intercountry Life-Cycle Savings Data & $\\dots$ \\\\\n",
       "\t7 & datasets & Loblolly & Growth of Loblolly pine trees & $\\dots$ \\\\\n",
       "\t8 & datasets & OrchardSprays & Potency of Orchard Sprays & $\\dots$ \\\\\n",
       "\t9 & datasets & PlantGrowth & Results from an Experiment on Plant Growth & $\\dots$ \\\\\n",
       "\t10 & datasets & Puromycin & Reaction Velocity of an Enzymatic Reaction & $\\dots$ \\\\\n",
       "\t11 & datasets & Theoph & Pharmacokinetics of Theophylline & $\\dots$ \\\\\n",
       "\t12 & datasets & Titanic & Survival of passengers on the Titanic & $\\dots$ \\\\\n",
       "\t13 & datasets & ToothGrowth & The Effect of Vitamin C on Tooth Growth in Guinea Pigs & $\\dots$ \\\\\n",
       "\t14 & datasets & UCBAdmissions & Student Admissions at UC Berkeley & $\\dots$ \\\\\n",
       "\t15 & datasets & USArrests & Violent Crime Rates by US State & $\\dots$ \\\\\n",
       "\t16 & datasets & USJudgeRatings & Lawyers' Ratings of State Judges in the US Superior Court & $\\dots$ \\\\\n",
       "\t17 & datasets & USPersonalExpenditure & Personal Expenditure Data & $\\dots$ \\\\\n",
       "\t18 & datasets & VADeaths & Death Rates in Virginia (1940) & $\\dots$ \\\\\n",
       "\t19 & datasets & WorldPhones & The World's Telephones & $\\dots$ \\\\\n",
       "\t20 & datasets & airquality & New York Air Quality Measurements & $\\dots$ \\\\\n",
       "\t21 & datasets & anscombe & Anscombe's Quartet of 'Identical' Simple Linear Regressions & $\\dots$ \\\\\n",
       "\t22 & datasets & attenu & The Joyner-Boore Attenuation Data & $\\dots$ \\\\\n",
       "\t23 & datasets & attitude & The Chatterjee-Price Attitude Data & $\\dots$ \\\\\n",
       "\t24 & datasets & cars & Speed and Stopping Distances of Cars & $\\dots$ \\\\\n",
       "\t$\\dots$ & $\\dots$ & $\\dots$ & $\\dots$ &  \\\\\n",
       "\\end{tabular}\n"
      ],
      "text/plain": [
       "\u001b[1m50×5 DataFrame\u001b[0m\n",
       "\u001b[1m Row \u001b[0m│\u001b[1m Package  \u001b[0m\u001b[1m Dataset          \u001b[0m\u001b[1m Title                             \u001b[0m\u001b[1m Rows  \u001b[0m\u001b[1m C\u001b[0m ⋯\n",
       "     │\u001b[90m String15 \u001b[0m\u001b[90m String31         \u001b[0m\u001b[90m String                            \u001b[0m\u001b[90m Int64 \u001b[0m\u001b[90m I\u001b[0m ⋯\n",
       "─────┼──────────────────────────────────────────────────────────────────────────\n",
       "   1 │ datasets  BOD               Biochemical Oxygen Demand              6    ⋯\n",
       "   2 │ datasets  CO2               Carbon Dioxide Uptake in Grass P…     84\n",
       "   3 │ datasets  Formaldehyde      Determination of Formaldehyde          6\n",
       "   4 │ datasets  HairEyeColor      Hair and Eye Color of Statistics…     32\n",
       "   5 │ datasets  InsectSprays      Effectiveness of Insect Sprays        72    ⋯\n",
       "   6 │ datasets  LifeCycleSavings  Intercountry Life-Cycle Savings …     50\n",
       "   7 │ datasets  Loblolly          Growth of Loblolly pine trees         84\n",
       "   8 │ datasets  OrchardSprays     Potency of Orchard Sprays             64\n",
       "  ⋮  │    ⋮             ⋮                          ⋮                    ⋮      ⋱\n",
       "  44 │ datasets  sleep             Student's Sleep Data                  20    ⋯\n",
       "  45 │ datasets  stackloss         Brownlee's Stack Loss Plant Data      21\n",
       "  46 │ datasets  swiss             Swiss Fertility and Socioeconomi…     47\n",
       "  47 │ datasets  trees             Girth, Height and Volume for Bla…     31\n",
       "  48 │ datasets  volcano           Topographic Information on Auckl…     87    ⋯\n",
       "  49 │ datasets  warpbreaks        The Number of Breaks in Yarn dur…     54\n",
       "  50 │ datasets  women             Average Heights and Weights for …     15\n",
       "\u001b[36m                                                    1 column and 35 rows omitted\u001b[0m"
      ]
     },
     "metadata": {},
     "output_type": "display_data"
    }
   ],
   "source": [
    "RDatasets.datasets(\"datasets\")"
   ]
  },
  {
   "cell_type": "markdown",
   "metadata": {},
   "source": [
    "This loads the `iris` dataset from the `datasets` package.  The result is a `DataFrame` and we will see details about this later.  Each column in a `DataFrame` has a particular type, but this is better for general datasets than an array.  The column headers give the name of the column as well as the datatype of the column: "
   ]
  },
  {
   "cell_type": "code",
   "execution_count": 4,
   "metadata": {},
   "outputs": [
    {
     "data": {
      "text/html": [
       "<div><div style = \"float: left;\"><span>150×5 DataFrame</span></div><div style = \"float: right;\"><span style = \"font-style: italic;\">125 rows omitted</span></div><div style = \"clear: both;\"></div></div><div class = \"data-frame\" style = \"overflow-x: scroll;\"><table class = \"data-frame\" style = \"margin-bottom: 6px;\"><thead><tr class = \"header\"><th class = \"rowNumber\" style = \"font-weight: bold; text-align: right;\">Row</th><th style = \"text-align: left;\">SepalLength</th><th style = \"text-align: left;\">SepalWidth</th><th style = \"text-align: left;\">PetalLength</th><th style = \"text-align: left;\">PetalWidth</th><th style = \"text-align: left;\">Species</th></tr><tr class = \"subheader headerLastRow\"><th class = \"rowNumber\" style = \"font-weight: bold; text-align: right;\"></th><th title = \"Float64\" style = \"text-align: left;\">Float64</th><th title = \"Float64\" style = \"text-align: left;\">Float64</th><th title = \"Float64\" style = \"text-align: left;\">Float64</th><th title = \"Float64\" style = \"text-align: left;\">Float64</th><th title = \"CategoricalArrays.CategoricalValue{String, UInt8}\" style = \"text-align: left;\">Cat…</th></tr></thead><tbody><tr><td class = \"rowNumber\" style = \"font-weight: bold; text-align: right;\">1</td><td style = \"text-align: right;\">5.1</td><td style = \"text-align: right;\">3.5</td><td style = \"text-align: right;\">1.4</td><td style = \"text-align: right;\">0.2</td><td style = \"text-align: left;\">setosa</td></tr><tr><td class = \"rowNumber\" style = \"font-weight: bold; text-align: right;\">2</td><td style = \"text-align: right;\">4.9</td><td style = \"text-align: right;\">3.0</td><td style = \"text-align: right;\">1.4</td><td style = \"text-align: right;\">0.2</td><td style = \"text-align: left;\">setosa</td></tr><tr><td class = \"rowNumber\" style = \"font-weight: bold; text-align: right;\">3</td><td style = \"text-align: right;\">4.7</td><td style = \"text-align: right;\">3.2</td><td style = \"text-align: right;\">1.3</td><td style = \"text-align: right;\">0.2</td><td style = \"text-align: left;\">setosa</td></tr><tr><td class = \"rowNumber\" style = \"font-weight: bold; text-align: right;\">4</td><td style = \"text-align: right;\">4.6</td><td style = \"text-align: right;\">3.1</td><td style = \"text-align: right;\">1.5</td><td style = \"text-align: right;\">0.2</td><td style = \"text-align: left;\">setosa</td></tr><tr><td class = \"rowNumber\" style = \"font-weight: bold; text-align: right;\">5</td><td style = \"text-align: right;\">5.0</td><td style = \"text-align: right;\">3.6</td><td style = \"text-align: right;\">1.4</td><td style = \"text-align: right;\">0.2</td><td style = \"text-align: left;\">setosa</td></tr><tr><td class = \"rowNumber\" style = \"font-weight: bold; text-align: right;\">6</td><td style = \"text-align: right;\">5.4</td><td style = \"text-align: right;\">3.9</td><td style = \"text-align: right;\">1.7</td><td style = \"text-align: right;\">0.4</td><td style = \"text-align: left;\">setosa</td></tr><tr><td class = \"rowNumber\" style = \"font-weight: bold; text-align: right;\">7</td><td style = \"text-align: right;\">4.6</td><td style = \"text-align: right;\">3.4</td><td style = \"text-align: right;\">1.4</td><td style = \"text-align: right;\">0.3</td><td style = \"text-align: left;\">setosa</td></tr><tr><td class = \"rowNumber\" style = \"font-weight: bold; text-align: right;\">8</td><td style = \"text-align: right;\">5.0</td><td style = \"text-align: right;\">3.4</td><td style = \"text-align: right;\">1.5</td><td style = \"text-align: right;\">0.2</td><td style = \"text-align: left;\">setosa</td></tr><tr><td class = \"rowNumber\" style = \"font-weight: bold; text-align: right;\">9</td><td style = \"text-align: right;\">4.4</td><td style = \"text-align: right;\">2.9</td><td style = \"text-align: right;\">1.4</td><td style = \"text-align: right;\">0.2</td><td style = \"text-align: left;\">setosa</td></tr><tr><td class = \"rowNumber\" style = \"font-weight: bold; text-align: right;\">10</td><td style = \"text-align: right;\">4.9</td><td style = \"text-align: right;\">3.1</td><td style = \"text-align: right;\">1.5</td><td style = \"text-align: right;\">0.1</td><td style = \"text-align: left;\">setosa</td></tr><tr><td class = \"rowNumber\" style = \"font-weight: bold; text-align: right;\">11</td><td style = \"text-align: right;\">5.4</td><td style = \"text-align: right;\">3.7</td><td style = \"text-align: right;\">1.5</td><td style = \"text-align: right;\">0.2</td><td style = \"text-align: left;\">setosa</td></tr><tr><td class = \"rowNumber\" style = \"font-weight: bold; text-align: right;\">12</td><td style = \"text-align: right;\">4.8</td><td style = \"text-align: right;\">3.4</td><td style = \"text-align: right;\">1.6</td><td style = \"text-align: right;\">0.2</td><td style = \"text-align: left;\">setosa</td></tr><tr><td class = \"rowNumber\" style = \"font-weight: bold; text-align: right;\">13</td><td style = \"text-align: right;\">4.8</td><td style = \"text-align: right;\">3.0</td><td style = \"text-align: right;\">1.4</td><td style = \"text-align: right;\">0.1</td><td style = \"text-align: left;\">setosa</td></tr><tr><td style = \"text-align: right;\">&vellip;</td><td style = \"text-align: right;\">&vellip;</td><td style = \"text-align: right;\">&vellip;</td><td style = \"text-align: right;\">&vellip;</td><td style = \"text-align: right;\">&vellip;</td><td style = \"text-align: right;\">&vellip;</td></tr><tr><td class = \"rowNumber\" style = \"font-weight: bold; text-align: right;\">139</td><td style = \"text-align: right;\">6.0</td><td style = \"text-align: right;\">3.0</td><td style = \"text-align: right;\">4.8</td><td style = \"text-align: right;\">1.8</td><td style = \"text-align: left;\">virginica</td></tr><tr><td class = \"rowNumber\" style = \"font-weight: bold; text-align: right;\">140</td><td style = \"text-align: right;\">6.9</td><td style = \"text-align: right;\">3.1</td><td style = \"text-align: right;\">5.4</td><td style = \"text-align: right;\">2.1</td><td style = \"text-align: left;\">virginica</td></tr><tr><td class = \"rowNumber\" style = \"font-weight: bold; text-align: right;\">141</td><td style = \"text-align: right;\">6.7</td><td style = \"text-align: right;\">3.1</td><td style = \"text-align: right;\">5.6</td><td style = \"text-align: right;\">2.4</td><td style = \"text-align: left;\">virginica</td></tr><tr><td class = \"rowNumber\" style = \"font-weight: bold; text-align: right;\">142</td><td style = \"text-align: right;\">6.9</td><td style = \"text-align: right;\">3.1</td><td style = \"text-align: right;\">5.1</td><td style = \"text-align: right;\">2.3</td><td style = \"text-align: left;\">virginica</td></tr><tr><td class = \"rowNumber\" style = \"font-weight: bold; text-align: right;\">143</td><td style = \"text-align: right;\">5.8</td><td style = \"text-align: right;\">2.7</td><td style = \"text-align: right;\">5.1</td><td style = \"text-align: right;\">1.9</td><td style = \"text-align: left;\">virginica</td></tr><tr><td class = \"rowNumber\" style = \"font-weight: bold; text-align: right;\">144</td><td style = \"text-align: right;\">6.8</td><td style = \"text-align: right;\">3.2</td><td style = \"text-align: right;\">5.9</td><td style = \"text-align: right;\">2.3</td><td style = \"text-align: left;\">virginica</td></tr><tr><td class = \"rowNumber\" style = \"font-weight: bold; text-align: right;\">145</td><td style = \"text-align: right;\">6.7</td><td style = \"text-align: right;\">3.3</td><td style = \"text-align: right;\">5.7</td><td style = \"text-align: right;\">2.5</td><td style = \"text-align: left;\">virginica</td></tr><tr><td class = \"rowNumber\" style = \"font-weight: bold; text-align: right;\">146</td><td style = \"text-align: right;\">6.7</td><td style = \"text-align: right;\">3.0</td><td style = \"text-align: right;\">5.2</td><td style = \"text-align: right;\">2.3</td><td style = \"text-align: left;\">virginica</td></tr><tr><td class = \"rowNumber\" style = \"font-weight: bold; text-align: right;\">147</td><td style = \"text-align: right;\">6.3</td><td style = \"text-align: right;\">2.5</td><td style = \"text-align: right;\">5.0</td><td style = \"text-align: right;\">1.9</td><td style = \"text-align: left;\">virginica</td></tr><tr><td class = \"rowNumber\" style = \"font-weight: bold; text-align: right;\">148</td><td style = \"text-align: right;\">6.5</td><td style = \"text-align: right;\">3.0</td><td style = \"text-align: right;\">5.2</td><td style = \"text-align: right;\">2.0</td><td style = \"text-align: left;\">virginica</td></tr><tr><td class = \"rowNumber\" style = \"font-weight: bold; text-align: right;\">149</td><td style = \"text-align: right;\">6.2</td><td style = \"text-align: right;\">3.4</td><td style = \"text-align: right;\">5.4</td><td style = \"text-align: right;\">2.3</td><td style = \"text-align: left;\">virginica</td></tr><tr><td class = \"rowNumber\" style = \"font-weight: bold; text-align: right;\">150</td><td style = \"text-align: right;\">5.9</td><td style = \"text-align: right;\">3.0</td><td style = \"text-align: right;\">5.1</td><td style = \"text-align: right;\">1.8</td><td style = \"text-align: left;\">virginica</td></tr></tbody></table></div>"
      ],
      "text/latex": [
       "\\begin{tabular}{r|ccccc}\n",
       "\t& SepalLength & SepalWidth & PetalLength & PetalWidth & Species\\\\\n",
       "\t\\hline\n",
       "\t& Float64 & Float64 & Float64 & Float64 & Cat…\\\\\n",
       "\t\\hline\n",
       "\t1 & 5.1 & 3.5 & 1.4 & 0.2 & setosa \\\\\n",
       "\t2 & 4.9 & 3.0 & 1.4 & 0.2 & setosa \\\\\n",
       "\t3 & 4.7 & 3.2 & 1.3 & 0.2 & setosa \\\\\n",
       "\t4 & 4.6 & 3.1 & 1.5 & 0.2 & setosa \\\\\n",
       "\t5 & 5.0 & 3.6 & 1.4 & 0.2 & setosa \\\\\n",
       "\t6 & 5.4 & 3.9 & 1.7 & 0.4 & setosa \\\\\n",
       "\t7 & 4.6 & 3.4 & 1.4 & 0.3 & setosa \\\\\n",
       "\t8 & 5.0 & 3.4 & 1.5 & 0.2 & setosa \\\\\n",
       "\t9 & 4.4 & 2.9 & 1.4 & 0.2 & setosa \\\\\n",
       "\t10 & 4.9 & 3.1 & 1.5 & 0.1 & setosa \\\\\n",
       "\t11 & 5.4 & 3.7 & 1.5 & 0.2 & setosa \\\\\n",
       "\t12 & 4.8 & 3.4 & 1.6 & 0.2 & setosa \\\\\n",
       "\t13 & 4.8 & 3.0 & 1.4 & 0.1 & setosa \\\\\n",
       "\t14 & 4.3 & 3.0 & 1.1 & 0.1 & setosa \\\\\n",
       "\t15 & 5.8 & 4.0 & 1.2 & 0.2 & setosa \\\\\n",
       "\t16 & 5.7 & 4.4 & 1.5 & 0.4 & setosa \\\\\n",
       "\t17 & 5.4 & 3.9 & 1.3 & 0.4 & setosa \\\\\n",
       "\t18 & 5.1 & 3.5 & 1.4 & 0.3 & setosa \\\\\n",
       "\t19 & 5.7 & 3.8 & 1.7 & 0.3 & setosa \\\\\n",
       "\t20 & 5.1 & 3.8 & 1.5 & 0.3 & setosa \\\\\n",
       "\t21 & 5.4 & 3.4 & 1.7 & 0.2 & setosa \\\\\n",
       "\t22 & 5.1 & 3.7 & 1.5 & 0.4 & setosa \\\\\n",
       "\t23 & 4.6 & 3.6 & 1.0 & 0.2 & setosa \\\\\n",
       "\t24 & 5.1 & 3.3 & 1.7 & 0.5 & setosa \\\\\n",
       "\t$\\dots$ & $\\dots$ & $\\dots$ & $\\dots$ & $\\dots$ & $\\dots$ \\\\\n",
       "\\end{tabular}\n"
      ],
      "text/plain": [
       "\u001b[1m150×5 DataFrame\u001b[0m\n",
       "\u001b[1m Row \u001b[0m│\u001b[1m SepalLength \u001b[0m\u001b[1m SepalWidth \u001b[0m\u001b[1m PetalLength \u001b[0m\u001b[1m PetalWidth \u001b[0m\u001b[1m Species   \u001b[0m\n",
       "     │\u001b[90m Float64     \u001b[0m\u001b[90m Float64    \u001b[0m\u001b[90m Float64     \u001b[0m\u001b[90m Float64    \u001b[0m\u001b[90m Cat…      \u001b[0m\n",
       "─────┼─────────────────────────────────────────────────────────────\n",
       "   1 │         5.1         3.5          1.4         0.2  setosa\n",
       "   2 │         4.9         3.0          1.4         0.2  setosa\n",
       "   3 │         4.7         3.2          1.3         0.2  setosa\n",
       "   4 │         4.6         3.1          1.5         0.2  setosa\n",
       "   5 │         5.0         3.6          1.4         0.2  setosa\n",
       "   6 │         5.4         3.9          1.7         0.4  setosa\n",
       "   7 │         4.6         3.4          1.4         0.3  setosa\n",
       "   8 │         5.0         3.4          1.5         0.2  setosa\n",
       "  ⋮  │      ⋮           ⋮            ⋮           ⋮           ⋮\n",
       " 144 │         6.8         3.2          5.9         2.3  virginica\n",
       " 145 │         6.7         3.3          5.7         2.5  virginica\n",
       " 146 │         6.7         3.0          5.2         2.3  virginica\n",
       " 147 │         6.3         2.5          5.0         1.9  virginica\n",
       " 148 │         6.5         3.0          5.2         2.0  virginica\n",
       " 149 │         6.2         3.4          5.4         2.3  virginica\n",
       " 150 │         5.9         3.0          5.1         1.8  virginica\n",
       "\u001b[36m                                                   135 rows omitted\u001b[0m"
      ]
     },
     "metadata": {},
     "output_type": "display_data"
    }
   ],
   "source": [
    "iris = RDatasets.dataset(\"datasets\", \"iris\")"
   ]
  },
  {
   "cell_type": "markdown",
   "metadata": {},
   "source": [
    "#### 28.2: Accessing the DataFrame"
   ]
  },
  {
   "cell_type": "markdown",
   "metadata": {},
   "source": [
    "We can get a column by using brackets and the name of the column (preceded with a colon).  The result is a 1-D array of the type give by the column type. "
   ]
  },
  {
   "cell_type": "code",
   "execution_count": 5,
   "metadata": {},
   "outputs": [
    {
     "data": {
      "text/plain": [
       "150-element Vector{Float64}:\n",
       " 3.5\n",
       " 3.0\n",
       " 3.2\n",
       " 3.1\n",
       " 3.6\n",
       " 3.9\n",
       " 3.4\n",
       " 3.4\n",
       " 2.9\n",
       " 3.1\n",
       " ⋮\n",
       " 3.1\n",
       " 2.7\n",
       " 3.2\n",
       " 3.3\n",
       " 3.0\n",
       " 2.5\n",
       " 3.0\n",
       " 3.4\n",
       " 3.0"
      ]
     },
     "metadata": {},
     "output_type": "display_data"
    }
   ],
   "source": [
    "iris[!,:SepalWidth]"
   ]
  },
  {
   "cell_type": "markdown",
   "metadata": {},
   "source": [
    "We can also select the column by number."
   ]
  },
  {
   "cell_type": "code",
   "execution_count": 6,
   "metadata": {},
   "outputs": [
    {
     "data": {
      "text/plain": [
       "150-element Vector{Float64}:\n",
       " 3.5\n",
       " 3.0\n",
       " 3.2\n",
       " 3.1\n",
       " 3.6\n",
       " 3.9\n",
       " 3.4\n",
       " 3.4\n",
       " 2.9\n",
       " 3.1\n",
       " ⋮\n",
       " 3.1\n",
       " 2.7\n",
       " 3.2\n",
       " 3.3\n",
       " 3.0\n",
       " 2.5\n",
       " 3.0\n",
       " 3.4\n",
       " 3.0"
      ]
     },
     "metadata": {},
     "output_type": "display_data"
    }
   ],
   "source": [
    "iris[!,2]"
   ]
  },
  {
   "cell_type": "markdown",
   "metadata": {},
   "source": [
    "We can also access a column with the dataset.column notation"
   ]
  },
  {
   "cell_type": "code",
   "execution_count": 7,
   "metadata": {},
   "outputs": [
    {
     "data": {
      "text/plain": [
       "150-element Vector{Float64}:\n",
       " 3.5\n",
       " 3.0\n",
       " 3.2\n",
       " 3.1\n",
       " 3.6\n",
       " 3.9\n",
       " 3.4\n",
       " 3.4\n",
       " 2.9\n",
       " 3.1\n",
       " ⋮\n",
       " 3.1\n",
       " 2.7\n",
       " 3.2\n",
       " 3.3\n",
       " 3.0\n",
       " 2.5\n",
       " 3.0\n",
       " 3.4\n",
       " 3.0"
      ]
     },
     "metadata": {},
     "output_type": "display_data"
    }
   ],
   "source": [
    "iris.SepalWidth"
   ]
  },
  {
   "cell_type": "markdown",
   "metadata": {},
   "source": [
    "If you only want part of a column, we can use a range to access the desired rows."
   ]
  },
  {
   "cell_type": "code",
   "execution_count": 8,
   "metadata": {},
   "outputs": [
    {
     "data": {
      "text/plain": [
       "10-element Vector{Float64}:\n",
       " 3.7\n",
       " 3.4\n",
       " 3.0\n",
       " 3.0\n",
       " 4.0\n",
       " 4.4\n",
       " 3.9\n",
       " 3.5\n",
       " 3.8\n",
       " 3.8"
      ]
     },
     "metadata": {},
     "output_type": "display_data"
    }
   ],
   "source": [
    "iris[11:20,:SepalWidth]"
   ]
  },
  {
   "cell_type": "code",
   "execution_count": 31,
   "metadata": {},
   "outputs": [
    {
     "data": {
      "text/plain": [
       "10-element Vector{Float64}:\n",
       " 3.7\n",
       " 3.4\n",
       " 3.0\n",
       " 3.0\n",
       " 4.0\n",
       " 4.4\n",
       " 3.9\n",
       " 3.5\n",
       " 3.8\n",
       " 3.8"
      ]
     },
     "metadata": {},
     "output_type": "display_data"
    }
   ],
   "source": [
    "iris.SepalWidth[11:20]"
   ]
  },
  {
   "cell_type": "markdown",
   "metadata": {},
   "source": [
    "And other subsettings like as arrays work as well:"
   ]
  },
  {
   "cell_type": "code",
   "execution_count": 9,
   "metadata": {},
   "outputs": [
    {
     "data": {
      "text/plain": [
       "75-element Vector{Float64}:\n",
       " 0.2\n",
       " 0.2\n",
       " 0.2\n",
       " 0.3\n",
       " 0.2\n",
       " 0.2\n",
       " 0.1\n",
       " 0.2\n",
       " 0.4\n",
       " 0.3\n",
       " ⋮\n",
       " 2.2\n",
       " 1.4\n",
       " 2.4\n",
       " 1.8\n",
       " 2.4\n",
       " 1.9\n",
       " 2.5\n",
       " 1.9\n",
       " 2.3"
      ]
     },
     "metadata": {},
     "output_type": "display_data"
    }
   ],
   "source": [
    "iris.PetalWidth[1:2:end]"
   ]
  },
  {
   "cell_type": "markdown",
   "metadata": {},
   "source": [
    "#### Common functions of DataFrames"
   ]
  },
  {
   "cell_type": "markdown",
   "metadata": {},
   "source": [
    "This is the size of the DataFrame.  this is similar to the `size` function for an array.  This shows that there are 150 rows and 5 columns. "
   ]
  },
  {
   "cell_type": "code",
   "execution_count": 10,
   "metadata": {},
   "outputs": [
    {
     "data": {
      "text/plain": [
       "(150, 5)"
      ]
     },
     "metadata": {},
     "output_type": "display_data"
    }
   ],
   "source": [
    "size(iris)"
   ]
  },
  {
   "cell_type": "markdown",
   "metadata": {},
   "source": [
    "Here are the column names:"
   ]
  },
  {
   "cell_type": "code",
   "execution_count": 11,
   "metadata": {},
   "outputs": [
    {
     "data": {
      "text/plain": [
       "5-element Vector{String}:\n",
       " \"SepalLength\"\n",
       " \"SepalWidth\"\n",
       " \"PetalLength\"\n",
       " \"PetalWidth\"\n",
       " \"Species\""
      ]
     },
     "metadata": {},
     "output_type": "display_data"
    }
   ],
   "source": [
    "names(iris)"
   ]
  },
  {
   "cell_type": "markdown",
   "metadata": {},
   "source": [
    "Here are the column types.  Note that the last one is a Categorical Value (since there are only 3 different values).  This runs the built-in function `eltype` over each of the columns.  The `.` is broadcasting over the columns."
   ]
  },
  {
   "cell_type": "code",
   "execution_count": 12,
   "metadata": {},
   "outputs": [
    {
     "data": {
      "text/plain": [
       "5-element Vector{DataType}:\n",
       " Float64\n",
       " Float64\n",
       " Float64\n",
       " Float64\n",
       " CategoricalArrays.CategoricalValue{String, UInt8}"
      ]
     },
     "metadata": {},
     "output_type": "display_data"
    }
   ],
   "source": [
    "eltype.(eachcol(iris))"
   ]
  },
  {
   "cell_type": "markdown",
   "metadata": {},
   "source": [
    "The first few rows of a DataFrame"
   ]
  },
  {
   "cell_type": "code",
   "execution_count": 15,
   "metadata": {},
   "outputs": [
    {
     "data": {
      "text/html": [
       "<div><div style = \"float: left;\"><span>5×5 DataFrame</span></div><div style = \"clear: both;\"></div></div><div class = \"data-frame\" style = \"overflow-x: scroll;\"><table class = \"data-frame\" style = \"margin-bottom: 6px;\"><thead><tr class = \"header\"><th class = \"rowNumber\" style = \"font-weight: bold; text-align: right;\">Row</th><th style = \"text-align: left;\">SepalLength</th><th style = \"text-align: left;\">SepalWidth</th><th style = \"text-align: left;\">PetalLength</th><th style = \"text-align: left;\">PetalWidth</th><th style = \"text-align: left;\">Species</th></tr><tr class = \"subheader headerLastRow\"><th class = \"rowNumber\" style = \"font-weight: bold; text-align: right;\"></th><th title = \"Float64\" style = \"text-align: left;\">Float64</th><th title = \"Float64\" style = \"text-align: left;\">Float64</th><th title = \"Float64\" style = \"text-align: left;\">Float64</th><th title = \"Float64\" style = \"text-align: left;\">Float64</th><th title = \"CategoricalArrays.CategoricalValue{String, UInt8}\" style = \"text-align: left;\">Cat…</th></tr></thead><tbody><tr><td class = \"rowNumber\" style = \"font-weight: bold; text-align: right;\">1</td><td style = \"text-align: right;\">5.1</td><td style = \"text-align: right;\">3.5</td><td style = \"text-align: right;\">1.4</td><td style = \"text-align: right;\">0.2</td><td style = \"text-align: left;\">setosa</td></tr><tr><td class = \"rowNumber\" style = \"font-weight: bold; text-align: right;\">2</td><td style = \"text-align: right;\">4.9</td><td style = \"text-align: right;\">3.0</td><td style = \"text-align: right;\">1.4</td><td style = \"text-align: right;\">0.2</td><td style = \"text-align: left;\">setosa</td></tr><tr><td class = \"rowNumber\" style = \"font-weight: bold; text-align: right;\">3</td><td style = \"text-align: right;\">4.7</td><td style = \"text-align: right;\">3.2</td><td style = \"text-align: right;\">1.3</td><td style = \"text-align: right;\">0.2</td><td style = \"text-align: left;\">setosa</td></tr><tr><td class = \"rowNumber\" style = \"font-weight: bold; text-align: right;\">4</td><td style = \"text-align: right;\">4.6</td><td style = \"text-align: right;\">3.1</td><td style = \"text-align: right;\">1.5</td><td style = \"text-align: right;\">0.2</td><td style = \"text-align: left;\">setosa</td></tr><tr><td class = \"rowNumber\" style = \"font-weight: bold; text-align: right;\">5</td><td style = \"text-align: right;\">5.0</td><td style = \"text-align: right;\">3.6</td><td style = \"text-align: right;\">1.4</td><td style = \"text-align: right;\">0.2</td><td style = \"text-align: left;\">setosa</td></tr></tbody></table></div>"
      ],
      "text/latex": [
       "\\begin{tabular}{r|ccccc}\n",
       "\t& SepalLength & SepalWidth & PetalLength & PetalWidth & Species\\\\\n",
       "\t\\hline\n",
       "\t& Float64 & Float64 & Float64 & Float64 & Cat…\\\\\n",
       "\t\\hline\n",
       "\t1 & 5.1 & 3.5 & 1.4 & 0.2 & setosa \\\\\n",
       "\t2 & 4.9 & 3.0 & 1.4 & 0.2 & setosa \\\\\n",
       "\t3 & 4.7 & 3.2 & 1.3 & 0.2 & setosa \\\\\n",
       "\t4 & 4.6 & 3.1 & 1.5 & 0.2 & setosa \\\\\n",
       "\t5 & 5.0 & 3.6 & 1.4 & 0.2 & setosa \\\\\n",
       "\\end{tabular}\n"
      ],
      "text/plain": [
       "\u001b[1m5×5 DataFrame\u001b[0m\n",
       "\u001b[1m Row \u001b[0m│\u001b[1m SepalLength \u001b[0m\u001b[1m SepalWidth \u001b[0m\u001b[1m PetalLength \u001b[0m\u001b[1m PetalWidth \u001b[0m\u001b[1m Species \u001b[0m\n",
       "     │\u001b[90m Float64     \u001b[0m\u001b[90m Float64    \u001b[0m\u001b[90m Float64     \u001b[0m\u001b[90m Float64    \u001b[0m\u001b[90m Cat…    \u001b[0m\n",
       "─────┼───────────────────────────────────────────────────────────\n",
       "   1 │         5.1         3.5          1.4         0.2  setosa\n",
       "   2 │         4.9         3.0          1.4         0.2  setosa\n",
       "   3 │         4.7         3.2          1.3         0.2  setosa\n",
       "   4 │         4.6         3.1          1.5         0.2  setosa\n",
       "   5 │         5.0         3.6          1.4         0.2  setosa"
      ]
     },
     "metadata": {},
     "output_type": "display_data"
    }
   ],
   "source": [
    "first(iris,5)"
   ]
  },
  {
   "cell_type": "markdown",
   "metadata": {},
   "source": [
    "And the last 5 rows:"
   ]
  },
  {
   "cell_type": "code",
   "execution_count": 16,
   "metadata": {},
   "outputs": [
    {
     "data": {
      "text/html": [
       "<div><div style = \"float: left;\"><span>5×5 DataFrame</span></div><div style = \"clear: both;\"></div></div><div class = \"data-frame\" style = \"overflow-x: scroll;\"><table class = \"data-frame\" style = \"margin-bottom: 6px;\"><thead><tr class = \"header\"><th class = \"rowNumber\" style = \"font-weight: bold; text-align: right;\">Row</th><th style = \"text-align: left;\">SepalLength</th><th style = \"text-align: left;\">SepalWidth</th><th style = \"text-align: left;\">PetalLength</th><th style = \"text-align: left;\">PetalWidth</th><th style = \"text-align: left;\">Species</th></tr><tr class = \"subheader headerLastRow\"><th class = \"rowNumber\" style = \"font-weight: bold; text-align: right;\"></th><th title = \"Float64\" style = \"text-align: left;\">Float64</th><th title = \"Float64\" style = \"text-align: left;\">Float64</th><th title = \"Float64\" style = \"text-align: left;\">Float64</th><th title = \"Float64\" style = \"text-align: left;\">Float64</th><th title = \"CategoricalArrays.CategoricalValue{String, UInt8}\" style = \"text-align: left;\">Cat…</th></tr></thead><tbody><tr><td class = \"rowNumber\" style = \"font-weight: bold; text-align: right;\">1</td><td style = \"text-align: right;\">6.7</td><td style = \"text-align: right;\">3.0</td><td style = \"text-align: right;\">5.2</td><td style = \"text-align: right;\">2.3</td><td style = \"text-align: left;\">virginica</td></tr><tr><td class = \"rowNumber\" style = \"font-weight: bold; text-align: right;\">2</td><td style = \"text-align: right;\">6.3</td><td style = \"text-align: right;\">2.5</td><td style = \"text-align: right;\">5.0</td><td style = \"text-align: right;\">1.9</td><td style = \"text-align: left;\">virginica</td></tr><tr><td class = \"rowNumber\" style = \"font-weight: bold; text-align: right;\">3</td><td style = \"text-align: right;\">6.5</td><td style = \"text-align: right;\">3.0</td><td style = \"text-align: right;\">5.2</td><td style = \"text-align: right;\">2.0</td><td style = \"text-align: left;\">virginica</td></tr><tr><td class = \"rowNumber\" style = \"font-weight: bold; text-align: right;\">4</td><td style = \"text-align: right;\">6.2</td><td style = \"text-align: right;\">3.4</td><td style = \"text-align: right;\">5.4</td><td style = \"text-align: right;\">2.3</td><td style = \"text-align: left;\">virginica</td></tr><tr><td class = \"rowNumber\" style = \"font-weight: bold; text-align: right;\">5</td><td style = \"text-align: right;\">5.9</td><td style = \"text-align: right;\">3.0</td><td style = \"text-align: right;\">5.1</td><td style = \"text-align: right;\">1.8</td><td style = \"text-align: left;\">virginica</td></tr></tbody></table></div>"
      ],
      "text/latex": [
       "\\begin{tabular}{r|ccccc}\n",
       "\t& SepalLength & SepalWidth & PetalLength & PetalWidth & Species\\\\\n",
       "\t\\hline\n",
       "\t& Float64 & Float64 & Float64 & Float64 & Cat…\\\\\n",
       "\t\\hline\n",
       "\t1 & 6.7 & 3.0 & 5.2 & 2.3 & virginica \\\\\n",
       "\t2 & 6.3 & 2.5 & 5.0 & 1.9 & virginica \\\\\n",
       "\t3 & 6.5 & 3.0 & 5.2 & 2.0 & virginica \\\\\n",
       "\t4 & 6.2 & 3.4 & 5.4 & 2.3 & virginica \\\\\n",
       "\t5 & 5.9 & 3.0 & 5.1 & 1.8 & virginica \\\\\n",
       "\\end{tabular}\n"
      ],
      "text/plain": [
       "\u001b[1m5×5 DataFrame\u001b[0m\n",
       "\u001b[1m Row \u001b[0m│\u001b[1m SepalLength \u001b[0m\u001b[1m SepalWidth \u001b[0m\u001b[1m PetalLength \u001b[0m\u001b[1m PetalWidth \u001b[0m\u001b[1m Species   \u001b[0m\n",
       "     │\u001b[90m Float64     \u001b[0m\u001b[90m Float64    \u001b[0m\u001b[90m Float64     \u001b[0m\u001b[90m Float64    \u001b[0m\u001b[90m Cat…      \u001b[0m\n",
       "─────┼─────────────────────────────────────────────────────────────\n",
       "   1 │         6.7         3.0          5.2         2.3  virginica\n",
       "   2 │         6.3         2.5          5.0         1.9  virginica\n",
       "   3 │         6.5         3.0          5.2         2.0  virginica\n",
       "   4 │         6.2         3.4          5.4         2.3  virginica\n",
       "   5 │         5.9         3.0          5.1         1.8  virginica"
      ]
     },
     "metadata": {},
     "output_type": "display_data"
    }
   ],
   "source": [
    "last(iris,5)"
   ]
  },
  {
   "cell_type": "markdown",
   "metadata": {},
   "source": [
    "### Basic Statistics"
   ]
  },
  {
   "cell_type": "markdown",
   "metadata": {},
   "source": [
    "The `describe` function gives basic information about numerical variables with include mean, min, median, max and the number of missing values as well as the type.  Note: we will see missing values later in the chapter."
   ]
  },
  {
   "cell_type": "code",
   "execution_count": 13,
   "metadata": {},
   "outputs": [
    {
     "data": {
      "text/html": [
       "<div><div style = \"float: left;\"><span>5×7 DataFrame</span></div><div style = \"clear: both;\"></div></div><div class = \"data-frame\" style = \"overflow-x: scroll;\"><table class = \"data-frame\" style = \"margin-bottom: 6px;\"><thead><tr class = \"header\"><th class = \"rowNumber\" style = \"font-weight: bold; text-align: right;\">Row</th><th style = \"text-align: left;\">variable</th><th style = \"text-align: left;\">mean</th><th style = \"text-align: left;\">min</th><th style = \"text-align: left;\">median</th><th style = \"text-align: left;\">max</th><th style = \"text-align: left;\">nmissing</th><th style = \"text-align: left;\">eltype</th></tr><tr class = \"subheader headerLastRow\"><th class = \"rowNumber\" style = \"font-weight: bold; text-align: right;\"></th><th title = \"Symbol\" style = \"text-align: left;\">Symbol</th><th title = \"Union{Nothing, Float64}\" style = \"text-align: left;\">Union…</th><th title = \"Any\" style = \"text-align: left;\">Any</th><th title = \"Union{Nothing, Float64}\" style = \"text-align: left;\">Union…</th><th title = \"Any\" style = \"text-align: left;\">Any</th><th title = \"Int64\" style = \"text-align: left;\">Int64</th><th title = \"DataType\" style = \"text-align: left;\">DataType</th></tr></thead><tbody><tr><td class = \"rowNumber\" style = \"font-weight: bold; text-align: right;\">1</td><td style = \"text-align: left;\">SepalLength</td><td style = \"text-align: left;\">5.84333</td><td style = \"text-align: left;\">4.3</td><td style = \"text-align: left;\">5.8</td><td style = \"text-align: left;\">7.9</td><td style = \"text-align: right;\">0</td><td style = \"text-align: left;\">Float64</td></tr><tr><td class = \"rowNumber\" style = \"font-weight: bold; text-align: right;\">2</td><td style = \"text-align: left;\">SepalWidth</td><td style = \"text-align: left;\">3.05733</td><td style = \"text-align: left;\">2.0</td><td style = \"text-align: left;\">3.0</td><td style = \"text-align: left;\">4.4</td><td style = \"text-align: right;\">0</td><td style = \"text-align: left;\">Float64</td></tr><tr><td class = \"rowNumber\" style = \"font-weight: bold; text-align: right;\">3</td><td style = \"text-align: left;\">PetalLength</td><td style = \"text-align: left;\">3.758</td><td style = \"text-align: left;\">1.0</td><td style = \"text-align: left;\">4.35</td><td style = \"text-align: left;\">6.9</td><td style = \"text-align: right;\">0</td><td style = \"text-align: left;\">Float64</td></tr><tr><td class = \"rowNumber\" style = \"font-weight: bold; text-align: right;\">4</td><td style = \"text-align: left;\">PetalWidth</td><td style = \"text-align: left;\">1.19933</td><td style = \"text-align: left;\">0.1</td><td style = \"text-align: left;\">1.3</td><td style = \"text-align: left;\">2.5</td><td style = \"text-align: right;\">0</td><td style = \"text-align: left;\">Float64</td></tr><tr><td class = \"rowNumber\" style = \"font-weight: bold; text-align: right;\">5</td><td style = \"text-align: left;\">Species</td><td style = \"font-style: italic; text-align: left;\"></td><td style = \"text-align: left;\">setosa</td><td style = \"font-style: italic; text-align: left;\"></td><td style = \"text-align: left;\">virginica</td><td style = \"text-align: right;\">0</td><td style = \"text-align: left;\">CategoricalValue{String, UInt8}</td></tr></tbody></table></div>"
      ],
      "text/latex": [
       "\\begin{tabular}{r|ccccccc}\n",
       "\t& variable & mean & min & median & max & nmissing & eltype\\\\\n",
       "\t\\hline\n",
       "\t& Symbol & Union… & Any & Union… & Any & Int64 & DataType\\\\\n",
       "\t\\hline\n",
       "\t1 & SepalLength & 5.84333 & 4.3 & 5.8 & 7.9 & 0 & Float64 \\\\\n",
       "\t2 & SepalWidth & 3.05733 & 2.0 & 3.0 & 4.4 & 0 & Float64 \\\\\n",
       "\t3 & PetalLength & 3.758 & 1.0 & 4.35 & 6.9 & 0 & Float64 \\\\\n",
       "\t4 & PetalWidth & 1.19933 & 0.1 & 1.3 & 2.5 & 0 & Float64 \\\\\n",
       "\t5 & Species &  & setosa &  & virginica & 0 & CategoricalValue\\{String, UInt8\\} \\\\\n",
       "\\end{tabular}\n"
      ],
      "text/plain": [
       "\u001b[1m5×7 DataFrame\u001b[0m\n",
       "\u001b[1m Row \u001b[0m│\u001b[1m variable    \u001b[0m\u001b[1m mean    \u001b[0m\u001b[1m min    \u001b[0m\u001b[1m median \u001b[0m\u001b[1m max       \u001b[0m\u001b[1m nmissing \u001b[0m\u001b[1m eltype      \u001b[0m ⋯\n",
       "     │\u001b[90m Symbol      \u001b[0m\u001b[90m Union…  \u001b[0m\u001b[90m Any    \u001b[0m\u001b[90m Union… \u001b[0m\u001b[90m Any       \u001b[0m\u001b[90m Int64    \u001b[0m\u001b[90m DataType    \u001b[0m ⋯\n",
       "─────┼──────────────────────────────────────────────────────────────────────────\n",
       "   1 │ SepalLength  5.84333  4.3     5.8     7.9               0  Float64      ⋯\n",
       "   2 │ SepalWidth   3.05733  2.0     3.0     4.4               0  Float64\n",
       "   3 │ PetalLength  3.758    1.0     4.35    6.9               0  Float64\n",
       "   4 │ PetalWidth   1.19933  0.1     1.3     2.5               0  Float64\n",
       "   5 │ Species     \u001b[90m         \u001b[0m setosa \u001b[90m        \u001b[0m virginica         0  CategoricalV ⋯\n",
       "\u001b[36m                                                                1 column omitted\u001b[0m"
      ]
     },
     "metadata": {},
     "output_type": "display_data"
    }
   ],
   "source": [
    "describe(iris)"
   ]
  },
  {
   "cell_type": "code",
   "execution_count": 14,
   "metadata": {},
   "outputs": [
    {
     "data": {
      "text/plain": [
       "(3.0573333333333332, 0.4358662849366982)"
      ]
     },
     "metadata": {},
     "output_type": "display_data"
    }
   ],
   "source": [
    "mean(iris.SepalWidth), std(iris.SepalWidth)"
   ]
  },
  {
   "cell_type": "markdown",
   "metadata": {},
   "source": [
    "#### 28.3: Creating a Dataframe"
   ]
  },
  {
   "cell_type": "markdown",
   "metadata": {},
   "source": [
    "Although typically data (as a `DataFrame`) is loaded from a file or from the `RDatasets` package, we can make a data frame in the following way. \n",
    "\n",
    "Note: that the data is in columns and each is a vector or converted to a vector."
   ]
  },
  {
   "cell_type": "code",
   "execution_count": 15,
   "metadata": {},
   "outputs": [
    {
     "data": {
      "text/html": [
       "<div><div style = \"float: left;\"><span>7×4 DataFrame</span></div><div style = \"clear: both;\"></div></div><div class = \"data-frame\" style = \"overflow-x: scroll;\"><table class = \"data-frame\" style = \"margin-bottom: 6px;\"><thead><tr class = \"header\"><th class = \"rowNumber\" style = \"font-weight: bold; text-align: right;\">Row</th><th style = \"text-align: left;\">A</th><th style = \"text-align: left;\">B</th><th style = \"text-align: left;\">C</th><th style = \"text-align: left;\">D</th></tr><tr class = \"subheader headerLastRow\"><th class = \"rowNumber\" style = \"font-weight: bold; text-align: right;\"></th><th title = \"Int64\" style = \"text-align: left;\">Int64</th><th title = \"String\" style = \"text-align: left;\">String</th><th title = \"Float64\" style = \"text-align: left;\">Float64</th><th title = \"Rational{Int64}\" style = \"text-align: left;\">Rational…</th></tr></thead><tbody><tr><td class = \"rowNumber\" style = \"font-weight: bold; text-align: right;\">1</td><td style = \"text-align: right;\">1</td><td style = \"text-align: left;\">M</td><td style = \"text-align: right;\">3.0</td><td style = \"text-align: right;\">-1//1</td></tr><tr><td class = \"rowNumber\" style = \"font-weight: bold; text-align: right;\">2</td><td style = \"text-align: right;\">3</td><td style = \"text-align: left;\">F</td><td style = \"text-align: right;\">2.5</td><td style = \"text-align: right;\">1//2</td></tr><tr><td class = \"rowNumber\" style = \"font-weight: bold; text-align: right;\">3</td><td style = \"text-align: right;\">5</td><td style = \"text-align: left;\">F</td><td style = \"text-align: right;\">3.14159</td><td style = \"text-align: right;\">-1//3</td></tr><tr><td class = \"rowNumber\" style = \"font-weight: bold; text-align: right;\">4</td><td style = \"text-align: right;\">7</td><td style = \"text-align: left;\">M</td><td style = \"text-align: right;\">-2.3</td><td style = \"text-align: right;\">1//4</td></tr><tr><td class = \"rowNumber\" style = \"font-weight: bold; text-align: right;\">5</td><td style = \"text-align: right;\">9</td><td style = \"text-align: left;\">X</td><td style = \"text-align: right;\">0.333333</td><td style = \"text-align: right;\">-1//5</td></tr><tr><td class = \"rowNumber\" style = \"font-weight: bold; text-align: right;\">6</td><td style = \"text-align: right;\">11</td><td style = \"text-align: left;\">F</td><td style = \"text-align: right;\">56.0</td><td style = \"text-align: right;\">1//6</td></tr><tr><td class = \"rowNumber\" style = \"font-weight: bold; text-align: right;\">7</td><td style = \"text-align: right;\">13</td><td style = \"text-align: left;\">M</td><td style = \"text-align: right;\">100.0</td><td style = \"text-align: right;\">-1//7</td></tr></tbody></table></div>"
      ],
      "text/latex": [
       "\\begin{tabular}{r|cccc}\n",
       "\t& A & B & C & D\\\\\n",
       "\t\\hline\n",
       "\t& Int64 & String & Float64 & Rational…\\\\\n",
       "\t\\hline\n",
       "\t1 & 1 & M & 3.0 & -1 \\\\\n",
       "\t2 & 3 & F & 2.5 & 1//2 \\\\\n",
       "\t3 & 5 & F & 3.14159 & -1//3 \\\\\n",
       "\t4 & 7 & M & -2.3 & 1//4 \\\\\n",
       "\t5 & 9 & X & 0.333333 & -1//5 \\\\\n",
       "\t6 & 11 & F & 56.0 & 1//6 \\\\\n",
       "\t7 & 13 & M & 100.0 & -1//7 \\\\\n",
       "\\end{tabular}\n"
      ],
      "text/plain": [
       "\u001b[1m7×4 DataFrame\u001b[0m\n",
       "\u001b[1m Row \u001b[0m│\u001b[1m A     \u001b[0m\u001b[1m B      \u001b[0m\u001b[1m C          \u001b[0m\u001b[1m D         \u001b[0m\n",
       "     │\u001b[90m Int64 \u001b[0m\u001b[90m String \u001b[0m\u001b[90m Float64    \u001b[0m\u001b[90m Rational… \u001b[0m\n",
       "─────┼──────────────────────────────────────\n",
       "   1 │     1  M         3.0           -1//1\n",
       "   2 │     3  F         2.5            1//2\n",
       "   3 │     5  F         3.14159       -1//3\n",
       "   4 │     7  M        -2.3            1//4\n",
       "   5 │     9  X         0.333333      -1//5\n",
       "   6 │    11  F        56.0            1//6\n",
       "   7 │    13  M       100.0           -1//7"
      ]
     },
     "metadata": {},
     "output_type": "display_data"
    }
   ],
   "source": [
    "data = DataFrame(A = 1:2:13, B = [\"M\", \"F\", \"F\", \"M\",\"X\",\"F\",\"M\"], C=[3.0,2.5,pi,-2.3,1/3,56,100],D=[(-1)^n//n for n=1:7])"
   ]
  },
  {
   "cell_type": "code",
   "execution_count": 16,
   "metadata": {},
   "outputs": [
    {
     "data": {
      "text/plain": [
       "(7, 4)"
      ]
     },
     "metadata": {},
     "output_type": "display_data"
    }
   ],
   "source": [
    "size(data)"
   ]
  },
  {
   "cell_type": "code",
   "execution_count": 17,
   "metadata": {},
   "outputs": [
    {
     "data": {
      "text/plain": [
       "4-element Vector{String}:\n",
       " \"A\"\n",
       " \"B\"\n",
       " \"C\"\n",
       " \"D\""
      ]
     },
     "metadata": {},
     "output_type": "display_data"
    }
   ],
   "source": [
    "names(data)"
   ]
  },
  {
   "cell_type": "code",
   "execution_count": 18,
   "metadata": {},
   "outputs": [
    {
     "data": {
      "text/html": [
       "<div><div style = \"float: left;\"><span>4×7 DataFrame</span></div><div style = \"clear: both;\"></div></div><div class = \"data-frame\" style = \"overflow-x: scroll;\"><table class = \"data-frame\" style = \"margin-bottom: 6px;\"><thead><tr class = \"header\"><th class = \"rowNumber\" style = \"font-weight: bold; text-align: right;\">Row</th><th style = \"text-align: left;\">variable</th><th style = \"text-align: left;\">mean</th><th style = \"text-align: left;\">min</th><th style = \"text-align: left;\">median</th><th style = \"text-align: left;\">max</th><th style = \"text-align: left;\">nmissing</th><th style = \"text-align: left;\">eltype</th></tr><tr class = \"subheader headerLastRow\"><th class = \"rowNumber\" style = \"font-weight: bold; text-align: right;\"></th><th title = \"Symbol\" style = \"text-align: left;\">Symbol</th><th title = \"Union{Nothing, Real}\" style = \"text-align: left;\">Union…</th><th title = \"Any\" style = \"text-align: left;\">Any</th><th title = \"Union{Nothing, Float64}\" style = \"text-align: left;\">Union…</th><th title = \"Any\" style = \"text-align: left;\">Any</th><th title = \"Int64\" style = \"text-align: left;\">Int64</th><th title = \"DataType\" style = \"text-align: left;\">DataType</th></tr></thead><tbody><tr><td class = \"rowNumber\" style = \"font-weight: bold; text-align: right;\">1</td><td style = \"text-align: left;\">A</td><td style = \"text-align: left;\">7.0</td><td style = \"text-align: left;\">1</td><td style = \"text-align: left;\">7.0</td><td style = \"text-align: left;\">13</td><td style = \"text-align: right;\">0</td><td style = \"text-align: left;\">Int64</td></tr><tr><td class = \"rowNumber\" style = \"font-weight: bold; text-align: right;\">2</td><td style = \"text-align: left;\">B</td><td style = \"font-style: italic; text-align: left;\"></td><td style = \"text-align: left;\">F</td><td style = \"font-style: italic; text-align: left;\"></td><td style = \"text-align: left;\">X</td><td style = \"text-align: right;\">0</td><td style = \"text-align: left;\">String</td></tr><tr><td class = \"rowNumber\" style = \"font-weight: bold; text-align: right;\">3</td><td style = \"text-align: left;\">C</td><td style = \"text-align: left;\">23.2393</td><td style = \"text-align: left;\">-2.3</td><td style = \"text-align: left;\">3.0</td><td style = \"text-align: left;\">100.0</td><td style = \"text-align: right;\">0</td><td style = \"text-align: left;\">Float64</td></tr><tr><td class = \"rowNumber\" style = \"font-weight: bold; text-align: right;\">4</td><td style = \"text-align: left;\">D</td><td style = \"text-align: left;\">-319//2940</td><td style = \"text-align: left;\">-1//1</td><td style = \"text-align: left;\">-0.142857</td><td style = \"text-align: left;\">1//2</td><td style = \"text-align: right;\">0</td><td style = \"text-align: left;\">Rational{Int64}</td></tr></tbody></table></div>"
      ],
      "text/latex": [
       "\\begin{tabular}{r|ccccccc}\n",
       "\t& variable & mean & min & median & max & nmissing & eltype\\\\\n",
       "\t\\hline\n",
       "\t& Symbol & Union… & Any & Union… & Any & Int64 & DataType\\\\\n",
       "\t\\hline\n",
       "\t1 & A & 7.0 & 1 & 7.0 & 13 & 0 & Int64 \\\\\n",
       "\t2 & B &  & F &  & X & 0 & String \\\\\n",
       "\t3 & C & 23.2393 & -2.3 & 3.0 & 100.0 & 0 & Float64 \\\\\n",
       "\t4 & D & -319//2940 & -1 & -0.142857 & 1//2 & 0 & Rational\\{Int64\\} \\\\\n",
       "\\end{tabular}\n"
      ],
      "text/plain": [
       "\u001b[1m4×7 DataFrame\u001b[0m\n",
       "\u001b[1m Row \u001b[0m│\u001b[1m variable \u001b[0m\u001b[1m mean       \u001b[0m\u001b[1m min   \u001b[0m\u001b[1m median    \u001b[0m\u001b[1m max   \u001b[0m\u001b[1m nmissing \u001b[0m\u001b[1m eltype        \u001b[0m ⋯\n",
       "     │\u001b[90m Symbol   \u001b[0m\u001b[90m Union…     \u001b[0m\u001b[90m Any   \u001b[0m\u001b[90m Union…    \u001b[0m\u001b[90m Any   \u001b[0m\u001b[90m Int64    \u001b[0m\u001b[90m DataType      \u001b[0m ⋯\n",
       "─────┼──────────────────────────────────────────────────────────────────────────\n",
       "   1 │ A         7.0         1      7.0        13            0  Int64          ⋯\n",
       "   2 │ B        \u001b[90m            \u001b[0m F     \u001b[90m           \u001b[0m X             0  String\n",
       "   3 │ C         23.2393     -2.3   3.0        100.0         0  Float64\n",
       "   4 │ D         -319//2940  -1//1  -0.142857  1//2          0  Rational{Int64\n",
       "\u001b[36m                                                                1 column omitted\u001b[0m"
      ]
     },
     "metadata": {},
     "output_type": "display_data"
    }
   ],
   "source": [
    "describe(data)"
   ]
  },
  {
   "cell_type": "markdown",
   "metadata": {},
   "source": [
    "#### 28.4: Plotting data in a DataFrame"
   ]
  },
  {
   "cell_type": "markdown",
   "metadata": {},
   "source": [
    "We can plot the data in a DataFrame using `Makie` like:"
   ]
  },
  {
   "cell_type": "code",
   "execution_count": 19,
   "metadata": {},
   "outputs": [
    {
     "data": {
      "text/plain": [
       "true"
      ]
     },
     "metadata": {},
     "output_type": "display_data"
    }
   ],
   "source": [
    "using CairoMakie\n",
    "CairoMakie.activate!()\n",
    "Makie.inline!(true)"
   ]
  },
  {
   "cell_type": "code",
   "execution_count": 21,
   "metadata": {},
   "outputs": [
    {
     "data": {
      "image/png": "[encoded data removed]",
      "text/html": [
       "<img width=600 height=450 style='object-fit: contain; height: auto;' src=\"data:image/png;base64, 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\"/>"
      ]
     },
     "metadata": {},
     "output_type": "display_data"
    }
   ],
   "source": [
    "scatter(iris.SepalLength, iris.SepalWidth)"
   ]
  },
  {
   "cell_type": "markdown",
   "metadata": {},
   "source": [
    "Here's a nice plot by coloring depending on Species, the categorical variable."
   ]
  },
  {
   "cell_type": "code",
   "execution_count": 23,
   "metadata": {},
   "outputs": [
    {
     "data": {
      "image/png": "[encoded data removed]",
      "text/html": [
       "<img width=600 height=400 style='object-fit: contain; height: auto;' src=\"data:image/png;base64, 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\"/>"
      ]
     },
     "metadata": {},
     "output_type": "display_data"
    }
   ],
   "source": [
    "species = iris.Species\n",
    "categ = unique(species)\n",
    "colors = Makie.wong_colors()\n",
    "\n",
    "fig = Figure(size=(600, 400))\n",
    "ax = Axis(fig[1, 1]; xlabel=\"Sepal Length\", ylabel=\"Sepal Width\")\n",
    "\n",
    "for (idx, c) in enumerate(categ)\n",
    "    indices = findall(x -> x == c, species)\n",
    "    scatter!(iris.SepalLength[indices], iris.SepalWidth[indices],\n",
    "        color = colors[idx],\n",
    "        markersize=10, label=\"$(c)\")\n",
    "end\n",
    "axislegend(\"Species\")\n",
    "fig"
   ]
  },
  {
   "cell_type": "markdown",
   "metadata": {},
   "source": [
    "## 28.5: The Pipe function"
   ]
  },
  {
   "cell_type": "markdown",
   "metadata": {},
   "source": [
    "Consider the following crazy, made up nested function evaluation\n",
    "$$ \\ln(\\sqrt{e^{\\sin(\\tan^{-1}(0.25)}})$$\n",
    "In julia we can evaluate this with"
   ]
  },
  {
   "cell_type": "code",
   "execution_count": 40,
   "metadata": {},
   "outputs": [
    {
     "data": {
      "text/plain": [
       "0.1212678125181664"
      ]
     },
     "metadata": {},
     "output_type": "display_data"
    }
   ],
   "source": [
    "log(sqrt(exp(sin(atan(0.25)))))"
   ]
  },
  {
   "cell_type": "markdown",
   "metadata": {},
   "source": [
    "And if you are not careful, the parentheses can be difficult to balance right. However, another way to think of this is to start with the number 0.25, apply the arctangent, apply the sine, apply the exponent, apply the square root, then apply the log. This can be done without parenetheses in the following way:"
   ]
  },
  {
   "cell_type": "code",
   "execution_count": 25,
   "metadata": {},
   "outputs": [
    {
     "data": {
      "text/plain": [
       "0.1212678125181664"
      ]
     },
     "metadata": {},
     "output_type": "display_data"
    }
   ],
   "source": [
    "0.25 |> atan |> sin |> exp |> sqrt |> log"
   ]
  },
  {
   "cell_type": "markdown",
   "metadata": {},
   "source": [
    "resulting in the same value.  The `|>` is the pipe command which takes the value on the left and \"sends\" it to the function on the right. We can successively send (or pipe) to multiple functions as above and this is how it is powerful.\n",
    "\n",
    "This works however only for functions of a single variable that has a name, but we can adapt this to other functions with an anonymous function.  Consider calculating $\\sin(1+ e^{0.25})$ using pipes. We do this with"
   ]
  },
  {
   "cell_type": "code",
   "execution_count": 26,
   "metadata": {},
   "outputs": [
    {
     "data": {
      "text/plain": [
       "0.7562530960821656"
      ]
     },
     "metadata": {},
     "output_type": "display_data"
    }
   ],
   "source": [
    "0.25 |> x-> 1+ exp(x) |> sin"
   ]
  },
  {
   "cell_type": "markdown",
   "metadata": {},
   "source": [
    "#### Another example\n",
    "\n",
    "Let's look at an example with an array.  Calculate  ` deleteat!([1,2,3,4,5],3)` using pipes"
   ]
  },
  {
   "cell_type": "code",
   "execution_count": 43,
   "metadata": {},
   "outputs": [
    {
     "data": {
      "text/plain": [
       "4-element Vector{Int64}:\n",
       " 1\n",
       " 2\n",
       " 4\n",
       " 5"
      ]
     },
     "metadata": {},
     "output_type": "display_data"
    }
   ],
   "source": [
    "1:5 |> collect |> arr -> deleteat!(arr,3)"
   ]
  },
  {
   "cell_type": "markdown",
   "metadata": {},
   "source": [
    "If you find this kinda overkill, you're right with these examples. We will do this with dataframes below, which is where it can get quite nice.\n",
    "\n",
    "We will use the `Chain` package to help as well.  add this to the package manager and then"
   ]
  },
  {
   "cell_type": "code",
   "execution_count": 2,
   "metadata": {},
   "outputs": [],
   "source": [
    "using Chain"
   ]
  },
  {
   "cell_type": "markdown",
   "metadata": {},
   "source": [
    "The chain package has a macro called `@chain` which will make the steps even clearer.  The above steps can be written as"
   ]
  },
  {
   "cell_type": "code",
   "execution_count": 28,
   "metadata": {},
   "outputs": [
    {
     "data": {
      "text/plain": [
       "4-element Vector{Int64}:\n",
       " 1\n",
       " 2\n",
       " 4\n",
       " 5"
      ]
     },
     "metadata": {},
     "output_type": "display_data"
    }
   ],
   "source": [
    "@chain 1:5 begin\n",
    "  collect\n",
    "  deleteat!(3)\n",
    "end"
   ]
  },
  {
   "cell_type": "markdown",
   "metadata": {},
   "source": [
    "Between the `@chain` and the `begin` is what we are starting with.  In this case, the range `1:5`. Then each line inside the `@chain` does a separate step.  \n",
    "1. call `collect`, that is make the vector.\n",
    "2. delete the 3rd element. \n",
    "\n",
    "The way this works, is that `@chain` inserts the line above in the first argument of each line.  That is the first line is really `collect(1:5)` and then the second line is `deleteat!(collect(1:5),3)`.\n",
    "\n",
    "Hopefully you can see that with 3 or more steps, this can simplify things. \n",
    "\n",
    "Here's another example. \n",
    "1. Start with the vector [1,2,3,4,5,6,7,8,9,10],\n",
    "2. square each element \n",
    "3. keep all even numbers \n",
    "4. find the mean.\n",
    "\n",
    "We will do this starting with `1:10` and then making a single function call on each line of the `@chain`."
   ]
  },
  {
   "cell_type": "code",
   "execution_count": 35,
   "metadata": {},
   "outputs": [
    {
     "data": {
      "text/plain": [
       "44.0"
      ]
     },
     "metadata": {},
     "output_type": "display_data"
    }
   ],
   "source": [
    "@chain 1:10 begin\n",
    "  collect\n",
    "  _.^2\n",
    "  filter(iseven,_)\n",
    "  mean\n",
    "end"
   ]
  },
  {
   "cell_type": "markdown",
   "metadata": {},
   "source": [
    "Notice that on the 3rd and 4th lines that there is an underscore `_`. This tells `@chain` where to put the argument from the above line."
   ]
  },
  {
   "cell_type": "markdown",
   "metadata": {},
   "source": [
    "#### Exercise\n",
    "\n",
    "We are going to find the standard deviation of the numbers $\\pi/3, 4\\pi/3, 7\\pi,3, 10\\pi/3, \\ldots, 100\\pi/3$ by the following.\n",
    "1. start with the range from 1 to 100.\n",
    "2. make a vector.\n",
    "3. filter only values that only appear in 1,4,7,10, ...\n",
    "4. multiply by $\\pi/3$ \n",
    "5. find the standard deviation"
   ]
  },
  {
   "cell_type": "code",
   "execution_count": 6,
   "metadata": {},
   "outputs": [
    {
     "data": {
      "text/plain": [
       "31.28475299206779"
      ]
     },
     "metadata": {},
     "output_type": "display_data"
    }
   ],
   "source": [
    "@chain 1:100 begin\n",
    "    collect\n",
    "    filter(x -> x % 3 == 1, _)\n",
    "    _ *pi/3\n",
    "    std\n",
    "end"
   ]
  },
  {
   "cell_type": "markdown",
   "metadata": {},
   "source": [
    "### 28.6: Missing Data"
   ]
  },
  {
   "cell_type": "markdown",
   "metadata": {},
   "source": [
    "Often in a DataFrame, data is missing and julia has a data type called `Missing` that has only one value, `missing`.  Before we examine missing and DataFrames, here's some examples with just the missing value:"
   ]
  },
  {
   "cell_type": "code",
   "execution_count": 7,
   "metadata": {},
   "outputs": [
    {
     "data": {
      "text/plain": [
       "Missing"
      ]
     },
     "metadata": {},
     "output_type": "display_data"
    }
   ],
   "source": [
    "typeof(missing)"
   ]
  },
  {
   "cell_type": "code",
   "execution_count": 8,
   "metadata": {},
   "outputs": [
    {
     "data": {
      "text/plain": [
       "missing"
      ]
     },
     "metadata": {},
     "output_type": "display_data"
    }
   ],
   "source": [
    "missing+6"
   ]
  },
  {
   "cell_type": "code",
   "execution_count": 9,
   "metadata": {},
   "outputs": [
    {
     "data": {
      "text/plain": [
       "missing"
      ]
     },
     "metadata": {},
     "output_type": "display_data"
    }
   ],
   "source": [
    "mean([1,2,3,missing,5])"
   ]
  },
  {
   "cell_type": "markdown",
   "metadata": {},
   "source": [
    "In many ways, any operation of `missing` results in `missing` and in many ways, this is a way to signal that data is missing."
   ]
  },
  {
   "cell_type": "markdown",
   "metadata": {},
   "source": [
    "#### missing values in a DataFrame"
   ]
  },
  {
   "cell_type": "markdown",
   "metadata": {},
   "source": [
    "Recall that the `simpsons` dataset above had missing data:"
   ]
  },
  {
   "cell_type": "code",
   "execution_count": 10,
   "metadata": {},
   "outputs": [
    {
     "data": {
      "text/html": [
       "<div><div style = \"float: left;\"><span>7×5 DataFrame</span></div><div style = \"clear: both;\"></div></div><div class = \"data-frame\" style = \"overflow-x: scroll;\"><table class = \"data-frame\" style = \"margin-bottom: 6px;\"><thead><tr class = \"header\"><th class = \"rowNumber\" style = \"font-weight: bold; text-align: right;\">Row</th><th style = \"text-align: left;\">id</th><th style = \"text-align: left;\">name</th><th style = \"text-align: left;\">age</th><th style = \"text-align: left;\">salary</th><th style = \"text-align: left;\">favorite_food</th></tr><tr class = \"subheader headerLastRow\"><th class = \"rowNumber\" style = \"font-weight: bold; text-align: right;\"></th><th title = \"Int64\" style = \"text-align: left;\">Int64</th><th title = \"String\" style = \"text-align: left;\">String</th><th title = \"Int64\" style = \"text-align: left;\">Int64</th><th title = \"Union{Missing, Int64}\" style = \"text-align: left;\">Int64?</th><th title = \"Union{Missing, String}\" style = \"text-align: left;\">String?</th></tr></thead><tbody><tr><td class = \"rowNumber\" style = \"font-weight: bold; text-align: right;\">1</td><td style = \"text-align: right;\">5</td><td style = \"text-align: left;\">Homer</td><td style = \"text-align: right;\">45</td><td style = \"text-align: right;\">50000</td><td style = \"text-align: left;\">pork chops</td></tr><tr><td class = \"rowNumber\" style = \"font-weight: bold; text-align: right;\">2</td><td style = \"text-align: right;\">3</td><td style = \"text-align: left;\">Marge</td><td style = \"text-align: right;\">42</td><td style = \"text-align: right;\">25000</td><td style = \"text-align: left;\">casserole</td></tr><tr><td class = \"rowNumber\" style = \"font-weight: bold; text-align: right;\">3</td><td style = \"text-align: right;\">13</td><td style = \"text-align: left;\">Lisa</td><td style = \"text-align: right;\">8</td><td style = \"text-align: right;\">10000</td><td style = \"text-align: left;\">salad</td></tr><tr><td class = \"rowNumber\" style = \"font-weight: bold; text-align: right;\">4</td><td style = \"text-align: right;\">1</td><td style = \"text-align: left;\">Bart</td><td style = \"text-align: right;\">10</td><td style = \"font-style: italic; text-align: right;\">missing</td><td style = \"text-align: left;\">hamburger</td></tr><tr><td class = \"rowNumber\" style = \"font-weight: bold; text-align: right;\">5</td><td style = \"text-align: right;\">7</td><td style = \"text-align: left;\">Maggie</td><td style = \"text-align: right;\">1</td><td style = \"font-style: italic; text-align: right;\">missing</td><td style = \"font-style: italic; text-align: left;\">missing</td></tr><tr><td class = \"rowNumber\" style = \"font-weight: bold; text-align: right;\">6</td><td style = \"text-align: right;\">9</td><td style = \"text-align: left;\">Apu</td><td style = \"text-align: right;\">38</td><td style = \"text-align: right;\">45000</td><td style = \"text-align: left;\">saag paneer</td></tr><tr><td class = \"rowNumber\" style = \"font-weight: bold; text-align: right;\">7</td><td style = \"text-align: right;\">11</td><td style = \"text-align: left;\">Moe</td><td style = \"text-align: right;\">59</td><td style = \"text-align: right;\">3000</td><td style = \"text-align: left;\">peanuts</td></tr></tbody></table></div>"
      ],
      "text/latex": [
       "\\begin{tabular}{r|ccccc}\n",
       "\t& id & name & age & salary & favorite\\_food\\\\\n",
       "\t\\hline\n",
       "\t& Int64 & String & Int64 & Int64? & String?\\\\\n",
       "\t\\hline\n",
       "\t1 & 5 & Homer & 45 & 50000 & pork chops \\\\\n",
       "\t2 & 3 & Marge & 42 & 25000 & casserole \\\\\n",
       "\t3 & 13 & Lisa & 8 & 10000 & salad \\\\\n",
       "\t4 & 1 & Bart & 10 & \\emph{missing} & hamburger \\\\\n",
       "\t5 & 7 & Maggie & 1 & \\emph{missing} & \\emph{missing} \\\\\n",
       "\t6 & 9 & Apu & 38 & 45000 & saag paneer \\\\\n",
       "\t7 & 11 & Moe & 59 & 3000 & peanuts \\\\\n",
       "\\end{tabular}\n"
      ],
      "text/plain": [
       "\u001b[1m7×5 DataFrame\u001b[0m\n",
       "\u001b[1m Row \u001b[0m│\u001b[1m id    \u001b[0m\u001b[1m name   \u001b[0m\u001b[1m age   \u001b[0m\u001b[1m salary  \u001b[0m\u001b[1m favorite_food \u001b[0m\n",
       "     │\u001b[90m Int64 \u001b[0m\u001b[90m String \u001b[0m\u001b[90m Int64 \u001b[0m\u001b[90m Int64?  \u001b[0m\u001b[90m String?       \u001b[0m\n",
       "─────┼──────────────────────────────────────────────\n",
       "   1 │     5  Homer      45    50000  pork chops\n",
       "   2 │     3  Marge      42    25000  casserole\n",
       "   3 │    13  Lisa        8    10000  salad\n",
       "   4 │     1  Bart       10 \u001b[90m missing \u001b[0m hamburger\n",
       "   5 │     7  Maggie      1 \u001b[90m missing \u001b[0m\u001b[90m missing       \u001b[0m\n",
       "   6 │     9  Apu        38    45000  saag paneer\n",
       "   7 │    11  Moe        59     3000  peanuts"
      ]
     },
     "metadata": {},
     "output_type": "display_data"
    }
   ],
   "source": [
    "simpsons = DataFrame(\n",
    "    id=[5,3,13,1,7,9,11],\n",
    "    name=[\"Homer\",\"Marge\",\"Lisa\",\"Bart\",\"Maggie\",\"Apu\",\"Moe\"],\n",
    "    age =[45,42,8,10,1,38,59],\n",
    "    salary = [50000,25000,10000,missing,missing,45000,3000],\n",
    "    favorite_food = [\"pork chops\",\"casserole\",\"salad\",\"hamburger\",missing,\"saag paneer\",\"peanuts\"]\n",
    "  )"
   ]
  },
  {
   "cell_type": "markdown",
   "metadata": {},
   "source": [
    "First, note that the datatypes on the salary and favorite_food columns have a ?.  Actually the data type of these is: "
   ]
  },
  {
   "cell_type": "code",
   "execution_count": 11,
   "metadata": {},
   "outputs": [
    {
     "data": {
      "text/plain": [
       "5-element Vector{Type}:\n",
       " Int64\n",
       " String\n",
       " Int64\n",
       " Union{Missing, Int64}\n",
       " Union{Missing, String}"
      ]
     },
     "metadata": {},
     "output_type": "display_data"
    }
   ],
   "source": [
    "eltype.(eachcol(simpsons))"
   ]
  },
  {
   "cell_type": "markdown",
   "metadata": {},
   "source": [
    "And you can see that the last two element types are `Union{Missing,Int64}` and `Union{Missing,String}`.  The Union datatype is a way to handle more than Type.  This means that the elements of salary can be either `String` or `Missing`.  "
   ]
  },
  {
   "cell_type": "markdown",
   "metadata": {},
   "source": [
    "We can find the maximum age with:"
   ]
  },
  {
   "cell_type": "code",
   "execution_count": 12,
   "metadata": {},
   "outputs": [
    {
     "data": {
      "text/plain": [
       "59"
      ]
     },
     "metadata": {},
     "output_type": "display_data"
    }
   ],
   "source": [
    "maximum(simpsons.age)"
   ]
  },
  {
   "cell_type": "markdown",
   "metadata": {},
   "source": [
    "But if we do the same with the salary column:"
   ]
  },
  {
   "cell_type": "code",
   "execution_count": 13,
   "metadata": {},
   "outputs": [
    {
     "data": {
      "text/plain": [
       "missing"
      ]
     },
     "metadata": {},
     "output_type": "display_data"
    }
   ],
   "source": [
    "maximum(simpsons.salary)"
   ]
  },
  {
   "cell_type": "markdown",
   "metadata": {},
   "source": [
    "There is a nice function called `skipmissing` which is a bit strange in that:"
   ]
  },
  {
   "cell_type": "code",
   "execution_count": 14,
   "metadata": {},
   "outputs": [
    {
     "data": {
      "text/plain": [
       "skipmissing(Union{Missing, Int64}[50000, 25000, 10000, missing, missing, 45000, 3000])"
      ]
     },
     "metadata": {},
     "output_type": "display_data"
    }
   ],
   "source": [
    "skipmissing(simpsons.salary)"
   ]
  },
  {
   "cell_type": "markdown",
   "metadata": {},
   "source": [
    "And doesn't see to do anything except wrap the array in a `skipmissing` function, but if we now look for the maximum with:"
   ]
  },
  {
   "cell_type": "code",
   "execution_count": 15,
   "metadata": {},
   "outputs": [
    {
     "data": {
      "text/plain": [
       "50000"
      ]
     },
     "metadata": {},
     "output_type": "display_data"
    }
   ],
   "source": [
    "maximum(skipmissing(simpsons.salary))"
   ]
  },
  {
   "cell_type": "markdown",
   "metadata": {},
   "source": [
    "An alternative way to do this using `@chain` is as follows:"
   ]
  },
  {
   "cell_type": "code",
   "execution_count": 19,
   "metadata": {},
   "outputs": [
    {
     "data": {
      "text/plain": [
       "50000"
      ]
     },
     "metadata": {},
     "output_type": "display_data"
    }
   ],
   "source": [
    "@chain simpsons begin\n",
    "  _.salary\n",
    "  skipmissing\n",
    "  maximum\n",
    "end"
   ]
  },
  {
   "cell_type": "markdown",
   "metadata": {},
   "source": [
    "which just finds the mean of the 3 non-missing values."
   ]
  },
  {
   "cell_type": "markdown",
   "metadata": {},
   "source": [
    "#### A better way of handling missing values in a dataframe\n",
    "\n",
    "A better way to do this is with a `dropmissing` function in `DataFrames`.  This creates a new dataframe that filters out any row that has a missing value. For example"
   ]
  },
  {
   "cell_type": "code",
   "execution_count": 20,
   "metadata": {},
   "outputs": [
    {
     "data": {
      "text/html": [
       "<div><div style = \"float: left;\"><span>5×5 DataFrame</span></div><div style = \"clear: both;\"></div></div><div class = \"data-frame\" style = \"overflow-x: scroll;\"><table class = \"data-frame\" style = \"margin-bottom: 6px;\"><thead><tr class = \"header\"><th class = \"rowNumber\" style = \"font-weight: bold; text-align: right;\">Row</th><th style = \"text-align: left;\">id</th><th style = \"text-align: left;\">name</th><th style = \"text-align: left;\">age</th><th style = \"text-align: left;\">salary</th><th style = \"text-align: left;\">favorite_food</th></tr><tr class = \"subheader headerLastRow\"><th class = \"rowNumber\" style = \"font-weight: bold; text-align: right;\"></th><th title = \"Int64\" style = \"text-align: left;\">Int64</th><th title = \"String\" style = \"text-align: left;\">String</th><th title = \"Int64\" style = \"text-align: left;\">Int64</th><th title = \"Int64\" style = \"text-align: left;\">Int64</th><th title = \"String\" style = \"text-align: left;\">String</th></tr></thead><tbody><tr><td class = \"rowNumber\" style = \"font-weight: bold; text-align: right;\">1</td><td style = \"text-align: right;\">5</td><td style = \"text-align: left;\">Homer</td><td style = \"text-align: right;\">45</td><td style = \"text-align: right;\">50000</td><td style = \"text-align: left;\">pork chops</td></tr><tr><td class = \"rowNumber\" style = \"font-weight: bold; text-align: right;\">2</td><td style = \"text-align: right;\">3</td><td style = \"text-align: left;\">Marge</td><td style = \"text-align: right;\">42</td><td style = \"text-align: right;\">25000</td><td style = \"text-align: left;\">casserole</td></tr><tr><td class = \"rowNumber\" style = \"font-weight: bold; text-align: right;\">3</td><td style = \"text-align: right;\">13</td><td style = \"text-align: left;\">Lisa</td><td style = \"text-align: right;\">8</td><td style = \"text-align: right;\">10000</td><td style = \"text-align: left;\">salad</td></tr><tr><td class = \"rowNumber\" style = \"font-weight: bold; text-align: right;\">4</td><td style = \"text-align: right;\">9</td><td style = \"text-align: left;\">Apu</td><td style = \"text-align: right;\">38</td><td style = \"text-align: right;\">45000</td><td style = \"text-align: left;\">saag paneer</td></tr><tr><td class = \"rowNumber\" style = \"font-weight: bold; text-align: right;\">5</td><td style = \"text-align: right;\">11</td><td style = \"text-align: left;\">Moe</td><td style = \"text-align: right;\">59</td><td style = \"text-align: right;\">3000</td><td style = \"text-align: left;\">peanuts</td></tr></tbody></table></div>"
      ],
      "text/latex": [
       "\\begin{tabular}{r|ccccc}\n",
       "\t& id & name & age & salary & favorite\\_food\\\\\n",
       "\t\\hline\n",
       "\t& Int64 & String & Int64 & Int64 & String\\\\\n",
       "\t\\hline\n",
       "\t1 & 5 & Homer & 45 & 50000 & pork chops \\\\\n",
       "\t2 & 3 & Marge & 42 & 25000 & casserole \\\\\n",
       "\t3 & 13 & Lisa & 8 & 10000 & salad \\\\\n",
       "\t4 & 9 & Apu & 38 & 45000 & saag paneer \\\\\n",
       "\t5 & 11 & Moe & 59 & 3000 & peanuts \\\\\n",
       "\\end{tabular}\n"
      ],
      "text/plain": [
       "\u001b[1m5×5 DataFrame\u001b[0m\n",
       "\u001b[1m Row \u001b[0m│\u001b[1m id    \u001b[0m\u001b[1m name   \u001b[0m\u001b[1m age   \u001b[0m\u001b[1m salary \u001b[0m\u001b[1m favorite_food \u001b[0m\n",
       "     │\u001b[90m Int64 \u001b[0m\u001b[90m String \u001b[0m\u001b[90m Int64 \u001b[0m\u001b[90m Int64  \u001b[0m\u001b[90m String        \u001b[0m\n",
       "─────┼─────────────────────────────────────────────\n",
       "   1 │     5  Homer      45   50000  pork chops\n",
       "   2 │     3  Marge      42   25000  casserole\n",
       "   3 │    13  Lisa        8   10000  salad\n",
       "   4 │     9  Apu        38   45000  saag paneer\n",
       "   5 │    11  Moe        59    3000  peanuts"
      ]
     },
     "metadata": {},
     "output_type": "display_data"
    }
   ],
   "source": [
    "dropmissing(simpsons)"
   ]
  },
  {
   "cell_type": "markdown",
   "metadata": {},
   "source": [
    "Also, if you want to just filter rows with missing value in a particular column(s), you can do the following:"
   ]
  },
  {
   "cell_type": "code",
   "execution_count": 21,
   "metadata": {},
   "outputs": [
    {
     "data": {
      "text/html": [
       "<div><div style = \"float: left;\"><span>6×5 DataFrame</span></div><div style = \"clear: both;\"></div></div><div class = \"data-frame\" style = \"overflow-x: scroll;\"><table class = \"data-frame\" style = \"margin-bottom: 6px;\"><thead><tr class = \"header\"><th class = \"rowNumber\" style = \"font-weight: bold; text-align: right;\">Row</th><th style = \"text-align: left;\">id</th><th style = \"text-align: left;\">name</th><th style = \"text-align: left;\">age</th><th style = \"text-align: left;\">salary</th><th style = \"text-align: left;\">favorite_food</th></tr><tr class = \"subheader headerLastRow\"><th class = \"rowNumber\" style = \"font-weight: bold; text-align: right;\"></th><th title = \"Int64\" style = \"text-align: left;\">Int64</th><th title = \"String\" style = \"text-align: left;\">String</th><th title = \"Int64\" style = \"text-align: left;\">Int64</th><th title = \"Union{Missing, Int64}\" style = \"text-align: left;\">Int64?</th><th title = \"String\" style = \"text-align: left;\">String</th></tr></thead><tbody><tr><td class = \"rowNumber\" style = \"font-weight: bold; text-align: right;\">1</td><td style = \"text-align: right;\">5</td><td style = \"text-align: left;\">Homer</td><td style = \"text-align: right;\">45</td><td style = \"text-align: right;\">50000</td><td style = \"text-align: left;\">pork chops</td></tr><tr><td class = \"rowNumber\" style = \"font-weight: bold; text-align: right;\">2</td><td style = \"text-align: right;\">3</td><td style = \"text-align: left;\">Marge</td><td style = \"text-align: right;\">42</td><td style = \"text-align: right;\">25000</td><td style = \"text-align: left;\">casserole</td></tr><tr><td class = \"rowNumber\" style = \"font-weight: bold; text-align: right;\">3</td><td style = \"text-align: right;\">13</td><td style = \"text-align: left;\">Lisa</td><td style = \"text-align: right;\">8</td><td style = \"text-align: right;\">10000</td><td style = \"text-align: left;\">salad</td></tr><tr><td class = \"rowNumber\" style = \"font-weight: bold; text-align: right;\">4</td><td style = \"text-align: right;\">1</td><td style = \"text-align: left;\">Bart</td><td style = \"text-align: right;\">10</td><td style = \"font-style: italic; text-align: right;\">missing</td><td style = \"text-align: left;\">hamburger</td></tr><tr><td class = \"rowNumber\" style = \"font-weight: bold; text-align: right;\">5</td><td style = \"text-align: right;\">9</td><td style = \"text-align: left;\">Apu</td><td style = \"text-align: right;\">38</td><td style = \"text-align: right;\">45000</td><td style = \"text-align: left;\">saag paneer</td></tr><tr><td class = \"rowNumber\" style = \"font-weight: bold; text-align: right;\">6</td><td style = \"text-align: right;\">11</td><td style = \"text-align: left;\">Moe</td><td style = \"text-align: right;\">59</td><td style = \"text-align: right;\">3000</td><td style = \"text-align: left;\">peanuts</td></tr></tbody></table></div>"
      ],
      "text/latex": [
       "\\begin{tabular}{r|ccccc}\n",
       "\t& id & name & age & salary & favorite\\_food\\\\\n",
       "\t\\hline\n",
       "\t& Int64 & String & Int64 & Int64? & String\\\\\n",
       "\t\\hline\n",
       "\t1 & 5 & Homer & 45 & 50000 & pork chops \\\\\n",
       "\t2 & 3 & Marge & 42 & 25000 & casserole \\\\\n",
       "\t3 & 13 & Lisa & 8 & 10000 & salad \\\\\n",
       "\t4 & 1 & Bart & 10 & \\emph{missing} & hamburger \\\\\n",
       "\t5 & 9 & Apu & 38 & 45000 & saag paneer \\\\\n",
       "\t6 & 11 & Moe & 59 & 3000 & peanuts \\\\\n",
       "\\end{tabular}\n"
      ],
      "text/plain": [
       "\u001b[1m6×5 DataFrame\u001b[0m\n",
       "\u001b[1m Row \u001b[0m│\u001b[1m id    \u001b[0m\u001b[1m name   \u001b[0m\u001b[1m age   \u001b[0m\u001b[1m salary  \u001b[0m\u001b[1m favorite_food \u001b[0m\n",
       "     │\u001b[90m Int64 \u001b[0m\u001b[90m String \u001b[0m\u001b[90m Int64 \u001b[0m\u001b[90m Int64?  \u001b[0m\u001b[90m String        \u001b[0m\n",
       "─────┼──────────────────────────────────────────────\n",
       "   1 │     5  Homer      45    50000  pork chops\n",
       "   2 │     3  Marge      42    25000  casserole\n",
       "   3 │    13  Lisa        8    10000  salad\n",
       "   4 │     1  Bart       10 \u001b[90m missing \u001b[0m hamburger\n",
       "   5 │     9  Apu        38    45000  saag paneer\n",
       "   6 │    11  Moe        59     3000  peanuts"
      ]
     },
     "metadata": {},
     "output_type": "display_data"
    }
   ],
   "source": [
    "dropmissing(simpsons, :favorite_food)"
   ]
  },
  {
   "cell_type": "markdown",
   "metadata": {},
   "source": [
    "And using this we can repeat the steps above with the `@chain` syntax:"
   ]
  },
  {
   "cell_type": "code",
   "execution_count": 24,
   "metadata": {},
   "outputs": [
    {
     "data": {
      "text/html": [
       "<div><div style = \"float: left;\"><span>1×2 DataFrame</span></div><div style = \"clear: both;\"></div></div><div class = \"data-frame\" style = \"overflow-x: scroll;\"><table class = \"data-frame\" style = \"margin-bottom: 6px;\"><thead><tr class = \"header\"><th class = \"rowNumber\" style = \"font-weight: bold; text-align: right;\">Row</th><th style = \"text-align: left;\">salary_maximum</th><th style = \"text-align: left;\">salary_mean</th></tr><tr class = \"subheader headerLastRow\"><th class = \"rowNumber\" style = \"font-weight: bold; text-align: right;\"></th><th title = \"Int64\" style = \"text-align: left;\">Int64</th><th title = \"Float64\" style = \"text-align: left;\">Float64</th></tr></thead><tbody><tr><td class = \"rowNumber\" style = \"font-weight: bold; text-align: right;\">1</td><td style = \"text-align: right;\">50000</td><td style = \"text-align: right;\">26600.0</td></tr></tbody></table></div>"
      ],
      "text/latex": [
       "\\begin{tabular}{r|cc}\n",
       "\t& salary\\_maximum & salary\\_mean\\\\\n",
       "\t\\hline\n",
       "\t& Int64 & Float64\\\\\n",
       "\t\\hline\n",
       "\t1 & 50000 & 26600.0 \\\\\n",
       "\\end{tabular}\n"
      ],
      "text/plain": [
       "\u001b[1m1×2 DataFrame\u001b[0m\n",
       "\u001b[1m Row \u001b[0m│\u001b[1m salary_maximum \u001b[0m\u001b[1m salary_mean \u001b[0m\n",
       "     │\u001b[90m Int64          \u001b[0m\u001b[90m Float64     \u001b[0m\n",
       "─────┼─────────────────────────────\n",
       "   1 │          50000      26600.0"
      ]
     },
     "metadata": {},
     "output_type": "display_data"
    }
   ],
   "source": [
    "@chain simpsons begin\n",
    "    dropmissing(:salary)\n",
    "    combine(:salary => maximum, :salary => mean)\n",
    "end"
   ]
  },
  {
   "cell_type": "markdown",
   "metadata": {},
   "source": [
    "### 28.9 Loading data from a file"
   ]
  },
  {
   "cell_type": "markdown",
   "metadata": {},
   "source": [
    "Most of the time, data is in a file.  One common format is a comma separated value (CSV) file.  "
   ]
  },
  {
   "cell_type": "code",
   "execution_count": 25,
   "metadata": {},
   "outputs": [],
   "source": [
    "using CSV"
   ]
  },
  {
   "cell_type": "code",
   "execution_count": 26,
   "metadata": {},
   "outputs": [
    {
     "data": {
      "text/html": [
       "<div><div style = \"float: left;\"><span>6×5 DataFrame</span></div><div style = \"clear: both;\"></div></div><div class = \"data-frame\" style = \"overflow-x: scroll;\"><table class = \"data-frame\" style = \"margin-bottom: 6px;\"><thead><tr class = \"header\"><th class = \"rowNumber\" style = \"font-weight: bold; text-align: right;\">Row</th><th style = \"text-align: left;\">Name</th><th style = \"text-align: left;\">Age</th><th style = \"text-align: left;\">Sex</th><th style = \"text-align: left;\">Shoe Size</th><th style = \"text-align: left;\">Pay Rate</th></tr><tr class = \"subheader headerLastRow\"><th class = \"rowNumber\" style = \"font-weight: bold; text-align: right;\"></th><th title = \"String15\" style = \"text-align: left;\">String15</th><th title = \"Int64\" style = \"text-align: left;\">Int64</th><th title = \"String1\" style = \"text-align: left;\">String1</th><th title = \"Float64\" style = \"text-align: left;\">Float64</th><th title = \"Float64\" style = \"text-align: left;\">Float64</th></tr></thead><tbody><tr><td class = \"rowNumber\" style = \"font-weight: bold; text-align: right;\">1</td><td style = \"text-align: left;\">Alice</td><td style = \"text-align: right;\">18</td><td style = \"text-align: left;\">F</td><td style = \"text-align: right;\">6.5</td><td style = \"text-align: right;\">15.5</td></tr><tr><td class = \"rowNumber\" style = \"font-weight: bold; text-align: right;\">2</td><td style = \"text-align: left;\">Barry</td><td style = \"text-align: right;\">24</td><td style = \"text-align: left;\">M</td><td style = \"text-align: right;\">12.0</td><td style = \"text-align: right;\">18.25</td></tr><tr><td class = \"rowNumber\" style = \"font-weight: bold; text-align: right;\">3</td><td style = \"text-align: left;\">Charlize</td><td style = \"text-align: right;\">45</td><td style = \"text-align: left;\">X</td><td style = \"text-align: right;\">8.0</td><td style = \"text-align: right;\">22.5</td></tr><tr><td class = \"rowNumber\" style = \"font-weight: bold; text-align: right;\">4</td><td style = \"text-align: left;\">Doreen</td><td style = \"text-align: right;\">72</td><td style = \"text-align: left;\">F</td><td style = \"text-align: right;\">7.5</td><td style = \"text-align: right;\">24.5</td></tr><tr><td class = \"rowNumber\" style = \"font-weight: bold; text-align: right;\">5</td><td style = \"text-align: left;\">Edgar</td><td style = \"text-align: right;\">64</td><td style = \"text-align: left;\">M</td><td style = \"text-align: right;\">10.0</td><td style = \"text-align: right;\">33.0</td></tr><tr><td class = \"rowNumber\" style = \"font-weight: bold; text-align: right;\">6</td><td style = \"text-align: left;\">Francine</td><td style = \"text-align: right;\">16</td><td style = \"text-align: left;\">F</td><td style = \"text-align: right;\">9.0</td><td style = \"text-align: right;\">18.75</td></tr></tbody></table></div>"
      ],
      "text/latex": [
       "\\begin{tabular}{r|ccccc}\n",
       "\t& Name & Age & Sex & Shoe Size & Pay Rate\\\\\n",
       "\t\\hline\n",
       "\t& String15 & Int64 & String1 & Float64 & Float64\\\\\n",
       "\t\\hline\n",
       "\t1 & Alice & 18 & F & 6.5 & 15.5 \\\\\n",
       "\t2 & Barry & 24 & M & 12.0 & 18.25 \\\\\n",
       "\t3 & Charlize & 45 & X & 8.0 & 22.5 \\\\\n",
       "\t4 & Doreen & 72 & F & 7.5 & 24.5 \\\\\n",
       "\t5 & Edgar & 64 & M & 10.0 & 33.0 \\\\\n",
       "\t6 & Francine & 16 & F & 9.0 & 18.75 \\\\\n",
       "\\end{tabular}\n"
      ],
      "text/plain": [
       "\u001b[1m6×5 DataFrame\u001b[0m\n",
       "\u001b[1m Row \u001b[0m│\u001b[1m Name     \u001b[0m\u001b[1m Age   \u001b[0m\u001b[1m Sex     \u001b[0m\u001b[1m Shoe Size \u001b[0m\u001b[1m Pay Rate \u001b[0m\n",
       "     │\u001b[90m String15 \u001b[0m\u001b[90m Int64 \u001b[0m\u001b[90m String1 \u001b[0m\u001b[90m Float64   \u001b[0m\u001b[90m Float64  \u001b[0m\n",
       "─────┼───────────────────────────────────────────────\n",
       "   1 │ Alice        18  F              6.5     15.5\n",
       "   2 │ Barry        24  M             12.0     18.25\n",
       "   3 │ Charlize     45  X              8.0     22.5\n",
       "   4 │ Doreen       72  F              7.5     24.5\n",
       "   5 │ Edgar        64  M             10.0     33.0\n",
       "   6 │ Francine     16  F              9.0     18.75"
      ]
     },
     "metadata": {},
     "output_type": "display_data"
    }
   ],
   "source": [
    "simple = CSV.read(\"simple.csv\", DataFrame)"
   ]
  },
  {
   "cell_type": "markdown",
   "metadata": {},
   "source": [
    "This is nice, however, if we want to access the last two columns, we may need to surround with double quotes like:"
   ]
  },
  {
   "cell_type": "code",
   "execution_count": 27,
   "metadata": {},
   "outputs": [
    {
     "data": {
      "text/plain": [
       "6-element Vector{Float64}:\n",
       "  6.5\n",
       " 12.0\n",
       "  8.0\n",
       "  7.5\n",
       " 10.0\n",
       "  9.0"
      ]
     },
     "metadata": {},
     "output_type": "display_data"
    }
   ],
   "source": [
    "simple.\"Shoe Size\""
   ]
  },
  {
   "cell_type": "markdown",
   "metadata": {},
   "source": [
    "or"
   ]
  },
  {
   "cell_type": "code",
   "execution_count": 28,
   "metadata": {},
   "outputs": [
    {
     "data": {
      "text/plain": [
       "6-element Vector{Float64}:\n",
       "  6.5\n",
       " 12.0\n",
       "  8.0\n",
       "  7.5\n",
       " 10.0\n",
       "  9.0"
      ]
     },
     "metadata": {},
     "output_type": "display_data"
    }
   ],
   "source": [
    "simple[!,:\"Shoe Size\"]"
   ]
  },
  {
   "cell_type": "markdown",
   "metadata": {},
   "source": [
    "However, the `CSV.read` method has an option to replace spaces with `_` using `normalizenames`"
   ]
  },
  {
   "cell_type": "code",
   "execution_count": 33,
   "metadata": {},
   "outputs": [
    {
     "data": {
      "text/html": [
       "<div><div style = \"float: left;\"><span>6×5 DataFrame</span></div><div style = \"clear: both;\"></div></div><div class = \"data-frame\" style = \"overflow-x: scroll;\"><table class = \"data-frame\" style = \"margin-bottom: 6px;\"><thead><tr class = \"header\"><th class = \"rowNumber\" style = \"font-weight: bold; text-align: right;\">Row</th><th style = \"text-align: left;\">Name</th><th style = \"text-align: left;\">Age</th><th style = \"text-align: left;\">Sex</th><th style = \"text-align: left;\">Shoe_Size</th><th style = \"text-align: left;\">Pay_Rate</th></tr><tr class = \"subheader headerLastRow\"><th class = \"rowNumber\" style = \"font-weight: bold; text-align: right;\"></th><th title = \"String15\" style = \"text-align: left;\">String15</th><th title = \"Int64\" style = \"text-align: left;\">Int64</th><th title = \"String1\" style = \"text-align: left;\">String1</th><th title = \"Float64\" style = \"text-align: left;\">Float64</th><th title = \"Float64\" style = \"text-align: left;\">Float64</th></tr></thead><tbody><tr><td class = \"rowNumber\" style = \"font-weight: bold; text-align: right;\">1</td><td style = \"text-align: left;\">Alice</td><td style = \"text-align: right;\">18</td><td style = \"text-align: left;\">F</td><td style = \"text-align: right;\">6.5</td><td style = \"text-align: right;\">15.5</td></tr><tr><td class = \"rowNumber\" style = \"font-weight: bold; text-align: right;\">2</td><td style = \"text-align: left;\">Barry</td><td style = \"text-align: right;\">24</td><td style = \"text-align: left;\">M</td><td style = \"text-align: right;\">12.0</td><td style = \"text-align: right;\">18.25</td></tr><tr><td class = \"rowNumber\" style = \"font-weight: bold; text-align: right;\">3</td><td style = \"text-align: left;\">Charlize</td><td style = \"text-align: right;\">45</td><td style = \"text-align: left;\">X</td><td style = \"text-align: right;\">8.0</td><td style = \"text-align: right;\">22.5</td></tr><tr><td class = \"rowNumber\" style = \"font-weight: bold; text-align: right;\">4</td><td style = \"text-align: left;\">Doreen</td><td style = \"text-align: right;\">72</td><td style = \"text-align: left;\">F</td><td style = \"text-align: right;\">7.5</td><td style = \"text-align: right;\">24.5</td></tr><tr><td class = \"rowNumber\" style = \"font-weight: bold; text-align: right;\">5</td><td style = \"text-align: left;\">Edgar</td><td style = \"text-align: right;\">64</td><td style = \"text-align: left;\">M</td><td style = \"text-align: right;\">10.0</td><td style = \"text-align: right;\">33.0</td></tr><tr><td class = \"rowNumber\" style = \"font-weight: bold; text-align: right;\">6</td><td style = \"text-align: left;\">Francine</td><td style = \"text-align: right;\">16</td><td style = \"text-align: left;\">F</td><td style = \"text-align: right;\">9.0</td><td style = \"text-align: right;\">18.75</td></tr></tbody></table></div>"
      ],
      "text/latex": [
       "\\begin{tabular}{r|ccccc}\n",
       "\t& Name & Age & Sex & Shoe\\_Size & Pay\\_Rate\\\\\n",
       "\t\\hline\n",
       "\t& String15 & Int64 & String1 & Float64 & Float64\\\\\n",
       "\t\\hline\n",
       "\t1 & Alice & 18 & F & 6.5 & 15.5 \\\\\n",
       "\t2 & Barry & 24 & M & 12.0 & 18.25 \\\\\n",
       "\t3 & Charlize & 45 & X & 8.0 & 22.5 \\\\\n",
       "\t4 & Doreen & 72 & F & 7.5 & 24.5 \\\\\n",
       "\t5 & Edgar & 64 & M & 10.0 & 33.0 \\\\\n",
       "\t6 & Francine & 16 & F & 9.0 & 18.75 \\\\\n",
       "\\end{tabular}\n"
      ],
      "text/plain": [
       "\u001b[1m6×5 DataFrame\u001b[0m\n",
       "\u001b[1m Row \u001b[0m│\u001b[1m Name     \u001b[0m\u001b[1m Age   \u001b[0m\u001b[1m Sex     \u001b[0m\u001b[1m Shoe_Size \u001b[0m\u001b[1m Pay_Rate \u001b[0m\n",
       "     │\u001b[90m String15 \u001b[0m\u001b[90m Int64 \u001b[0m\u001b[90m String1 \u001b[0m\u001b[90m Float64   \u001b[0m\u001b[90m Float64  \u001b[0m\n",
       "─────┼───────────────────────────────────────────────\n",
       "   1 │ Alice        18  F              6.5     15.5\n",
       "   2 │ Barry        24  M             12.0     18.25\n",
       "   3 │ Charlize     45  X              8.0     22.5\n",
       "   4 │ Doreen       72  F              7.5     24.5\n",
       "   5 │ Edgar        64  M             10.0     33.0\n",
       "   6 │ Francine     16  F              9.0     18.75"
      ]
     },
     "metadata": {},
     "output_type": "display_data"
    }
   ],
   "source": [
    "simple = CSV.read(\"simple.csv\", DataFrame, normalizenames = true)"
   ]
  },
  {
   "cell_type": "code",
   "execution_count": 34,
   "metadata": {},
   "outputs": [
    {
     "data": {
      "text/plain": [
       "6-element Vector{Float64}:\n",
       "  6.5\n",
       " 12.0\n",
       "  8.0\n",
       "  7.5\n",
       " 10.0\n",
       "  9.0"
      ]
     },
     "metadata": {},
     "output_type": "display_data"
    }
   ],
   "source": [
    "simple.Shoe_Size"
   ]
  },
  {
   "cell_type": "markdown",
   "metadata": {},
   "source": [
    "Another ubiquitous data format is an Excel file (uggh).  However Julia can load it with the `XLSX` package"
   ]
  },
  {
   "cell_type": "code",
   "execution_count": 37,
   "metadata": {},
   "outputs": [],
   "source": [
    "using XLSX"
   ]
  },
  {
   "cell_type": "markdown",
   "metadata": {},
   "source": [
    "And then use the `readxlsx` method.  Note: since this is not exported by the `XSLX` package, you need to give the full name to the method:"
   ]
  },
  {
   "cell_type": "code",
   "execution_count": 41,
   "metadata": {},
   "outputs": [
    {
     "data": {
      "text/plain": [
       "XLSXFile(\"simple.xlsx\") containing 1 Worksheet\n",
       "            sheetname size          range        \n",
       "-------------------------------------------------\n",
       "               Sheet1 7x5           A1:E7        \n"
      ]
     },
     "metadata": {},
     "output_type": "display_data"
    }
   ],
   "source": [
    "xf = XLSX.readxlsx(\"simple.xlsx\")"
   ]
  },
  {
   "cell_type": "markdown",
   "metadata": {},
   "source": [
    "The result is an `XSLXFile` object saying all of the sheets and the range of the data inside each sheet. We can access the sheet in the following way:"
   ]
  },
  {
   "cell_type": "code",
   "execution_count": 42,
   "metadata": {},
   "outputs": [
    {
     "data": {
      "text/plain": [
       "7×5 XLSX.Worksheet: [\"Sheet1\"](A1:E7) "
      ]
     },
     "metadata": {},
     "output_type": "display_data"
    }
   ],
   "source": [
    "xf[\"Sheet1\"]"
   ]
  },
  {
   "cell_type": "markdown",
   "metadata": {},
   "source": [
    "But more helpful is the `readtable` method.  And then wrap a `DataFrame` around this:"
   ]
  },
  {
   "cell_type": "code",
   "execution_count": 43,
   "metadata": {},
   "outputs": [
    {
     "data": {
      "text/html": [
       "<div><div style = \"float: left;\"><span>6×5 DataFrame</span></div><div style = \"clear: both;\"></div></div><div class = \"data-frame\" style = \"overflow-x: scroll;\"><table class = \"data-frame\" style = \"margin-bottom: 6px;\"><thead><tr class = \"header\"><th class = \"rowNumber\" style = \"font-weight: bold; text-align: right;\">Row</th><th style = \"text-align: left;\">Name</th><th style = \"text-align: left;\">Age</th><th style = \"text-align: left;\">Sex</th><th style = \"text-align: left;\">Shoe Size</th><th style = \"text-align: left;\">Pay Rate</th></tr><tr class = \"subheader headerLastRow\"><th class = \"rowNumber\" style = \"font-weight: bold; text-align: right;\"></th><th title = \"Any\" style = \"text-align: left;\">Any</th><th title = \"Any\" style = \"text-align: left;\">Any</th><th title = \"Any\" style = \"text-align: left;\">Any</th><th title = \"Any\" style = \"text-align: left;\">Any</th><th title = \"Any\" style = \"text-align: left;\">Any</th></tr></thead><tbody><tr><td class = \"rowNumber\" style = \"font-weight: bold; text-align: right;\">1</td><td style = \"text-align: left;\">Alice</td><td style = \"text-align: left;\">18</td><td style = \"text-align: left;\">F</td><td style = \"text-align: left;\">6.5</td><td style = \"text-align: left;\">15.5</td></tr><tr><td class = \"rowNumber\" style = \"font-weight: bold; text-align: right;\">2</td><td style = \"text-align: left;\">Barry</td><td style = \"text-align: left;\">24</td><td style = \"text-align: left;\">M</td><td style = \"text-align: left;\">12</td><td style = \"text-align: left;\">18.25</td></tr><tr><td class = \"rowNumber\" style = \"font-weight: bold; text-align: right;\">3</td><td style = \"text-align: left;\">Charlize</td><td style = \"text-align: left;\">45</td><td style = \"text-align: left;\">X</td><td style = \"text-align: left;\">8</td><td style = \"text-align: left;\">22.5</td></tr><tr><td class = \"rowNumber\" style = \"font-weight: bold; text-align: right;\">4</td><td style = \"text-align: left;\">Doreen</td><td style = \"text-align: left;\">72</td><td style = \"text-align: left;\">F</td><td style = \"text-align: left;\">7.5</td><td style = \"text-align: left;\">24.5</td></tr><tr><td class = \"rowNumber\" style = \"font-weight: bold; text-align: right;\">5</td><td style = \"text-align: left;\">Edgar</td><td style = \"text-align: left;\">64</td><td style = \"text-align: left;\">M</td><td style = \"text-align: left;\">10</td><td style = \"text-align: left;\">33</td></tr><tr><td class = \"rowNumber\" style = \"font-weight: bold; text-align: right;\">6</td><td style = \"text-align: left;\">Francine</td><td style = \"text-align: left;\">16</td><td style = \"text-align: left;\">F</td><td style = \"text-align: left;\">9</td><td style = \"text-align: left;\">18.75</td></tr></tbody></table></div>"
      ],
      "text/latex": [
       "\\begin{tabular}{r|ccccc}\n",
       "\t& Name & Age & Sex & Shoe Size & Pay Rate\\\\\n",
       "\t\\hline\n",
       "\t& Any & Any & Any & Any & Any\\\\\n",
       "\t\\hline\n",
       "\t1 & Alice & 18 & F & 6.5 & 15.5 \\\\\n",
       "\t2 & Barry & 24 & M & 12 & 18.25 \\\\\n",
       "\t3 & Charlize & 45 & X & 8 & 22.5 \\\\\n",
       "\t4 & Doreen & 72 & F & 7.5 & 24.5 \\\\\n",
       "\t5 & Edgar & 64 & M & 10 & 33 \\\\\n",
       "\t6 & Francine & 16 & F & 9 & 18.75 \\\\\n",
       "\\end{tabular}\n"
      ],
      "text/plain": [
       "\u001b[1m6×5 DataFrame\u001b[0m\n",
       "\u001b[1m Row \u001b[0m│\u001b[1m Name     \u001b[0m\u001b[1m Age \u001b[0m\u001b[1m Sex \u001b[0m\u001b[1m Shoe Size \u001b[0m\u001b[1m Pay Rate \u001b[0m\n",
       "     │\u001b[90m Any      \u001b[0m\u001b[90m Any \u001b[0m\u001b[90m Any \u001b[0m\u001b[90m Any       \u001b[0m\u001b[90m Any      \u001b[0m\n",
       "─────┼─────────────────────────────────────────\n",
       "   1 │ Alice     18   F    6.5        15.5\n",
       "   2 │ Barry     24   M    12         18.25\n",
       "   3 │ Charlize  45   X    8          22.5\n",
       "   4 │ Doreen    72   F    7.5        24.5\n",
       "   5 │ Edgar     64   M    10         33\n",
       "   6 │ Francine  16   F    9          18.75"
      ]
     },
     "metadata": {},
     "output_type": "display_data"
    }
   ],
   "source": [
    "df = DataFrame(XLSX.readtable(\"simple.xlsx\", \"Sheet1\"))"
   ]
  },
  {
   "cell_type": "markdown",
   "metadata": {},
   "source": [
    "Note that this has the same issue that the column names have spaces.  We can fix this with the `rename!` command:"
   ]
  },
  {
   "cell_type": "code",
   "execution_count": 44,
   "metadata": {},
   "outputs": [
    {
     "data": {
      "text/html": [
       "<div><div style = \"float: left;\"><span>6×5 DataFrame</span></div><div style = \"clear: both;\"></div></div><div class = \"data-frame\" style = \"overflow-x: scroll;\"><table class = \"data-frame\" style = \"margin-bottom: 6px;\"><thead><tr class = \"header\"><th class = \"rowNumber\" style = \"font-weight: bold; text-align: right;\">Row</th><th style = \"text-align: left;\">Name</th><th style = \"text-align: left;\">Age</th><th style = \"text-align: left;\">Sex</th><th style = \"text-align: left;\">Shoe_Size</th><th style = \"text-align: left;\">Pay_Rate</th></tr><tr class = \"subheader headerLastRow\"><th class = \"rowNumber\" style = \"font-weight: bold; text-align: right;\"></th><th title = \"Any\" style = \"text-align: left;\">Any</th><th title = \"Any\" style = \"text-align: left;\">Any</th><th title = \"Any\" style = \"text-align: left;\">Any</th><th title = \"Any\" style = \"text-align: left;\">Any</th><th title = \"Any\" style = \"text-align: left;\">Any</th></tr></thead><tbody><tr><td class = \"rowNumber\" style = \"font-weight: bold; text-align: right;\">1</td><td style = \"text-align: left;\">Alice</td><td style = \"text-align: left;\">18</td><td style = \"text-align: left;\">F</td><td style = \"text-align: left;\">6.5</td><td style = \"text-align: left;\">15.5</td></tr><tr><td class = \"rowNumber\" style = \"font-weight: bold; text-align: right;\">2</td><td style = \"text-align: left;\">Barry</td><td style = \"text-align: left;\">24</td><td style = \"text-align: left;\">M</td><td style = \"text-align: left;\">12</td><td style = \"text-align: left;\">18.25</td></tr><tr><td class = \"rowNumber\" style = \"font-weight: bold; text-align: right;\">3</td><td style = \"text-align: left;\">Charlize</td><td style = \"text-align: left;\">45</td><td style = \"text-align: left;\">X</td><td style = \"text-align: left;\">8</td><td style = \"text-align: left;\">22.5</td></tr><tr><td class = \"rowNumber\" style = \"font-weight: bold; text-align: right;\">4</td><td style = \"text-align: left;\">Doreen</td><td style = \"text-align: left;\">72</td><td style = \"text-align: left;\">F</td><td style = \"text-align: left;\">7.5</td><td style = \"text-align: left;\">24.5</td></tr><tr><td class = \"rowNumber\" style = \"font-weight: bold; text-align: right;\">5</td><td style = \"text-align: left;\">Edgar</td><td style = \"text-align: left;\">64</td><td style = \"text-align: left;\">M</td><td style = \"text-align: left;\">10</td><td style = \"text-align: left;\">33</td></tr><tr><td class = \"rowNumber\" style = \"font-weight: bold; text-align: right;\">6</td><td style = \"text-align: left;\">Francine</td><td style = \"text-align: left;\">16</td><td style = \"text-align: left;\">F</td><td style = \"text-align: left;\">9</td><td style = \"text-align: left;\">18.75</td></tr></tbody></table></div>"
      ],
      "text/latex": [
       "\\begin{tabular}{r|ccccc}\n",
       "\t& Name & Age & Sex & Shoe\\_Size & Pay\\_Rate\\\\\n",
       "\t\\hline\n",
       "\t& Any & Any & Any & Any & Any\\\\\n",
       "\t\\hline\n",
       "\t1 & Alice & 18 & F & 6.5 & 15.5 \\\\\n",
       "\t2 & Barry & 24 & M & 12 & 18.25 \\\\\n",
       "\t3 & Charlize & 45 & X & 8 & 22.5 \\\\\n",
       "\t4 & Doreen & 72 & F & 7.5 & 24.5 \\\\\n",
       "\t5 & Edgar & 64 & M & 10 & 33 \\\\\n",
       "\t6 & Francine & 16 & F & 9 & 18.75 \\\\\n",
       "\\end{tabular}\n"
      ],
      "text/plain": [
       "\u001b[1m6×5 DataFrame\u001b[0m\n",
       "\u001b[1m Row \u001b[0m│\u001b[1m Name     \u001b[0m\u001b[1m Age \u001b[0m\u001b[1m Sex \u001b[0m\u001b[1m Shoe_Size \u001b[0m\u001b[1m Pay_Rate \u001b[0m\n",
       "     │\u001b[90m Any      \u001b[0m\u001b[90m Any \u001b[0m\u001b[90m Any \u001b[0m\u001b[90m Any       \u001b[0m\u001b[90m Any      \u001b[0m\n",
       "─────┼─────────────────────────────────────────\n",
       "   1 │ Alice     18   F    6.5        15.5\n",
       "   2 │ Barry     24   M    12         18.25\n",
       "   3 │ Charlize  45   X    8          22.5\n",
       "   4 │ Doreen    72   F    7.5        24.5\n",
       "   5 │ Edgar     64   M    10         33\n",
       "   6 │ Francine  16   F    9          18.75"
      ]
     },
     "metadata": {},
     "output_type": "display_data"
    }
   ],
   "source": [
    "rename!(df, :\"Shoe Size\" => :Shoe_Size, :\"Pay Rate\" => :Pay_Rate)"
   ]
  },
  {
   "cell_type": "markdown",
   "metadata": {},
   "source": [
    "However, the column types are not correct.  This isn't a big deal for a small dataframe, but if it was larger, this could result in things being slow.  We can fix this with the `infer_types` option:"
   ]
  },
  {
   "cell_type": "code",
   "execution_count": 45,
   "metadata": {},
   "outputs": [
    {
     "data": {
      "text/html": [
       "<div><div style = \"float: left;\"><span>6×5 DataFrame</span></div><div style = \"clear: both;\"></div></div><div class = \"data-frame\" style = \"overflow-x: scroll;\"><table class = \"data-frame\" style = \"margin-bottom: 6px;\"><thead><tr class = \"header\"><th class = \"rowNumber\" style = \"font-weight: bold; text-align: right;\">Row</th><th style = \"text-align: left;\">Name</th><th style = \"text-align: left;\">Age</th><th style = \"text-align: left;\">Sex</th><th style = \"text-align: left;\">Shoe Size</th><th style = \"text-align: left;\">Pay Rate</th></tr><tr class = \"subheader headerLastRow\"><th class = \"rowNumber\" style = \"font-weight: bold; text-align: right;\"></th><th title = \"String\" style = \"text-align: left;\">String</th><th title = \"Int64\" style = \"text-align: left;\">Int64</th><th title = \"String\" style = \"text-align: left;\">String</th><th title = \"Float64\" style = \"text-align: left;\">Float64</th><th title = \"Float64\" style = \"text-align: left;\">Float64</th></tr></thead><tbody><tr><td class = \"rowNumber\" style = \"font-weight: bold; text-align: right;\">1</td><td style = \"text-align: left;\">Alice</td><td style = \"text-align: right;\">18</td><td style = \"text-align: left;\">F</td><td style = \"text-align: right;\">6.5</td><td style = \"text-align: right;\">15.5</td></tr><tr><td class = \"rowNumber\" style = \"font-weight: bold; text-align: right;\">2</td><td style = \"text-align: left;\">Barry</td><td style = \"text-align: right;\">24</td><td style = \"text-align: left;\">M</td><td style = \"text-align: right;\">12.0</td><td style = \"text-align: right;\">18.25</td></tr><tr><td class = \"rowNumber\" style = \"font-weight: bold; text-align: right;\">3</td><td style = \"text-align: left;\">Charlize</td><td style = \"text-align: right;\">45</td><td style = \"text-align: left;\">X</td><td style = \"text-align: right;\">8.0</td><td style = \"text-align: right;\">22.5</td></tr><tr><td class = \"rowNumber\" style = \"font-weight: bold; text-align: right;\">4</td><td style = \"text-align: left;\">Doreen</td><td style = \"text-align: right;\">72</td><td style = \"text-align: left;\">F</td><td style = \"text-align: right;\">7.5</td><td style = \"text-align: right;\">24.5</td></tr><tr><td class = \"rowNumber\" style = \"font-weight: bold; text-align: right;\">5</td><td style = \"text-align: left;\">Edgar</td><td style = \"text-align: right;\">64</td><td style = \"text-align: left;\">M</td><td style = \"text-align: right;\">10.0</td><td style = \"text-align: right;\">33.0</td></tr><tr><td class = \"rowNumber\" style = \"font-weight: bold; text-align: right;\">6</td><td style = \"text-align: left;\">Francine</td><td style = \"text-align: right;\">16</td><td style = \"text-align: left;\">F</td><td style = \"text-align: right;\">9.0</td><td style = \"text-align: right;\">18.75</td></tr></tbody></table></div>"
      ],
      "text/latex": [
       "\\begin{tabular}{r|ccccc}\n",
       "\t& Name & Age & Sex & Shoe Size & Pay Rate\\\\\n",
       "\t\\hline\n",
       "\t& String & Int64 & String & Float64 & Float64\\\\\n",
       "\t\\hline\n",
       "\t1 & Alice & 18 & F & 6.5 & 15.5 \\\\\n",
       "\t2 & Barry & 24 & M & 12.0 & 18.25 \\\\\n",
       "\t3 & Charlize & 45 & X & 8.0 & 22.5 \\\\\n",
       "\t4 & Doreen & 72 & F & 7.5 & 24.5 \\\\\n",
       "\t5 & Edgar & 64 & M & 10.0 & 33.0 \\\\\n",
       "\t6 & Francine & 16 & F & 9.0 & 18.75 \\\\\n",
       "\\end{tabular}\n"
      ],
      "text/plain": [
       "\u001b[1m6×5 DataFrame\u001b[0m\n",
       "\u001b[1m Row \u001b[0m│\u001b[1m Name     \u001b[0m\u001b[1m Age   \u001b[0m\u001b[1m Sex    \u001b[0m\u001b[1m Shoe Size \u001b[0m\u001b[1m Pay Rate \u001b[0m\n",
       "     │\u001b[90m String   \u001b[0m\u001b[90m Int64 \u001b[0m\u001b[90m String \u001b[0m\u001b[90m Float64   \u001b[0m\u001b[90m Float64  \u001b[0m\n",
       "─────┼──────────────────────────────────────────────\n",
       "   1 │ Alice        18  F             6.5     15.5\n",
       "   2 │ Barry        24  M            12.0     18.25\n",
       "   3 │ Charlize     45  X             8.0     22.5\n",
       "   4 │ Doreen       72  F             7.5     24.5\n",
       "   5 │ Edgar        64  M            10.0     33.0\n",
       "   6 │ Francine     16  F             9.0     18.75"
      ]
     },
     "metadata": {},
     "output_type": "display_data"
    }
   ],
   "source": [
    "df = DataFrame(XLSX.readtable(\"simple.xlsx\", \"Sheet1\", infer_eltypes=true))"
   ]
  },
  {
   "cell_type": "code",
   "execution_count": 85,
   "metadata": {},
   "outputs": [
    {
     "data": {
      "text/html": [
       "<div><div style = \"float: left;\"><span>6×5 DataFrame</span></div><div style = \"clear: both;\"></div></div><div class = \"data-frame\" style = \"overflow-x: scroll;\"><table class = \"data-frame\" style = \"margin-bottom: 6px;\"><thead><tr class = \"header\"><th class = \"rowNumber\" style = \"font-weight: bold; text-align: right;\">Row</th><th style = \"text-align: left;\">Name</th><th style = \"text-align: left;\">Age</th><th style = \"text-align: left;\">Sex</th><th style = \"text-align: left;\">Shoe_Size</th><th style = \"text-align: left;\">Pay_Rate</th></tr><tr class = \"subheader headerLastRow\"><th class = \"rowNumber\" style = \"font-weight: bold; text-align: right;\"></th><th title = \"String\" style = \"text-align: left;\">String</th><th title = \"Int64\" style = \"text-align: left;\">Int64</th><th title = \"String\" style = \"text-align: left;\">String</th><th title = \"Float64\" style = \"text-align: left;\">Float64</th><th title = \"Float64\" style = \"text-align: left;\">Float64</th></tr></thead><tbody><tr><td class = \"rowNumber\" style = \"font-weight: bold; text-align: right;\">1</td><td style = \"text-align: left;\">Alice</td><td style = \"text-align: right;\">18</td><td style = \"text-align: left;\">F</td><td style = \"text-align: right;\">6.5</td><td style = \"text-align: right;\">15.5</td></tr><tr><td class = \"rowNumber\" style = \"font-weight: bold; text-align: right;\">2</td><td style = \"text-align: left;\">Barry</td><td style = \"text-align: right;\">24</td><td style = \"text-align: left;\">M</td><td style = \"text-align: right;\">12.0</td><td style = \"text-align: right;\">18.25</td></tr><tr><td class = \"rowNumber\" style = \"font-weight: bold; text-align: right;\">3</td><td style = \"text-align: left;\">Charlize</td><td style = \"text-align: right;\">45</td><td style = \"text-align: left;\">X</td><td style = \"text-align: right;\">8.0</td><td style = \"text-align: right;\">22.5</td></tr><tr><td class = \"rowNumber\" style = \"font-weight: bold; text-align: right;\">4</td><td style = \"text-align: left;\">Doreen</td><td style = \"text-align: right;\">72</td><td style = \"text-align: left;\">F</td><td style = \"text-align: right;\">7.5</td><td style = \"text-align: right;\">24.5</td></tr><tr><td class = \"rowNumber\" style = \"font-weight: bold; text-align: right;\">5</td><td style = \"text-align: left;\">Edgar</td><td style = \"text-align: right;\">64</td><td style = \"text-align: left;\">M</td><td style = \"text-align: right;\">10.0</td><td style = \"text-align: right;\">33.0</td></tr><tr><td class = \"rowNumber\" style = \"font-weight: bold; text-align: right;\">6</td><td style = \"text-align: left;\">Francine</td><td style = \"text-align: right;\">16</td><td style = \"text-align: left;\">F</td><td style = \"text-align: right;\">9.0</td><td style = \"text-align: right;\">18.75</td></tr></tbody></table></div>"
      ],
      "text/latex": [
       "\\begin{tabular}{r|ccccc}\n",
       "\t& Name & Age & Sex & Shoe\\_Size & Pay\\_Rate\\\\\n",
       "\t\\hline\n",
       "\t& String & Int64 & String & Float64 & Float64\\\\\n",
       "\t\\hline\n",
       "\t1 & Alice & 18 & F & 6.5 & 15.5 \\\\\n",
       "\t2 & Barry & 24 & M & 12.0 & 18.25 \\\\\n",
       "\t3 & Charlize & 45 & X & 8.0 & 22.5 \\\\\n",
       "\t4 & Doreen & 72 & F & 7.5 & 24.5 \\\\\n",
       "\t5 & Edgar & 64 & M & 10.0 & 33.0 \\\\\n",
       "\t6 & Francine & 16 & F & 9.0 & 18.75 \\\\\n",
       "\\end{tabular}\n"
      ],
      "text/plain": [
       "\u001b[1m6×5 DataFrame\u001b[0m\n",
       "\u001b[1m Row \u001b[0m│\u001b[1m Name     \u001b[0m\u001b[1m Age   \u001b[0m\u001b[1m Sex    \u001b[0m\u001b[1m Shoe_Size \u001b[0m\u001b[1m Pay_Rate \u001b[0m\n",
       "     │\u001b[90m String   \u001b[0m\u001b[90m Int64 \u001b[0m\u001b[90m String \u001b[0m\u001b[90m Float64   \u001b[0m\u001b[90m Float64  \u001b[0m\n",
       "─────┼──────────────────────────────────────────────\n",
       "   1 │ Alice        18  F             6.5     15.5\n",
       "   2 │ Barry        24  M            12.0     18.25\n",
       "   3 │ Charlize     45  X             8.0     22.5\n",
       "   4 │ Doreen       72  F             7.5     24.5\n",
       "   5 │ Edgar        64  M            10.0     33.0\n",
       "   6 │ Francine     16  F             9.0     18.75"
      ]
     },
     "metadata": {},
     "output_type": "display_data"
    }
   ],
   "source": [
    "rename!(df, :\"Shoe Size\" => :Shoe_Size, :\"Pay Rate\" => :Pay_Rate)"
   ]
  },
  {
   "cell_type": "code",
   "execution_count": 47,
   "metadata": {},
   "outputs": [
    {
     "data": {
      "text/html": [
       "<div><div style = \"float: left;\"><span>5×7 DataFrame</span></div><div style = \"clear: both;\"></div></div><div class = \"data-frame\" style = \"overflow-x: scroll;\"><table class = \"data-frame\" style = \"margin-bottom: 6px;\"><thead><tr class = \"header\"><th class = \"rowNumber\" style = \"font-weight: bold; text-align: right;\">Row</th><th style = \"text-align: left;\">variable</th><th style = \"text-align: left;\">mean</th><th style = \"text-align: left;\">min</th><th style = \"text-align: left;\">median</th><th style = \"text-align: left;\">max</th><th style = \"text-align: left;\">nmissing</th><th style = \"text-align: left;\">eltype</th></tr><tr class = \"subheader headerLastRow\"><th class = \"rowNumber\" style = \"font-weight: bold; text-align: right;\"></th><th title = \"Symbol\" style = \"text-align: left;\">Symbol</th><th title = \"Union{Nothing, Float64}\" style = \"text-align: left;\">Union…</th><th title = \"Any\" style = \"text-align: left;\">Any</th><th title = \"Union{Nothing, Float64}\" style = \"text-align: left;\">Union…</th><th title = \"Any\" style = \"text-align: left;\">Any</th><th title = \"Int64\" style = \"text-align: left;\">Int64</th><th title = \"DataType\" style = \"text-align: left;\">DataType</th></tr></thead><tbody><tr><td class = \"rowNumber\" style = \"font-weight: bold; text-align: right;\">1</td><td style = \"text-align: left;\">Name</td><td style = \"font-style: italic; text-align: left;\"></td><td style = \"text-align: left;\">Alice</td><td style = \"font-style: italic; text-align: left;\"></td><td style = \"text-align: left;\">Francine</td><td style = \"text-align: right;\">0</td><td style = \"text-align: left;\">String</td></tr><tr><td class = \"rowNumber\" style = \"font-weight: bold; text-align: right;\">2</td><td style = \"text-align: left;\">Age</td><td style = \"text-align: left;\">39.8333</td><td style = \"text-align: left;\">16</td><td style = \"text-align: left;\">34.5</td><td style = \"text-align: left;\">72</td><td style = \"text-align: right;\">0</td><td style = \"text-align: left;\">Int64</td></tr><tr><td class = \"rowNumber\" style = \"font-weight: bold; text-align: right;\">3</td><td style = \"text-align: left;\">Sex</td><td style = \"font-style: italic; text-align: left;\"></td><td style = \"text-align: left;\">F</td><td style = \"font-style: italic; text-align: left;\"></td><td style = \"text-align: left;\">X</td><td style = \"text-align: right;\">0</td><td style = \"text-align: left;\">String</td></tr><tr><td class = \"rowNumber\" style = \"font-weight: bold; text-align: right;\">4</td><td style = \"text-align: left;\">Shoe Size</td><td style = \"text-align: left;\">8.83333</td><td style = \"text-align: left;\">6.5</td><td style = \"text-align: left;\">8.5</td><td style = \"text-align: left;\">12.0</td><td style = \"text-align: right;\">0</td><td style = \"text-align: left;\">Float64</td></tr><tr><td class = \"rowNumber\" style = \"font-weight: bold; text-align: right;\">5</td><td style = \"text-align: left;\">Pay Rate</td><td style = \"text-align: left;\">22.0833</td><td style = \"text-align: left;\">15.5</td><td style = \"text-align: left;\">20.625</td><td style = \"text-align: left;\">33.0</td><td style = \"text-align: right;\">0</td><td style = \"text-align: left;\">Float64</td></tr></tbody></table></div>"
      ],
      "text/latex": [
       "\\begin{tabular}{r|ccccccc}\n",
       "\t& variable & mean & min & median & max & nmissing & eltype\\\\\n",
       "\t\\hline\n",
       "\t& Symbol & Union… & Any & Union… & Any & Int64 & DataType\\\\\n",
       "\t\\hline\n",
       "\t1 & Name &  & Alice &  & Francine & 0 & String \\\\\n",
       "\t2 & Age & 39.8333 & 16 & 34.5 & 72 & 0 & Int64 \\\\\n",
       "\t3 & Sex &  & F &  & X & 0 & String \\\\\n",
       "\t4 & Shoe Size & 8.83333 & 6.5 & 8.5 & 12.0 & 0 & Float64 \\\\\n",
       "\t5 & Pay Rate & 22.0833 & 15.5 & 20.625 & 33.0 & 0 & Float64 \\\\\n",
       "\\end{tabular}\n"
      ],
      "text/plain": [
       "\u001b[1m5×7 DataFrame\u001b[0m\n",
       "\u001b[1m Row \u001b[0m│\u001b[1m variable  \u001b[0m\u001b[1m mean    \u001b[0m\u001b[1m min   \u001b[0m\u001b[1m median \u001b[0m\u001b[1m max      \u001b[0m\u001b[1m nmissing \u001b[0m\u001b[1m eltype   \u001b[0m\n",
       "     │\u001b[90m Symbol    \u001b[0m\u001b[90m Union…  \u001b[0m\u001b[90m Any   \u001b[0m\u001b[90m Union… \u001b[0m\u001b[90m Any      \u001b[0m\u001b[90m Int64    \u001b[0m\u001b[90m DataType \u001b[0m\n",
       "─────┼─────────────────────────────────────────────────────────────────\n",
       "   1 │ Name      \u001b[90m         \u001b[0m Alice \u001b[90m        \u001b[0m Francine         0  String\n",
       "   2 │ Age        39.8333  16     34.5    72               0  Int64\n",
       "   3 │ Sex       \u001b[90m         \u001b[0m F     \u001b[90m        \u001b[0m X                0  String\n",
       "   4 │ Shoe Size  8.83333  6.5    8.5     12.0             0  Float64\n",
       "   5 │ Pay Rate   22.0833  15.5   20.625  33.0             0  Float64"
      ]
     },
     "metadata": {},
     "output_type": "display_data"
    }
   ],
   "source": [
    "describe(df)"
   ]
  },
  {
   "cell_type": "code",
   "execution_count": null,
   "metadata": {},
   "outputs": [],
   "source": []
  }
 ],
 "metadata": {
  "kernelspec": {
   "display_name": "Julia 1.11.1",
   "language": "julia",
   "name": "julia-1.11"
  },
  "language_info": {
   "file_extension": ".jl",
   "mimetype": "application/julia",
   "name": "julia",
   "version": "1.11.1"
  }
 },
 "nbformat": 4,
 "nbformat_minor": 4
}
