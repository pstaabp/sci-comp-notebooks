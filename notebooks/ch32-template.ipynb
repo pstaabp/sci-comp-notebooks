{
 "cells": [
  {
   "cell_type": "markdown",
   "metadata": {},
   "source": [
    "## Chapter 32: Olympic Data"
   ]
  },
  {
   "cell_type": "code",
   "execution_count": 20,
   "metadata": {},
   "outputs": [
    {
     "data": {
      "text/plain": [
       "10"
      ]
     },
     "metadata": {},
     "output_type": "display_data"
    }
   ],
   "source": [
    "using CSV, DataFrames, Chain, CairoMakie\n",
    "CairoMakie.activate!()\n",
    "Makie.inline!(true)\n",
    "ENV[\"DATAFRAMES_ROWS\"] = 10"
   ]
  },
  {
   "cell_type": "code",
   "execution_count": 15,
   "metadata": {},
   "outputs": [
    {
     "data": {
      "text/html": [
       "<div><div style = \"float: left;\"><span>271116×15 DataFrame</span></div><div style = \"float: right;\"><span style = \"font-style: italic;\">271106 rows omitted</span></div><div style = \"clear: both;\"></div></div><div class = \"data-frame\" style = \"overflow-x: scroll;\"><table class = \"data-frame\" style = \"margin-bottom: 6px;\"><thead><tr class = \"header\"><th class = \"rowNumber\" style = \"font-weight: bold; text-align: right;\">Row</th><th style = \"text-align: left;\">ID</th><th style = \"text-align: left;\">Name</th><th style = \"text-align: left;\">Sex</th><th style = \"text-align: left;\">Age</th><th style = \"text-align: left;\">Height</th><th style = \"text-align: left;\">Weight</th><th style = \"text-align: left;\">Team</th><th style = \"text-align: left;\">NOC</th><th style = \"text-align: left;\">Games</th><th style = \"text-align: left;\">Year</th><th style = \"text-align: left;\">Season</th><th style = \"text-align: left;\">City</th><th style = \"text-align: left;\">Sport</th><th style = \"text-align: left;\">Event</th><th style = \"text-align: left;\">Medal</th></tr><tr class = \"subheader headerLastRow\"><th class = \"rowNumber\" style = \"font-weight: bold; text-align: right;\"></th><th title = \"Int64\" style = \"text-align: left;\">Int64</th><th title = \"String\" style = \"text-align: left;\">String</th><th title = \"String1\" style = \"text-align: left;\">String1</th><th title = \"Union{Missing, Int64}\" style = \"text-align: left;\">Int64?</th><th title = \"Union{Missing, Int64}\" style = \"text-align: left;\">Int64?</th><th title = \"Union{Missing, Float64}\" style = \"text-align: left;\">Float64?</th><th title = \"String\" style = \"text-align: left;\">String</th><th title = \"String3\" style = \"text-align: left;\">String3</th><th title = \"String15\" style = \"text-align: left;\">String15</th><th title = \"Int64\" style = \"text-align: left;\">Int64</th><th title = \"String7\" style = \"text-align: left;\">String7</th><th title = \"String31\" style = \"text-align: left;\">String31</th><th title = \"String31\" style = \"text-align: left;\">String31</th><th title = \"String\" style = \"text-align: left;\">String</th><th title = \"Union{Missing, String7}\" style = \"text-align: left;\">String7?</th></tr></thead><tbody><tr><td class = \"rowNumber\" style = \"font-weight: bold; text-align: right;\">1</td><td style = \"text-align: right;\">1</td><td style = \"text-align: left;\">A Dijiang</td><td style = \"text-align: left;\">M</td><td style = \"text-align: right;\">24</td><td style = \"text-align: right;\">180</td><td style = \"text-align: right;\">80.0</td><td style = \"text-align: left;\">China</td><td style = \"text-align: left;\">CHN</td><td style = \"text-align: left;\">1992 Summer</td><td style = \"text-align: right;\">1992</td><td style = \"text-align: left;\">Summer</td><td style = \"text-align: left;\">Barcelona</td><td style = \"text-align: left;\">Basketball</td><td style = \"text-align: left;\">Basketball Men&apos;s Basketball</td><td style = \"font-style: italic; text-align: left;\">missing</td></tr><tr><td class = \"rowNumber\" style = \"font-weight: bold; text-align: right;\">2</td><td style = \"text-align: right;\">2</td><td style = \"text-align: left;\">A Lamusi</td><td style = \"text-align: left;\">M</td><td style = \"text-align: right;\">23</td><td style = \"text-align: right;\">170</td><td style = \"text-align: right;\">60.0</td><td style = \"text-align: left;\">China</td><td style = \"text-align: left;\">CHN</td><td style = \"text-align: left;\">2012 Summer</td><td style = \"text-align: right;\">2012</td><td style = \"text-align: left;\">Summer</td><td style = \"text-align: left;\">London</td><td style = \"text-align: left;\">Judo</td><td style = \"text-align: left;\">Judo Men&apos;s Extra-Lightweight</td><td style = \"font-style: italic; text-align: left;\">missing</td></tr><tr><td class = \"rowNumber\" style = \"font-weight: bold; text-align: right;\">3</td><td style = \"text-align: right;\">3</td><td style = \"text-align: left;\">Gunnar Nielsen Aaby</td><td style = \"text-align: left;\">M</td><td style = \"text-align: right;\">24</td><td style = \"font-style: italic; text-align: right;\">missing</td><td style = \"font-style: italic; text-align: right;\">missing</td><td style = \"text-align: left;\">Denmark</td><td style = \"text-align: left;\">DEN</td><td style = \"text-align: left;\">1920 Summer</td><td style = \"text-align: right;\">1920</td><td style = \"text-align: left;\">Summer</td><td style = \"text-align: left;\">Antwerpen</td><td style = \"text-align: left;\">Football</td><td style = \"text-align: left;\">Football Men&apos;s Football</td><td style = \"font-style: italic; text-align: left;\">missing</td></tr><tr><td class = \"rowNumber\" style = \"font-weight: bold; text-align: right;\">4</td><td style = \"text-align: right;\">4</td><td style = \"text-align: left;\">Edgar Lindenau Aabye</td><td style = \"text-align: left;\">M</td><td style = \"text-align: right;\">34</td><td style = \"font-style: italic; text-align: right;\">missing</td><td style = \"font-style: italic; text-align: right;\">missing</td><td style = \"text-align: left;\">Denmark/Sweden</td><td style = \"text-align: left;\">DEN</td><td style = \"text-align: left;\">1900 Summer</td><td style = \"text-align: right;\">1900</td><td style = \"text-align: left;\">Summer</td><td style = \"text-align: left;\">Paris</td><td style = \"text-align: left;\">Tug-Of-War</td><td style = \"text-align: left;\">Tug-Of-War Men&apos;s Tug-Of-War</td><td style = \"text-align: left;\">Gold</td></tr><tr><td class = \"rowNumber\" style = \"font-weight: bold; text-align: right;\">5</td><td style = \"text-align: right;\">5</td><td style = \"text-align: left;\">Christine Jacoba Aaftink</td><td style = \"text-align: left;\">F</td><td style = \"text-align: right;\">21</td><td style = \"text-align: right;\">185</td><td style = \"text-align: right;\">82.0</td><td style = \"text-align: left;\">Netherlands</td><td style = \"text-align: left;\">NED</td><td style = \"text-align: left;\">1988 Winter</td><td style = \"text-align: right;\">1988</td><td style = \"text-align: left;\">Winter</td><td style = \"text-align: left;\">Calgary</td><td style = \"text-align: left;\">Speed Skating</td><td style = \"text-align: left;\">Speed Skating Women&apos;s 500 metres</td><td style = \"font-style: italic; text-align: left;\">missing</td></tr><tr><td style = \"text-align: right;\">&vellip;</td><td style = \"text-align: right;\">&vellip;</td><td style = \"text-align: right;\">&vellip;</td><td style = \"text-align: right;\">&vellip;</td><td style = \"text-align: right;\">&vellip;</td><td style = \"text-align: right;\">&vellip;</td><td style = \"text-align: right;\">&vellip;</td><td style = \"text-align: right;\">&vellip;</td><td style = \"text-align: right;\">&vellip;</td><td style = \"text-align: right;\">&vellip;</td><td style = \"text-align: right;\">&vellip;</td><td style = \"text-align: right;\">&vellip;</td><td style = \"text-align: right;\">&vellip;</td><td style = \"text-align: right;\">&vellip;</td><td style = \"text-align: right;\">&vellip;</td><td style = \"text-align: right;\">&vellip;</td></tr><tr><td class = \"rowNumber\" style = \"font-weight: bold; text-align: right;\">271112</td><td style = \"text-align: right;\">135569</td><td style = \"text-align: left;\">Andrzej ya</td><td style = \"text-align: left;\">M</td><td style = \"text-align: right;\">29</td><td style = \"text-align: right;\">179</td><td style = \"text-align: right;\">89.0</td><td style = \"text-align: left;\">Poland-1</td><td style = \"text-align: left;\">POL</td><td style = \"text-align: left;\">1976 Winter</td><td style = \"text-align: right;\">1976</td><td style = \"text-align: left;\">Winter</td><td style = \"text-align: left;\">Innsbruck</td><td style = \"text-align: left;\">Luge</td><td style = \"text-align: left;\">Luge Mixed (Men)&apos;s Doubles</td><td style = \"font-style: italic; text-align: left;\">missing</td></tr><tr><td class = \"rowNumber\" style = \"font-weight: bold; text-align: right;\">271113</td><td style = \"text-align: right;\">135570</td><td style = \"text-align: left;\">Piotr ya</td><td style = \"text-align: left;\">M</td><td style = \"text-align: right;\">27</td><td style = \"text-align: right;\">176</td><td style = \"text-align: right;\">59.0</td><td style = \"text-align: left;\">Poland</td><td style = \"text-align: left;\">POL</td><td style = \"text-align: left;\">2014 Winter</td><td style = \"text-align: right;\">2014</td><td style = \"text-align: left;\">Winter</td><td style = \"text-align: left;\">Sochi</td><td style = \"text-align: left;\">Ski Jumping</td><td style = \"text-align: left;\">Ski Jumping Men&apos;s Large Hill, Individual</td><td style = \"font-style: italic; text-align: left;\">missing</td></tr><tr><td class = \"rowNumber\" style = \"font-weight: bold; text-align: right;\">271114</td><td style = \"text-align: right;\">135570</td><td style = \"text-align: left;\">Piotr ya</td><td style = \"text-align: left;\">M</td><td style = \"text-align: right;\">27</td><td style = \"text-align: right;\">176</td><td style = \"text-align: right;\">59.0</td><td style = \"text-align: left;\">Poland</td><td style = \"text-align: left;\">POL</td><td style = \"text-align: left;\">2014 Winter</td><td style = \"text-align: right;\">2014</td><td style = \"text-align: left;\">Winter</td><td style = \"text-align: left;\">Sochi</td><td style = \"text-align: left;\">Ski Jumping</td><td style = \"text-align: left;\">Ski Jumping Men&apos;s Large Hill, Team</td><td style = \"font-style: italic; text-align: left;\">missing</td></tr><tr><td class = \"rowNumber\" style = \"font-weight: bold; text-align: right;\">271115</td><td style = \"text-align: right;\">135571</td><td style = \"text-align: left;\">Tomasz Ireneusz ya</td><td style = \"text-align: left;\">M</td><td style = \"text-align: right;\">30</td><td style = \"text-align: right;\">185</td><td style = \"text-align: right;\">96.0</td><td style = \"text-align: left;\">Poland</td><td style = \"text-align: left;\">POL</td><td style = \"text-align: left;\">1998 Winter</td><td style = \"text-align: right;\">1998</td><td style = \"text-align: left;\">Winter</td><td style = \"text-align: left;\">Nagano</td><td style = \"text-align: left;\">Bobsleigh</td><td style = \"text-align: left;\">Bobsleigh Men&apos;s Four</td><td style = \"font-style: italic; text-align: left;\">missing</td></tr><tr><td class = \"rowNumber\" style = \"font-weight: bold; text-align: right;\">271116</td><td style = \"text-align: right;\">135571</td><td style = \"text-align: left;\">Tomasz Ireneusz ya</td><td style = \"text-align: left;\">M</td><td style = \"text-align: right;\">34</td><td style = \"text-align: right;\">185</td><td style = \"text-align: right;\">96.0</td><td style = \"text-align: left;\">Poland</td><td style = \"text-align: left;\">POL</td><td style = \"text-align: left;\">2002 Winter</td><td style = \"text-align: right;\">2002</td><td style = \"text-align: left;\">Winter</td><td style = \"text-align: left;\">Salt Lake City</td><td style = \"text-align: left;\">Bobsleigh</td><td style = \"text-align: left;\">Bobsleigh Men&apos;s Four</td><td style = \"font-style: italic; text-align: left;\">missing</td></tr></tbody></table></div>"
      ],
      "text/latex": [
       "\\begin{tabular}{r|cccccccc}\n",
       "\t& ID & Name & Sex & Age & Height & Weight & Team & \\\\\n",
       "\t\\hline\n",
       "\t& Int64 & String & String1 & Int64? & Int64? & Float64? & String & \\\\\n",
       "\t\\hline\n",
       "\t1 & 1 & A Dijiang & M & 24 & 180 & 80.0 & China & $\\dots$ \\\\\n",
       "\t2 & 2 & A Lamusi & M & 23 & 170 & 60.0 & China & $\\dots$ \\\\\n",
       "\t3 & 3 & Gunnar Nielsen Aaby & M & 24 & \\emph{missing} & \\emph{missing} & Denmark & $\\dots$ \\\\\n",
       "\t4 & 4 & Edgar Lindenau Aabye & M & 34 & \\emph{missing} & \\emph{missing} & Denmark/Sweden & $\\dots$ \\\\\n",
       "\t5 & 5 & Christine Jacoba Aaftink & F & 21 & 185 & 82.0 & Netherlands & $\\dots$ \\\\\n",
       "\t6 & 5 & Christine Jacoba Aaftink & F & 21 & 185 & 82.0 & Netherlands & $\\dots$ \\\\\n",
       "\t7 & 5 & Christine Jacoba Aaftink & F & 25 & 185 & 82.0 & Netherlands & $\\dots$ \\\\\n",
       "\t8 & 5 & Christine Jacoba Aaftink & F & 25 & 185 & 82.0 & Netherlands & $\\dots$ \\\\\n",
       "\t9 & 5 & Christine Jacoba Aaftink & F & 27 & 185 & 82.0 & Netherlands & $\\dots$ \\\\\n",
       "\t10 & 5 & Christine Jacoba Aaftink & F & 27 & 185 & 82.0 & Netherlands & $\\dots$ \\\\\n",
       "\t11 & 6 & Per Knut Aaland & M & 31 & 188 & 75.0 & United States & $\\dots$ \\\\\n",
       "\t12 & 6 & Per Knut Aaland & M & 31 & 188 & 75.0 & United States & $\\dots$ \\\\\n",
       "\t13 & 6 & Per Knut Aaland & M & 31 & 188 & 75.0 & United States & $\\dots$ \\\\\n",
       "\t14 & 6 & Per Knut Aaland & M & 31 & 188 & 75.0 & United States & $\\dots$ \\\\\n",
       "\t15 & 6 & Per Knut Aaland & M & 33 & 188 & 75.0 & United States & $\\dots$ \\\\\n",
       "\t16 & 6 & Per Knut Aaland & M & 33 & 188 & 75.0 & United States & $\\dots$ \\\\\n",
       "\t17 & 6 & Per Knut Aaland & M & 33 & 188 & 75.0 & United States & $\\dots$ \\\\\n",
       "\t18 & 6 & Per Knut Aaland & M & 33 & 188 & 75.0 & United States & $\\dots$ \\\\\n",
       "\t19 & 7 & John Aalberg & M & 31 & 183 & 72.0 & United States & $\\dots$ \\\\\n",
       "\t20 & 7 & John Aalberg & M & 31 & 183 & 72.0 & United States & $\\dots$ \\\\\n",
       "\t21 & 7 & John Aalberg & M & 31 & 183 & 72.0 & United States & $\\dots$ \\\\\n",
       "\t22 & 7 & John Aalberg & M & 31 & 183 & 72.0 & United States & $\\dots$ \\\\\n",
       "\t23 & 7 & John Aalberg & M & 33 & 183 & 72.0 & United States & $\\dots$ \\\\\n",
       "\t24 & 7 & John Aalberg & M & 33 & 183 & 72.0 & United States & $\\dots$ \\\\\n",
       "\t$\\dots$ & $\\dots$ & $\\dots$ & $\\dots$ & $\\dots$ & $\\dots$ & $\\dots$ & $\\dots$ &  \\\\\n",
       "\\end{tabular}\n"
      ],
      "text/plain": [
       "\u001b[1m271116×15 DataFrame\u001b[0m\n",
       "\u001b[1m    Row \u001b[0m│\u001b[1m ID     \u001b[0m\u001b[1m Name                         \u001b[0m\u001b[1m Sex     \u001b[0m\u001b[1m Age    \u001b[0m\u001b[1m Height  \u001b[0m\u001b[1m Weig\u001b[0m ⋯\n",
       "        │\u001b[90m Int64  \u001b[0m\u001b[90m String                       \u001b[0m\u001b[90m String1 \u001b[0m\u001b[90m Int64? \u001b[0m\u001b[90m Int64?  \u001b[0m\u001b[90m Floa\u001b[0m ⋯\n",
       "────────┼───────────────────────────────────────────────────────────────────────\n",
       "      1 │      1  A Dijiang                     M            24      180       ⋯\n",
       "      2 │      2  A Lamusi                      M            23      170\n",
       "      3 │      3  Gunnar Nielsen Aaby           M            24 \u001b[90m missing \u001b[0m\u001b[90m miss\u001b[0m\n",
       "      4 │      4  Edgar Lindenau Aabye          M            34 \u001b[90m missing \u001b[0m\u001b[90m miss\u001b[0m\n",
       "      5 │      5  Christine Jacoba Aaftink      F            21      185       ⋯\n",
       "      6 │      5  Christine Jacoba Aaftink      F            21      185\n",
       "      7 │      5  Christine Jacoba Aaftink      F            25      185\n",
       "      8 │      5  Christine Jacoba Aaftink      F            25      185\n",
       "   ⋮    │   ⋮                  ⋮                   ⋮       ⋮        ⋮          ⋱\n",
       " 271110 │ 135567  Aleksandr Viktorovich Zyuzin  M            28      183       ⋯\n",
       " 271111 │ 135568  Olga Igorevna Zyuzkova        F            33      171\n",
       " 271112 │ 135569  Andrzej ya                    M            29      179\n",
       " 271113 │ 135570  Piotr ya                      M            27      176\n",
       " 271114 │ 135570  Piotr ya                      M            27      176       ⋯\n",
       " 271115 │ 135571  Tomasz Ireneusz ya            M            30      185\n",
       " 271116 │ 135571  Tomasz Ireneusz ya            M            34      185\n",
       "\u001b[36m                                              10 columns and 271101 rows omitted\u001b[0m"
      ]
     },
     "metadata": {},
     "output_type": "display_data"
    }
   ],
   "source": [
    "olympics = CSV.read(\"../data/olympic-athletes.csv\", DataFrame, missingstring = \"NA\")"
   ]
  },
  {
   "cell_type": "code",
   "execution_count": 10,
   "metadata": {},
   "outputs": [
    {
     "data": {
      "text/plain": [
       "15-element Vector{String}:\n",
       " \"ID\"\n",
       " \"Name\"\n",
       " \"Sex\"\n",
       " \"Age\"\n",
       " \"Height\"\n",
       " \"Weight\"\n",
       " \"Team\"\n",
       " \"NOC\"\n",
       " \"Games\"\n",
       " \"Year\"\n",
       " \"Season\"\n",
       " \"City\"\n",
       " \"Sport\"\n",
       " \"Event\"\n",
       " \"Medal\""
      ]
     },
     "metadata": {},
     "output_type": "display_data"
    }
   ],
   "source": [
    "names(olympics)"
   ]
  },
  {
   "cell_type": "code",
   "execution_count": 11,
   "metadata": {},
   "outputs": [
    {
     "data": {
      "text/plain": [
       "271116-element Vector{String}:\n",
       " \"Basketball Men's Basketball\"\n",
       " \"Judo Men's Extra-Lightweight\"\n",
       " \"Football Men's Football\"\n",
       " \"Tug-Of-War Men's Tug-Of-War\"\n",
       " \"Speed Skating Women's 500 metres\"\n",
       " \"Speed Skating Women's 1,000 metres\"\n",
       " \"Speed Skating Women's 500 metres\"\n",
       " \"Speed Skating Women's 1,000 metres\"\n",
       " \"Speed Skating Women's 500 metres\"\n",
       " \"Speed Skating Women's 1,000 metres\"\n",
       " ⋮\n",
       " \"Football Men's Football\"\n",
       " \"Rowing Men's Lightweight Coxless Fours\"\n",
       " \"Rowing Men's Lightweight Coxless Fours\"\n",
       " \"Basketball Women's Basketball\"\n",
       " \"Luge Mixed (Men)'s Doubles\"\n",
       " \"Ski Jumping Men's Large Hill, Individual\"\n",
       " \"Ski Jumping Men's Large Hill, Team\"\n",
       " \"Bobsleigh Men's Four\"\n",
       " \"Bobsleigh Men's Four\""
      ]
     },
     "metadata": {},
     "output_type": "display_data"
    }
   ],
   "source": [
    "olympics.Event"
   ]
  },
  {
   "cell_type": "markdown",
   "metadata": {},
   "source": []
  },
  {
   "cell_type": "markdown",
   "metadata": {},
   "source": [
    "### What is the total number of medals given in all Olympics in the dataset?"
   ]
  },
  {
   "cell_type": "code",
   "execution_count": 17,
   "metadata": {},
   "outputs": [
    {
     "data": {
      "text/plain": [
       "39783"
      ]
     },
     "metadata": {},
     "output_type": "display_data"
    }
   ],
   "source": [
    "@chain olympics begin\n",
    "  dropmissing(:Medal)\n",
    "  nrow\n",
    "end"
   ]
  },
  {
   "cell_type": "markdown",
   "metadata": {},
   "source": [
    "### 2. Collectively taking all Summer games, list the top 10 athletes with medals."
   ]
  },
  {
   "cell_type": "code",
   "execution_count": 18,
   "metadata": {},
   "outputs": [],
   "source": []
  },
  {
   "cell_type": "markdown",
   "metadata": {},
   "source": [
    "### 3. List the top 5 countries with medals in the Winter Olympics."
   ]
  },
  {
   "cell_type": "code",
   "execution_count": null,
   "metadata": {},
   "outputs": [],
   "source": []
  },
  {
   "cell_type": "markdown",
   "metadata": {},
   "source": [
    "### 4. Doing a comparison bar plot of average weight of athletes in the summer and winter olympics by gender. \n",
    "\n",
    "Before doing that here is a simple grouped bar plot:"
   ]
  },
  {
   "cell_type": "code",
   "execution_count": null,
   "metadata": {},
   "outputs": [
    {
     "data": {
      "image/png": "[encoded data removed]",
      "text/html": [
       "<img width=600 height=450 style='object-fit: contain; height: auto;' src=\"data:image/png;base64, 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\"/>"
      ]
     },
     "metadata": {},
     "output_type": "display_data"
    }
   ],
   "source": [
    "h1 = [2, 6, 8, 7]\n",
    "h2 = [3, 8, 5, 9]\n",
    "x = [1, 2, 3, 4]\n",
    "colors =Makie.wong_colors()\n",
    "fig = barplot(vcat(x,x),vcat(h1,h2),\n",
    "  stack = vcat(x,x),\n",
    "  color=colors[repeat(1:2,inner=4)],\n",
    "  strokewidth = 0.5\n",
    ")"
   ]
  },
  {
   "cell_type": "markdown",
   "metadata": {},
   "source": [
    "### Produce a line graph of the mean weight of athletes per games over the years.  Graph men and women with different colors"
   ]
  },
  {
   "cell_type": "code",
   "execution_count": null,
   "metadata": {},
   "outputs": [
    {
     "data": {
      "application/vnd.dataresource+json": {
       "data": [
        {
         "Year": 1992,
         "weight": null
        },
        {
         "Year": 2012,
         "weight": null
        },
        {
         "Year": 1920,
         "weight": null
        },
        {
         "Year": 1900,
         "weight": null
        },
        {
         "Year": 1994,
         "weight": null
        },
        {
         "Year": 2002,
         "weight": null
        },
        {
         "Year": 1952,
         "weight": null
        },
        {
         "Year": 1980,
         "weight": null
        },
        {
         "Year": 2000,
         "weight": null
        },
        {
         "Year": 1912,
         "weight": null
        },
        {
         "Year": 1924,
         "weight": null
        },
        {
         "Year": 2014,
         "weight": null
        },
        {
         "Year": 1948,
         "weight": null
        },
        {
         "Year": 1998,
         "weight": null
        },
        {
         "Year": 2006,
         "weight": null
        },
        {
         "Year": 2004,
         "weight": null
        },
        {
         "Year": 1960,
         "weight": null
        },
        {
         "Year": 1964,
         "weight": null
        },
        {
         "Year": 1984,
         "weight": null
        },
        {
         "Year": 1968,
         "weight": null
        },
        {
         "Year": 1972,
         "weight": null
        },
        {
         "Year": 1996,
         "weight": null
        },
        {
         "Year": 1936,
         "weight": null
        },
        {
         "Year": 1956,
         "weight": null
        },
        {
         "Year": 1928,
         "weight": null
        },
        {
         "Year": 2016,
         "weight": null
        },
        {
         "Year": 1976,
         "weight": null
        },
        {
         "Year": 1988,
         "weight": null
        },
        {
         "Year": 2008,
         "weight": null
        },
        {
         "Year": 2010,
         "weight": null
        },
        {
         "Year": 1906,
         "weight": null
        },
        {
         "Year": 1904,
         "weight": null
        },
        {
         "Year": 1932,
         "weight": null
        },
        {
         "Year": 1908,
         "weight": null
        },
        {
         "Year": 1896,
         "weight": null
        }
       ],
       "schema": {
        "fields": [
         {
          "name": "Year",
          "type": "integer"
         },
         {
          "name": "weight",
          "type": "number"
         }
        ]
       }
      },
      "text/html": [
       "<table><thead><tr><th>Year</th><th>weight</th></tr></thead><tbody><tr><td>1992</td><td>#NA</td></tr><tr><td>2012</td><td>#NA</td></tr><tr><td>1920</td><td>#NA</td></tr><tr><td>1900</td><td>#NA</td></tr><tr><td>1994</td><td>#NA</td></tr><tr><td>2002</td><td>#NA</td></tr><tr><td>1952</td><td>#NA</td></tr><tr><td>1980</td><td>#NA</td></tr><tr><td>2000</td><td>#NA</td></tr><tr><td>1912</td><td>#NA</td></tr><tr><td>&vellip;</td><td>&vellip;</td></tr></tbody></table><p>... with more rows.</p>"
      ],
      "text/plain": [
       "?x2 query result\n",
       "Year │ weight\n",
       "─────┼───────\n",
       "1992 │ \u001b[90m#NA   \u001b[39m\n",
       "2012 │ \u001b[90m#NA   \u001b[39m\n",
       "1920 │ \u001b[90m#NA   \u001b[39m\n",
       "1900 │ \u001b[90m#NA   \u001b[39m\n",
       "1994 │ \u001b[90m#NA   \u001b[39m\n",
       "2002 │ \u001b[90m#NA   \u001b[39m\n",
       "1952 │ \u001b[90m#NA   \u001b[39m\n",
       "1980 │ \u001b[90m#NA   \u001b[39m\n",
       "2000 │ \u001b[90m#NA   \u001b[39m\n",
       "1912 │ \u001b[90m#NA   \u001b[39m\n",
       "... with more rows"
      ]
     },
     "execution_count": 50,
     "metadata": {},
     "output_type": "execute_result"
    }
   ],
   "source": []
  },
  {
   "cell_type": "markdown",
   "metadata": {},
   "source": [
    "### Find the mean and standard deviation of ages of all summer athletes between 1950 and 1980."
   ]
  },
  {
   "cell_type": "code",
   "execution_count": null,
   "metadata": {},
   "outputs": [],
   "source": []
  }
 ],
 "metadata": {
  "kernelspec": {
   "display_name": "Julia 1.11.1",
   "language": "julia",
   "name": "julia-1.11"
  },
  "language_info": {
   "file_extension": ".jl",
   "mimetype": "application/julia",
   "name": "julia",
   "version": "1.11.1"
  }
 },
 "nbformat": 4,
 "nbformat_minor": 4
}
