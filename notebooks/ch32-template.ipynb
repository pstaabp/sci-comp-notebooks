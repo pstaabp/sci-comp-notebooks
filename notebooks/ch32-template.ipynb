{
 "cells": [
  {
   "cell_type": "markdown",
   "metadata": {},
   "source": [
    "## Chapter 32: Olympic Data"
   ]
  },
  {
   "cell_type": "code",
   "execution_count": null,
   "metadata": {},
   "outputs": [],
   "source": [
    "using CSV, DataFrames, Chain, CairoMakie, Statistics\n",
    "CairoMakie.activate!()\n",
    "Makie.inline!(true)\n",
    "ENV[\"DATAFRAMES_ROWS\"] = 10"
   ]
  },
  {
   "cell_type": "code",
   "execution_count": null,
   "metadata": {},
   "outputs": [],
   "source": [
    "olympics = CSV.read(\"../data/olympic-athletes.csv\", DataFrame, missingstring = \"NA\")"
   ]
  },
  {
   "cell_type": "markdown",
   "metadata": {},
   "source": [
    "Note that the dataset uses \"NA\" if the data is missing.  the option `missingstring = \"NA\"` puts in the missing value into the dataframe when this happens.  The following is all of the variables (columns):"
   ]
  },
  {
   "cell_type": "code",
   "execution_count": null,
   "metadata": {},
   "outputs": [],
   "source": [
    "names(olympics)"
   ]
  },
  {
   "cell_type": "code",
   "execution_count": null,
   "metadata": {},
   "outputs": [],
   "source": [
    "olympics.Event"
   ]
  },
  {
   "cell_type": "markdown",
   "metadata": {},
   "source": [
    "### What is the total number of medals given in all Olympics in the dataset?"
   ]
  },
  {
   "cell_type": "code",
   "execution_count": null,
   "metadata": {},
   "outputs": [],
   "source": [
    "@chain olympics begin\n",
    "\n",
    "end"
   ]
  },
  {
   "cell_type": "markdown",
   "metadata": {},
   "source": [
    "### 2. Collectively taking all Summer games, list the top 10 athletes with medals."
   ]
  },
  {
   "cell_type": "code",
   "execution_count": null,
   "metadata": {},
   "outputs": [],
   "source": [
    "@chain olympics begin\n",
    "\n",
    "end"
   ]
  },
  {
   "cell_type": "markdown",
   "metadata": {},
   "source": [
    "### 3. List the top 5 countries with medals in the Winter Olympics."
   ]
  },
  {
   "cell_type": "code",
   "execution_count": null,
   "metadata": {},
   "outputs": [],
   "source": [
    "@chain olympics begin\n",
    "\n",
    "end"
   ]
  },
  {
   "cell_type": "markdown",
   "metadata": {},
   "source": [
    "### 4. Doing a comparison bar plot of average weight of athletes in the summer and winter olympics by sex. \n",
    "\n",
    "Before doing that here is a simple grouped bar plot:"
   ]
  },
  {
   "cell_type": "code",
   "execution_count": null,
   "metadata": {},
   "outputs": [],
   "source": [
    "h1 = [2, 6, 8, 7]\n",
    "h2 = [3, 8, 5, 9]\n",
    "x = [1, 2, 3, 4]\n",
    "colors =Makie.wong_colors()\n",
    "fig = barplot(vcat(x,x),vcat(h1,h2),\n",
    "  dodge = repeat(1:2,inner=4),\n",
    "  color=colors[repeat(1:2,inner=4)],\n",
    "  strokewidth = 0.5\n",
    ")"
   ]
  },
  {
   "cell_type": "code",
   "execution_count": null,
   "metadata": {},
   "outputs": [],
   "source": [
    "weight = @chain olympics begin\n",
    "\n",
    "end"
   ]
  },
  {
   "cell_type": "code",
   "execution_count": null,
   "metadata": {},
   "outputs": [],
   "source": [
    "colors = Makie.wong_colors()\n",
    "fig = Figure()\n",
    "ax = Axis(fig[1,1], xticks=([1, 2], [\"Summer\", \"Winter\"]))\n",
    "barplot!(ax, [1, 2, 1, 2], weight.Weight_mean, dodge = [1,1,2,2], color = colors[[1,1,2,2]])\n",
    "\n",
    "# Legend\n",
    "labels = [\"Male\", \"Female\"]\n",
    "elements = [PolyElement(polycolor = colors[i]) for i in 1:length(labels)]\n",
    "title = \"Sex\"\n",
    "\n",
    "Legend(fig[1,2], elements, labels, title)\n",
    "fig"
   ]
  },
  {
   "cell_type": "markdown",
   "metadata": {},
   "source": [
    "### Produce a line graph of the mean height of athletes per games over the years.  Graph men and women with different colors"
   ]
  },
  {
   "cell_type": "code",
   "execution_count": null,
   "metadata": {},
   "outputs": [],
   "source": [
    "height = @chain olympics begin\n",
    "  dropmissing(:Height)\n",
    "  groupby([:Year, :Sex])\n",
    "  combine(:Height => mean)\n",
    "  unstack(:Sex, :Height_mean)\n",
    "end\n",
    "\n",
    "fig = Figure()\n",
    "ax = Axis(fig[1,1])\n",
    "lines!(ax,height.Year, height.M)\n",
    "lines!(ax, height.Year, height.F)\n",
    "fig"
   ]
  },
  {
   "cell_type": "markdown",
   "metadata": {},
   "source": [
    "### Find the mean and standard deviation of ages of all summer athletes between 1950 and 1980."
   ]
  },
  {
   "cell_type": "code",
   "execution_count": null,
   "metadata": {},
   "outputs": [],
   "source": []
  }
 ],
 "metadata": {
  "kernelspec": {
   "display_name": "Julia 1.11.1",
   "language": "julia",
   "name": "julia-1.11"
  },
  "language_info": {
   "file_extension": ".jl",
   "mimetype": "application/julia",
   "name": "julia",
   "version": "1.11.1"
  }
 },
 "nbformat": 4,
 "nbformat_minor": 4
}
