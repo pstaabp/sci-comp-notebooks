{
 "cells": [
  {
   "cell_type": "code",
   "execution_count": null,
   "id": "3230c5b6-2aad-4395-b515-69c208b39748",
   "metadata": {},
   "outputs": [],
   "source": []
  }
 ],
 "metadata": {
  "kernelspec": {
   "display_name": "Julia 1.8.1",
   "language": "julia",
   "name": "julia-1.8"
  },
  "language_info": {
   "file_extension": ".jl",
   "mimetype": "application/julia",
   "name": "julia",
   "version": "1.8.1"
  }
 },
 "nbformat": 4,
 "nbformat_minor": 5
}
