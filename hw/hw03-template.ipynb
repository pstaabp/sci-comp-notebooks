{
 "cells": [
  {
   "cell_type": "markdown",
   "id": "c2089952-11d8-4d1d-8409-3183c03176ad",
   "metadata": {},
   "source": [
    "## HW #3\n",
    "### Name\n",
    "#### Date"
   ]
  },
  {
   "cell_type": "markdown",
   "id": "7ffa3a0f-cb87-4730-82b1-0fdb3f7b60a9",
   "metadata": {},
   "source": [
    "# Problem 1\n",
    "This problem examines the factorial function that we saw in class."
   ]
  },
  {
   "cell_type": "markdown",
   "id": "e28f09ea-e50d-40ec-8c4b-57f2b46274b6",
   "metadata": {},
   "source": [
    "#### 1a)\n",
    "\n",
    "Copy the recursive and non-recursive factorial functions from the class and make sure they are called `fact` and `factr` respectively.  "
   ]
  },
  {
   "cell_type": "markdown",
   "id": "104efec1-c952-4846-8e3b-9a932fcce78f",
   "metadata": {},
   "source": [
    "#### 1b)\n",
    "What is the largest value of $n$ that you can compute using `Int64` within the function?  Is it the same for both? What happens when you input larger values of $n$?"
   ]
  },
  {
   "cell_type": "markdown",
   "id": "3bb462a8-e972-472f-a6f4-49aaee19c33a",
   "metadata": {},
   "source": [
    "#### 1c)\n",
    "Find the time to run of each function using the `@btime` macro (part of the `BenchmarkTools` package) for the value of $n$ in part (b)? Which is faster and by what percentage?\n"
   ]
  },
  {
   "cell_type": "markdown",
   "id": "219f03d9-093b-42dc-b498-6e3150408280",
   "metadata": {},
   "source": [
    "## Problem 2\n",
    "Copy the functions `isHappy`, `isHappy2` and `isHappy3` from the notes to your homework and use the \\verb!@btime! macros for any timing in this problem.  "
   ]
  },
  {
   "cell_type": "markdown",
   "id": "f00e6bef-102a-46df-8e16-a4e790bce00e",
   "metadata": {},
   "source": [
    "#### 2a)\n",
    "Write down four 4-digit integers.  Time \\verb!isHappy!, \\verb!isHappy2! and \\verb!isHappy3! for each of these 4 numbers."
   ]
  },
  {
   "cell_type": "markdown",
   "id": "9f763992-3d27-4c35-abbb-9d63268ae0e9",
   "metadata": {},
   "source": [
    "#### 2b)\n",
    "Find the average time each of the three `happy` functions. "
   ]
  },
  {
   "cell_type": "markdown",
   "id": "c9e81a41-9d09-41c1-b453-c908e28c7d2b",
   "metadata": {},
   "source": [
    "#### 2c)\n",
    "Which of the happy functions ran fastest?  And determine the percentage fastest compared to the slowest one."
   ]
  },
  {
   "cell_type": "markdown",
   "id": "1a8ef4ec-c6b3-4c07-91f0-7f6c7e1a6ef6",
   "metadata": {},
   "source": [
    "## Problem 3\n",
    "In class, we spent quite a bit of time determine a fast algorithm for determining if an integer is prime.  Copy the fastest `findAllFactors` and `isPrime` functions. Also, adapt the `nextPrime` and `isPerfect` functions to use the fastest versions developed in class."
   ]
  },
  {
   "cell_type": "markdown",
   "id": "063d3882-2f72-4315-a5fc-8247107b7833",
   "metadata": {},
   "source": [
    "#### 3a)\n",
    "Produce a 1D array of all prime numbers less than 10,000.   How many prime numbers are there less than 10,000? \n"
   ]
  },
  {
   "cell_type": "markdown",
   "id": "1e9f280a-2b37-4172-bab9-978359e3332b",
   "metadata": {},
   "source": [
    "#### 3b)\n",
    "Find the smallest prime number bigger than 1,000,000,000,000 and determine the amount of time it takes to find it. "
   ]
  },
  {
   "cell_type": "markdown",
   "id": "95210098-1475-4bab-b51d-4ea4eda73d04",
   "metadata": {},
   "source": [
    "#### 3c)\n",
    "Find all perfect numbers less than 10,000. Be careful. The next perfect number larger than 10,000 is quite a bit larger and if you try to find it, you'll need to be patient, but you don't need to find it.  \n",
    "\n",
    "Hint: you can either adapt a `nextPerfect` function or apply the `isPerfect` function to all integers less than 10,000.  "
   ]
  },
  {
   "cell_type": "markdown",
   "id": "dd31b859-14ec-4ef2-8868-2fb9f89c5d1b",
   "metadata": {},
   "source": [
    "## Problem 4\n",
    "\n",
    "A Mersenne Prime is a prime number of the form \\\\(2^k − 1\\\\) where \\\\(k\\\\) is also prime.    For this problem use the `Primes` package and the `isprime` function. \n"
   ]
  },
  {
   "cell_type": "markdown",
   "id": "5e534fee-ed39-468a-a3b7-29551fa724b9",
   "metadata": {},
   "source": [
    "#### 4a)\n",
    "Find the first 6 Mersenne Prime numbers.   \n",
    "\n",
    "Hint: Start with a list of prime numbers, then check if $2^k-1$ is prime for each of the primes. "
   ]
  },
  {
   "cell_type": "markdown",
   "id": "f84080b6-252a-45c5-b505-a3ce8b6bf6b7",
   "metadata": {},
   "source": [
    "#### 4b) \n",
    "\n",
    "What is the largest value of $k$ such that $2^k-1$ is a valid 64-bit integer?  Find the largest Mersenne Prime that can be written as a 64-bit integer."
   ]
  },
  {
   "cell_type": "markdown",
   "id": "adcc60e6-72b2-4002-a100-ddb92bb63d16",
   "metadata": {},
   "source": [
    "#### 4c)\n",
    "Find the smallest Mersenne Prime with $k>2000$.  How many digits are in this prime?  \n",
    "\n",
    "Hint: to find a list of primes within a range, use the `filter` function.  Also make sure that you use `BigInt`s."
   ]
  },
  {
   "cell_type": "code",
   "execution_count": null,
   "id": "24b3f47b-3228-4cac-88cb-60fbd1426fb3",
   "metadata": {},
   "outputs": [],
   "source": []
  }
 ],
 "metadata": {
  "kernelspec": {
   "display_name": "Julia 1.8.1",
   "language": "julia",
   "name": "julia-1.8"
  },
  "language_info": {
   "file_extension": ".jl",
   "mimetype": "application/julia",
   "name": "julia",
   "version": "1.8.1"
  }
 },
 "nbformat": 4,
 "nbformat_minor": 5
}
