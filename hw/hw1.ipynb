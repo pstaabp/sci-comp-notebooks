{
 "cells": [
  {
   "cell_type": "markdown",
   "metadata": {},
   "source": [
    "## HW #1\n",
    "#### YOUR NAME HERE\n",
    "#### DATE"
   ]
  },
  {
   "cell_type": "markdown",
   "metadata": {},
   "source": [
    "### 1\n",
    "This problem examines the number types in Julia and operations on them. Let\n",
    "```\n",
    " n = 2          m = Int16(3)        p = Int128(-4)    q = UInt32(1234)   s = big(8)\n",
    " x = 3.0        y = Float16(2.0)    z = big(pi)       r = 1//6\n",
    "```"
   ]
  },
  {
   "cell_type": "markdown",
   "metadata": {},
   "source": [
    "### 1a) \n",
    "For each, enter the expression and use the `typeof` command to ensure that the type is what is expected."
   ]
  },
  {
   "cell_type": "markdown",
   "metadata": {},
   "source": [
    "#### 1b) Evaluate each of the following and determine the resulting type.\n",
    "* $n+m$\n",
    "* $2n+p$\n",
    "* $pq$\n",
    "* $n+r$\n",
    "* $xr$\n",
    "* $1/m$\n",
    "* $xy$\n",
    "* $\\frac{x}{z}$\n",
    "* $s+z$"
   ]
  },
  {
   "cell_type": "markdown",
   "metadata": {},
   "source": [
    "#### 1c)\n",
    "Explain for each operation why the resulting type correct? How in general can you determine the resulting type given two different input types? That is how can you predict the resulting type from the input types."
   ]
  },
  {
   "cell_type": "markdown",
   "metadata": {},
   "source": [
    "### Problem 2\n",
    "Consider the following datatypes in Julia: `UInt8, Unit64, Int16, Int128, BigInt, Float16, Float64, BigFloat, Rational, Irrational, Integer, Signed, Unsigned, AbstractFloat, AbstractRational, Complex, Number`\n",
    "\n",
    "Construct a tree diagram that explains these number types with the concrete types along the bottom and most abstract (Number) at the top.\n",
    "\n",
    "Use the `<:` operator to test if one is a subtype of another.\n",
    "\n",
    "Put your answer in a cell as markdown and make a code block with ```"
   ]
  },
  {
   "cell_type": "markdown",
   "metadata": {},
   "source": [
    "### Problem 3\n",
    "Recall the quadratic formula (or look it up, if needed.) that finds the roots of the general quadratic function\n",
    "$q(x)=ax^2 +bx+c$"
   ]
  },
  {
   "cell_type": "markdown",
   "metadata": {},
   "source": [
    "### 3a)\n",
    "Write a function that takes as input real coefficients $a, b$ and $c$ (and assign each a proper type) and returns two return values. Assume that the result is a pair of real numbers, that is there’s no need to handle complex pairs."
   ]
  },
  {
   "cell_type": "markdown",
   "metadata": {},
   "source": [
    "### 3b)\n",
    "Recall that if we know the two roots of a quadratic, say x1 and x2, we can construct the quadratic with those roots in the following way:\n",
    "\n",
    "$q(x) = (x − x1)(x − x2)$\n",
    "\n",
    "and the expand (FOIL). Create the following quadratics:\n",
    "- The roots are 0 and 6\n",
    "- The roots are −√5 and √5\n",
    "- The roots are 100 and 50.\n",
    "\n",
    "For this, do the FOILing by hand. For example, on the first FOIL $(x − 0)(x − 6) = x^2 − 6x$, so this is $a = 1, b = −6, c = 0.$\n",
    "\n",
    "Test your function on the 3 quadratics you found above and the results should be the roots given."
   ]
  },
  {
   "cell_type": "code",
   "execution_count": null,
   "metadata": {},
   "outputs": [],
   "source": []
  }
 ],
 "metadata": {
  "kernelspec": {
   "display_name": "Julia 1.8.0",
   "language": "julia",
   "name": "julia-1.8"
  },
  "language_info": {
   "file_extension": ".jl",
   "mimetype": "application/julia",
   "name": "julia",
   "version": "1.8.0"
  }
 },
 "nbformat": 4,
 "nbformat_minor": 4
}
