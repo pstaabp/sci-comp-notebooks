{
 "cells": [
  {
   "cell_type": "code",
   "execution_count": 1,
   "id": "38a90f43-7dcf-4457-a78e-12d25c9eac24",
   "metadata": {},
   "outputs": [
    {
     "data": {
      "text/plain": [
       "1//3"
      ]
     },
     "execution_count": 1,
     "metadata": {},
     "output_type": "execute_result"
    }
   ],
   "source": [
    "1-2//3"
   ]
  },
  {
   "cell_type": "code",
   "execution_count": 2,
   "id": "cfc4df98-794a-4581-be08-709e5d8489ae",
   "metadata": {},
   "outputs": [
    {
     "data": {
      "text/plain": [
       "7//9"
      ]
     },
     "execution_count": 2,
     "metadata": {},
     "output_type": "execute_result"
    }
   ],
   "source": [
    "1-2//3+4//9"
   ]
  },
  {
   "cell_type": "code",
   "execution_count": 3,
   "id": "dd9e1399-f73e-4227-8a2e-859ec4e9d9db",
   "metadata": {},
   "outputs": [
    {
     "data": {
      "text/plain": [
       "13//27"
      ]
     },
     "execution_count": 3,
     "metadata": {},
     "output_type": "execute_result"
    }
   ],
   "source": [
    "1-2//3+4//9-8//27"
   ]
  },
  {
   "cell_type": "code",
   "execution_count": 4,
   "id": "79a6ac23-fe8e-4281-b24b-f2ab81c0ade6",
   "metadata": {},
   "outputs": [
    {
     "data": {
      "text/plain": [
       "55//81"
      ]
     },
     "execution_count": 4,
     "metadata": {},
     "output_type": "execute_result"
    }
   ],
   "source": [
    "1-2//3+4//9-8//27+16//81"
   ]
  },
  {
   "cell_type": "code",
   "execution_count": 5,
   "id": "b6109d35-6f92-4d0f-a872-5fc669afb914",
   "metadata": {},
   "outputs": [
    {
     "data": {
      "text/plain": [
       "133//243"
      ]
     },
     "execution_count": 5,
     "metadata": {},
     "output_type": "execute_result"
    }
   ],
   "source": [
    "1-2//3+4//9-8//27+16//81 - 32//3^5"
   ]
  },
  {
   "cell_type": "code",
   "execution_count": 6,
   "id": "5d0b267f-0a9f-428b-830c-9b9a1137fe23",
   "metadata": {},
   "outputs": [
    {
     "data": {
      "text/plain": [
       "463//729"
      ]
     },
     "execution_count": 6,
     "metadata": {},
     "output_type": "execute_result"
    }
   ],
   "source": [
    "1-2//3+4//9-8//27+16//81 - 2^5//3^5 + 2^6//3^6"
   ]
  },
  {
   "cell_type": "code",
   "execution_count": null,
   "id": "7e57fc09-93a4-4dcf-96c5-37a509af4177",
   "metadata": {},
   "outputs": [],
   "source": []
  }
 ],
 "metadata": {
  "kernelspec": {
   "display_name": "Julia 1.8.1",
   "language": "julia",
   "name": "julia-1.8"
  },
  "language_info": {
   "file_extension": ".jl",
   "mimetype": "application/julia",
   "name": "julia",
   "version": "1.8.1"
  }
 },
 "nbformat": 4,
 "nbformat_minor": 5
}
