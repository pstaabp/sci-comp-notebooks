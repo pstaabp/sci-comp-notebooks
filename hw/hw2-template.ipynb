{
 "cells": [
  {
   "cell_type": "markdown",
   "id": "58fc49ec-0792-4ba0-8e7f-0a7ff59e7854",
   "metadata": {},
   "source": [
    "## HW #2\n",
    "### Name\n",
    "#### Date"
   ]
  },
  {
   "cell_type": "markdown",
   "id": "f3831902-673d-4dfb-a511-1122566c97e5",
   "metadata": {
    "tags": []
   },
   "source": [
    "### 1\n",
    "\n",
    "A triangle wave function is a mathematical function that looks like:\n",
    "```\n",
    "\\/\\/\\/\\/\\/\\/\\/\\/\n",
    "```\n",
    "(see the pdf on blackboard) and continues for all $x$. Write a julia function that calculates this function and show some code that you tested it. That is, you should write a function that take in any real number and returns the height of the curve. For example $f(−0.5) = 0.5, f(1.25) = 0.75$, and $f(−3) = 1$. Hint: the modulo function `mod` can be quite helpful. For example, `5.5 % 2.0` returns `1.5`, so the height at `5.5` is the same as the height at `1.5`.\n",
    "\n",
    "It’s helpful to use a plot using the `Plots` packages and then `plot(f,-4.5,4.5)` as an example."
   ]
  },
  {
   "cell_type": "markdown",
   "id": "29446af8-6b98-4917-b40b-bfaa8f1b69c2",
   "metadata": {},
   "source": [
    "### 2\n",
    "\n",
    "Revisit problem #3 on HW #1. Recall that if we have a quadratic function\n",
    "\n",
    "$$q(x)=ax^2 +bx+c$$\n",
    "\n",
    "then the discriminant is defined as $d = b^2 − 4ac$. There are three types of solutions depending on if d < 0, d = 0 or d > 0.\n",
    "\n",
    "Write a julia function that solves the quadratic equation as an input of the three coefficients and returns the solution as either two distinct real numbers, one real number or two complex numbers. \n",
    "\n",
    "Calculate an example for each of the three types of solution."
   ]
  },
  {
   "cell_type": "markdown",
   "id": "e913e8f5-76aa-4b24-ad74-6f0321d1acf0",
   "metadata": {},
   "source": [
    "### 3\n",
    "This problem tests the multiple dispatch nature of Julia. We will write functions that calculate the distance between two points in one, two and three dimensions. All numbers should be type Real. Call each function `distance` with different number and type of arguments. Particularly:"
   ]
  },
  {
   "cell_type": "markdown",
   "id": "89665ce8-481f-475b-9fc9-2af637d88f30",
   "metadata": {},
   "source": [
    "#### 3a)\n",
    "Write a function that passes in two numbers that are on the x-axis. Calculated the distance between the points."
   ]
  },
  {
   "cell_type": "code",
   "execution_count": null,
   "id": "3352d23d-fc48-411e-b747-0fe061208637",
   "metadata": {},
   "outputs": [],
   "source": [
    "distance(x1::Real,y1::Real) = "
   ]
  },
  {
   "cell_type": "markdown",
   "id": "bb849aa0-5a66-458d-958a-ea01e805d811",
   "metadata": {},
   "source": [
    "#### 3b)\n",
    "Write a function that passes in two points (2D) and calculates the distance. The order should be x1, y1, x2, y2, so this is 4 numbers."
   ]
  },
  {
   "cell_type": "markdown",
   "id": "3cb07ac8-7867-4549-bef7-e241f4a5c3df",
   "metadata": {},
   "source": [
    "#### 3c)\n",
    "Write a function that passes in two points (3D) and calculates the distance. The order should be x1, y1, z1, x2, y2, z2, so this is 6 numbers."
   ]
  },
  {
   "cell_type": "markdown",
   "id": "ab0dc4cf-78ca-4910-b820-829daed3b514",
   "metadata": {},
   "source": [
    "#### 3d)\n",
    "Write a function that passes in two 2-tuples and calculates the distance. The tuples will act as points and the type should be Tuple{Real,Real}."
   ]
  },
  {
   "cell_type": "markdown",
   "id": "b79c11b3-ebc4-4fba-8821-65545e22c9bf",
   "metadata": {},
   "source": [
    "#### 3e)\n",
    "Write a function that passes in two 3-tuples and calculates the distance. The tuples will act as points and the type should be Tuple{Real,Real,Real}."
   ]
  },
  {
   "cell_type": "markdown",
   "id": "78a5043a-8394-4dd5-a81c-2ec47f543adf",
   "metadata": {},
   "source": [
    "Test each of the functions by using the appropriate input arguments.\n",
    "\n",
    "Note: this shows the nature of multiple dispatch but if one were to do this, there are better ways once we get\n",
    "to structs."
   ]
  },
  {
   "cell_type": "markdown",
   "id": "95919944-a6b6-4894-bbb5-72398cc06413",
   "metadata": {},
   "source": [
    "### 4. Create an array with\n",
    "```\n",
    "A = [m+n for n=1:10,m=1:6]\n",
    "```\n",
    "for testing in this problem. Hint: if you are having trouble with (a) and (c), start with part (e), which is a bit easier."
   ]
  },
  {
   "cell_type": "markdown",
   "id": "4ce3a967-5835-4523-9aea-0e0af7d83b86",
   "metadata": {},
   "source": [
    "#### 4a) \n",
    "Create a function that passes in a 2D integer array and returns a 1D integer array that in which each element is the row sum of the argument. Please use a nested for loop to do this. Test your function with the matrix A."
   ]
  },
  {
   "cell_type": "code",
   "execution_count": 5,
   "id": "7a430c41-2d36-411f-96ae-5ec9d667046f",
   "metadata": {},
   "outputs": [
    {
     "data": {
      "text/plain": [
       "rowSum (generic function with 1 method)"
      ]
     },
     "execution_count": 5,
     "metadata": {},
     "output_type": "execute_result"
    }
   ],
   "source": [
    "function rowSum(A::Matrix{Int})\n",
    "  # calc numRows and numCols\n",
    "  for i=1:numRows\n",
    "    for j=1:numCols\n",
    "      \n",
    "    end\n",
    "  end\n",
    "  v # vector of row sums\n",
    "end"
   ]
  },
  {
   "cell_type": "markdown",
   "id": "b1b8462f-bb18-46d8-9783-a963ab4f220a",
   "metadata": {},
   "source": [
    "#### 4b) \n",
    "Repeat (a) except use the `mapslices` function."
   ]
  },
  {
   "cell_type": "markdown",
   "id": "0ffb309f-47ef-4ba5-b924-f2d91b01891e",
   "metadata": {},
   "source": [
    "#### 4c) \n",
    "\n",
    "Create a function that passes in a 2D integer array and returns a 1D integer array that in which each element is the column sum of the argument. Please use nested for loops to do this. Test your function with the matrix A."
   ]
  },
  {
   "cell_type": "markdown",
   "id": "c0a74088-9aa9-4ae5-8f79-1a529bab1621",
   "metadata": {},
   "source": [
    "#### 4d) \n",
    "Repeat (d) except use the `mapslices` function."
   ]
  },
  {
   "cell_type": "markdown",
   "id": "2ef14476-26e1-4c34-9f38-d97022b19846",
   "metadata": {},
   "source": [
    "#### 4e) \n",
    "Create a function that sums all of the elements of a 2D integer array. Test your function with the matrix\n",
    "A above and you can test your results with the built-in `sum` function."
   ]
  }
 ],
 "metadata": {
  "kernelspec": {
   "display_name": "Julia 1.8.0",
   "language": "julia",
   "name": "julia-1.8"
  },
  "language_info": {
   "file_extension": ".jl",
   "mimetype": "application/julia",
   "name": "julia",
   "version": "1.8.0"
  }
 },
 "nbformat": 4,
 "nbformat_minor": 5
}
